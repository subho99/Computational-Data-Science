{
  "nbformat": 4,
  "nbformat_minor": 5,
  "metadata": {
    "kernelspec": {
      "display_name": "Python 3",
      "language": "python",
      "name": "python3"
    },
    "language_info": {
      "codemirror_mode": {
        "name": "ipython",
        "version": 3
      },
      "file_extension": ".py",
      "mimetype": "text/x-python",
      "name": "python",
      "nbconvert_exporter": "python",
      "pygments_lexer": "ipython3",
      "version": "3.9.2"
    },
    "colab": {
      "provenance": [],
      "include_colab_link": true
    }
  },
  "cells": [
    {
      "cell_type": "markdown",
      "metadata": {
        "id": "view-in-github",
        "colab_type": "text"
      },
      "source": [
        "<a href=\"https://colab.research.google.com/github/subho99/Computational-Data-Science/blob/main/SubhajitBasistha_M2_NB_MiniProject_2_Credit_risk_modelling_Logistic_Regression.ipynb\" target=\"_parent\"><img src=\"https://colab.research.google.com/assets/colab-badge.svg\" alt=\"Open In Colab\"/></a>"
      ]
    },
    {
      "cell_type": "markdown",
      "metadata": {
        "id": "associate-sunset"
      },
      "source": [
        "# Advanced Certification Program in Computational Data Science\n",
        "## A program by IISc and TalentSprint\n",
        "### Mini-Project: Credit risk modelling using Logistic Regression"
      ],
      "id": "associate-sunset"
    },
    {
      "cell_type": "markdown",
      "metadata": {
        "id": "handled-tooth"
      },
      "source": [
        "## Problem Statement"
      ],
      "id": "handled-tooth"
    },
    {
      "cell_type": "markdown",
      "metadata": {
        "id": "accessory-watts"
      },
      "source": [
        "Predict the loan defaulters using a Logistic Regression model on the credit risk data and calculate credit scores"
      ],
      "id": "accessory-watts"
    },
    {
      "cell_type": "markdown",
      "metadata": {
        "id": "twenty-indonesia"
      },
      "source": [
        "## Learning Objectives"
      ],
      "id": "twenty-indonesia"
    },
    {
      "cell_type": "markdown",
      "metadata": {
        "id": "honest-friendship"
      },
      "source": [
        "At the end of the mini-project, you will be able to :\n",
        "\n",
        "* perform data exploration, preprocessing and visualization\n",
        "* implement Logistic Regression using manual code or using sklearn library\n",
        "* evaluate the model using appropriate performance metrics\n",
        "* develop a credit scoring system"
      ],
      "id": "honest-friendship"
    },
    {
      "cell_type": "markdown",
      "metadata": {
        "id": "lesbian-bottom"
      },
      "source": [
        "## Dataset"
      ],
      "id": "lesbian-bottom"
    },
    {
      "cell_type": "markdown",
      "metadata": {
        "id": "fixed-trainer"
      },
      "source": [
        "The dataset chosen for this mini-project is the [Give Me Some Credit](https://cdn.iisc.talentsprint.com/CDS/Give_me_some_credit_BigML.pdf) dataset which can be used to build models for predicting loan repayment defaulters\n",
        "#### Datafields\n",
        "\n",
        "- **SeriousDlqin2yrs:** Person experienced 90 days past due delinquency or worse\n",
        "- **RevolvingUtilizationOfUnsecuredLines:** Total balance on credit cards and personal lines of credit except real estate and no installment debt like car loans divided by the sum of credit limits\n",
        "- **age:** Age of borrower in years\n",
        "- **NumberOfTime30-59DaysPastDueNotWorse:** Number of times borrower has been 30-59 days past due but no worse in the last 2 years.\n",
        "- **DebtRatio:** Monthly debt payments, alimony,living costs divided by monthy gross income\n",
        "- **MonthlyIncome:** Monthly income\n",
        "- **NumberOfOpenCreditLinesAndLoans:** Number of Open loans (installment like car loan or mortgage) and Lines of credit (e.g. credit cards)\n",
        "- **NumberOfTimes90DaysLate:** Number of times borrower has been 90 days or more past due.\n",
        "- **NumberRealEstateLoansOrLines:**\tNumber of mortgage and real estate loans including home equity lines of credit\n",
        "- **NumberOfTime60-89DaysPastDueNotWorse:**\tNumber of times borrower has been 60-89 days past due but no worse in the last 2 years.\n",
        "- **NumberOfDependents:** Number of dependents in family excluding themselves (spouse, children etc.)"
      ],
      "id": "fixed-trainer"
    },
    {
      "cell_type": "markdown",
      "metadata": {
        "id": "rapid-hierarchy"
      },
      "source": [
        "## Information"
      ],
      "id": "rapid-hierarchy"
    },
    {
      "cell_type": "markdown",
      "metadata": {
        "id": "prescribed-matter"
      },
      "source": [
        "Credit risk arises when a corporate or individual borrower fails to meet their debt obligations. From the lender's perspective, credit risk could disrupt its cash flows or increase collection costs, since the lender may be forced to hire a debt collection agency to enforce the collection. The loss may be partial or complete, where the lender incurs a loss of part of the loan or the entire loan extended to the borrower.\n",
        "\n",
        "Credit scoring algorithms, which calculate the probability of default, are the best methods that banks use to determine whether or not a loan should be granted. \n",
        "\n",
        "In order to build a credit scoring system, the following feature transformations are performed:\n",
        "\n",
        "#### Weight of Evidence and Information value\n",
        "\n",
        "Logistic regression is a commonly used technique in credit scoring for solving binary classification problems. Prior to model fitting, another iteration of variable selection is valuable to check if the newly WOE transformed variables are still good model candidates. Preferred candidate variables are those with higher information value having a linear relationship with the dependent variable, have good coverage across all categories, have a normal distribution, contain a notable overall contribution, and are relevant to the business.\n",
        "\n",
        "**Weight of evidence** (WOE) is a powerful tool for feature representation and evaluation in data science. WOE can provide interpret able transformation to both categorical and numerical features. The weight of evidence tells the predictive power of an independent variable in relation to the dependent variable. Since it evolved from credit scoring world, it is generally described as a measure of the separation of good and bad customers. \"Bad Customers\" refers to the customers who defaulted on a loan. and \"Good Customers\" refers to the customers who paid back loan. WOE can be calculated using the below formula:\n",
        "\n",
        "$$WOE = ln \\left( \\frac{\\%   of  Non\\_Events}{\\%   of  Events} \\right)$$\n",
        "\n",
        "Steps to calculate WOE\n",
        "* For a continuous variable, split data into 10 parts (or lesser depending on the distribution).\n",
        "* Calculate the number of events and non-events in each group (bin)\n",
        "* Calculate the % of events and % of non-events in each group.\n",
        "* Calculate WOE by taking natural log of division of % of non-events and % of events\n",
        "\n",
        "**Information value** is one of the most useful technique to select important variables in a predictive model. It helps to rank variables on the basis of their importance. The IV is calculated using the following formula :\n",
        "$$IV = ∑ (\\% of Non\\_Events - \\% of Events) * WOE$$\n",
        "\n",
        "Read more about `WOE` and `IV` from the following [link](https://medium.com/@yanhuiliu104/credit-scoring-scorecard-development-process-8554c3492b2b)"
      ],
      "id": "prescribed-matter"
    },
    {
      "cell_type": "markdown",
      "metadata": {
        "id": "operating-latter"
      },
      "source": [
        "## Grading = 10 Points"
      ],
      "id": "operating-latter"
    },
    {
      "cell_type": "markdown",
      "metadata": {
        "id": "caring-syndrome"
      },
      "source": [
        "### Download the dataset"
      ],
      "id": "caring-syndrome"
    },
    {
      "cell_type": "code",
      "metadata": {
        "id": "comparable-delay",
        "cellView": "form",
        "colab": {
          "base_uri": "https://localhost:8080/"
        },
        "outputId": "41b6aeb0-7297-4230-f1cb-8853e7446d29"
      },
      "source": [
        "#@title Download Dataset\n",
        "!wget -qq https://cdn.iisc.talentsprint.com/CDS/MiniProjects/GiveMeSomeCredit.csv\n",
        "!pip -qq install xverse\n",
        "print(\"Data Downloaded Successfully!\")"
      ],
      "id": "comparable-delay",
      "execution_count": null,
      "outputs": [
        {
          "output_type": "stream",
          "name": "stdout",
          "text": [
            "Data Downloaded Successfully!\n"
          ]
        }
      ]
    },
    {
      "cell_type": "markdown",
      "metadata": {
        "id": "appreciated-pattern"
      },
      "source": [
        "### Import Neccesary Packages"
      ],
      "id": "appreciated-pattern"
    },
    {
      "cell_type": "code",
      "metadata": {
        "id": "loose-marsh"
      },
      "source": [
        "import pandas as pd\n",
        "import numpy as np\n",
        "from sklearn.model_selection import train_test_split\n",
        "from sklearn.linear_model import LogisticRegression\n",
        "from sklearn import metrics\n",
        "import seaborn as sns\n",
        "from matplotlib import pyplot as plt\n",
        "import math\n",
        "from xverse.transformer import MonotonicBinning,WOE\n",
        "%matplotlib inline"
      ],
      "id": "loose-marsh",
      "execution_count": null,
      "outputs": []
    },
    {
      "cell_type": "markdown",
      "metadata": {
        "id": "compressed-reflection"
      },
      "source": [
        "### Load the dataset"
      ],
      "id": "compressed-reflection"
    },
    {
      "cell_type": "code",
      "metadata": {
        "id": "fatty-graph",
        "colab": {
          "base_uri": "https://localhost:8080/",
          "height": 288
        },
        "outputId": "809b5a58-925e-4c35-e5bb-e5ebe7c7a17b"
      },
      "source": [
        "# YOUR CODE HERE\n",
        "GiveMeSomeCredit_data = pd.read_csv(\"GiveMeSomeCredit.csv\")\n",
        "GiveMeSomeCredit_data.head()"
      ],
      "id": "fatty-graph",
      "execution_count": null,
      "outputs": [
        {
          "output_type": "execute_result",
          "data": {
            "text/plain": [
              "   Unnamed: 0  SeriousDlqin2yrs  RevolvingUtilizationOfUnsecuredLines  age  \\\n",
              "0           1                 1                              0.766127   45   \n",
              "1           2                 0                              0.957151   40   \n",
              "2           3                 0                              0.658180   38   \n",
              "3           4                 0                              0.233810   30   \n",
              "4           5                 0                              0.907239   49   \n",
              "\n",
              "   NumberOfTime30-59DaysPastDueNotWorse  DebtRatio  MonthlyIncome  \\\n",
              "0                                     2   0.802982         9120.0   \n",
              "1                                     0   0.121876         2600.0   \n",
              "2                                     1   0.085113         3042.0   \n",
              "3                                     0   0.036050         3300.0   \n",
              "4                                     1   0.024926        63588.0   \n",
              "\n",
              "   NumberOfOpenCreditLinesAndLoans  NumberOfTimes90DaysLate  \\\n",
              "0                               13                        0   \n",
              "1                                4                        0   \n",
              "2                                2                        1   \n",
              "3                                5                        0   \n",
              "4                                7                        0   \n",
              "\n",
              "   NumberRealEstateLoansOrLines  NumberOfTime60-89DaysPastDueNotWorse  \\\n",
              "0                             6                                     0   \n",
              "1                             0                                     0   \n",
              "2                             0                                     0   \n",
              "3                             0                                     0   \n",
              "4                             1                                     0   \n",
              "\n",
              "   NumberOfDependents  \n",
              "0                 2.0  \n",
              "1                 1.0  \n",
              "2                 0.0  \n",
              "3                 0.0  \n",
              "4                 0.0  "
            ],
            "text/html": [
              "\n",
              "  <div id=\"df-ba9ee255-65b4-4256-9f53-51b733c689c1\">\n",
              "    <div class=\"colab-df-container\">\n",
              "      <div>\n",
              "<style scoped>\n",
              "    .dataframe tbody tr th:only-of-type {\n",
              "        vertical-align: middle;\n",
              "    }\n",
              "\n",
              "    .dataframe tbody tr th {\n",
              "        vertical-align: top;\n",
              "    }\n",
              "\n",
              "    .dataframe thead th {\n",
              "        text-align: right;\n",
              "    }\n",
              "</style>\n",
              "<table border=\"1\" class=\"dataframe\">\n",
              "  <thead>\n",
              "    <tr style=\"text-align: right;\">\n",
              "      <th></th>\n",
              "      <th>Unnamed: 0</th>\n",
              "      <th>SeriousDlqin2yrs</th>\n",
              "      <th>RevolvingUtilizationOfUnsecuredLines</th>\n",
              "      <th>age</th>\n",
              "      <th>NumberOfTime30-59DaysPastDueNotWorse</th>\n",
              "      <th>DebtRatio</th>\n",
              "      <th>MonthlyIncome</th>\n",
              "      <th>NumberOfOpenCreditLinesAndLoans</th>\n",
              "      <th>NumberOfTimes90DaysLate</th>\n",
              "      <th>NumberRealEstateLoansOrLines</th>\n",
              "      <th>NumberOfTime60-89DaysPastDueNotWorse</th>\n",
              "      <th>NumberOfDependents</th>\n",
              "    </tr>\n",
              "  </thead>\n",
              "  <tbody>\n",
              "    <tr>\n",
              "      <th>0</th>\n",
              "      <td>1</td>\n",
              "      <td>1</td>\n",
              "      <td>0.766127</td>\n",
              "      <td>45</td>\n",
              "      <td>2</td>\n",
              "      <td>0.802982</td>\n",
              "      <td>9120.0</td>\n",
              "      <td>13</td>\n",
              "      <td>0</td>\n",
              "      <td>6</td>\n",
              "      <td>0</td>\n",
              "      <td>2.0</td>\n",
              "    </tr>\n",
              "    <tr>\n",
              "      <th>1</th>\n",
              "      <td>2</td>\n",
              "      <td>0</td>\n",
              "      <td>0.957151</td>\n",
              "      <td>40</td>\n",
              "      <td>0</td>\n",
              "      <td>0.121876</td>\n",
              "      <td>2600.0</td>\n",
              "      <td>4</td>\n",
              "      <td>0</td>\n",
              "      <td>0</td>\n",
              "      <td>0</td>\n",
              "      <td>1.0</td>\n",
              "    </tr>\n",
              "    <tr>\n",
              "      <th>2</th>\n",
              "      <td>3</td>\n",
              "      <td>0</td>\n",
              "      <td>0.658180</td>\n",
              "      <td>38</td>\n",
              "      <td>1</td>\n",
              "      <td>0.085113</td>\n",
              "      <td>3042.0</td>\n",
              "      <td>2</td>\n",
              "      <td>1</td>\n",
              "      <td>0</td>\n",
              "      <td>0</td>\n",
              "      <td>0.0</td>\n",
              "    </tr>\n",
              "    <tr>\n",
              "      <th>3</th>\n",
              "      <td>4</td>\n",
              "      <td>0</td>\n",
              "      <td>0.233810</td>\n",
              "      <td>30</td>\n",
              "      <td>0</td>\n",
              "      <td>0.036050</td>\n",
              "      <td>3300.0</td>\n",
              "      <td>5</td>\n",
              "      <td>0</td>\n",
              "      <td>0</td>\n",
              "      <td>0</td>\n",
              "      <td>0.0</td>\n",
              "    </tr>\n",
              "    <tr>\n",
              "      <th>4</th>\n",
              "      <td>5</td>\n",
              "      <td>0</td>\n",
              "      <td>0.907239</td>\n",
              "      <td>49</td>\n",
              "      <td>1</td>\n",
              "      <td>0.024926</td>\n",
              "      <td>63588.0</td>\n",
              "      <td>7</td>\n",
              "      <td>0</td>\n",
              "      <td>1</td>\n",
              "      <td>0</td>\n",
              "      <td>0.0</td>\n",
              "    </tr>\n",
              "  </tbody>\n",
              "</table>\n",
              "</div>\n",
              "      <button class=\"colab-df-convert\" onclick=\"convertToInteractive('df-ba9ee255-65b4-4256-9f53-51b733c689c1')\"\n",
              "              title=\"Convert this dataframe to an interactive table.\"\n",
              "              style=\"display:none;\">\n",
              "        \n",
              "  <svg xmlns=\"http://www.w3.org/2000/svg\" height=\"24px\"viewBox=\"0 0 24 24\"\n",
              "       width=\"24px\">\n",
              "    <path d=\"M0 0h24v24H0V0z\" fill=\"none\"/>\n",
              "    <path d=\"M18.56 5.44l.94 2.06.94-2.06 2.06-.94-2.06-.94-.94-2.06-.94 2.06-2.06.94zm-11 1L8.5 8.5l.94-2.06 2.06-.94-2.06-.94L8.5 2.5l-.94 2.06-2.06.94zm10 10l.94 2.06.94-2.06 2.06-.94-2.06-.94-.94-2.06-.94 2.06-2.06.94z\"/><path d=\"M17.41 7.96l-1.37-1.37c-.4-.4-.92-.59-1.43-.59-.52 0-1.04.2-1.43.59L10.3 9.45l-7.72 7.72c-.78.78-.78 2.05 0 2.83L4 21.41c.39.39.9.59 1.41.59.51 0 1.02-.2 1.41-.59l7.78-7.78 2.81-2.81c.8-.78.8-2.07 0-2.86zM5.41 20L4 18.59l7.72-7.72 1.47 1.35L5.41 20z\"/>\n",
              "  </svg>\n",
              "      </button>\n",
              "      \n",
              "  <style>\n",
              "    .colab-df-container {\n",
              "      display:flex;\n",
              "      flex-wrap:wrap;\n",
              "      gap: 12px;\n",
              "    }\n",
              "\n",
              "    .colab-df-convert {\n",
              "      background-color: #E8F0FE;\n",
              "      border: none;\n",
              "      border-radius: 50%;\n",
              "      cursor: pointer;\n",
              "      display: none;\n",
              "      fill: #1967D2;\n",
              "      height: 32px;\n",
              "      padding: 0 0 0 0;\n",
              "      width: 32px;\n",
              "    }\n",
              "\n",
              "    .colab-df-convert:hover {\n",
              "      background-color: #E2EBFA;\n",
              "      box-shadow: 0px 1px 2px rgba(60, 64, 67, 0.3), 0px 1px 3px 1px rgba(60, 64, 67, 0.15);\n",
              "      fill: #174EA6;\n",
              "    }\n",
              "\n",
              "    [theme=dark] .colab-df-convert {\n",
              "      background-color: #3B4455;\n",
              "      fill: #D2E3FC;\n",
              "    }\n",
              "\n",
              "    [theme=dark] .colab-df-convert:hover {\n",
              "      background-color: #434B5C;\n",
              "      box-shadow: 0px 1px 3px 1px rgba(0, 0, 0, 0.15);\n",
              "      filter: drop-shadow(0px 1px 2px rgba(0, 0, 0, 0.3));\n",
              "      fill: #FFFFFF;\n",
              "    }\n",
              "  </style>\n",
              "\n",
              "      <script>\n",
              "        const buttonEl =\n",
              "          document.querySelector('#df-ba9ee255-65b4-4256-9f53-51b733c689c1 button.colab-df-convert');\n",
              "        buttonEl.style.display =\n",
              "          google.colab.kernel.accessAllowed ? 'block' : 'none';\n",
              "\n",
              "        async function convertToInteractive(key) {\n",
              "          const element = document.querySelector('#df-ba9ee255-65b4-4256-9f53-51b733c689c1');\n",
              "          const dataTable =\n",
              "            await google.colab.kernel.invokeFunction('convertToInteractive',\n",
              "                                                     [key], {});\n",
              "          if (!dataTable) return;\n",
              "\n",
              "          const docLinkHtml = 'Like what you see? Visit the ' +\n",
              "            '<a target=\"_blank\" href=https://colab.research.google.com/notebooks/data_table.ipynb>data table notebook</a>'\n",
              "            + ' to learn more about interactive tables.';\n",
              "          element.innerHTML = '';\n",
              "          dataTable['output_type'] = 'display_data';\n",
              "          await google.colab.output.renderOutput(dataTable, element);\n",
              "          const docLink = document.createElement('div');\n",
              "          docLink.innerHTML = docLinkHtml;\n",
              "          element.appendChild(docLink);\n",
              "        }\n",
              "      </script>\n",
              "    </div>\n",
              "  </div>\n",
              "  "
            ]
          },
          "metadata": {},
          "execution_count": 88
        }
      ]
    },
    {
      "cell_type": "markdown",
      "metadata": {
        "id": "experienced-sleeping"
      },
      "source": [
        "#### Describe the all statistical properties of the train dataset"
      ],
      "id": "experienced-sleeping"
    },
    {
      "cell_type": "code",
      "metadata": {
        "id": "greek-methodology",
        "colab": {
          "base_uri": "https://localhost:8080/",
          "height": 382
        },
        "outputId": "7c05c576-1d85-4ca3-bc54-c8d13b867ebc"
      },
      "source": [
        "# YOUR CODE HERE\n",
        "GiveMeSomeCredit_data.describe()"
      ],
      "id": "greek-methodology",
      "execution_count": null,
      "outputs": [
        {
          "output_type": "execute_result",
          "data": {
            "text/plain": [
              "          Unnamed: 0  SeriousDlqin2yrs  RevolvingUtilizationOfUnsecuredLines  \\\n",
              "count  150000.000000     150000.000000                         150000.000000   \n",
              "mean    75000.500000          0.066840                              6.048438   \n",
              "std     43301.414527          0.249746                            249.755371   \n",
              "min         1.000000          0.000000                              0.000000   \n",
              "25%     37500.750000          0.000000                              0.029867   \n",
              "50%     75000.500000          0.000000                              0.154181   \n",
              "75%    112500.250000          0.000000                              0.559046   \n",
              "max    150000.000000          1.000000                          50708.000000   \n",
              "\n",
              "                 age  NumberOfTime30-59DaysPastDueNotWorse      DebtRatio  \\\n",
              "count  150000.000000                         150000.000000  150000.000000   \n",
              "mean       52.295207                              0.421033     353.005076   \n",
              "std        14.771866                              4.192781    2037.818523   \n",
              "min         0.000000                              0.000000       0.000000   \n",
              "25%        41.000000                              0.000000       0.175074   \n",
              "50%        52.000000                              0.000000       0.366508   \n",
              "75%        63.000000                              0.000000       0.868254   \n",
              "max       109.000000                             98.000000  329664.000000   \n",
              "\n",
              "       MonthlyIncome  NumberOfOpenCreditLinesAndLoans  \\\n",
              "count   1.202690e+05                    150000.000000   \n",
              "mean    6.670221e+03                         8.452760   \n",
              "std     1.438467e+04                         5.145951   \n",
              "min     0.000000e+00                         0.000000   \n",
              "25%     3.400000e+03                         5.000000   \n",
              "50%     5.400000e+03                         8.000000   \n",
              "75%     8.249000e+03                        11.000000   \n",
              "max     3.008750e+06                        58.000000   \n",
              "\n",
              "       NumberOfTimes90DaysLate  NumberRealEstateLoansOrLines  \\\n",
              "count            150000.000000                 150000.000000   \n",
              "mean                  0.265973                      1.018240   \n",
              "std                   4.169304                      1.129771   \n",
              "min                   0.000000                      0.000000   \n",
              "25%                   0.000000                      0.000000   \n",
              "50%                   0.000000                      1.000000   \n",
              "75%                   0.000000                      2.000000   \n",
              "max                  98.000000                     54.000000   \n",
              "\n",
              "       NumberOfTime60-89DaysPastDueNotWorse  NumberOfDependents  \n",
              "count                         150000.000000       146076.000000  \n",
              "mean                               0.240387            0.757222  \n",
              "std                                4.155179            1.115086  \n",
              "min                                0.000000            0.000000  \n",
              "25%                                0.000000            0.000000  \n",
              "50%                                0.000000            0.000000  \n",
              "75%                                0.000000            1.000000  \n",
              "max                               98.000000           20.000000  "
            ],
            "text/html": [
              "\n",
              "  <div id=\"df-0c2cea3a-5c8c-479c-ade7-c04718193aeb\">\n",
              "    <div class=\"colab-df-container\">\n",
              "      <div>\n",
              "<style scoped>\n",
              "    .dataframe tbody tr th:only-of-type {\n",
              "        vertical-align: middle;\n",
              "    }\n",
              "\n",
              "    .dataframe tbody tr th {\n",
              "        vertical-align: top;\n",
              "    }\n",
              "\n",
              "    .dataframe thead th {\n",
              "        text-align: right;\n",
              "    }\n",
              "</style>\n",
              "<table border=\"1\" class=\"dataframe\">\n",
              "  <thead>\n",
              "    <tr style=\"text-align: right;\">\n",
              "      <th></th>\n",
              "      <th>Unnamed: 0</th>\n",
              "      <th>SeriousDlqin2yrs</th>\n",
              "      <th>RevolvingUtilizationOfUnsecuredLines</th>\n",
              "      <th>age</th>\n",
              "      <th>NumberOfTime30-59DaysPastDueNotWorse</th>\n",
              "      <th>DebtRatio</th>\n",
              "      <th>MonthlyIncome</th>\n",
              "      <th>NumberOfOpenCreditLinesAndLoans</th>\n",
              "      <th>NumberOfTimes90DaysLate</th>\n",
              "      <th>NumberRealEstateLoansOrLines</th>\n",
              "      <th>NumberOfTime60-89DaysPastDueNotWorse</th>\n",
              "      <th>NumberOfDependents</th>\n",
              "    </tr>\n",
              "  </thead>\n",
              "  <tbody>\n",
              "    <tr>\n",
              "      <th>count</th>\n",
              "      <td>150000.000000</td>\n",
              "      <td>150000.000000</td>\n",
              "      <td>150000.000000</td>\n",
              "      <td>150000.000000</td>\n",
              "      <td>150000.000000</td>\n",
              "      <td>150000.000000</td>\n",
              "      <td>1.202690e+05</td>\n",
              "      <td>150000.000000</td>\n",
              "      <td>150000.000000</td>\n",
              "      <td>150000.000000</td>\n",
              "      <td>150000.000000</td>\n",
              "      <td>146076.000000</td>\n",
              "    </tr>\n",
              "    <tr>\n",
              "      <th>mean</th>\n",
              "      <td>75000.500000</td>\n",
              "      <td>0.066840</td>\n",
              "      <td>6.048438</td>\n",
              "      <td>52.295207</td>\n",
              "      <td>0.421033</td>\n",
              "      <td>353.005076</td>\n",
              "      <td>6.670221e+03</td>\n",
              "      <td>8.452760</td>\n",
              "      <td>0.265973</td>\n",
              "      <td>1.018240</td>\n",
              "      <td>0.240387</td>\n",
              "      <td>0.757222</td>\n",
              "    </tr>\n",
              "    <tr>\n",
              "      <th>std</th>\n",
              "      <td>43301.414527</td>\n",
              "      <td>0.249746</td>\n",
              "      <td>249.755371</td>\n",
              "      <td>14.771866</td>\n",
              "      <td>4.192781</td>\n",
              "      <td>2037.818523</td>\n",
              "      <td>1.438467e+04</td>\n",
              "      <td>5.145951</td>\n",
              "      <td>4.169304</td>\n",
              "      <td>1.129771</td>\n",
              "      <td>4.155179</td>\n",
              "      <td>1.115086</td>\n",
              "    </tr>\n",
              "    <tr>\n",
              "      <th>min</th>\n",
              "      <td>1.000000</td>\n",
              "      <td>0.000000</td>\n",
              "      <td>0.000000</td>\n",
              "      <td>0.000000</td>\n",
              "      <td>0.000000</td>\n",
              "      <td>0.000000</td>\n",
              "      <td>0.000000e+00</td>\n",
              "      <td>0.000000</td>\n",
              "      <td>0.000000</td>\n",
              "      <td>0.000000</td>\n",
              "      <td>0.000000</td>\n",
              "      <td>0.000000</td>\n",
              "    </tr>\n",
              "    <tr>\n",
              "      <th>25%</th>\n",
              "      <td>37500.750000</td>\n",
              "      <td>0.000000</td>\n",
              "      <td>0.029867</td>\n",
              "      <td>41.000000</td>\n",
              "      <td>0.000000</td>\n",
              "      <td>0.175074</td>\n",
              "      <td>3.400000e+03</td>\n",
              "      <td>5.000000</td>\n",
              "      <td>0.000000</td>\n",
              "      <td>0.000000</td>\n",
              "      <td>0.000000</td>\n",
              "      <td>0.000000</td>\n",
              "    </tr>\n",
              "    <tr>\n",
              "      <th>50%</th>\n",
              "      <td>75000.500000</td>\n",
              "      <td>0.000000</td>\n",
              "      <td>0.154181</td>\n",
              "      <td>52.000000</td>\n",
              "      <td>0.000000</td>\n",
              "      <td>0.366508</td>\n",
              "      <td>5.400000e+03</td>\n",
              "      <td>8.000000</td>\n",
              "      <td>0.000000</td>\n",
              "      <td>1.000000</td>\n",
              "      <td>0.000000</td>\n",
              "      <td>0.000000</td>\n",
              "    </tr>\n",
              "    <tr>\n",
              "      <th>75%</th>\n",
              "      <td>112500.250000</td>\n",
              "      <td>0.000000</td>\n",
              "      <td>0.559046</td>\n",
              "      <td>63.000000</td>\n",
              "      <td>0.000000</td>\n",
              "      <td>0.868254</td>\n",
              "      <td>8.249000e+03</td>\n",
              "      <td>11.000000</td>\n",
              "      <td>0.000000</td>\n",
              "      <td>2.000000</td>\n",
              "      <td>0.000000</td>\n",
              "      <td>1.000000</td>\n",
              "    </tr>\n",
              "    <tr>\n",
              "      <th>max</th>\n",
              "      <td>150000.000000</td>\n",
              "      <td>1.000000</td>\n",
              "      <td>50708.000000</td>\n",
              "      <td>109.000000</td>\n",
              "      <td>98.000000</td>\n",
              "      <td>329664.000000</td>\n",
              "      <td>3.008750e+06</td>\n",
              "      <td>58.000000</td>\n",
              "      <td>98.000000</td>\n",
              "      <td>54.000000</td>\n",
              "      <td>98.000000</td>\n",
              "      <td>20.000000</td>\n",
              "    </tr>\n",
              "  </tbody>\n",
              "</table>\n",
              "</div>\n",
              "      <button class=\"colab-df-convert\" onclick=\"convertToInteractive('df-0c2cea3a-5c8c-479c-ade7-c04718193aeb')\"\n",
              "              title=\"Convert this dataframe to an interactive table.\"\n",
              "              style=\"display:none;\">\n",
              "        \n",
              "  <svg xmlns=\"http://www.w3.org/2000/svg\" height=\"24px\"viewBox=\"0 0 24 24\"\n",
              "       width=\"24px\">\n",
              "    <path d=\"M0 0h24v24H0V0z\" fill=\"none\"/>\n",
              "    <path d=\"M18.56 5.44l.94 2.06.94-2.06 2.06-.94-2.06-.94-.94-2.06-.94 2.06-2.06.94zm-11 1L8.5 8.5l.94-2.06 2.06-.94-2.06-.94L8.5 2.5l-.94 2.06-2.06.94zm10 10l.94 2.06.94-2.06 2.06-.94-2.06-.94-.94-2.06-.94 2.06-2.06.94z\"/><path d=\"M17.41 7.96l-1.37-1.37c-.4-.4-.92-.59-1.43-.59-.52 0-1.04.2-1.43.59L10.3 9.45l-7.72 7.72c-.78.78-.78 2.05 0 2.83L4 21.41c.39.39.9.59 1.41.59.51 0 1.02-.2 1.41-.59l7.78-7.78 2.81-2.81c.8-.78.8-2.07 0-2.86zM5.41 20L4 18.59l7.72-7.72 1.47 1.35L5.41 20z\"/>\n",
              "  </svg>\n",
              "      </button>\n",
              "      \n",
              "  <style>\n",
              "    .colab-df-container {\n",
              "      display:flex;\n",
              "      flex-wrap:wrap;\n",
              "      gap: 12px;\n",
              "    }\n",
              "\n",
              "    .colab-df-convert {\n",
              "      background-color: #E8F0FE;\n",
              "      border: none;\n",
              "      border-radius: 50%;\n",
              "      cursor: pointer;\n",
              "      display: none;\n",
              "      fill: #1967D2;\n",
              "      height: 32px;\n",
              "      padding: 0 0 0 0;\n",
              "      width: 32px;\n",
              "    }\n",
              "\n",
              "    .colab-df-convert:hover {\n",
              "      background-color: #E2EBFA;\n",
              "      box-shadow: 0px 1px 2px rgba(60, 64, 67, 0.3), 0px 1px 3px 1px rgba(60, 64, 67, 0.15);\n",
              "      fill: #174EA6;\n",
              "    }\n",
              "\n",
              "    [theme=dark] .colab-df-convert {\n",
              "      background-color: #3B4455;\n",
              "      fill: #D2E3FC;\n",
              "    }\n",
              "\n",
              "    [theme=dark] .colab-df-convert:hover {\n",
              "      background-color: #434B5C;\n",
              "      box-shadow: 0px 1px 3px 1px rgba(0, 0, 0, 0.15);\n",
              "      filter: drop-shadow(0px 1px 2px rgba(0, 0, 0, 0.3));\n",
              "      fill: #FFFFFF;\n",
              "    }\n",
              "  </style>\n",
              "\n",
              "      <script>\n",
              "        const buttonEl =\n",
              "          document.querySelector('#df-0c2cea3a-5c8c-479c-ade7-c04718193aeb button.colab-df-convert');\n",
              "        buttonEl.style.display =\n",
              "          google.colab.kernel.accessAllowed ? 'block' : 'none';\n",
              "\n",
              "        async function convertToInteractive(key) {\n",
              "          const element = document.querySelector('#df-0c2cea3a-5c8c-479c-ade7-c04718193aeb');\n",
              "          const dataTable =\n",
              "            await google.colab.kernel.invokeFunction('convertToInteractive',\n",
              "                                                     [key], {});\n",
              "          if (!dataTable) return;\n",
              "\n",
              "          const docLinkHtml = 'Like what you see? Visit the ' +\n",
              "            '<a target=\"_blank\" href=https://colab.research.google.com/notebooks/data_table.ipynb>data table notebook</a>'\n",
              "            + ' to learn more about interactive tables.';\n",
              "          element.innerHTML = '';\n",
              "          dataTable['output_type'] = 'display_data';\n",
              "          await google.colab.output.renderOutput(dataTable, element);\n",
              "          const docLink = document.createElement('div');\n",
              "          docLink.innerHTML = docLinkHtml;\n",
              "          element.appendChild(docLink);\n",
              "        }\n",
              "      </script>\n",
              "    </div>\n",
              "  </div>\n",
              "  "
            ]
          },
          "metadata": {},
          "execution_count": 89
        }
      ]
    },
    {
      "cell_type": "markdown",
      "metadata": {
        "id": "christian-hamilton"
      },
      "source": [
        "### Pre-processing (1 point)"
      ],
      "id": "christian-hamilton"
    },
    {
      "cell_type": "markdown",
      "metadata": {
        "id": "global-decision"
      },
      "source": [
        "#### Remove unwanted columns"
      ],
      "id": "global-decision"
    },
    {
      "cell_type": "markdown",
      "source": [
        "**Observation-1:**\\\n",
        "**The Pandas dataset is having its by default row index. Additionally, there is the column 'Unnamed: 0' containing the similar information i.e., the index of each record.**\\\n",
        "**Hence, there is no need to keep the column 'Unnamed: 0'. So, we reject the column 'Unnamed: 0'**"
      ],
      "metadata": {
        "id": "tztVbIQValoF"
      },
      "id": "tztVbIQValoF"
    },
    {
      "cell_type": "code",
      "metadata": {
        "id": "pharmaceutical-latvia"
      },
      "source": [
        "# YOUR CODE HERE\n",
        "GiveMeSomeCredit_data.drop(\"Unnamed: 0\",axis=1,inplace=True)"
      ],
      "id": "pharmaceutical-latvia",
      "execution_count": null,
      "outputs": []
    },
    {
      "cell_type": "markdown",
      "metadata": {
        "id": "usual-elimination"
      },
      "source": [
        "#### Handle the missing data\n",
        "\n",
        "Find the how many null values in the dataset and fill with mean or remove."
      ],
      "id": "usual-elimination"
    },
    {
      "cell_type": "code",
      "metadata": {
        "id": "heated-findings",
        "colab": {
          "base_uri": "https://localhost:8080/"
        },
        "outputId": "62ff7d98-0f1e-4b22-e155-593d101c9a44"
      },
      "source": [
        "# YOUR CODE HERE\n",
        "GiveMeSomeCredit_data.isna().sum()"
      ],
      "id": "heated-findings",
      "execution_count": null,
      "outputs": [
        {
          "output_type": "execute_result",
          "data": {
            "text/plain": [
              "SeriousDlqin2yrs                            0\n",
              "RevolvingUtilizationOfUnsecuredLines        0\n",
              "age                                         0\n",
              "NumberOfTime30-59DaysPastDueNotWorse        0\n",
              "DebtRatio                                   0\n",
              "MonthlyIncome                           29731\n",
              "NumberOfOpenCreditLinesAndLoans             0\n",
              "NumberOfTimes90DaysLate                     0\n",
              "NumberRealEstateLoansOrLines                0\n",
              "NumberOfTime60-89DaysPastDueNotWorse        0\n",
              "NumberOfDependents                       3924\n",
              "dtype: int64"
            ]
          },
          "metadata": {},
          "execution_count": 91
        }
      ]
    },
    {
      "cell_type": "code",
      "source": [
        "# Replacing the missing values with the mean of corresponding feature\n",
        "credit_data_df= GiveMeSomeCredit_data.fillna((GiveMeSomeCredit_data.mean()))\n",
        "credit_data_df.isna().sum()"
      ],
      "metadata": {
        "colab": {
          "base_uri": "https://localhost:8080/"
        },
        "id": "KvW9oLtgwbdy",
        "outputId": "0ca976f5-bbc3-4f8a-8c87-fcc7e2d4cf26"
      },
      "id": "KvW9oLtgwbdy",
      "execution_count": null,
      "outputs": [
        {
          "output_type": "execute_result",
          "data": {
            "text/plain": [
              "SeriousDlqin2yrs                        0\n",
              "RevolvingUtilizationOfUnsecuredLines    0\n",
              "age                                     0\n",
              "NumberOfTime30-59DaysPastDueNotWorse    0\n",
              "DebtRatio                               0\n",
              "MonthlyIncome                           0\n",
              "NumberOfOpenCreditLinesAndLoans         0\n",
              "NumberOfTimes90DaysLate                 0\n",
              "NumberRealEstateLoansOrLines            0\n",
              "NumberOfTime60-89DaysPastDueNotWorse    0\n",
              "NumberOfDependents                      0\n",
              "dtype: int64"
            ]
          },
          "metadata": {},
          "execution_count": 92
        }
      ]
    },
    {
      "cell_type": "code",
      "source": [
        "credit_data_df.shape"
      ],
      "metadata": {
        "colab": {
          "base_uri": "https://localhost:8080/"
        },
        "id": "Vo0X-4HI8YZC",
        "outputId": "1e5e4b36-1f0e-4a74-ce21-1ac63ac470eb"
      },
      "id": "Vo0X-4HI8YZC",
      "execution_count": null,
      "outputs": [
        {
          "output_type": "execute_result",
          "data": {
            "text/plain": [
              "(150000, 11)"
            ]
          },
          "metadata": {},
          "execution_count": 93
        }
      ]
    },
    {
      "cell_type": "markdown",
      "metadata": {
        "id": "hispanic-reply"
      },
      "source": [
        "### EDA &  Visualization ( 1 point)"
      ],
      "id": "hispanic-reply"
    },
    {
      "cell_type": "markdown",
      "metadata": {
        "id": "standing-cheese"
      },
      "source": [
        "#### Calculate the percentage of the target lebels and visualize with a graph"
      ],
      "id": "standing-cheese"
    },
    {
      "cell_type": "code",
      "metadata": {
        "id": "attractive-hands",
        "colab": {
          "base_uri": "https://localhost:8080/",
          "height": 264
        },
        "outputId": "6701e642-e2e4-4512-bc65-a6867bbefaa9"
      },
      "source": [
        "# YOUR CODE HERE\n",
        "import numpy as np\n",
        "labels, counts = np.unique(credit_data_df['SeriousDlqin2yrs'], return_counts = True)\n",
        "percentage_SeriousDlqin2yrs = (counts / len(credit_data_df)) * 100\n",
        "\n",
        "# Creating a pie plot to show the percentage of the target lebels\n",
        "plt.pie(percentage_SeriousDlqin2yrs, labels = labels, autopct = '%1.1f%%')\n",
        "plt.title('Target Label Percentage')\n",
        "plt.show()"
      ],
      "id": "attractive-hands",
      "execution_count": null,
      "outputs": [
        {
          "output_type": "display_data",
          "data": {
            "text/plain": [
              "<Figure size 432x288 with 1 Axes>"
            ],
            "image/png": "[encoded data removed]"
          },
          "metadata": {}
        }
      ]
    },
    {
      "cell_type": "code",
      "source": [
        "# Utilizing Seaborn countplot\n",
        "sns.set(style = \"darkgrid\")\n",
        "ax = plt.gca()\n",
        "sns.countplot(x = \"SeriousDlqin2yrs\", data = credit_data_df)\n",
        "ax.set_xlabel(\"Unique Labels in SeriousDlqin2yrs\")\n",
        "ax.set_ylabel(\"Count\")\n",
        "\n",
        "# Displaying the percentage of each unique label\n",
        "total = float(len(credit_data_df))\n",
        "for g in ax.patches:\n",
        "    percentage = '{:.1f}%'.format(100 * g.get_height()/total)\n",
        "    x = g.get_x() + g.get_width() / 2 - 0.05\n",
        "    y = g.get_y() + g.get_height() + 6\n",
        "    ax.annotate(percentage, (x, y), size = 16)\n",
        "plt.show()"
      ],
      "metadata": {
        "colab": {
          "base_uri": "https://localhost:8080/",
          "height": 286
        },
        "id": "QsIvj8O5lWYU",
        "outputId": "205e6ce6-f0dc-43d3-cc7c-2b21bc19ef90"
      },
      "id": "QsIvj8O5lWYU",
      "execution_count": null,
      "outputs": [
        {
          "output_type": "display_data",
          "data": {
            "text/plain": [
              "<Figure size 432x288 with 1 Axes>"
            ],
            "image/png": "[encoded data removed]"
          },
          "metadata": {}
        }
      ]
    },
    {
      "cell_type": "markdown",
      "metadata": {
        "id": "satisfactory-stopping"
      },
      "source": [
        "#### Plot the distribution of SeriousDlqin2yrs by age"
      ],
      "id": "satisfactory-stopping"
    },
    {
      "cell_type": "code",
      "metadata": {
        "id": "multiple-series",
        "colab": {
          "base_uri": "https://localhost:8080/",
          "height": 410
        },
        "outputId": "05e98297-f41a-4ff5-dae9-4a137e0c0094"
      },
      "source": [
        "# YOUR CODE HERE\n",
        "import seaborn as sns\n",
        "import matplotlib.pyplot as plt\n",
        "\n",
        "# Set up the plot\n",
        "fig, ax = plt.subplots(figsize=(10, 6))\n",
        "\n",
        "# Creating the histogram with density plot overlay\n",
        "sns.histplot(data = credit_data_df, x='age', hue='SeriousDlqin2yrs', kde=True, ax=ax)\n",
        "\n",
        "# Set the title and labels\n",
        "ax.set_title('Distribution of SeriousDlqin2yrs by age')\n",
        "ax.set_xlabel('Age')\n",
        "ax.set_ylabel('Count')\n",
        "\n",
        "# Show the plot\n",
        "plt.show()"
      ],
      "id": "multiple-series",
      "execution_count": null,
      "outputs": [
        {
          "output_type": "display_data",
          "data": {
            "text/plain": [
              "<Figure size 720x432 with 1 Axes>"
            ],
            "image/png": "[encoded data removed]"
          },
          "metadata": {}
        }
      ]
    },
    {
      "cell_type": "code",
      "source": [
        "# Not due delinquency or Not worse \n",
        "credit_data_notDlq_df = credit_data_df[credit_data_df[\"SeriousDlqin2yrs\"] == 0]\n",
        "age_grouped_df0 = credit_data_notDlq_df.groupby('age')\n",
        "age_value_counts0 = age_grouped_df0['SeriousDlqin2yrs'].value_counts()\n",
        "age_value_counts0 = age_value_counts0.unstack()\n",
        "print(age_value_counts0)\n",
        "\n",
        "# Due delinquency or worse \n",
        "credit_data_notDlq_df = credit_data_df[credit_data_df[\"SeriousDlqin2yrs\"] == 1]\n",
        "age_grouped_df1 = credit_data_notDlq_df.groupby('age')\n",
        "age_value_counts1 = age_grouped_df1['SeriousDlqin2yrs'].value_counts()\n",
        "age_value_counts1 = age_value_counts1.unstack()\n",
        "print(age_value_counts1)\n",
        "\n",
        "age_grouped_df = credit_data_df.groupby('age')\n",
        "age_counts = age_grouped_df['SeriousDlqin2yrs'].value_counts().unstack()\n",
        "\n",
        "# Normalize the counts\n",
        "age_counts_norm = age_counts.div(age_counts.sum(axis=1), axis=0)\n",
        "\n",
        "# Create bar plot showing percentage along y-axis\n",
        "ax = age_counts_norm.plot(kind='bar', stacked=True, figsize=(18, 5), color=['green', 'red'])\n",
        "\n",
        "# Set plot title and axis labels\n",
        "ax.set_title('Distribution of Delinquency Status by Age', fontsize=16)\n",
        "ax.set_xlabel('Age', fontsize=12)\n",
        "ax.set_ylabel('Percentage', fontsize=12)\n",
        "\n",
        "# Show plot\n",
        "plt.show()\n",
        "\n",
        "# Creating distribution plot showing density along y-axis\n",
        "sns.kdeplot(credit_data_df[credit_data_df[\"SeriousDlqin2yrs\"] == 0][\"age\"], label=\"Not delinquent in 2 years\")\n",
        "sns.kdeplot(credit_data_df[credit_data_df[\"SeriousDlqin2yrs\"] == 1][\"age\"], label=\"Delinquent In 2 years\")\n",
        "plt.legend()\n",
        "plt.xlabel('Age')\n",
        "plt.title('Distribuition of Default Rate by Age')\n",
        "plt.show()\n"
      ],
      "metadata": {
        "colab": {
          "base_uri": "https://localhost:8080/",
          "height": 1000
        },
        "id": "OsSpKTvd9OQn",
        "outputId": "1ac04d42-0e64-4d18-ef08-6bf756b0e0ba"
      },
      "id": "OsSpKTvd9OQn",
      "execution_count": null,
      "outputs": [
        {
          "output_type": "stream",
          "name": "stdout",
          "text": [
            "SeriousDlqin2yrs    0\n",
            "age                  \n",
            "0                   1\n",
            "21                170\n",
            "22                398\n",
            "23                571\n",
            "24                718\n",
            "..                ...\n",
            "102                 3\n",
            "103                 3\n",
            "105                 1\n",
            "107                 1\n",
            "109                 2\n",
            "\n",
            "[86 rows x 1 columns]\n",
            "SeriousDlqin2yrs    1\n",
            "age                  \n",
            "21                 13\n",
            "22                 36\n",
            "23                 70\n",
            "24                 98\n",
            "25                121\n",
            "..                ...\n",
            "93                  1\n",
            "94                  1\n",
            "95                  1\n",
            "99                  2\n",
            "101                 1\n",
            "\n",
            "[76 rows x 1 columns]\n"
          ]
        },
        {
          "output_type": "display_data",
          "data": {
            "text/plain": [
              "<Figure size 1296x360 with 1 Axes>"
            ],
            "image/png": "[encoded data removed]"
          },
          "metadata": {}
        },
        {
          "output_type": "display_data",
          "data": {
            "text/plain": [
              "<Figure size 432x288 with 1 Axes>"
            ],
            "image/png": "[encoded data removed]"
          },
          "metadata": {}
        }
      ]
    },
    {
      "cell_type": "markdown",
      "metadata": {
        "id": "promotional-rolling"
      },
      "source": [
        "#### Calculate the correlation and plot the heatmap"
      ],
      "id": "promotional-rolling"
    },
    {
      "cell_type": "code",
      "metadata": {
        "id": "studied-candidate",
        "colab": {
          "base_uri": "https://localhost:8080/",
          "height": 504
        },
        "outputId": "3333309f-eb10-4811-b8e5-0b06727ced7d"
      },
      "source": [
        "# YOUR CODE HERE\n",
        "credit_data_df[credit_data_df.columns[:]].corr()\n",
        "sns.heatmap(credit_data_df[credit_data_df.columns[:]].corr(),fmt=\".1f\")\n",
        "plt.show()"
      ],
      "id": "studied-candidate",
      "execution_count": null,
      "outputs": [
        {
          "output_type": "display_data",
          "data": {
            "text/plain": [
              "<Figure size 432x288 with 2 Axes>"
            ],
            "image/png": "[encoded data removed]"
          },
          "metadata": {}
        }
      ]
    },
    {
      "cell_type": "markdown",
      "source": [
        "**High correlation coefficients are observed between the categorical features**\\\n",
        "**The continuous features are not having high correlation**\\\n",
        "**Hence, we are not rejecting any features at this stage**"
      ],
      "metadata": {
        "id": "fePZEsxxGMHi"
      },
      "id": "fePZEsxxGMHi"
    },
    {
      "cell_type": "code",
      "source": [
        "# Creating a box plot over the age and monthly salary\n",
        "fig, axs = plt.subplots(ncols = 2, figsize = (17, 5))\n",
        "sns.boxplot(x = 'age', data = credit_data_df, ax = axs[0])\n",
        "axs[0].set_title('Age Box Plot')\n",
        "sns.boxplot(x = 'MonthlyIncome', data = credit_data_df, ax = axs[1])\n",
        "axs[1].set_title('MonthlyIncome Box Plot')"
      ],
      "metadata": {
        "colab": {
          "base_uri": "https://localhost:8080/",
          "height": 372
        },
        "id": "MkiXP4u3v1Y7",
        "outputId": "e1e7eec6-14e6-40b0-e55e-e08b0582a8ab"
      },
      "id": "MkiXP4u3v1Y7",
      "execution_count": null,
      "outputs": [
        {
          "output_type": "execute_result",
          "data": {
            "text/plain": [
              "Text(0.5, 1.0, 'MonthlyIncome Box Plot')"
            ]
          },
          "metadata": {},
          "execution_count": 99
        },
        {
          "output_type": "display_data",
          "data": {
            "text/plain": [
              "<Figure size 1224x360 with 2 Axes>"
            ],
            "image/png": "[encoded data removed]"
          },
          "metadata": {}
        }
      ]
    },
    {
      "cell_type": "markdown",
      "source": [
        "1. A box plot can be a useful visualization for exploring the distribution of a continuous variable and identifying outliers, but it is not always necessary in credit risk analysis or logistic regression.\n",
        "\n",
        "2. In credit risk analysis, the focus is often on identifying variables that are predictive of credit risk, and the relationship between these variables and the target variable (i.e., 'SeriousDlqin2yrs') is typically examined using statistical tests, correlation matrices, and logistic regression coefficients. \n",
        "\n",
        "3. Box plots may not be as useful in this context since the focus is on comparing groups based on their relationship with the target variable rather than exploring the distribution of individual variables."
      ],
      "metadata": {
        "id": "enVzfuiR260a"
      },
      "id": "enVzfuiR260a"
    },
    {
      "cell_type": "markdown",
      "metadata": {
        "id": "operational-minute"
      },
      "source": [
        "### Data Engineering (2 points)"
      ],
      "id": "operational-minute"
    },
    {
      "cell_type": "markdown",
      "metadata": {
        "id": "outer-telephone"
      },
      "source": [
        "#### Weight of Evidence and Information value\n",
        "\n",
        "* Arrange the binning for each variable with different bins\n",
        "    * For eg. Age = 49, Age_quantile_range = (48, 56)\n",
        "* Calculate information value and chooose the best features based on the rules given below\n",
        "\n",
        "| Information Value |\tVariable Predictiveness |\n",
        "| --- | --- |\n",
        "| Less than 0.02\t|  Not useful for prediction |\n",
        "| 0.02 to 0.1\t| Weak predictive Power |\n",
        "|  0.1 to 0.3 | Medium predictive Power |\n",
        "| 0.3 to 0.5 | Strong predictive Power |\n",
        "| >0.5 | Suspicious Predictive Power |\n",
        "\n",
        "* Calculate Weight of evidence for the selected variables\n",
        "\n",
        "Hint: Use [xverse](https://towardsdatascience.com/introducing-xverse-a-python-package-for-feature-selection-and-transformation-17193cdcd067). It is a machine learning Python module in the space of feature engineering, feature transformation and feature selection. It provides pre-built functions for the above steps, such as binning and conversion to WoE."
      ],
      "id": "outer-telephone"
    },
    {
      "cell_type": "code",
      "metadata": {
        "id": "ordered-knock",
        "colab": {
          "base_uri": "https://localhost:8080/",
          "height": 409
        },
        "outputId": "fd7be4a2-3bcc-4473-d5f8-bd7551a67f88"
      },
      "source": [
        "# YOUR CODE HERE\n",
        "import pandas as pd\n",
        "from xverse.transformer import MonotonicBinning\n",
        "from xverse.transformer import WOE\n",
        "\n",
        "# Binning\n",
        "clf = MonotonicBinning()\n",
        "clf.fit(credit_data_df, credit_data_df['SeriousDlqin2yrs'])\n",
        "print(clf.bins)\n",
        "\n",
        "# Feature transformation using xverse package\n",
        "xverse_transformed_feature = clf.transform(credit_data_df.iloc[:,1:])\n",
        "xverse_transformed_feature.head()"
      ],
      "id": "ordered-knock",
      "execution_count": null,
      "outputs": [
        {
          "output_type": "stream",
          "name": "stdout",
          "text": [
            "{'SeriousDlqin2yrs': array([0., 1.]), 'RevolvingUtilizationOfUnsecuredLines': array([0.00000000e+00, 5.44198870e-02, 3.79945496e-01, 5.07080000e+04]), 'age': array([  0.,  45.,  59., 109.]), 'NumberOfTime30-59DaysPastDueNotWorse': array([ 0.,  1., 98.]), 'DebtRatio': array([0.00000000e+00, 2.38192456e-01, 5.69938302e-01, 3.29664000e+05]), 'MonthlyIncome': array([      0.        ,    4700.        ,    6670.22123739,\n",
            "       3008750.        ]), 'NumberOfOpenCreditLinesAndLoans': array([ 0.,  6., 10., 58.]), 'NumberOfTimes90DaysLate': array([ 0.,  1., 98.]), 'NumberRealEstateLoansOrLines': array([ 0.,  1., 54.]), 'NumberOfTime60-89DaysPastDueNotWorse': array([ 0.,  1., 98.]), 'NumberOfDependents': array([ 0.,  1., 20.])}\n"
          ]
        },
        {
          "output_type": "execute_result",
          "data": {
            "text/plain": [
              "  RevolvingUtilizationOfUnsecuredLines             age  \\\n",
              "0                      (0.38, 50708.0]  (-0.001, 45.0]   \n",
              "1                      (0.38, 50708.0]  (-0.001, 45.0]   \n",
              "2                      (0.38, 50708.0]  (-0.001, 45.0]   \n",
              "3                       (0.0544, 0.38]  (-0.001, 45.0]   \n",
              "4                      (0.38, 50708.0]    (45.0, 59.0]   \n",
              "\n",
              "  NumberOfTime30-59DaysPastDueNotWorse         DebtRatio  \\\n",
              "0                          (1.0, 98.0]  (0.57, 329664.0]   \n",
              "1                        (-0.001, 1.0]   (-0.001, 0.238]   \n",
              "2                        (-0.001, 1.0]   (-0.001, 0.238]   \n",
              "3                        (-0.001, 1.0]   (-0.001, 0.238]   \n",
              "4                        (-0.001, 1.0]   (-0.001, 0.238]   \n",
              "\n",
              "           MonthlyIncome NumberOfOpenCreditLinesAndLoans  \\\n",
              "0  (6670.221, 3008750.0]                    (10.0, 58.0]   \n",
              "1       (-0.001, 4700.0]                   (-0.001, 6.0]   \n",
              "2       (-0.001, 4700.0]                   (-0.001, 6.0]   \n",
              "3       (-0.001, 4700.0]                   (-0.001, 6.0]   \n",
              "4  (6670.221, 3008750.0]                     (6.0, 10.0]   \n",
              "\n",
              "  NumberOfTimes90DaysLate NumberRealEstateLoansOrLines  \\\n",
              "0           (-0.001, 1.0]                  (1.0, 54.0]   \n",
              "1           (-0.001, 1.0]                (-0.001, 1.0]   \n",
              "2           (-0.001, 1.0]                (-0.001, 1.0]   \n",
              "3           (-0.001, 1.0]                (-0.001, 1.0]   \n",
              "4           (-0.001, 1.0]                (-0.001, 1.0]   \n",
              "\n",
              "  NumberOfTime60-89DaysPastDueNotWorse NumberOfDependents  \n",
              "0                        (-0.001, 1.0]        (1.0, 20.0]  \n",
              "1                        (-0.001, 1.0]      (-0.001, 1.0]  \n",
              "2                        (-0.001, 1.0]      (-0.001, 1.0]  \n",
              "3                        (-0.001, 1.0]      (-0.001, 1.0]  \n",
              "4                        (-0.001, 1.0]      (-0.001, 1.0]  "
            ],
            "text/html": [
              "\n",
              "  <div id=\"df-77932577-5e7f-4901-bbff-c3f9e35b6d52\">\n",
              "    <div class=\"colab-df-container\">\n",
              "      <div>\n",
              "<style scoped>\n",
              "    .dataframe tbody tr th:only-of-type {\n",
              "        vertical-align: middle;\n",
              "    }\n",
              "\n",
              "    .dataframe tbody tr th {\n",
              "        vertical-align: top;\n",
              "    }\n",
              "\n",
              "    .dataframe thead th {\n",
              "        text-align: right;\n",
              "    }\n",
              "</style>\n",
              "<table border=\"1\" class=\"dataframe\">\n",
              "  <thead>\n",
              "    <tr style=\"text-align: right;\">\n",
              "      <th></th>\n",
              "      <th>RevolvingUtilizationOfUnsecuredLines</th>\n",
              "      <th>age</th>\n",
              "      <th>NumberOfTime30-59DaysPastDueNotWorse</th>\n",
              "      <th>DebtRatio</th>\n",
              "      <th>MonthlyIncome</th>\n",
              "      <th>NumberOfOpenCreditLinesAndLoans</th>\n",
              "      <th>NumberOfTimes90DaysLate</th>\n",
              "      <th>NumberRealEstateLoansOrLines</th>\n",
              "      <th>NumberOfTime60-89DaysPastDueNotWorse</th>\n",
              "      <th>NumberOfDependents</th>\n",
              "    </tr>\n",
              "  </thead>\n",
              "  <tbody>\n",
              "    <tr>\n",
              "      <th>0</th>\n",
              "      <td>(0.38, 50708.0]</td>\n",
              "      <td>(-0.001, 45.0]</td>\n",
              "      <td>(1.0, 98.0]</td>\n",
              "      <td>(0.57, 329664.0]</td>\n",
              "      <td>(6670.221, 3008750.0]</td>\n",
              "      <td>(10.0, 58.0]</td>\n",
              "      <td>(-0.001, 1.0]</td>\n",
              "      <td>(1.0, 54.0]</td>\n",
              "      <td>(-0.001, 1.0]</td>\n",
              "      <td>(1.0, 20.0]</td>\n",
              "    </tr>\n",
              "    <tr>\n",
              "      <th>1</th>\n",
              "      <td>(0.38, 50708.0]</td>\n",
              "      <td>(-0.001, 45.0]</td>\n",
              "      <td>(-0.001, 1.0]</td>\n",
              "      <td>(-0.001, 0.238]</td>\n",
              "      <td>(-0.001, 4700.0]</td>\n",
              "      <td>(-0.001, 6.0]</td>\n",
              "      <td>(-0.001, 1.0]</td>\n",
              "      <td>(-0.001, 1.0]</td>\n",
              "      <td>(-0.001, 1.0]</td>\n",
              "      <td>(-0.001, 1.0]</td>\n",
              "    </tr>\n",
              "    <tr>\n",
              "      <th>2</th>\n",
              "      <td>(0.38, 50708.0]</td>\n",
              "      <td>(-0.001, 45.0]</td>\n",
              "      <td>(-0.001, 1.0]</td>\n",
              "      <td>(-0.001, 0.238]</td>\n",
              "      <td>(-0.001, 4700.0]</td>\n",
              "      <td>(-0.001, 6.0]</td>\n",
              "      <td>(-0.001, 1.0]</td>\n",
              "      <td>(-0.001, 1.0]</td>\n",
              "      <td>(-0.001, 1.0]</td>\n",
              "      <td>(-0.001, 1.0]</td>\n",
              "    </tr>\n",
              "    <tr>\n",
              "      <th>3</th>\n",
              "      <td>(0.0544, 0.38]</td>\n",
              "      <td>(-0.001, 45.0]</td>\n",
              "      <td>(-0.001, 1.0]</td>\n",
              "      <td>(-0.001, 0.238]</td>\n",
              "      <td>(-0.001, 4700.0]</td>\n",
              "      <td>(-0.001, 6.0]</td>\n",
              "      <td>(-0.001, 1.0]</td>\n",
              "      <td>(-0.001, 1.0]</td>\n",
              "      <td>(-0.001, 1.0]</td>\n",
              "      <td>(-0.001, 1.0]</td>\n",
              "    </tr>\n",
              "    <tr>\n",
              "      <th>4</th>\n",
              "      <td>(0.38, 50708.0]</td>\n",
              "      <td>(45.0, 59.0]</td>\n",
              "      <td>(-0.001, 1.0]</td>\n",
              "      <td>(-0.001, 0.238]</td>\n",
              "      <td>(6670.221, 3008750.0]</td>\n",
              "      <td>(6.0, 10.0]</td>\n",
              "      <td>(-0.001, 1.0]</td>\n",
              "      <td>(-0.001, 1.0]</td>\n",
              "      <td>(-0.001, 1.0]</td>\n",
              "      <td>(-0.001, 1.0]</td>\n",
              "    </tr>\n",
              "  </tbody>\n",
              "</table>\n",
              "</div>\n",
              "      <button class=\"colab-df-convert\" onclick=\"convertToInteractive('df-77932577-5e7f-4901-bbff-c3f9e35b6d52')\"\n",
              "              title=\"Convert this dataframe to an interactive table.\"\n",
              "              style=\"display:none;\">\n",
              "        \n",
              "  <svg xmlns=\"http://www.w3.org/2000/svg\" height=\"24px\"viewBox=\"0 0 24 24\"\n",
              "       width=\"24px\">\n",
              "    <path d=\"M0 0h24v24H0V0z\" fill=\"none\"/>\n",
              "    <path d=\"M18.56 5.44l.94 2.06.94-2.06 2.06-.94-2.06-.94-.94-2.06-.94 2.06-2.06.94zm-11 1L8.5 8.5l.94-2.06 2.06-.94-2.06-.94L8.5 2.5l-.94 2.06-2.06.94zm10 10l.94 2.06.94-2.06 2.06-.94-2.06-.94-.94-2.06-.94 2.06-2.06.94z\"/><path d=\"M17.41 7.96l-1.37-1.37c-.4-.4-.92-.59-1.43-.59-.52 0-1.04.2-1.43.59L10.3 9.45l-7.72 7.72c-.78.78-.78 2.05 0 2.83L4 21.41c.39.39.9.59 1.41.59.51 0 1.02-.2 1.41-.59l7.78-7.78 2.81-2.81c.8-.78.8-2.07 0-2.86zM5.41 20L4 18.59l7.72-7.72 1.47 1.35L5.41 20z\"/>\n",
              "  </svg>\n",
              "      </button>\n",
              "      \n",
              "  <style>\n",
              "    .colab-df-container {\n",
              "      display:flex;\n",
              "      flex-wrap:wrap;\n",
              "      gap: 12px;\n",
              "    }\n",
              "\n",
              "    .colab-df-convert {\n",
              "      background-color: #E8F0FE;\n",
              "      border: none;\n",
              "      border-radius: 50%;\n",
              "      cursor: pointer;\n",
              "      display: none;\n",
              "      fill: #1967D2;\n",
              "      height: 32px;\n",
              "      padding: 0 0 0 0;\n",
              "      width: 32px;\n",
              "    }\n",
              "\n",
              "    .colab-df-convert:hover {\n",
              "      background-color: #E2EBFA;\n",
              "      box-shadow: 0px 1px 2px rgba(60, 64, 67, 0.3), 0px 1px 3px 1px rgba(60, 64, 67, 0.15);\n",
              "      fill: #174EA6;\n",
              "    }\n",
              "\n",
              "    [theme=dark] .colab-df-convert {\n",
              "      background-color: #3B4455;\n",
              "      fill: #D2E3FC;\n",
              "    }\n",
              "\n",
              "    [theme=dark] .colab-df-convert:hover {\n",
              "      background-color: #434B5C;\n",
              "      box-shadow: 0px 1px 3px 1px rgba(0, 0, 0, 0.15);\n",
              "      filter: drop-shadow(0px 1px 2px rgba(0, 0, 0, 0.3));\n",
              "      fill: #FFFFFF;\n",
              "    }\n",
              "  </style>\n",
              "\n",
              "      <script>\n",
              "        const buttonEl =\n",
              "          document.querySelector('#df-77932577-5e7f-4901-bbff-c3f9e35b6d52 button.colab-df-convert');\n",
              "        buttonEl.style.display =\n",
              "          google.colab.kernel.accessAllowed ? 'block' : 'none';\n",
              "\n",
              "        async function convertToInteractive(key) {\n",
              "          const element = document.querySelector('#df-77932577-5e7f-4901-bbff-c3f9e35b6d52');\n",
              "          const dataTable =\n",
              "            await google.colab.kernel.invokeFunction('convertToInteractive',\n",
              "                                                     [key], {});\n",
              "          if (!dataTable) return;\n",
              "\n",
              "          const docLinkHtml = 'Like what you see? Visit the ' +\n",
              "            '<a target=\"_blank\" href=https://colab.research.google.com/notebooks/data_table.ipynb>data table notebook</a>'\n",
              "            + ' to learn more about interactive tables.';\n",
              "          element.innerHTML = '';\n",
              "          dataTable['output_type'] = 'display_data';\n",
              "          await google.colab.output.renderOutput(dataTable, element);\n",
              "          const docLink = document.createElement('div');\n",
              "          docLink.innerHTML = docLinkHtml;\n",
              "          element.appendChild(docLink);\n",
              "        }\n",
              "      </script>\n",
              "    </div>\n",
              "  </div>\n",
              "  "
            ]
          },
          "metadata": {},
          "execution_count": 100
        }
      ]
    },
    {
      "cell_type": "code",
      "source": [
        "# Calculating Weight of Evidence using xverse package\n",
        "clf = WOE()\n",
        "clf.fit(credit_data_df, credit_data_df['SeriousDlqin2yrs'])\n",
        "\n",
        "#Weight of Evidence calculation:\n",
        "# WOE transformation dataset\n",
        "clf.woe_df.head()"
      ],
      "metadata": {
        "colab": {
          "base_uri": "https://localhost:8080/",
          "height": 357
        },
        "id": "y8Dj0beU8-pd",
        "outputId": "f2792129-20e7-49a1-843c-d88749267265"
      },
      "id": "y8Dj0beU8-pd",
      "execution_count": null,
      "outputs": [
        {
          "output_type": "stream",
          "name": "stderr",
          "text": [
            "/usr/local/lib/python3.8/dist-packages/pandas/core/arraylike.py:364: RuntimeWarning: divide by zero encountered in log\n",
            "  result = getattr(ufunc, method)(*inputs, **kwargs)\n"
          ]
        },
        {
          "output_type": "execute_result",
          "data": {
            "text/plain": [
              "                          Variable_Name          Category   Count  Event  \\\n",
              "0                      SeriousDlqin2yrs                 0  139974      0   \n",
              "1                      SeriousDlqin2yrs                 1   10026  10026   \n",
              "2  RevolvingUtilizationOfUnsecuredLines  (-0.001, 0.0544]   50000    877   \n",
              "3  RevolvingUtilizationOfUnsecuredLines    (0.0544, 0.38]   50000   1556   \n",
              "4  RevolvingUtilizationOfUnsecuredLines   (0.38, 50708.0]   50000   7593   \n",
              "\n",
              "   Non_Event  Event_Rate  Non_Event_Rate  Event_Distribution  \\\n",
              "0     139974     0.00000         1.00000            0.000000   \n",
              "1          0     1.00000         0.00000            1.000000   \n",
              "2      49123     0.01754         0.98246            0.087473   \n",
              "3      48444     0.03112         0.96888            0.155196   \n",
              "4      42407     0.15186         0.84814            0.757331   \n",
              "\n",
              "   Non_Event_Distribution       WOE  Information_Value  \n",
              "0                1.000000  0.000000           0.000000  \n",
              "1                0.000000  0.000000           0.000000  \n",
              "2                0.350944 -1.389301           0.935429  \n",
              "3                0.346093 -0.802015           0.935429  \n",
              "4                0.302963  0.916188           0.935429  "
            ],
            "text/html": [
              "\n",
              "  <div id=\"df-c497134d-1967-4bba-ba4a-acd15f864aa1\">\n",
              "    <div class=\"colab-df-container\">\n",
              "      <div>\n",
              "<style scoped>\n",
              "    .dataframe tbody tr th:only-of-type {\n",
              "        vertical-align: middle;\n",
              "    }\n",
              "\n",
              "    .dataframe tbody tr th {\n",
              "        vertical-align: top;\n",
              "    }\n",
              "\n",
              "    .dataframe thead th {\n",
              "        text-align: right;\n",
              "    }\n",
              "</style>\n",
              "<table border=\"1\" class=\"dataframe\">\n",
              "  <thead>\n",
              "    <tr style=\"text-align: right;\">\n",
              "      <th></th>\n",
              "      <th>Variable_Name</th>\n",
              "      <th>Category</th>\n",
              "      <th>Count</th>\n",
              "      <th>Event</th>\n",
              "      <th>Non_Event</th>\n",
              "      <th>Event_Rate</th>\n",
              "      <th>Non_Event_Rate</th>\n",
              "      <th>Event_Distribution</th>\n",
              "      <th>Non_Event_Distribution</th>\n",
              "      <th>WOE</th>\n",
              "      <th>Information_Value</th>\n",
              "    </tr>\n",
              "  </thead>\n",
              "  <tbody>\n",
              "    <tr>\n",
              "      <th>0</th>\n",
              "      <td>SeriousDlqin2yrs</td>\n",
              "      <td>0</td>\n",
              "      <td>139974</td>\n",
              "      <td>0</td>\n",
              "      <td>139974</td>\n",
              "      <td>0.00000</td>\n",
              "      <td>1.00000</td>\n",
              "      <td>0.000000</td>\n",
              "      <td>1.000000</td>\n",
              "      <td>0.000000</td>\n",
              "      <td>0.000000</td>\n",
              "    </tr>\n",
              "    <tr>\n",
              "      <th>1</th>\n",
              "      <td>SeriousDlqin2yrs</td>\n",
              "      <td>1</td>\n",
              "      <td>10026</td>\n",
              "      <td>10026</td>\n",
              "      <td>0</td>\n",
              "      <td>1.00000</td>\n",
              "      <td>0.00000</td>\n",
              "      <td>1.000000</td>\n",
              "      <td>0.000000</td>\n",
              "      <td>0.000000</td>\n",
              "      <td>0.000000</td>\n",
              "    </tr>\n",
              "    <tr>\n",
              "      <th>2</th>\n",
              "      <td>RevolvingUtilizationOfUnsecuredLines</td>\n",
              "      <td>(-0.001, 0.0544]</td>\n",
              "      <td>50000</td>\n",
              "      <td>877</td>\n",
              "      <td>49123</td>\n",
              "      <td>0.01754</td>\n",
              "      <td>0.98246</td>\n",
              "      <td>0.087473</td>\n",
              "      <td>0.350944</td>\n",
              "      <td>-1.389301</td>\n",
              "      <td>0.935429</td>\n",
              "    </tr>\n",
              "    <tr>\n",
              "      <th>3</th>\n",
              "      <td>RevolvingUtilizationOfUnsecuredLines</td>\n",
              "      <td>(0.0544, 0.38]</td>\n",
              "      <td>50000</td>\n",
              "      <td>1556</td>\n",
              "      <td>48444</td>\n",
              "      <td>0.03112</td>\n",
              "      <td>0.96888</td>\n",
              "      <td>0.155196</td>\n",
              "      <td>0.346093</td>\n",
              "      <td>-0.802015</td>\n",
              "      <td>0.935429</td>\n",
              "    </tr>\n",
              "    <tr>\n",
              "      <th>4</th>\n",
              "      <td>RevolvingUtilizationOfUnsecuredLines</td>\n",
              "      <td>(0.38, 50708.0]</td>\n",
              "      <td>50000</td>\n",
              "      <td>7593</td>\n",
              "      <td>42407</td>\n",
              "      <td>0.15186</td>\n",
              "      <td>0.84814</td>\n",
              "      <td>0.757331</td>\n",
              "      <td>0.302963</td>\n",
              "      <td>0.916188</td>\n",
              "      <td>0.935429</td>\n",
              "    </tr>\n",
              "  </tbody>\n",
              "</table>\n",
              "</div>\n",
              "      <button class=\"colab-df-convert\" onclick=\"convertToInteractive('df-c497134d-1967-4bba-ba4a-acd15f864aa1')\"\n",
              "              title=\"Convert this dataframe to an interactive table.\"\n",
              "              style=\"display:none;\">\n",
              "        \n",
              "  <svg xmlns=\"http://www.w3.org/2000/svg\" height=\"24px\"viewBox=\"0 0 24 24\"\n",
              "       width=\"24px\">\n",
              "    <path d=\"M0 0h24v24H0V0z\" fill=\"none\"/>\n",
              "    <path d=\"M18.56 5.44l.94 2.06.94-2.06 2.06-.94-2.06-.94-.94-2.06-.94 2.06-2.06.94zm-11 1L8.5 8.5l.94-2.06 2.06-.94-2.06-.94L8.5 2.5l-.94 2.06-2.06.94zm10 10l.94 2.06.94-2.06 2.06-.94-2.06-.94-.94-2.06-.94 2.06-2.06.94z\"/><path d=\"M17.41 7.96l-1.37-1.37c-.4-.4-.92-.59-1.43-.59-.52 0-1.04.2-1.43.59L10.3 9.45l-7.72 7.72c-.78.78-.78 2.05 0 2.83L4 21.41c.39.39.9.59 1.41.59.51 0 1.02-.2 1.41-.59l7.78-7.78 2.81-2.81c.8-.78.8-2.07 0-2.86zM5.41 20L4 18.59l7.72-7.72 1.47 1.35L5.41 20z\"/>\n",
              "  </svg>\n",
              "      </button>\n",
              "      \n",
              "  <style>\n",
              "    .colab-df-container {\n",
              "      display:flex;\n",
              "      flex-wrap:wrap;\n",
              "      gap: 12px;\n",
              "    }\n",
              "\n",
              "    .colab-df-convert {\n",
              "      background-color: #E8F0FE;\n",
              "      border: none;\n",
              "      border-radius: 50%;\n",
              "      cursor: pointer;\n",
              "      display: none;\n",
              "      fill: #1967D2;\n",
              "      height: 32px;\n",
              "      padding: 0 0 0 0;\n",
              "      width: 32px;\n",
              "    }\n",
              "\n",
              "    .colab-df-convert:hover {\n",
              "      background-color: #E2EBFA;\n",
              "      box-shadow: 0px 1px 2px rgba(60, 64, 67, 0.3), 0px 1px 3px 1px rgba(60, 64, 67, 0.15);\n",
              "      fill: #174EA6;\n",
              "    }\n",
              "\n",
              "    [theme=dark] .colab-df-convert {\n",
              "      background-color: #3B4455;\n",
              "      fill: #D2E3FC;\n",
              "    }\n",
              "\n",
              "    [theme=dark] .colab-df-convert:hover {\n",
              "      background-color: #434B5C;\n",
              "      box-shadow: 0px 1px 3px 1px rgba(0, 0, 0, 0.15);\n",
              "      filter: drop-shadow(0px 1px 2px rgba(0, 0, 0, 0.3));\n",
              "      fill: #FFFFFF;\n",
              "    }\n",
              "  </style>\n",
              "\n",
              "      <script>\n",
              "        const buttonEl =\n",
              "          document.querySelector('#df-c497134d-1967-4bba-ba4a-acd15f864aa1 button.colab-df-convert');\n",
              "        buttonEl.style.display =\n",
              "          google.colab.kernel.accessAllowed ? 'block' : 'none';\n",
              "\n",
              "        async function convertToInteractive(key) {\n",
              "          const element = document.querySelector('#df-c497134d-1967-4bba-ba4a-acd15f864aa1');\n",
              "          const dataTable =\n",
              "            await google.colab.kernel.invokeFunction('convertToInteractive',\n",
              "                                                     [key], {});\n",
              "          if (!dataTable) return;\n",
              "\n",
              "          const docLinkHtml = 'Like what you see? Visit the ' +\n",
              "            '<a target=\"_blank\" href=https://colab.research.google.com/notebooks/data_table.ipynb>data table notebook</a>'\n",
              "            + ' to learn more about interactive tables.';\n",
              "          element.innerHTML = '';\n",
              "          dataTable['output_type'] = 'display_data';\n",
              "          await google.colab.output.renderOutput(dataTable, element);\n",
              "          const docLink = document.createElement('div');\n",
              "          docLink.innerHTML = docLinkHtml;\n",
              "          element.appendChild(docLink);\n",
              "        }\n",
              "      </script>\n",
              "    </div>\n",
              "  </div>\n",
              "  "
            ]
          },
          "metadata": {},
          "execution_count": 101
        }
      ]
    },
    {
      "cell_type": "code",
      "source": [
        "WOE_Transformed_df = clf.transform(credit_data_df.iloc[:,1:])\n",
        "WOE_Transformed_df"
      ],
      "metadata": {
        "colab": {
          "base_uri": "https://localhost:8080/",
          "height": 505
        },
        "id": "Gs4ZGvYw-aRT",
        "outputId": "7f57cfc3-dde9-4b23-c62e-797a3f70625f"
      },
      "id": "Gs4ZGvYw-aRT",
      "execution_count": null,
      "outputs": [
        {
          "output_type": "execute_result",
          "data": {
            "text/plain": [
              "        RevolvingUtilizationOfUnsecuredLines       age  \\\n",
              "0                                   0.916188  0.414666   \n",
              "1                                   0.916188  0.414666   \n",
              "2                                   0.916188  0.414666   \n",
              "3                                  -0.802015  0.414666   \n",
              "4                                   0.916188  0.043658   \n",
              "...                                      ...       ...   \n",
              "149995                             -1.389301 -0.804528   \n",
              "149996                             -0.802015  0.414666   \n",
              "149997                             -0.802015  0.043658   \n",
              "149998                             -1.389301  0.414666   \n",
              "149999                              0.916188 -0.804528   \n",
              "\n",
              "        NumberOfTime30-59DaysPastDueNotWorse  DebtRatio  MonthlyIncome  \\\n",
              "0                                   1.901126   0.146810      -0.336321   \n",
              "1                                  -0.257826  -0.108543       0.300624   \n",
              "2                                  -0.257826  -0.108543       0.300624   \n",
              "3                                  -0.257826  -0.108543       0.300624   \n",
              "4                                  -0.257826  -0.108543      -0.336321   \n",
              "...                                      ...        ...            ...   \n",
              "149995                             -0.257826  -0.108543       0.300624   \n",
              "149996                             -0.257826   0.146810      -0.081528   \n",
              "149997                             -0.257826   0.146810      -0.081528   \n",
              "149998                             -0.257826  -0.108543      -0.081528   \n",
              "149999                             -0.257826  -0.054162      -0.336321   \n",
              "\n",
              "        NumberOfOpenCreditLinesAndLoans  NumberOfTimes90DaysLate  \\\n",
              "0                             -0.043992                -0.176674   \n",
              "1                              0.161831                -0.176674   \n",
              "2                              0.161831                -0.176674   \n",
              "3                              0.161831                -0.176674   \n",
              "4                             -0.200293                -0.176674   \n",
              "...                                 ...                      ...   \n",
              "149995                         0.161831                -0.176674   \n",
              "149996                         0.161831                -0.176674   \n",
              "149997                        -0.043992                -0.176674   \n",
              "149998                         0.161831                -0.176674   \n",
              "149999                        -0.200293                -0.176674   \n",
              "\n",
              "        NumberRealEstateLoansOrLines  NumberOfTime60-89DaysPastDueNotWorse  \\\n",
              "0                          -0.066080                              -0.09799   \n",
              "1                           0.024285                              -0.09799   \n",
              "2                           0.024285                              -0.09799   \n",
              "3                           0.024285                              -0.09799   \n",
              "4                           0.024285                              -0.09799   \n",
              "...                              ...                                   ...   \n",
              "149995                      0.024285                              -0.09799   \n",
              "149996                      0.024285                              -0.09799   \n",
              "149997                      0.024285                              -0.09799   \n",
              "149998                      0.024285                              -0.09799   \n",
              "149999                     -0.066080                              -0.09799   \n",
              "\n",
              "        NumberOfDependents  \n",
              "0                 0.269384  \n",
              "1                -0.088266  \n",
              "2                -0.088266  \n",
              "3                -0.088266  \n",
              "4                -0.088266  \n",
              "...                    ...  \n",
              "149995           -0.088266  \n",
              "149996            0.269384  \n",
              "149997           -0.088266  \n",
              "149998           -0.088266  \n",
              "149999           -0.088266  \n",
              "\n",
              "[150000 rows x 10 columns]"
            ],
            "text/html": [
              "\n",
              "  <div id=\"df-f49afb2d-168b-46a0-adc4-67fbcf27ed32\">\n",
              "    <div class=\"colab-df-container\">\n",
              "      <div>\n",
              "<style scoped>\n",
              "    .dataframe tbody tr th:only-of-type {\n",
              "        vertical-align: middle;\n",
              "    }\n",
              "\n",
              "    .dataframe tbody tr th {\n",
              "        vertical-align: top;\n",
              "    }\n",
              "\n",
              "    .dataframe thead th {\n",
              "        text-align: right;\n",
              "    }\n",
              "</style>\n",
              "<table border=\"1\" class=\"dataframe\">\n",
              "  <thead>\n",
              "    <tr style=\"text-align: right;\">\n",
              "      <th></th>\n",
              "      <th>RevolvingUtilizationOfUnsecuredLines</th>\n",
              "      <th>age</th>\n",
              "      <th>NumberOfTime30-59DaysPastDueNotWorse</th>\n",
              "      <th>DebtRatio</th>\n",
              "      <th>MonthlyIncome</th>\n",
              "      <th>NumberOfOpenCreditLinesAndLoans</th>\n",
              "      <th>NumberOfTimes90DaysLate</th>\n",
              "      <th>NumberRealEstateLoansOrLines</th>\n",
              "      <th>NumberOfTime60-89DaysPastDueNotWorse</th>\n",
              "      <th>NumberOfDependents</th>\n",
              "    </tr>\n",
              "  </thead>\n",
              "  <tbody>\n",
              "    <tr>\n",
              "      <th>0</th>\n",
              "      <td>0.916188</td>\n",
              "      <td>0.414666</td>\n",
              "      <td>1.901126</td>\n",
              "      <td>0.146810</td>\n",
              "      <td>-0.336321</td>\n",
              "      <td>-0.043992</td>\n",
              "      <td>-0.176674</td>\n",
              "      <td>-0.066080</td>\n",
              "      <td>-0.09799</td>\n",
              "      <td>0.269384</td>\n",
              "    </tr>\n",
              "    <tr>\n",
              "      <th>1</th>\n",
              "      <td>0.916188</td>\n",
              "      <td>0.414666</td>\n",
              "      <td>-0.257826</td>\n",
              "      <td>-0.108543</td>\n",
              "      <td>0.300624</td>\n",
              "      <td>0.161831</td>\n",
              "      <td>-0.176674</td>\n",
              "      <td>0.024285</td>\n",
              "      <td>-0.09799</td>\n",
              "      <td>-0.088266</td>\n",
              "    </tr>\n",
              "    <tr>\n",
              "      <th>2</th>\n",
              "      <td>0.916188</td>\n",
              "      <td>0.414666</td>\n",
              "      <td>-0.257826</td>\n",
              "      <td>-0.108543</td>\n",
              "      <td>0.300624</td>\n",
              "      <td>0.161831</td>\n",
              "      <td>-0.176674</td>\n",
              "      <td>0.024285</td>\n",
              "      <td>-0.09799</td>\n",
              "      <td>-0.088266</td>\n",
              "    </tr>\n",
              "    <tr>\n",
              "      <th>3</th>\n",
              "      <td>-0.802015</td>\n",
              "      <td>0.414666</td>\n",
              "      <td>-0.257826</td>\n",
              "      <td>-0.108543</td>\n",
              "      <td>0.300624</td>\n",
              "      <td>0.161831</td>\n",
              "      <td>-0.176674</td>\n",
              "      <td>0.024285</td>\n",
              "      <td>-0.09799</td>\n",
              "      <td>-0.088266</td>\n",
              "    </tr>\n",
              "    <tr>\n",
              "      <th>4</th>\n",
              "      <td>0.916188</td>\n",
              "      <td>0.043658</td>\n",
              "      <td>-0.257826</td>\n",
              "      <td>-0.108543</td>\n",
              "      <td>-0.336321</td>\n",
              "      <td>-0.200293</td>\n",
              "      <td>-0.176674</td>\n",
              "      <td>0.024285</td>\n",
              "      <td>-0.09799</td>\n",
              "      <td>-0.088266</td>\n",
              "    </tr>\n",
              "    <tr>\n",
              "      <th>...</th>\n",
              "      <td>...</td>\n",
              "      <td>...</td>\n",
              "      <td>...</td>\n",
              "      <td>...</td>\n",
              "      <td>...</td>\n",
              "      <td>...</td>\n",
              "      <td>...</td>\n",
              "      <td>...</td>\n",
              "      <td>...</td>\n",
              "      <td>...</td>\n",
              "    </tr>\n",
              "    <tr>\n",
              "      <th>149995</th>\n",
              "      <td>-1.389301</td>\n",
              "      <td>-0.804528</td>\n",
              "      <td>-0.257826</td>\n",
              "      <td>-0.108543</td>\n",
              "      <td>0.300624</td>\n",
              "      <td>0.161831</td>\n",
              "      <td>-0.176674</td>\n",
              "      <td>0.024285</td>\n",
              "      <td>-0.09799</td>\n",
              "      <td>-0.088266</td>\n",
              "    </tr>\n",
              "    <tr>\n",
              "      <th>149996</th>\n",
              "      <td>-0.802015</td>\n",
              "      <td>0.414666</td>\n",
              "      <td>-0.257826</td>\n",
              "      <td>0.146810</td>\n",
              "      <td>-0.081528</td>\n",
              "      <td>0.161831</td>\n",
              "      <td>-0.176674</td>\n",
              "      <td>0.024285</td>\n",
              "      <td>-0.09799</td>\n",
              "      <td>0.269384</td>\n",
              "    </tr>\n",
              "    <tr>\n",
              "      <th>149997</th>\n",
              "      <td>-0.802015</td>\n",
              "      <td>0.043658</td>\n",
              "      <td>-0.257826</td>\n",
              "      <td>0.146810</td>\n",
              "      <td>-0.081528</td>\n",
              "      <td>-0.043992</td>\n",
              "      <td>-0.176674</td>\n",
              "      <td>0.024285</td>\n",
              "      <td>-0.09799</td>\n",
              "      <td>-0.088266</td>\n",
              "    </tr>\n",
              "    <tr>\n",
              "      <th>149998</th>\n",
              "      <td>-1.389301</td>\n",
              "      <td>0.414666</td>\n",
              "      <td>-0.257826</td>\n",
              "      <td>-0.108543</td>\n",
              "      <td>-0.081528</td>\n",
              "      <td>0.161831</td>\n",
              "      <td>-0.176674</td>\n",
              "      <td>0.024285</td>\n",
              "      <td>-0.09799</td>\n",
              "      <td>-0.088266</td>\n",
              "    </tr>\n",
              "    <tr>\n",
              "      <th>149999</th>\n",
              "      <td>0.916188</td>\n",
              "      <td>-0.804528</td>\n",
              "      <td>-0.257826</td>\n",
              "      <td>-0.054162</td>\n",
              "      <td>-0.336321</td>\n",
              "      <td>-0.200293</td>\n",
              "      <td>-0.176674</td>\n",
              "      <td>-0.066080</td>\n",
              "      <td>-0.09799</td>\n",
              "      <td>-0.088266</td>\n",
              "    </tr>\n",
              "  </tbody>\n",
              "</table>\n",
              "<p>150000 rows × 10 columns</p>\n",
              "</div>\n",
              "      <button class=\"colab-df-convert\" onclick=\"convertToInteractive('df-f49afb2d-168b-46a0-adc4-67fbcf27ed32')\"\n",
              "              title=\"Convert this dataframe to an interactive table.\"\n",
              "              style=\"display:none;\">\n",
              "        \n",
              "  <svg xmlns=\"http://www.w3.org/2000/svg\" height=\"24px\"viewBox=\"0 0 24 24\"\n",
              "       width=\"24px\">\n",
              "    <path d=\"M0 0h24v24H0V0z\" fill=\"none\"/>\n",
              "    <path d=\"M18.56 5.44l.94 2.06.94-2.06 2.06-.94-2.06-.94-.94-2.06-.94 2.06-2.06.94zm-11 1L8.5 8.5l.94-2.06 2.06-.94-2.06-.94L8.5 2.5l-.94 2.06-2.06.94zm10 10l.94 2.06.94-2.06 2.06-.94-2.06-.94-.94-2.06-.94 2.06-2.06.94z\"/><path d=\"M17.41 7.96l-1.37-1.37c-.4-.4-.92-.59-1.43-.59-.52 0-1.04.2-1.43.59L10.3 9.45l-7.72 7.72c-.78.78-.78 2.05 0 2.83L4 21.41c.39.39.9.59 1.41.59.51 0 1.02-.2 1.41-.59l7.78-7.78 2.81-2.81c.8-.78.8-2.07 0-2.86zM5.41 20L4 18.59l7.72-7.72 1.47 1.35L5.41 20z\"/>\n",
              "  </svg>\n",
              "      </button>\n",
              "      \n",
              "  <style>\n",
              "    .colab-df-container {\n",
              "      display:flex;\n",
              "      flex-wrap:wrap;\n",
              "      gap: 12px;\n",
              "    }\n",
              "\n",
              "    .colab-df-convert {\n",
              "      background-color: #E8F0FE;\n",
              "      border: none;\n",
              "      border-radius: 50%;\n",
              "      cursor: pointer;\n",
              "      display: none;\n",
              "      fill: #1967D2;\n",
              "      height: 32px;\n",
              "      padding: 0 0 0 0;\n",
              "      width: 32px;\n",
              "    }\n",
              "\n",
              "    .colab-df-convert:hover {\n",
              "      background-color: #E2EBFA;\n",
              "      box-shadow: 0px 1px 2px rgba(60, 64, 67, 0.3), 0px 1px 3px 1px rgba(60, 64, 67, 0.15);\n",
              "      fill: #174EA6;\n",
              "    }\n",
              "\n",
              "    [theme=dark] .colab-df-convert {\n",
              "      background-color: #3B4455;\n",
              "      fill: #D2E3FC;\n",
              "    }\n",
              "\n",
              "    [theme=dark] .colab-df-convert:hover {\n",
              "      background-color: #434B5C;\n",
              "      box-shadow: 0px 1px 3px 1px rgba(0, 0, 0, 0.15);\n",
              "      filter: drop-shadow(0px 1px 2px rgba(0, 0, 0, 0.3));\n",
              "      fill: #FFFFFF;\n",
              "    }\n",
              "  </style>\n",
              "\n",
              "      <script>\n",
              "        const buttonEl =\n",
              "          document.querySelector('#df-f49afb2d-168b-46a0-adc4-67fbcf27ed32 button.colab-df-convert');\n",
              "        buttonEl.style.display =\n",
              "          google.colab.kernel.accessAllowed ? 'block' : 'none';\n",
              "\n",
              "        async function convertToInteractive(key) {\n",
              "          const element = document.querySelector('#df-f49afb2d-168b-46a0-adc4-67fbcf27ed32');\n",
              "          const dataTable =\n",
              "            await google.colab.kernel.invokeFunction('convertToInteractive',\n",
              "                                                     [key], {});\n",
              "          if (!dataTable) return;\n",
              "\n",
              "          const docLinkHtml = 'Like what you see? Visit the ' +\n",
              "            '<a target=\"_blank\" href=https://colab.research.google.com/notebooks/data_table.ipynb>data table notebook</a>'\n",
              "            + ' to learn more about interactive tables.';\n",
              "          element.innerHTML = '';\n",
              "          dataTable['output_type'] = 'display_data';\n",
              "          await google.colab.output.renderOutput(dataTable, element);\n",
              "          const docLink = document.createElement('div');\n",
              "          docLink.innerHTML = docLinkHtml;\n",
              "          element.appendChild(docLink);\n",
              "        }\n",
              "      </script>\n",
              "    </div>\n",
              "  </div>\n",
              "  "
            ]
          },
          "metadata": {},
          "execution_count": 102
        }
      ]
    },
    {
      "cell_type": "markdown",
      "source": [
        "$$Why$$ we don't use Scaling in this Logistic Regression user scenario? \n",
        "\n",
        "**1. Weights of Evidence (WOE) is commonly used in credit risk modelling with Logistic Regression to transform categorical variables into continuous variables, which are used in Linear Regression to get the output as continuous variable**\n",
        "\n",
        "**2. This continuous variable is further passed to the input of the  Sigmoid function which can be applied for Logistic Regression Models.**\\\n",
        "**3. The WOE Transformation does not depend on the scale or distribution of the original variables and is designed to handle categorical variables directly.**\\\n",
        "**Hence we don't use Standard Scaling in this scenario**\n",
        "\n",
        "$$Why$$ we don't use One Hot Encoding in this Logistis Regression Scenario?\\\n",
        "**1. In Logistic Regression, the input variables can be either continuous or categorical.**\\\n",
        "**2. However, continuous variables are more commonly used as input variables in Logistic Regression.**\\\n",
        "**3. The reason for this is that the Sigmoid Function is designed to handle continuous inputs and it may not work properly with categorical inputs**\\\n",
        "**Hence, we don't apply One Hot encoding in this scenario**"
      ],
      "metadata": {
        "id": "Tv9PHmNuiFaf"
      },
      "id": "Tv9PHmNuiFaf"
    },
    {
      "cell_type": "code",
      "source": [
        "# Information Value calculation:\n",
        "#Information value dataset\n",
        "Information_value_df = clf.iv_df\n",
        "Information_value_df"
      ],
      "metadata": {
        "colab": {
          "base_uri": "https://localhost:8080/",
          "height": 394
        },
        "id": "PV07WXoa-NSG",
        "outputId": "a91a1c03-4783-492c-dc18-7a1f24f3b348"
      },
      "id": "PV07WXoa-NSG",
      "execution_count": null,
      "outputs": [
        {
          "output_type": "execute_result",
          "data": {
            "text/plain": [
              "                           Variable_Name  Information_Value\n",
              "8   RevolvingUtilizationOfUnsecuredLines           0.935429\n",
              "6                NumberOfTimes90DaysLate           0.484202\n",
              "4   NumberOfTime30-59DaysPastDueNotWorse           0.471831\n",
              "5   NumberOfTime60-89DaysPastDueNotWorse           0.264824\n",
              "10                                   age           0.219843\n",
              "1                          MonthlyIncome           0.065725\n",
              "2                     NumberOfDependents           0.023730\n",
              "3        NumberOfOpenCreditLinesAndLoans           0.023300\n",
              "0                              DebtRatio           0.012360\n",
              "7           NumberRealEstateLoansOrLines           0.001605\n",
              "9                       SeriousDlqin2yrs           0.000000"
            ],
            "text/html": [
              "\n",
              "  <div id=\"df-207747be-bb18-4731-af16-2aa1c75c9cc8\">\n",
              "    <div class=\"colab-df-container\">\n",
              "      <div>\n",
              "<style scoped>\n",
              "    .dataframe tbody tr th:only-of-type {\n",
              "        vertical-align: middle;\n",
              "    }\n",
              "\n",
              "    .dataframe tbody tr th {\n",
              "        vertical-align: top;\n",
              "    }\n",
              "\n",
              "    .dataframe thead th {\n",
              "        text-align: right;\n",
              "    }\n",
              "</style>\n",
              "<table border=\"1\" class=\"dataframe\">\n",
              "  <thead>\n",
              "    <tr style=\"text-align: right;\">\n",
              "      <th></th>\n",
              "      <th>Variable_Name</th>\n",
              "      <th>Information_Value</th>\n",
              "    </tr>\n",
              "  </thead>\n",
              "  <tbody>\n",
              "    <tr>\n",
              "      <th>8</th>\n",
              "      <td>RevolvingUtilizationOfUnsecuredLines</td>\n",
              "      <td>0.935429</td>\n",
              "    </tr>\n",
              "    <tr>\n",
              "      <th>6</th>\n",
              "      <td>NumberOfTimes90DaysLate</td>\n",
              "      <td>0.484202</td>\n",
              "    </tr>\n",
              "    <tr>\n",
              "      <th>4</th>\n",
              "      <td>NumberOfTime30-59DaysPastDueNotWorse</td>\n",
              "      <td>0.471831</td>\n",
              "    </tr>\n",
              "    <tr>\n",
              "      <th>5</th>\n",
              "      <td>NumberOfTime60-89DaysPastDueNotWorse</td>\n",
              "      <td>0.264824</td>\n",
              "    </tr>\n",
              "    <tr>\n",
              "      <th>10</th>\n",
              "      <td>age</td>\n",
              "      <td>0.219843</td>\n",
              "    </tr>\n",
              "    <tr>\n",
              "      <th>1</th>\n",
              "      <td>MonthlyIncome</td>\n",
              "      <td>0.065725</td>\n",
              "    </tr>\n",
              "    <tr>\n",
              "      <th>2</th>\n",
              "      <td>NumberOfDependents</td>\n",
              "      <td>0.023730</td>\n",
              "    </tr>\n",
              "    <tr>\n",
              "      <th>3</th>\n",
              "      <td>NumberOfOpenCreditLinesAndLoans</td>\n",
              "      <td>0.023300</td>\n",
              "    </tr>\n",
              "    <tr>\n",
              "      <th>0</th>\n",
              "      <td>DebtRatio</td>\n",
              "      <td>0.012360</td>\n",
              "    </tr>\n",
              "    <tr>\n",
              "      <th>7</th>\n",
              "      <td>NumberRealEstateLoansOrLines</td>\n",
              "      <td>0.001605</td>\n",
              "    </tr>\n",
              "    <tr>\n",
              "      <th>9</th>\n",
              "      <td>SeriousDlqin2yrs</td>\n",
              "      <td>0.000000</td>\n",
              "    </tr>\n",
              "  </tbody>\n",
              "</table>\n",
              "</div>\n",
              "      <button class=\"colab-df-convert\" onclick=\"convertToInteractive('df-207747be-bb18-4731-af16-2aa1c75c9cc8')\"\n",
              "              title=\"Convert this dataframe to an interactive table.\"\n",
              "              style=\"display:none;\">\n",
              "        \n",
              "  <svg xmlns=\"http://www.w3.org/2000/svg\" height=\"24px\"viewBox=\"0 0 24 24\"\n",
              "       width=\"24px\">\n",
              "    <path d=\"M0 0h24v24H0V0z\" fill=\"none\"/>\n",
              "    <path d=\"M18.56 5.44l.94 2.06.94-2.06 2.06-.94-2.06-.94-.94-2.06-.94 2.06-2.06.94zm-11 1L8.5 8.5l.94-2.06 2.06-.94-2.06-.94L8.5 2.5l-.94 2.06-2.06.94zm10 10l.94 2.06.94-2.06 2.06-.94-2.06-.94-.94-2.06-.94 2.06-2.06.94z\"/><path d=\"M17.41 7.96l-1.37-1.37c-.4-.4-.92-.59-1.43-.59-.52 0-1.04.2-1.43.59L10.3 9.45l-7.72 7.72c-.78.78-.78 2.05 0 2.83L4 21.41c.39.39.9.59 1.41.59.51 0 1.02-.2 1.41-.59l7.78-7.78 2.81-2.81c.8-.78.8-2.07 0-2.86zM5.41 20L4 18.59l7.72-7.72 1.47 1.35L5.41 20z\"/>\n",
              "  </svg>\n",
              "      </button>\n",
              "      \n",
              "  <style>\n",
              "    .colab-df-container {\n",
              "      display:flex;\n",
              "      flex-wrap:wrap;\n",
              "      gap: 12px;\n",
              "    }\n",
              "\n",
              "    .colab-df-convert {\n",
              "      background-color: #E8F0FE;\n",
              "      border: none;\n",
              "      border-radius: 50%;\n",
              "      cursor: pointer;\n",
              "      display: none;\n",
              "      fill: #1967D2;\n",
              "      height: 32px;\n",
              "      padding: 0 0 0 0;\n",
              "      width: 32px;\n",
              "    }\n",
              "\n",
              "    .colab-df-convert:hover {\n",
              "      background-color: #E2EBFA;\n",
              "      box-shadow: 0px 1px 2px rgba(60, 64, 67, 0.3), 0px 1px 3px 1px rgba(60, 64, 67, 0.15);\n",
              "      fill: #174EA6;\n",
              "    }\n",
              "\n",
              "    [theme=dark] .colab-df-convert {\n",
              "      background-color: #3B4455;\n",
              "      fill: #D2E3FC;\n",
              "    }\n",
              "\n",
              "    [theme=dark] .colab-df-convert:hover {\n",
              "      background-color: #434B5C;\n",
              "      box-shadow: 0px 1px 3px 1px rgba(0, 0, 0, 0.15);\n",
              "      filter: drop-shadow(0px 1px 2px rgba(0, 0, 0, 0.3));\n",
              "      fill: #FFFFFF;\n",
              "    }\n",
              "  </style>\n",
              "\n",
              "      <script>\n",
              "        const buttonEl =\n",
              "          document.querySelector('#df-207747be-bb18-4731-af16-2aa1c75c9cc8 button.colab-df-convert');\n",
              "        buttonEl.style.display =\n",
              "          google.colab.kernel.accessAllowed ? 'block' : 'none';\n",
              "\n",
              "        async function convertToInteractive(key) {\n",
              "          const element = document.querySelector('#df-207747be-bb18-4731-af16-2aa1c75c9cc8');\n",
              "          const dataTable =\n",
              "            await google.colab.kernel.invokeFunction('convertToInteractive',\n",
              "                                                     [key], {});\n",
              "          if (!dataTable) return;\n",
              "\n",
              "          const docLinkHtml = 'Like what you see? Visit the ' +\n",
              "            '<a target=\"_blank\" href=https://colab.research.google.com/notebooks/data_table.ipynb>data table notebook</a>'\n",
              "            + ' to learn more about interactive tables.';\n",
              "          element.innerHTML = '';\n",
              "          dataTable['output_type'] = 'display_data';\n",
              "          await google.colab.output.renderOutput(dataTable, element);\n",
              "          const docLink = document.createElement('div');\n",
              "          docLink.innerHTML = docLinkHtml;\n",
              "          element.appendChild(docLink);\n",
              "        }\n",
              "      </script>\n",
              "    </div>\n",
              "  </div>\n",
              "  "
            ]
          },
          "metadata": {},
          "execution_count": 103
        }
      ]
    },
    {
      "cell_type": "markdown",
      "source": [
        "**In the 'Information_value_df' dataframe, Starting from the highest Information Value and coming down upto 1st 5 descending order Information Value does match with the given rule**\\\n",
        "Information Value = 0.1 to 0.3: Medium predictive Power\\\n",
        "Information Value = 0.3 to 0.5: Strong predictive Powe\\\n",
        "Information Value > 0.5: Suspicious predictive Powe\\\n",
        "**Feature Extraction:**\\\n",
        "**Hence, we are choosing the 1st 5 important features on the basis of 1st 5 highest Information value as per the range of selection given in the rule above**   "
      ],
      "metadata": {
        "id": "EGxBddGMAmyv"
      },
      "id": "EGxBddGMAmyv"
    },
    {
      "cell_type": "code",
      "source": [
        "extracted_features = clf.iv_df.Variable_Name.values[:5]\n",
        "print(\"extracted_features:\\n\",extracted_features)\n",
        "#print(\"Transformed data by WoE values:\",woe_data)"
      ],
      "metadata": {
        "colab": {
          "base_uri": "https://localhost:8080/"
        },
        "id": "ZDM8b8P54iVE",
        "outputId": "ad9f1630-8c78-4c02-efb9-92ef6c0cfdf3"
      },
      "id": "ZDM8b8P54iVE",
      "execution_count": null,
      "outputs": [
        {
          "output_type": "stream",
          "name": "stdout",
          "text": [
            "extracted_features:\n",
            " ['RevolvingUtilizationOfUnsecuredLines' 'NumberOfTimes90DaysLate'\n",
            " 'NumberOfTime30-59DaysPastDueNotWorse'\n",
            " 'NumberOfTime60-89DaysPastDueNotWorse' 'age']\n"
          ]
        }
      ]
    },
    {
      "cell_type": "markdown",
      "metadata": {
        "id": "conservative-rebel"
      },
      "source": [
        "### Identify features,  target and split it into train and test"
      ],
      "id": "conservative-rebel"
    },
    {
      "cell_type": "code",
      "metadata": {
        "id": "ambient-dress",
        "colab": {
          "base_uri": "https://localhost:8080/"
        },
        "outputId": "6e2dd50f-0211-4933-f7f2-ef0d9a7f445b"
      },
      "source": [
        "# YOUR CODE HERE\n",
        "print(\"Before WOE transformation and Information Value, the no. of features:\",WOE_Transformed_df.shape[1])\n",
        "print(\"After WOE transformation and Information Value, the no. of features:\",len(extracted_features))"
      ],
      "id": "ambient-dress",
      "execution_count": null,
      "outputs": [
        {
          "output_type": "stream",
          "name": "stdout",
          "text": [
            "Before WOE transformation and Information Value, the no. of features: 10\n",
            "After WOE transformation and Information Value, the no. of features: 5\n"
          ]
        }
      ]
    },
    {
      "cell_type": "code",
      "source": [
        "# Selecting the Information Value weighted extracted_features from the WOE transformed dataset\n",
        "X = WOE_Transformed_df[extracted_features]\n",
        "\n",
        "# As the target doesn't need to  undergo WOE transformation, hence we select the target as below\n",
        "y = credit_data_df['SeriousDlqin2yrs']\n",
        "print(\"X Dimension:\",X.shape)\n",
        "print(\"y Dimension:\",y.shape)\n",
        "\n",
        "# Doing Train Test split\n",
        "Xtrain, Xtest, ytrain, ytest = train_test_split(X, y, test_size=0.2, random_state=66)\n",
        "print(\"Xtrain Dimension:\",Xtrain.shape)\n",
        "print(\"ytrain Dimension:\",ytrain.shape)\n",
        "print(\"Xtest Dimension:\",Xtest.shape)\n",
        "print(\"ytest Dimension:\",ytest.shape)"
      ],
      "metadata": {
        "colab": {
          "base_uri": "https://localhost:8080/"
        },
        "id": "i_4sHaycgiy4",
        "outputId": "b1144522-5f6d-42b6-b836-c93d6324f79e"
      },
      "id": "i_4sHaycgiy4",
      "execution_count": null,
      "outputs": [
        {
          "output_type": "stream",
          "name": "stdout",
          "text": [
            "X Dimension: (150000, 5)\n",
            "y Dimension: (150000,)\n",
            "Xtrain Dimension: (120000, 5)\n",
            "ytrain Dimension: (120000,)\n",
            "Xtest Dimension: (30000, 5)\n",
            "ytest Dimension: (30000,)\n"
          ]
        }
      ]
    },
    {
      "cell_type": "markdown",
      "metadata": {
        "id": "decreased-sucking"
      },
      "source": [
        "### Logistic Regression from scratch using gradient method (2 points)\n",
        "\n",
        "For Linear Regression, we had the hypothesis $yhat = w.X +b$ , whose output range was the set of all Real Numbers.\n",
        "Now, for Logistic Regression our hypothesis is  $yhat = sigmoid(w.X + b)$ , whose output range is between 0 and 1 because by applying a sigmoid function, we always output a number between 0 and 1.\n",
        "\n",
        "$yhat = \\frac{1}{1 +e^{-(w.x+b)}}$\n",
        "\n",
        "Hint: [logistic-regression-with-python](\n",
        "https://medium.com/@ODSC/logistic-regression-with-python-ede39f8573c7)"
      ],
      "id": "decreased-sucking"
    },
    {
      "cell_type": "code",
      "metadata": {
        "id": "precious-business",
        "colab": {
          "base_uri": "https://localhost:8080/"
        },
        "outputId": "d072f0b2-24de-406a-8456-824db056b873"
      },
      "source": [
        "# YOUR CODE HERE\n",
        "# Adding the Bias feature X0\n",
        "b = np.ones((Xtrain.shape[0], 1))  \n",
        "X_train = np.concatenate((b, Xtrain), axis=1)\n",
        "print(\"After adding Bias Feature, X_train Dimension:\",X_train.shape)\n",
        "X_test = np.concatenate((np.ones((Xtest.shape[0], 1)), Xtest), axis=1)\n",
        "print(\"After adding Bias Feature, X_test Dimension:\",X_test.shape)\n",
        "# Defining Initial weights\n",
        "w = np.zeros(X_train.shape[1])\n",
        "print(\"\\nDimension of weights vector:\",w.shape)"
      ],
      "id": "precious-business",
      "execution_count": null,
      "outputs": [
        {
          "output_type": "stream",
          "name": "stdout",
          "text": [
            "After adding Bias Feature, X_train Dimension: (120000, 6)\n",
            "After adding Bias Feature, X_test Dimension: (30000, 6)\n",
            "\n",
            "Dimension of weights vector: (6,)\n"
          ]
        }
      ]
    },
    {
      "cell_type": "code",
      "source": [
        "#Sigmoid method\n",
        "def sigmoid(x, theta):\n",
        "    t = np.dot(x, theta)\n",
        "    sigma_t_min = np.minimum(1 / (1 + np.exp(-t)), 0.9999)\n",
        "    sigma_t = np.maximum(sigma_t_min, 0.0001)\n",
        "    return sigma_t\n",
        "# Note:\n",
        "# Since the output can be rounded by sigmoid function to 0 or 1 because some input values are too small or too large, we later \n",
        "# get the logarithm of zero which equals to the negative infinitely large number and cannot be used for further computations. \n",
        "# That’s why we manually bound our sigmoid function\n",
        "\n",
        "def cost_function(x, y, theta):\n",
        "    import numpy as np\n",
        "    t = x.dot(theta)\n",
        "    A = y*np.log(sigmoid(x, theta))\n",
        "    B = (1-y)*np.log(1-sigmoid(x, theta))\n",
        "    f_theta = (-1/x.shape[0]) * np.sum(A+B)\n",
        "    return f_theta\n",
        "\n",
        "def gradient_cost_function(x, y, theta):\n",
        "    t = x.dot(theta)\n",
        "    p_hat = sigmoid(x, theta)\n",
        "    y_hat = p_hat\n",
        "    error = (y_hat - y)\n",
        "    gradient_f_theta = x.T.dot(y_hat - y) / y.shape[0]\n",
        "    return gradient_f_theta\n",
        "\n",
        "def update_theta(x, y, theta, learning_rate):\n",
        "    theta = theta - learning_rate * gradient_cost_function(x, y, theta)\n",
        "    return theta\n",
        "\n",
        "from sklearn.metrics import mean_squared_error\n",
        "\n",
        "def customizedfit(x, y, theta, lr, iterations, threshold=0.0005):\n",
        "    costs = []\n",
        "    for i in range(iterations):\n",
        "        sigma = sigmoid(x, theta)\n",
        "        MSE_loss = mean_squared_error(sigma, y)\n",
        "\n",
        "        cost = cost_function(x, y, theta)\n",
        "        #print(\"Training step:\", i, \" — Cost function:\", f'{cost:.4f}')\n",
        "        costs.append({\"costs\": cost, \"weights\": theta})\n",
        "        if i > iterations and abs(costs[-2]['costs'] - costs[-1]['costs']) < threshold:\n",
        "            break\n",
        "\n",
        "        # gradient\n",
        "        gradient_f_theta = gradient_cost_function(x, y, theta)\n",
        "        # df_dtheta = np.dot(x.T, (sigma - y)) / y.shape[0]\n",
        "        #Updating the weights\n",
        "        theta = update_theta(x, y, theta, lr)\n",
        "        weight = theta\n",
        "    print(\"Weight:\",weight)\n",
        "    return weight, costs"
      ],
      "metadata": {
        "id": "W0fXPQXosjrg"
      },
      "id": "W0fXPQXosjrg",
      "execution_count": null,
      "outputs": []
    },
    {
      "cell_type": "code",
      "source": [
        "updated_weights, costs = customizedfit(X_train, ytrain, w, 0.1, 5000, 0.0005) # ytrain, weight, 0.1 , 5000"
      ],
      "metadata": {
        "colab": {
          "base_uri": "https://localhost:8080/"
        },
        "id": "jfQh7XJQ9UlT",
        "outputId": "74424c64-d593-4b36-955c-0caeda2f4765"
      },
      "id": "jfQh7XJQ9UlT",
      "execution_count": null,
      "outputs": [
        {
          "output_type": "stream",
          "name": "stdout",
          "text": [
            "Weight: [-2.60816593  0.77074985  0.60220701  0.62029118  0.39673636  0.51998412]\n"
          ]
        }
      ]
    },
    {
      "cell_type": "markdown",
      "source": [
        "**Finally having trained the model, we can make predictions, based on our model:**"
      ],
      "metadata": {
        "id": "Xi3_JgMhmhr_"
      },
      "id": "Xi3_JgMhmhr_"
    },
    {
      "cell_type": "code",
      "source": [
        "def predict_class(x, theta, DetectionThreshold):\n",
        "    DetectedClass = (sigmoid(x, theta) >= 0.5).astype(int)\n",
        "    return DetectedClass \n",
        "\n",
        "# Let’s compare, how predicted data are different than the real:\n",
        "\n",
        "def get_accuracy(x, y, theta, DetectionThreshold):\n",
        "    y_pred = predict_class(x, theta, DetectionThreshold)\n",
        "    accuracy = (y_pred == y).sum() / y.shape[0]\n",
        "    return accuracy \n",
        "\n",
        "accuracy_with_trainingData = get_accuracy(X_train, ytrain, updated_weights, 0.5)\n",
        "accuracy_with_testData = get_accuracy(X_test, ytest, updated_weights, 0.5)\n",
        "\n",
        "print(\"Accuracy on the training set:\",accuracy_with_trainingData)\n",
        "\n",
        "print(\"Accuracy on the test set:\",accuracy_with_testData)"
      ],
      "metadata": {
        "colab": {
          "base_uri": "https://localhost:8080/"
        },
        "id": "ngIiuKmtmq48",
        "outputId": "6f80b32e-fab8-4f66-eee0-d84d342fb490"
      },
      "id": "ngIiuKmtmq48",
      "execution_count": null,
      "outputs": [
        {
          "output_type": "stream",
          "name": "stdout",
          "text": [
            "Accuracy on the training set: 0.93545\n",
            "Accuracy on the test set: 0.9367\n"
          ]
        }
      ]
    },
    {
      "cell_type": "code",
      "source": [
        "plt.figure(figsize=(15,10))\n",
        "\n",
        "plt.title(\"Model accuracy depending on the training step\")\n",
        "\n",
        "plt.plot(np.arange(0, len(costs)), [get_accuracy(X_train, ytrain, c[\"weights\"], 0.5) for c in costs],\\\n",
        "         alpha=0.7, label= 'Train', color='r') \n",
        "\n",
        "#get_accuracy(X_train, ytrain, updated_weights, 0.5)\n",
        "\n",
        "#costs.append({\"costs\": cost, \"weights\": theta})\n",
        "\n",
        "plt.plot(np.arange(0, len(costs)), [get_accuracy(X_test, ytest, c[\"weights\"], 0.5) for c in costs],\\\n",
        "         alpha=0.7, label= 'Test', color='b')\n",
        "\n",
        "plt.xlabel('No. of Iterations')\n",
        "\n",
        "plt.ylabel('Accuracy, %')\n",
        "\n",
        "plt.legend(loc='best')\n",
        "\n",
        "plt.grid(True)\n",
        "\n",
        "plt.xticks(np.arange(0, len(costs)+1, 40))\n",
        "\n",
        "plt.yticks(np.arange(0.5, 1, 0.1))\n",
        "\n",
        "plt.show()"
      ],
      "metadata": {
        "colab": {
          "base_uri": "https://localhost:8080/",
          "height": 627
        },
        "id": "wYx42IeNKQ2f",
        "outputId": "2509a43b-8542-4e73-ac1f-7e35bbdd757b"
      },
      "id": "wYx42IeNKQ2f",
      "execution_count": null,
      "outputs": [
        {
          "output_type": "display_data",
          "data": {
            "text/plain": [
              "<Figure size 1080x720 with 1 Axes>"
            ],
            "image/png": "[encoded data removed]"
          },
          "metadata": {}
        }
      ]
    },
    {
      "cell_type": "markdown",
      "metadata": {
        "id": "reliable-black"
      },
      "source": [
        "### Implement the Logistic regression using sklearn (2 points)\n",
        "\n",
        "As there is imbalance in the class distribution, add weightage to the Logistic regression.\n",
        "\n",
        "* Find the accuracy with class weightage in Logistic regression\n",
        "* Find the accuracy without class weightage in Logistic regression\n",
        "\n",
        "Hint: [LogisticRegression](https://scikit-learn.org/stable/modules/generated/sklearn.linear_model.LogisticRegression.html)"
      ],
      "id": "reliable-black"
    },
    {
      "cell_type": "markdown",
      "source": [
        "**Class Weightage in Logistic Regression**\n",
        "1. In logistic regression, the model predicts the probability of an input belonging to a certain class. The predicted class is then determined based on a threshold value. The accuracy of the model is typically measured by comparing the predicted class with the actual class and computing the number of correct predictions divided by the total number of predictions.\n",
        "\n",
        "2. However, in some cases, the classes may be imbalanced, meaning that some classes have more samples than others. In such cases, the standard accuracy metric may not be appropriate because it can be biased towards the majority class.\n",
        "\n",
        "3. To address this issue, we can use a weighted accuracy metric, which assigns a weight to each class based on its frequency in the data. The weighted accuracy is then computed by taking the average of the accuracy for each class, weighted by its frequency.\n",
        "\n",
        "4. Using the weighted accuracy metric can provide a more accurate evaluation of the performance of a logistic regression model when dealing with imbalanced classes.\n",
        "\n",
        "The formula for weighted accuracy is as follows:\n",
        "\n",
        "weighted accuracy = sum(i=1 to K) (wi * Ti) / sum(i=1 to K) wi\n",
        "\n",
        "where:\n",
        "*   K is the number of classes\n",
        "*   Ti is the number of correct predictions for class i\n",
        "*   wi is the weight assigned to class i, which is typically the inverse of its frequency in the data\n",
        "\n",
        "\n",
        "\n",
        "\n",
        "\n"
      ],
      "metadata": {
        "id": "S3MgnObGbnHT"
      },
      "id": "S3MgnObGbnHT"
    },
    {
      "cell_type": "code",
      "source": [
        "#class_weight_range = [{0: 1, 1: w} for w in range(1, 21)]\n",
        "percentage_SeriousDlqin2yrs = (counts / len(credit_data_df)) * 100\n",
        "prcnt = np.ceil(percentage_SeriousDlqin2yrs)\n",
        "Class_NonDlqn_frac = prcnt[0]/100 \n",
        "Class_Dlqn_frac = (100-prcnt[0])/100\n",
        "class_weights={0:Class_Dlqn_frac, 1: Class_NonDlqn_frac}\n",
        "class_weights"
      ],
      "metadata": {
        "colab": {
          "base_uri": "https://localhost:8080/"
        },
        "id": "4i3VVY_fuJaI",
        "outputId": "563ca6f3-7a2f-445c-9c7c-c9d6fe20c5b7"
      },
      "id": "4i3VVY_fuJaI",
      "execution_count": null,
      "outputs": [
        {
          "output_type": "execute_result",
          "data": {
            "text/plain": [
              "{0: 0.06, 1: 0.94}"
            ]
          },
          "metadata": {},
          "execution_count": 112
        }
      ]
    },
    {
      "cell_type": "code",
      "metadata": {
        "id": "impressive-assistant",
        "colab": {
          "base_uri": "https://localhost:8080/"
        },
        "outputId": "d1337915-5e69-412c-fef6-76cb554425a3"
      },
      "source": [
        "# With weightage\n",
        "# YOUR CODE HERE\n",
        "import pandas as pd\n",
        "from sklearn.model_selection import train_test_split, GridSearchCV\n",
        "from sklearn.linear_model import LogisticRegression\n",
        "from sklearn.metrics import accuracy_score\n",
        "\n",
        "# Define the range of values for class_weight parameter\n",
        "percentage_SeriousDlqin2yrs = (counts / len(credit_data_df)) * 100\n",
        "prcnt = np.ceil(percentage_SeriousDlqin2yrs)\n",
        "Class_NonDlqn_frac = prcnt[0]/100 \n",
        "Class_Dlqn_frac = (100-prcnt[0])/100\n",
        "class_weights={0:Class_Dlqn_frac, 1: Class_NonDlqn_frac}\n",
        "print(class_weights)\n",
        "# Training the Logistic Regression Model with class_weights\n",
        "logistic_regressor = LogisticRegression(class_weight=class_weights)\n",
        "print(X_train.shape)\n",
        "logistic_regressor.fit(X_train, ytrain)\n",
        "training_score = logistic_regressor.score(X_train, ytrain)\n",
        "print(X_test.shape)\n",
        "print(\"Score using class_weight:\")\n",
        "print(\"Training_Score:\",training_score)\n",
        "testing_score = logistic_regressor.score(X_test, ytest)\n",
        "print(\"Testing_Score:\",testing_score)\n",
        "\n",
        "# Predicting the classes\n",
        "y_pred_test = logistic_regressor.predict(X_test)\n",
        "print(\"\\nUsing class_weight, the Predicted Class:\",y_pred_test)"
      ],
      "id": "impressive-assistant",
      "execution_count": null,
      "outputs": [
        {
          "output_type": "stream",
          "name": "stdout",
          "text": [
            "{0: 0.06, 1: 0.94}\n",
            "(120000, 6)\n",
            "(30000, 6)\n",
            "Score using class_weight:\n",
            "Training_Score: 0.6912583333333333\n",
            "Testing_Score: 0.6907\n",
            "\n",
            "Using class_weight, the Predicted Class: [0 1 1 ... 0 0 0]\n"
          ]
        }
      ]
    },
    {
      "cell_type": "code",
      "source": [
        "# Perform grid search over class_weight_range\n",
        "class_weight_range = [{0: Class_Dlqn_frac, 1: w} for w in np.arange(0,2*Class_NonDlqn_frac,Class_NonDlqn_frac/5)]\n",
        "param_grid = {'class_weight': class_weight_range}\n",
        "Logistic_regressor = LogisticRegression(random_state=42)\n",
        "grid_search = GridSearchCV(Logistic_regressor, param_grid, cv=5, scoring='accuracy')\n",
        "grid_search.fit(X_train, ytrain)\n",
        "\n",
        "# Evaluate the performance of the best model on the test set\n",
        "best_logistic_regressor = grid_search.best_estimator_\n",
        "y_pred_test_grid_search = best_logistic_regressor.predict(X_test)\n",
        "accuracy = accuracy_score(ytest, y_pred_test_grid_search)\n",
        "print(\"Using class_weight and Grid Search Method:\")\n",
        "print(\"Accuracy on test set:\",accuracy)\n",
        "\n",
        "best_class_weight = best_logistic_regressor.get_params()[\"class_weight\"]\n",
        "print(\"Best class_weight parameter:\",best_class_weight)"
      ],
      "metadata": {
        "colab": {
          "base_uri": "https://localhost:8080/"
        },
        "id": "PPBM1dwxdPJQ",
        "outputId": "8ac9403a-70cb-4229-f5d9-38724bf30a62"
      },
      "id": "PPBM1dwxdPJQ",
      "execution_count": null,
      "outputs": [
        {
          "output_type": "stream",
          "name": "stdout",
          "text": [
            "Using class_weight and Grid Search Method:\n",
            "Accuracy on test set: 0.9342\n",
            "Best class_weight parameter: {0: 0.06, 1: 0.0}\n"
          ]
        }
      ]
    },
    {
      "cell_type": "code",
      "metadata": {
        "id": "similar-flower",
        "colab": {
          "base_uri": "https://localhost:8080/"
        },
        "outputId": "d957c143-34c0-4ec2-f157-843974ef7b12"
      },
      "source": [
        "# Without weightage\n",
        "# YOUR CODE HERE\n",
        "logistic_regressor2 = LogisticRegression()\n",
        "logistic_regressor2.fit(X_train, ytrain)\n",
        "print(X_train.shape) \n",
        "print(X_test.shape)\n",
        "training_score2 = logistic_regressor2.score(X_train, ytrain)\n",
        "print(\"Score without using class_weight:\")\n",
        "print(\"Training_Score:\",training_score2)\n",
        "\n",
        "testing_score2 = logistic_regressor2.score(X_test,ytest)\n",
        "print(\"Testing_Score:\",testing_score2)\n",
        "\n",
        "\n",
        "# Predicting the classes\n",
        "y_pred_test2 = logistic_regressor2.predict(X_test)\n",
        "print(\"\\nWithout using class_weight, the Predicted Class:\",y_pred_test2)"
      ],
      "id": "similar-flower",
      "execution_count": null,
      "outputs": [
        {
          "output_type": "stream",
          "name": "stdout",
          "text": [
            "(120000, 6)\n",
            "(30000, 6)\n",
            "Score without using class_weight:\n",
            "Training_Score: 0.93545\n",
            "Testing_Score: 0.9367\n",
            "\n",
            "Without using class_weight, the Predicted Class: [0 0 0 ... 0 0 0]\n"
          ]
        }
      ]
    },
    {
      "cell_type": "code",
      "source": [
        "from sklearn.metrics import confusion_matrix\n",
        "import seaborn as sns\n",
        "import matplotlib.pyplot as plt\n",
        "pred_data = np.column_stack((y_pred_test, y_pred_test2))\n",
        "pred_data = pd.DataFrame(pred_data)\n",
        "# calculate confusion matrix\n",
        "cm = confusion_matrix(y_pred_test, y_pred_test2)\n",
        "\n",
        "# create heatmap of confusion matrix\n",
        "sns.heatmap(cm, annot=True, cmap='Greens', xticklabels=[\"Non-Dlqin\", \"Dlqin\"], yticklabels=[\"Non-Dlqin\", \"Dlqin\"])\n",
        "\n",
        "# set plot properties\n",
        "plt.title(\"Confusion Matrix\")\n",
        "plt.xlabel(\"Predicted Label with class_weights\")\n",
        "plt.ylabel(\"Predicted Label without class_weights\")\n",
        "plt.show()"
      ],
      "metadata": {
        "colab": {
          "base_uri": "https://localhost:8080/",
          "height": 301
        },
        "id": "Y7GsaW3ksx7y",
        "outputId": "9155e726-59d1-4924-8afe-b2ed836c3c05"
      },
      "id": "Y7GsaW3ksx7y",
      "execution_count": null,
      "outputs": [
        {
          "output_type": "display_data",
          "data": {
            "text/plain": [
              "<Figure size 432x288 with 2 Axes>"
            ],
            "image/png": "[encoded data removed]"
          },
          "metadata": {}
        }
      ]
    },
    {
      "cell_type": "code",
      "source": [
        "# With class_weights\n",
        "coeffs = logistic_regressor.coef_\n",
        "intercept = logistic_regressor.intercept_\n",
        "b = logistic_regressor.coef_[0][-1] # PDO = ln(2) / b ---> b = ln(2) / PDO\n",
        "p_hat = logistic_regressor.predict_proba\n",
        "print(\"With class_weights:\\n\")\n",
        "print(\"coeffs:\",coeffs)\n",
        "print(\"intercept:\",intercept)\n",
        "print(\"b is the ratio between ln(2) and PDO, b=\",b)\n",
        "print(\"p_hat =\",p_hat)"
      ],
      "metadata": {
        "colab": {
          "base_uri": "https://localhost:8080/"
        },
        "id": "XTYd-ZC672GN",
        "outputId": "13ddf0a8-3a76-4e80-cdc6-3c5423550050"
      },
      "id": "XTYd-ZC672GN",
      "execution_count": null,
      "outputs": [
        {
          "output_type": "stream",
          "name": "stdout",
          "text": [
            "With class_weights:\n",
            "\n",
            "coeffs: [[0.07270379 0.78763989 0.69778754 0.73112538 0.58753334 0.56809402]]\n",
            "intercept: [0.0736006]\n",
            "b is the ratio between ln(2) and PDO, b= 0.5680940247607024\n",
            "p_hat = <bound method LogisticRegression.predict_proba of LogisticRegression(class_weight={0: 0.06, 1: 0.94})>\n"
          ]
        }
      ]
    },
    {
      "cell_type": "code",
      "source": [
        "# Without class_weights\n",
        "coeffs = logistic_regressor2.coef_\n",
        "intercept = logistic_regressor2.intercept_\n",
        "b = logistic_regressor2.coef_[0][-1] # PDO = ln(2) / b ---> b = ln(2) / PDO\n",
        "p_hat = logistic_regressor2.predict_proba\n",
        "print(\"Without class_weights:\\n\")\n",
        "print(\"coeffs:\",coeffs)\n",
        "print(\"intercept:\",intercept)\n",
        "print(\"b is the ratio between ln(2) and PDO, b=\",b)\n",
        "print(\"p_hat =\",p_hat)"
      ],
      "metadata": {
        "colab": {
          "base_uri": "https://localhost:8080/"
        },
        "id": "XUdQap5K-cFE",
        "outputId": "b35f5113-f0bc-4663-cadc-f85bf52e5893"
      },
      "id": "XUdQap5K-cFE",
      "execution_count": null,
      "outputs": [
        {
          "output_type": "stream",
          "name": "stdout",
          "text": [
            "Without class_weights:\n",
            "\n",
            "coeffs: [[1.00695776e-04 7.70365725e-01 6.02066046e-01 6.20241202e-01\n",
            "  3.96647481e-01 5.22567725e-01]]\n",
            "intercept: [-2.60835019]\n",
            "b is the ratio between ln(2) and PDO, b= 0.5225677246080995\n",
            "p_hat = <bound method LogisticRegression.predict_proba of LogisticRegression()>\n"
          ]
        }
      ]
    },
    {
      "cell_type": "markdown",
      "metadata": {
        "id": "signal-error"
      },
      "source": [
        "### Credit scoring (1 point)\n",
        "\n",
        "When scaling the model into a scorecard, we will need both the Logistic Regression coefficients from model fitting as well as the transformed WoE values. We will also need to convert the score from the model from the log-odds unit to a points system.\n",
        "For each independent variable Xi, its corresponding score is:\n",
        "\n",
        "$Score = \\sum_{i=1}^{n} (-(β_i × WoE_i + \\frac{α}{n}) × Factor + \\frac{Offset}{n})$\n",
        "\n",
        "Where:\n",
        "\n",
        "βi — logistic regression coefficient for the variable Xi\n",
        "\n",
        "α — logistic regression intercept\n",
        "\n",
        "WoE — Weight of Evidence value for variable Xi\n",
        "\n",
        "n — number of independent variable Xi in the model\n",
        "\n",
        "Factor, Offset — known as scaling parameter\n",
        "\n",
        "  - Factor = pdo / ln(2); pdo is points to double the odds\n",
        "  - Offset = Round_of_Score - {Factor * ln(Odds)}"
      ],
      "id": "signal-error"
    },
    {
      "cell_type": "code",
      "metadata": {
        "id": "worst-spare",
        "colab": {
          "base_uri": "https://localhost:8080/"
        },
        "outputId": "75bed085-f97b-4f9e-9118-2b98201d4af8"
      },
      "source": [
        "# Scaling factors\n",
        "# With class_weights\n",
        "coeffs = logistic_regressor.coef_\n",
        "intercept = logistic_regressor.intercept_\n",
        "\n",
        "\n",
        "factor = 20/np.log(2)\n",
        "offset = 600 - ( factor * np.log(50))\n",
        "factor, offset, coeffs"
      ],
      "id": "worst-spare",
      "execution_count": null,
      "outputs": [
        {
          "output_type": "execute_result",
          "data": {
            "text/plain": [
              "(28.85390081777927,\n",
              " 487.1228762045055,\n",
              " array([[0.07270379, 0.78763989, 0.69778754, 0.73112538, 0.58753334,\n",
              "         0.56809402]]))"
            ]
          },
          "metadata": {},
          "execution_count": 119
        }
      ]
    },
    {
      "cell_type": "code",
      "source": [
        "# Scaling factors\n",
        "# Without class_weights\n",
        "coeffs = logistic_regressor2.coef_\n",
        "intercept = logistic_regressor2.intercept_\n",
        "\n",
        "\n",
        "factor = 20/np.log(2)\n",
        "offset = 600 - ( factor * np.log(50))\n",
        "factor, offset, coeffs"
      ],
      "metadata": {
        "colab": {
          "base_uri": "https://localhost:8080/"
        },
        "id": "rCizK4cSF3Xh",
        "outputId": "5aa2a30a-7d65-4f6f-ad27-7ecc90dc5ecf"
      },
      "id": "rCizK4cSF3Xh",
      "execution_count": null,
      "outputs": [
        {
          "output_type": "execute_result",
          "data": {
            "text/plain": [
              "(28.85390081777927,\n",
              " 487.1228762045055,\n",
              " array([[1.00695776e-04, 7.70365725e-01, 6.02066046e-01, 6.20241202e-01,\n",
              "         3.96647481e-01, 5.22567725e-01]]))"
            ]
          },
          "metadata": {},
          "execution_count": 120
        }
      ]
    },
    {
      "cell_type": "code",
      "metadata": {
        "id": "XwwnwQKMU_Nx",
        "colab": {
          "base_uri": "https://localhost:8080/"
        },
        "outputId": "28cf5b3b-e16b-44d9-d85c-f8584b14a135"
      },
      "source": [
        "# YOUR CODE HERE\n",
        "# Doing Train Test split\n",
        "Xtrain, Xtest, ytrain, ytest = train_test_split(X, y, test_size=0.2, random_state=66)\n",
        "print(\"X Dimension:\",X.shape)\n",
        "print(\"Xtrain Dimension:\",Xtrain.shape)\n",
        "print(\"ytrain Dimension:\",ytrain.shape)\n",
        "print(\"Xtest Dimension:\",Xtest.shape)\n",
        "print(\"ytest Dimension:\",ytest.shape)\n",
        "print(\"X_train Dimension\",X_train.shape)\n",
        "print(\"X_test Dimension\",X_test.shape)\n",
        "X_features = np.vstack([X_train, X_test])\n",
        "print(\"X_features Dimension\",X_features.shape)\n",
        "X_features = pd.DataFrame(X_features)\n",
        "\n",
        "# Method-1:\n",
        "scores = []\n",
        "alpha = intercept\n",
        "n = X_features.shape[1] # No. of independent features including Bias feature\n",
        "# for idx, row in X_features.iterrows():\n",
        "    # Score  = []\n",
        "    # for i in range(len(row)+1):\n",
        "        #score_i = ((-(coeffs[i] * row[i] + (alpha/n)) * factor) + (offset/n))\n",
        "        # score_i = (-((row[i] * coeffs[i]) + (alpha/n)) * factor) + (offset/n)\n",
        "        # Score.append(score_i)\n",
        "    # Score = sum(Score)\n",
        "    # scores.append(Score)\n",
        "# print(\"All scores:\",scores)\n",
        "# print(\"Maximum Score:\",max(scores))\n",
        "# print(\"Minimum Score:\",min(scores))"
      ],
      "id": "XwwnwQKMU_Nx",
      "execution_count": null,
      "outputs": [
        {
          "output_type": "stream",
          "name": "stdout",
          "text": [
            "X Dimension: (150000, 5)\n",
            "Xtrain Dimension: (120000, 5)\n",
            "ytrain Dimension: (120000,)\n",
            "Xtest Dimension: (30000, 5)\n",
            "ytest Dimension: (30000,)\n",
            "X_train Dimension (120000, 6)\n",
            "X_test Dimension (30000, 6)\n",
            "X_features Dimension (150000, 6)\n"
          ]
        }
      ]
    },
    {
      "cell_type": "code",
      "source": [
        "# Method-2:\n",
        "scores = []\n",
        "alpha = intercept\n",
        "n = X_features.shape[1] # No. of independent features including Bias Feature\n",
        "Beta = coeffs.ravel()\n",
        "for idx, row in X_features.iterrows():\n",
        "  part1 = Beta * row.values                       # Beta_i * WoE_i\n",
        "  part2 = part1 + (alpha/n)                       # (Beta_i * WoE_i) + alpha / n\n",
        "  part3 = -part2 * factor                         # -((Beta_i * WoE_i) + alpha / n) * Factor\n",
        "  part4 = part3 + (offset/X_features.shape[1])    # -((Beta_i * WoE_i) + alpha / n) * Factor) + Offset / n\n",
        "  Score = sum(part4)                              # sum\n",
        "  scores.append(Score)                            # storing Score of each row in scores\n",
        "\n",
        "print(\"All scores:\",np.array(scores))\n",
        "print(\"Maximum Score:\",max(scores))\n",
        "print(\"Minimum Score:\",min(scores))"
      ],
      "metadata": {
        "colab": {
          "base_uri": "https://localhost:8080/"
        },
        "id": "6gzTjQhmogcp",
        "outputId": "c53f4f84-dc49-4997-c648-464c4bd977ab"
      },
      "id": "6gzTjQhmogcp",
      "execution_count": null,
      "outputs": [
        {
          "output_type": "stream",
          "name": "stdout",
          "text": [
            "All scores: [550.16248679 544.56838447 588.35480843 ... 614.19807018 601.14385334\n",
            " 614.19807018]\n",
            "Maximum Score: 614.198070181824\n",
            "Minimum Score: 420.79490986096977\n"
          ]
        }
      ]
    },
    {
      "cell_type": "markdown",
      "metadata": {
        "id": "intelligent-internship"
      },
      "source": [
        "### Performance Metrics (1 point)"
      ],
      "id": "intelligent-internship"
    },
    {
      "cell_type": "markdown",
      "metadata": {
        "id": "innocent-hygiene"
      },
      "source": [
        "#### Precision"
      ],
      "id": "innocent-hygiene"
    },
    {
      "cell_type": "markdown",
      "source": [
        "**'macro':**\\\n",
        "Calculate metrics for each label, and find their unweighted\n",
        "mean.  This does not take label imbalance into account.\n",
        "\n",
        "**'weighted':**\\\n",
        "Calculate metrics for each label, and find their average weighted\n",
        "by support (the no. of true instances for each label). This\n",
        "alters 'macro' to account for label imbalance; it can result in an\n",
        "F-score that is not between precision and recall."
      ],
      "metadata": {
        "id": "ZZW_ZGaQuwUu"
      },
      "id": "ZZW_ZGaQuwUu"
    },
    {
      "cell_type": "code",
      "metadata": {
        "id": "optimum-listening",
        "colab": {
          "base_uri": "https://localhost:8080/"
        },
        "outputId": "b132ca4e-f57d-4053-aea5-a1f5c03c4642"
      },
      "source": [
        "# YOUR CODE HERE\n",
        "from sklearn.metrics import precision_score\n",
        "\n",
        "precisionScore = precision_score(ytest, y_pred_test, average='weighted') \n",
        "print(\"With using class_weights, the precision_score:\",precisionScore)\n",
        "\n",
        "precisionScore2 = precision_score(ytest, y_pred_test2, average='macro') \n",
        "print(\"Without using class_weights, the precision_score:\",precisionScore2)"
      ],
      "id": "optimum-listening",
      "execution_count": null,
      "outputs": [
        {
          "output_type": "stream",
          "name": "stdout",
          "text": [
            "With using class_weights, the precision_score: 0.9270572563925541\n",
            "Without using class_weights, the precision_score: 0.7778018274901173\n"
          ]
        }
      ]
    },
    {
      "cell_type": "markdown",
      "metadata": {
        "id": "accessory-keyboard"
      },
      "source": [
        "#### Recall"
      ],
      "id": "accessory-keyboard"
    },
    {
      "cell_type": "code",
      "metadata": {
        "id": "civic-corner",
        "colab": {
          "base_uri": "https://localhost:8080/"
        },
        "outputId": "ff885574-1dfe-4c27-bafc-20bd0af59c34"
      },
      "source": [
        "# YOUR CODE HERE\n",
        "from sklearn.metrics import recall_score\n",
        "recallScore = recall_score(ytest, y_pred_test, average='weighted')\n",
        "print(\"With using class_weights, the recall_score:\",recallScore)\n",
        "\n",
        "recallScore2 = recall_score(ytest, y_pred_test2, average='macro')\n",
        "print(\"Without using class_weights, the recall_score:\",recallScore2)"
      ],
      "id": "civic-corner",
      "execution_count": null,
      "outputs": [
        {
          "output_type": "stream",
          "name": "stdout",
          "text": [
            "With using class_weights, the recall_score: 0.6907\n",
            "Without using class_weights, the recall_score: 0.5484284892209297\n"
          ]
        }
      ]
    },
    {
      "cell_type": "code",
      "source": [
        "from sklearn.metrics import plot_precision_recall_curve\n",
        "fig, axs = plt.subplots(nrows = 1, ncols = 2, figsize = (10, 5))\n",
        "\n",
        "plot_precision_recall_curve(logistic_regressor, X_test, ytest, name = 'Logistic Regression', ax = axs[0])\n",
        "axs[0].set_title(\"With using class_weights\")\n",
        "\n",
        "plot_precision_recall_curve(logistic_regressor2, X_test, ytest, name = 'Logistic Regression', ax = axs[1])\n",
        "axs[1].set_title(\"Without using class_weights\")\n",
        "\n",
        "plt.show()"
      ],
      "metadata": {
        "colab": {
          "base_uri": "https://localhost:8080/",
          "height": 444
        },
        "id": "0Bh7Y7TPBQXN",
        "outputId": "f694bb64-04d5-4b3d-ebca-b8cfd3f056ae"
      },
      "id": "0Bh7Y7TPBQXN",
      "execution_count": null,
      "outputs": [
        {
          "output_type": "stream",
          "name": "stderr",
          "text": [
            "/usr/local/lib/python3.8/dist-packages/sklearn/utils/deprecation.py:87: FutureWarning: Function plot_precision_recall_curve is deprecated; Function `plot_precision_recall_curve` is deprecated in 1.0 and will be removed in 1.2. Use one of the class methods: PrecisionRecallDisplay.from_predictions or PrecisionRecallDisplay.from_estimator.\n",
            "  warnings.warn(msg, category=FutureWarning)\n",
            "/usr/local/lib/python3.8/dist-packages/sklearn/utils/deprecation.py:87: FutureWarning: Function plot_precision_recall_curve is deprecated; Function `plot_precision_recall_curve` is deprecated in 1.0 and will be removed in 1.2. Use one of the class methods: PrecisionRecallDisplay.from_predictions or PrecisionRecallDisplay.from_estimator.\n",
            "  warnings.warn(msg, category=FutureWarning)\n"
          ]
        },
        {
          "output_type": "display_data",
          "data": {
            "text/plain": [
              "<Figure size 720x360 with 2 Axes>"
            ],
            "image/png": "[encoded data removed]"
          },
          "metadata": {}
        }
      ]
    },
    {
      "cell_type": "code",
      "source": [
        "# roc_curve() computes the ROC for the classifier and returns the FPR, TPR, and threshold values\n",
        "from sklearn.metrics import roc_curve\n",
        "from sklearn.metrics import plot_roc_curve\n",
        "\n",
        "fig, axs = plt.subplots(nrows = 1, ncols = 2, figsize = (10, 5))\n",
        "# With using class_weights\n",
        "plot_roc_curve(logistic_regressor, X_test, ytest, ax=axs[0])\n",
        "axs[0].set_title(\"ROC Curve: with using class_weights\")\n",
        "\n",
        "plot_roc_curve(logistic_regressor2, X_test, ytest, ax=axs[1])\n",
        "axs[1].set_title(\"ROC Curve: without using class_weights\")\n",
        "\n",
        "plt.show()"
      ],
      "metadata": {
        "colab": {
          "base_uri": "https://localhost:8080/",
          "height": 444
        },
        "id": "jx8F1-hkJxF7",
        "outputId": "546db223-b3dd-45bd-c1e0-757c75d27b76"
      },
      "id": "jx8F1-hkJxF7",
      "execution_count": null,
      "outputs": [
        {
          "output_type": "stream",
          "name": "stderr",
          "text": [
            "/usr/local/lib/python3.8/dist-packages/sklearn/utils/deprecation.py:87: FutureWarning: Function plot_roc_curve is deprecated; Function :func:`plot_roc_curve` is deprecated in 1.0 and will be removed in 1.2. Use one of the class methods: :meth:`sklearn.metric.RocCurveDisplay.from_predictions` or :meth:`sklearn.metric.RocCurveDisplay.from_estimator`.\n",
            "  warnings.warn(msg, category=FutureWarning)\n",
            "/usr/local/lib/python3.8/dist-packages/sklearn/utils/deprecation.py:87: FutureWarning: Function plot_roc_curve is deprecated; Function :func:`plot_roc_curve` is deprecated in 1.0 and will be removed in 1.2. Use one of the class methods: :meth:`sklearn.metric.RocCurveDisplay.from_predictions` or :meth:`sklearn.metric.RocCurveDisplay.from_estimator`.\n",
            "  warnings.warn(msg, category=FutureWarning)\n"
          ]
        },
        {
          "output_type": "display_data",
          "data": {
            "text/plain": [
              "<Figure size 720x360 with 2 Axes>"
            ],
            "image/png": "[encoded data removed]"
          },
          "metadata": {}
        }
      ]
    },
    {
      "cell_type": "markdown",
      "metadata": {
        "id": "wired-amendment"
      },
      "source": [
        "#### Classification Report"
      ],
      "id": "wired-amendment"
    },
    {
      "cell_type": "code",
      "metadata": {
        "id": "impossible-machinery",
        "colab": {
          "base_uri": "https://localhost:8080/"
        },
        "outputId": "ff3d2286-272e-479a-b23f-8637f143fc3f"
      },
      "source": [
        "# YOUR CODE HERE\n",
        "from sklearn.metrics import classification_report\n",
        "classificationReport = classification_report(ytest, y_pred_test)\n",
        "print(\"With using class_weights, the classification_report:\\n\",classificationReport)\n",
        "\n",
        "classificationReport2 = classification_report(ytest, y_pred_test2)\n",
        "print(\"Without using class_weights, the classification_report:\\n\",classificationReport2)"
      ],
      "id": "impossible-machinery",
      "execution_count": null,
      "outputs": [
        {
          "output_type": "stream",
          "name": "stdout",
          "text": [
            "With using class_weights, the classification_report:\n",
            "               precision    recall  f1-score   support\n",
            "\n",
            "           0       0.98      0.68      0.80     28026\n",
            "           1       0.15      0.82      0.26      1974\n",
            "\n",
            "    accuracy                           0.69     30000\n",
            "   macro avg       0.57      0.75      0.53     30000\n",
            "weighted avg       0.93      0.69      0.77     30000\n",
            "\n",
            "Without using class_weights, the classification_report:\n",
            "               precision    recall  f1-score   support\n",
            "\n",
            "           0       0.94      1.00      0.97     28026\n",
            "           1       0.62      0.10      0.17      1974\n",
            "\n",
            "    accuracy                           0.94     30000\n",
            "   macro avg       0.78      0.55      0.57     30000\n",
            "weighted avg       0.92      0.94      0.91     30000\n",
            "\n"
          ]
        }
      ]
    },
    {
      "cell_type": "markdown",
      "metadata": {
        "id": "dense-feelings"
      },
      "source": [
        "#### Confusion matrix"
      ],
      "id": "dense-feelings"
    },
    {
      "cell_type": "code",
      "metadata": {
        "id": "running-remains",
        "colab": {
          "base_uri": "https://localhost:8080/"
        },
        "outputId": "f17147dd-f22c-49d0-f3cc-d595f64a024c"
      },
      "source": [
        "# YOUR CODE HERE\n",
        "from sklearn.metrics import confusion_matrix\n",
        "CMat = confusion_matrix(ytest, y_pred_test)\n",
        "print(\"With using class_weights, the confusion matrix:\\n\",CMat)\n",
        "\n",
        "CMat2 = confusion_matrix(ytest, y_pred_test2)\n",
        "print(\"Without using class_weights, the confusion matrix:\\n\",CMat2)"
      ],
      "id": "running-remains",
      "execution_count": null,
      "outputs": [
        {
          "output_type": "stream",
          "name": "stdout",
          "text": [
            "With using class_weights, the confusion matrix:\n",
            " [[19106  8920]\n",
            " [  359  1615]]\n",
            "Without using class_weights, the confusion matrix:\n",
            " [[27901   125]\n",
            " [ 1774   200]]\n"
          ]
        }
      ]
    },
    {
      "cell_type": "code",
      "source": [
        "# plot confusion matrix\n",
        "fig, ax = plt.subplots()\n",
        "im = ax.imshow(CMat, cmap='Greens')\n",
        "\n",
        "# add colorbar\n",
        "cbar = ax.figure.colorbar(im, ax=ax)\n",
        "\n",
        "# set axis labels\n",
        "plt.title('With using class_weights')\n",
        "ax.set_xlabel('Predicted labels')\n",
        "ax.set_ylabel('True labels')\n",
        "\n",
        "# add tick labels\n",
        "ax.set_xticks(range(len(CMat)))\n",
        "ax.set_yticks(range(len(CMat)))\n",
        "ax.set_xticklabels(['Non-Dlqin', 'Dlqin'])\n",
        "ax.set_yticklabels(['Non-Dlqin', 'Dlqin'])\n",
        "\n",
        "# add annotations\n",
        "for i in range(len(CMat)):\n",
        "    for j in range(len(CMat)):\n",
        "        text = ax.text(j, i, CMat[i][j],\n",
        "                       ha=\"center\", va=\"center\", color=\"blue\")\n",
        "\n",
        "# display plot\n",
        "plt.show()"
      ],
      "metadata": {
        "colab": {
          "base_uri": "https://localhost:8080/",
          "height": 301
        },
        "id": "se3aT__4zu0G",
        "outputId": "4a85850e-d72e-4ee6-a317-8d7cc28797e1"
      },
      "id": "se3aT__4zu0G",
      "execution_count": null,
      "outputs": [
        {
          "output_type": "display_data",
          "data": {
            "text/plain": [
              "<Figure size 432x288 with 2 Axes>"
            ],
            "image/png": "[encoded data removed]"
          },
          "metadata": {}
        }
      ]
    },
    {
      "cell_type": "code",
      "source": [
        "# plot confusion matrix\n",
        "fig, ax = plt.subplots()\n",
        "im = ax.imshow(CMat, cmap='Reds')\n",
        "\n",
        "# add colorbar\n",
        "cbar = ax.figure.colorbar(im, ax=ax)\n",
        "\n",
        "# set axis labels\n",
        "plt.title('Without using class_weights')\n",
        "ax.set_xlabel('Predicted labels')\n",
        "ax.set_ylabel('True labels')\n",
        "\n",
        "# add tick labels\n",
        "ax.set_xticks(range(len(CMat2)))\n",
        "ax.set_yticks(range(len(CMat2)))\n",
        "ax.set_xticklabels(['Non-Dlqin', 'Dlqin'])\n",
        "ax.set_yticklabels(['Non-Dlqin', 'Dlqin'])\n",
        "\n",
        "# add annotations\n",
        "for i in range(len(CMat2)):\n",
        "    for j in range(len(CMat2)):\n",
        "        text = ax.text(j, i, CMat2[i][j],\n",
        "                       ha=\"center\", va=\"center\", color=\"blue\")\n",
        "\n",
        "# display plot\n",
        "plt.show()"
      ],
      "metadata": {
        "colab": {
          "base_uri": "https://localhost:8080/",
          "height": 301
        },
        "id": "i08z0TW41lQY",
        "outputId": "77bbdd61-10c4-4ab1-add4-83136fc4d0f4"
      },
      "id": "i08z0TW41lQY",
      "execution_count": null,
      "outputs": [
        {
          "output_type": "display_data",
          "data": {
            "text/plain": [
              "<Figure size 432x288 with 2 Axes>"
            ],
            "image/png": "[encoded data removed]"
          },
          "metadata": {}
        }
      ]
    },
    {
      "cell_type": "markdown",
      "metadata": {
        "id": "RR-ivkGyqJXs"
      },
      "source": [
        "### Report Analysis\n",
        "\n",
        "* Comment on the performance of the model with weightage and without weightage\n",
        "* Have you tried implementing Logistic regression with normal features instead of WOE ?\n",
        "  - Compare the classification report for both implementations"
      ],
      "id": "RR-ivkGyqJXs"
    },
    {
      "cell_type": "code",
      "source": [
        "import pandas as pd\n",
        "import numpy as np\n",
        "from sklearn.model_selection import train_test_split\n",
        "from sklearn.preprocessing import StandardScaler\n",
        "from sklearn.linear_model import LogisticRegression\n",
        "from sklearn.metrics import classification_report\n",
        "\n",
        "# Load the dataset\n",
        "GiveMeSomeCredit_data = pd.read_csv(\"GiveMeSomeCredit.csv\")\n",
        "GiveMeSomeCredit_data.head()\n",
        "df = GiveMeSomeCredit_data\n",
        "df.head()"
      ],
      "metadata": {
        "colab": {
          "base_uri": "https://localhost:8080/",
          "height": 288
        },
        "id": "tAJ-ZEDpvM7p",
        "outputId": "e5105906-f6b5-4e85-8ddc-07cb3c6e3adc"
      },
      "id": "tAJ-ZEDpvM7p",
      "execution_count": null,
      "outputs": [
        {
          "output_type": "execute_result",
          "data": {
            "text/plain": [
              "   Unnamed: 0  SeriousDlqin2yrs  RevolvingUtilizationOfUnsecuredLines  age  \\\n",
              "0           1                 1                              0.766127   45   \n",
              "1           2                 0                              0.957151   40   \n",
              "2           3                 0                              0.658180   38   \n",
              "3           4                 0                              0.233810   30   \n",
              "4           5                 0                              0.907239   49   \n",
              "\n",
              "   NumberOfTime30-59DaysPastDueNotWorse  DebtRatio  MonthlyIncome  \\\n",
              "0                                     2   0.802982         9120.0   \n",
              "1                                     0   0.121876         2600.0   \n",
              "2                                     1   0.085113         3042.0   \n",
              "3                                     0   0.036050         3300.0   \n",
              "4                                     1   0.024926        63588.0   \n",
              "\n",
              "   NumberOfOpenCreditLinesAndLoans  NumberOfTimes90DaysLate  \\\n",
              "0                               13                        0   \n",
              "1                                4                        0   \n",
              "2                                2                        1   \n",
              "3                                5                        0   \n",
              "4                                7                        0   \n",
              "\n",
              "   NumberRealEstateLoansOrLines  NumberOfTime60-89DaysPastDueNotWorse  \\\n",
              "0                             6                                     0   \n",
              "1                             0                                     0   \n",
              "2                             0                                     0   \n",
              "3                             0                                     0   \n",
              "4                             1                                     0   \n",
              "\n",
              "   NumberOfDependents  \n",
              "0                 2.0  \n",
              "1                 1.0  \n",
              "2                 0.0  \n",
              "3                 0.0  \n",
              "4                 0.0  "
            ],
            "text/html": [
              "\n",
              "  <div id=\"df-8fcb20a6-4610-4dc8-8899-0341b1f5185e\">\n",
              "    <div class=\"colab-df-container\">\n",
              "      <div>\n",
              "<style scoped>\n",
              "    .dataframe tbody tr th:only-of-type {\n",
              "        vertical-align: middle;\n",
              "    }\n",
              "\n",
              "    .dataframe tbody tr th {\n",
              "        vertical-align: top;\n",
              "    }\n",
              "\n",
              "    .dataframe thead th {\n",
              "        text-align: right;\n",
              "    }\n",
              "</style>\n",
              "<table border=\"1\" class=\"dataframe\">\n",
              "  <thead>\n",
              "    <tr style=\"text-align: right;\">\n",
              "      <th></th>\n",
              "      <th>Unnamed: 0</th>\n",
              "      <th>SeriousDlqin2yrs</th>\n",
              "      <th>RevolvingUtilizationOfUnsecuredLines</th>\n",
              "      <th>age</th>\n",
              "      <th>NumberOfTime30-59DaysPastDueNotWorse</th>\n",
              "      <th>DebtRatio</th>\n",
              "      <th>MonthlyIncome</th>\n",
              "      <th>NumberOfOpenCreditLinesAndLoans</th>\n",
              "      <th>NumberOfTimes90DaysLate</th>\n",
              "      <th>NumberRealEstateLoansOrLines</th>\n",
              "      <th>NumberOfTime60-89DaysPastDueNotWorse</th>\n",
              "      <th>NumberOfDependents</th>\n",
              "    </tr>\n",
              "  </thead>\n",
              "  <tbody>\n",
              "    <tr>\n",
              "      <th>0</th>\n",
              "      <td>1</td>\n",
              "      <td>1</td>\n",
              "      <td>0.766127</td>\n",
              "      <td>45</td>\n",
              "      <td>2</td>\n",
              "      <td>0.802982</td>\n",
              "      <td>9120.0</td>\n",
              "      <td>13</td>\n",
              "      <td>0</td>\n",
              "      <td>6</td>\n",
              "      <td>0</td>\n",
              "      <td>2.0</td>\n",
              "    </tr>\n",
              "    <tr>\n",
              "      <th>1</th>\n",
              "      <td>2</td>\n",
              "      <td>0</td>\n",
              "      <td>0.957151</td>\n",
              "      <td>40</td>\n",
              "      <td>0</td>\n",
              "      <td>0.121876</td>\n",
              "      <td>2600.0</td>\n",
              "      <td>4</td>\n",
              "      <td>0</td>\n",
              "      <td>0</td>\n",
              "      <td>0</td>\n",
              "      <td>1.0</td>\n",
              "    </tr>\n",
              "    <tr>\n",
              "      <th>2</th>\n",
              "      <td>3</td>\n",
              "      <td>0</td>\n",
              "      <td>0.658180</td>\n",
              "      <td>38</td>\n",
              "      <td>1</td>\n",
              "      <td>0.085113</td>\n",
              "      <td>3042.0</td>\n",
              "      <td>2</td>\n",
              "      <td>1</td>\n",
              "      <td>0</td>\n",
              "      <td>0</td>\n",
              "      <td>0.0</td>\n",
              "    </tr>\n",
              "    <tr>\n",
              "      <th>3</th>\n",
              "      <td>4</td>\n",
              "      <td>0</td>\n",
              "      <td>0.233810</td>\n",
              "      <td>30</td>\n",
              "      <td>0</td>\n",
              "      <td>0.036050</td>\n",
              "      <td>3300.0</td>\n",
              "      <td>5</td>\n",
              "      <td>0</td>\n",
              "      <td>0</td>\n",
              "      <td>0</td>\n",
              "      <td>0.0</td>\n",
              "    </tr>\n",
              "    <tr>\n",
              "      <th>4</th>\n",
              "      <td>5</td>\n",
              "      <td>0</td>\n",
              "      <td>0.907239</td>\n",
              "      <td>49</td>\n",
              "      <td>1</td>\n",
              "      <td>0.024926</td>\n",
              "      <td>63588.0</td>\n",
              "      <td>7</td>\n",
              "      <td>0</td>\n",
              "      <td>1</td>\n",
              "      <td>0</td>\n",
              "      <td>0.0</td>\n",
              "    </tr>\n",
              "  </tbody>\n",
              "</table>\n",
              "</div>\n",
              "      <button class=\"colab-df-convert\" onclick=\"convertToInteractive('df-8fcb20a6-4610-4dc8-8899-0341b1f5185e')\"\n",
              "              title=\"Convert this dataframe to an interactive table.\"\n",
              "              style=\"display:none;\">\n",
              "        \n",
              "  <svg xmlns=\"http://www.w3.org/2000/svg\" height=\"24px\"viewBox=\"0 0 24 24\"\n",
              "       width=\"24px\">\n",
              "    <path d=\"M0 0h24v24H0V0z\" fill=\"none\"/>\n",
              "    <path d=\"M18.56 5.44l.94 2.06.94-2.06 2.06-.94-2.06-.94-.94-2.06-.94 2.06-2.06.94zm-11 1L8.5 8.5l.94-2.06 2.06-.94-2.06-.94L8.5 2.5l-.94 2.06-2.06.94zm10 10l.94 2.06.94-2.06 2.06-.94-2.06-.94-.94-2.06-.94 2.06-2.06.94z\"/><path d=\"M17.41 7.96l-1.37-1.37c-.4-.4-.92-.59-1.43-.59-.52 0-1.04.2-1.43.59L10.3 9.45l-7.72 7.72c-.78.78-.78 2.05 0 2.83L4 21.41c.39.39.9.59 1.41.59.51 0 1.02-.2 1.41-.59l7.78-7.78 2.81-2.81c.8-.78.8-2.07 0-2.86zM5.41 20L4 18.59l7.72-7.72 1.47 1.35L5.41 20z\"/>\n",
              "  </svg>\n",
              "      </button>\n",
              "      \n",
              "  <style>\n",
              "    .colab-df-container {\n",
              "      display:flex;\n",
              "      flex-wrap:wrap;\n",
              "      gap: 12px;\n",
              "    }\n",
              "\n",
              "    .colab-df-convert {\n",
              "      background-color: #E8F0FE;\n",
              "      border: none;\n",
              "      border-radius: 50%;\n",
              "      cursor: pointer;\n",
              "      display: none;\n",
              "      fill: #1967D2;\n",
              "      height: 32px;\n",
              "      padding: 0 0 0 0;\n",
              "      width: 32px;\n",
              "    }\n",
              "\n",
              "    .colab-df-convert:hover {\n",
              "      background-color: #E2EBFA;\n",
              "      box-shadow: 0px 1px 2px rgba(60, 64, 67, 0.3), 0px 1px 3px 1px rgba(60, 64, 67, 0.15);\n",
              "      fill: #174EA6;\n",
              "    }\n",
              "\n",
              "    [theme=dark] .colab-df-convert {\n",
              "      background-color: #3B4455;\n",
              "      fill: #D2E3FC;\n",
              "    }\n",
              "\n",
              "    [theme=dark] .colab-df-convert:hover {\n",
              "      background-color: #434B5C;\n",
              "      box-shadow: 0px 1px 3px 1px rgba(0, 0, 0, 0.15);\n",
              "      filter: drop-shadow(0px 1px 2px rgba(0, 0, 0, 0.3));\n",
              "      fill: #FFFFFF;\n",
              "    }\n",
              "  </style>\n",
              "\n",
              "      <script>\n",
              "        const buttonEl =\n",
              "          document.querySelector('#df-8fcb20a6-4610-4dc8-8899-0341b1f5185e button.colab-df-convert');\n",
              "        buttonEl.style.display =\n",
              "          google.colab.kernel.accessAllowed ? 'block' : 'none';\n",
              "\n",
              "        async function convertToInteractive(key) {\n",
              "          const element = document.querySelector('#df-8fcb20a6-4610-4dc8-8899-0341b1f5185e');\n",
              "          const dataTable =\n",
              "            await google.colab.kernel.invokeFunction('convertToInteractive',\n",
              "                                                     [key], {});\n",
              "          if (!dataTable) return;\n",
              "\n",
              "          const docLinkHtml = 'Like what you see? Visit the ' +\n",
              "            '<a target=\"_blank\" href=https://colab.research.google.com/notebooks/data_table.ipynb>data table notebook</a>'\n",
              "            + ' to learn more about interactive tables.';\n",
              "          element.innerHTML = '';\n",
              "          dataTable['output_type'] = 'display_data';\n",
              "          await google.colab.output.renderOutput(dataTable, element);\n",
              "          const docLink = document.createElement('div');\n",
              "          docLink.innerHTML = docLinkHtml;\n",
              "          element.appendChild(docLink);\n",
              "        }\n",
              "      </script>\n",
              "    </div>\n",
              "  </div>\n",
              "  "
            ]
          },
          "metadata": {},
          "execution_count": 131
        }
      ]
    },
    {
      "cell_type": "code",
      "source": [
        "df.isna().sum()\n"
      ],
      "metadata": {
        "colab": {
          "base_uri": "https://localhost:8080/"
        },
        "id": "egL2YTKS084_",
        "outputId": "f44ad070-6485-4dac-f761-dddba83aa391"
      },
      "id": "egL2YTKS084_",
      "execution_count": null,
      "outputs": [
        {
          "output_type": "execute_result",
          "data": {
            "text/plain": [
              "Unnamed: 0                                  0\n",
              "SeriousDlqin2yrs                            0\n",
              "RevolvingUtilizationOfUnsecuredLines        0\n",
              "age                                         0\n",
              "NumberOfTime30-59DaysPastDueNotWorse        0\n",
              "DebtRatio                                   0\n",
              "MonthlyIncome                           29731\n",
              "NumberOfOpenCreditLinesAndLoans             0\n",
              "NumberOfTimes90DaysLate                     0\n",
              "NumberRealEstateLoansOrLines                0\n",
              "NumberOfTime60-89DaysPastDueNotWorse        0\n",
              "NumberOfDependents                       3924\n",
              "dtype: int64"
            ]
          },
          "metadata": {},
          "execution_count": 132
        }
      ]
    },
    {
      "cell_type": "code",
      "source": [
        "df= df.fillna((df.mean()))\n",
        "df.isna().sum()"
      ],
      "metadata": {
        "colab": {
          "base_uri": "https://localhost:8080/"
        },
        "id": "Kn1BY2jO1UNB",
        "outputId": "1191752e-062b-4cef-c578-cd420a4f193e"
      },
      "id": "Kn1BY2jO1UNB",
      "execution_count": null,
      "outputs": [
        {
          "output_type": "execute_result",
          "data": {
            "text/plain": [
              "Unnamed: 0                              0\n",
              "SeriousDlqin2yrs                        0\n",
              "RevolvingUtilizationOfUnsecuredLines    0\n",
              "age                                     0\n",
              "NumberOfTime30-59DaysPastDueNotWorse    0\n",
              "DebtRatio                               0\n",
              "MonthlyIncome                           0\n",
              "NumberOfOpenCreditLinesAndLoans         0\n",
              "NumberOfTimes90DaysLate                 0\n",
              "NumberRealEstateLoansOrLines            0\n",
              "NumberOfTime60-89DaysPastDueNotWorse    0\n",
              "NumberOfDependents                      0\n",
              "dtype: int64"
            ]
          },
          "metadata": {},
          "execution_count": 133
        }
      ]
    },
    {
      "cell_type": "code",
      "source": [
        "# Split the dataset into train and test sets\n",
        "X = df.drop(['SeriousDlqin2yrs'], axis=1)\n",
        "X = X.drop(['Unnamed: 0'], axis=1)\n",
        "y = df['SeriousDlqin2yrs']\n",
        "X_train, X_test, y_train, y_test = train_test_split(X, y, test_size=0.2, random_state=42)\n",
        "relevant_cols = list([X.columns])\n",
        "relevant_cols = ['RevolvingUtilizationOfUnsecuredLines', 'age', 'NumberOfTime30-59DaysPastDueNotWorse',\\\n",
        "                 'DebtRatio', 'MonthlyIncome', 'NumberOfOpenCreditLinesAndLoans', 'NumberOfTimes90DaysLate',\\\n",
        "                 'NumberRealEstateLoansOrLines', 'NumberOfTime60-89DaysPastDueNotWorse', 'NumberOfDependents']\n",
        "relevant_cols"
      ],
      "metadata": {
        "colab": {
          "base_uri": "https://localhost:8080/"
        },
        "id": "jGpsBXIawNnd",
        "outputId": "62cf943a-53c2-40ef-92c3-ea814f16328c"
      },
      "id": "jGpsBXIawNnd",
      "execution_count": null,
      "outputs": [
        {
          "output_type": "execute_result",
          "data": {
            "text/plain": [
              "['RevolvingUtilizationOfUnsecuredLines',\n",
              " 'age',\n",
              " 'NumberOfTime30-59DaysPastDueNotWorse',\n",
              " 'DebtRatio',\n",
              " 'MonthlyIncome',\n",
              " 'NumberOfOpenCreditLinesAndLoans',\n",
              " 'NumberOfTimes90DaysLate',\n",
              " 'NumberRealEstateLoansOrLines',\n",
              " 'NumberOfTime60-89DaysPastDueNotWorse',\n",
              " 'NumberOfDependents']"
            ]
          },
          "metadata": {},
          "execution_count": 134
        }
      ]
    },
    {
      "cell_type": "code",
      "source": [
        "# Feature engineering and selection\n",
        "relevant_cols = relevant_cols\n",
        "X_train = X_train[relevant_cols]\n",
        "X_test = X_test[relevant_cols]\n",
        "\n",
        "# Scale the features using StandardScaler\n",
        "scaler = StandardScaler()\n",
        "X_train = scaler.fit_transform(X_train)\n",
        "X_test = scaler.transform(X_test)\n",
        "\n",
        "# Fit the logistic regression model on training data with normal features\n",
        "logreg = LogisticRegression(random_state=42)\n",
        "logreg.fit(X_train, y_train)\n",
        "\n",
        "# Predict the outcomes for the test data using the trained model\n",
        "y_pred = logreg.predict(X_test)\n",
        "\n",
        "# Evaluate the model performance using classification report\n",
        "print(\"Classification report for logistic regression model with normal features:\")\n",
        "print(classification_report(y_test, y_pred))"
      ],
      "metadata": {
        "colab": {
          "base_uri": "https://localhost:8080/"
        },
        "id": "Z0LzUnxaw2vZ",
        "outputId": "d510a4e6-6219-4cab-a481-93d22acc0a8c"
      },
      "id": "Z0LzUnxaw2vZ",
      "execution_count": null,
      "outputs": [
        {
          "output_type": "stream",
          "name": "stdout",
          "text": [
            "Classification report for logistic regression model with normal features:\n",
            "              precision    recall  f1-score   support\n",
            "\n",
            "           0       0.94      1.00      0.97     28044\n",
            "           1       0.52      0.04      0.07      1956\n",
            "\n",
            "    accuracy                           0.94     30000\n",
            "   macro avg       0.73      0.52      0.52     30000\n",
            "weighted avg       0.91      0.94      0.91     30000\n",
            "\n"
          ]
        }
      ]
    },
    {
      "cell_type": "code",
      "source": [
        "X = WOE_Transformed_df[extracted_features]\n",
        "woe_cols = X.columns\n",
        "woe_cols"
      ],
      "metadata": {
        "colab": {
          "base_uri": "https://localhost:8080/"
        },
        "id": "9Fvy20MeGYmR",
        "outputId": "86de75c6-1a9d-4d18-899e-67c1d0502679"
      },
      "id": "9Fvy20MeGYmR",
      "execution_count": null,
      "outputs": [
        {
          "output_type": "execute_result",
          "data": {
            "text/plain": [
              "Index(['RevolvingUtilizationOfUnsecuredLines', 'NumberOfTimes90DaysLate',\n",
              "       'NumberOfTime30-59DaysPastDueNotWorse',\n",
              "       'NumberOfTime60-89DaysPastDueNotWorse', 'age'],\n",
              "      dtype='object')"
            ]
          },
          "metadata": {},
          "execution_count": 136
        }
      ]
    },
    {
      "cell_type": "code",
      "source": [
        "pd.DataFrame(X_train)"
      ],
      "metadata": {
        "colab": {
          "base_uri": "https://localhost:8080/",
          "height": 424
        },
        "id": "T1A7L6DPIyMn",
        "outputId": "2f190740-2b13-46b3-964e-722bcfc5cd1d"
      },
      "id": "T1A7L6DPIyMn",
      "execution_count": null,
      "outputs": [
        {
          "output_type": "execute_result",
          "data": {
            "text/plain": [
              "               0         1         2         3         4         5         6  \\\n",
              "0      -0.022803 -1.576975 -0.100746 -0.180840 -0.170403 -0.672522 -0.063764   \n",
              "1      -0.020393  0.184209 -0.100746 -0.180416 -0.353522  0.493412 -0.063764   \n",
              "2      -0.022803 -0.628645 -0.100746 -0.180824 -0.183248 -1.255488 -0.063764   \n",
              "3      -0.021217 -0.831859 -0.100746 -0.180815  0.169560 -1.255488 -0.063764   \n",
              "4      -0.022803 -1.170548 -0.100746 -0.180777 -0.063991  0.687734 -0.063764   \n",
              "...          ...       ...       ...       ...       ...       ...       ...   \n",
              "119995 -0.022369  1.335753 -0.100746 -0.180383 -0.195364  1.659345 -0.063764   \n",
              "119996 -0.022448  0.997064  0.137824  0.736676 -0.000478  0.299089 -0.063764   \n",
              "119997 -0.022525 -0.222218 -0.100746 -0.180499 -0.282945 -0.089555 -0.063764   \n",
              "119998 -0.021914 -1.102810 -0.100746 -0.180833 -0.377826 -1.255488 -0.063764   \n",
              "119999 -0.021961  0.658374  0.137824 -0.180792  0.242545 -0.866844 -0.063764   \n",
              "\n",
              "               7         8         9  \n",
              "0      -0.900750 -0.057706 -0.688087  \n",
              "1      -0.017611 -0.057706 -0.688087  \n",
              "2      -0.900750 -0.057706  2.943865  \n",
              "3      -0.900750 -0.057706  3.851854  \n",
              "4      -0.017611 -0.057706 -0.688087  \n",
              "...          ...       ...       ...  \n",
              "119995  0.865527 -0.057706  0.219901  \n",
              "119996 -0.017611 -0.057706  0.219901  \n",
              "119997  0.865527 -0.057706 -0.688087  \n",
              "119998 -0.900750 -0.057706 -0.688087  \n",
              "119999 -0.900750  0.183055 -0.688087  \n",
              "\n",
              "[120000 rows x 10 columns]"
            ],
            "text/html": [
              "\n",
              "  <div id=\"df-b54b7a0e-8e51-49b2-acb3-7a9e70e66e1b\">\n",
              "    <div class=\"colab-df-container\">\n",
              "      <div>\n",
              "<style scoped>\n",
              "    .dataframe tbody tr th:only-of-type {\n",
              "        vertical-align: middle;\n",
              "    }\n",
              "\n",
              "    .dataframe tbody tr th {\n",
              "        vertical-align: top;\n",
              "    }\n",
              "\n",
              "    .dataframe thead th {\n",
              "        text-align: right;\n",
              "    }\n",
              "</style>\n",
              "<table border=\"1\" class=\"dataframe\">\n",
              "  <thead>\n",
              "    <tr style=\"text-align: right;\">\n",
              "      <th></th>\n",
              "      <th>0</th>\n",
              "      <th>1</th>\n",
              "      <th>2</th>\n",
              "      <th>3</th>\n",
              "      <th>4</th>\n",
              "      <th>5</th>\n",
              "      <th>6</th>\n",
              "      <th>7</th>\n",
              "      <th>8</th>\n",
              "      <th>9</th>\n",
              "    </tr>\n",
              "  </thead>\n",
              "  <tbody>\n",
              "    <tr>\n",
              "      <th>0</th>\n",
              "      <td>-0.022803</td>\n",
              "      <td>-1.576975</td>\n",
              "      <td>-0.100746</td>\n",
              "      <td>-0.180840</td>\n",
              "      <td>-0.170403</td>\n",
              "      <td>-0.672522</td>\n",
              "      <td>-0.063764</td>\n",
              "      <td>-0.900750</td>\n",
              "      <td>-0.057706</td>\n",
              "      <td>-0.688087</td>\n",
              "    </tr>\n",
              "    <tr>\n",
              "      <th>1</th>\n",
              "      <td>-0.020393</td>\n",
              "      <td>0.184209</td>\n",
              "      <td>-0.100746</td>\n",
              "      <td>-0.180416</td>\n",
              "      <td>-0.353522</td>\n",
              "      <td>0.493412</td>\n",
              "      <td>-0.063764</td>\n",
              "      <td>-0.017611</td>\n",
              "      <td>-0.057706</td>\n",
              "      <td>-0.688087</td>\n",
              "    </tr>\n",
              "    <tr>\n",
              "      <th>2</th>\n",
              "      <td>-0.022803</td>\n",
              "      <td>-0.628645</td>\n",
              "      <td>-0.100746</td>\n",
              "      <td>-0.180824</td>\n",
              "      <td>-0.183248</td>\n",
              "      <td>-1.255488</td>\n",
              "      <td>-0.063764</td>\n",
              "      <td>-0.900750</td>\n",
              "      <td>-0.057706</td>\n",
              "      <td>2.943865</td>\n",
              "    </tr>\n",
              "    <tr>\n",
              "      <th>3</th>\n",
              "      <td>-0.021217</td>\n",
              "      <td>-0.831859</td>\n",
              "      <td>-0.100746</td>\n",
              "      <td>-0.180815</td>\n",
              "      <td>0.169560</td>\n",
              "      <td>-1.255488</td>\n",
              "      <td>-0.063764</td>\n",
              "      <td>-0.900750</td>\n",
              "      <td>-0.057706</td>\n",
              "      <td>3.851854</td>\n",
              "    </tr>\n",
              "    <tr>\n",
              "      <th>4</th>\n",
              "      <td>-0.022803</td>\n",
              "      <td>-1.170548</td>\n",
              "      <td>-0.100746</td>\n",
              "      <td>-0.180777</td>\n",
              "      <td>-0.063991</td>\n",
              "      <td>0.687734</td>\n",
              "      <td>-0.063764</td>\n",
              "      <td>-0.017611</td>\n",
              "      <td>-0.057706</td>\n",
              "      <td>-0.688087</td>\n",
              "    </tr>\n",
              "    <tr>\n",
              "      <th>...</th>\n",
              "      <td>...</td>\n",
              "      <td>...</td>\n",
              "      <td>...</td>\n",
              "      <td>...</td>\n",
              "      <td>...</td>\n",
              "      <td>...</td>\n",
              "      <td>...</td>\n",
              "      <td>...</td>\n",
              "      <td>...</td>\n",
              "      <td>...</td>\n",
              "    </tr>\n",
              "    <tr>\n",
              "      <th>119995</th>\n",
              "      <td>-0.022369</td>\n",
              "      <td>1.335753</td>\n",
              "      <td>-0.100746</td>\n",
              "      <td>-0.180383</td>\n",
              "      <td>-0.195364</td>\n",
              "      <td>1.659345</td>\n",
              "      <td>-0.063764</td>\n",
              "      <td>0.865527</td>\n",
              "      <td>-0.057706</td>\n",
              "      <td>0.219901</td>\n",
              "    </tr>\n",
              "    <tr>\n",
              "      <th>119996</th>\n",
              "      <td>-0.022448</td>\n",
              "      <td>0.997064</td>\n",
              "      <td>0.137824</td>\n",
              "      <td>0.736676</td>\n",
              "      <td>-0.000478</td>\n",
              "      <td>0.299089</td>\n",
              "      <td>-0.063764</td>\n",
              "      <td>-0.017611</td>\n",
              "      <td>-0.057706</td>\n",
              "      <td>0.219901</td>\n",
              "    </tr>\n",
              "    <tr>\n",
              "      <th>119997</th>\n",
              "      <td>-0.022525</td>\n",
              "      <td>-0.222218</td>\n",
              "      <td>-0.100746</td>\n",
              "      <td>-0.180499</td>\n",
              "      <td>-0.282945</td>\n",
              "      <td>-0.089555</td>\n",
              "      <td>-0.063764</td>\n",
              "      <td>0.865527</td>\n",
              "      <td>-0.057706</td>\n",
              "      <td>-0.688087</td>\n",
              "    </tr>\n",
              "    <tr>\n",
              "      <th>119998</th>\n",
              "      <td>-0.021914</td>\n",
              "      <td>-1.102810</td>\n",
              "      <td>-0.100746</td>\n",
              "      <td>-0.180833</td>\n",
              "      <td>-0.377826</td>\n",
              "      <td>-1.255488</td>\n",
              "      <td>-0.063764</td>\n",
              "      <td>-0.900750</td>\n",
              "      <td>-0.057706</td>\n",
              "      <td>-0.688087</td>\n",
              "    </tr>\n",
              "    <tr>\n",
              "      <th>119999</th>\n",
              "      <td>-0.021961</td>\n",
              "      <td>0.658374</td>\n",
              "      <td>0.137824</td>\n",
              "      <td>-0.180792</td>\n",
              "      <td>0.242545</td>\n",
              "      <td>-0.866844</td>\n",
              "      <td>-0.063764</td>\n",
              "      <td>-0.900750</td>\n",
              "      <td>0.183055</td>\n",
              "      <td>-0.688087</td>\n",
              "    </tr>\n",
              "  </tbody>\n",
              "</table>\n",
              "<p>120000 rows × 10 columns</p>\n",
              "</div>\n",
              "      <button class=\"colab-df-convert\" onclick=\"convertToInteractive('df-b54b7a0e-8e51-49b2-acb3-7a9e70e66e1b')\"\n",
              "              title=\"Convert this dataframe to an interactive table.\"\n",
              "              style=\"display:none;\">\n",
              "        \n",
              "  <svg xmlns=\"http://www.w3.org/2000/svg\" height=\"24px\"viewBox=\"0 0 24 24\"\n",
              "       width=\"24px\">\n",
              "    <path d=\"M0 0h24v24H0V0z\" fill=\"none\"/>\n",
              "    <path d=\"M18.56 5.44l.94 2.06.94-2.06 2.06-.94-2.06-.94-.94-2.06-.94 2.06-2.06.94zm-11 1L8.5 8.5l.94-2.06 2.06-.94-2.06-.94L8.5 2.5l-.94 2.06-2.06.94zm10 10l.94 2.06.94-2.06 2.06-.94-2.06-.94-.94-2.06-.94 2.06-2.06.94z\"/><path d=\"M17.41 7.96l-1.37-1.37c-.4-.4-.92-.59-1.43-.59-.52 0-1.04.2-1.43.59L10.3 9.45l-7.72 7.72c-.78.78-.78 2.05 0 2.83L4 21.41c.39.39.9.59 1.41.59.51 0 1.02-.2 1.41-.59l7.78-7.78 2.81-2.81c.8-.78.8-2.07 0-2.86zM5.41 20L4 18.59l7.72-7.72 1.47 1.35L5.41 20z\"/>\n",
              "  </svg>\n",
              "      </button>\n",
              "      \n",
              "  <style>\n",
              "    .colab-df-container {\n",
              "      display:flex;\n",
              "      flex-wrap:wrap;\n",
              "      gap: 12px;\n",
              "    }\n",
              "\n",
              "    .colab-df-convert {\n",
              "      background-color: #E8F0FE;\n",
              "      border: none;\n",
              "      border-radius: 50%;\n",
              "      cursor: pointer;\n",
              "      display: none;\n",
              "      fill: #1967D2;\n",
              "      height: 32px;\n",
              "      padding: 0 0 0 0;\n",
              "      width: 32px;\n",
              "    }\n",
              "\n",
              "    .colab-df-convert:hover {\n",
              "      background-color: #E2EBFA;\n",
              "      box-shadow: 0px 1px 2px rgba(60, 64, 67, 0.3), 0px 1px 3px 1px rgba(60, 64, 67, 0.15);\n",
              "      fill: #174EA6;\n",
              "    }\n",
              "\n",
              "    [theme=dark] .colab-df-convert {\n",
              "      background-color: #3B4455;\n",
              "      fill: #D2E3FC;\n",
              "    }\n",
              "\n",
              "    [theme=dark] .colab-df-convert:hover {\n",
              "      background-color: #434B5C;\n",
              "      box-shadow: 0px 1px 3px 1px rgba(0, 0, 0, 0.15);\n",
              "      filter: drop-shadow(0px 1px 2px rgba(0, 0, 0, 0.3));\n",
              "      fill: #FFFFFF;\n",
              "    }\n",
              "  </style>\n",
              "\n",
              "      <script>\n",
              "        const buttonEl =\n",
              "          document.querySelector('#df-b54b7a0e-8e51-49b2-acb3-7a9e70e66e1b button.colab-df-convert');\n",
              "        buttonEl.style.display =\n",
              "          google.colab.kernel.accessAllowed ? 'block' : 'none';\n",
              "\n",
              "        async function convertToInteractive(key) {\n",
              "          const element = document.querySelector('#df-b54b7a0e-8e51-49b2-acb3-7a9e70e66e1b');\n",
              "          const dataTable =\n",
              "            await google.colab.kernel.invokeFunction('convertToInteractive',\n",
              "                                                     [key], {});\n",
              "          if (!dataTable) return;\n",
              "\n",
              "          const docLinkHtml = 'Like what you see? Visit the ' +\n",
              "            '<a target=\"_blank\" href=https://colab.research.google.com/notebooks/data_table.ipynb>data table notebook</a>'\n",
              "            + ' to learn more about interactive tables.';\n",
              "          element.innerHTML = '';\n",
              "          dataTable['output_type'] = 'display_data';\n",
              "          await google.colab.output.renderOutput(dataTable, element);\n",
              "          const docLink = document.createElement('div');\n",
              "          docLink.innerHTML = docLinkHtml;\n",
              "          element.appendChild(docLink);\n",
              "        }\n",
              "      </script>\n",
              "    </div>\n",
              "  </div>\n",
              "  "
            ]
          },
          "metadata": {},
          "execution_count": 137
        }
      ]
    },
    {
      "cell_type": "code",
      "source": [
        "#@title\n",
        "# YOUR CODE HERE\n",
        "import pandas as pd\n",
        "from xverse.transformer import MonotonicBinning\n",
        "from xverse.transformer import WOE\n",
        "\n",
        "# Binning\n",
        "clf = MonotonicBinning()\n",
        "clf.fit(credit_data_df, credit_data_df['SeriousDlqin2yrs'])\n",
        "print(clf.bins)\n",
        "\n",
        "# Feature transformation using xverse package\n",
        "xverse_transformed_feature = clf.transform(credit_data_df.iloc[:,1:])\n",
        "xverse_transformed_feature.head()\n",
        "\n",
        "\n",
        "\n",
        "# Calculating Weight of Evidence using xverse package\n",
        "clf = WOE()\n",
        "clf.fit(credit_data_df, credit_data_df['SeriousDlqin2yrs'])\n",
        "\n",
        "#Weight of Evidence calculation:\n",
        "# WOE transformation dataset\n",
        "clf.woe_df.head()\n",
        "\n",
        "\n",
        "\n",
        "WOE_Transformed_df = clf.transform(credit_data_df.iloc[:,1:])\n",
        "WOE_Transformed_df\n",
        "\n",
        "\n",
        "# Information Value calculation:\n",
        "#Information value dataset\n",
        "Information_value_df = clf.iv_df\n",
        "Information_value_df\n",
        "\n",
        "\n",
        "\n",
        "extracted_features = clf.iv_df.Variable_Name.values[:5]\n",
        "print(\"extracted_features:\\n\",extracted_features)\n",
        "#print(\"Transformed data by WoE values:\",woe_data)\n",
        "\n",
        "\n",
        "\n",
        "# YOUR CODE HERE\n",
        "print(\"Before WOE transformation and Information Value, the no. of features:\",WOE_Transformed_df.shape[1])\n",
        "print(\"After WOE transformation and Information Value, the no. of features:\",len(extracted_features))\n",
        "\n",
        "\n",
        "\n",
        "# Selecting the Information Value weighted extracted_features from the WOE transformed dataset\n",
        "X = WOE_Transformed_df[extracted_features]\n",
        "\n",
        "# As the target doesn't need to  undergo WOE transformation, hence we select the target as below\n",
        "y = credit_data_df['SeriousDlqin2yrs']\n",
        "print(\"X Dimension:\",X.shape)\n",
        "print(\"y Dimension:\",y.shape)\n",
        "\n",
        "# Doing Train Test split\n",
        "Xtrain, Xtest, ytrain, ytest = train_test_split(X, y, test_size=0.2, random_state=66)\n",
        "print(\"Xtrain Dimension:\",Xtrain.shape)\n",
        "print(\"ytrain Dimension:\",ytrain.shape)\n",
        "print(\"Xtest Dimension:\",Xtest.shape)\n",
        "print(\"ytest Dimension:\",ytest.shape)\n",
        "\n",
        "\n",
        "# YOUR CODE HERE\n",
        "# Adding the Bias feature X0\n",
        "b = np.ones((Xtrain.shape[0], 1))  \n",
        "X_train = np.concatenate((b, Xtrain), axis=1)\n",
        "print(\"After adding Bias Feature, X_train Dimension:\",X_train.shape)\n",
        "X_test = np.concatenate((np.ones((Xtest.shape[0], 1)), Xtest), axis=1)\n",
        "print(\"After adding Bias Feature, X_test Dimension:\",X_test.shape)\n",
        "# Defining Initial weights\n",
        "w = np.zeros(X_train.shape[1])\n",
        "print(\"\\nDimension of weights vector:\",w.shape)\n",
        "\n",
        "\n",
        "\n",
        "\n",
        "# Without weightage\n",
        "# YOUR CODE HERE\n",
        "logistic_regressor2 = LogisticRegression()\n",
        "logistic_regressor2.fit(X_train, ytrain)\n",
        "print(X_train.shape) \n",
        "print(X_test.shape)\n",
        "training_score2 = logistic_regressor2.score(X_train, ytrain)\n",
        "print(\"Score without using class_weight:\")\n",
        "print(\"Training_Score:\",training_score2)\n",
        "\n",
        "testing_score2 = logistic_regressor2.score(X_test,ytest)\n",
        "print(\"Testing_Score:\",testing_score2)\n",
        "\n",
        "\n",
        "# Predicting the classes\n",
        "y_pred_test2 = logistic_regressor2.predict(X_test)\n",
        "print(\"\\nWithout using class_weight, the Predicted Class:\",y_pred_test2)\n",
        "\n",
        "\n",
        "# Without class_weights\n",
        "coeffs = logistic_regressor2.coef_\n",
        "intercept = logistic_regressor2.intercept_\n",
        "b = logistic_regressor2.coef_[0][-1] # PDO = ln(2) / b ---> b = ln(2) / PDO\n",
        "p_hat = logistic_regressor2.predict_proba\n",
        "print(\"Without class_weights:\\n\")\n",
        "print(\"coeffs:\",coeffs)\n",
        "print(\"intercept:\",intercept)\n",
        "print(\"b is the ratio between ln(2) and PDO, b=\",b)\n",
        "print(\"p_hat =\",p_hat)\n",
        "\n",
        "\n",
        "\n",
        "\n",
        "# Scaling factors\n",
        "# Without class_weights\n",
        "coeffs = logistic_regressor2.coef_\n",
        "intercept = logistic_regressor2.intercept_\n",
        "\n",
        "\n",
        "factor = 20/np.log(2)\n",
        "offset = 600 - ( factor * np.log(50))\n",
        "factor, offset, coeffs\n",
        "\n",
        "\n",
        "# YOUR CODE HERE\n",
        "# Doing Train Test split\n",
        "Xtrain, Xtest, ytrain, ytest = train_test_split(X, y, test_size=0.2, random_state=66)\n",
        "print(\"X Dimension:\",X.shape)\n",
        "print(\"Xtrain Dimension:\",Xtrain.shape)\n",
        "print(\"ytrain Dimension:\",ytrain.shape)\n",
        "print(\"Xtest Dimension:\",Xtest.shape)\n",
        "print(\"ytest Dimension:\",ytest.shape)\n",
        "print(\"X_train Dimension\",X_train.shape)\n",
        "print(\"X_test Dimension\",X_test.shape)\n",
        "X_features = np.vstack([X_train, X_test])\n",
        "print(\"X_features Dimension\",X_features.shape)\n",
        "X_features = pd.DataFrame(X_features)\n",
        "\n",
        "# Method-1:\n",
        "scores = []\n",
        "alpha = intercept\n",
        "n = X_features.shape[1] # No. of independent features including Bias feature\n",
        "# for idx, row in X_features.iterrows():\n",
        "    # Score  = []\n",
        "    # for i in range(len(row)+1):\n",
        "        #score_i = ((-(coeffs[i] * row[i] + (alpha/n)) * factor) + (offset/n))\n",
        "        # score_i = (-((row[i] * coeffs[i]) + (alpha/n)) * factor) + (offset/n)\n",
        "        # Score.append(score_i)\n",
        "    # Score = sum(Score)\n",
        "    # scores.append(Score)\n",
        "# print(\"All scores:\",scores)\n",
        "# print(\"Maximum Score:\",max(scores))\n",
        "# print(\"Minimum Score:\",min(scores))\n",
        "\n",
        "\n",
        "\n",
        "# Method-2:\n",
        "scores = []\n",
        "alpha = intercept\n",
        "n = X_features.shape[1] # No. of independent features including Bias Feature\n",
        "Beta = coeffs.ravel()\n",
        "for idx, row in X_features.iterrows():\n",
        "  part1 = Beta * row.values                       # Beta_i * WoE_i\n",
        "  part2 = part1 + (alpha/n)                       # (Beta_i * WoE_i) + alpha / n\n",
        "  part3 = -part2 * factor                         # -((Beta_i * WoE_i) + alpha / n) * Factor\n",
        "  part4 = part3 + (offset/X_features.shape[1])    # -((Beta_i * WoE_i) + alpha / n) * Factor) + Offset / n\n",
        "  Score = sum(part4)                              # sum\n",
        "  scores.append(Score)                            # storing Score of each row in scores\n",
        "\n",
        "print(\"All scores:\",np.array(scores))\n",
        "print(\"Maximum Score:\",max(scores))\n",
        "print(\"Minimum Score:\",min(scores))"
      ],
      "metadata": {
        "colab": {
          "base_uri": "https://localhost:8080/"
        },
        "cellView": "form",
        "collapsed": true,
        "id": "xms5kIL60P1M",
        "outputId": "1ce48011-0739-4d7f-bacc-96813d4b096e"
      },
      "id": "xms5kIL60P1M",
      "execution_count": null,
      "outputs": [
        {
          "output_type": "stream",
          "name": "stdout",
          "text": [
            "{'SeriousDlqin2yrs': array([0., 1.]), 'RevolvingUtilizationOfUnsecuredLines': array([0.00000000e+00, 5.44198870e-02, 3.79945496e-01, 5.07080000e+04]), 'age': array([  0.,  45.,  59., 109.]), 'NumberOfTime30-59DaysPastDueNotWorse': array([ 0.,  1., 98.]), 'DebtRatio': array([0.00000000e+00, 2.38192456e-01, 5.69938302e-01, 3.29664000e+05]), 'MonthlyIncome': array([      0.        ,    4700.        ,    6670.22123739,\n",
            "       3008750.        ]), 'NumberOfOpenCreditLinesAndLoans': array([ 0.,  6., 10., 58.]), 'NumberOfTimes90DaysLate': array([ 0.,  1., 98.]), 'NumberRealEstateLoansOrLines': array([ 0.,  1., 54.]), 'NumberOfTime60-89DaysPastDueNotWorse': array([ 0.,  1., 98.]), 'NumberOfDependents': array([ 0.,  1., 20.])}\n"
          ]
        },
        {
          "output_type": "stream",
          "name": "stderr",
          "text": [
            "/usr/local/lib/python3.8/dist-packages/pandas/core/arraylike.py:364: RuntimeWarning: divide by zero encountered in log\n",
            "  result = getattr(ufunc, method)(*inputs, **kwargs)\n"
          ]
        },
        {
          "output_type": "stream",
          "name": "stdout",
          "text": [
            "extracted_features:\n",
            " ['RevolvingUtilizationOfUnsecuredLines' 'NumberOfTimes90DaysLate'\n",
            " 'NumberOfTime30-59DaysPastDueNotWorse'\n",
            " 'NumberOfTime60-89DaysPastDueNotWorse' 'age']\n",
            "Before WOE transformation and Information Value, the no. of features: 10\n",
            "After WOE transformation and Information Value, the no. of features: 5\n",
            "X Dimension: (150000, 5)\n",
            "y Dimension: (150000,)\n",
            "Xtrain Dimension: (120000, 5)\n",
            "ytrain Dimension: (120000,)\n",
            "Xtest Dimension: (30000, 5)\n",
            "ytest Dimension: (30000,)\n",
            "After adding Bias Feature, X_train Dimension: (120000, 6)\n",
            "After adding Bias Feature, X_test Dimension: (30000, 6)\n",
            "\n",
            "Dimension of weights vector: (6,)\n",
            "(120000, 6)\n",
            "(30000, 6)\n",
            "Score without using class_weight:\n",
            "Training_Score: 0.93545\n",
            "Testing_Score: 0.9367\n",
            "\n",
            "Without using class_weight, the Predicted Class: [0 0 0 ... 0 0 0]\n",
            "Without class_weights:\n",
            "\n",
            "coeffs: [[1.00695776e-04 7.70365725e-01 6.02066046e-01 6.20241202e-01\n",
            "  3.96647481e-01 5.22567725e-01]]\n",
            "intercept: [-2.60835019]\n",
            "b is the ratio between ln(2) and PDO, b= 0.5225677246080995\n",
            "p_hat = <bound method LogisticRegression.predict_proba of LogisticRegression()>\n",
            "X Dimension: (150000, 5)\n",
            "Xtrain Dimension: (120000, 5)\n",
            "ytrain Dimension: (120000,)\n",
            "Xtest Dimension: (30000, 5)\n",
            "ytest Dimension: (30000,)\n",
            "X_train Dimension (120000, 6)\n",
            "X_test Dimension (30000, 6)\n",
            "X_features Dimension (150000, 6)\n",
            "All scores: [550.16248679 544.56838447 588.35480843 ... 614.19807018 601.14385334\n",
            " 614.19807018]\n",
            "Maximum Score: 614.198070181824\n",
            "Minimum Score: 420.79490986096977\n"
          ]
        }
      ]
    },
    {
      "cell_type": "code",
      "source": [
        "# YOUR CODE HERE\n",
        "from sklearn.metrics import classification_report\n",
        "#classificationReport = classification_report(ytest, y_pred_test)\n",
        "#print(\"With using class_weights, the classification_report:\\n\",classificationReport)\n",
        "\n",
        "classificationReport2 = classification_report(ytest, y_pred_test2)\n",
        "print(\"With using WOE, the classification_report:\\n\",classificationReport2)"
      ],
      "metadata": {
        "colab": {
          "base_uri": "https://localhost:8080/"
        },
        "id": "-AASftkW7kiC",
        "outputId": "065deb16-a279-4138-9dbe-8b655a956562"
      },
      "id": "-AASftkW7kiC",
      "execution_count": null,
      "outputs": [
        {
          "output_type": "stream",
          "name": "stdout",
          "text": [
            "With using WOE, the classification_report:\n",
            "               precision    recall  f1-score   support\n",
            "\n",
            "           0       0.94      1.00      0.97     28026\n",
            "           1       0.62      0.10      0.17      1974\n",
            "\n",
            "    accuracy                           0.94     30000\n",
            "   macro avg       0.78      0.55      0.57     30000\n",
            "weighted avg       0.92      0.94      0.91     30000\n",
            "\n"
          ]
        }
      ]
    },
    {
      "cell_type": "code",
      "source": [
        "precision_hike_ratio = (0.62/0.52)\n",
        "print(\"precision_hike_ratio:\",precision_hike_ratio)\n",
        "recall_hike_ratio = (0.10/0.04)\n",
        "print(\"recall_hike_ratio:\",recall_hike_ratio)\n",
        "F1_score_hike_ratio = (0.17/0.07)\n",
        "print(\"F1_score_hike_ratio:\",F1_score_hike_ratio)"
      ],
      "metadata": {
        "colab": {
          "base_uri": "https://localhost:8080/"
        },
        "id": "NEAdYJwENXxN",
        "outputId": "0885f143-07fd-4abd-9f88-c1ee84f0729a"
      },
      "id": "NEAdYJwENXxN",
      "execution_count": null,
      "outputs": [
        {
          "output_type": "stream",
          "name": "stdout",
          "text": [
            "precision_hike_ratio: 1.1923076923076923\n",
            "recall_hike_ratio: 2.5\n",
            "F1_score_hike_ratio: 2.4285714285714284\n"
          ]
        }
      ]
    }
  ]
}