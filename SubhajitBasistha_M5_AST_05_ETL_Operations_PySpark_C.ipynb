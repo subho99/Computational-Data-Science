{
  "nbformat": 4,
  "nbformat_minor": 0,
  "metadata": {
    "kernelspec": {
      "display_name": "Python 3",
      "name": "python3"
    },
    "language_info": {
      "codemirror_mode": {
        "name": "ipython",
        "version": 3
      },
      "file_extension": ".py",
      "mimetype": "text/x-python",
      "name": "python",
      "nbconvert_exporter": "python",
      "pygments_lexer": "ipython3",
      "version": "3.8.5"
    },
    "colab": {
      "provenance": [],
      "gpuType": "T4",
      "include_colab_link": true
    },
    "accelerator": "GPU"
  },
  "cells": [
    {
      "cell_type": "markdown",
      "metadata": {
        "id": "view-in-github",
        "colab_type": "text"
      },
      "source": [
        "<a href=\"https://colab.research.google.com/github/subho99/Computational-Data-Science/blob/main/SubhajitBasistha_M5_AST_05_ETL_Operations_PySpark_C.ipynb\" target=\"_parent\"><img src=\"https://colab.research.google.com/assets/colab-badge.svg\" alt=\"Open In Colab\"/></a>"
      ]
    },
    {
      "cell_type": "markdown",
      "metadata": {
        "id": "NCtEIcCVFhO8"
      },
      "source": [
        "# Advanced Certification Program in Computational Data Science\n",
        "## A program by IISc and TalentSprint\n",
        "### Assignment 5: ETL concepts and pipeline"
      ]
    },
    {
      "cell_type": "markdown",
      "metadata": {
        "id": "nH6llaZpFhPC"
      },
      "source": [
        "## Learning Objectives"
      ]
    },
    {
      "cell_type": "markdown",
      "metadata": {
        "id": "qxQatabcFhPD"
      },
      "source": [
        "At the end of the experiment, you will be able to:\n",
        "\n",
        "* use Spark’s built-in and external data sources to read, refine, and write data in different file formats as part of the extract, transform, and load (ETL) tasks\n",
        "* perform complex data exploration and analysis using Spark SQL"
      ]
    },
    {
      "cell_type": "markdown",
      "metadata": {
        "id": "GAEv9h69FhPE"
      },
      "source": [
        "### Introduction"
      ]
    },
    {
      "cell_type": "markdown",
      "metadata": {
        "id": "nFzjN683FhPE"
      },
      "source": [
        "ETL (Extract, Transform, and Load) is the procedure of migrating data from one system to another.\n",
        "* Data **extraction** is the process of retrieving data out of homogeneous or heterogeneous sources for further data processing and data storage.\n",
        "* During data **transformation**, the data is cleaned and incorrect or inaccurate records are modified or deleted.\n",
        "* Finally, the processed data is **loaded** (or stored) into a target system such as a data warehouse or NoSQL database or RDBMS.\n",
        "\n",
        "Data engineers use Spark because it provides a simple way to parallelize computations and hides all the complexity of distribution and fault tolerance. This leaves them free to focus on using high-level DataFrame-based APIs and domain-specific language queries to do ETL, reading and combining data from multiple sources.\n",
        "\n",
        "Here we will consider tabular data to do ETL operations. Starting from data extraction, we will perform various transformations and try to gain some insights from it and then load it to a NoSQL database or store it in different file formats."
      ]
    },
    {
      "cell_type": "markdown",
      "metadata": {
        "id": "jptEWxkKFhPD"
      },
      "source": [
        "### Dataset"
      ]
    },
    {
      "cell_type": "markdown",
      "metadata": {
        "id": "1b0GRwC0FhPE"
      },
      "source": [
        "The dataset chosen for this assignment is [Productivity Prediction of Garment Employees](https://archive.ics.uci.edu/ml/datasets/Productivity+Prediction+of+Garment+Employees). The dataset is made up of 1197 records and 15 columns. It includes important attributes of the garment manufacturing process and the productivity of the employees. The dataset contains records of three months (Jan to Mar 2015) with 2 distinct departments, 12 unique team numbers and 5 different quarters. Some of the features are listed below:\n",
        "\n",
        "* date: Date in MM-DD-YYYY\n",
        "* day: Day of the Week\n",
        "* quarter: A portion of the month. A month was divided into four quarters\n",
        "* department: Associated department with the instance\n",
        "* team: Associated team number with the instance\n",
        "* no_of_workers: Number of workers in each team\n",
        "* no_of_style_change: Number of changes in the style of a particular product\n",
        "* targeted_productivity: Targeted productivity set by the Authority for each team for each day.\n",
        "* smv: Standard Minute Value, it is the allocated time for a task\n",
        "* wip: Work in progress. Includes the number of unfinished items for products\n",
        "* overtime: Represents the amount of overtime by each team in minutes\n",
        "* incentive: Represents the amount of financial incentive (in BDT) that enables or motivates a particular course of action.\n",
        "* idletime: The amount of time when the production was interrupted due to several reasons\n",
        "* idlemen: The number of workers who were idle due to production interruption\n",
        "* actual_productivity: The actual % of productivity that was delivered by the workers. It ranges from 0-1.\n",
        "\n",
        "Date, quarter, department, and day are object datatypes and the rest are int or float types.\n",
        "\n",
        "To know more about the dataset click [here](https://archive.ics.uci.edu/ml/datasets/Productivity+Prediction+of+Garment+Employees)."
      ]
    },
    {
      "cell_type": "markdown",
      "metadata": {
        "id": "BNLA8HiKxQhc"
      },
      "source": [
        "### Setup Steps:"
      ]
    },
    {
      "cell_type": "code",
      "metadata": {
        "id": "2YzfoPvJDiTX"
      },
      "source": [
        "#@title Please enter your registration id to start: { run: \"auto\", display-mode: \"form\" }\n",
        "Id = \"2236624\" #@param {type:\"string\"}"
      ],
      "execution_count": 63,
      "outputs": []
    },
    {
      "cell_type": "code",
      "metadata": {
        "id": "AjoZJWGErxGf"
      },
      "source": [
        "#@title Please enter your password (your registered phone number) to continue: { run: \"auto\", display-mode: \"form\" }\n",
        "password = \"8240187807\" #@param {type:\"string\"}"
      ],
      "execution_count": 2,
      "outputs": []
    },
    {
      "cell_type": "code",
      "metadata": {
        "id": "WBPPuGmBlDIN",
        "cellView": "form",
        "colab": {
          "base_uri": "https://localhost:8080/",
          "height": 34
        },
        "outputId": "cffa5212-f5bd-441f-947e-95b97c2bbafa"
      },
      "source": [
        "#@title Run this cell to complete the setup for this Notebook\n",
        "from IPython import get_ipython\n",
        "\n",
        "ipython = get_ipython()\n",
        "\n",
        "notebook= \"M5_AST_05_ETL_Operations_PySpark_C\" #name of the notebook\n",
        "\n",
        "def setup():\n",
        "#  ipython.magic(\"sx pip3 install torch\")\n",
        "    ipython.magic(\"sx wget https://cdn.iisc.talentsprint.com/CDS/Datasets/garments_worker_productivity.csv\")\n",
        "    from IPython.display import HTML, display\n",
        "    display(HTML('<script src=\"https://dashboard.talentsprint.com/aiml/record_ip.html?traineeId={0}&recordId={1}\"></script>'.format(getId(),submission_id)))\n",
        "    print(\"Setup completed successfully\")\n",
        "    return\n",
        "\n",
        "def submit_notebook():\n",
        "    ipython.magic(\"notebook -e \"+ notebook + \".ipynb\")\n",
        "\n",
        "    import requests, json, base64, datetime\n",
        "\n",
        "    url = \"https://dashboard.talentsprint.com/xp/app/save_notebook_attempts\"\n",
        "    if not submission_id:\n",
        "      data = {\"id\" : getId(), \"notebook\" : notebook, \"mobile\" : getPassword()}\n",
        "      r = requests.post(url, data = data)\n",
        "      r = json.loads(r.text)\n",
        "\n",
        "      if r[\"status\"] == \"Success\":\n",
        "          return r[\"record_id\"]\n",
        "      elif \"err\" in r:\n",
        "        print(r[\"err\"])\n",
        "        return None\n",
        "      else:\n",
        "        print (\"Something is wrong, the notebook will not be submitted for grading\")\n",
        "        return None\n",
        "\n",
        "    elif getAnswer() and getComplexity() and getAdditional() and getConcepts() and getComments() and getMentorSupport():\n",
        "      f = open(notebook + \".ipynb\", \"rb\")\n",
        "      file_hash = base64.b64encode(f.read())\n",
        "\n",
        "      data = {\"complexity\" : Complexity, \"additional\" :Additional,\n",
        "              \"concepts\" : Concepts, \"record_id\" : submission_id,\n",
        "              \"answer\" : Answer, \"id\" : Id, \"file_hash\" : file_hash,\n",
        "              \"notebook\" : notebook,\n",
        "              \"feedback_experiments_input\" : Comments,\n",
        "              \"feedback_mentor_support\": Mentor_support}\n",
        "      r = requests.post(url, data = data)\n",
        "      r = json.loads(r.text)\n",
        "      if \"err\" in r:\n",
        "        print(r[\"err\"])\n",
        "        return None\n",
        "      else:\n",
        "        print(\"Your submission is successful.\")\n",
        "        print(\"Ref Id:\", submission_id)\n",
        "        print(\"Date of submission: \", r[\"date\"])\n",
        "        print(\"Time of submission: \", r[\"time\"])\n",
        "        print(\"View your submissions: https://cds.iisc.talentsprint.com/notebook_submissions\")\n",
        "        #print(\"For any queries/discrepancies, please connect with mentors through the chat icon in LMS dashboard.\")\n",
        "        return submission_id\n",
        "    else: submission_id\n",
        "\n",
        "\n",
        "def getAdditional():\n",
        "  try:\n",
        "    if not Additional:\n",
        "      raise NameError\n",
        "    else:\n",
        "      return Additional\n",
        "  except NameError:\n",
        "    print (\"Please answer Additional Question\")\n",
        "    return None\n",
        "\n",
        "def getComplexity():\n",
        "  try:\n",
        "    if not Complexity:\n",
        "      raise NameError\n",
        "    else:\n",
        "      return Complexity\n",
        "  except NameError:\n",
        "    print (\"Please answer Complexity Question\")\n",
        "    return None\n",
        "\n",
        "def getConcepts():\n",
        "  try:\n",
        "    if not Concepts:\n",
        "      raise NameError\n",
        "    else:\n",
        "      return Concepts\n",
        "  except NameError:\n",
        "    print (\"Please answer Concepts Question\")\n",
        "    return None\n",
        "\n",
        "\n",
        "# def getWalkthrough():\n",
        "#   try:\n",
        "#     if not Walkthrough:\n",
        "#       raise NameError\n",
        "#     else:\n",
        "#       return Walkthrough\n",
        "#   except NameError:\n",
        "#     print (\"Please answer Walkthrough Question\")\n",
        "#     return None\n",
        "\n",
        "def getComments():\n",
        "  try:\n",
        "    if not Comments:\n",
        "      raise NameError\n",
        "    else:\n",
        "      return Comments\n",
        "  except NameError:\n",
        "    print (\"Please answer Comments Question\")\n",
        "    return None\n",
        "\n",
        "\n",
        "def getMentorSupport():\n",
        "  try:\n",
        "    if not Mentor_support:\n",
        "      raise NameError\n",
        "    else:\n",
        "      return Mentor_support\n",
        "  except NameError:\n",
        "    print (\"Please answer Mentor support Question\")\n",
        "    return None\n",
        "\n",
        "def getAnswer():\n",
        "  try:\n",
        "    if not Answer:\n",
        "      raise NameError\n",
        "    else:\n",
        "      return Answer\n",
        "  except NameError:\n",
        "    print (\"Please answer Question\")\n",
        "    return None\n",
        "\n",
        "\n",
        "def getId():\n",
        "  try:\n",
        "    return Id if Id else None\n",
        "  except NameError:\n",
        "    return None\n",
        "\n",
        "def getPassword():\n",
        "  try:\n",
        "    return password if password else None\n",
        "  except NameError:\n",
        "    return None\n",
        "\n",
        "submission_id = None\n",
        "### Setup\n",
        "if getPassword() and getId():\n",
        "  submission_id = submit_notebook()\n",
        "  if submission_id:\n",
        "    setup()\n",
        "else:\n",
        "  print (\"Please complete Id and Password cells before running setup\")\n",
        "\n"
      ],
      "execution_count": 64,
      "outputs": [
        {
          "output_type": "display_data",
          "data": {
            "text/plain": [
              "<IPython.core.display.HTML object>"
            ],
            "text/html": [
              "<script src=\"https://dashboard.talentsprint.com/aiml/record_ip.html?traineeId=2236624&recordId=6415\"></script>"
            ]
          },
          "metadata": {}
        },
        {
          "output_type": "stream",
          "name": "stdout",
          "text": [
            "Setup completed successfully\n"
          ]
        }
      ]
    },
    {
      "cell_type": "markdown",
      "metadata": {
        "id": "dHY77Q8DFhPF"
      },
      "source": [
        "### Install Pyspark"
      ]
    },
    {
      "cell_type": "code",
      "metadata": {
        "id": "KPf_EpH-FhPF",
        "colab": {
          "base_uri": "https://localhost:8080/"
        },
        "outputId": "1247af69-65c7-4b19-b385-298c2aef3e9a"
      },
      "source": [
        "!pip install pyspark"
      ],
      "execution_count": 4,
      "outputs": [
        {
          "output_type": "stream",
          "name": "stdout",
          "text": [
            "Collecting pyspark\n",
            "  Downloading pyspark-3.4.1.tar.gz (310.8 MB)\n",
            "\u001b[2K     \u001b[90m━━━━━━━━━━━━━━━━━━━━━━━━━━━━━━━━━━━━━━━\u001b[0m \u001b[32m310.8/310.8 MB\u001b[0m \u001b[31m3.4 MB/s\u001b[0m eta \u001b[36m0:00:00\u001b[0m\n",
            "\u001b[?25h  Preparing metadata (setup.py) ... \u001b[?25l\u001b[?25hdone\n",
            "Requirement already satisfied: py4j==0.10.9.7 in /usr/local/lib/python3.10/dist-packages (from pyspark) (0.10.9.7)\n",
            "Building wheels for collected packages: pyspark\n",
            "  Building wheel for pyspark (setup.py) ... \u001b[?25l\u001b[?25hdone\n",
            "  Created wheel for pyspark: filename=pyspark-3.4.1-py2.py3-none-any.whl size=311285388 sha256=bed3ed8a7fafe580b1be34fd05a52295932007bce1df2e379a0ff0e4842ef335\n",
            "  Stored in directory: /root/.cache/pip/wheels/0d/77/a3/ff2f74cc9ab41f8f594dabf0579c2a7c6de920d584206e0834\n",
            "Successfully built pyspark\n",
            "Installing collected packages: pyspark\n",
            "Successfully installed pyspark-3.4.1\n"
          ]
        }
      ]
    },
    {
      "cell_type": "markdown",
      "metadata": {
        "id": "Cq_ToATpFhPF"
      },
      "source": [
        "### Import required packages"
      ]
    },
    {
      "cell_type": "code",
      "metadata": {
        "id": "FmMx7T9eFhPG"
      },
      "source": [
        "from pyspark.sql import SparkSession\n",
        "from pyspark.sql.functions import *\n",
        "from pyspark.ml.feature import VectorAssembler\n",
        "from pyspark.ml.feature import MinMaxScaler\n",
        "import seaborn as sns\n",
        "from matplotlib import pyplot as plt\n",
        "import pandas as pd"
      ],
      "execution_count": 5,
      "outputs": []
    },
    {
      "cell_type": "markdown",
      "metadata": {
        "id": "bO5nb-O0FhPG"
      },
      "source": [
        "### Start a Spark Session"
      ]
    },
    {
      "cell_type": "markdown",
      "metadata": {
        "id": "pRSLW_ZqFhPG"
      },
      "source": [
        "Spark session is a combined entry point of a Spark application, which came into implementation from Spark 2.0. Instead of having various context, everything is now encapsulated in a **Spark session**."
      ]
    },
    {
      "cell_type": "code",
      "metadata": {
        "id": "sY9Ht3RFFhPG",
        "colab": {
          "base_uri": "https://localhost:8080/",
          "height": 219
        },
        "outputId": "4007eb6a-f3a2-4ff4-e102-82745b712bd4"
      },
      "source": [
        "# Start spark session\n",
        "from pyspark.sql import SparkSession\n",
        "spark = SparkSession.builder.appName('ETL').getOrCreate()\n",
        "spark"
      ],
      "execution_count": 6,
      "outputs": [
        {
          "output_type": "execute_result",
          "data": {
            "text/plain": [
              "<pyspark.sql.session.SparkSession at 0x784d29ccfd90>"
            ],
            "text/html": [
              "\n",
              "            <div>\n",
              "                <p><b>SparkSession - in-memory</b></p>\n",
              "                \n",
              "        <div>\n",
              "            <p><b>SparkContext</b></p>\n",
              "\n",
              "            <p><a href=\"http://59f7b4b326b2:4040\">Spark UI</a></p>\n",
              "\n",
              "            <dl>\n",
              "              <dt>Version</dt>\n",
              "                <dd><code>v3.4.1</code></dd>\n",
              "              <dt>Master</dt>\n",
              "                <dd><code>local[*]</code></dd>\n",
              "              <dt>AppName</dt>\n",
              "                <dd><code>ETL</code></dd>\n",
              "            </dl>\n",
              "        </div>\n",
              "        \n",
              "            </div>\n",
              "        "
            ]
          },
          "metadata": {},
          "execution_count": 6
        }
      ]
    },
    {
      "cell_type": "markdown",
      "metadata": {
        "id": "gOYuB7SBFhPG"
      },
      "source": [
        "### Tabular Data Analytics"
      ]
    },
    {
      "cell_type": "markdown",
      "metadata": {
        "id": "MBlN05cNFhPH"
      },
      "source": [
        "#### Extract data into PySpark\n",
        "To load the dataset we will use the read.csv module.  The inferSchema parameter provided will enable Spark to automatically determine the data type for each column."
      ]
    },
    {
      "cell_type": "code",
      "metadata": {
        "id": "cHiMKSPZFhPH"
      },
      "source": [
        "df = spark.read.csv('garments_worker_productivity.csv', header=True, inferSchema= True)"
      ],
      "execution_count": 9,
      "outputs": []
    },
    {
      "cell_type": "markdown",
      "metadata": {
        "id": "ni5SQb1uFhPH"
      },
      "source": [
        "#### Transforming Data"
      ]
    },
    {
      "cell_type": "markdown",
      "metadata": {
        "id": "8hOkkyXNFhPI"
      },
      "source": [
        "* Display first few rows of the data"
      ]
    },
    {
      "cell_type": "code",
      "metadata": {
        "id": "PqiEA5SqFhPI",
        "colab": {
          "base_uri": "https://localhost:8080/"
        },
        "outputId": "61b0232e-1b2c-4dd5-fdd0-64d408a6af75"
      },
      "source": [
        "df.show(5)"
      ],
      "execution_count": 10,
      "outputs": [
        {
          "output_type": "stream",
          "name": "stdout",
          "text": [
            "+--------+--------+----------+--------+----+---------------------+-----+----+---------+---------+---------+--------+------------------+-------------+-------------------+\n",
            "|    date| quarter|department|     day|team|targeted_productivity|  smv| wip|over_time|incentive|idle_time|idle_men|no_of_style_change|no_of_workers|actual_productivity|\n",
            "+--------+--------+----------+--------+----+---------------------+-----+----+---------+---------+---------+--------+------------------+-------------+-------------------+\n",
            "|1/1/2015|Quarter1|    sweing|Thursday|   8|                  0.8|26.16|1108|     7080|       98|      0.0|       0|                 0|         59.0|        0.940725424|\n",
            "|1/1/2015|Quarter1|finishing |Thursday|   1|                 0.75| 3.94|null|      960|        0|      0.0|       0|                 0|          8.0|             0.8865|\n",
            "|1/1/2015|Quarter1|    sweing|Thursday|  11|                  0.8|11.41| 968|     3660|       50|      0.0|       0|                 0|         30.5|        0.800570492|\n",
            "|1/1/2015|Quarter1|    sweing|Thursday|  12|                  0.8|11.41| 968|     3660|       50|      0.0|       0|                 0|         30.5|        0.800570492|\n",
            "|1/1/2015|Quarter1|    sweing|Thursday|   6|                  0.8| 25.9|1170|     1920|       50|      0.0|       0|                 0|         56.0|        0.800381944|\n",
            "+--------+--------+----------+--------+----+---------------------+-----+----+---------+---------+---------+--------+------------------+-------------+-------------------+\n",
            "only showing top 5 rows\n",
            "\n"
          ]
        }
      ]
    },
    {
      "cell_type": "markdown",
      "metadata": {
        "id": "Eyu_0_uHFhPI"
      },
      "source": [
        "In the above output, the wip (work in progress) column contains null values. We need to check for other columns as well.\n",
        "* Display total number of rows"
      ]
    },
    {
      "cell_type": "code",
      "metadata": {
        "id": "6-49cC7GFhPI",
        "colab": {
          "base_uri": "https://localhost:8080/"
        },
        "outputId": "1417639f-9609-463c-9be8-a0ad34246eb2"
      },
      "source": [
        "df.count()"
      ],
      "execution_count": 11,
      "outputs": [
        {
          "output_type": "execute_result",
          "data": {
            "text/plain": [
              "1197"
            ]
          },
          "metadata": {},
          "execution_count": 11
        }
      ]
    },
    {
      "cell_type": "markdown",
      "metadata": {
        "id": "ZKWUDmyyFhPJ"
      },
      "source": [
        "* Check for Null values in each column"
      ]
    },
    {
      "cell_type": "code",
      "metadata": {
        "id": "PYQZZSAZFhPJ",
        "colab": {
          "base_uri": "https://localhost:8080/"
        },
        "outputId": "fe65b598-9608-45f7-95a7-615e32bf9416"
      },
      "source": [
        "df.select([(count(when(isnan(c) | col(c).isNull(), c))/1197).alias(c) for c in df.columns]).show()"
      ],
      "execution_count": 12,
      "outputs": [
        {
          "output_type": "stream",
          "name": "stdout",
          "text": [
            "+----+-------+----------+---+----+---------------------+---+------------------+---------+---------+---------+--------+------------------+-------------+-------------------+\n",
            "|date|quarter|department|day|team|targeted_productivity|smv|               wip|over_time|incentive|idle_time|idle_men|no_of_style_change|no_of_workers|actual_productivity|\n",
            "+----+-------+----------+---+----+---------------------+---+------------------+---------+---------+---------+--------+------------------+-------------+-------------------+\n",
            "| 0.0|    0.0|       0.0|0.0| 0.0|                  0.0|0.0|0.4227234753550543|      0.0|      0.0|      0.0|     0.0|               0.0|          0.0|                0.0|\n",
            "+----+-------+----------+---+----+---------------------+---+------------------+---------+---------+---------+--------+------------------+-------------+-------------------+\n",
            "\n"
          ]
        }
      ]
    },
    {
      "cell_type": "markdown",
      "metadata": {
        "id": "wocbg9GvFhPK"
      },
      "source": [
        "The wip column contains around 42% null values so we can drop that column.\n",
        "* Drop the wip column having Null values"
      ]
    },
    {
      "cell_type": "code",
      "metadata": {
        "id": "VdYpNTTAFhPK"
      },
      "source": [
        "df1 = df.drop('wip')"
      ],
      "execution_count": 13,
      "outputs": []
    },
    {
      "cell_type": "code",
      "metadata": {
        "id": "Ig3e4w9HFhPK",
        "colab": {
          "base_uri": "https://localhost:8080/"
        },
        "outputId": "89b94f9c-0b7c-41e4-80c8-2a79af97d723"
      },
      "source": [
        "# Recheck for null values\n",
        "df1.select([(count(when(isnan(c) | col(c).isNull(), c))/1197).alias(c) for c in df1.columns]).show()"
      ],
      "execution_count": 14,
      "outputs": [
        {
          "output_type": "stream",
          "name": "stdout",
          "text": [
            "+----+-------+----------+---+----+---------------------+---+---------+---------+---------+--------+------------------+-------------+-------------------+\n",
            "|date|quarter|department|day|team|targeted_productivity|smv|over_time|incentive|idle_time|idle_men|no_of_style_change|no_of_workers|actual_productivity|\n",
            "+----+-------+----------+---+----+---------------------+---+---------+---------+---------+--------+------------------+-------------+-------------------+\n",
            "| 0.0|    0.0|       0.0|0.0| 0.0|                  0.0|0.0|      0.0|      0.0|      0.0|     0.0|               0.0|          0.0|                0.0|\n",
            "+----+-------+----------+---+----+---------------------+---+---------+---------+---------+--------+------------------+-------------+-------------------+\n",
            "\n"
          ]
        }
      ]
    },
    {
      "cell_type": "markdown",
      "metadata": {
        "id": "k5M_8GG9FhPL"
      },
      "source": [
        "Let's see the distinct values in department column.\n",
        "* Display distinct `department` from dataframe"
      ]
    },
    {
      "cell_type": "code",
      "metadata": {
        "id": "PhXnYf4OFhPL",
        "colab": {
          "base_uri": "https://localhost:8080/"
        },
        "outputId": "2e18fc4f-64dc-4334-b23e-b91330a7f6b5"
      },
      "source": [
        "# Display count of distinct 'department'\n",
        "df1.select('department').distinct().count()"
      ],
      "execution_count": 15,
      "outputs": [
        {
          "output_type": "execute_result",
          "data": {
            "text/plain": [
              "3"
            ]
          },
          "metadata": {},
          "execution_count": 15
        }
      ]
    },
    {
      "cell_type": "code",
      "metadata": {
        "id": "tSXZe3pwFhPL",
        "colab": {
          "base_uri": "https://localhost:8080/"
        },
        "outputId": "1c5a1e88-bd4c-4b9c-9525-f9ce8a0bc1a8"
      },
      "source": [
        "# Display distinct values for 'department' column\n",
        "df1.select('department').distinct().show()"
      ],
      "execution_count": 16,
      "outputs": [
        {
          "output_type": "stream",
          "name": "stdout",
          "text": [
            "+----------+\n",
            "|department|\n",
            "+----------+\n",
            "|    sweing|\n",
            "| finishing|\n",
            "|finishing |\n",
            "+----------+\n",
            "\n"
          ]
        }
      ]
    },
    {
      "cell_type": "markdown",
      "metadata": {
        "id": "I68uWOsiFhPL"
      },
      "source": [
        "There is ambiguity in distinct department values and it needs to be taken care of.\n",
        "* Transform department column"
      ]
    },
    {
      "cell_type": "code",
      "metadata": {
        "id": "yZdsPCaAFhPL"
      },
      "source": [
        "# Removing trailing spaces from both sides using department column\n",
        "df2 = df1.withColumn('department', trim(col('department')))"
      ],
      "execution_count": 17,
      "outputs": []
    },
    {
      "cell_type": "code",
      "metadata": {
        "id": "oRyZMZlSFhPM",
        "colab": {
          "base_uri": "https://localhost:8080/"
        },
        "outputId": "f84392fc-a66d-4a6d-f00b-e056b64af292"
      },
      "source": [
        "# Display distinct values for 'department' column\n",
        "df2.select('department').distinct().show()"
      ],
      "execution_count": 18,
      "outputs": [
        {
          "output_type": "stream",
          "name": "stdout",
          "text": [
            "+----------+\n",
            "|department|\n",
            "+----------+\n",
            "|    sweing|\n",
            "| finishing|\n",
            "+----------+\n",
            "\n"
          ]
        }
      ]
    },
    {
      "cell_type": "code",
      "metadata": {
        "id": "_195IjXEFhPM"
      },
      "source": [
        "# Replacing department value from 'sweing' to 'sewing'\n",
        "df3 = df2.withColumn('department', regexp_replace(col('department'), 'sweing', 'sewing'))"
      ],
      "execution_count": 19,
      "outputs": []
    },
    {
      "cell_type": "code",
      "metadata": {
        "id": "T2b72zb6FhPM",
        "colab": {
          "base_uri": "https://localhost:8080/"
        },
        "outputId": "dcec8bb9-f573-43c5-9b16-4c8a5d004798"
      },
      "source": [
        "# Display distinct values for 'department' column\n",
        "df3.select('department').distinct().show()"
      ],
      "execution_count": 20,
      "outputs": [
        {
          "output_type": "stream",
          "name": "stdout",
          "text": [
            "+----------+\n",
            "|department|\n",
            "+----------+\n",
            "|    sewing|\n",
            "| finishing|\n",
            "+----------+\n",
            "\n"
          ]
        }
      ]
    },
    {
      "cell_type": "markdown",
      "metadata": {
        "id": "5YPfkb-yFhPM"
      },
      "source": [
        "* Check for duplicate values in data"
      ]
    },
    {
      "cell_type": "code",
      "metadata": {
        "id": "kJHpOnaBFhPM",
        "colab": {
          "base_uri": "https://localhost:8080/"
        },
        "outputId": "e8feb131-ee41-492a-d23d-73755a3cfa3e"
      },
      "source": [
        "cols = df3.columns\n",
        "if df3.count() > df3.dropDuplicates(cols).count():\n",
        "    print('Data has duplicates')\n",
        "else:\n",
        "  print('Data has no duplicates')"
      ],
      "execution_count": 21,
      "outputs": [
        {
          "output_type": "stream",
          "name": "stdout",
          "text": [
            "Data has no duplicates\n"
          ]
        }
      ]
    },
    {
      "cell_type": "markdown",
      "metadata": {
        "id": "-91dTPIBFhPN"
      },
      "source": [
        "If data has duplicate values, run the below cell by uncommenting it"
      ]
    },
    {
      "cell_type": "code",
      "metadata": {
        "id": "eS5t2r0_FhPN"
      },
      "source": [
        "df3 = df3.dropDuplicates(df3.columns)"
      ],
      "execution_count": 22,
      "outputs": []
    },
    {
      "cell_type": "markdown",
      "metadata": {
        "id": "hFFNpfG-FhPN"
      },
      "source": [
        "After removing duplicates, let's take a look at the datatypes of our columns.\n",
        "* Display data types of dataframe columns"
      ]
    },
    {
      "cell_type": "code",
      "metadata": {
        "id": "fdaA7KR4FhPN",
        "colab": {
          "base_uri": "https://localhost:8080/"
        },
        "outputId": "373ce2d4-61e4-4d85-fd96-9aca8b779671"
      },
      "source": [
        "# Print the data types\n",
        "df3.dtypes"
      ],
      "execution_count": 23,
      "outputs": [
        {
          "output_type": "execute_result",
          "data": {
            "text/plain": [
              "[('date', 'string'),\n",
              " ('quarter', 'string'),\n",
              " ('department', 'string'),\n",
              " ('day', 'string'),\n",
              " ('team', 'int'),\n",
              " ('targeted_productivity', 'double'),\n",
              " ('smv', 'double'),\n",
              " ('over_time', 'int'),\n",
              " ('incentive', 'int'),\n",
              " ('idle_time', 'double'),\n",
              " ('idle_men', 'int'),\n",
              " ('no_of_style_change', 'int'),\n",
              " ('no_of_workers', 'double'),\n",
              " ('actual_productivity', 'double')]"
            ]
          },
          "metadata": {},
          "execution_count": 23
        }
      ]
    },
    {
      "cell_type": "markdown",
      "metadata": {
        "id": "CvLXXC_BFhPN"
      },
      "source": [
        "Here, the 'date' column has a string datatype. In order to perform analytics involving year and month, we need to convert it into timestamp datatype.\n",
        "* Transform the `date` column from string type to Spark `timestamp` data type"
      ]
    },
    {
      "cell_type": "code",
      "metadata": {
        "id": "X8PVJt_bFhPO"
      },
      "source": [
        "df4 = df3.withColumn(\"date\", to_timestamp(col(\"date\"), \"M/d/yyyy\"))"
      ],
      "execution_count": 24,
      "outputs": []
    },
    {
      "cell_type": "code",
      "metadata": {
        "id": "19alU-8kFhPO",
        "colab": {
          "base_uri": "https://localhost:8080/"
        },
        "outputId": "534eb755-eab0-4207-ff68-83eaf5d60599"
      },
      "source": [
        "df4.dtypes"
      ],
      "execution_count": 25,
      "outputs": [
        {
          "output_type": "execute_result",
          "data": {
            "text/plain": [
              "[('date', 'timestamp'),\n",
              " ('quarter', 'string'),\n",
              " ('department', 'string'),\n",
              " ('day', 'string'),\n",
              " ('team', 'int'),\n",
              " ('targeted_productivity', 'double'),\n",
              " ('smv', 'double'),\n",
              " ('over_time', 'int'),\n",
              " ('incentive', 'int'),\n",
              " ('idle_time', 'double'),\n",
              " ('idle_men', 'int'),\n",
              " ('no_of_style_change', 'int'),\n",
              " ('no_of_workers', 'double'),\n",
              " ('actual_productivity', 'double')]"
            ]
          },
          "metadata": {},
          "execution_count": 25
        }
      ]
    },
    {
      "cell_type": "markdown",
      "metadata": {
        "id": "Clxysl2cFhPO"
      },
      "source": [
        "Now we can use the `year()` SQL Spark function on the Timestamp column data type `date`.\n",
        "* Display how many distinct years of data is in the dataset"
      ]
    },
    {
      "cell_type": "code",
      "metadata": {
        "id": "Zqe9JtGpFhPO",
        "colab": {
          "base_uri": "https://localhost:8080/"
        },
        "outputId": "0d2a4a9d-d208-4660-d2d6-8f85002eff38"
      },
      "source": [
        "df4.select(year('date')).distinct().orderBy(year('date')).show()"
      ],
      "execution_count": 26,
      "outputs": [
        {
          "output_type": "stream",
          "name": "stdout",
          "text": [
            "+----------+\n",
            "|year(date)|\n",
            "+----------+\n",
            "|      2015|\n",
            "+----------+\n",
            "\n"
          ]
        }
      ]
    },
    {
      "cell_type": "markdown",
      "metadata": {
        "id": "mRbxYZF1FhPO"
      },
      "source": [
        "We see that all the records are from the year 2015.\n",
        "\n",
        "Similar to year() we can use the `month()` SQL Spark function on the Timestamp datatype column `date`.\n",
        "* Display how many distinct months of data is in the dataset"
      ]
    },
    {
      "cell_type": "code",
      "metadata": {
        "id": "ISePnPs0FhPR",
        "colab": {
          "base_uri": "https://localhost:8080/"
        },
        "outputId": "aab864ee-1f57-40d8-bf8c-2a268ff1ef99"
      },
      "source": [
        "df4.select(month('date')).distinct().orderBy(month('date')).show()"
      ],
      "execution_count": 27,
      "outputs": [
        {
          "output_type": "stream",
          "name": "stdout",
          "text": [
            "+-----------+\n",
            "|month(date)|\n",
            "+-----------+\n",
            "|          1|\n",
            "|          2|\n",
            "|          3|\n",
            "+-----------+\n",
            "\n"
          ]
        }
      ]
    },
    {
      "cell_type": "markdown",
      "metadata": {
        "id": "rS8SPyPGFhPS"
      },
      "source": [
        "We see that the data was collected in the months January to March."
      ]
    },
    {
      "cell_type": "markdown",
      "metadata": {
        "id": "C_ZMvuN9FhPS"
      },
      "source": [
        "* Check in which month the productivity was maximum"
      ]
    },
    {
      "cell_type": "code",
      "metadata": {
        "id": "F5fc05-0FhPS",
        "colab": {
          "base_uri": "https://localhost:8080/",
          "height": 605
        },
        "outputId": "f4d0e724-f00e-445b-ccd1-b58ac9a00094"
      },
      "source": [
        "df_d = df4.groupby(month('date')).avg().select(['month(date)', 'avg(actual_productivity)'])\n",
        "df_d.show()\n",
        "sns.barplot(x = df_d.toPandas()['month(date)'], y= df_d.toPandas()['avg(actual_productivity)'])"
      ],
      "execution_count": 28,
      "outputs": [
        {
          "output_type": "stream",
          "name": "stdout",
          "text": [
            "+-----------+------------------------+\n",
            "|month(date)|avg(actual_productivity)|\n",
            "+-----------+------------------------+\n",
            "|          1|      0.7554150713210335|\n",
            "|          3|       0.718952764127359|\n",
            "|          2|      0.7179482808871324|\n",
            "+-----------+------------------------+\n",
            "\n"
          ]
        },
        {
          "output_type": "execute_result",
          "data": {
            "text/plain": [
              "<Axes: xlabel='month(date)', ylabel='avg(actual_productivity)'>"
            ]
          },
          "metadata": {},
          "execution_count": 28
        },
        {
          "output_type": "display_data",
          "data": {
            "text/plain": [
              "<Figure size 640x480 with 1 Axes>"
            ],
            "image/png": "[encoded data removed]"
          },
          "metadata": {}
        }
      ]
    },
    {
      "cell_type": "markdown",
      "metadata": {
        "id": "nSgxRTs2FhPS"
      },
      "source": [
        "From the above plot, it can be seen that in January the productivity was little higher than remaining two.\n",
        "\n",
        "Let's gain few more insights from the data\n",
        "* Display the incentives paid to different teams"
      ]
    },
    {
      "cell_type": "code",
      "metadata": {
        "id": "1GM_CVgZFhPS",
        "colab": {
          "base_uri": "https://localhost:8080/",
          "height": 761
        },
        "outputId": "c5b52d8a-c496-4b46-9b8e-16272b60baa3"
      },
      "source": [
        "df_i = df4.groupby('team').avg().select(['team', 'avg(incentive)'])\n",
        "df_i.show()\n",
        "sns.barplot(x = df_i.toPandas()['team'], y= df_i.toPandas()['avg(incentive)'])"
      ],
      "execution_count": 29,
      "outputs": [
        {
          "output_type": "stream",
          "name": "stdout",
          "text": [
            "+----+------------------+\n",
            "|team|    avg(incentive)|\n",
            "+----+------------------+\n",
            "|  12|  41.2020202020202|\n",
            "|   1|              46.6|\n",
            "|   6| 22.70212765957447|\n",
            "|   3| 49.55789473684211|\n",
            "|   5| 49.13978494623656|\n",
            "|   9| 60.93269230769231|\n",
            "|   4| 35.04761904761905|\n",
            "|   8|24.880733944954127|\n",
            "|   7|          15.53125|\n",
            "|  10|             36.33|\n",
            "|  11| 37.90909090909091|\n",
            "|   2|38.211009174311926|\n",
            "+----+------------------+\n",
            "\n"
          ]
        },
        {
          "output_type": "execute_result",
          "data": {
            "text/plain": [
              "<Axes: xlabel='team', ylabel='avg(incentive)'>"
            ]
          },
          "metadata": {},
          "execution_count": 29
        },
        {
          "output_type": "display_data",
          "data": {
            "text/plain": [
              "<Figure size 640x480 with 1 Axes>"
            ],
            "image/png": "[encoded data removed]"
          },
          "metadata": {}
        }
      ]
    },
    {
      "cell_type": "markdown",
      "metadata": {
        "id": "9IRv_tDkFhPS"
      },
      "source": [
        "So on average team 9 received the highest incentive.\n",
        "* Display number of workers in each Team"
      ]
    },
    {
      "cell_type": "code",
      "metadata": {
        "id": "9_3wTe13FhPS",
        "colab": {
          "base_uri": "https://localhost:8080/",
          "height": 761
        },
        "outputId": "dbfefd96-6d07-4bdf-fc50-7c25869638d2"
      },
      "source": [
        "df_w = df4.groupby('team').sum().select(['team', 'sum(no_of_workers)'])\n",
        "df_w.show()\n",
        "sns.barplot(x = df_w.toPandas()['team'], y= df_w.toPandas()['sum(no_of_workers)'])"
      ],
      "execution_count": 30,
      "outputs": [
        {
          "output_type": "stream",
          "name": "stdout",
          "text": [
            "+----+------------------+\n",
            "|team|sum(no_of_workers)|\n",
            "+----+------------------+\n",
            "|  12|            2368.0|\n",
            "|   1|            3679.5|\n",
            "|   6|            2366.0|\n",
            "|   3|            3754.5|\n",
            "|   5|            3662.5|\n",
            "|   9|            3662.0|\n",
            "|   4|            4011.0|\n",
            "|   8|            3650.5|\n",
            "|   7|            3561.5|\n",
            "|  10|            3529.5|\n",
            "|  11|            3409.0|\n",
            "|   2|            3774.0|\n",
            "+----+------------------+\n",
            "\n"
          ]
        },
        {
          "output_type": "execute_result",
          "data": {
            "text/plain": [
              "<Axes: xlabel='team', ylabel='sum(no_of_workers)'>"
            ]
          },
          "metadata": {},
          "execution_count": 30
        },
        {
          "output_type": "display_data",
          "data": {
            "text/plain": [
              "<Figure size 640x480 with 1 Axes>"
            ],
            "image/png": "[encoded data removed]"
          },
          "metadata": {}
        }
      ]
    },
    {
      "cell_type": "markdown",
      "metadata": {
        "id": "9EHlIhavFhPT"
      },
      "source": [
        "From the above plot, it can be seen that team 6 and 12 have less number of workers compared to other teams.\n",
        "\n",
        "Let's find out how much it costs for the first quarter of the first month.\n",
        "* Display the `incentive` paid for the first quarter of the first month"
      ]
    },
    {
      "cell_type": "code",
      "metadata": {
        "id": "KIKPLKx1FhPT",
        "colab": {
          "base_uri": "https://localhost:8080/"
        },
        "outputId": "4b77f5d2-0261-40a1-8cc3-63b9124b8fb0"
      },
      "source": [
        "df_q = df4.select(month(\"date\"), \"quarter\", \"incentive\").where((col('month(date)') == 1) & (col(\"quarter\") == \"Quarter1\"))\n",
        "df_q.show(5)\n",
        "df_q.groupby('quarter').sum().select('sum(incentive)').show()"
      ],
      "execution_count": 31,
      "outputs": [
        {
          "output_type": "stream",
          "name": "stdout",
          "text": [
            "+-----------+--------+---------+\n",
            "|month(date)| quarter|incentive|\n",
            "+-----------+--------+---------+\n",
            "|          1|Quarter1|       38|\n",
            "|          1|Quarter1|       50|\n",
            "|          1|Quarter1|       50|\n",
            "|          1|Quarter1|        0|\n",
            "|          1|Quarter1|       40|\n",
            "+-----------+--------+---------+\n",
            "only showing top 5 rows\n",
            "\n",
            "+--------------+\n",
            "|sum(incentive)|\n",
            "+--------------+\n",
            "|          3525|\n",
            "+--------------+\n",
            "\n"
          ]
        }
      ]
    },
    {
      "cell_type": "markdown",
      "metadata": {
        "id": "g1oXWp_fFhPT"
      },
      "source": [
        "Before fitting to a model, the outlier removal and feature scaling of data are important.\n",
        "* Check for outliers"
      ]
    },
    {
      "cell_type": "code",
      "metadata": {
        "id": "N35RLI5PFhPT",
        "colab": {
          "base_uri": "https://localhost:8080/",
          "height": 601
        },
        "outputId": "96204842-11db-4f2e-a452-bf2a896a26d9"
      },
      "source": [
        "df4.toPandas().boxplot()\n",
        "plt.xticks(rotation= 90)\n",
        "plt.show()"
      ],
      "execution_count": 32,
      "outputs": [
        {
          "output_type": "stream",
          "name": "stderr",
          "text": [
            "/usr/local/lib/python3.10/dist-packages/pyspark/sql/pandas/conversion.py:251: FutureWarning: Passing unit-less datetime64 dtype to .astype is deprecated and will raise in a future version. Pass 'datetime64[ns]' instead\n",
            "  series = series.astype(t, copy=False)\n"
          ]
        },
        {
          "output_type": "display_data",
          "data": {
            "text/plain": [
              "<Figure size 640x480 with 1 Axes>"
            ],
            "image/png": "[encoded data removed]"
          },
          "metadata": {}
        }
      ]
    },
    {
      "cell_type": "markdown",
      "metadata": {
        "id": "4arjqqo6FhPT"
      },
      "source": [
        "* Handling outliers\n",
        "\n",
        "Here instead of removing the outliers we will change their values to upper bound and lower bound depending on whether the value is higher than upper bound or lower than lower bound respectively."
      ]
    },
    {
      "cell_type": "code",
      "metadata": {
        "id": "NkOMFKlvFhPT",
        "colab": {
          "base_uri": "https://localhost:8080/"
        },
        "outputId": "caeb452d-d613-48ec-a47b-c14388a39506"
      },
      "source": [
        "df5 = df4\n",
        "outlier_cols = [\"targeted_productivity\", \"smv\", \"over_time\", \"incentive\", \"idle_time\", \"idle_men\", \"no_of_style_change\", \"actual_productivity\"] # Columns with outliers\n",
        "def handle_outliers(df, colm):\n",
        "    df = df.toPandas()\n",
        "    q1 = df.describe()[colm].loc[\"25%\"]\n",
        "    q3 = df.describe()[colm].loc[\"75%\"]\n",
        "    iqr = q3 - q1\n",
        "    lower_bound = q1 - (1.5 * iqr)\n",
        "    upper_bound = q3 + (1.5 * iqr)\n",
        "    for i in range(len(df)):\n",
        "      if df.loc[i,colm] > upper_bound:\n",
        "        df.loc[i,colm]= upper_bound\n",
        "      if df.loc[i,colm] < lower_bound:\n",
        "        df.loc[i,colm]= lower_bound\n",
        "    return spark.createDataFrame(df)\n",
        "\n",
        "for colm in outlier_cols:\n",
        "    df5 = handle_outliers(df5, colm)"
      ],
      "execution_count": 33,
      "outputs": [
        {
          "output_type": "stream",
          "name": "stderr",
          "text": [
            "/usr/local/lib/python3.10/dist-packages/pyspark/sql/pandas/conversion.py:251: FutureWarning: Passing unit-less datetime64 dtype to .astype is deprecated and will raise in a future version. Pass 'datetime64[ns]' instead\n",
            "  series = series.astype(t, copy=False)\n",
            "/usr/local/lib/python3.10/dist-packages/pyspark/sql/pandas/conversion.py:251: FutureWarning: Passing unit-less datetime64 dtype to .astype is deprecated and will raise in a future version. Pass 'datetime64[ns]' instead\n",
            "  series = series.astype(t, copy=False)\n",
            "/usr/local/lib/python3.10/dist-packages/pyspark/sql/pandas/conversion.py:251: FutureWarning: Passing unit-less datetime64 dtype to .astype is deprecated and will raise in a future version. Pass 'datetime64[ns]' instead\n",
            "  series = series.astype(t, copy=False)\n",
            "/usr/local/lib/python3.10/dist-packages/pyspark/sql/pandas/conversion.py:251: FutureWarning: Passing unit-less datetime64 dtype to .astype is deprecated and will raise in a future version. Pass 'datetime64[ns]' instead\n",
            "  series = series.astype(t, copy=False)\n",
            "/usr/local/lib/python3.10/dist-packages/pyspark/sql/pandas/conversion.py:251: FutureWarning: Passing unit-less datetime64 dtype to .astype is deprecated and will raise in a future version. Pass 'datetime64[ns]' instead\n",
            "  series = series.astype(t, copy=False)\n",
            "/usr/local/lib/python3.10/dist-packages/pyspark/sql/pandas/conversion.py:251: FutureWarning: Passing unit-less datetime64 dtype to .astype is deprecated and will raise in a future version. Pass 'datetime64[ns]' instead\n",
            "  series = series.astype(t, copy=False)\n",
            "/usr/local/lib/python3.10/dist-packages/pyspark/sql/pandas/conversion.py:251: FutureWarning: Passing unit-less datetime64 dtype to .astype is deprecated and will raise in a future version. Pass 'datetime64[ns]' instead\n",
            "  series = series.astype(t, copy=False)\n",
            "/usr/local/lib/python3.10/dist-packages/pyspark/sql/pandas/conversion.py:251: FutureWarning: Passing unit-less datetime64 dtype to .astype is deprecated and will raise in a future version. Pass 'datetime64[ns]' instead\n",
            "  series = series.astype(t, copy=False)\n"
          ]
        }
      ]
    },
    {
      "cell_type": "code",
      "metadata": {
        "id": "oWlcasCMFhPT",
        "colab": {
          "base_uri": "https://localhost:8080/",
          "height": 607
        },
        "outputId": "1d31ab43-fe79-4323-8f14-b0b3730b7d0b"
      },
      "source": [
        "# Recheck for outliers\n",
        "df5.toPandas().boxplot()\n",
        "plt.xticks(rotation= 90)\n",
        "plt.show()"
      ],
      "execution_count": 34,
      "outputs": [
        {
          "output_type": "stream",
          "name": "stderr",
          "text": [
            "/usr/local/lib/python3.10/dist-packages/pyspark/sql/pandas/conversion.py:251: FutureWarning: Passing unit-less datetime64 dtype to .astype is deprecated and will raise in a future version. Pass 'datetime64[ns]' instead\n",
            "  series = series.astype(t, copy=False)\n"
          ]
        },
        {
          "output_type": "display_data",
          "data": {
            "text/plain": [
              "<Figure size 640x480 with 1 Axes>"
            ],
            "image/png": "[encoded data removed]"
          },
          "metadata": {}
        }
      ]
    },
    {
      "cell_type": "markdown",
      "metadata": {
        "id": "DnDUZeBPFhPU"
      },
      "source": [
        "* Scaling features"
      ]
    },
    {
      "cell_type": "code",
      "metadata": {
        "id": "xpZy1k0GFhPU",
        "colab": {
          "base_uri": "https://localhost:8080/",
          "height": 335
        },
        "outputId": "31294acc-7723-4f5f-e6d3-39057338af31"
      },
      "source": [
        "# Display the statistics of dataframe\n",
        "df5.toPandas().describe()"
      ],
      "execution_count": 35,
      "outputs": [
        {
          "output_type": "stream",
          "name": "stderr",
          "text": [
            "/usr/local/lib/python3.10/dist-packages/pyspark/sql/pandas/conversion.py:251: FutureWarning: Passing unit-less datetime64 dtype to .astype is deprecated and will raise in a future version. Pass 'datetime64[ns]' instead\n",
            "  series = series.astype(t, copy=False)\n"
          ]
        },
        {
          "output_type": "execute_result",
          "data": {
            "text/plain": [
              "              team  targeted_productivity          smv     over_time  \\\n",
              "count  1197.000000            1197.000000  1197.000000   1197.000000   \n",
              "mean      6.426901               0.736842    15.062172   4558.538012   \n",
              "std       3.463963               0.075515    10.943219   3305.837733   \n",
              "min       1.000000               0.550000     2.900000      0.000000   \n",
              "25%       3.000000               0.700000     3.940000   1440.000000   \n",
              "50%       6.000000               0.750000    15.260000   3960.000000   \n",
              "75%       9.000000               0.800000    24.260000   6960.000000   \n",
              "max      12.000000               0.800000    54.560000  15240.000000   \n",
              "\n",
              "         incentive  idle_time  idle_men  no_of_style_change  no_of_workers  \\\n",
              "count  1197.000000     1197.0    1197.0              1197.0    1197.000000   \n",
              "mean     26.712615        0.0       0.0                 0.0      34.609858   \n",
              "std      31.563351        0.0       0.0                 0.0      22.197687   \n",
              "min       0.000000        0.0       0.0                 0.0       2.000000   \n",
              "25%       0.000000        0.0       0.0                 0.0       9.000000   \n",
              "50%       0.000000        0.0       0.0                 0.0      34.000000   \n",
              "75%      50.000000        0.0       0.0                 0.0      57.000000   \n",
              "max     125.000000        0.0       0.0                 0.0      89.000000   \n",
              "\n",
              "       actual_productivity  \n",
              "count          1197.000000  \n",
              "mean              0.737397  \n",
              "std               0.168772  \n",
              "min               0.350389  \n",
              "25%               0.650307  \n",
              "50%               0.773333  \n",
              "75%               0.850253  \n",
              "max               1.120437  "
            ],
            "text/html": [
              "\n",
              "\n",
              "  <div id=\"df-81bc2a56-1fd6-4aa7-8f3d-ed73c65a2f5b\">\n",
              "    <div class=\"colab-df-container\">\n",
              "      <div>\n",
              "<style scoped>\n",
              "    .dataframe tbody tr th:only-of-type {\n",
              "        vertical-align: middle;\n",
              "    }\n",
              "\n",
              "    .dataframe tbody tr th {\n",
              "        vertical-align: top;\n",
              "    }\n",
              "\n",
              "    .dataframe thead th {\n",
              "        text-align: right;\n",
              "    }\n",
              "</style>\n",
              "<table border=\"1\" class=\"dataframe\">\n",
              "  <thead>\n",
              "    <tr style=\"text-align: right;\">\n",
              "      <th></th>\n",
              "      <th>team</th>\n",
              "      <th>targeted_productivity</th>\n",
              "      <th>smv</th>\n",
              "      <th>over_time</th>\n",
              "      <th>incentive</th>\n",
              "      <th>idle_time</th>\n",
              "      <th>idle_men</th>\n",
              "      <th>no_of_style_change</th>\n",
              "      <th>no_of_workers</th>\n",
              "      <th>actual_productivity</th>\n",
              "    </tr>\n",
              "  </thead>\n",
              "  <tbody>\n",
              "    <tr>\n",
              "      <th>count</th>\n",
              "      <td>1197.000000</td>\n",
              "      <td>1197.000000</td>\n",
              "      <td>1197.000000</td>\n",
              "      <td>1197.000000</td>\n",
              "      <td>1197.000000</td>\n",
              "      <td>1197.0</td>\n",
              "      <td>1197.0</td>\n",
              "      <td>1197.0</td>\n",
              "      <td>1197.000000</td>\n",
              "      <td>1197.000000</td>\n",
              "    </tr>\n",
              "    <tr>\n",
              "      <th>mean</th>\n",
              "      <td>6.426901</td>\n",
              "      <td>0.736842</td>\n",
              "      <td>15.062172</td>\n",
              "      <td>4558.538012</td>\n",
              "      <td>26.712615</td>\n",
              "      <td>0.0</td>\n",
              "      <td>0.0</td>\n",
              "      <td>0.0</td>\n",
              "      <td>34.609858</td>\n",
              "      <td>0.737397</td>\n",
              "    </tr>\n",
              "    <tr>\n",
              "      <th>std</th>\n",
              "      <td>3.463963</td>\n",
              "      <td>0.075515</td>\n",
              "      <td>10.943219</td>\n",
              "      <td>3305.837733</td>\n",
              "      <td>31.563351</td>\n",
              "      <td>0.0</td>\n",
              "      <td>0.0</td>\n",
              "      <td>0.0</td>\n",
              "      <td>22.197687</td>\n",
              "      <td>0.168772</td>\n",
              "    </tr>\n",
              "    <tr>\n",
              "      <th>min</th>\n",
              "      <td>1.000000</td>\n",
              "      <td>0.550000</td>\n",
              "      <td>2.900000</td>\n",
              "      <td>0.000000</td>\n",
              "      <td>0.000000</td>\n",
              "      <td>0.0</td>\n",
              "      <td>0.0</td>\n",
              "      <td>0.0</td>\n",
              "      <td>2.000000</td>\n",
              "      <td>0.350389</td>\n",
              "    </tr>\n",
              "    <tr>\n",
              "      <th>25%</th>\n",
              "      <td>3.000000</td>\n",
              "      <td>0.700000</td>\n",
              "      <td>3.940000</td>\n",
              "      <td>1440.000000</td>\n",
              "      <td>0.000000</td>\n",
              "      <td>0.0</td>\n",
              "      <td>0.0</td>\n",
              "      <td>0.0</td>\n",
              "      <td>9.000000</td>\n",
              "      <td>0.650307</td>\n",
              "    </tr>\n",
              "    <tr>\n",
              "      <th>50%</th>\n",
              "      <td>6.000000</td>\n",
              "      <td>0.750000</td>\n",
              "      <td>15.260000</td>\n",
              "      <td>3960.000000</td>\n",
              "      <td>0.000000</td>\n",
              "      <td>0.0</td>\n",
              "      <td>0.0</td>\n",
              "      <td>0.0</td>\n",
              "      <td>34.000000</td>\n",
              "      <td>0.773333</td>\n",
              "    </tr>\n",
              "    <tr>\n",
              "      <th>75%</th>\n",
              "      <td>9.000000</td>\n",
              "      <td>0.800000</td>\n",
              "      <td>24.260000</td>\n",
              "      <td>6960.000000</td>\n",
              "      <td>50.000000</td>\n",
              "      <td>0.0</td>\n",
              "      <td>0.0</td>\n",
              "      <td>0.0</td>\n",
              "      <td>57.000000</td>\n",
              "      <td>0.850253</td>\n",
              "    </tr>\n",
              "    <tr>\n",
              "      <th>max</th>\n",
              "      <td>12.000000</td>\n",
              "      <td>0.800000</td>\n",
              "      <td>54.560000</td>\n",
              "      <td>15240.000000</td>\n",
              "      <td>125.000000</td>\n",
              "      <td>0.0</td>\n",
              "      <td>0.0</td>\n",
              "      <td>0.0</td>\n",
              "      <td>89.000000</td>\n",
              "      <td>1.120437</td>\n",
              "    </tr>\n",
              "  </tbody>\n",
              "</table>\n",
              "</div>\n",
              "      <button class=\"colab-df-convert\" onclick=\"convertToInteractive('df-81bc2a56-1fd6-4aa7-8f3d-ed73c65a2f5b')\"\n",
              "              title=\"Convert this dataframe to an interactive table.\"\n",
              "              style=\"display:none;\">\n",
              "\n",
              "  <svg xmlns=\"http://www.w3.org/2000/svg\" height=\"24px\"viewBox=\"0 0 24 24\"\n",
              "       width=\"24px\">\n",
              "    <path d=\"M0 0h24v24H0V0z\" fill=\"none\"/>\n",
              "    <path d=\"M18.56 5.44l.94 2.06.94-2.06 2.06-.94-2.06-.94-.94-2.06-.94 2.06-2.06.94zm-11 1L8.5 8.5l.94-2.06 2.06-.94-2.06-.94L8.5 2.5l-.94 2.06-2.06.94zm10 10l.94 2.06.94-2.06 2.06-.94-2.06-.94-.94-2.06-.94 2.06-2.06.94z\"/><path d=\"M17.41 7.96l-1.37-1.37c-.4-.4-.92-.59-1.43-.59-.52 0-1.04.2-1.43.59L10.3 9.45l-7.72 7.72c-.78.78-.78 2.05 0 2.83L4 21.41c.39.39.9.59 1.41.59.51 0 1.02-.2 1.41-.59l7.78-7.78 2.81-2.81c.8-.78.8-2.07 0-2.86zM5.41 20L4 18.59l7.72-7.72 1.47 1.35L5.41 20z\"/>\n",
              "  </svg>\n",
              "      </button>\n",
              "\n",
              "\n",
              "\n",
              "    <div id=\"df-7707798b-84a2-49a0-afc2-56a74700a24c\">\n",
              "      <button class=\"colab-df-quickchart\" onclick=\"quickchart('df-7707798b-84a2-49a0-afc2-56a74700a24c')\"\n",
              "              title=\"Suggest charts.\"\n",
              "              style=\"display:none;\">\n",
              "\n",
              "<svg xmlns=\"http://www.w3.org/2000/svg\" height=\"24px\"viewBox=\"0 0 24 24\"\n",
              "     width=\"24px\">\n",
              "    <g>\n",
              "        <path d=\"M19 3H5c-1.1 0-2 .9-2 2v14c0 1.1.9 2 2 2h14c1.1 0 2-.9 2-2V5c0-1.1-.9-2-2-2zM9 17H7v-7h2v7zm4 0h-2V7h2v10zm4 0h-2v-4h2v4z\"/>\n",
              "    </g>\n",
              "</svg>\n",
              "      </button>\n",
              "    </div>\n",
              "\n",
              "<style>\n",
              "  .colab-df-quickchart {\n",
              "    background-color: #E8F0FE;\n",
              "    border: none;\n",
              "    border-radius: 50%;\n",
              "    cursor: pointer;\n",
              "    display: none;\n",
              "    fill: #1967D2;\n",
              "    height: 32px;\n",
              "    padding: 0 0 0 0;\n",
              "    width: 32px;\n",
              "  }\n",
              "\n",
              "  .colab-df-quickchart:hover {\n",
              "    background-color: #E2EBFA;\n",
              "    box-shadow: 0px 1px 2px rgba(60, 64, 67, 0.3), 0px 1px 3px 1px rgba(60, 64, 67, 0.15);\n",
              "    fill: #174EA6;\n",
              "  }\n",
              "\n",
              "  [theme=dark] .colab-df-quickchart {\n",
              "    background-color: #3B4455;\n",
              "    fill: #D2E3FC;\n",
              "  }\n",
              "\n",
              "  [theme=dark] .colab-df-quickchart:hover {\n",
              "    background-color: #434B5C;\n",
              "    box-shadow: 0px 1px 3px 1px rgba(0, 0, 0, 0.15);\n",
              "    filter: drop-shadow(0px 1px 2px rgba(0, 0, 0, 0.3));\n",
              "    fill: #FFFFFF;\n",
              "  }\n",
              "</style>\n",
              "\n",
              "    <script>\n",
              "      async function quickchart(key) {\n",
              "        const containerElement = document.querySelector('#' + key);\n",
              "        const charts = await google.colab.kernel.invokeFunction(\n",
              "            'suggestCharts', [key], {});\n",
              "      }\n",
              "    </script>\n",
              "\n",
              "      <script>\n",
              "\n",
              "function displayQuickchartButton(domScope) {\n",
              "  let quickchartButtonEl =\n",
              "    domScope.querySelector('#df-7707798b-84a2-49a0-afc2-56a74700a24c button.colab-df-quickchart');\n",
              "  quickchartButtonEl.style.display =\n",
              "    google.colab.kernel.accessAllowed ? 'block' : 'none';\n",
              "}\n",
              "\n",
              "        displayQuickchartButton(document);\n",
              "      </script>\n",
              "      <style>\n",
              "    .colab-df-container {\n",
              "      display:flex;\n",
              "      flex-wrap:wrap;\n",
              "      gap: 12px;\n",
              "    }\n",
              "\n",
              "    .colab-df-convert {\n",
              "      background-color: #E8F0FE;\n",
              "      border: none;\n",
              "      border-radius: 50%;\n",
              "      cursor: pointer;\n",
              "      display: none;\n",
              "      fill: #1967D2;\n",
              "      height: 32px;\n",
              "      padding: 0 0 0 0;\n",
              "      width: 32px;\n",
              "    }\n",
              "\n",
              "    .colab-df-convert:hover {\n",
              "      background-color: #E2EBFA;\n",
              "      box-shadow: 0px 1px 2px rgba(60, 64, 67, 0.3), 0px 1px 3px 1px rgba(60, 64, 67, 0.15);\n",
              "      fill: #174EA6;\n",
              "    }\n",
              "\n",
              "    [theme=dark] .colab-df-convert {\n",
              "      background-color: #3B4455;\n",
              "      fill: #D2E3FC;\n",
              "    }\n",
              "\n",
              "    [theme=dark] .colab-df-convert:hover {\n",
              "      background-color: #434B5C;\n",
              "      box-shadow: 0px 1px 3px 1px rgba(0, 0, 0, 0.15);\n",
              "      filter: drop-shadow(0px 1px 2px rgba(0, 0, 0, 0.3));\n",
              "      fill: #FFFFFF;\n",
              "    }\n",
              "  </style>\n",
              "\n",
              "      <script>\n",
              "        const buttonEl =\n",
              "          document.querySelector('#df-81bc2a56-1fd6-4aa7-8f3d-ed73c65a2f5b button.colab-df-convert');\n",
              "        buttonEl.style.display =\n",
              "          google.colab.kernel.accessAllowed ? 'block' : 'none';\n",
              "\n",
              "        async function convertToInteractive(key) {\n",
              "          const element = document.querySelector('#df-81bc2a56-1fd6-4aa7-8f3d-ed73c65a2f5b');\n",
              "          const dataTable =\n",
              "            await google.colab.kernel.invokeFunction('convertToInteractive',\n",
              "                                                     [key], {});\n",
              "          if (!dataTable) return;\n",
              "\n",
              "          const docLinkHtml = 'Like what you see? Visit the ' +\n",
              "            '<a target=\"_blank\" href=https://colab.research.google.com/notebooks/data_table.ipynb>data table notebook</a>'\n",
              "            + ' to learn more about interactive tables.';\n",
              "          element.innerHTML = '';\n",
              "          dataTable['output_type'] = 'display_data';\n",
              "          await google.colab.output.renderOutput(dataTable, element);\n",
              "          const docLink = document.createElement('div');\n",
              "          docLink.innerHTML = docLinkHtml;\n",
              "          element.appendChild(docLink);\n",
              "        }\n",
              "      </script>\n",
              "    </div>\n",
              "  </div>\n"
            ]
          },
          "metadata": {},
          "execution_count": 35
        }
      ]
    },
    {
      "cell_type": "code",
      "metadata": {
        "id": "5ZaHW1C7FhPU"
      },
      "source": [
        "# Specify columns that need to be scaled\n",
        "columns = [\"smv\", \"over_time\", \"incentive\", \"no_of_workers\"]"
      ],
      "execution_count": 36,
      "outputs": []
    },
    {
      "cell_type": "code",
      "metadata": {
        "id": "-8pgGe4yFhPU",
        "colab": {
          "base_uri": "https://localhost:8080/"
        },
        "outputId": "a5f54e50-15a4-415f-9de8-e397bf670f2b"
      },
      "source": [
        "print(\"Before Scaling :\")\n",
        "df5.show(5)\n",
        "df6 = df5\n",
        "\n",
        "from pyspark.ml.feature import MinMaxScaler, VectorAssembler\n",
        "from pyspark.ml import Pipeline\n",
        "from pyspark.sql.functions import udf, round\n",
        "from pyspark.sql.types import DoubleType\n",
        "\n",
        "# UDF for converting column type from vector to double type\n",
        "unlist = udf(lambda x: float(list(x)[0]), DoubleType())\n",
        "spark.udf.register(\"unlist\", unlist)\n",
        "\n",
        "# Iterating over columns to be scaled\n",
        "for i in columns:\n",
        "    # VectorAssembler Transformation - Converting column to vector type\n",
        "    assembler = VectorAssembler(inputCols=[i],outputCol=i+\"_Vect\")\n",
        "\n",
        "    # MinMaxScaler Transformation\n",
        "    scaler = MinMaxScaler(inputCol=i+\"_Vect\", outputCol=i+\"_Scaled\")\n",
        "\n",
        "    # Pipeline of VectorAssembler and MinMaxScaler\n",
        "    pipeline = Pipeline(stages=[assembler, scaler])\n",
        "\n",
        "    # Fitting pipeline on dataframe\n",
        "    df6 = pipeline.fit(df6).transform(df6).withColumn(i+\"_Scaled\", unlist(i+\"_Scaled\")).drop(i+\"_Vect\")\n",
        "\n",
        "print(\"After Scaling :\")\n",
        "df6.show(5)"
      ],
      "execution_count": 37,
      "outputs": [
        {
          "output_type": "stream",
          "name": "stdout",
          "text": [
            "Before Scaling :\n",
            "+-------------------+--------+----------+--------+----+---------------------+-----+---------+---------+---------+--------+------------------+-------------+-------------------+\n",
            "|               date| quarter|department|     day|team|targeted_productivity|  smv|over_time|incentive|idle_time|idle_men|no_of_style_change|no_of_workers|actual_productivity|\n",
            "+-------------------+--------+----------+--------+----+---------------------+-----+---------+---------+---------+--------+------------------+-------------+-------------------+\n",
            "|2015-01-08 00:00:00|Quarter2|    sewing|Thursday|  12|                  0.8|11.61|    15120|       63|      0.0|       0|                 0|         31.5|        0.800107143|\n",
            "|2015-01-10 00:00:00|Quarter2| finishing|Saturday|   7|                  0.8|  2.9|     1440|        0|      0.0|       0|                 0|          8.0|        0.670075758|\n",
            "|2015-01-12 00:00:00|Quarter2| finishing|  Monday|   8|                  0.8|  2.9|     1440|        0|      0.0|       0|                 0|          8.0|              0.725|\n",
            "|2015-01-24 00:00:00|Quarter4| finishing|Saturday|  10|                 0.75| 3.94|     1800|        0|      0.0|       0|                 0|         10.0|        0.937242424|\n",
            "|2015-02-02 00:00:00|Quarter1|    sewing|  Monday|   4|                  0.8|22.52|     5940|       50|      0.0|       0|                 0|         56.5|        0.800393224|\n",
            "+-------------------+--------+----------+--------+----+---------------------+-----+---------+---------+---------+--------+------------------+-------------+-------------------+\n",
            "only showing top 5 rows\n",
            "\n",
            "After Scaling :\n",
            "+-------------------+--------+----------+--------+----+---------------------+-----+---------+---------+---------+--------+------------------+-------------+-------------------+-------------------+-------------------+----------------+--------------------+\n",
            "|               date| quarter|department|     day|team|targeted_productivity|  smv|over_time|incentive|idle_time|idle_men|no_of_style_change|no_of_workers|actual_productivity|         smv_Scaled|   over_time_Scaled|incentive_Scaled|no_of_workers_Scaled|\n",
            "+-------------------+--------+----------+--------+----+---------------------+-----+---------+---------+---------+--------+------------------+-------------+-------------------+-------------------+-------------------+----------------+--------------------+\n",
            "|2015-01-08 00:00:00|Quarter2|    sewing|Thursday|  12|                  0.8|11.61|    15120|       63|      0.0|       0|                 0|         31.5|        0.800107143|0.16860240030971735| 0.9921259842519685|           0.504|  0.3390804597701149|\n",
            "|2015-01-10 00:00:00|Quarter2| finishing|Saturday|   7|                  0.8|  2.9|     1440|        0|      0.0|       0|                 0|          8.0|        0.670075758|                0.0|0.09448818897637795|             0.0| 0.06896551724137931|\n",
            "|2015-01-12 00:00:00|Quarter2| finishing|  Monday|   8|                  0.8|  2.9|     1440|        0|      0.0|       0|                 0|          8.0|              0.725|                0.0|0.09448818897637795|             0.0| 0.06896551724137931|\n",
            "|2015-01-24 00:00:00|Quarter4| finishing|Saturday|  10|                 0.75| 3.94|     1800|        0|      0.0|       0|                 0|         10.0|        0.937242424|0.02013162988772745|0.11811023622047244|             0.0| 0.09195402298850575|\n",
            "|2015-02-02 00:00:00|Quarter1|    sewing|  Monday|   4|                  0.8|22.52|     5940|       50|      0.0|       0|                 0|         56.5|        0.800393224| 0.3797909407665505|0.38976377952755903|             0.4|  0.6264367816091954|\n",
            "+-------------------+--------+----------+--------+----+---------------------+-----+---------+---------+---------+--------+------------------+-------------+-------------------+-------------------+-------------------+----------------+--------------------+\n",
            "only showing top 5 rows\n",
            "\n"
          ]
        }
      ]
    },
    {
      "cell_type": "markdown",
      "metadata": {
        "id": "XrNKGgMLFhPU"
      },
      "source": [
        "Let's create a new `id` column that will contain a unique value for each record."
      ]
    },
    {
      "cell_type": "code",
      "metadata": {
        "id": "Vws1d6rPFhPU",
        "colab": {
          "base_uri": "https://localhost:8080/"
        },
        "outputId": "8ccaf8dc-8f6d-4045-d695-760d07168da4"
      },
      "source": [
        "df7 = df6.withColumn(\"id\", monotonically_increasing_id()+1)\n",
        "df7.select('id').show(5)"
      ],
      "execution_count": 38,
      "outputs": [
        {
          "output_type": "stream",
          "name": "stdout",
          "text": [
            "+---+\n",
            "| id|\n",
            "+---+\n",
            "|  1|\n",
            "|  2|\n",
            "|  3|\n",
            "|  4|\n",
            "|  5|\n",
            "+---+\n",
            "only showing top 5 rows\n",
            "\n"
          ]
        }
      ]
    },
    {
      "cell_type": "markdown",
      "metadata": {
        "id": "AxtWPtpBFhPU"
      },
      "source": [
        "We can also perform SQL queries on spark dataframe using the `spark.sql()` function. But for that, we first need to register the dataframe as a table in the spark catalog. We can do this using the `createOrReplaceTempView()` spark dataframe method. It takes the name of the temporary table we'd like to register as argument. As this table is temporary, it can only be accessed from the specific SparkSession used to create the Spark dataframe."
      ]
    },
    {
      "cell_type": "code",
      "metadata": {
        "id": "IQuN6nz5FhPV",
        "colab": {
          "base_uri": "https://localhost:8080/"
        },
        "outputId": "009cdde2-754b-4ac0-e412-6c54f386c9ba"
      },
      "source": [
        "df7.createOrReplaceTempView('df_table')\n",
        "spark.sql(\"select date, department, team, smv, over_time, incentive from df_table where department='sewing'\").show(5)"
      ],
      "execution_count": 39,
      "outputs": [
        {
          "output_type": "stream",
          "name": "stdout",
          "text": [
            "+-------------------+----------+----+-----+---------+---------+\n",
            "|               date|department|team|  smv|over_time|incentive|\n",
            "+-------------------+----------+----+-----+---------+---------+\n",
            "|2015-01-08 00:00:00|    sewing|  12|11.61|    15120|       63|\n",
            "|2015-02-02 00:00:00|    sewing|   4|22.52|     5940|       50|\n",
            "|2015-02-19 00:00:00|    sewing|  11|11.41|     3480|       30|\n",
            "|2015-02-26 00:00:00|    sewing|   5|27.48|     6840|       38|\n",
            "|2015-01-10 00:00:00|    sewing|   1|26.16|    10620|       63|\n",
            "+-------------------+----------+----+-----+---------+---------+\n",
            "only showing top 5 rows\n",
            "\n"
          ]
        }
      ]
    },
    {
      "cell_type": "markdown",
      "metadata": {
        "id": "NuxGK5lMFhPV"
      },
      "source": [
        "#### Load Data"
      ]
    },
    {
      "cell_type": "markdown",
      "metadata": {
        "id": "WZa9WGtjFhPV"
      },
      "source": [
        "Once we have extracted and transformed our data, we might want to load it into the destination or store it somewhere. We will load it into the MongoDB database."
      ]
    },
    {
      "cell_type": "markdown",
      "metadata": {
        "id": "Cw_To9V-FhPW"
      },
      "source": [
        "Data in MongoDB is represented and stored using JSON-style documents. In PyMongo we use dictionaries to represent documents."
      ]
    },
    {
      "cell_type": "code",
      "metadata": {
        "id": "YQtw9vFnFhPW",
        "colab": {
          "base_uri": "https://localhost:8080/"
        },
        "outputId": "23d515fa-673e-4a23-c4d1-535c484e36db"
      },
      "source": [
        "data = df7.toPandas()\n",
        "documents = []\n",
        "for i in range(len(data)):\n",
        "        doc = data.iloc[i,:].to_dict()\n",
        "        for keys in doc:\n",
        "          if keys != 'date':\n",
        "            if type(doc[keys]) not in [str]:\n",
        "                doc[keys] = float(doc[keys])\n",
        "        documents.append(doc)\n",
        "documents[0:1]"
      ],
      "execution_count": 40,
      "outputs": [
        {
          "output_type": "stream",
          "name": "stderr",
          "text": [
            "/usr/local/lib/python3.10/dist-packages/pyspark/sql/pandas/conversion.py:251: FutureWarning: Passing unit-less datetime64 dtype to .astype is deprecated and will raise in a future version. Pass 'datetime64[ns]' instead\n",
            "  series = series.astype(t, copy=False)\n"
          ]
        },
        {
          "output_type": "execute_result",
          "data": {
            "text/plain": [
              "[{'date': Timestamp('2015-01-08 00:00:00'),\n",
              "  'quarter': 'Quarter2',\n",
              "  'department': 'sewing',\n",
              "  'day': 'Thursday',\n",
              "  'team': 12.0,\n",
              "  'targeted_productivity': 0.8,\n",
              "  'smv': 11.61,\n",
              "  'over_time': 15120.0,\n",
              "  'incentive': 63.0,\n",
              "  'idle_time': 0.0,\n",
              "  'idle_men': 0.0,\n",
              "  'no_of_style_change': 0.0,\n",
              "  'no_of_workers': 31.5,\n",
              "  'actual_productivity': 0.800107143,\n",
              "  'smv_Scaled': 0.16860240030971735,\n",
              "  'over_time_Scaled': 0.9921259842519685,\n",
              "  'incentive_Scaled': 0.504,\n",
              "  'no_of_workers_Scaled': 0.3390804597701149,\n",
              "  'id': 1.0}]"
            ]
          },
          "metadata": {},
          "execution_count": 40
        }
      ]
    },
    {
      "cell_type": "markdown",
      "metadata": {
        "id": "gBdnqWBmFhPW"
      },
      "source": [
        "If you would like to perform the data insertion step then please **create your own account** on MongoDB Atlas as given in the reference [here](https://cdn.iisc.talentsprint.com/CDS/DB_Connect_Docs/Assignment_MongoDB_Connect.pdf) and change the credentials and run the below code by uncommenting it."
      ]
    },
    {
      "cell_type": "code",
      "metadata": {
        "id": "y4JC5Zg5FhPX"
      },
      "source": [
        "### new_document = coll.insert_many(documents)"
      ],
      "execution_count": 41,
      "outputs": []
    },
    {
      "cell_type": "markdown",
      "metadata": {
        "id": "ayplTl--FhPX"
      },
      "source": [
        "Also, we can store the data in other formats like json, csv, and parquet and read it back whenever required.\n",
        "\n",
        "**Store the dataframe as a `json file`**"
      ]
    },
    {
      "cell_type": "code",
      "metadata": {
        "id": "jGbjYqmDFhPX"
      },
      "source": [
        "df7.write.format(\"json\").mode(\"overwrite\").save('transformed_json_data.json')"
      ],
      "execution_count": 42,
      "outputs": []
    },
    {
      "cell_type": "markdown",
      "metadata": {
        "id": "9hzX8LdjFhPX"
      },
      "source": [
        "**Read data from `json` to spark dataframe**"
      ]
    },
    {
      "cell_type": "code",
      "metadata": {
        "id": "p2--YPdhFhPY"
      },
      "source": [
        "df_json = spark.read.format(\"json\").load('transformed_json_data.json')"
      ],
      "execution_count": 43,
      "outputs": []
    },
    {
      "cell_type": "code",
      "metadata": {
        "id": "HJVFRRoQFhPY",
        "colab": {
          "base_uri": "https://localhost:8080/"
        },
        "outputId": "974312ea-7978-41b5-968c-adeea7463fd4"
      },
      "source": [
        "df_json.show(5)"
      ],
      "execution_count": 44,
      "outputs": [
        {
          "output_type": "stream",
          "name": "stdout",
          "text": [
            "+-------------------+--------------------+--------+----------+----------+--------+---------+---------+----------------+------------------+-------------+--------------------+---------+-------------------+--------+-----+--------------------+---------------------+----+\n",
            "|actual_productivity|                date|     day|department|        id|idle_men|idle_time|incentive|incentive_Scaled|no_of_style_change|no_of_workers|no_of_workers_Scaled|over_time|   over_time_Scaled| quarter|  smv|          smv_Scaled|targeted_productivity|team|\n",
            "+-------------------+--------------------+--------+----------+----------+--------+---------+---------+----------------+------------------+-------------+--------------------+---------+-------------------+--------+-----+--------------------+---------------------+----+\n",
            "|         0.37046657|2015-01-27T00:00:...| Tuesday|    sewing|8589934593|       0|      0.0|       23|           0.184|                 0|         54.0|  0.5977011494252873|     6480| 0.4251968503937008|Quarter4|48.18|  0.8765001935733643|   0.5499999999999998|  11|\n",
            "|        0.850610526|2015-01-31T00:00:...|Saturday|    sewing|8589934594|       0|      0.0|       81|           0.648|                 0|         57.0|   0.632183908045977|     6840|0.44881889763779526|Quarter5|29.12|  0.5075493612078978|                 0.75|   9|\n",
            "|        1.004888889|2015-02-10T00:00:...| Tuesday| finishing|8589934595|       0|      0.0|        0|             0.0|                 0|          9.0| 0.08045977011494253|     1080|0.07086614173228346|Quarter2| 4.08|0.022841656987998452|                  0.8|  12|\n",
            "|        0.715333333|2015-02-15T00:00:...|  Sunday| finishing|8589934596|       0|      0.0|        0|             0.0|                 0|         10.0| 0.09195402298850575|     1200|0.07874015748031496|Quarter3|  2.9|                 0.0|                  0.6|  11|\n",
            "|          0.8300625|2015-02-22T00:00:...|  Sunday| finishing|8589934597|       0|      0.0|        0|             0.0|                 0|         20.0| 0.20689655172413793|     4800|0.31496062992125984|Quarter4| 5.13| 0.04316686024003097|                  0.8|   2|\n",
            "+-------------------+--------------------+--------+----------+----------+--------+---------+---------+----------------+------------------+-------------+--------------------+---------+-------------------+--------+-----+--------------------+---------------------+----+\n",
            "only showing top 5 rows\n",
            "\n"
          ]
        }
      ]
    },
    {
      "cell_type": "markdown",
      "metadata": {
        "id": "3_5wx0aWFhPY"
      },
      "source": [
        "**Store the dataframe as a `csv file`**"
      ]
    },
    {
      "cell_type": "code",
      "metadata": {
        "id": "mpABXzByFhPY"
      },
      "source": [
        "df7.write.format(\"csv\").mode(\"overwrite\").option(\"header\", \"true\").save(\"transformed_csv_data.csv\")"
      ],
      "execution_count": 45,
      "outputs": []
    },
    {
      "cell_type": "markdown",
      "metadata": {
        "id": "7mO6h-HpFhPY"
      },
      "source": [
        "**Read data from `csv` to spark dataframe**"
      ]
    },
    {
      "cell_type": "code",
      "metadata": {
        "id": "-oDKXltXFhPY"
      },
      "source": [
        "df_csv = spark.read.format(\"csv\").option(\"header\", \"true\").load('transformed_csv_data.csv')"
      ],
      "execution_count": 46,
      "outputs": []
    },
    {
      "cell_type": "code",
      "metadata": {
        "id": "sW53Urb8FhPY",
        "colab": {
          "base_uri": "https://localhost:8080/"
        },
        "outputId": "36a94668-2209-4e66-df1c-aae097ef3a48"
      },
      "source": [
        "df_csv.show(5)"
      ],
      "execution_count": 47,
      "outputs": [
        {
          "output_type": "stream",
          "name": "stdout",
          "text": [
            "+--------------------+--------+----------+--------+----+---------------------+-----+---------+---------+---------+--------+------------------+-------------+-------------------+--------------------+-------------------+----------------+--------------------+----------+\n",
            "|                date| quarter|department|     day|team|targeted_productivity|  smv|over_time|incentive|idle_time|idle_men|no_of_style_change|no_of_workers|actual_productivity|          smv_Scaled|   over_time_Scaled|incentive_Scaled|no_of_workers_Scaled|        id|\n",
            "+--------------------+--------+----------+--------+----+---------------------+-----+---------+---------+---------+--------+------------------+-------------+-------------------+--------------------+-------------------+----------------+--------------------+----------+\n",
            "|2015-01-27T00:00:...|Quarter4|    sewing| Tuesday|  11|   0.5499999999999998|48.18|     6480|       23|      0.0|       0|                 0|         54.0|         0.37046657|  0.8765001935733643| 0.4251968503937008|           0.184|  0.5977011494252873|8589934593|\n",
            "|2015-01-31T00:00:...|Quarter5|    sewing|Saturday|   9|                 0.75|29.12|     6840|       81|      0.0|       0|                 0|         57.0|        0.850610526|  0.5075493612078978|0.44881889763779526|           0.648|   0.632183908045977|8589934594|\n",
            "|2015-02-10T00:00:...|Quarter2| finishing| Tuesday|  12|                  0.8| 4.08|     1080|        0|      0.0|       0|                 0|          9.0|        1.004888889|0.022841656987998452|0.07086614173228346|             0.0| 0.08045977011494253|8589934595|\n",
            "|2015-02-15T00:00:...|Quarter3| finishing|  Sunday|  11|                  0.6|  2.9|     1200|        0|      0.0|       0|                 0|         10.0|        0.715333333|                 0.0|0.07874015748031496|             0.0| 0.09195402298850575|8589934596|\n",
            "|2015-02-22T00:00:...|Quarter4| finishing|  Sunday|   2|                  0.8| 5.13|     4800|        0|      0.0|       0|                 0|         20.0|          0.8300625| 0.04316686024003097|0.31496062992125984|             0.0| 0.20689655172413793|8589934597|\n",
            "+--------------------+--------+----------+--------+----+---------------------+-----+---------+---------+---------+--------+------------------+-------------+-------------------+--------------------+-------------------+----------------+--------------------+----------+\n",
            "only showing top 5 rows\n",
            "\n"
          ]
        }
      ]
    },
    {
      "cell_type": "markdown",
      "metadata": {
        "id": "is1lmuQuFhPY"
      },
      "source": [
        "**Use Parquet files to store data**"
      ]
    },
    {
      "cell_type": "markdown",
      "metadata": {
        "id": "3NfAZB2cFhPZ"
      },
      "source": [
        "Parquet uses snappy compression to compress the data. If the DataFrame is written as Parquet, the schema is preserved as part of the Parquet metadata.\n",
        "\n",
        "To know more about parquet file format click [here](https://ellicium.com/blog/parquet-file-format-structure/#:~:text=At%20a%20high%20level%2C%20the,stored%20in%20the%20footer%20section.)."
      ]
    },
    {
      "cell_type": "code",
      "metadata": {
        "id": "vQ-u4QOMFhPZ"
      },
      "source": [
        "df7.write.format(\"parquet\").mode(\"overwrite\").save(\"transformed_parquet_data\")"
      ],
      "execution_count": 48,
      "outputs": []
    },
    {
      "cell_type": "markdown",
      "metadata": {
        "id": "hSnBkk5KFhPZ"
      },
      "source": [
        "**Read data from Parquet file**\n",
        "\n",
        "We don't have to specify the schema here since it's stored as part of the Parquet metadata."
      ]
    },
    {
      "cell_type": "code",
      "metadata": {
        "id": "lqsho9lhFhPZ"
      },
      "source": [
        "df_parquet = spark.read.format(\"parquet\").load(\"transformed_parquet_data\")"
      ],
      "execution_count": 49,
      "outputs": []
    },
    {
      "cell_type": "code",
      "source": [
        "from pyspark.sql.functions import date_format\n",
        "\n",
        "# SQL query to determine the team with the highest average incentive on Mondays\n",
        "query = \"\"\"\n",
        "SELECT team, AVG(incentive) as avg_incentive\n",
        "FROM df_table\n",
        "WHERE date_format(date, 'E') = 'Mon'\n",
        "GROUP BY team\n",
        "ORDER BY avg_incentive DESC\n",
        "LIMIT 1\n",
        "\"\"\"\n",
        "\n",
        "# Execute the SQL query\n",
        "highest_avg_incentive_team = spark.sql(query)\n",
        "highest_avg_incentive_team.show()"
      ],
      "metadata": {
        "colab": {
          "base_uri": "https://localhost:8080/"
        },
        "id": "ogXPyb8g5lhQ",
        "outputId": "ebb998ff-e97e-4d25-c201-4a7aa7e2b7c1"
      },
      "execution_count": 53,
      "outputs": [
        {
          "output_type": "stream",
          "name": "stdout",
          "text": [
            "+----+-------------+\n",
            "|team|avg_incentive|\n",
            "+----+-------------+\n",
            "|   1|      48.6875|\n",
            "+----+-------------+\n",
            "\n"
          ]
        }
      ]
    },
    {
      "cell_type": "code",
      "metadata": {
        "id": "m1MQ19ypFhPZ",
        "colab": {
          "base_uri": "https://localhost:8080/"
        },
        "outputId": "718844a6-1a21-4a31-8351-c124b9106e2b"
      },
      "source": [
        "df_parquet.show(5)"
      ],
      "execution_count": 50,
      "outputs": [
        {
          "output_type": "stream",
          "name": "stdout",
          "text": [
            "+-------------------+--------+----------+--------+----+---------------------+-----+---------+---------+---------+--------+------------------+-------------+-------------------+--------------------+-------------------+----------------+--------------------+----------+\n",
            "|               date| quarter|department|     day|team|targeted_productivity|  smv|over_time|incentive|idle_time|idle_men|no_of_style_change|no_of_workers|actual_productivity|          smv_Scaled|   over_time_Scaled|incentive_Scaled|no_of_workers_Scaled|        id|\n",
            "+-------------------+--------+----------+--------+----+---------------------+-----+---------+---------+---------+--------+------------------+-------------+-------------------+--------------------+-------------------+----------------+--------------------+----------+\n",
            "|2015-01-27 00:00:00|Quarter4|    sewing| Tuesday|  11|   0.5499999999999998|48.18|     6480|       23|      0.0|       0|                 0|         54.0|         0.37046657|  0.8765001935733643| 0.4251968503937008|           0.184|  0.5977011494252873|8589934593|\n",
            "|2015-01-31 00:00:00|Quarter5|    sewing|Saturday|   9|                 0.75|29.12|     6840|       81|      0.0|       0|                 0|         57.0|        0.850610526|  0.5075493612078978|0.44881889763779526|           0.648|   0.632183908045977|8589934594|\n",
            "|2015-02-10 00:00:00|Quarter2| finishing| Tuesday|  12|                  0.8| 4.08|     1080|        0|      0.0|       0|                 0|          9.0|        1.004888889|0.022841656987998452|0.07086614173228346|             0.0| 0.08045977011494253|8589934595|\n",
            "|2015-02-15 00:00:00|Quarter3| finishing|  Sunday|  11|                  0.6|  2.9|     1200|        0|      0.0|       0|                 0|         10.0|        0.715333333|                 0.0|0.07874015748031496|             0.0| 0.09195402298850575|8589934596|\n",
            "|2015-02-22 00:00:00|Quarter4| finishing|  Sunday|   2|                  0.8| 5.13|     4800|        0|      0.0|       0|                 0|         20.0|          0.8300625| 0.04316686024003097|0.31496062992125984|             0.0| 0.20689655172413793|8589934597|\n",
            "+-------------------+--------+----------+--------+----+---------------------+-----+---------+---------+---------+--------+------------------+-------------+-------------------+--------------------+-------------------+----------------+--------------------+----------+\n",
            "only showing top 5 rows\n",
            "\n"
          ]
        }
      ]
    },
    {
      "cell_type": "markdown",
      "metadata": {
        "id": "VHfHdGCP_n6Y"
      },
      "source": [
        "### Please answer the questions below to complete the experiment:\n",
        "\n",
        "\n"
      ]
    },
    {
      "cell_type": "code",
      "metadata": {
        "id": "VgSwVENIPcM6"
      },
      "source": [
        "# @title Considering the scaled Spark dataframe (df7), which of the following teams has received the highest average incentive among those who worked on Monday? { run: \"auto\", form-width: \"500px\", display-mode: \"form\" }\n",
        "Answer = \"1\" #@param [\"\",\"1\",\"6\",\"11\"]"
      ],
      "execution_count": 54,
      "outputs": []
    },
    {
      "cell_type": "code",
      "metadata": {
        "id": "NMzKSbLIgFzQ"
      },
      "source": [
        "#@title How was the experiment? { run: \"auto\", form-width: \"500px\", display-mode: \"form\" }\n",
        "Complexity = \"Good, But Not Challenging for me\" #@param [\"\",\"Too Simple, I am wasting time\", \"Good, But Not Challenging for me\", \"Good and Challenging for me\", \"Was Tough, but I did it\", \"Too Difficult for me\"]\n"
      ],
      "execution_count": 55,
      "outputs": []
    },
    {
      "cell_type": "code",
      "metadata": {
        "id": "DjcH1VWSFI2l"
      },
      "source": [
        "#@title If it was too easy, what more would you have liked to be added? If it was very difficult, what would you have liked to have been removed? { run: \"auto\", display-mode: \"form\" }\n",
        "Additional = \"perfect for practice\" #@param {type:\"string\"}\n"
      ],
      "execution_count": 56,
      "outputs": []
    },
    {
      "cell_type": "code",
      "metadata": {
        "id": "4VBk_4VTAxCM"
      },
      "source": [
        "#@title Can you identify the concepts from the lecture which this experiment covered? { run: \"auto\", vertical-output: true, display-mode: \"form\" }\n",
        "Concepts = \"Yes\" #@param [\"\",\"Yes\", \"No\"]\n"
      ],
      "execution_count": 57,
      "outputs": []
    },
    {
      "cell_type": "code",
      "metadata": {
        "id": "XH91cL1JWH7m"
      },
      "source": [
        "#@title  Text and image description/explanation and code comments within the experiment: { run: \"auto\", vertical-output: true, display-mode: \"form\" }\n",
        "Comments = \"Very Useful\" #@param [\"\",\"Very Useful\", \"Somewhat Useful\", \"Not Useful\", \"Didn't use\"]\n"
      ],
      "execution_count": 58,
      "outputs": []
    },
    {
      "cell_type": "code",
      "metadata": {
        "id": "z8xLqj7VWIKW"
      },
      "source": [
        "#@title Mentor Support: { run: \"auto\", vertical-output: true, display-mode: \"form\" }\n",
        "Mentor_support = \"Very Useful\" #@param [\"\",\"Very Useful\", \"Somewhat Useful\", \"Not Useful\", \"Didn't use\"]\n"
      ],
      "execution_count": 59,
      "outputs": []
    },
    {
      "cell_type": "code",
      "metadata": {
        "id": "FzAZHt1zw-Y-",
        "cellView": "form",
        "colab": {
          "base_uri": "https://localhost:8080/"
        },
        "outputId": "59d3bbb6-a579-4548-f493-95cb05a71d58"
      },
      "source": [
        "#@title Run this cell to submit your notebook for grading { vertical-output: true }\n",
        "try:\n",
        "  if submission_id:\n",
        "      return_id = submit_notebook()\n",
        "      if return_id : submission_id = return_id\n",
        "  else:\n",
        "      print(\"Please complete the setup first.\")\n",
        "except NameError:\n",
        "  print (\"Please complete the setup first.\")"
      ],
      "execution_count": 65,
      "outputs": [
        {
          "output_type": "stream",
          "name": "stdout",
          "text": [
            "Your submission is successful.\n",
            "Ref Id: 6415\n",
            "Date of submission:  12 Aug 2023\n",
            "Time of submission:  18:56:11\n",
            "View your submissions: https://cds.iisc.talentsprint.com/notebook_submissions\n"
          ]
        }
      ]
    }
  ]
}