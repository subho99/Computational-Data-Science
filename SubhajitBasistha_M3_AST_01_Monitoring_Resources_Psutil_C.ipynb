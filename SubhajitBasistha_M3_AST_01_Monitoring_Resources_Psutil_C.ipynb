{
  "nbformat": 4,
  "nbformat_minor": 0,
  "metadata": {
    "colab": {
      "provenance": [],
      "include_colab_link": true
    },
    "kernelspec": {
      "name": "python3",
      "display_name": "Python 3"
    },
    "language_info": {
      "name": "python"
    }
  },
  "cells": [
    {
      "cell_type": "markdown",
      "metadata": {
        "id": "view-in-github",
        "colab_type": "text"
      },
      "source": [
        "<a href=\"https://colab.research.google.com/github/subho99/Computational-Data-Science/blob/main/SubhajitBasistha_M3_AST_01_Monitoring_Resources_Psutil_C.ipynb\" target=\"_parent\"><img src=\"https://colab.research.google.com/assets/colab-badge.svg\" alt=\"Open In Colab\"/></a>"
      ]
    },
    {
      "cell_type": "markdown",
      "source": [
        "# Advanced Certification Program in Computational Data Science\n",
        "## A program by IISc and TalentSprint\n",
        "### Assignment 1: Monitoring Resources Using Psutil"
      ],
      "metadata": {
        "id": "5hEAs4TxQfpO"
      }
    },
    {
      "cell_type": "markdown",
      "source": [
        "## Learning Objectives"
      ],
      "metadata": {
        "id": "rXUi1yR6QpBI"
      }
    },
    {
      "cell_type": "markdown",
      "source": [
        "At the end of the experiment, you will be able to:\n",
        " \n",
        "- Understand, what does monitoring your device mean\n",
        "- Explore various functions of `psutil` package\n",
        "- Explore `multiprocessing` package\n",
        "- Evaluate the advantage of parallelism using Psutil"
      ],
      "metadata": {
        "id": "spgmBDk4QsxR"
      }
    },
    {
      "cell_type": "markdown",
      "source": [
        "### What does monitoring your device mean?"
      ],
      "metadata": {
        "id": "S1hRsonEe-ab"
      }
    },
    {
      "cell_type": "markdown",
      "source": [
        "It means to keep track of various resources in the system and their utilization\n",
        "\n",
        "\n",
        "Resources such as:\n",
        "- CPU\n",
        "- GPU \n",
        "- Memory (RAM, Swap space, and Hard disk space)\n",
        "- Disks \n",
        "- Network \n",
        "- Sensors"
      ],
      "metadata": {
        "id": "S43SA47Ze_-R"
      }
    },
    {
      "cell_type": "markdown",
      "source": [
        "### Why do we want to monitor various resources?"
      ],
      "metadata": {
        "id": "I4gh7rJlgC7g"
      }
    },
    {
      "cell_type": "markdown",
      "source": [
        "1. Monitoring and measuring allows us to understand resource allocation better\n",
        "2. Monitoring helps to regularly evaluate the performance of the critical system resources.\n",
        "3. Helps to identify the process that is using the maximum resources.\n",
        "4. It helps to evaluate if the current system's resources are sufficient to execute a particular task.\n",
        "5. To reduce escalation of issues."
      ],
      "metadata": {
        "id": "YXCAQ_engE0v"
      }
    },
    {
      "cell_type": "markdown",
      "source": [
        "### Psutil"
      ],
      "metadata": {
        "id": "jBJsQwE8hsA6"
      }
    },
    {
      "cell_type": "markdown",
      "source": [
        "Psutil is a Python cross-platform library used to access system details and process utilities.\n",
        "This library is used for system monitoring, profiling, limiting process resources, and the management of running processes.\n",
        "\n",
        "Click [here](https://pypi.org/project/psutil/) to proceed to the official documentation of Psutil."
      ],
      "metadata": {
        "id": "c8IhKM0qhuRj"
      }
    },
    {
      "cell_type": "markdown",
      "source": [
        "Let us explore various functions of Psutil."
      ],
      "metadata": {
        "id": "THfwo-6vLD_N"
      }
    },
    {
      "cell_type": "markdown",
      "source": [
        "### Setup Steps:"
      ],
      "metadata": {
        "id": "whKnUjWyQ3Oy"
      }
    },
    {
      "cell_type": "code",
      "source": [
        "#@title Please enter your registration id to start: { run: \"auto\", display-mode: \"form\" }\n",
        "Id = \"2236624\" #@param {type:\"string\"}"
      ],
      "metadata": {
        "id": "a0lOWPrrRDNp"
      },
      "execution_count": 41,
      "outputs": []
    },
    {
      "cell_type": "code",
      "source": [
        "#@title Please enter your password (your registered phone number) to continue: { run: \"auto\", display-mode: \"form\" }\n",
        "password = \"8240187807\" #@param {type:\"string\"}"
      ],
      "metadata": {
        "id": "-EhywUXcRJnS"
      },
      "execution_count": 2,
      "outputs": []
    },
    {
      "cell_type": "code",
      "source": [
        "#@title Run this cell to complete the setup for this Notebook\n",
        "from IPython import get_ipython\n",
        "\n",
        "ipython = get_ipython()\n",
        "  \n",
        "notebook= \"M3_AST_01_Monitoring_Resources_Psutil_C\" #name of the notebook\n",
        "\n",
        "def setup():\n",
        "#  ipython.magic(\"sx pip3 install torch\")  \n",
        "    from IPython.display import HTML, display\n",
        "    display(HTML('<script src=\"https://dashboard.talentsprint.com/aiml/record_ip.html?traineeId={0}&recordId={1}\"></script>'.format(getId(),submission_id)))\n",
        "    print(\"Setup completed successfully\")\n",
        "    return\n",
        "\n",
        "def submit_notebook():\n",
        "    ipython.magic(\"notebook -e \"+ notebook + \".ipynb\")\n",
        "    \n",
        "    import requests, json, base64, datetime\n",
        "\n",
        "    url = \"https://dashboard.talentsprint.com/xp/app/save_notebook_attempts\"\n",
        "    if not submission_id:\n",
        "      data = {\"id\" : getId(), \"notebook\" : notebook, \"mobile\" : getPassword()}\n",
        "      r = requests.post(url, data = data)\n",
        "      r = json.loads(r.text)\n",
        "\n",
        "      if r[\"status\"] == \"Success\":\n",
        "          return r[\"record_id\"]\n",
        "      elif \"err\" in r:        \n",
        "        print(r[\"err\"])\n",
        "        return None        \n",
        "      else:\n",
        "        print (\"Something is wrong, the notebook will not be submitted for grading\")\n",
        "        return None\n",
        "    \n",
        "    elif getAnswer() and getComplexity() and getAdditional() and getConcepts() and getComments() and getMentorSupport():\n",
        "      f = open(notebook + \".ipynb\", \"rb\")\n",
        "      file_hash = base64.b64encode(f.read())\n",
        "\n",
        "      data = {\"complexity\" : Complexity, \"additional\" :Additional, \n",
        "              \"concepts\" : Concepts, \"record_id\" : submission_id, \n",
        "              \"answer\" : Answer, \"id\" : Id, \"file_hash\" : file_hash,\n",
        "              \"notebook\" : notebook,\n",
        "              \"feedback_experiments_input\" : Comments,\n",
        "              \"feedback_mentor_support\": Mentor_support}\n",
        "      r = requests.post(url, data = data)\n",
        "      r = json.loads(r.text)\n",
        "      if \"err\" in r:        \n",
        "        print(r[\"err\"])\n",
        "        return None   \n",
        "      else:\n",
        "        print(\"Your submission is successful.\")\n",
        "        print(\"Ref Id:\", submission_id)\n",
        "        print(\"Date of submission: \", r[\"date\"])\n",
        "        print(\"Time of submission: \", r[\"time\"])\n",
        "        print(\"View your submissions: https://cds.iisc.talentsprint.com/notebook_submissions\")\n",
        "        #print(\"For any queries/discrepancies, please connect with mentors through the chat icon in LMS dashboard.\")\n",
        "        return submission_id\n",
        "    else: submission_id\n",
        "    \n",
        "\n",
        "def getAdditional():\n",
        "  try:\n",
        "    if not Additional: \n",
        "      raise NameError\n",
        "    else:\n",
        "      return Additional  \n",
        "  except NameError:\n",
        "    print (\"Please answer Additional Question\")\n",
        "    return None\n",
        "\n",
        "def getComplexity():\n",
        "  try:\n",
        "    if not Complexity:\n",
        "      raise NameError\n",
        "    else:\n",
        "      return Complexity\n",
        "  except NameError:\n",
        "    print (\"Please answer Complexity Question\")\n",
        "    return None\n",
        "  \n",
        "def getConcepts():\n",
        "  try:\n",
        "    if not Concepts:\n",
        "      raise NameError\n",
        "    else:\n",
        "      return Concepts\n",
        "  except NameError:\n",
        "    print (\"Please answer Concepts Question\")\n",
        "    return None\n",
        "  \n",
        "  \n",
        "# def getWalkthrough():\n",
        "#   try:\n",
        "#     if not Walkthrough:\n",
        "#       raise NameError\n",
        "#     else:\n",
        "#       return Walkthrough\n",
        "#   except NameError:\n",
        "#     print (\"Please answer Walkthrough Question\")\n",
        "#     return None\n",
        "  \n",
        "def getComments():\n",
        "  try:\n",
        "    if not Comments:\n",
        "      raise NameError\n",
        "    else:\n",
        "      return Comments\n",
        "  except NameError:\n",
        "    print (\"Please answer Comments Question\")\n",
        "    return None\n",
        "  \n",
        "\n",
        "def getMentorSupport():\n",
        "  try:\n",
        "    if not Mentor_support:\n",
        "      raise NameError\n",
        "    else:\n",
        "      return Mentor_support\n",
        "  except NameError:\n",
        "    print (\"Please answer Mentor support Question\")\n",
        "    return None\n",
        "\n",
        "def getAnswer():\n",
        "  try:\n",
        "    if not Answer:\n",
        "      raise NameError \n",
        "    else: \n",
        "      return Answer\n",
        "  except NameError:\n",
        "    print (\"Please answer Question\")\n",
        "    return None\n",
        "  \n",
        "\n",
        "def getId():\n",
        "  try: \n",
        "    return Id if Id else None\n",
        "  except NameError:\n",
        "    return None\n",
        "\n",
        "def getPassword():\n",
        "  try:\n",
        "    return password if password else None\n",
        "  except NameError:\n",
        "    return None\n",
        "\n",
        "submission_id = None\n",
        "### Setup \n",
        "if getPassword() and getId():\n",
        "  submission_id = submit_notebook()\n",
        "  if submission_id:\n",
        "    setup() \n",
        "else:\n",
        "  print (\"Please complete Id and Password cells before running setup\")\n",
        "\n"
      ],
      "metadata": {
        "id": "ngDFdwCARQhS",
        "cellView": "form",
        "colab": {
          "base_uri": "https://localhost:8080/",
          "height": 34
        },
        "outputId": "9f465aa4-fe3f-49b6-d8ae-bd90c448c863"
      },
      "execution_count": 42,
      "outputs": [
        {
          "output_type": "display_data",
          "data": {
            "text/plain": [
              "<IPython.core.display.HTML object>"
            ],
            "text/html": [
              "<script src=\"https://dashboard.talentsprint.com/aiml/record_ip.html?traineeId=2236624&recordId=4146\"></script>"
            ]
          },
          "metadata": {}
        },
        {
          "output_type": "stream",
          "name": "stdout",
          "text": [
            "Setup completed successfully\n"
          ]
        }
      ]
    },
    {
      "cell_type": "markdown",
      "source": [
        "### Import required packages"
      ],
      "metadata": {
        "id": "MyQKyEYTRur0"
      }
    },
    {
      "cell_type": "code",
      "source": [
        "# Importing libraries\n",
        "import psutil\n",
        "import platform"
      ],
      "metadata": {
        "id": "bS5lt3DVSTAo"
      },
      "execution_count": 4,
      "outputs": []
    },
    {
      "cell_type": "markdown",
      "source": [
        "### System profile\n",
        "\n",
        "\n"
      ],
      "metadata": {
        "id": "OGlHC1XwM9oO"
      }
    },
    {
      "cell_type": "markdown",
      "source": [
        "Here we will explore the Psutil functions that helps us explore about the system."
      ],
      "metadata": {
        "id": "OTaqBW63yaUW"
      }
    },
    {
      "cell_type": "markdown",
      "source": [
        "Profile your system to know the system name, OS version, if the system is a 64-bit architecture or 32-bit architecture, number of physical and virtual cores, and the max and min frequency of the CPU."
      ],
      "metadata": {
        "id": "0dQu-hk6NC1Q"
      }
    },
    {
      "cell_type": "code",
      "source": [
        "#Windows or Linux\n",
        "uname = platform.uname()\n",
        "print(f\"System: {uname.system}\")  "
      ],
      "metadata": {
        "id": "LTDe0WqfTNxM",
        "colab": {
          "base_uri": "https://localhost:8080/"
        },
        "outputId": "5c1aad76-f496-4e30-f429-76678283002a"
      },
      "execution_count": 5,
      "outputs": [
        {
          "output_type": "stream",
          "name": "stdout",
          "text": [
            "System: Linux\n"
          ]
        }
      ]
    },
    {
      "cell_type": "code",
      "source": [
        "# System name\n",
        "print(f\"Node Name: {uname.node}\") "
      ],
      "metadata": {
        "id": "oASnVEpxTd1L",
        "colab": {
          "base_uri": "https://localhost:8080/"
        },
        "outputId": "50c393dc-9dcc-48cf-e7ed-d1edb64e20ca"
      },
      "execution_count": 6,
      "outputs": [
        {
          "output_type": "stream",
          "name": "stdout",
          "text": [
            "Node Name: 01589b08f2b6\n"
          ]
        }
      ]
    },
    {
      "cell_type": "code",
      "source": [
        "# OS release version like  10(Windows) or 5.4.0-72-generic(linux)\n",
        "print(f\"Release: {uname.release}\") "
      ],
      "metadata": {
        "id": "OaJZB4mgTmwC",
        "colab": {
          "base_uri": "https://localhost:8080/"
        },
        "outputId": "549ff35a-6e95-47bc-eae3-63c0b4e47097"
      },
      "execution_count": 7,
      "outputs": [
        {
          "output_type": "stream",
          "name": "stdout",
          "text": [
            "Release: 5.10.147+\n"
          ]
        }
      ]
    },
    {
      "cell_type": "code",
      "source": [
        "print(f\"Version: {uname.version}\")"
      ],
      "metadata": {
        "id": "ltrJxgASTrmJ",
        "colab": {
          "base_uri": "https://localhost:8080/"
        },
        "outputId": "fcfd3607-8add-4943-cd04-3fc0de8c1d86"
      },
      "execution_count": 8,
      "outputs": [
        {
          "output_type": "stream",
          "name": "stdout",
          "text": [
            "Version: #1 SMP Sat Dec 10 16:00:40 UTC 2022\n"
          ]
        }
      ]
    },
    {
      "cell_type": "code",
      "source": [
        "# machine can be AMD64 or x86-64\n",
        "print(f\"Machine: {uname.machine}\")  "
      ],
      "metadata": {
        "id": "8xVRnYS4Tvbd",
        "colab": {
          "base_uri": "https://localhost:8080/"
        },
        "outputId": "7d2ec8a1-0045-408a-a3aa-18625842f2bb"
      },
      "execution_count": 9,
      "outputs": [
        {
          "output_type": "stream",
          "name": "stdout",
          "text": [
            "Machine: x86_64\n"
          ]
        }
      ]
    },
    {
      "cell_type": "code",
      "source": [
        "#  Intel64 Family 6 or x86_64\n",
        "print(f\"Processor: {uname.processor}\") "
      ],
      "metadata": {
        "id": "fIYZtCa3T1Xt",
        "colab": {
          "base_uri": "https://localhost:8080/"
        },
        "outputId": "8dbcb9aa-abe8-484a-f866-ff4083b88e4f"
      },
      "execution_count": 10,
      "outputs": [
        {
          "output_type": "stream",
          "name": "stdout",
          "text": [
            "Processor: x86_64\n"
          ]
        }
      ]
    },
    {
      "cell_type": "code",
      "source": [
        "#Number of physical cores\n",
        "print(\"Physical cores:\", psutil.cpu_count(logical=False))"
      ],
      "metadata": {
        "id": "oFQ1-bP33LKT",
        "colab": {
          "base_uri": "https://localhost:8080/"
        },
        "outputId": "2997563b-6386-44f0-ba38-42f76e3d93d3"
      },
      "execution_count": 11,
      "outputs": [
        {
          "output_type": "stream",
          "name": "stdout",
          "text": [
            "Physical cores: 1\n"
          ]
        }
      ]
    },
    {
      "cell_type": "code",
      "source": [
        "print(\"Total cores:\", psutil.cpu_count(logical=True))"
      ],
      "metadata": {
        "id": "62_JA_gx3aoJ",
        "colab": {
          "base_uri": "https://localhost:8080/"
        },
        "outputId": "b8eb3232-ed46-4567-c0b9-8c615c5abe75"
      },
      "execution_count": 12,
      "outputs": [
        {
          "output_type": "stream",
          "name": "stdout",
          "text": [
            "Total cores: 2\n"
          ]
        }
      ]
    },
    {
      "cell_type": "markdown",
      "source": [
        "* user – time spent by normal processes executing in user mode.\n",
        "* system – time spent by processes executing in kernel mode.\n",
        "* idle – time when system was idle.\n",
        "* nice – time spent by priority processes executing in user mode.\n",
        "* iowait – time spent waiting for I/O to complete. This is not accounted in idle time counter.\n",
        "* irq – time spent for servicing hardware interrupts.\n",
        "* softirq – time spent for servicing software interrupts.\n",
        "* steal – time spent by other operating systems running in a virtualized environment.\n",
        "* guest – time spent running a virtual CPU for guest operating systems under the control of the Linux kernel."
      ],
      "metadata": {
        "id": "wxT98sb37UsO"
      }
    },
    {
      "cell_type": "code",
      "source": [
        "print(psutil.cpu_times())"
      ],
      "metadata": {
        "id": "h-WVLHPQ7GjP",
        "colab": {
          "base_uri": "https://localhost:8080/"
        },
        "outputId": "700f681c-5fa3-45a2-ab2c-8eb829e9ba1d"
      },
      "execution_count": 13,
      "outputs": [
        {
          "output_type": "stream",
          "name": "stdout",
          "text": [
            "scputimes(user=55.64, nice=0.0, system=28.54, idle=326.86, iowait=22.67, irq=0.0, softirq=1.62, steal=0.31, guest=0.0, guest_nice=0.0)\n"
          ]
        }
      ]
    },
    {
      "cell_type": "markdown",
      "source": [
        "This function calculates the current system-wide percentage CPU utilization. It is recommended to provide time interval (seconds) as parameter to the function over which the average CPU usage will be calculated; ignoring the interval parameter could result in high variation in usage values."
      ],
      "metadata": {
        "id": "omjty3C0760v"
      }
    },
    {
      "cell_type": "code",
      "source": [
        "print(psutil.cpu_percent(1))"
      ],
      "metadata": {
        "id": "b_5uSgda7uYY",
        "colab": {
          "base_uri": "https://localhost:8080/"
        },
        "outputId": "1a076a52-ed8d-4645-8f18-77dd9c78c9c5"
      },
      "execution_count": 14,
      "outputs": [
        {
          "output_type": "stream",
          "name": "stdout",
          "text": [
            "3.5\n"
          ]
        }
      ]
    },
    {
      "cell_type": "markdown",
      "source": [
        "* ctx_switches – number of context switches since boot.\n",
        "* interrupts – number of interrupts since boot.\n",
        "* soft_interrupts – number of software interrupts since boot.\n",
        "* syscalls – number of system calls since boot. Always set to 0 in Ubuntu."
      ],
      "metadata": {
        "id": "i6JwFHPv8TTX"
      }
    },
    {
      "cell_type": "code",
      "source": [
        "print(\"CPU Statistics\", psutil.cpu_stats())"
      ],
      "metadata": {
        "id": "RDoL2trS8M2B",
        "colab": {
          "base_uri": "https://localhost:8080/"
        },
        "outputId": "67efe4f8-c1c4-4acc-f769-886410dbbc84"
      },
      "execution_count": 15,
      "outputs": [
        {
          "output_type": "stream",
          "name": "stdout",
          "text": [
            "CPU Statistics scpustats(ctx_switches=806527, interrupts=453445, soft_interrupts=421224, syscalls=0)\n"
          ]
        }
      ]
    },
    {
      "cell_type": "code",
      "source": [
        "print(psutil.boot_time())"
      ],
      "metadata": {
        "id": "JOjYAJ2DEbEO",
        "colab": {
          "base_uri": "https://localhost:8080/"
        },
        "outputId": "263f47a6-8bf1-4630-98b7-8cdc6377248a"
      },
      "execution_count": 16,
      "outputs": [
        {
          "output_type": "stream",
          "name": "stdout",
          "text": [
            "1681549940.0\n"
          ]
        }
      ]
    },
    {
      "cell_type": "markdown",
      "source": [
        " This function returns the system boot time which is expressed in seconds since the epoch. "
      ],
      "metadata": {
        "id": "1OJEcJjQEhkt"
      }
    },
    {
      "cell_type": "markdown",
      "source": [
        "### Monitoring and Limiting Memory"
      ],
      "metadata": {
        "id": "_Y6wYXpvxIgQ"
      }
    },
    {
      "cell_type": "markdown",
      "source": [
        "Virtual memory is a combination of RAM and the disk space that all the processes running on the CPU use, while Swap space is the portion of virtual memory on the hard disk used by the running processes when the RAM is full."
      ],
      "metadata": {
        "id": "3e2qHmGAxTLw"
      }
    },
    {
      "cell_type": "markdown",
      "source": [
        "* total – total physical memory excluding swap.\n",
        "* available – the memory that can be given instantly to processes without the system going into swap.\n",
        "* used – memory used.\n",
        "* free – memory not used at and is readily available\n",
        "* active – memory currently in use or very recently used.\n",
        "* inactive – memory that is marked as not used.\n",
        "* buffers – cache data like file system metadata.\n",
        "* cached – cached data\n",
        "* shared – memory that may be accessed by multiple processes."
      ],
      "metadata": {
        "id": "c58Qgs0E_XVd"
      }
    },
    {
      "cell_type": "code",
      "source": [
        "print(psutil.virtual_memory())"
      ],
      "metadata": {
        "id": "CtTSBek1-bA8",
        "colab": {
          "base_uri": "https://localhost:8080/"
        },
        "outputId": "29b11106-da10-47eb-a527-5caf32acca36"
      },
      "execution_count": 17,
      "outputs": [
        {
          "output_type": "stream",
          "name": "stdout",
          "text": [
            "svmem(total=13616332800, available=12586950656, percent=7.6, used=722268160, free=8426934272, active=597020672, inactive=4342464512, buffers=335396864, cached=4131733504, shared=1437696, slab=176406528)\n"
          ]
        }
      ]
    },
    {
      "cell_type": "markdown",
      "source": [
        "* total – total swap memory in bytes\n",
        "* used – used swap memory in bytes\n",
        "* free – free swap memory in bytes\n",
        "* percent – the percentage usage that is calculated as (total – available) / total * 100\n",
        "* sin – the number of bytes the system has swapped in from disk\n",
        "* sout – the number of bytes the system has swapped out from disk"
      ],
      "metadata": {
        "id": "9M6Q5IYx_nIV"
      }
    },
    {
      "cell_type": "code",
      "source": [
        "print(psutil.swap_memory())"
      ],
      "metadata": {
        "id": "V-c5C3SP_jdi",
        "colab": {
          "base_uri": "https://localhost:8080/"
        },
        "outputId": "8c7c5b3d-c8d0-4ab6-a5fd-445946c10bbc"
      },
      "execution_count": 18,
      "outputs": [
        {
          "output_type": "stream",
          "name": "stdout",
          "text": [
            "sswap(total=0, used=0, free=0, percent=0.0, sin=0, sout=0)\n"
          ]
        }
      ]
    },
    {
      "cell_type": "code",
      "source": [
        "def get_size(bytes, suffix=\"B\"):\n",
        "    \"\"\"\n",
        "    Scale bytes to its proper format- KB, MB, GB, TB and PB\n",
        "    \"\"\"\n",
        "    factor = 1024\n",
        "    for unit in [\"\", \"K\", \"M\", \"G\", \"T\", \"P\"]:\n",
        "        if bytes < factor:\n",
        "            return f\"{bytes:.2f}{unit}{suffix}\"\n",
        "        bytes /= factor"
      ],
      "metadata": {
        "id": "75p_NTu6zBgh"
      },
      "execution_count": 19,
      "outputs": []
    },
    {
      "cell_type": "code",
      "source": [
        "print(\"Virtual memory\")\n",
        "svmem = psutil.virtual_memory()\n",
        "print(f\"Total: {get_size(svmem.total)}\")\n",
        "print(f\"Available: {get_size(svmem.available)}\")\n",
        "print(f\"Used: {get_size(svmem.used)}\")\n",
        "print(f\"Percentage: {svmem.percent}%\")\n"
      ],
      "metadata": {
        "id": "HHOeRICOT51i",
        "colab": {
          "base_uri": "https://localhost:8080/"
        },
        "outputId": "bcddbfcc-b85c-40e5-a0a9-f77b93b3ce0f"
      },
      "execution_count": 20,
      "outputs": [
        {
          "output_type": "stream",
          "name": "stdout",
          "text": [
            "Virtual memory\n",
            "Total: 12.68GB\n",
            "Available: 11.72GB\n",
            "Used: 689.19MB\n",
            "Percentage: 7.6%\n"
          ]
        }
      ]
    },
    {
      "cell_type": "code",
      "source": [
        "# get the swap memory details (if exists)\n",
        "swap = psutil.swap_memory()\n",
        "print(\"SWAP memory\")\n",
        "print(f\"Total: {get_size(swap.total)}\")\n",
        "print(f\"Free: {get_size(swap.free)}\")\n",
        "print(f\"Used: {get_size(swap.used)}\")\n",
        "print(f\"Percentage: {swap.percent}%\")"
      ],
      "metadata": {
        "id": "0iCW2vU4T5y6",
        "colab": {
          "base_uri": "https://localhost:8080/"
        },
        "outputId": "31c68e9c-b845-4a24-b572-0812d72c8cd4"
      },
      "execution_count": 21,
      "outputs": [
        {
          "output_type": "stream",
          "name": "stdout",
          "text": [
            "SWAP memory\n",
            "Total: 0.00B\n",
            "Free: 0.00B\n",
            "Used: 0.00B\n",
            "Percentage: 0.0%\n"
          ]
        }
      ]
    },
    {
      "cell_type": "markdown",
      "source": [
        "### Monitoring and Limiting Hard Disk Space"
      ],
      "metadata": {
        "id": "dmIexmaC1flj"
      }
    },
    {
      "cell_type": "markdown",
      "source": [
        "This function provides the details of all mounted disk partitions as a list of tuples including device, mount point and filesystem type."
      ],
      "metadata": {
        "id": "Gmg3Gj_fBDxR"
      }
    },
    {
      "cell_type": "code",
      "source": [
        "print(psutil.disk_partitions())"
      ],
      "metadata": {
        "id": "1ayZORSqBEnU",
        "colab": {
          "base_uri": "https://localhost:8080/"
        },
        "outputId": "675acade-a3b0-41fb-ace6-33bda93f541b"
      },
      "execution_count": 22,
      "outputs": [
        {
          "output_type": "stream",
          "name": "stdout",
          "text": [
            "[sdiskpart(device='/dev/root', mountpoint='/usr/sbin/docker-init', fstype='ext2', opts='ro,relatime', maxfile=255, maxpath=4096), sdiskpart(device='/dev/sda1', mountpoint='/etc/resolv.conf', fstype='ext4', opts='rw,nosuid,nodev,relatime,commit=30', maxfile=255, maxpath=4096), sdiskpart(device='/dev/sda1', mountpoint='/etc/hostname', fstype='ext4', opts='rw,nosuid,nodev,relatime,commit=30', maxfile=255, maxpath=4096), sdiskpart(device='/dev/sda1', mountpoint='/etc/hosts', fstype='ext4', opts='rw,nosuid,nodev,relatime,commit=30', maxfile=255, maxpath=4096)]\n"
          ]
        }
      ]
    },
    {
      "cell_type": "markdown",
      "source": [
        " This function gives disk usage statistics as a tuple for a given path. Total, used and free space are expressed in bytes, along with the percentage usage."
      ],
      "metadata": {
        "id": "0znGv7uNBZRu"
      }
    },
    {
      "cell_type": "code",
      "source": [
        "print(psutil.disk_usage('/'))"
      ],
      "metadata": {
        "id": "JsA7Wg6cBU-t",
        "colab": {
          "base_uri": "https://localhost:8080/"
        },
        "outputId": "777ea713-703b-49c2-94a2-715dbb1cf4b6"
      },
      "execution_count": 23,
      "outputs": [
        {
          "output_type": "stream",
          "name": "stdout",
          "text": [
            "sdiskusage(total=115658190848, used=24879468544, free=90761945088, percent=21.5)\n"
          ]
        }
      ]
    },
    {
      "cell_type": "code",
      "source": [
        "print( \"Hard Disk Information\")\n",
        "print(\"Partitions and Usage:\")\n",
        "# get all disk partitions on the device\n",
        "partitions = psutil.disk_partitions()\n",
        "for partition in partitions:\n",
        "    print(\"Device:\",partition.device)\n",
        "    print(\"Partition Mountpoint: \",partition.mountpoint)\n",
        "    print(\"Partition File system type\",partition.fstype)\n",
        "    try:\n",
        "        partition_usage = psutil.disk_usage(partition.mountpoint)\n",
        "    except PermissionError:\n",
        "        continue\n",
        "    print(\"Total Size: \", get_size(partition_usage.total))\n",
        "    print(\"Used Space: \", get_size(partition_usage.used))\n",
        "    print(\"Free hard disk Space\", get_size(partition_usage.free))\n",
        "    print(\"Hard disk Used Percentage: \", partition_usage.percent, \"%\")\n",
        "    if(partition_usage.percent >82):\n",
        "        print(\"Disk space nearing full\")"
      ],
      "metadata": {
        "id": "sa7J9umqzfTi",
        "colab": {
          "base_uri": "https://localhost:8080/"
        },
        "outputId": "865ff183-ab7d-428b-9ee2-8fe7afbb6697"
      },
      "execution_count": 24,
      "outputs": [
        {
          "output_type": "stream",
          "name": "stdout",
          "text": [
            "Hard Disk Information\n",
            "Partitions and Usage:\n",
            "Device: /dev/root\n",
            "Partition Mountpoint:  /usr/sbin/docker-init\n",
            "Partition File system type ext2\n",
            "Total Size:  1.91GB\n",
            "Used Space:  1.09GB\n",
            "Free hard disk Space 840.96MB\n",
            "Hard disk Used Percentage:  57.0 %\n",
            "Device: /dev/sda1\n",
            "Partition Mountpoint:  /etc/resolv.conf\n",
            "Partition File system type ext4\n",
            "Total Size:  69.65GB\n",
            "Used Space:  42.02GB\n",
            "Free hard disk Space 27.62GB\n",
            "Hard disk Used Percentage:  60.3 %\n",
            "Device: /dev/sda1\n",
            "Partition Mountpoint:  /etc/hostname\n",
            "Partition File system type ext4\n",
            "Total Size:  69.65GB\n",
            "Used Space:  42.02GB\n",
            "Free hard disk Space 27.62GB\n",
            "Hard disk Used Percentage:  60.3 %\n",
            "Device: /dev/sda1\n",
            "Partition Mountpoint:  /etc/hosts\n",
            "Partition File system type ext4\n",
            "Total Size:  69.65GB\n",
            "Used Space:  42.02GB\n",
            "Free hard disk Space 27.62GB\n",
            "Hard disk Used Percentage:  60.3 %\n"
          ]
        }
      ]
    },
    {
      "cell_type": "markdown",
      "source": [
        "### Monitoring and Limiting Network Usage"
      ],
      "metadata": {
        "id": "u8fmsdwh4F7u"
      }
    },
    {
      "cell_type": "markdown",
      "source": [
        "All network protocols are associated with a specific address family. An address family provides services like packet fragmentation and reassembly, routing, addressing, and transporting. The address family provides interprocess communication between processes that run on the same system or different systems."
      ],
      "metadata": {
        "id": "G6GSCkFu4vQz"
      }
    },
    {
      "cell_type": "markdown",
      "source": [
        "An address family is normally comprised of several protocols, one per socket type."
      ],
      "metadata": {
        "id": "CQoWeAK84yCb"
      }
    },
    {
      "cell_type": "markdown",
      "source": [
        "Different networks address families and their purpose:\n",
        "* AF_INET: IPv4 Internet protocols\n",
        "* AF_INET6: IPv6 Internet protocols\n",
        "* AF_NETLINK: Kernel user interface device\n",
        "* AF_PACKET: Low-level packet interface"
      ],
      "metadata": {
        "id": "FZqQ0Kkc42oM"
      }
    },
    {
      "cell_type": "markdown",
      "source": [
        "* family – the socket family, either AF_INET or AF_INET6\n",
        "* address – the primary NIC address\n",
        "* netmask – the netmask address\n",
        "* broadcast – the broadcast address.\n",
        "* ptp – “point to point” it is the destination address on a point to point interface."
      ],
      "metadata": {
        "id": "5QIAXPV9D62q"
      }
    },
    {
      "cell_type": "code",
      "source": [
        "print(psutil.net_if_addrs())"
      ],
      "metadata": {
        "id": "RoutNlzHD3Up",
        "colab": {
          "base_uri": "https://localhost:8080/"
        },
        "outputId": "df30a311-e3fd-4d65-dc96-f1560bd8bae9"
      },
      "execution_count": 25,
      "outputs": [
        {
          "output_type": "stream",
          "name": "stdout",
          "text": [
            "{'lo': [snicaddr(family=<AddressFamily.AF_INET: 2>, address='127.0.0.1', netmask='255.0.0.0', broadcast=None, ptp=None), snicaddr(family=<AddressFamily.AF_PACKET: 17>, address='00:00:00:00:00:00', netmask=None, broadcast=None, ptp=None)], 'eth0': [snicaddr(family=<AddressFamily.AF_INET: 2>, address='172.28.0.12', netmask='255.255.0.0', broadcast='172.28.255.255', ptp=None), snicaddr(family=<AddressFamily.AF_PACKET: 17>, address='02:42:ac:1c:00:0c', netmask=None, broadcast='ff:ff:ff:ff:ff:ff', ptp=None)]}\n"
          ]
        }
      ]
    },
    {
      "cell_type": "code",
      "source": [
        "print( \"Network Information\")\n",
        "# get all network interfaces (virtual and physical)\n",
        "if_addrs = psutil.net_if_addrs()\n",
        "for interface_name, interface_addresses in if_addrs.items():\n",
        "    for address in interface_addresses:\n",
        "        print(\" Interface: \", interface_name)\n",
        "        if str(address.family) == 'AddressFamily.AF_INET':\n",
        "            print(\"  IP Address: \", address.address)\n",
        "            print(\"  Netmask: \", address.netmask)\n",
        "            print(\"  Broadcast IPv4: \",address.broadcast)\n",
        "        elif str(address.family) == 'AddressFamily.AF_PACKET':\n",
        "            print(\"  MAC Address: {address.address}\")\n",
        "            print(\"  Netmask: {address.netmask}\")\n",
        "            print(\"  Broadcast MAC: {address.broadcast}\")\n",
        "        elif str(address.family) == 'AddressFamily.AF_INET6':\n",
        "            print(\"  IP Address: \", address.address)\n",
        "            print(\"  Netmask: \", address.netmask)\n",
        "            print(\"  Broadcast IPv6: \",address.broadcast)"
      ],
      "metadata": {
        "id": "gaVwcCCwzf70",
        "colab": {
          "base_uri": "https://localhost:8080/"
        },
        "outputId": "4fb95233-bdd5-4415-a9eb-3e4076632ecb"
      },
      "execution_count": 26,
      "outputs": [
        {
          "output_type": "stream",
          "name": "stdout",
          "text": [
            "Network Information\n",
            " Interface:  lo\n",
            "  IP Address:  127.0.0.1\n",
            "  Netmask:  255.0.0.0\n",
            "  Broadcast IPv4:  None\n",
            " Interface:  lo\n",
            "  MAC Address: {address.address}\n",
            "  Netmask: {address.netmask}\n",
            "  Broadcast MAC: {address.broadcast}\n",
            " Interface:  eth0\n",
            "  IP Address:  172.28.0.12\n",
            "  Netmask:  255.255.0.0\n",
            "  Broadcast IPv4:  172.28.255.255\n",
            " Interface:  eth0\n",
            "  MAC Address: {address.address}\n",
            "  Netmask: {address.netmask}\n",
            "  Broadcast MAC: {address.broadcast}\n"
          ]
        }
      ]
    },
    {
      "cell_type": "markdown",
      "source": [
        " Return system-wide network I/O statistics like bytes sent, bytes received, incoming packets that were dropped, or outgoing packets dropped"
      ],
      "metadata": {
        "id": "yk2ruqSa5KcN"
      }
    },
    {
      "cell_type": "markdown",
      "source": [
        "* bytes_sent – number of bytes sent\n",
        "* bytes_recv – number of bytes received\n",
        "* packets_sent – number of packets sent\n",
        "* packets_recv – number of packets received\n",
        "* errin – total number of errors while receiving\n",
        "* errout – total number of errors while sending\n",
        "* dropin – total number of incoming packets which were dropped\n",
        "* dropout – total number of outgoing packets which were dropped"
      ],
      "metadata": {
        "id": "JfJn-bvPCvQL"
      }
    },
    {
      "cell_type": "code",
      "source": [
        "print(psutil.net_io_counters())"
      ],
      "metadata": {
        "id": "i_wp0SqmCrA0",
        "colab": {
          "base_uri": "https://localhost:8080/"
        },
        "outputId": "2bf288b6-4519-460c-c251-424ade3a513a"
      },
      "execution_count": 27,
      "outputs": [
        {
          "output_type": "stream",
          "name": "stdout",
          "text": [
            "snetio(bytes_sent=1248786, bytes_recv=1454455, packets_sent=4204, packets_recv=4474, errin=0, errout=0, dropin=0, dropout=0)\n"
          ]
        }
      ]
    },
    {
      "cell_type": "code",
      "source": [
        "net_io = psutil.net_io_counters()\n",
        "print(\"Total Bytes Sent: \", get_size(net_io.bytes_sent))\n",
        "print(\"Total Bytes Received: \", get_size(net_io.bytes_recv))\n",
        "print(\"Total outgoing packets dropped: \", net_io.dropin)\n",
        "print(\"Total incoming packets dropped:\", net_io.dropout)\n",
        "print(\"Total outgoing errors: \", net_io.errout)\n",
        "print(\"Total incoming errors:\", net_io.errin)"
      ],
      "metadata": {
        "id": "LHdmkaG6zgAs",
        "colab": {
          "base_uri": "https://localhost:8080/"
        },
        "outputId": "9332b8fd-6716-459a-e636-035687741f96"
      },
      "execution_count": 28,
      "outputs": [
        {
          "output_type": "stream",
          "name": "stdout",
          "text": [
            "Total Bytes Sent:  1.23MB\n",
            "Total Bytes Received:  1.43MB\n",
            "Total outgoing packets dropped:  0\n",
            "Total incoming packets dropped: 0\n",
            "Total outgoing errors:  0\n",
            "Total incoming errors: 0\n"
          ]
        }
      ]
    },
    {
      "cell_type": "markdown",
      "source": [
        "This function gives the list of socket connections of a system as a named tuples."
      ],
      "metadata": {
        "id": "9l8eRVJlDFrV"
      }
    },
    {
      "cell_type": "markdown",
      "source": [
        "* fd – the socket file descriptor.\n",
        "* family – the socket family, either AF_INET, AF_INET6 or AF_UNIX.\n",
        "* type – the socket type, either SOCK_STREAM, SOCK_DGRAM or SOCK_SEQPACKET.\n",
        "* laddr – the local address as a (ip, port) named tuple\n",
        "* raddr – the remote address as a (ip, port) named tuple\n",
        "* status – represents the status of a TCP connection.\n",
        "* pid – the PID of the process which opened the socket, if retrievable, else None."
      ],
      "metadata": {
        "id": "BD3MbSdUDIIk"
      }
    },
    {
      "cell_type": "code",
      "source": [
        "print(psutil.net_connections())"
      ],
      "metadata": {
        "id": "gqySXOxjC_Ov",
        "colab": {
          "base_uri": "https://localhost:8080/"
        },
        "outputId": "f3c57c4a-9510-4269-880a-59feb12508ad"
      },
      "execution_count": 29,
      "outputs": [
        {
          "output_type": "stream",
          "name": "stdout",
          "text": [
            "[sconn(fd=-1, family=<AddressFamily.AF_INET: 2>, type=<SocketKind.SOCK_DGRAM: 2>, laddr=addr(ip='127.0.0.11', port=39842), raddr=(), status='NONE', pid=None), sconn(fd=8, family=<AddressFamily.AF_INET: 2>, type=<SocketKind.SOCK_STREAM: 1>, laddr=addr(ip='172.28.0.12', port=43432), raddr=addr(ip='172.28.0.12', port=9000), status='ESTABLISHED', pid=33), sconn(fd=-1, family=<AddressFamily.AF_INET: 2>, type=<SocketKind.SOCK_STREAM: 1>, laddr=addr(ip='172.28.0.12', port=6000), raddr=addr(ip='172.28.0.12', port=49030), status='TIME_WAIT', pid=None), sconn(fd=3, family=<AddressFamily.AF_INET: 2>, type=<SocketKind.SOCK_STREAM: 1>, laddr=addr(ip='172.28.0.12', port=6000), raddr=(), status='LISTEN', pid=33), sconn(fd=-1, family=<AddressFamily.AF_INET: 2>, type=<SocketKind.SOCK_STREAM: 1>, laddr=addr(ip='172.28.0.12', port=6000), raddr=addr(ip='172.28.0.12', port=43914), status='TIME_WAIT', pid=None), sconn(fd=10, family=<AddressFamily.AF_INET: 2>, type=<SocketKind.SOCK_STREAM: 1>, laddr=addr(ip='172.28.0.12', port=6000), raddr=addr(ip='172.28.0.1', port=46168), status='ESTABLISHED', pid=33), sconn(fd=3, family=<AddressFamily.AF_INET: 2>, type=<SocketKind.SOCK_STREAM: 1>, laddr=addr(ip='0.0.0.0', port=3453), raddr=(), status='LISTEN', pid=57), sconn(fd=30, family=<AddressFamily.AF_INET6: 10>, type=<SocketKind.SOCK_STREAM: 1>, laddr=addr(ip='::ffff:172.28.0.12', port=8080), raddr=addr(ip='::ffff:172.28.0.1', port=57868), status='ESTABLISHED', pid=7), sconn(fd=4, family=<AddressFamily.AF_INET: 2>, type=<SocketKind.SOCK_STREAM: 1>, laddr=addr(ip='127.0.0.1', port=55989), raddr=(), status='LISTEN', pid=254), sconn(fd=-1, family=<AddressFamily.AF_INET: 2>, type=<SocketKind.SOCK_STREAM: 1>, laddr=addr(ip='172.28.0.12', port=6000), raddr=addr(ip='172.28.0.12', port=43920), status='TIME_WAIT', pid=None), sconn(fd=8, family=<AddressFamily.AF_INET: 2>, type=<SocketKind.SOCK_STREAM: 1>, laddr=addr(ip='172.28.0.12', port=9000), raddr=addr(ip='172.28.0.12', port=43432), status='ESTABLISHED', pid=78), sconn(fd=23, family=<AddressFamily.AF_INET: 2>, type=<SocketKind.SOCK_STREAM: 1>, laddr=addr(ip='127.0.0.1', port=35539), raddr=(), status='LISTEN', pid=199), sconn(fd=-1, family=<AddressFamily.AF_INET6: 10>, type=<SocketKind.SOCK_STREAM: 1>, laddr=addr(ip='::ffff:172.28.0.12', port=8080), raddr=addr(ip='::ffff:172.28.0.1', port=36152), status='TIME_WAIT', pid=None), sconn(fd=-1, family=<AddressFamily.AF_INET: 2>, type=<SocketKind.SOCK_STREAM: 1>, laddr=addr(ip='127.0.0.11', port=34223), raddr=(), status='LISTEN', pid=None), sconn(fd=-1, family=<AddressFamily.AF_INET6: 10>, type=<SocketKind.SOCK_STREAM: 1>, laddr=addr(ip='::ffff:172.28.0.12', port=8080), raddr=addr(ip='::ffff:172.28.0.1', port=57146), status='TIME_WAIT', pid=None), sconn(fd=-1, family=<AddressFamily.AF_INET: 2>, type=<SocketKind.SOCK_STREAM: 1>, laddr=addr(ip='172.28.0.12', port=6000), raddr=addr(ip='172.28.0.12', port=52578), status='TIME_WAIT', pid=None), sconn(fd=-1, family=<AddressFamily.AF_INET6: 10>, type=<SocketKind.SOCK_STREAM: 1>, laddr=addr(ip='::ffff:172.28.0.12', port=8080), raddr=addr(ip='::ffff:172.28.0.1', port=43766), status='TIME_WAIT', pid=None), sconn(fd=3, family=<AddressFamily.AF_INET: 2>, type=<SocketKind.SOCK_STREAM: 1>, laddr=addr(ip='127.0.0.1', port=21744), raddr=(), status='LISTEN', pid=254), sconn(fd=5, family=<AddressFamily.AF_INET: 2>, type=<SocketKind.SOCK_STREAM: 1>, laddr=addr(ip='127.0.0.1', port=21744), raddr=addr(ip='127.0.0.1', port=55440), status='ESTABLISHED', pid=254), sconn(fd=21, family=<AddressFamily.AF_INET6: 10>, type=<SocketKind.SOCK_STREAM: 1>, laddr=addr(ip='::', port=8080), raddr=(), status='LISTEN', pid=7), sconn(fd=6, family=<AddressFamily.AF_INET: 2>, type=<SocketKind.SOCK_STREAM: 1>, laddr=addr(ip='127.0.0.1', port=55989), raddr=addr(ip='127.0.0.1', port=40690), status='ESTABLISHED', pid=254), sconn(fd=9, family=<AddressFamily.AF_INET: 2>, type=<SocketKind.SOCK_STREAM: 1>, laddr=addr(ip='127.0.0.1', port=55440), raddr=addr(ip='127.0.0.1', port=21744), status='ESTABLISHED', pid=79), sconn(fd=-1, family=<AddressFamily.AF_INET: 2>, type=<SocketKind.SOCK_STREAM: 1>, laddr=addr(ip='172.28.0.12', port=6000), raddr=addr(ip='172.28.0.12', port=46460), status='TIME_WAIT', pid=None), sconn(fd=9, family=<AddressFamily.AF_INET: 2>, type=<SocketKind.SOCK_STREAM: 1>, laddr=addr(ip='172.28.0.12', port=57996), raddr=addr(ip='172.28.0.12', port=9000), status='ESTABLISHED', pid=33), sconn(fd=27, family=<AddressFamily.AF_INET: 2>, type=<SocketKind.SOCK_STREAM: 1>, laddr=addr(ip='172.28.0.12', port=41426), raddr=addr(ip='172.28.0.12', port=6000), status='ESTABLISHED', pid=7), sconn(fd=7, family=<AddressFamily.AF_INET: 2>, type=<SocketKind.SOCK_STREAM: 1>, laddr=addr(ip='172.28.0.12', port=9000), raddr=(), status='LISTEN', pid=78), sconn(fd=-1, family=<AddressFamily.AF_INET: 2>, type=<SocketKind.SOCK_STREAM: 1>, laddr=addr(ip='172.28.0.12', port=6000), raddr=addr(ip='172.28.0.12', port=36208), status='TIME_WAIT', pid=None), sconn(fd=-1, family=<AddressFamily.AF_INET: 2>, type=<SocketKind.SOCK_STREAM: 1>, laddr=addr(ip='172.28.0.12', port=6000), raddr=addr(ip='172.28.0.12', port=46456), status='TIME_WAIT', pid=None), sconn(fd=19, family=<AddressFamily.AF_INET: 2>, type=<SocketKind.SOCK_STREAM: 1>, laddr=addr(ip='172.28.0.12', port=9000), raddr=addr(ip='172.28.0.12', port=57996), status='ESTABLISHED', pid=78), sconn(fd=-1, family=<AddressFamily.AF_INET6: 10>, type=<SocketKind.SOCK_STREAM: 1>, laddr=addr(ip='::ffff:172.28.0.12', port=8080), raddr=addr(ip='::ffff:172.28.0.1', port=36166), status='TIME_WAIT', pid=None), sconn(fd=-1, family=<AddressFamily.AF_INET: 2>, type=<SocketKind.SOCK_STREAM: 1>, laddr=addr(ip='172.28.0.12', port=6000), raddr=addr(ip='172.28.0.12', port=45566), status='TIME_WAIT', pid=None), sconn(fd=-1, family=<AddressFamily.AF_INET: 2>, type=<SocketKind.SOCK_STREAM: 1>, laddr=addr(ip='172.28.0.12', port=6000), raddr=addr(ip='172.28.0.12', port=45582), status='TIME_WAIT', pid=None), sconn(fd=28, family=<AddressFamily.AF_INET6: 10>, type=<SocketKind.SOCK_STREAM: 1>, laddr=addr(ip='::ffff:172.28.0.12', port=8080), raddr=addr(ip='::ffff:172.28.0.1', port=57154), status='ESTABLISHED', pid=7), sconn(fd=-1, family=<AddressFamily.AF_INET6: 10>, type=<SocketKind.SOCK_STREAM: 1>, laddr=addr(ip='::ffff:172.28.0.12', port=8080), raddr=addr(ip='::ffff:172.28.0.1', port=57044), status='TIME_WAIT', pid=None), sconn(fd=4, family=<AddressFamily.AF_INET6: 10>, type=<SocketKind.SOCK_STREAM: 1>, laddr=addr(ip='::', port=3453), raddr=(), status='LISTEN', pid=57), sconn(fd=7, family=<AddressFamily.AF_INET: 2>, type=<SocketKind.SOCK_STREAM: 1>, laddr=addr(ip='172.28.0.12', port=6000), raddr=addr(ip='172.28.0.12', port=41426), status='ESTABLISHED', pid=33), sconn(fd=42, family=<AddressFamily.AF_INET: 2>, type=<SocketKind.SOCK_STREAM: 1>, laddr=addr(ip='127.0.0.1', port=40690), raddr=addr(ip='127.0.0.1', port=55989), status='ESTABLISHED', pid=199)]\n"
          ]
        }
      ]
    },
    {
      "cell_type": "markdown",
      "source": [
        "### Exploring Multiprocessing"
      ],
      "metadata": {
        "id": "22YK3vxQE_p4"
      }
    },
    {
      "cell_type": "markdown",
      "source": [
        "One of the key objectives for a developer is to make the code run faster. However, many tasks take time to be processed, even on fast computers with several cores. Partially it happens because of Python GIL (Python Global Interpreter Lock) that allows only one thread to take control over Python Interpreter, so we end up never using the whole power of the machine by just executing a function or method."
      ],
      "metadata": {
        "id": "M8zLCxSY8Xzu"
      }
    },
    {
      "cell_type": "markdown",
      "source": [
        "### Comparison between synchronous and multiprocessing code."
      ],
      "metadata": {
        "id": "6pGDCf348a3z"
      }
    },
    {
      "cell_type": "markdown",
      "source": [
        "The test in this case is a simple HTTP GET request from the public API, https://httpbin.org. They offer many API services but the one used here is `uuid`, which simply returns a unique 36 character string every time you make a GET request."
      ],
      "metadata": {
        "id": "YbhIW3XI8eHf"
      }
    },
    {
      "cell_type": "markdown",
      "source": [
        "Data fetching from the Internet can be done in various ways. Here to keep things simple `requests` module is used."
      ],
      "metadata": {
        "id": "wrXrjNj48hDB"
      }
    },
    {
      "cell_type": "markdown",
      "source": [
        "## Synchronous code"
      ],
      "metadata": {
        "id": "63DkUU0XpteE"
      }
    },
    {
      "cell_type": "markdown",
      "source": [
        "Synchronous code is a sequence of tasks that are done in a synchronous fashion or one after the other. What that means is that before task 3 is started, the machine has to wait for task 2 to finish, but prior to that, wait for task 1 to finish. This is not an efficient way of doing things but sometimes there is just no other way. Synchronous code is quite easy to understand and easy to write."
      ],
      "metadata": {
        "id": "9J35QBp0qcUG"
      }
    },
    {
      "cell_type": "code",
      "source": [
        "import time\n",
        "import requests\n",
        "\n",
        "URL = 'https://httpbin.org/uuid'\n",
        "\n",
        "t0 = time.time()\n",
        "\n",
        "for _ in range(300):\n",
        "    response = requests.get(URL)\n",
        "\n",
        "print(f'It took {time.time() - t0:.2f} s to finish the request')"
      ],
      "metadata": {
        "id": "Jf6ZVpfhpC83",
        "colab": {
          "base_uri": "https://localhost:8080/"
        },
        "outputId": "b78e85bf-ce5b-4854-8098-3139e86018e7"
      },
      "execution_count": 30,
      "outputs": [
        {
          "output_type": "stream",
          "name": "stdout",
          "text": [
            "It took 51.16 s to finish the request\n"
          ]
        }
      ]
    },
    {
      "cell_type": "markdown",
      "source": [
        "What the code does is that it starts 300 GET requests to the API in question and returns the result. Before starting the requests a time variable t0 is initialized that holds the start time. After exiting the 'for' loop, the time it took to finish all the requests is displayed."
      ],
      "metadata": {
        "id": "7BBFMWRNqiCo"
      }
    },
    {
      "cell_type": "markdown",
      "source": [
        "## Multiprocessing code"
      ],
      "metadata": {
        "id": "EiACNdqTqnWv"
      }
    },
    {
      "cell_type": "markdown",
      "source": [
        "A multiprocessing code is able to leverage modern CPUs by [spawning processes](https://docs.python.org/3/library/multiprocessing.html#contexts-and-start-methods). What that means is that if there are 8 cores in the CPU, 8 different processes can be spawned to attempt 8 different tasks simultaneously. An additional module called `ProcessPoolExecutor` is used here. It is a subclass that executes calls asynchronously using a pool object. One benefit of using a process pool executor is that it returns a generator object instead of a simple list containing the results. It is possible to iterate over results we can simple call __next__ on it."
      ],
      "metadata": {
        "id": "dRftjIWXo2Tc"
      }
    },
    {
      "cell_type": "code",
      "source": [
        "import time\n",
        "import requests\n",
        "from concurrent.futures import ProcessPoolExecutor\n",
        "\n",
        "def fetch(url):\n",
        "    response = requests.get(url)\n",
        "    return response.json()\n",
        "\n",
        "if __name__ == '__main__':\n",
        "    \n",
        "    URL = 'https://httpbin.org/uuid'\n",
        "    t0 = time.time()\n",
        "    \n",
        "    with ProcessPoolExecutor() as executor:\n",
        "        future = executor.map(fetch, [URL for _ in range(300)])\n",
        "   \n",
        "    print(f'It took {time.time() - t0:.2f} secs to finish multiprocessing')"
      ],
      "metadata": {
        "id": "x8RmzXD-q4iM",
        "colab": {
          "base_uri": "https://localhost:8080/"
        },
        "outputId": "44f002f3-5ef6-4cb2-f298-db87c0dba783"
      },
      "execution_count": 31,
      "outputs": [
        {
          "output_type": "stream",
          "name": "stdout",
          "text": [
            "It took 23.81 secs to finish multiprocessing\n"
          ]
        }
      ]
    },
    {
      "cell_type": "markdown",
      "source": [
        "As seen from the above results, there is quite an improvement with few lines of code, in comparison with synchronous results."
      ],
      "metadata": {
        "id": "94iE25STq9ai"
      }
    },
    {
      "cell_type": "markdown",
      "source": [
        "### Please answer the questions below to complete the experiment:"
      ],
      "metadata": {
        "id": "B7kwh3ssbYs_"
      }
    },
    {
      "cell_type": "code",
      "source": [
        "#@title Which of the following describes spawning? { run: \"auto\", form-width: \"500px\", display-mode: \"form\" }\n",
        "Answer = \"A server process is started. From then on, whenever a new process is needed, the parent process connects to the server and requests that it fork a new process\" #@param [\"\", \"The parent process starts a fresh Python interpreter process. The child process will only inherit those resources necessary to run the process object’s run() method\", \"The child process, when it begins, is effectively identical to the parent process. All resources of the parent are inherited by the child process\", \"A server process is started. From then on, whenever a new process is needed, the parent process connects to the server and requests that it fork a new process\"]"
      ],
      "metadata": {
        "id": "HoJstaBoHkQL"
      },
      "execution_count": 32,
      "outputs": []
    },
    {
      "cell_type": "code",
      "source": [
        "#@title How was the experiment? { run: \"auto\", form-width: \"500px\", display-mode: \"form\" }\n",
        "Complexity = \"Good, But Not Challenging for me\" #@param [\"\",\"Too Simple, I am wasting time\", \"Good, But Not Challenging for me\", \"Good and Challenging for me\", \"Was Tough, but I did it\", \"Too Difficult for me\"]\n"
      ],
      "metadata": {
        "id": "WSenbIG2SVzb"
      },
      "execution_count": 33,
      "outputs": []
    },
    {
      "cell_type": "code",
      "source": [
        "#@title If it was too easy, what more would you have liked to be added? If it was very difficult, what would you have liked to have been removed? { run: \"auto\", display-mode: \"form\" }\n",
        "Additional = \"It was a good exercise\" #@param {type:\"string\"}\n"
      ],
      "metadata": {
        "id": "dfoWryqWSZ51"
      },
      "execution_count": 34,
      "outputs": []
    },
    {
      "cell_type": "code",
      "source": [
        "#@title Can you identify the concepts from the lecture which this experiment covered? { run: \"auto\", vertical-output: true, display-mode: \"form\" }\n",
        "Concepts = \"Yes\" #@param [\"\",\"Yes\", \"No\"]\n"
      ],
      "metadata": {
        "id": "5W3mKx7ZSdQJ"
      },
      "execution_count": 35,
      "outputs": []
    },
    {
      "cell_type": "code",
      "source": [
        "#@title  Text and image description/explanation and code comments within the experiment: { run: \"auto\", vertical-output: true, display-mode: \"form\" }\n",
        "Comments = \"Very Useful\" #@param [\"\",\"Very Useful\", \"Somewhat Useful\", \"Not Useful\", \"Didn't use\"]\n"
      ],
      "metadata": {
        "id": "jrSL7a8xSqZp"
      },
      "execution_count": 36,
      "outputs": []
    },
    {
      "cell_type": "code",
      "source": [
        "#@title Mentor Support: { run: \"auto\", vertical-output: true, display-mode: \"form\" }\n",
        "Mentor_support = \"Very Useful\" #@param [\"\",\"Very Useful\", \"Somewhat Useful\", \"Not Useful\", \"Didn't use\"]\n"
      ],
      "metadata": {
        "id": "2PhHCHJ_SwgY"
      },
      "execution_count": 37,
      "outputs": []
    },
    {
      "cell_type": "code",
      "source": [
        "#@title Run this cell to submit your notebook for grading { vertical-output: true }\n",
        "try:\n",
        "  if submission_id:\n",
        "      return_id = submit_notebook()\n",
        "      if return_id : submission_id = return_id\n",
        "  else:\n",
        "      print(\"Please complete the setup first.\")\n",
        "except NameError:\n",
        "  print (\"Please complete the setup first.\")"
      ],
      "metadata": {
        "id": "NbEVWeY_bhez",
        "cellView": "form",
        "colab": {
          "base_uri": "https://localhost:8080/"
        },
        "outputId": "b9f33c5f-6262-40ab-ce98-6d39454ff569"
      },
      "execution_count": 43,
      "outputs": [
        {
          "output_type": "stream",
          "name": "stdout",
          "text": [
            "Your submission is successful.\n",
            "Ref Id: 4146\n",
            "Date of submission:  15 Apr 2023\n",
            "Time of submission:  15:00:04\n",
            "View your submissions: https://cds.iisc.talentsprint.com/notebook_submissions\n"
          ]
        }
      ]
    }
  ]
}