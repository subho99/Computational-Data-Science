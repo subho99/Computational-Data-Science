{
  "nbformat": 4,
  "nbformat_minor": 5,
  "metadata": {
    "kernelspec": {
      "display_name": "Python 3",
      "language": "python",
      "name": "python3"
    },
    "language_info": {
      "codemirror_mode": {
        "name": "ipython",
        "version": 3
      },
      "file_extension": ".py",
      "mimetype": "text/x-python",
      "name": "python",
      "nbconvert_exporter": "python",
      "pygments_lexer": "ipython3",
      "version": "3.9.2"
    },
    "colab": {
      "provenance": [],
      "include_colab_link": true
    }
  },
  "cells": [
    {
      "cell_type": "markdown",
      "metadata": {
        "id": "view-in-github",
        "colab_type": "text"
      },
      "source": [
        "<a href=\"https://colab.research.google.com/github/subho99/Computational-Data-Science/blob/main/SubhajitBasistha_M2_AST_02_Gradient_Descent_C_ipynb_.ipynb\" target=\"_parent\"><img src=\"https://colab.research.google.com/assets/colab-badge.svg\" alt=\"Open In Colab\"/></a>"
      ]
    },
    {
      "cell_type": "markdown",
      "metadata": {
        "id": "alien-mercury"
      },
      "source": [
        "# Advanced Certification Program in Computational Data Science\n",
        "## A program by IISc and TalentSprint\n",
        "### Assignment 2: Gradient Descent"
      ],
      "id": "alien-mercury"
    },
    {
      "cell_type": "markdown",
      "metadata": {
        "id": "pending-kennedy"
      },
      "source": [
        "## Learning Objectives"
      ],
      "id": "pending-kennedy"
    },
    {
      "cell_type": "markdown",
      "metadata": {
        "id": "noble-feature"
      },
      "source": [
        "At the end of the experiment, you will be able to\n",
        "\n",
        "* understand various optimization algorithms\n",
        "* minimize the value of cost function by finding the minima\n",
        "* implement gradient descent algorithm and its variations: stochastic, batch and mini-batch gradient descent "
      ],
      "id": "noble-feature"
    },
    {
      "cell_type": "markdown",
      "metadata": {
        "id": "commercial-operation"
      },
      "source": [
        "## Information"
      ],
      "id": "commercial-operation"
    },
    {
      "cell_type": "markdown",
      "metadata": {
        "id": "d79hZiGrpW-l"
      },
      "source": [
        "#### Optimization: \n",
        "\n",
        "Optimization consists of procedures that make a system as effective as possible. It is an important tool in decision science and in the analysis of physical systems. To make use of this tool, we must first identify some objective, a quantitative measure of the performance of the system under study. This objective could be profit, time, potential energy, or any quantity or combination of quantities that can be represented by a single number. The objective depends on certain characteristics of the system, called variables or unknowns. Our goal is to find values of the variables that optimize the objective.\n",
        "\n",
        "* Helps improve the quality of decision-making\n",
        "* Applications in Engineering, Business, Economics, Science, Military Planning etc.\n",
        "\n",
        "**Gradient Descent**: It is the most common optimization algorithm in machine learning and deep learning. It is a first-order optimization algorithm. This means it only takes into account the first derivative when performing the updates on the parameters. On each iteration, we update the parameters in the opposite direction of the gradient of the objective function J(w) w.r.t the parameters where the gradient gives the direction of the steepest ascent. The size of the step we take on each iteration to reach the local minimum is determined by the learning rate $α$. Therefore, we follow the direction of the slope downhill until we reach a local minimum (refer to the image below).\n",
        "![img](https://miro.medium.com/max/700/1*rcmvCjQvsxrJi8Y4HpGcCw.png)"
      ],
      "id": "d79hZiGrpW-l"
    },
    {
      "cell_type": "markdown",
      "metadata": {
        "id": "BNLA8HiKxQhc"
      },
      "source": [
        "### Setup Steps:"
      ],
      "id": "BNLA8HiKxQhc"
    },
    {
      "cell_type": "code",
      "metadata": {
        "id": "2YzfoPvJDiTX"
      },
      "source": [
        "#@title Please enter your registration id to start: { run: \"auto\", display-mode: \"form\" }\n",
        "Id = \"2236624\" #@param {type:\"string\"}"
      ],
      "id": "2YzfoPvJDiTX",
      "execution_count": 1,
      "outputs": []
    },
    {
      "cell_type": "code",
      "metadata": {
        "id": "AjoZJWGErxGf"
      },
      "source": [
        "#@title Please enter your password (your registered phone number) to continue: { run: \"auto\", display-mode: \"form\" }\n",
        "password = \"8240187807\" #@param {type:\"string\"}"
      ],
      "id": "AjoZJWGErxGf",
      "execution_count": 2,
      "outputs": []
    },
    {
      "cell_type": "code",
      "metadata": {
        "id": "WBPPuGmBlDIN",
        "cellView": "form",
        "colab": {
          "base_uri": "https://localhost:8080/",
          "height": 34
        },
        "outputId": "867205c4-7c4a-4a3b-fb61-5a142e6c57eb"
      },
      "source": [
        "#@title Run this cell to complete the setup for this Notebook\n",
        "from IPython import get_ipython\n",
        "\n",
        "ipython = get_ipython()\n",
        "  \n",
        "notebook= \"M2_AST_02_Gradient_Descent_C\" #name of the notebook\n",
        "\n",
        "def setup():\n",
        "#  ipython.magic(\"sx pip3 install torch\")  \n",
        "    ipython.magic(\"sx wget -qq https://cdn.iisc.talentsprint.com/CDS/Datasets/SIMPLEPENDULUMOSCILLATIONDATA.txt\")\n",
        "    from IPython.display import HTML, display\n",
        "    display(HTML('<script src=\"https://dashboard.talentsprint.com/aiml/record_ip.html?traineeId={0}&recordId={1}\"></script>'.format(getId(),submission_id)))\n",
        "    print(\"Setup completed successfully\")\n",
        "    return\n",
        "\n",
        "def submit_notebook():\n",
        "    ipython.magic(\"notebook -e \"+ notebook + \".ipynb\")\n",
        "    \n",
        "    import requests, json, base64, datetime\n",
        "\n",
        "    url = \"https://dashboard.talentsprint.com/xp/app/save_notebook_attempts\"\n",
        "    if not submission_id:\n",
        "      data = {\"id\" : getId(), \"notebook\" : notebook, \"mobile\" : getPassword()}\n",
        "      r = requests.post(url, data = data)\n",
        "      r = json.loads(r.text)\n",
        "\n",
        "      if r[\"status\"] == \"Success\":\n",
        "          return r[\"record_id\"]\n",
        "      elif \"err\" in r:        \n",
        "        print(r[\"err\"])\n",
        "        return None        \n",
        "      else:\n",
        "        print (\"Something is wrong, the notebook will not be submitted for grading\")\n",
        "        return None\n",
        "    \n",
        "    elif getAnswer() and getComplexity() and getAdditional() and getConcepts() and getComments() and getMentorSupport():\n",
        "      f = open(notebook + \".ipynb\", \"rb\")\n",
        "      file_hash = base64.b64encode(f.read())\n",
        "\n",
        "      data = {\"complexity\" : Complexity, \"additional\" :Additional, \n",
        "              \"concepts\" : Concepts, \"record_id\" : submission_id, \n",
        "              \"answer\" : Answer, \"id\" : Id, \"file_hash\" : file_hash,\n",
        "              \"notebook\" : notebook,\n",
        "              \"feedback_experiments_input\" : Comments,\n",
        "              \"feedback_mentor_support\": Mentor_support}\n",
        "      r = requests.post(url, data = data)\n",
        "      r = json.loads(r.text)\n",
        "      if \"err\" in r:        \n",
        "        print(r[\"err\"])\n",
        "        return None   \n",
        "      else:\n",
        "        print(\"Your submission is successful.\")\n",
        "        print(\"Ref Id:\", submission_id)\n",
        "        print(\"Date of submission: \", r[\"date\"])\n",
        "        print(\"Time of submission: \", r[\"time\"])\n",
        "        print(\"View your submissions: https://cds.iisc.talentsprint.com/notebook_submissions\")\n",
        "        #print(\"For any queries/discrepancies, please connect with mentors through the chat icon in LMS dashboard.\")\n",
        "        return submission_id\n",
        "    else: submission_id\n",
        "    \n",
        "\n",
        "def getAdditional():\n",
        "  try:\n",
        "    if not Additional: \n",
        "      raise NameError\n",
        "    else:\n",
        "      return Additional  \n",
        "  except NameError:\n",
        "    print (\"Please answer Additional Question\")\n",
        "    return None\n",
        "\n",
        "def getComplexity():\n",
        "  try:\n",
        "    if not Complexity:\n",
        "      raise NameError\n",
        "    else:\n",
        "      return Complexity\n",
        "  except NameError:\n",
        "    print (\"Please answer Complexity Question\")\n",
        "    return None\n",
        "  \n",
        "def getConcepts():\n",
        "  try:\n",
        "    if not Concepts:\n",
        "      raise NameError\n",
        "    else:\n",
        "      return Concepts\n",
        "  except NameError:\n",
        "    print (\"Please answer Concepts Question\")\n",
        "    return None\n",
        "  \n",
        "  \n",
        "# def getWalkthrough():\n",
        "#   try:\n",
        "#     if not Walkthrough:\n",
        "#       raise NameError\n",
        "#     else:\n",
        "#       return Walkthrough\n",
        "#   except NameError:\n",
        "#     print (\"Please answer Walkthrough Question\")\n",
        "#     return None\n",
        "  \n",
        "def getComments():\n",
        "  try:\n",
        "    if not Comments:\n",
        "      raise NameError\n",
        "    else:\n",
        "      return Comments\n",
        "  except NameError:\n",
        "    print (\"Please answer Comments Question\")\n",
        "    return None\n",
        "  \n",
        "\n",
        "def getMentorSupport():\n",
        "  try:\n",
        "    if not Mentor_support:\n",
        "      raise NameError\n",
        "    else:\n",
        "      return Mentor_support\n",
        "  except NameError:\n",
        "    print (\"Please answer Mentor support Question\")\n",
        "    return None\n",
        "\n",
        "def getAnswer():\n",
        "  try:\n",
        "    if not Answer:\n",
        "      raise NameError \n",
        "    else: \n",
        "      return Answer\n",
        "  except NameError:\n",
        "    print (\"Please answer Question\")\n",
        "    return None\n",
        "  \n",
        "\n",
        "def getId():\n",
        "  try: \n",
        "    return Id if Id else None\n",
        "  except NameError:\n",
        "    return None\n",
        "\n",
        "def getPassword():\n",
        "  try:\n",
        "    return password if password else None\n",
        "  except NameError:\n",
        "    return None\n",
        "\n",
        "submission_id = None\n",
        "### Setup \n",
        "if getPassword() and getId():\n",
        "  submission_id = submit_notebook()\n",
        "  if submission_id:\n",
        "    setup() \n",
        "else:\n",
        "  print (\"Please complete Id and Password cells before running setup\")\n",
        "\n"
      ],
      "id": "WBPPuGmBlDIN",
      "execution_count": 3,
      "outputs": [
        {
          "output_type": "display_data",
          "data": {
            "text/plain": [
              "<IPython.core.display.HTML object>"
            ],
            "text/html": [
              "<script src=\"https://dashboard.talentsprint.com/aiml/record_ip.html?traineeId=2236624&recordId=2777\"></script>"
            ]
          },
          "metadata": {}
        },
        {
          "output_type": "stream",
          "name": "stdout",
          "text": [
            "Setup completed successfully\n"
          ]
        }
      ]
    },
    {
      "cell_type": "markdown",
      "metadata": {
        "id": "everyday-cotton"
      },
      "source": [
        "#### Importing required packages"
      ],
      "id": "everyday-cotton"
    },
    {
      "cell_type": "code",
      "metadata": {
        "id": "likely-delay"
      },
      "source": [
        "import numpy as np\n",
        "import matplotlib.pyplot as plt\n",
        "import scipy as sp\n",
        "import scipy.optimize as opt\n",
        "import pandas as pd"
      ],
      "id": "likely-delay",
      "execution_count": 4,
      "outputs": []
    },
    {
      "cell_type": "markdown",
      "metadata": {
        "id": "m-QqeVbF1t7Y"
      },
      "source": [
        "### Optimization"
      ],
      "id": "m-QqeVbF1t7Y"
    },
    {
      "cell_type": "markdown",
      "metadata": {
        "id": "significant-truth"
      },
      "source": [
        " First, let's define a simple mathematical function (the opposite of the cardinal sine). This function has many local minima but a single global minimum.\n",
        " \n",
        " Refer the [link](https://www.mathworks.com/help/signal/gs/the-sinc-function.html) for more information on the below function."
      ],
      "id": "significant-truth"
    },
    {
      "cell_type": "code",
      "metadata": {
        "id": "hollow-vatican"
      },
      "source": [
        "# function f\n",
        "def f(x):\n",
        "    return 1 - np.sin(x) / x"
      ],
      "id": "hollow-vatican",
      "execution_count": 5,
      "outputs": []
    },
    {
      "cell_type": "markdown",
      "metadata": {
        "id": "behind-sunset"
      },
      "source": [
        "Let's plot this function in the interval [−20,20] (with 1000 samples)"
      ],
      "id": "behind-sunset"
    },
    {
      "cell_type": "code",
      "metadata": {
        "id": "unique-dancing",
        "colab": {
          "base_uri": "https://localhost:8080/",
          "height": 337
        },
        "outputId": "5c992b25-a404-45b8-8d90-32a9f4354ab6"
      },
      "source": [
        "# create an array and apply the function\n",
        "x = np.linspace(-20., 20., 1000)\n",
        "y = f(x)\n",
        "# visualize the plot\n",
        "fig, ax = plt.subplots(1, 1, figsize=(5, 5))\n",
        "ax.plot(x, y)"
      ],
      "id": "unique-dancing",
      "execution_count": 6,
      "outputs": [
        {
          "output_type": "execute_result",
          "data": {
            "text/plain": [
              "[<matplotlib.lines.Line2D at 0x7f0e64c3a1f0>]"
            ]
          },
          "metadata": {},
          "execution_count": 6
        },
        {
          "output_type": "display_data",
          "data": {
            "text/plain": [
              "<Figure size 360x360 with 1 Axes>"
            ],
            "image/png": "[encoded data removed]"
          },
          "metadata": {
            "needs_background": "light"
          }
        }
      ]
    },
    {
      "cell_type": "markdown",
      "metadata": {
        "id": "polyphonic-distinction"
      },
      "source": [
        "The `scipy.optimize` module comes with many function minimization routines. The `minimize()` function offers a unified interface to many algorithms. The Broyden-Fletcher-Goldfarb-Shanno (BFGS) algorithm (the default algorithm in `minimize()`) gives good results in general. The `minimize()` function requires an initial point as argument. For scalar univariate functions, we can also use `minimize_scalar()`"
      ],
      "id": "polyphonic-distinction"
    },
    {
      "cell_type": "code",
      "metadata": {
        "id": "broke-posting"
      },
      "source": [
        "# optimize\n",
        "x0 = 3\n",
        "xmin = opt.minimize(f, x0).x"
      ],
      "id": "broke-posting",
      "execution_count": 7,
      "outputs": []
    },
    {
      "cell_type": "markdown",
      "metadata": {
        "id": "forbidden-arrest"
      },
      "source": [
        "Starting from x0=3, the algorithm was able to find the actual global minimum, as shown in the following figure"
      ],
      "id": "forbidden-arrest"
    },
    {
      "cell_type": "code",
      "metadata": {
        "id": "brief-advertising",
        "colab": {
          "base_uri": "https://localhost:8080/",
          "height": 337
        },
        "outputId": "e372c230-7e5f-470d-9248-b5c8aa7e9d1b"
      },
      "source": [
        "# visualize\n",
        "fig, ax = plt.subplots(1, 1, figsize=(5, 5))\n",
        "ax.plot(x, y)\n",
        "ax.scatter(x0, f(x0), marker='o', s=300)\n",
        "ax.scatter(xmin, f(xmin), marker='v', s=300, zorder=20)\n",
        "ax.set_xlim(-20, 20)"
      ],
      "id": "brief-advertising",
      "execution_count": 8,
      "outputs": [
        {
          "output_type": "execute_result",
          "data": {
            "text/plain": [
              "(-20.0, 20.0)"
            ]
          },
          "metadata": {},
          "execution_count": 8
        },
        {
          "output_type": "display_data",
          "data": {
            "text/plain": [
              "<Figure size 360x360 with 1 Axes>"
            ],
            "image/png": "[encoded data removed]"
          },
          "metadata": {
            "needs_background": "light"
          }
        }
      ]
    },
    {
      "cell_type": "markdown",
      "metadata": {
        "id": "liked-accordance"
      },
      "source": [
        "Now, if we start from an initial point that is farther away from the actual global minimum, the algorithm converges towards a local minimum only"
      ],
      "id": "liked-accordance"
    },
    {
      "cell_type": "code",
      "metadata": {
        "id": "circular-singles"
      },
      "source": [
        "# opitmize from initial point\n",
        "x0 = 10\n",
        "xmin = opt.minimize(f, x0).x"
      ],
      "id": "circular-singles",
      "execution_count": 9,
      "outputs": []
    },
    {
      "cell_type": "code",
      "metadata": {
        "id": "integrated-wyoming",
        "colab": {
          "base_uri": "https://localhost:8080/",
          "height": 337
        },
        "outputId": "61e8c499-8bfb-454e-a992-337c60ba9a09"
      },
      "source": [
        "# visualize\n",
        "fig, ax = plt.subplots(1, 1, figsize=(5, 5))\n",
        "ax.plot(x, y)\n",
        "ax.scatter(x0, f(x0), marker='o', s=300)\n",
        "ax.scatter(xmin, f(xmin), marker='v', s=300, zorder=20)\n",
        "ax.set_xlim(-20, 20)"
      ],
      "id": "integrated-wyoming",
      "execution_count": 10,
      "outputs": [
        {
          "output_type": "execute_result",
          "data": {
            "text/plain": [
              "(-20.0, 20.0)"
            ]
          },
          "metadata": {},
          "execution_count": 10
        },
        {
          "output_type": "display_data",
          "data": {
            "text/plain": [
              "<Figure size 360x360 with 1 Axes>"
            ],
            "image/png": "[encoded data removed]"
          },
          "metadata": {
            "needs_background": "light"
          }
        }
      ]
    },
    {
      "cell_type": "markdown",
      "metadata": {
        "id": "patent-mercy"
      },
      "source": [
        "## Gradient descent\n",
        "Gradient descent is an optimization algorithm to find the minimum of a function. We start with a random point on the function and move in the negative direction of the gradient of the function to reach the local/global minima.\n",
        "\n",
        "Gradient descent is the backbone of a machine learning algorithm."
      ],
      "id": "patent-mercy"
    },
    {
      "cell_type": "markdown",
      "source": [
        "### Example: Find the local minima of the function $y=(x+5$)$^2$ starting from the point $x=3$\n",
        "\n",
        "<img src=\"https://cdn.iisc.talentsprint.com/CDS/Images/convex_curve.png\" width = \"350px;\"/>\n"
      ],
      "metadata": {
        "id": "MD3mNx0UPAo_"
      },
      "id": "MD3mNx0UPAo_"
    },
    {
      "cell_type": "markdown",
      "source": [
        "By observing the above plot, we know that $y = (x+5)^2$ reaches it’s minimum value when x = -5 (i.e when x=-5, y=0). \n",
        "\n",
        "Hence x=-5 is the local and global minima of the function. \n",
        "\n",
        "Now we will see how to obtain the same numerically, using gradient descent.\n",
        "\n",
        "**Step 1 :** Initialize x =3. Find the gradient of the function, dy/dx = 2*(x+5).\n",
        "\n",
        "**Step 2 :** Move in the direction of the negative of the gradient. The learning rate determines how many steps to move. Let us assume the learning rate is 0.01\n",
        "\n",
        "**Step 3 :** Perform 2 iterations of gradient descent\n",
        "\n",
        "The parameter update formula in gradient descent is:\n",
        "\n",
        "$ x_{new} = x_{old} - (learning\\ rate * (dy/dx))$, \n",
        "\n",
        "- where $dy/dx$ is the derivative of the function with respect to a single weight, done for all the weights\n",
        "\n",
        "<img src=\"https://cdn.iisc.talentsprint.com/CDS/Images/GD_iterations.png\" width =\"480px;\"/>\n",
        "\n",
        "**Step 4 :** We can observe that the X value is slowly decreasing and should converge to -5 (the local minima). However, how many iterations should we perform?\n",
        "\n",
        "We can set a precision variable in our algorithm which calculates the difference between two consecutive “x” values. If the difference between x values from 2 consecutive iterations is lesser than the precision we set, stop the algorithm!"
      ],
      "metadata": {
        "id": "LuKUso64RjgO"
      },
      "id": "LuKUso64RjgO"
    },
    {
      "cell_type": "markdown",
      "source": [
        "### We can solve the above optimization problem by implementing the gradient descent algorithm in Python:"
      ],
      "metadata": {
        "id": "ACP7ro1Bcj1y"
      },
      "id": "ACP7ro1Bcj1y"
    },
    {
      "cell_type": "code",
      "source": [
        "# Step 1 : Initialize parameters\n",
        "\n",
        "cur_x = 3                   # The algorithm starts at x=3\n",
        "rate = 0.01                 # Learning rate\n",
        "precision = 0.0001          # This tells us when to stop the algorithm\n",
        "previous_step_size = 1      # Limit to monitor change in x\n",
        "max_iters = 10000           # maximum number of iterations\n",
        "iters = 0                   # iteration counter\n",
        "df = lambda x: 2*(x+5)      # Gradient of our function "
      ],
      "metadata": {
        "id": "3gRWKLvBgbwj"
      },
      "id": "3gRWKLvBgbwj",
      "execution_count": 11,
      "outputs": []
    },
    {
      "cell_type": "code",
      "source": [
        "# Step 2 : Run a loop to perform gradient descent:\n",
        "# i. Stop loop when difference between x values from last 2 consecutive iterations is less than 0.0001 or when number of iterations exceeds 10,000\n",
        "\n",
        "while previous_step_size > precision and iters < max_iters:\n",
        "    prev_x = cur_x                                     # Store current x value in prev_x\n",
        "    cur_x = cur_x - rate * df(prev_x)                  # Grad descent\n",
        "    previous_step_size = abs(cur_x - prev_x)           # Change in x\n",
        "    iters = iters+1                                    # iteration count\n",
        "    print(\"Iteration\", iters, \"\\nX value is\", cur_x)   # Print iterations\n",
        "    \n",
        "print(\"The local minimum occurs at\", cur_x)"
      ],
      "metadata": {
        "id": "q2MxtDiHgkQ6",
        "colab": {
          "base_uri": "https://localhost:8080/"
        },
        "outputId": "23618288-8eb7-42a3-8c05-bed70d3b39d8"
      },
      "id": "q2MxtDiHgkQ6",
      "execution_count": 12,
      "outputs": [
        {
          "output_type": "stream",
          "name": "stdout",
          "text": [
            "Iteration 1 \n",
            "X value is 2.84\n",
            "Iteration 2 \n",
            "X value is 2.6832\n",
            "Iteration 3 \n",
            "X value is 2.529536\n",
            "Iteration 4 \n",
            "X value is 2.37894528\n",
            "Iteration 5 \n",
            "X value is 2.2313663744\n",
            "Iteration 6 \n",
            "X value is 2.0867390469119997\n",
            "Iteration 7 \n",
            "X value is 1.9450042659737599\n",
            "Iteration 8 \n",
            "X value is 1.8061041806542846\n",
            "Iteration 9 \n",
            "X value is 1.669982097041199\n",
            "Iteration 10 \n",
            "X value is 1.5365824551003748\n",
            "Iteration 11 \n",
            "X value is 1.4058508059983674\n",
            "Iteration 12 \n",
            "X value is 1.2777337898784\n",
            "Iteration 13 \n",
            "X value is 1.152179114080832\n",
            "Iteration 14 \n",
            "X value is 1.0291355317992152\n",
            "Iteration 15 \n",
            "X value is 0.9085528211632309\n",
            "Iteration 16 \n",
            "X value is 0.7903817647399662\n",
            "Iteration 17 \n",
            "X value is 0.6745741294451669\n",
            "Iteration 18 \n",
            "X value is 0.5610826468562635\n",
            "Iteration 19 \n",
            "X value is 0.44986099391913825\n",
            "Iteration 20 \n",
            "X value is 0.3408637740407555\n",
            "Iteration 21 \n",
            "X value is 0.23404649855994042\n",
            "Iteration 22 \n",
            "X value is 0.1293655685887416\n",
            "Iteration 23 \n",
            "X value is 0.026778257216966764\n",
            "Iteration 24 \n",
            "X value is -0.07375730792737258\n",
            "Iteration 25 \n",
            "X value is -0.1722821617688251\n",
            "Iteration 26 \n",
            "X value is -0.2688365185334486\n",
            "Iteration 27 \n",
            "X value is -0.36345978816277963\n",
            "Iteration 28 \n",
            "X value is -0.45619059239952403\n",
            "Iteration 29 \n",
            "X value is -0.5470667805515336\n",
            "Iteration 30 \n",
            "X value is -0.6361254449405029\n",
            "Iteration 31 \n",
            "X value is -0.7234029360416929\n",
            "Iteration 32 \n",
            "X value is -0.8089348773208591\n",
            "Iteration 33 \n",
            "X value is -0.8927561797744419\n",
            "Iteration 34 \n",
            "X value is -0.9749010561789531\n",
            "Iteration 35 \n",
            "X value is -1.055403035055374\n",
            "Iteration 36 \n",
            "X value is -1.1342949743542665\n",
            "Iteration 37 \n",
            "X value is -1.2116090748671813\n",
            "Iteration 38 \n",
            "X value is -1.2873768933698377\n",
            "Iteration 39 \n",
            "X value is -1.361629355502441\n",
            "Iteration 40 \n",
            "X value is -1.4343967683923922\n",
            "Iteration 41 \n",
            "X value is -1.5057088330245443\n",
            "Iteration 42 \n",
            "X value is -1.5755946563640535\n",
            "Iteration 43 \n",
            "X value is -1.6440827632367725\n",
            "Iteration 44 \n",
            "X value is -1.711201107972037\n",
            "Iteration 45 \n",
            "X value is -1.7769770858125964\n",
            "Iteration 46 \n",
            "X value is -1.8414375440963444\n",
            "Iteration 47 \n",
            "X value is -1.9046087932144176\n",
            "Iteration 48 \n",
            "X value is -1.9665166173501292\n",
            "Iteration 49 \n",
            "X value is -2.0271862850031264\n",
            "Iteration 50 \n",
            "X value is -2.0866425593030637\n",
            "Iteration 51 \n",
            "X value is -2.1449097081170025\n",
            "Iteration 52 \n",
            "X value is -2.2020115139546625\n",
            "Iteration 53 \n",
            "X value is -2.257971283675569\n",
            "Iteration 54 \n",
            "X value is -2.312811858002058\n",
            "Iteration 55 \n",
            "X value is -2.3665556208420164\n",
            "Iteration 56 \n",
            "X value is -2.419224508425176\n",
            "Iteration 57 \n",
            "X value is -2.4708400182566725\n",
            "Iteration 58 \n",
            "X value is -2.521423217891539\n",
            "Iteration 59 \n",
            "X value is -2.570994753533708\n",
            "Iteration 60 \n",
            "X value is -2.619574858463034\n",
            "Iteration 61 \n",
            "X value is -2.667183361293773\n",
            "Iteration 62 \n",
            "X value is -2.713839694067898\n",
            "Iteration 63 \n",
            "X value is -2.75956290018654\n",
            "Iteration 64 \n",
            "X value is -2.804371642182809\n",
            "Iteration 65 \n",
            "X value is -2.8482842093391527\n",
            "Iteration 66 \n",
            "X value is -2.8913185251523696\n",
            "Iteration 67 \n",
            "X value is -2.9334921546493224\n",
            "Iteration 68 \n",
            "X value is -2.974822311556336\n",
            "Iteration 69 \n",
            "X value is -3.015325865325209\n",
            "Iteration 70 \n",
            "X value is -3.055019348018705\n",
            "Iteration 71 \n",
            "X value is -3.093918961058331\n",
            "Iteration 72 \n",
            "X value is -3.1320405818371646\n",
            "Iteration 73 \n",
            "X value is -3.1693997702004215\n",
            "Iteration 74 \n",
            "X value is -3.206011774796413\n",
            "Iteration 75 \n",
            "X value is -3.2418915393004846\n",
            "Iteration 76 \n",
            "X value is -3.277053708514475\n",
            "Iteration 77 \n",
            "X value is -3.3115126343441856\n",
            "Iteration 78 \n",
            "X value is -3.345282381657302\n",
            "Iteration 79 \n",
            "X value is -3.378376734024156\n",
            "Iteration 80 \n",
            "X value is -3.4108091993436727\n",
            "Iteration 81 \n",
            "X value is -3.4425930153567994\n",
            "Iteration 82 \n",
            "X value is -3.4737411550496633\n",
            "Iteration 83 \n",
            "X value is -3.50426633194867\n",
            "Iteration 84 \n",
            "X value is -3.534181005309697\n",
            "Iteration 85 \n",
            "X value is -3.563497385203503\n",
            "Iteration 86 \n",
            "X value is -3.5922274374994325\n",
            "Iteration 87 \n",
            "X value is -3.620382888749444\n",
            "Iteration 88 \n",
            "X value is -3.6479752309744553\n",
            "Iteration 89 \n",
            "X value is -3.675015726354966\n",
            "Iteration 90 \n",
            "X value is -3.7015154118278666\n",
            "Iteration 91 \n",
            "X value is -3.7274851035913095\n",
            "Iteration 92 \n",
            "X value is -3.7529354015194833\n",
            "Iteration 93 \n",
            "X value is -3.7778766934890937\n",
            "Iteration 94 \n",
            "X value is -3.8023191596193118\n",
            "Iteration 95 \n",
            "X value is -3.8262727764269258\n",
            "Iteration 96 \n",
            "X value is -3.8497473208983872\n",
            "Iteration 97 \n",
            "X value is -3.8727523744804193\n",
            "Iteration 98 \n",
            "X value is -3.895297326990811\n",
            "Iteration 99 \n",
            "X value is -3.917391380450995\n",
            "Iteration 100 \n",
            "X value is -3.939043552841975\n",
            "Iteration 101 \n",
            "X value is -3.9602626817851356\n",
            "Iteration 102 \n",
            "X value is -3.981057428149433\n",
            "Iteration 103 \n",
            "X value is -4.001436279586445\n",
            "Iteration 104 \n",
            "X value is -4.021407553994716\n",
            "Iteration 105 \n",
            "X value is -4.040979402914822\n",
            "Iteration 106 \n",
            "X value is -4.060159814856525\n",
            "Iteration 107 \n",
            "X value is -4.078956618559395\n",
            "Iteration 108 \n",
            "X value is -4.097377486188207\n",
            "Iteration 109 \n",
            "X value is -4.115429936464443\n",
            "Iteration 110 \n",
            "X value is -4.133121337735154\n",
            "Iteration 111 \n",
            "X value is -4.150458910980451\n",
            "Iteration 112 \n",
            "X value is -4.167449732760842\n",
            "Iteration 113 \n",
            "X value is -4.1841007381056246\n",
            "Iteration 114 \n",
            "X value is -4.200418723343512\n",
            "Iteration 115 \n",
            "X value is -4.216410348876642\n",
            "Iteration 116 \n",
            "X value is -4.2320821418991095\n",
            "Iteration 117 \n",
            "X value is -4.247440499061128\n",
            "Iteration 118 \n",
            "X value is -4.262491689079905\n",
            "Iteration 119 \n",
            "X value is -4.277241855298307\n",
            "Iteration 120 \n",
            "X value is -4.291697018192341\n",
            "Iteration 121 \n",
            "X value is -4.305863077828494\n",
            "Iteration 122 \n",
            "X value is -4.319745816271924\n",
            "Iteration 123 \n",
            "X value is -4.333350899946486\n",
            "Iteration 124 \n",
            "X value is -4.3466838819475555\n",
            "Iteration 125 \n",
            "X value is -4.359750204308605\n",
            "Iteration 126 \n",
            "X value is -4.372555200222433\n",
            "Iteration 127 \n",
            "X value is -4.385104096217984\n",
            "Iteration 128 \n",
            "X value is -4.3974020142936245\n",
            "Iteration 129 \n",
            "X value is -4.409453974007752\n",
            "Iteration 130 \n",
            "X value is -4.421264894527597\n",
            "Iteration 131 \n",
            "X value is -4.432839596637045\n",
            "Iteration 132 \n",
            "X value is -4.444182804704305\n",
            "Iteration 133 \n",
            "X value is -4.4552991486102185\n",
            "Iteration 134 \n",
            "X value is -4.466193165638014\n",
            "Iteration 135 \n",
            "X value is -4.4768693023252535\n",
            "Iteration 136 \n",
            "X value is -4.487331916278748\n",
            "Iteration 137 \n",
            "X value is -4.497585277953173\n",
            "Iteration 138 \n",
            "X value is -4.50763357239411\n",
            "Iteration 139 \n",
            "X value is -4.517480900946228\n",
            "Iteration 140 \n",
            "X value is -4.527131282927304\n",
            "Iteration 141 \n",
            "X value is -4.536588657268758\n",
            "Iteration 142 \n",
            "X value is -4.545856884123382\n",
            "Iteration 143 \n",
            "X value is -4.5549397464409145\n",
            "Iteration 144 \n",
            "X value is -4.563840951512097\n",
            "Iteration 145 \n",
            "X value is -4.572564132481855\n",
            "Iteration 146 \n",
            "X value is -4.581112849832218\n",
            "Iteration 147 \n",
            "X value is -4.589490592835574\n",
            "Iteration 148 \n",
            "X value is -4.597700780978863\n",
            "Iteration 149 \n",
            "X value is -4.605746765359285\n",
            "Iteration 150 \n",
            "X value is -4.6136318300521\n",
            "Iteration 151 \n",
            "X value is -4.621359193451058\n",
            "Iteration 152 \n",
            "X value is -4.628932009582036\n",
            "Iteration 153 \n",
            "X value is -4.636353369390395\n",
            "Iteration 154 \n",
            "X value is -4.643626302002588\n",
            "Iteration 155 \n",
            "X value is -4.650753775962536\n",
            "Iteration 156 \n",
            "X value is -4.657738700443285\n",
            "Iteration 157 \n",
            "X value is -4.664583926434419\n",
            "Iteration 158 \n",
            "X value is -4.671292247905731\n",
            "Iteration 159 \n",
            "X value is -4.6778664029476165\n",
            "Iteration 160 \n",
            "X value is -4.684309074888664\n",
            "Iteration 161 \n",
            "X value is -4.6906228933908904\n",
            "Iteration 162 \n",
            "X value is -4.696810435523073\n",
            "Iteration 163 \n",
            "X value is -4.702874226812612\n",
            "Iteration 164 \n",
            "X value is -4.708816742276359\n",
            "Iteration 165 \n",
            "X value is -4.714640407430832\n",
            "Iteration 166 \n",
            "X value is -4.720347599282215\n",
            "Iteration 167 \n",
            "X value is -4.725940647296571\n",
            "Iteration 168 \n",
            "X value is -4.731421834350639\n",
            "Iteration 169 \n",
            "X value is -4.736793397663627\n",
            "Iteration 170 \n",
            "X value is -4.742057529710355\n",
            "Iteration 171 \n",
            "X value is -4.747216379116147\n",
            "Iteration 172 \n",
            "X value is -4.752272051533824\n",
            "Iteration 173 \n",
            "X value is -4.757226610503148\n",
            "Iteration 174 \n",
            "X value is -4.762082078293084\n",
            "Iteration 175 \n",
            "X value is -4.766840436727223\n",
            "Iteration 176 \n",
            "X value is -4.771503627992678\n",
            "Iteration 177 \n",
            "X value is -4.776073555432824\n",
            "Iteration 178 \n",
            "X value is -4.780552084324168\n",
            "Iteration 179 \n",
            "X value is -4.784941042637685\n",
            "Iteration 180 \n",
            "X value is -4.7892422217849315\n",
            "Iteration 181 \n",
            "X value is -4.793457377349233\n",
            "Iteration 182 \n",
            "X value is -4.7975882298022485\n",
            "Iteration 183 \n",
            "X value is -4.801636465206204\n",
            "Iteration 184 \n",
            "X value is -4.805603735902079\n",
            "Iteration 185 \n",
            "X value is -4.809491661184038\n",
            "Iteration 186 \n",
            "X value is -4.813301827960357\n",
            "Iteration 187 \n",
            "X value is -4.81703579140115\n",
            "Iteration 188 \n",
            "X value is -4.820695075573127\n",
            "Iteration 189 \n",
            "X value is -4.824281174061665\n",
            "Iteration 190 \n",
            "X value is -4.827795550580431\n",
            "Iteration 191 \n",
            "X value is -4.831239639568823\n",
            "Iteration 192 \n",
            "X value is -4.834614846777447\n",
            "Iteration 193 \n",
            "X value is -4.837922549841898\n",
            "Iteration 194 \n",
            "X value is -4.84116409884506\n",
            "Iteration 195 \n",
            "X value is -4.844340816868159\n",
            "Iteration 196 \n",
            "X value is -4.847454000530796\n",
            "Iteration 197 \n",
            "X value is -4.85050492052018\n",
            "Iteration 198 \n",
            "X value is -4.853494822109776\n",
            "Iteration 199 \n",
            "X value is -4.85642492566758\n",
            "Iteration 200 \n",
            "X value is -4.859296427154229\n",
            "Iteration 201 \n",
            "X value is -4.862110498611145\n",
            "Iteration 202 \n",
            "X value is -4.864868288638922\n",
            "Iteration 203 \n",
            "X value is -4.867570922866143\n",
            "Iteration 204 \n",
            "X value is -4.87021950440882\n",
            "Iteration 205 \n",
            "X value is -4.872815114320644\n",
            "Iteration 206 \n",
            "X value is -4.875358812034231\n",
            "Iteration 207 \n",
            "X value is -4.877851635793546\n",
            "Iteration 208 \n",
            "X value is -4.880294603077676\n",
            "Iteration 209 \n",
            "X value is -4.882688711016122\n",
            "Iteration 210 \n",
            "X value is -4.8850349367958\n",
            "Iteration 211 \n",
            "X value is -4.887334238059884\n",
            "Iteration 212 \n",
            "X value is -4.8895875532986866\n",
            "Iteration 213 \n",
            "X value is -4.891795802232712\n",
            "Iteration 214 \n",
            "X value is -4.893959886188058\n",
            "Iteration 215 \n",
            "X value is -4.896080688464297\n",
            "Iteration 216 \n",
            "X value is -4.898159074695011\n",
            "Iteration 217 \n",
            "X value is -4.9001958932011105\n",
            "Iteration 218 \n",
            "X value is -4.902191975337089\n",
            "Iteration 219 \n",
            "X value is -4.904148135830347\n",
            "Iteration 220 \n",
            "X value is -4.90606517311374\n",
            "Iteration 221 \n",
            "X value is -4.907943869651465\n",
            "Iteration 222 \n",
            "X value is -4.909784992258436\n",
            "Iteration 223 \n",
            "X value is -4.911589292413267\n",
            "Iteration 224 \n",
            "X value is -4.913357506565002\n",
            "Iteration 225 \n",
            "X value is -4.915090356433702\n",
            "Iteration 226 \n",
            "X value is -4.9167885493050285\n",
            "Iteration 227 \n",
            "X value is -4.918452778318928\n",
            "Iteration 228 \n",
            "X value is -4.920083722752549\n",
            "Iteration 229 \n",
            "X value is -4.921682048297498\n",
            "Iteration 230 \n",
            "X value is -4.923248407331548\n",
            "Iteration 231 \n",
            "X value is -4.9247834391849175\n",
            "Iteration 232 \n",
            "X value is -4.926287770401219\n",
            "Iteration 233 \n",
            "X value is -4.927762014993195\n",
            "Iteration 234 \n",
            "X value is -4.929206774693331\n",
            "Iteration 235 \n",
            "X value is -4.930622639199464\n",
            "Iteration 236 \n",
            "X value is -4.932010186415474\n",
            "Iteration 237 \n",
            "X value is -4.933369982687164\n",
            "Iteration 238 \n",
            "X value is -4.934702583033421\n",
            "Iteration 239 \n",
            "X value is -4.936008531372753\n",
            "Iteration 240 \n",
            "X value is -4.937288360745298\n",
            "Iteration 241 \n",
            "X value is -4.938542593530392\n",
            "Iteration 242 \n",
            "X value is -4.939771741659784\n",
            "Iteration 243 \n",
            "X value is -4.940976306826588\n",
            "Iteration 244 \n",
            "X value is -4.942156780690056\n",
            "Iteration 245 \n",
            "X value is -4.943313645076255\n",
            "Iteration 246 \n",
            "X value is -4.94444737217473\n",
            "Iteration 247 \n",
            "X value is -4.945558424731236\n",
            "Iteration 248 \n",
            "X value is -4.946647256236611\n",
            "Iteration 249 \n",
            "X value is -4.947714311111879\n",
            "Iteration 250 \n",
            "X value is -4.9487600248896415\n",
            "Iteration 251 \n",
            "X value is -4.949784824391848\n",
            "Iteration 252 \n",
            "X value is -4.950789127904011\n",
            "Iteration 253 \n",
            "X value is -4.951773345345931\n",
            "Iteration 254 \n",
            "X value is -4.952737878439012\n",
            "Iteration 255 \n",
            "X value is -4.953683120870232\n",
            "Iteration 256 \n",
            "X value is -4.954609458452827\n",
            "Iteration 257 \n",
            "X value is -4.955517269283771\n",
            "Iteration 258 \n",
            "X value is -4.956406923898095\n",
            "Iteration 259 \n",
            "X value is -4.957278785420133\n",
            "Iteration 260 \n",
            "X value is -4.958133209711731\n",
            "Iteration 261 \n",
            "X value is -4.958970545517496\n",
            "Iteration 262 \n",
            "X value is -4.959791134607146\n",
            "Iteration 263 \n",
            "X value is -4.960595311915003\n",
            "Iteration 264 \n",
            "X value is -4.9613834056767026\n",
            "Iteration 265 \n",
            "X value is -4.962155737563169\n",
            "Iteration 266 \n",
            "X value is -4.962912622811905\n",
            "Iteration 267 \n",
            "X value is -4.963654370355667\n",
            "Iteration 268 \n",
            "X value is -4.964381282948554\n",
            "Iteration 269 \n",
            "X value is -4.965093657289583\n",
            "Iteration 270 \n",
            "X value is -4.965791784143791\n",
            "Iteration 271 \n",
            "X value is -4.966475948460915\n",
            "Iteration 272 \n",
            "X value is -4.967146429491697\n",
            "Iteration 273 \n",
            "X value is -4.967803500901863\n",
            "Iteration 274 \n",
            "X value is -4.968447430883826\n",
            "Iteration 275 \n",
            "X value is -4.969078482266149\n",
            "Iteration 276 \n",
            "X value is -4.969696912620826\n",
            "Iteration 277 \n",
            "X value is -4.970302974368409\n",
            "Iteration 278 \n",
            "X value is -4.970896914881041\n",
            "Iteration 279 \n",
            "X value is -4.97147897658342\n",
            "Iteration 280 \n",
            "X value is -4.972049397051752\n",
            "Iteration 281 \n",
            "X value is -4.972608409110717\n",
            "Iteration 282 \n",
            "X value is -4.973156240928502\n",
            "Iteration 283 \n",
            "X value is -4.973693116109932\n",
            "Iteration 284 \n",
            "X value is -4.974219253787734\n",
            "Iteration 285 \n",
            "X value is -4.974734868711979\n",
            "Iteration 286 \n",
            "X value is -4.975240171337739\n",
            "Iteration 287 \n",
            "X value is -4.975735367910985\n",
            "Iteration 288 \n",
            "X value is -4.976220660552765\n",
            "Iteration 289 \n",
            "X value is -4.976696247341709\n",
            "Iteration 290 \n",
            "X value is -4.977162322394875\n",
            "Iteration 291 \n",
            "X value is -4.977619075946977\n",
            "Iteration 292 \n",
            "X value is -4.978066694428038\n",
            "Iteration 293 \n",
            "X value is -4.978505360539477\n",
            "Iteration 294 \n",
            "X value is -4.978935253328687\n",
            "Iteration 295 \n",
            "X value is -4.979356548262113\n",
            "Iteration 296 \n",
            "X value is -4.979769417296871\n",
            "Iteration 297 \n",
            "X value is -4.980174028950934\n",
            "Iteration 298 \n",
            "X value is -4.980570548371915\n",
            "Iteration 299 \n",
            "X value is -4.980959137404477\n",
            "Iteration 300 \n",
            "X value is -4.981339954656387\n",
            "Iteration 301 \n",
            "X value is -4.981713155563259\n",
            "Iteration 302 \n",
            "X value is -4.982078892451994\n",
            "Iteration 303 \n",
            "X value is -4.9824373146029535\n",
            "Iteration 304 \n",
            "X value is -4.982788568310895\n",
            "Iteration 305 \n",
            "X value is -4.983132796944677\n",
            "Iteration 306 \n",
            "X value is -4.983470141005784\n",
            "Iteration 307 \n",
            "X value is -4.983800738185668\n",
            "Iteration 308 \n",
            "X value is -4.984124723421955\n",
            "Iteration 309 \n",
            "X value is -4.984442228953515\n",
            "Iteration 310 \n",
            "X value is -4.984753384374445\n",
            "Iteration 311 \n",
            "X value is -4.985058316686956\n",
            "Iteration 312 \n",
            "X value is -4.9853571503532175\n",
            "Iteration 313 \n",
            "X value is -4.985650007346153\n",
            "Iteration 314 \n",
            "X value is -4.9859370071992295\n",
            "Iteration 315 \n",
            "X value is -4.986218267055245\n",
            "Iteration 316 \n",
            "X value is -4.98649390171414\n",
            "Iteration 317 \n",
            "X value is -4.986764023679857\n",
            "Iteration 318 \n",
            "X value is -4.98702874320626\n",
            "Iteration 319 \n",
            "X value is -4.987288168342134\n",
            "Iteration 320 \n",
            "X value is -4.987542404975292\n",
            "Iteration 321 \n",
            "X value is -4.987791556875786\n",
            "Iteration 322 \n",
            "X value is -4.98803572573827\n",
            "Iteration 323 \n",
            "X value is -4.988275011223505\n",
            "Iteration 324 \n",
            "X value is -4.988509510999035\n",
            "Iteration 325 \n",
            "X value is -4.988739320779054\n",
            "Iteration 326 \n",
            "X value is -4.988964534363473\n",
            "Iteration 327 \n",
            "X value is -4.989185243676204\n",
            "Iteration 328 \n",
            "X value is -4.98940153880268\n",
            "Iteration 329 \n",
            "X value is -4.989613508026626\n",
            "Iteration 330 \n",
            "X value is -4.989821237866094\n",
            "Iteration 331 \n",
            "X value is -4.990024813108772\n",
            "Iteration 332 \n",
            "X value is -4.9902243168465965\n",
            "Iteration 333 \n",
            "X value is -4.990419830509665\n",
            "Iteration 334 \n",
            "X value is -4.990611433899471\n",
            "Iteration 335 \n",
            "X value is -4.990799205221482\n",
            "Iteration 336 \n",
            "X value is -4.990983221117052\n",
            "Iteration 337 \n",
            "X value is -4.991163556694711\n",
            "Iteration 338 \n",
            "X value is -4.991340285560817\n",
            "Iteration 339 \n",
            "X value is -4.9915134798496\n",
            "Iteration 340 \n",
            "X value is -4.991683210252608\n",
            "Iteration 341 \n",
            "X value is -4.991849546047556\n",
            "Iteration 342 \n",
            "X value is -4.992012555126605\n",
            "Iteration 343 \n",
            "X value is -4.992172304024073\n",
            "Iteration 344 \n",
            "X value is -4.992328857943591\n",
            "Iteration 345 \n",
            "X value is -4.99248228078472\n",
            "Iteration 346 \n",
            "X value is -4.992632635169025\n",
            "Iteration 347 \n",
            "X value is -4.9927799824656445\n",
            "Iteration 348 \n",
            "X value is -4.992924382816332\n",
            "Iteration 349 \n",
            "X value is -4.993065895160005\n",
            "Iteration 350 \n",
            "X value is -4.993204577256805\n",
            "Iteration 351 \n",
            "X value is -4.993340485711669\n",
            "Iteration 352 \n",
            "X value is -4.993473675997436\n",
            "Iteration 353 \n",
            "X value is -4.993604202477487\n",
            "Iteration 354 \n",
            "X value is -4.993732118427937\n",
            "Iteration 355 \n",
            "X value is -4.993857476059379\n",
            "Iteration 356 \n",
            "X value is -4.993980326538191\n",
            "Iteration 357 \n",
            "X value is -4.9941007200074266\n",
            "Iteration 358 \n",
            "X value is -4.994218705607278\n",
            "Iteration 359 \n",
            "X value is -4.994334331495133\n",
            "Iteration 360 \n",
            "X value is -4.994447644865231\n",
            "Iteration 361 \n",
            "X value is -4.994558691967926\n",
            "Iteration 362 \n",
            "X value is -4.994667518128567\n",
            "Iteration 363 \n",
            "X value is -4.994774167765996\n",
            "Iteration 364 \n",
            "X value is -4.9948786844106765\n",
            "Iteration 365 \n",
            "X value is -4.994981110722463\n",
            "Iteration 366 \n",
            "X value is -4.995081488508014\n",
            "Iteration 367 \n",
            "X value is -4.995179858737854\n",
            "The local minimum occurs at -4.995179858737854\n"
          ]
        }
      ]
    },
    {
      "cell_type": "markdown",
      "source": [
        "From the above output we can observe the $x$ values after each iteration and the optimized solution. The $x$ values from the first 2 iterations can be cross checked with our earlier manual calculation. "
      ],
      "metadata": {
        "id": "z5B1t60kikc5"
      },
      "id": "z5B1t60kikc5"
    },
    {
      "cell_type": "markdown",
      "metadata": {
        "id": "diverse-civilian"
      },
      "source": [
        "###Solving a linear regression problem with Gradient descent \n",
        "\n",
        "Here, we consider a simple pendulum oscillation dataset with two variables. The dataset consists of two columns and 89 rows. Each column represents a characteristic of a simple pendulum i.e l (length) and t (time period). The dataset describes the relationship between the l and t which is $L∝T^2$ ."
      ],
      "id": "diverse-civilian"
    },
    {
      "cell_type": "code",
      "metadata": {
        "id": "advance-symposium",
        "colab": {
          "base_uri": "https://localhost:8080/",
          "height": 206
        },
        "outputId": "ae1500bd-1f8e-4e9b-b40d-aeeadd2697d5"
      },
      "source": [
        "# Load the data by using pandas read_csv()\n",
        "data = pd.read_csv(\"SIMPLEPENDULUMOSCILLATIONDATA.txt\", sep=\" \", header=None, names=['l', 't'])\n",
        "data.head()"
      ],
      "id": "advance-symposium",
      "execution_count": 13,
      "outputs": [
        {
          "output_type": "execute_result",
          "data": {
            "text/plain": [
              "      l        t\n",
              "0  0.10  0.69004\n",
              "1  0.11  0.69497\n",
              "2  0.12  0.74252\n",
              "3  0.13  0.75360\n",
              "4  0.14  0.83568"
            ],
            "text/html": [
              "\n",
              "  <div id=\"df-f57a4a22-159b-4b79-9617-503cb411f20f\">\n",
              "    <div class=\"colab-df-container\">\n",
              "      <div>\n",
              "<style scoped>\n",
              "    .dataframe tbody tr th:only-of-type {\n",
              "        vertical-align: middle;\n",
              "    }\n",
              "\n",
              "    .dataframe tbody tr th {\n",
              "        vertical-align: top;\n",
              "    }\n",
              "\n",
              "    .dataframe thead th {\n",
              "        text-align: right;\n",
              "    }\n",
              "</style>\n",
              "<table border=\"1\" class=\"dataframe\">\n",
              "  <thead>\n",
              "    <tr style=\"text-align: right;\">\n",
              "      <th></th>\n",
              "      <th>l</th>\n",
              "      <th>t</th>\n",
              "    </tr>\n",
              "  </thead>\n",
              "  <tbody>\n",
              "    <tr>\n",
              "      <th>0</th>\n",
              "      <td>0.10</td>\n",
              "      <td>0.69004</td>\n",
              "    </tr>\n",
              "    <tr>\n",
              "      <th>1</th>\n",
              "      <td>0.11</td>\n",
              "      <td>0.69497</td>\n",
              "    </tr>\n",
              "    <tr>\n",
              "      <th>2</th>\n",
              "      <td>0.12</td>\n",
              "      <td>0.74252</td>\n",
              "    </tr>\n",
              "    <tr>\n",
              "      <th>3</th>\n",
              "      <td>0.13</td>\n",
              "      <td>0.75360</td>\n",
              "    </tr>\n",
              "    <tr>\n",
              "      <th>4</th>\n",
              "      <td>0.14</td>\n",
              "      <td>0.83568</td>\n",
              "    </tr>\n",
              "  </tbody>\n",
              "</table>\n",
              "</div>\n",
              "      <button class=\"colab-df-convert\" onclick=\"convertToInteractive('df-f57a4a22-159b-4b79-9617-503cb411f20f')\"\n",
              "              title=\"Convert this dataframe to an interactive table.\"\n",
              "              style=\"display:none;\">\n",
              "        \n",
              "  <svg xmlns=\"http://www.w3.org/2000/svg\" height=\"24px\"viewBox=\"0 0 24 24\"\n",
              "       width=\"24px\">\n",
              "    <path d=\"M0 0h24v24H0V0z\" fill=\"none\"/>\n",
              "    <path d=\"M18.56 5.44l.94 2.06.94-2.06 2.06-.94-2.06-.94-.94-2.06-.94 2.06-2.06.94zm-11 1L8.5 8.5l.94-2.06 2.06-.94-2.06-.94L8.5 2.5l-.94 2.06-2.06.94zm10 10l.94 2.06.94-2.06 2.06-.94-2.06-.94-.94-2.06-.94 2.06-2.06.94z\"/><path d=\"M17.41 7.96l-1.37-1.37c-.4-.4-.92-.59-1.43-.59-.52 0-1.04.2-1.43.59L10.3 9.45l-7.72 7.72c-.78.78-.78 2.05 0 2.83L4 21.41c.39.39.9.59 1.41.59.51 0 1.02-.2 1.41-.59l7.78-7.78 2.81-2.81c.8-.78.8-2.07 0-2.86zM5.41 20L4 18.59l7.72-7.72 1.47 1.35L5.41 20z\"/>\n",
              "  </svg>\n",
              "      </button>\n",
              "      \n",
              "  <style>\n",
              "    .colab-df-container {\n",
              "      display:flex;\n",
              "      flex-wrap:wrap;\n",
              "      gap: 12px;\n",
              "    }\n",
              "\n",
              "    .colab-df-convert {\n",
              "      background-color: #E8F0FE;\n",
              "      border: none;\n",
              "      border-radius: 50%;\n",
              "      cursor: pointer;\n",
              "      display: none;\n",
              "      fill: #1967D2;\n",
              "      height: 32px;\n",
              "      padding: 0 0 0 0;\n",
              "      width: 32px;\n",
              "    }\n",
              "\n",
              "    .colab-df-convert:hover {\n",
              "      background-color: #E2EBFA;\n",
              "      box-shadow: 0px 1px 2px rgba(60, 64, 67, 0.3), 0px 1px 3px 1px rgba(60, 64, 67, 0.15);\n",
              "      fill: #174EA6;\n",
              "    }\n",
              "\n",
              "    [theme=dark] .colab-df-convert {\n",
              "      background-color: #3B4455;\n",
              "      fill: #D2E3FC;\n",
              "    }\n",
              "\n",
              "    [theme=dark] .colab-df-convert:hover {\n",
              "      background-color: #434B5C;\n",
              "      box-shadow: 0px 1px 3px 1px rgba(0, 0, 0, 0.15);\n",
              "      filter: drop-shadow(0px 1px 2px rgba(0, 0, 0, 0.3));\n",
              "      fill: #FFFFFF;\n",
              "    }\n",
              "  </style>\n",
              "\n",
              "      <script>\n",
              "        const buttonEl =\n",
              "          document.querySelector('#df-f57a4a22-159b-4b79-9617-503cb411f20f button.colab-df-convert');\n",
              "        buttonEl.style.display =\n",
              "          google.colab.kernel.accessAllowed ? 'block' : 'none';\n",
              "\n",
              "        async function convertToInteractive(key) {\n",
              "          const element = document.querySelector('#df-f57a4a22-159b-4b79-9617-503cb411f20f');\n",
              "          const dataTable =\n",
              "            await google.colab.kernel.invokeFunction('convertToInteractive',\n",
              "                                                     [key], {});\n",
              "          if (!dataTable) return;\n",
              "\n",
              "          const docLinkHtml = 'Like what you see? Visit the ' +\n",
              "            '<a target=\"_blank\" href=https://colab.research.google.com/notebooks/data_table.ipynb>data table notebook</a>'\n",
              "            + ' to learn more about interactive tables.';\n",
              "          element.innerHTML = '';\n",
              "          dataTable['output_type'] = 'display_data';\n",
              "          await google.colab.output.renderOutput(dataTable, element);\n",
              "          const docLink = document.createElement('div');\n",
              "          docLink.innerHTML = docLinkHtml;\n",
              "          element.appendChild(docLink);\n",
              "        }\n",
              "      </script>\n",
              "    </div>\n",
              "  </div>\n",
              "  "
            ]
          },
          "metadata": {},
          "execution_count": 13
        }
      ]
    },
    {
      "cell_type": "code",
      "metadata": {
        "id": "endless-summer"
      },
      "source": [
        "# Get the length and time period values from the dataset\n",
        "l = data['l'].values\n",
        "t = data['t'].values\n",
        "# Get the square of time period\n",
        "tsq = t * t"
      ],
      "id": "endless-summer",
      "execution_count": 14,
      "outputs": []
    },
    {
      "cell_type": "markdown",
      "metadata": {
        "id": "earned-arena"
      },
      "source": [
        "### Batch Gradient Descent\n",
        "\n",
        "Batch Gradient Descent is when we sum up over all examples on each iteration when performing the updates to the parameters. Therefore, for each update, we have to sum over all examples:\n",
        "\n",
        "$$w = w - \\alpha \\triangledown_w J(w)$$\n",
        "\n",
        "The below function `train()` updates the values of $m$ and $c$ in the linear regression equation $y = mx + c$, and calculates error. The loss is minimized due to the changed values of m and c. The new values m, c and the minimized error are returned."
      ],
      "id": "earned-arena"
    },
    {
      "cell_type": "code",
      "metadata": {
        "id": "tropical-craft"
      },
      "source": [
        "# function to update m and c\n",
        "def train(x, y, m, c, eta):                   # x = independent variable, y = dependent variable, m = coeff. of independent var (slope), c = constant (bias), eta = learning rate\n",
        "    const = - 2.0/len(y)                      # constant term to be used in compting gradients\n",
        "    ycalc = m * x + c                         # linear regression expression\n",
        "    delta_m = const * sum(x * (y - ycalc))    # dy/dm\n",
        "    delta_c = const * sum(y - ycalc)          # dy/dc\n",
        "    m = m - delta_m * eta                     # gradient descent step to update m\n",
        "    c = c - delta_c * eta                     # gradient descent step to update c\n",
        "    error = sum((y - ycalc)**2)/len(y)        # error\n",
        "    return m, c, error"
      ],
      "id": "tropical-craft",
      "execution_count": 15,
      "outputs": []
    },
    {
      "cell_type": "markdown",
      "metadata": {
        "id": "diverse-cross"
      },
      "source": [
        "Let us vary the learning rate and find how the error decreases in each case, and how the final line looks, by training each case for the same number of iterations - 2000."
      ],
      "id": "diverse-cross"
    },
    {
      "cell_type": "code",
      "metadata": {
        "id": "alert-marsh",
        "colab": {
          "base_uri": "https://localhost:8080/"
        },
        "outputId": "2dc645c0-2a15-4168-85c6-c3e70d02a5a5"
      },
      "source": [
        "# Save errors\n",
        "errs_1 = []\n",
        "m, c = 0, 0         # initial guess\n",
        "eta = 0.1           # learning rate\n",
        "\n",
        "# Call the train() method for 2000 iterations to update m and c and get error value with eta = 0.1\n",
        "for iteration in range(2000):\n",
        "    m, c, error = train(l, tsq, m, c, eta)\n",
        "    errs_1.append(error)\n",
        "\n",
        "# Save final line\n",
        "m_1, c_1 = m, c\n",
        "m_1, c_1"
      ],
      "id": "alert-marsh",
      "execution_count": 16,
      "outputs": [
        {
          "output_type": "execute_result",
          "data": {
            "text/plain": [
              "(4.1414844631045575, 0.07358041685220443)"
            ]
          },
          "metadata": {},
          "execution_count": 16
        }
      ]
    },
    {
      "cell_type": "markdown",
      "metadata": {
        "id": "revolutionary-driving"
      },
      "source": [
        "Visualize the function"
      ],
      "id": "revolutionary-driving"
    },
    {
      "cell_type": "code",
      "metadata": {
        "id": "proprietary-tradition",
        "colab": {
          "base_uri": "https://localhost:8080/",
          "height": 285
        },
        "outputId": "03fab5b7-4617-4d89-c264-c7bc14c3c2f1"
      },
      "source": [
        "# Find the lines\n",
        "y_1 = m_1 * l + c_1\n",
        "plt.plot(l, tsq, '.k');\n",
        "plt.plot(l, y_1, \"g\");\n",
        "plt.xlabel(\"$L$\", fontsize=15)\n",
        "plt.ylabel(\"$T^2$\", fontsize=15)\n",
        "plt.show()"
      ],
      "id": "proprietary-tradition",
      "execution_count": 17,
      "outputs": [
        {
          "output_type": "display_data",
          "data": {
            "text/plain": [
              "<Figure size 432x288 with 1 Axes>"
            ],
            "image/png": "[encoded data removed]"
          },
          "metadata": {
            "needs_background": "light"
          }
        }
      ]
    },
    {
      "cell_type": "markdown",
      "metadata": {
        "id": "mathematical-banner"
      },
      "source": [
        "### Stochastic gradient descent:\n",
        "\n",
        "Instead of going through all examples, Stochastic Gradient Descent (SGD) performs the parameters update on each example $(x_i,y_i)$. Therefore, learning happens on every example:\n",
        "$$w = w - \\alpha \\triangledown_w J(x_i,y_i;w)$$"
      ],
      "id": "mathematical-banner"
    },
    {
      "cell_type": "markdown",
      "metadata": {
        "id": "crucial-venezuela"
      },
      "source": [
        "given the equation $y_i = mx_i + c$\n",
        "\n",
        "we calculate the error as $E$ = $(y - y_i)^2$ ; where $y$ is the ground truth and $y_i$ is the prediction\n",
        "\n",
        "Finding the rate of change in error with respect to m is $\\frac{\\partial E_i }{\\partial m}$ = $ -2(y_i - (mx_i + c)) * x_i$\n",
        "\n",
        "rate of change in c is $\\frac{\\partial E_i }{\\partial c}$ = $ -2(y_i - (mx_i + c))$\n",
        "\n",
        "And then we update the slope and bias with change in slope $\\Delta m$ and change in bias $\\Delta c$ with learning rate $eta$\n",
        "\n",
        "$m$  = $m - \\Delta m * eta$\n",
        "\n",
        "$c$  = $c - \\Delta c * eta$"
      ],
      "id": "crucial-venezuela"
    },
    {
      "cell_type": "markdown",
      "metadata": {
        "id": "sharp-redhead"
      },
      "source": [
        "The below function `next_step()` updates the values of m and c and calculates error. The loss is minimized due to the changed values of m and c. The new values m, c and the minimized loss are returned."
      ],
      "id": "sharp-redhead"
    },
    {
      "cell_type": "code",
      "metadata": {
        "id": "refined-isaac"
      },
      "source": [
        "# change in m and c\n",
        "def next_step(x, y, m, c, eta):\n",
        "    ycalc = m * x + c                # linear regression expression\n",
        "    error = (y - ycalc) ** 2         # error\n",
        "    delta_m = -(y - ycalc) * x       # dy/dm\n",
        "    delta_c = -(y - ycalc)           # dy/dc\n",
        "    m = m - delta_m * eta            # gradient descent step to update m\n",
        "    c = c - delta_c * eta            # gradient descent step to update c\n",
        "    return m, c, error"
      ],
      "id": "refined-isaac",
      "execution_count": 18,
      "outputs": []
    },
    {
      "cell_type": "markdown",
      "metadata": {
        "id": "front-guess"
      },
      "source": [
        "The function below takes a random data point at a time and updates m and c using the function `next_step()`"
      ],
      "id": "front-guess"
    },
    {
      "cell_type": "code",
      "metadata": {
        "id": "overhead-humor"
      },
      "source": [
        "# update m and c for one data point\n",
        "def one_loop_random(x, y, m, c, eta):\n",
        "    # Making random idx\n",
        "    random_idx = np.arange(len(y))\n",
        "    np.random.shuffle(random_idx)\n",
        "    # Training with random idx\n",
        "    for idx in random_idx:\n",
        "        m, c, e = next_step(x[idx], y[idx], m, c, eta)\n",
        "        #print(m, c, e)\n",
        "    return m,c,e"
      ],
      "id": "overhead-humor",
      "execution_count": 19,
      "outputs": []
    },
    {
      "cell_type": "markdown",
      "metadata": {
        "id": "brave-western"
      },
      "source": [
        "The function below trains the data for 1000 iterations. In each iteration it calls the `one_loop_random()` function."
      ],
      "id": "brave-western"
    },
    {
      "cell_type": "code",
      "metadata": {
        "id": "bright-cabinet"
      },
      "source": [
        "# train for 1000 iterations\n",
        "def train_stochastic(x, y, m, c, eta, iterations=1000):\n",
        "    for iteration in range(iterations):\n",
        "        m, c, err = one_loop_random(x, y, m, c, eta)\n",
        "    return m, c, err"
      ],
      "id": "bright-cabinet",
      "execution_count": 20,
      "outputs": []
    },
    {
      "cell_type": "code",
      "metadata": {
        "id": "coastal-georgia"
      },
      "source": [
        "# Initialize m, c\n",
        "m, c = 0, 0\n",
        "# Learning rate\n",
        "lr = 0.001"
      ],
      "id": "coastal-georgia",
      "execution_count": 21,
      "outputs": []
    },
    {
      "cell_type": "code",
      "metadata": {
        "id": "restricted-grounds",
        "colab": {
          "base_uri": "https://localhost:8080/",
          "height": 459
        },
        "outputId": "a968de45-941c-449e-958e-c19fe8b71aed"
      },
      "source": [
        "# Call the train_stochastic() method to update m and c and get error value with lr = 0.001.\n",
        "for num in range(10):\n",
        "    m, c, error = train_stochastic(l, tsq, m, c, lr, iterations=100)\n",
        "    print(\"m = {0:.6} c = {1:.6} Error = {2:.6}\".format(m, c, error))\n",
        "    y = m * l + c\n",
        "plt.plot(l, tsq, '.k')\n",
        "plt.plot(l, y)\n",
        "plt.xlabel(\"$L$\", fontsize=15)\n",
        "plt.ylabel(\"$T^2$\", fontsize=15)\n",
        "plt.show()"
      ],
      "id": "restricted-grounds",
      "execution_count": 22,
      "outputs": [
        {
          "output_type": "stream",
          "name": "stdout",
          "text": [
            "m = 2.20122 c = 1.18757 Error = 0.329925\n",
            "m = 2.92024 c = 0.774961 Error = 0.0327223\n",
            "m = 3.37297 c = 0.515479 Error = 0.00259583\n",
            "m = 3.65767 c = 0.351642 Error = 0.0207143\n",
            "m = 3.83695 c = 0.248612 Error = 0.00190256\n",
            "m = 3.94976 c = 0.183721 Error = 0.0113344\n",
            "m = 4.02079 c = 0.142909 Error = 0.00769662\n",
            "m = 4.06543 c = 0.117068 Error = 0.00629087\n",
            "m = 4.0937 c = 0.101108 Error = 0.00626093\n",
            "m = 4.11138 c = 0.0908667 Error = 0.00541389\n"
          ]
        },
        {
          "output_type": "display_data",
          "data": {
            "text/plain": [
              "<Figure size 432x288 with 1 Axes>"
            ],
            "image/png": "[encoded data removed]"
          },
          "metadata": {
            "needs_background": "light"
          }
        }
      ]
    },
    {
      "cell_type": "markdown",
      "metadata": {
        "id": "aquatic-recipe"
      },
      "source": [
        "Plot Errors vs Iterations"
      ],
      "id": "aquatic-recipe"
    },
    {
      "cell_type": "code",
      "metadata": {
        "id": "premium-major",
        "colab": {
          "base_uri": "https://localhost:8080/",
          "height": 282
        },
        "outputId": "17a9335d-b139-4358-b5b7-21d1e6ddf164"
      },
      "source": [
        "ms, cs, errs = [], [], []\n",
        "m, c = 0, 0\n",
        "lr = 0.001\n",
        "\n",
        "# Call the train_stochastic() method to update m and c and get error value with lr = 0.001.\n",
        "for times in range(100):\n",
        "    m, c, error = train_stochastic(l, tsq, m, c, lr, iterations=100) # We will plot the error values for every 100 iterations\n",
        "    ms.append(m)\n",
        "    cs.append(c)\n",
        "    errs.append(error)\n",
        "plt.plot(range(100), errs);\n",
        "plt.xlabel(\"Iteration\", fontsize=12)\n",
        "plt.ylabel(\"Error\", fontsize=12)\n",
        "plt.show()"
      ],
      "id": "premium-major",
      "execution_count": 23,
      "outputs": [
        {
          "output_type": "display_data",
          "data": {
            "text/plain": [
              "<Figure size 432x288 with 1 Axes>"
            ],
            "image/png": "[encoded data removed]"
          },
          "metadata": {
            "needs_background": "light"
          }
        }
      ]
    },
    {
      "cell_type": "markdown",
      "metadata": {
        "id": "m3S-IvdHTJXx"
      },
      "source": [
        "### Minibatch Gradient Descent"
      ],
      "id": "m3S-IvdHTJXx"
    },
    {
      "cell_type": "markdown",
      "metadata": {
        "id": "ZT6lGuO8TJXy"
      },
      "source": [
        "In Mini-Batch Gradient Descent algorithm, rather than using  the complete data set, in every iteration we use a subset of training examples (called \"batch\") to compute the gradient of the cost function. \n",
        "\n",
        "Common mini-batch sizes range between 50 and 256, but can vary for different applications."
      ],
      "id": "ZT6lGuO8TJXy"
    },
    {
      "cell_type": "markdown",
      "metadata": {
        "id": "pressing-hughes"
      },
      "source": [
        "\n",
        "\n",
        "\n",
        "\n",
        "\n",
        "\n",
        "Below is a graph that shows the gradient descent’s variants and their direction towards the minimum:\n",
        "![img3](https://miro.medium.com/max/700/1*PV-fcUsNlD9EgTIc61h-Ig.png)"
      ],
      "id": "pressing-hughes"
    },
    {
      "cell_type": "markdown",
      "metadata": {
        "id": "8IWur68qTJXz"
      },
      "source": [
        "`train_one_batch()` : we will be calculating the essential parts of the Gradient Descent method: \n",
        "\n",
        "We assume there are $n$ samples in a batch $B$, for all  $i \\in B$, \n",
        "\n",
        "$y_i = mx_i + c$\n",
        "        \n",
        "$E$ =$\\frac{1}{n}$   $\\sum_{i=1}^n (y - y_i)^2$\n",
        "\n",
        "$\\frac{\\partial E }{\\partial m}$ = $\\frac{2}{n}$   $\\sum_{i=1}^n  -x_i(y - (mx_i + c))$\n",
        " \n",
        "$\\frac{\\partial E}{\\partial c}$ = $\\frac{2}{n}$   $\\sum_{i=1}^n  -(y - (mx_i + c))$"
      ],
      "id": "8IWur68qTJXz"
    },
    {
      "cell_type": "markdown",
      "metadata": {
        "id": "mJgPCef6TJXz"
      },
      "source": [
        "`train_batches()` : We will be splitting our data into batches."
      ],
      "id": "mJgPCef6TJXz"
    },
    {
      "cell_type": "code",
      "metadata": {
        "id": "JkRMHxA2TJX0"
      },
      "source": [
        "\"\"\"\n",
        "The function 'train_one_batch()' updates the values of m and c and calculates error. \n",
        "The loss is minimized due to the changed values of m and c.\n",
        "The new values m, c and the minimized loss are returned.\n",
        "\"\"\"\n",
        "def train_one_batch(x, y, m, c, eta):\n",
        "    const = - 2.0/len(y)\n",
        "    ycalc = m * x + c                             # linear regression expression\n",
        "    delta_m = const * sum(x * (y - ycalc))        # dy/dm\n",
        "    delta_c = const * sum(y - ycalc)              # dy/dc\n",
        "    m = m - delta_m * eta                         # gradient descent step to update m\n",
        "    c = c - delta_c * eta                         # gradient descent step to update c\n",
        "    error = sum((y - ycalc)**2)/len(y)            # error\n",
        "    return m, c, error\n",
        "\n",
        "\"\"\"\n",
        "The function below takes a batch_size and loss is calculated w.r.t batches.\n",
        "The batches are created using random index.\n",
        "The m, c and error values are calculated for each batch of data.\n",
        "So, it calls the function 'train_one_batch()' by passing batch_x, batch_y for each batch.\n",
        "\"\"\"\n",
        "def train_batches(x, y, m, c, eta, batch_size):\n",
        "    # Making the batches\n",
        "    random_idx = np.arange(len(y))\n",
        "    np.random.shuffle(random_idx)\n",
        "    \n",
        "    # Train each batch\n",
        "    for batch in range(len(y)//batch_size):\n",
        "        batch_idx = random_idx[batch*batch_size:(batch + 1)*batch_size]\n",
        "        batch_x = x[batch_idx]\n",
        "        batch_y = y[batch_idx]\n",
        "        m, c, err = train_one_batch(batch_x, batch_y, m, c, eta)\n",
        "    \n",
        "    return m, c, err\n",
        "\n",
        "\"\"\"\n",
        "The function below trains the data for 1000 iterations. \n",
        "The data is traversed in batches, the batch size here is considered to be 10.\n",
        "In each iteration it calls the 'train_batches' function. \n",
        "The 'batch_size' is passed as a parameter to 'train_batches'.\n",
        "\"\"\"\n",
        "def train_minibatch(x, y, m, c, eta, batch_size=10, iterations=1000):\n",
        "    for iteration in range(iterations):\n",
        "        m, c, err = train_batches(x, y, m, c, eta, batch_size)\n",
        "    return m, c, err"
      ],
      "id": "JkRMHxA2TJX0",
      "execution_count": 24,
      "outputs": []
    },
    {
      "cell_type": "markdown",
      "metadata": {
        "id": "-BLipYesTJX4"
      },
      "source": [
        "#### Train the Minibatch gradient descent"
      ],
      "id": "-BLipYesTJX4"
    },
    {
      "cell_type": "code",
      "metadata": {
        "id": "oAsrGHdLTJX4"
      },
      "source": [
        "# Initializing m, c\n",
        "m, c = 0, 0\n",
        "# Learning rate\n",
        "lr = 0.001"
      ],
      "id": "oAsrGHdLTJX4",
      "execution_count": 25,
      "outputs": []
    },
    {
      "cell_type": "code",
      "metadata": {
        "id": "3Y-XhUFqTJYB",
        "colab": {
          "base_uri": "https://localhost:8080/"
        },
        "outputId": "6fe5f20e-ebf6-4590-d9b8-dd16ad36c3ae"
      },
      "source": [
        "# Training for 1000 iterations, plotting after every 100 iterations:\n",
        "\n",
        "# Call the train_minibatch() method to update m and c and get error value with lr = 0.001 and batch_size=90.\n",
        "for num in range(10):\n",
        "    # We will plot the error values for every 100 iterations\n",
        "    m, c, error = train_minibatch(l, tsq, m, c, lr, batch_size=90, iterations=100) \n",
        "    print(\"m = {0:.6} c = {1:.6} Error = {2:.6}\".format(m, c, error))\n",
        "    y = m * l + c"
      ],
      "id": "3Y-XhUFqTJYB",
      "execution_count": 26,
      "outputs": [
        {
          "output_type": "stream",
          "name": "stdout",
          "text": [
            "m = 0.276529 c = 0.408341 Error = 4.1726\n",
            "m = 0.49608 c = 0.718257 Error = 2.71618\n",
            "m = 0.671759 c = 0.952549 Error = 1.8504\n",
            "m = 0.813639 c = 1.12874 Error = 1.33379\n",
            "m = 0.929467 c = 1.26031 Error = 1.02365\n",
            "m = 1.0252 c = 1.35762 Error = 0.835624\n",
            "m = 1.10541 c = 1.42863 Error = 0.719865\n",
            "m = 1.17362 c = 1.47945 Error = 0.646911\n",
            "m = 1.23254 c = 1.51479 Error = 0.599347\n",
            "m = 1.28426 c = 1.53828 Error = 0.566879\n"
          ]
        }
      ]
    },
    {
      "cell_type": "markdown",
      "metadata": {
        "id": "SHnsERuP2QN4"
      },
      "source": [
        "Visualization of line plot using minibatch gradient descent"
      ],
      "id": "SHnsERuP2QN4"
    },
    {
      "cell_type": "code",
      "metadata": {
        "id": "QZ5vE4AV2FCj",
        "colab": {
          "base_uri": "https://localhost:8080/",
          "height": 340
        },
        "outputId": "d9f9c823-e370-4492-ac37-70ba01ba1f1e"
      },
      "source": [
        "fig = plt.figure(figsize=(5, 5))\n",
        "ax = fig.add_subplot(111)\n",
        "ax.plot(l, tsq, '.k')\n",
        "ax.plot(l, y)\n",
        "plt.xlabel(\"$L$\", fontsize=15)\n",
        "plt.ylabel(\"$T^2$\", fontsize=15)\n",
        "plt.show()"
      ],
      "id": "QZ5vE4AV2FCj",
      "execution_count": 27,
      "outputs": [
        {
          "output_type": "display_data",
          "data": {
            "text/plain": [
              "<Figure size 360x360 with 1 Axes>"
            ],
            "image/png": "[encoded data removed]"
          },
          "metadata": {
            "needs_background": "light"
          }
        }
      ]
    },
    {
      "cell_type": "markdown",
      "metadata": {
        "id": "bPrP3o7JTJYF"
      },
      "source": [
        "**Ungraded Exercise:** Experiment with other lr values."
      ],
      "id": "bPrP3o7JTJYF"
    },
    {
      "cell_type": "code",
      "metadata": {
        "id": "zmQ_eNyQTJYG"
      },
      "source": [
        "# YOUR CODE HERE"
      ],
      "id": "zmQ_eNyQTJYG",
      "execution_count": 28,
      "outputs": []
    },
    {
      "cell_type": "markdown",
      "metadata": {
        "id": "stwbu3wYTJYI"
      },
      "source": [
        "**Ungraded Exercise:** Experiment with other batch_size values."
      ],
      "id": "stwbu3wYTJYI"
    },
    {
      "cell_type": "code",
      "metadata": {
        "id": "uBUcyH_QTJYJ"
      },
      "source": [
        "# YOUR CODE HERE"
      ],
      "id": "uBUcyH_QTJYJ",
      "execution_count": 29,
      "outputs": []
    },
    {
      "cell_type": "markdown",
      "metadata": {
        "id": "IYt31ypxTE3C"
      },
      "source": [
        "**Comparison of gradient descent variants**\n",
        "\n",
        "![img](https://cdn.iisc.talentsprint.com/CDS/Images/Gradient_descent_variants_comparison.JPG)\n",
        "\n",
        "To know more about gradient descent variants, click [here](https://hackernoon.com/demystifying-different-variants-of-gradient-descent-optimization-algorithm-19ae9ba2e9bc)"
      ],
      "id": "IYt31ypxTE3C"
    },
    {
      "cell_type": "markdown",
      "metadata": {
        "id": "informative-poultry"
      },
      "source": [
        "### Ungraded Question\n",
        "\n",
        "**Question1 :** Determine the gradient of the function $x^2 - 2y^2 - 4y + 6$ at point (0, 0)? \n",
        "\n",
        "\n",
        "**Solution:** ∇f = 0i − 4j\n",
        "\n",
        "Explanation: At point (0,0), we calculate the gradient at this point as \n",
        "\n",
        "∂f/∂x = 2x = 2(0) = 0\n",
        "\n",
        "∂f/∂y = −4y − 4 = −4(0) − 4 = −4\n",
        "\n",
        "which are used to determine the gradient as ∇f = 0i − 4j"
      ],
      "id": "informative-poultry"
    },
    {
      "cell_type": "markdown",
      "metadata": {
        "id": "VHfHdGCP_n6Y"
      },
      "source": [
        "### Please answer the questions below to complete the experiment:\n",
        "\n",
        "\n"
      ],
      "id": "VHfHdGCP_n6Y"
    },
    {
      "cell_type": "code",
      "metadata": {
        "id": "f-bZhl8VoIGg"
      },
      "source": [
        "#@title Mark the following statement as True or False: Gradient descent always successfully finds the global minima { run: \"auto\", form-width: \"500px\", display-mode: \"form\" }\n",
        "Answer = \"False\" #@param [\"\",\"True\",\"False\"]\n"
      ],
      "id": "f-bZhl8VoIGg",
      "execution_count": 30,
      "outputs": []
    },
    {
      "cell_type": "code",
      "metadata": {
        "id": "NMzKSbLIgFzQ"
      },
      "source": [
        "#@title How was the experiment? { run: \"auto\", form-width: \"500px\", display-mode: \"form\" }\n",
        "Complexity = \"Good and Challenging for me\" #@param [\"\",\"Too Simple, I am wasting time\", \"Good, But Not Challenging for me\", \"Good and Challenging for me\", \"Was Tough, but I did it\", \"Too Difficult for me\"]\n"
      ],
      "id": "NMzKSbLIgFzQ",
      "execution_count": 31,
      "outputs": []
    },
    {
      "cell_type": "code",
      "metadata": {
        "id": "DjcH1VWSFI2l"
      },
      "source": [
        "#@title If it was too easy, what more would you have liked to be added? If it was very difficult, what would you have liked to have been removed? { run: \"auto\", display-mode: \"form\" }\n",
        "Additional = \"perfect for practice\" #@param {type:\"string\"}\n"
      ],
      "id": "DjcH1VWSFI2l",
      "execution_count": 32,
      "outputs": []
    },
    {
      "cell_type": "code",
      "metadata": {
        "id": "4VBk_4VTAxCM"
      },
      "source": [
        "#@title Can you identify the concepts from the lecture which this experiment covered? { run: \"auto\", vertical-output: true, display-mode: \"form\" }\n",
        "Concepts = \"Yes\" #@param [\"\",\"Yes\", \"No\"]\n"
      ],
      "id": "4VBk_4VTAxCM",
      "execution_count": 33,
      "outputs": []
    },
    {
      "cell_type": "code",
      "metadata": {
        "id": "XH91cL1JWH7m"
      },
      "source": [
        "#@title  Text and image description/explanation and code comments within the experiment: { run: \"auto\", vertical-output: true, display-mode: \"form\" }\n",
        "Comments = \"Very Useful\" #@param [\"\",\"Very Useful\", \"Somewhat Useful\", \"Not Useful\", \"Didn't use\"]\n"
      ],
      "id": "XH91cL1JWH7m",
      "execution_count": 34,
      "outputs": []
    },
    {
      "cell_type": "code",
      "metadata": {
        "id": "z8xLqj7VWIKW"
      },
      "source": [
        "#@title Mentor Support: { run: \"auto\", vertical-output: true, display-mode: \"form\" }\n",
        "Mentor_support = \"Very Useful\" #@param [\"\",\"Very Useful\", \"Somewhat Useful\", \"Not Useful\", \"Didn't use\"]\n"
      ],
      "id": "z8xLqj7VWIKW",
      "execution_count": 35,
      "outputs": []
    },
    {
      "cell_type": "code",
      "metadata": {
        "id": "FzAZHt1zw-Y-",
        "cellView": "form",
        "colab": {
          "base_uri": "https://localhost:8080/"
        },
        "outputId": "86eff7b3-0206-4b1e-b185-56a99c5e639f"
      },
      "source": [
        "#@title Run this cell to submit your notebook for grading { vertical-output: true }\n",
        "try:\n",
        "  if submission_id:\n",
        "      return_id = submit_notebook()\n",
        "      if return_id : submission_id = return_id\n",
        "  else:\n",
        "      print(\"Please complete the setup first.\")\n",
        "except NameError:\n",
        "  print (\"Please complete the setup first.\")"
      ],
      "id": "FzAZHt1zw-Y-",
      "execution_count": 36,
      "outputs": [
        {
          "output_type": "stream",
          "name": "stdout",
          "text": [
            "Your submission is successful.\n",
            "Ref Id: 2777\n",
            "Date of submission:  19 Feb 2023\n",
            "Time of submission:  19:49:57\n",
            "View your submissions: https://cds.iisc.talentsprint.com/notebook_submissions\n"
          ]
        }
      ]
    },
    {
      "cell_type": "code",
      "source": [],
      "metadata": {
        "id": "NDA-JGqqtjrF"
      },
      "id": "NDA-JGqqtjrF",
      "execution_count": null,
      "outputs": []
    }
  ]
}