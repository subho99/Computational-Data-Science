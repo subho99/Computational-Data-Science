{
  "nbformat": 4,
  "nbformat_minor": 0,
  "metadata": {
    "colab": {
      "provenance": [],
      "include_colab_link": true
    },
    "kernelspec": {
      "display_name": "Python 3",
      "language": "python",
      "name": "python3"
    },
    "language_info": {
      "codemirror_mode": {
        "name": "ipython",
        "version": 3
      },
      "file_extension": ".py",
      "mimetype": "text/x-python",
      "name": "python",
      "nbconvert_exporter": "python",
      "pygments_lexer": "ipython3",
      "version": "3.8.5"
    }
  },
  "cells": [
    {
      "cell_type": "markdown",
      "metadata": {
        "id": "view-in-github",
        "colab_type": "text"
      },
      "source": [
        "<a href=\"https://colab.research.google.com/github/subho99/Computational-Data-Science/blob/main/Subhajit_Basistha_M1_AST_11_Solving_Linear_Equations_C.ipynb\" target=\"_parent\"><img src=\"https://colab.research.google.com/assets/colab-badge.svg\" alt=\"Open In Colab\"/></a>"
      ]
    },
    {
      "cell_type": "markdown",
      "metadata": {
        "id": "xOJ9npnFEi-d"
      },
      "source": [
        "# Advanced Certification Program in Computational Data Science\n",
        "## A program by IISc and TalentSprint\n",
        "### Assignment: Solving linear equations"
      ]
    },
    {
      "cell_type": "markdown",
      "metadata": {
        "id": "CBkjMtSgFBuv"
      },
      "source": [
        "## Learning Objectives"
      ]
    },
    {
      "cell_type": "markdown",
      "metadata": {
        "id": "FpfeKNyLFEbX"
      },
      "source": [
        "At the end of the experiment, you will be able to :\n",
        "\n",
        "* use computational techniques and algebraic skills essential for the study of systems of linear equations\n",
        "* use Python libraries, eg. Numpy's `linalg.solve` and Scipy's `scipy.linalg`, to solve linear equation based operations\n",
        "* model practical problems using linear systems\n"
      ]
    },
    {
      "cell_type": "markdown",
      "source": [
        "## Introduction"
      ],
      "metadata": {
        "id": "SWlABNsC5dyr"
      }
    },
    {
      "cell_type": "markdown",
      "source": [
        "Linear equations are formalizations of the relationship between variables. It is also possible to consider more than one linear equation using the same variables: this is *a system of equations*.\n",
        "\n",
        "A **system of equations** is a set of equations describing the relationship between variables. For instance, let’s consider the following example:\n",
        "$$y = 2x + 1$$\n",
        "$$y = -0.5x + 3$$\n",
        "\n",
        "We have two linear equations and they both characterize the relationship between the variables x and y. This is a system with two equations and two variables.\n",
        "\n",
        "We can convert the two equations into a single vector equation as follows:\n",
        "<br><br>\n",
        "<center>\n",
        "<img src=\"https://cdn.iisc.talentsprint.com/CDS/Images/eqn_to_vector.png\" width = 700 px />\n",
        "</center>\n",
        "\n",
        "For further understanding, refer [here](https://towardsdatascience.com/how-do-you-use-numpy-scipy-and-sympy-to-solve-systems-of-linear-equations-9afed2c388af).\n",
        "<br><br>\n",
        "\n",
        "Also, linear systems of equations can have either:\n",
        "- No solution\n",
        "- One solution\n",
        "- An infinite number of solutions\n",
        "<br><br>\n",
        "<center>\n",
        "<img src=\"https://cdn.iisc.talentsprint.com/CDS/Images/diff_solns_for_linear_eqns.png\" width=800 px />\n",
        "</center>\n",
        "\n",
        "For further understanding, refer [here](https://www.math.ucla.edu/~archristian/notes/linear-algebra/systems-of-linear-equations.pdf).\n"
      ],
      "metadata": {
        "id": "jWizvsArblrN"
      }
    },
    {
      "cell_type": "markdown",
      "metadata": {
        "id": "BNLA8HiKxQhc"
      },
      "source": [
        "### Setup Steps:"
      ]
    },
    {
      "cell_type": "code",
      "metadata": {
        "id": "2YzfoPvJDiTX"
      },
      "source": [
        "#@title Please enter your registration id to start: { run: \"auto\", display-mode: \"form\" }\n",
        "Id = \"2236624\" #@param {type:\"string\"}"
      ],
      "execution_count": 1,
      "outputs": []
    },
    {
      "cell_type": "code",
      "metadata": {
        "id": "AjoZJWGErxGf"
      },
      "source": [
        "#@title Please enter your password (your registered phone number) to continue: { run: \"auto\", display-mode: \"form\" }\n",
        "password = \"8240187807\" #@param {type:\"string\"}"
      ],
      "execution_count": 2,
      "outputs": []
    },
    {
      "cell_type": "code",
      "metadata": {
        "id": "WBPPuGmBlDIN",
        "cellView": "form",
        "colab": {
          "base_uri": "https://localhost:8080/",
          "height": 34
        },
        "outputId": "3ff6be99-517c-4dfd-b3a7-73c1c9ad21f0"
      },
      "source": [
        "#@title Run this cell to complete the setup for this Notebook\n",
        "from IPython import get_ipython\n",
        "\n",
        "ipython = get_ipython()\n",
        "  \n",
        "notebook= \"M1_AST_11_Solving_Linear_Equations_C\" #name of the notebook\n",
        "\n",
        "def setup():\n",
        "#  ipython.magic(\"sx pip3 install torch\")  \n",
        "\n",
        "    from IPython.display import HTML, display\n",
        "    display(HTML('<script src=\"https://dashboard.talentsprint.com/aiml/record_ip.html?traineeId={0}&recordId={1}\"></script>'.format(getId(),submission_id)))\n",
        "    print(\"Setup completed successfully\")\n",
        "    return\n",
        "\n",
        "def submit_notebook():\n",
        "    ipython.magic(\"notebook -e \"+ notebook + \".ipynb\")\n",
        "    \n",
        "    import requests, json, base64, datetime\n",
        "\n",
        "    url = \"https://dashboard.talentsprint.com/xp/app/save_notebook_attempts\"\n",
        "    if not submission_id:\n",
        "      data = {\"id\" : getId(), \"notebook\" : notebook, \"mobile\" : getPassword()}\n",
        "      r = requests.post(url, data = data)\n",
        "      r = json.loads(r.text)\n",
        "\n",
        "      if r[\"status\"] == \"Success\":\n",
        "          return r[\"record_id\"]\n",
        "      elif \"err\" in r:        \n",
        "        print(r[\"err\"])\n",
        "        return None        \n",
        "      else:\n",
        "        print (\"Something is wrong, the notebook will not be submitted for grading\")\n",
        "        return None\n",
        "    \n",
        "    elif getAnswer() and getComplexity() and getAdditional() and getConcepts() and getComments() and getMentorSupport():\n",
        "      f = open(notebook + \".ipynb\", \"rb\")\n",
        "      file_hash = base64.b64encode(f.read())\n",
        "\n",
        "      data = {\"complexity\" : Complexity, \"additional\" :Additional, \n",
        "              \"concepts\" : Concepts, \"record_id\" : submission_id, \n",
        "              \"answer\" : Answer, \"id\" : Id, \"file_hash\" : file_hash,\n",
        "              \"notebook\" : notebook,\n",
        "              \"feedback_experiments_input\" : Comments,\n",
        "              \"feedback_mentor_support\": Mentor_support}\n",
        "      r = requests.post(url, data = data)\n",
        "      r = json.loads(r.text)\n",
        "      if \"err\" in r:        \n",
        "        print(r[\"err\"])\n",
        "        return None   \n",
        "      else:\n",
        "        print(\"Your submission is successful.\")\n",
        "        print(\"Ref Id:\", submission_id)\n",
        "        print(\"Date of submission: \", r[\"date\"])\n",
        "        print(\"Time of submission: \", r[\"time\"])\n",
        "        print(\"View your submissions: https://cds.iisc.talentsprint.com/notebook_submissions\")\n",
        "        #print(\"For any queries/discrepancies, please connect with mentors through the chat icon in LMS dashboard.\")\n",
        "        return submission_id\n",
        "    else: submission_id\n",
        "    \n",
        "\n",
        "def getAdditional():\n",
        "  try:\n",
        "    if not Additional: \n",
        "      raise NameError\n",
        "    else:\n",
        "      return Additional  \n",
        "  except NameError:\n",
        "    print (\"Please answer Additional Question\")\n",
        "    return None\n",
        "\n",
        "def getComplexity():\n",
        "  try:\n",
        "    if not Complexity:\n",
        "      raise NameError\n",
        "    else:\n",
        "      return Complexity\n",
        "  except NameError:\n",
        "    print (\"Please answer Complexity Question\")\n",
        "    return None\n",
        "  \n",
        "def getConcepts():\n",
        "  try:\n",
        "    if not Concepts:\n",
        "      raise NameError\n",
        "    else:\n",
        "      return Concepts\n",
        "  except NameError:\n",
        "    print (\"Please answer Concepts Question\")\n",
        "    return None\n",
        "  \n",
        "  \n",
        "# def getWalkthrough():\n",
        "#   try:\n",
        "#     if not Walkthrough:\n",
        "#       raise NameError\n",
        "#     else:\n",
        "#       return Walkthrough\n",
        "#   except NameError:\n",
        "#     print (\"Please answer Walkthrough Question\")\n",
        "#     return None\n",
        "  \n",
        "def getComments():\n",
        "  try:\n",
        "    if not Comments:\n",
        "      raise NameError\n",
        "    else:\n",
        "      return Comments\n",
        "  except NameError:\n",
        "    print (\"Please answer Comments Question\")\n",
        "    return None\n",
        "  \n",
        "\n",
        "def getMentorSupport():\n",
        "  try:\n",
        "    if not Mentor_support:\n",
        "      raise NameError\n",
        "    else:\n",
        "      return Mentor_support\n",
        "  except NameError:\n",
        "    print (\"Please answer Mentor support Question\")\n",
        "    return None\n",
        "\n",
        "def getAnswer():\n",
        "  try:\n",
        "    if not Answer:\n",
        "      raise NameError \n",
        "    else: \n",
        "      return Answer\n",
        "  except NameError:\n",
        "    print (\"Please answer Question\")\n",
        "    return None\n",
        "  \n",
        "\n",
        "def getId():\n",
        "  try: \n",
        "    return Id if Id else None\n",
        "  except NameError:\n",
        "    return None\n",
        "\n",
        "def getPassword():\n",
        "  try:\n",
        "    return password if password else None\n",
        "  except NameError:\n",
        "    return None\n",
        "\n",
        "submission_id = None\n",
        "### Setup \n",
        "if getPassword() and getId():\n",
        "  submission_id = submit_notebook()\n",
        "  if submission_id:\n",
        "    setup() \n",
        "else:\n",
        "  print (\"Please complete Id and Password cells before running setup\")\n",
        "\n"
      ],
      "execution_count": 3,
      "outputs": [
        {
          "output_type": "display_data",
          "data": {
            "text/plain": [
              "<IPython.core.display.HTML object>"
            ],
            "text/html": [
              "<script src=\"https://dashboard.talentsprint.com/aiml/record_ip.html?traineeId=2236624&recordId=2190\"></script>"
            ]
          },
          "metadata": {}
        },
        {
          "output_type": "stream",
          "name": "stdout",
          "text": [
            "Setup completed successfully\n"
          ]
        }
      ]
    },
    {
      "cell_type": "markdown",
      "source": [
        "### Import required packages"
      ],
      "metadata": {
        "id": "zr_7IUx65mBT"
      }
    },
    {
      "cell_type": "code",
      "source": [
        "import numpy as np\n",
        "from scipy.linalg import solve"
      ],
      "metadata": {
        "id": "YWc5TxxW5sv1"
      },
      "execution_count": 4,
      "outputs": []
    },
    {
      "cell_type": "markdown",
      "metadata": {
        "id": "5LZW5DGGLu9J"
      },
      "source": [
        "### Solving Systems of Linear Equations with Python's Numpy"
      ]
    },
    {
      "cell_type": "markdown",
      "metadata": {
        "id": "26EVKtVQL2UC"
      },
      "source": [
        "The ultimate goal of solving a system of linear equations is to find the values of the unknown variables. \n",
        "\n",
        "The Numpy library contains the `linalg.solve()` method, which can be used to directly find the solution of a system of linear equations."
      ]
    },
    {
      "cell_type": "markdown",
      "metadata": {
        "id": "1Vwzwd54MNAH"
      },
      "source": [
        "#### Solve a system of three linear equations, as shown below:\n",
        "\n",
        "$$4x + 3y + 2z = 25$$\n",
        "\n",
        "$$-2x + 2y + 3z = -10$$\n",
        "\n",
        "$$3x -5y + 2z = -4$$\n",
        "\n",
        "\n",
        "We can express this system as a matrix equation $A\\ *$ X $= b$"
      ]
    },
    {
      "cell_type": "code",
      "metadata": {
        "id": "HI1ljLOFSbF8",
        "colab": {
          "base_uri": "https://localhost:8080/"
        },
        "outputId": "0b5500ab-b76c-400f-89dd-47dc16732629"
      },
      "source": [
        "# defining the coefficient matrix\n",
        "A = np.array([[4, 3, 2], \n",
        "              [-2, 2, 3], \n",
        "              [3, -5, 2]])\n",
        "\n",
        "# defining the constant value matrix\n",
        "B = np.array([25, -10, -4])\n",
        "\n",
        "# use np.linalg.solve to solve for x\n",
        "X1 = np.linalg.solve(A, B)\n",
        "\n",
        "# displaying the value of x, y and z\n",
        "print(X1)"
      ],
      "execution_count": 5,
      "outputs": [
        {
          "output_type": "stream",
          "name": "stdout",
          "text": [
            "[ 5.  3. -2.]\n"
          ]
        }
      ]
    },
    {
      "cell_type": "markdown",
      "metadata": {
        "id": "5htjiQ0KUBXd"
      },
      "source": [
        "#### Consider the following three equations and solve:\n",
        "\n",
        "$x_0 + 2 \\times x_1 + x_2 = 4$\n",
        "\n",
        "$x_1 + x_2 = 3$\n",
        "\n",
        "$x_0 + x_2 = 5$"
      ]
    },
    {
      "cell_type": "code",
      "metadata": {
        "id": "5gqTrjh-M33C"
      },
      "source": [
        "# defining the coefficient matrix\n",
        "A = np.array([[1, 2, 1],\n",
        "              [0, 1, 1],\n",
        "              [1, 0, 1]])\n",
        "# defining the constant value matrix\n",
        "b = np.array([4, 3, 5])"
      ],
      "execution_count": 6,
      "outputs": []
    },
    {
      "cell_type": "code",
      "metadata": {
        "id": "4mpvUDVZUoJU",
        "colab": {
          "base_uri": "https://localhost:8080/"
        },
        "outputId": "deee20c7-0e9a-496e-bd7e-51753c368470"
      },
      "source": [
        "# use np.linalg.solve to solve for x\n",
        "x = np.linalg.solve(A, b)\n",
        "\n",
        "print(x)"
      ],
      "execution_count": 7,
      "outputs": [
        {
          "output_type": "stream",
          "name": "stdout",
          "text": [
            "[ 1.5 -0.5  3.5]\n"
          ]
        }
      ]
    },
    {
      "cell_type": "markdown",
      "source": [
        "### `numpy.linalg` vs `scipy.linalg`\n",
        "\n",
        "NumPy includes some tools for working with linear algebra applications in the numpy.linalg module. However, its typically better to use scipy.linalg for the following reasons:\n",
        "\n",
        "- scipy.linalg contains all the functions in numpy.linalg plus some extra advanced functions not included in numpy.linalg.\n",
        "\n",
        "- scipy.linalg is always compiled with support from libraries including routines for performing numerical operations in an optimized way, whereas for numpy.linalg, the use of these libraries (BLAS and LAPACK) is optional. Thus, depending on how you install NumPy, scipy.linalg functions might be faster than the ones from numpy.linalg.\n",
        "\n",
        "So, in conclusion, considering that scientific and technical applications generally don’t have restrictions regarding dependencies, it’s generally a good idea to install SciPy and use scipy.linalg instead of numpy.linalg.\n",
        "\n",
        "In the following section, we will use scipy.linalg tools to work with linear systems. We will begin by going through the basics with a straightforward example, and then apply the concepts to a practical problem."
      ],
      "metadata": {
        "id": "pSi7myFry9a1"
      }
    },
    {
      "cell_type": "markdown",
      "source": [
        "### Solve linear system of equations using `scipy.linalg.solve()`"
      ],
      "metadata": {
        "id": "-YuJx0cl0Cbu"
      }
    },
    {
      "cell_type": "markdown",
      "source": [
        "Linear systems are a useful tool for finding the solution to several important practical problems, including problems related to vehicle traffic, balancing chemical equations, electrical circuits, and polynomial interpolation.\n",
        "\n",
        "Practical applications generally involve a large number of variables, which makes it infeasible to solve linear systems manually. Luckily, there are some tools that can do this hard work, such as `scipy.linalg.solve()`.\n",
        "\n",
        "SciPy provides `scipy.linalg.solve()` to solve linear systems quickly and in a reliable way. Let's see how it works. \n",
        "\n",
        "Consider the following system:\n",
        "$$3x_1 + 2x_2 = 12$$\n",
        "$$2x_1 - 1x_2 = 1$$\n",
        "\n",
        "In order to use `scipy.linalg.solve()`, we first need to write the linear system as a matrix product:\n",
        "$$\\underbrace{\\begin{bmatrix}3 & 2\\\\2 & -1\\end{bmatrix}}_{\\text{A}} . \\underbrace{\\begin{bmatrix} x_1 \\\\ x_2\\end{bmatrix}}_{\\text{x}} = \\underbrace{\\begin{bmatrix} 12 \\\\ 1\\end{bmatrix}}_{\\text{b}}$$\n",
        "\n",
        "Note that we will arrive at the original equations of the system after calculating the matrix product. \n",
        "\n",
        "The inputs `scipy.linalg.solve()` expects to solve are the matrix A and the vector b, which we can define using NumPy arrays. This way, we can solve the system using the following code:"
      ],
      "metadata": {
        "id": "3T0PhnA60kpt"
      }
    },
    {
      "cell_type": "code",
      "source": [
        "from scipy.linalg import solve\n",
        "\n",
        "# Create the coefficients matrix using a NumPy array\n",
        "A = np.array([[3, 2], \n",
        "              [2, -1]])\n",
        "\n",
        "# Create the independent terms vector\n",
        "# To make it a column vector with two lines, we use .reshape((2, 1))\n",
        "b = np.array([12, 1]).reshape((2, 1))\n",
        "\n",
        "# Solve the linear system characterized by A and b\n",
        "x = solve(A, b)\n",
        "x"
      ],
      "metadata": {
        "id": "r0Upmo0XAfWE",
        "colab": {
          "base_uri": "https://localhost:8080/"
        },
        "outputId": "910c0b57-a0d2-429e-d889-2eb7293876e2"
      },
      "execution_count": 8,
      "outputs": [
        {
          "output_type": "execute_result",
          "data": {
            "text/plain": [
              "array([[2.],\n",
              "       [3.]])"
            ]
          },
          "metadata": {},
          "execution_count": 8
        }
      ]
    },
    {
      "cell_type": "markdown",
      "source": [
        "We can verify the solution to the system by replacing $x_1 = 2$ and $x_2 = 3$ in the original equations.\n",
        "\n",
        "Now, let's see a practical application of linear systems."
      ],
      "metadata": {
        "id": "RZQL9aXHBEZT"
      }
    },
    {
      "cell_type": "markdown",
      "source": [
        "### Building a Meal Plan"
      ],
      "metadata": {
        "id": "wWUvfz_RCmad"
      }
    },
    {
      "cell_type": "markdown",
      "source": [
        "Here we will find the proportions of components needed to obtain a certain mixture, by solving with a system of linear equations. Here we will build a meal plan, mixing different foods in order to get a balanced diet.\n",
        "\n",
        "For that, consider that a balanced diet should include the following:\n",
        "\n",
        "- 170 units of vitamin A\n",
        "- 180 units of vitamin B\n",
        "- 140 units of vitamin C\n",
        "- 180 units of vitamin D\n",
        "- 350 units of vitamin E\n",
        "\n",
        "The task is to find the quantities of each different food in order to obtain the specified amount of vitamins. In the following table, we have the results of analyzing one gram of each food in terms of units of each vitamin:\n",
        "\n",
        "|Food | Vitamin A| Vitamin B| Vitamin C | Vitamin D | Vitamin E|\n",
        "|----|----|-------|-------|-------|-----|\n",
        "| #1 | 1 | 10 | 1 | 2 | 2 |\n",
        "| #2 | 9 | 1 | 0 | 1 | 1 |\n",
        "| #3 | 2 | 2 | 5 | 1 | 2 |\n",
        "| #4 | 1 | 1 | 1 | 2 | 13 |\n",
        "| #5 | 1 | 1 | 1 | 9 | 2 |\n",
        "<br>\n",
        "\n",
        "By denoting food 1 as $x_1$ and so on, and considering that we will mix $x_1$ units of food 1, $x_2$ units of food 2, and so on, we can write an expression for the amount of vitamin A that we would get in the combination. \n",
        "\n",
        "Considering a balanced diet should include 170 units of vitamin A, we can use the data from the Vitamin A column to write the following equation:\n",
        "$$x_1 + 9x_2 + 2x_3 + x_4 + x_5 = 170$$\n",
        "\n",
        "Repeating the same procedure for vitamins B, C, D, and E, we arrive at the following linear system:\n",
        "$$\\ x_1 + 9x_2 + 2x_3 + x_4 + x_5 = 170$$\n",
        "$$10x_1 + x_2 + 2x_3 + x_4 + x_5 = 180$$\n",
        "$$\\ \\ \\ \\ \\ \\ \\ \\ \\ \\ \\ \\ \\ x_1 + 5x_3 + x_4 + x_5 = 140$$\n",
        "$$2x_1 + x_2 + x_3 + 2x_4 + 9x_5 = 180$$\n",
        "$$2x_1 + x_2 + 2x_3 + 13x_4 + 2x_5 = 350 \\ \\ \\ \\ $$\n",
        "\n",
        "To use `scipy.linalg.solve()`, we have to obtain the coefficients matrix A and the independent terms vector b, which are given by the following:\n",
        "\n",
        "$$\\underbrace{\\begin{bmatrix}1 & 9 & 2 & 1 & 1\\\\10 & 1 & 2 & 1 & 1\\\\1 & 0 & 5 & 1 & 1\\\\2 & 1 & 1 & 2 & 9\\\\2 & 1 & 2 & 13 & 2\\end{bmatrix}}_{\\text{A}} . \\underbrace{\\begin{bmatrix} x_1 \\\\ x_2\\\\ x_3\\\\ x_4\\\\ x_5\\end{bmatrix}}_{\\text{x}} = \\underbrace{\\begin{bmatrix} 170 \\\\ 180\\\\ 140\\\\ 180\\\\ 350\\end{bmatrix}}_{\\text{b}}$$\n",
        "\n",
        "Now we just have to use `scipy.linalg.solve()` to find out the quantities $x_1, x_2, ..., x_5$:"
      ],
      "metadata": {
        "id": "b5GyRdNHCrbV"
      }
    },
    {
      "cell_type": "code",
      "source": [
        "# Create the coefficients matrix\n",
        "A = np.array([[1, 9, 2, 1, 1],\n",
        "              [10, 1, 2, 1, 1],\n",
        "              [1, 0, 5, 1, 1],\n",
        "              [2, 1, 1, 2, 9],\n",
        "              [2, 1, 2, 13, 2]\n",
        "              ])\n",
        "\n",
        "# Create the independent terms vector\n",
        "b = np.array([170, 180, 140, 180, 350]).reshape((5, 1))\n",
        "\n",
        "x = solve(A, b)\n",
        "x"
      ],
      "metadata": {
        "id": "62LNR4BCYugF",
        "colab": {
          "base_uri": "https://localhost:8080/"
        },
        "outputId": "406913f4-8b6d-4991-bd64-10a06452efbd"
      },
      "execution_count": 9,
      "outputs": [
        {
          "output_type": "execute_result",
          "data": {
            "text/plain": [
              "array([[10.],\n",
              "       [10.],\n",
              "       [20.],\n",
              "       [20.],\n",
              "       [10.]])"
            ]
          },
          "metadata": {},
          "execution_count": 9
        }
      ]
    },
    {
      "cell_type": "markdown",
      "source": [
        "This indicates that a balanced diet should include \n",
        "- 10 units of food 1, \n",
        "- 10 units of food 2, \n",
        "- 20 units of food 3, \n",
        "- 20 units of food 4, and \n",
        "- 10 units of food 5.\n",
        "\n"
      ],
      "metadata": {
        "id": "fxdrkJawYvOc"
      }
    },
    {
      "cell_type": "markdown",
      "metadata": {
        "id": "VHfHdGCP_n6Y"
      },
      "source": [
        "### Please answer the questions below to complete the experiment:\n",
        "\n",
        "\n"
      ]
    },
    {
      "cell_type": "markdown",
      "source": [
        "Consider the following systems of linear equations:\n",
        "\n",
        "(a)\n",
        "\n",
        "$\\quad x + y = 12$\n",
        "\n",
        "$\\quad 3x + 3y = 36$\n",
        "\n",
        "(b)\n",
        "\n",
        "$\\quad 2x + 4y = 8$\n",
        "\n",
        "$\\quad 4x + 2y = 10$\n",
        "\n",
        "(C)\n",
        "\n",
        "$\\quad 2x + 3y + z = 6$\n",
        "\n",
        "$\\quad x + y + z = 17$\n",
        "\n",
        "$\\quad 4x + 6y + 2z = 13$"
      ],
      "metadata": {
        "id": "1ElnC9BZFidb"
      }
    },
    {
      "cell_type": "code",
      "metadata": {
        "id": "VgSwVENIPcM6"
      },
      "source": [
        "#@title Determine which of the above systems has a unique solution: { run: \"auto\", form-width: \"500px\", display-mode: \"form\" }\n",
        "Answer = \"c\" #@param [\"\", \"a\", \"b\", \"c\"]"
      ],
      "execution_count": 17,
      "outputs": []
    },
    {
      "cell_type": "code",
      "metadata": {
        "id": "NMzKSbLIgFzQ"
      },
      "source": [
        "#@title How was the experiment? { run: \"auto\", form-width: \"500px\", display-mode: \"form\" }\n",
        "Complexity = \"Good, But Not Challenging for me\" #@param [\"\",\"Too Simple, I am wasting time\", \"Good, But Not Challenging for me\", \"Good and Challenging for me\", \"Was Tough, but I did it\", \"Too Difficult for me\"]\n"
      ],
      "execution_count": 11,
      "outputs": []
    },
    {
      "cell_type": "code",
      "metadata": {
        "id": "DjcH1VWSFI2l"
      },
      "source": [
        "#@title If it was too easy, what more would you have liked to be added? If it was very difficult, what would you have liked to have been removed? { run: \"auto\", display-mode: \"form\" }\n",
        "Additional = \"good exercise\" #@param {type:\"string\"}\n"
      ],
      "execution_count": 12,
      "outputs": []
    },
    {
      "cell_type": "code",
      "metadata": {
        "id": "4VBk_4VTAxCM"
      },
      "source": [
        "#@title Can you identify the concepts from the lecture which this experiment covered? { run: \"auto\", vertical-output: true, display-mode: \"form\" }\n",
        "Concepts = \"Yes\" #@param [\"\",\"Yes\", \"No\"]\n"
      ],
      "execution_count": 13,
      "outputs": []
    },
    {
      "cell_type": "code",
      "metadata": {
        "id": "XH91cL1JWH7m"
      },
      "source": [
        "#@title  Text and image description/explanation and code comments within the experiment: { run: \"auto\", vertical-output: true, display-mode: \"form\" }\n",
        "Comments = \"Very Useful\" #@param [\"\",\"Very Useful\", \"Somewhat Useful\", \"Not Useful\", \"Didn't use\"]\n"
      ],
      "execution_count": 14,
      "outputs": []
    },
    {
      "cell_type": "code",
      "metadata": {
        "id": "z8xLqj7VWIKW"
      },
      "source": [
        "#@title Mentor Support: { run: \"auto\", vertical-output: true, display-mode: \"form\" }\n",
        "Mentor_support = \"Very Useful\" #@param [\"\",\"Very Useful\", \"Somewhat Useful\", \"Not Useful\", \"Didn't use\"]\n"
      ],
      "execution_count": 15,
      "outputs": []
    },
    {
      "cell_type": "code",
      "metadata": {
        "id": "FzAZHt1zw-Y-",
        "cellView": "form",
        "colab": {
          "base_uri": "https://localhost:8080/"
        },
        "outputId": "6ad6f986-6739-4890-ff37-9fb13e4d1807"
      },
      "source": [
        "#@title Run this cell to submit your notebook for grading { vertical-output: true }\n",
        "try:\n",
        "  if submission_id:\n",
        "      return_id = submit_notebook()\n",
        "      if return_id : submission_id = return_id\n",
        "  else:\n",
        "      print(\"Please complete the setup first.\")\n",
        "except NameError:\n",
        "  print (\"Please complete the setup first.\")"
      ],
      "execution_count": 18,
      "outputs": [
        {
          "output_type": "stream",
          "name": "stdout",
          "text": [
            "Your submission is successful.\n",
            "Ref Id: 2190\n",
            "Date of submission:  21 Jan 2023\n",
            "Time of submission:  19:00:37\n",
            "View your submissions: https://cds.iisc.talentsprint.com/notebook_submissions\n"
          ]
        }
      ]
    },
    {
      "cell_type": "code",
      "source": [],
      "metadata": {
        "id": "FKNaLyqqclic"
      },
      "execution_count": null,
      "outputs": []
    }
  ]
}