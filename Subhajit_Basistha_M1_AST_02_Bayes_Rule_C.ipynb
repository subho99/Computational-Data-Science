{
  "nbformat": 4,
  "nbformat_minor": 0,
  "metadata": {
    "kernelspec": {
      "display_name": "Python 3",
      "language": "python",
      "name": "python3"
    },
    "language_info": {
      "codemirror_mode": {
        "name": "ipython",
        "version": 3
      },
      "file_extension": ".py",
      "mimetype": "text/x-python",
      "name": "python",
      "nbconvert_exporter": "python",
      "pygments_lexer": "ipython3",
      "version": "3.8.5"
    },
    "colab": {
      "provenance": [],
      "include_colab_link": true
    }
  },
  "cells": [
    {
      "cell_type": "markdown",
      "metadata": {
        "id": "view-in-github",
        "colab_type": "text"
      },
      "source": [
        "<a href=\"https://colab.research.google.com/github/subho99/Computational-Data-Science/blob/main/Subhajit_Basistha_M1_AST_02_Bayes_Rule_C.ipynb\" target=\"_parent\"><img src=\"https://colab.research.google.com/assets/colab-badge.svg\" alt=\"Open In Colab\"/></a>"
      ]
    },
    {
      "cell_type": "markdown",
      "metadata": {
        "id": "7dkJp6RbGTuI"
      },
      "source": [
        "# Advanced Certification Program in Computational Data Science\n",
        "## A program by IISc and TalentSprint\n",
        "### Assignment 2: Conditional probability and Bayes' rule"
      ]
    },
    {
      "cell_type": "markdown",
      "metadata": {
        "id": "rvmNcbMxGTuU"
      },
      "source": [
        "## Learning Objectives"
      ]
    },
    {
      "cell_type": "markdown",
      "metadata": {
        "id": "ns4faUTgGTuV"
      },
      "source": [
        "At the end of the experiment, you will be able to\n",
        "\n",
        "* understand the concepts of conditional probability, independence and conditional independence\n",
        "* understand the application of total probability theorem and Bayes' rule"
      ]
    },
    {
      "cell_type": "markdown",
      "metadata": {
        "id": "7IfuqulRGTuV"
      },
      "source": [
        "## Information"
      ]
    },
    {
      "cell_type": "markdown",
      "metadata": {
        "id": "i2ruBeghGTuW"
      },
      "source": [
        "**Why we need conditional probability?**\n",
        "\n",
        "The conditional probability is an essential quantity in wide range of domains, including classification, decision theory, prediction, diagnostics, and other similar situations. That is because one typically makes the classification, decision, prediction, etc. based on some evidence. Thus, what one wants to know is the probability of the result given the evidence.\n",
        "\n",
        "**Terminology**\n",
        "\n",
        "The basic terms related to probability are as follows:\n",
        "\n",
        "- **Experiment:** an action where the result is uncertain even though all the possible outcomes related to it is known in advance. \n",
        "- **Random Experiment:** an experiment is said to be random if it has more than one possible outcome.\n",
        "- **Conditional probability:** a measure of the probability of an event occurring, given that another event has already occurred.\n",
        "- **Independent events:** two events are independent if the occurrence of one does not affect the probability of occurrence of the other.\n",
        "- **Conditional independence:** A and B are conditionally independent given C if and only if, given knowledge that C occurs, knowledge of whether A occurs provides no information on the likelihood of B occurring, and knowledge of whether B occurs provides no information on the likelihood of A occurring."
      ]
    },
    {
      "cell_type": "markdown",
      "metadata": {
        "id": "BNLA8HiKxQhc"
      },
      "source": [
        "### Setup Steps:"
      ]
    },
    {
      "cell_type": "code",
      "metadata": {
        "id": "2YzfoPvJDiTX"
      },
      "source": [
        "#@title Please enter your registration id to start: { run: \"auto\", display-mode: \"form\" }\n",
        "Id = \"P22S03E_test\" #@param {type:\"string\"}"
      ],
      "execution_count": null,
      "outputs": []
    },
    {
      "cell_type": "code",
      "metadata": {
        "id": "AjoZJWGErxGf"
      },
      "source": [
        "#@title Please enter your password (your registered phone number) to continue: { run: \"auto\", display-mode: \"form\" }\n",
        "password = \"9876543212\" #@param {type:\"string\"}"
      ],
      "execution_count": null,
      "outputs": []
    },
    {
      "cell_type": "code",
      "metadata": {
        "id": "WBPPuGmBlDIN",
        "cellView": "form",
        "colab": {
          "base_uri": "https://localhost:8080/",
          "height": 34
        },
        "outputId": "dffcb823-dd53-4709-f8b6-b56bfefd0a83"
      },
      "source": [
        "#@title Run this cell to complete the setup for this Notebook\n",
        "from IPython import get_ipython\n",
        "\n",
        "ipython = get_ipython()\n",
        "  \n",
        "notebook= \"M1_AST_02_Bayes_Rule_C\" #name of the notebook\n",
        "\n",
        "def setup():\n",
        "#  ipython.magic(\"sx pip3 install torch\")  \n",
        "    from IPython.display import HTML, display\n",
        "    display(HTML('<script src=\"https://dashboard.talentsprint.com/aiml/record_ip.html?traineeId={0}&recordId={1}\"></script>'.format(getId(),submission_id)))\n",
        "    print(\"Setup completed successfully\")\n",
        "    return\n",
        "\n",
        "def submit_notebook():\n",
        "    ipython.magic(\"notebook -e \"+ notebook + \".ipynb\")\n",
        "    \n",
        "    import requests, json, base64, datetime\n",
        "\n",
        "    url = \"https://dashboard.talentsprint.com/xp/app/save_notebook_attempts\"\n",
        "    if not submission_id:\n",
        "      data = {\"id\" : getId(), \"notebook\" : notebook, \"mobile\" : getPassword()}\n",
        "      r = requests.post(url, data = data)\n",
        "      r = json.loads(r.text)\n",
        "\n",
        "      if r[\"status\"] == \"Success\":\n",
        "          return r[\"record_id\"]\n",
        "      elif \"err\" in r:        \n",
        "        print(r[\"err\"])\n",
        "        return None        \n",
        "      else:\n",
        "        print (\"Something is wrong, the notebook will not be submitted for grading\")\n",
        "        return None\n",
        "    \n",
        "    elif getAnswer() and getComplexity() and getAdditional() and getConcepts() and getComments() and getMentorSupport():\n",
        "      f = open(notebook + \".ipynb\", \"rb\")\n",
        "      file_hash = base64.b64encode(f.read())\n",
        "\n",
        "      data = {\"complexity\" : Complexity, \"additional\" :Additional, \n",
        "              \"concepts\" : Concepts, \"record_id\" : submission_id, \n",
        "              \"answer\" : Answer, \"id\" : Id, \"file_hash\" : file_hash,\n",
        "              \"notebook\" : notebook,\n",
        "              \"feedback_experiments_input\" : Comments,\n",
        "              \"feedback_mentor_support\": Mentor_support}\n",
        "      r = requests.post(url, data = data)\n",
        "      r = json.loads(r.text)\n",
        "      if \"err\" in r:        \n",
        "        print(r[\"err\"])\n",
        "        return None   \n",
        "      else:\n",
        "        print(\"Your submission is successful.\")\n",
        "        print(\"Ref Id:\", submission_id)\n",
        "        print(\"Date of submission: \", r[\"date\"])\n",
        "        print(\"Time of submission: \", r[\"time\"])\n",
        "        print(\"View your submissions: https://cds.iisc.talentsprint.com/notebook_submissions\")\n",
        "        #print(\"For any queries/discrepancies, please connect with mentors through the chat icon in LMS dashboard.\")\n",
        "        return submission_id\n",
        "    else: submission_id\n",
        "    \n",
        "\n",
        "def getAdditional():\n",
        "  try:\n",
        "    if not Additional: \n",
        "      raise NameError\n",
        "    else:\n",
        "      return Additional  \n",
        "  except NameError:\n",
        "    print (\"Please answer Additional Question\")\n",
        "    return None\n",
        "\n",
        "def getComplexity():\n",
        "  try:\n",
        "    if not Complexity:\n",
        "      raise NameError\n",
        "    else:\n",
        "      return Complexity\n",
        "  except NameError:\n",
        "    print (\"Please answer Complexity Question\")\n",
        "    return None\n",
        "  \n",
        "def getConcepts():\n",
        "  try:\n",
        "    if not Concepts:\n",
        "      raise NameError\n",
        "    else:\n",
        "      return Concepts\n",
        "  except NameError:\n",
        "    print (\"Please answer Concepts Question\")\n",
        "    return None\n",
        "  \n",
        "  \n",
        "# def getWalkthrough():\n",
        "#   try:\n",
        "#     if not Walkthrough:\n",
        "#       raise NameError\n",
        "#     else:\n",
        "#       return Walkthrough\n",
        "#   except NameError:\n",
        "#     print (\"Please answer Walkthrough Question\")\n",
        "#     return None\n",
        "  \n",
        "def getComments():\n",
        "  try:\n",
        "    if not Comments:\n",
        "      raise NameError\n",
        "    else:\n",
        "      return Comments\n",
        "  except NameError:\n",
        "    print (\"Please answer Comments Question\")\n",
        "    return None\n",
        "  \n",
        "\n",
        "def getMentorSupport():\n",
        "  try:\n",
        "    if not Mentor_support:\n",
        "      raise NameError\n",
        "    else:\n",
        "      return Mentor_support\n",
        "  except NameError:\n",
        "    print (\"Please answer Mentor support Question\")\n",
        "    return None\n",
        "\n",
        "def getAnswer():\n",
        "  try:\n",
        "    if not Answer:\n",
        "      raise NameError \n",
        "    else: \n",
        "      return Answer\n",
        "  except NameError:\n",
        "    print (\"Please answer Question\")\n",
        "    return None\n",
        "  \n",
        "\n",
        "def getId():\n",
        "  try: \n",
        "    return Id if Id else None\n",
        "  except NameError:\n",
        "    return None\n",
        "\n",
        "def getPassword():\n",
        "  try:\n",
        "    return password if password else None\n",
        "  except NameError:\n",
        "    return None\n",
        "\n",
        "submission_id = None\n",
        "### Setup \n",
        "if getPassword() and getId():\n",
        "  submission_id = submit_notebook()\n",
        "  if submission_id:\n",
        "    setup() \n",
        "else:\n",
        "  print (\"Please complete Id and Password cells before running setup\")\n",
        "\n"
      ],
      "execution_count": null,
      "outputs": [
        {
          "output_type": "display_data",
          "data": {
            "text/plain": [
              "<IPython.core.display.HTML object>"
            ],
            "text/html": [
              "<script src=\"https://dashboard.talentsprint.com/aiml/record_ip.html?traineeId=P22S03E_test&recordId=9357\"></script>"
            ]
          },
          "metadata": {}
        },
        {
          "output_type": "stream",
          "name": "stdout",
          "text": [
            "Setup completed successfully\n"
          ]
        }
      ]
    },
    {
      "cell_type": "markdown",
      "metadata": {
        "id": "vsrOOwsnGTuW"
      },
      "source": [
        "#### Importing required packages"
      ]
    },
    {
      "cell_type": "code",
      "metadata": {
        "id": "ULEBZPdHGTuX"
      },
      "source": [
        "import numpy as np\n",
        "import pandas as pd\n",
        "import matplotlib.pyplot as plt\n",
        "import seaborn as sns            # Advanced visualization\n",
        "sns.set_style('whitegrid')"
      ],
      "execution_count": null,
      "outputs": []
    },
    {
      "cell_type": "markdown",
      "metadata": {
        "id": "gE2NFC3jGTuX"
      },
      "source": [
        "### Conditional Probability"
      ]
    },
    {
      "cell_type": "markdown",
      "metadata": {
        "id": "1jJTilF5GTuX"
      },
      "source": [
        "The conditional probability of an event $A$ in relationship to an event $B$ is the probability that event $A$ occurs given that event $B$ has already occurred. The notation for conditional probability is $P(A|B)$ i.e. the probability of occurrence of event $A$, given that $B$ has already occurred.\n",
        "\n",
        "### $ P(A|B) = \\frac{P(A∩B)}{P(B)} $\n",
        "                    \n",
        "where, $ P(A∩B) $ is probability of event $ A $ and $ B $ occurring together,\n",
        " \n",
        "$ P(B) $ is the probability of observing $ B $.\n",
        "\n",
        "To know more about conditional probability click [here](https://setosa.io/ev/conditional-probability/)."
      ]
    },
    {
      "cell_type": "markdown",
      "metadata": {
        "id": "JxD7za7aGTuY"
      },
      "source": [
        "**Exercise 1:** A card is drawn randomly from a deck of 52 cards. Find the probability of getting a *king* given it is a *red* card."
      ]
    },
    {
      "cell_type": "markdown",
      "metadata": {
        "id": "zu38iepbGTuY"
      },
      "source": [
        "Let, $K$ – represent the event of getting a king card\n",
        "\n",
        "$R$ – represent the event of getting a red card\n",
        "\n",
        "Then the probability of getting a king given it is a red card can be shown as :\n",
        " \n",
        "$    P(K|R)= \\frac{P(K∩R)}{P(R)}  $\n",
        "\n",
        "where,\n",
        "\n",
        "$P(R)$ – represents probability of getting a red card\n",
        "\n",
        "$P(K∩R)$ – represents probability of getting a king and red card simultaneously "
      ]
    },
    {
      "cell_type": "code",
      "metadata": {
        "id": "KD-XTJHIGTuZ",
        "colab": {
          "base_uri": "https://localhost:8080/"
        },
        "outputId": "e2bb53c8-0997-4012-cf63-f71c1df001cc"
      },
      "source": [
        "P_R = 26/52     # a deck contains half red and half black cards\n",
        "P_K_and_R = 2/52    #   a deck contains only two king cards which are red\n",
        "P_K_given_R = P_K_and_R / P_R\n",
        "print('The probability of getting a king given it is a red card= ', round(P_K_given_R, 4))"
      ],
      "execution_count": null,
      "outputs": [
        {
          "output_type": "stream",
          "name": "stdout",
          "text": [
            "The probability of getting a king given it is a red card=  0.0769\n"
          ]
        }
      ]
    },
    {
      "cell_type": "markdown",
      "metadata": {
        "id": "hF2_CkmFGTua"
      },
      "source": [
        "### Total Probability Theorem"
      ]
    },
    {
      "cell_type": "markdown",
      "metadata": {
        "id": "txh8jCj7GTua"
      },
      "source": [
        "In probability theory, the law of total probability is a fundamental rule relating marginal probabilities to conditional probabilities. It expresses the total probability of an outcome which can be realized via several distinct events.\n",
        "\n",
        "Let events $ E_1, E_2 . . . E_n $ form partitions of the sample space $ S $ as shown in figure below, where all the events have a non-zero probability of occurrence.\n",
        "\n",
        "![image](https://cdn.iisc.talentsprint.com/CDS/Images/total_probability_theorem.jpg)\n",
        "\n",
        "For any event, $ A $ associated with $ S $, according to the total probability theorem,\n",
        " \n",
        "$ P(A) = P(E_1).P(A|E_1) + P(E_2).P(A|E_2) + P(E_3).P(A|E_3) + ..... + P(E_n).P(A|E_n) $\n",
        "\n",
        "where,\n",
        "\n",
        "$ P(A), P(E_1), ..., P(E_n) $ are the probabilities of observing $ A, E_1, E_2,..., E_n $ respectively\n",
        " \n",
        "$ P(A|E_1) $ is a conditional probability: the likelihood of event $ A $ occurring given that $ E_1 $ has already occurred\n",
        "\n",
        "Note – The law of total probability or total probability theorem is used when you don’t know the probability of an event, \n",
        "       but you know its occurrence under several disjoint scenarios and the probability of each scenario.\n",
        "       \n",
        "To know more about total probability theorem click [here](https://corporatefinanceinstitute.com/resources/knowledge/other/total-probability-rule/)."
      ]
    },
    {
      "cell_type": "markdown",
      "metadata": {
        "id": "YRrCg7QwGTua"
      },
      "source": [
        "**Exercise 2**: Suppose that two factories supply machines to the market. Factory X's machines work for over 5000 hours in 99% of cases, whereas factory Y's machines work for over 5000 hours in 95% of cases . It is known that factory X supplies 60% of the machines available and Y supplies 40% of the machines available. What is the chance that a purchased machine will work for longer than 5000 hours?"
      ]
    },
    {
      "cell_type": "markdown",
      "metadata": {
        "id": "1fAh2dCuGTub"
      },
      "source": [
        "The probability that machines work for over 5000 hours will be represented by the total probability theorem as:\n",
        " \n",
        "$    P(A)= P(B_X)P(A|B_X) + P(B_Y)P(A|B_Y)  $\n",
        "    \n",
        "where,\n",
        "    \n",
        "   $ P(A|B_X) $ is the probability that machine works for over 5000 hours given it is manufactured by X.\n",
        "    \n",
        "   $ P(A|B_Y) $ is the probability that machine works for over 5000 hours given it is manufactured by Y."
      ]
    },
    {
      "cell_type": "code",
      "metadata": {
        "id": "jSOp4aKPGTub"
      },
      "source": [
        "# According to question,\n",
        "P_BX = 0.6\n",
        "P_BY = 0.4\n",
        "P_A_given_BX = 0.99\n",
        "P_A_given_BY = 0.95"
      ],
      "execution_count": null,
      "outputs": []
    },
    {
      "cell_type": "code",
      "metadata": {
        "id": "1IOhpBSJGTub",
        "colab": {
          "base_uri": "https://localhost:8080/"
        },
        "outputId": "03397f9c-506f-42f5-ce21-19f513b12dba"
      },
      "source": [
        "P_A = P_BX * P_A_given_BX + P_BY * P_A_given_BY\n",
        "print('The chance that a purchased machine will work for longer than 5000 hours= ', round(P_A*100, 4) ,'%')"
      ],
      "execution_count": null,
      "outputs": [
        {
          "output_type": "stream",
          "name": "stdout",
          "text": [
            "The chance that a purchased machine will work for longer than 5000 hours=  97.4 %\n"
          ]
        }
      ]
    },
    {
      "cell_type": "markdown",
      "metadata": {
        "id": "qQ7FBPedGTub"
      },
      "source": [
        "Now, suppose we want the percent chance that the machine was manufactured by factory X given it is working for over 5000 hours. This can be seen using Bayes theorem."
      ]
    },
    {
      "cell_type": "markdown",
      "metadata": {
        "id": "0mvotMNzGTuc"
      },
      "source": [
        "### Bayes' Rule"
      ]
    },
    {
      "cell_type": "markdown",
      "metadata": {
        "id": "XwVms-skGTuc"
      },
      "source": [
        "Bayes’ Theorem or Bayes’ Rule is named after Reverend Thomas Bayes. It describes the probability of an event, based on prior knowledge of conditions that might be related to that event. The expression for the same is given by\n",
        "\n",
        "### $ P(A|B) = \\frac{P(B|A).P(A)}{P(B)} $\n",
        "\n",
        "where $A$ and $B$ are events and $P(B)≠ 0$\n",
        " \n",
        "- $P(A|B)$ is a conditional probability: the likelihood of event $A$ occurring given that $B$ is true\n",
        "\n",
        "- $P(B|A)$ is also a conditional probability: the likelihood of event $B$ occurring given that $A$ is true\n",
        "\n",
        "- $P(A)$ and $P(B)$ are the probabilities of observing $A$ and $B$ respectively\n",
        "\n",
        "- $A$ and $B$ must be different events\n",
        "\n",
        "To know more about Bayes rule click [here](https://corporatefinanceinstitute.com/resources/knowledge/other/bayes-theorem/)."
      ]
    },
    {
      "cell_type": "markdown",
      "metadata": {
        "id": "e_X8kY4tGTuc"
      },
      "source": [
        "**Exercise 3**: Suppose that two factories supply machines to the market. Factory X's machines work for over 5000 hours in 99% of cases, whereas factory Y's machines work for over 5000 hours in 95% of cases . It is known that factory X supplies 60% of the machines available and Y supplies 40% of the machines available. What is the chance that a purchased machine is manufactured by factory X given it works for longer than 5000 hours?"
      ]
    },
    {
      "cell_type": "markdown",
      "metadata": {
        "id": "qRgrSoBkGTuc"
      },
      "source": [
        "The above desired probability can be represented by the bayes theorem as:\n",
        " \n",
        "### $    P(B_X|A)= \\frac{P(A|B_X).P(B_X)}{P(A)}  $\n",
        "    \n",
        "where, $ P(B_X|A) $ is the probability that machine is manufactured by factory X given it works for over 5000 hours, and\n",
        "\n",
        "   $ P(A|B_X) $ is the probability that machine works for over 5000 hours given it is manufactured by factory X."
      ]
    },
    {
      "cell_type": "code",
      "metadata": {
        "id": "hTJTiUmYGTud"
      },
      "source": [
        "# According to question,\n",
        "P_BX = 0.6\n",
        "P_BY = 0.4\n",
        "P_A_given_BX = 0.99\n",
        "P_A_given_BY = 0.95\n",
        "\n",
        "# Using total probability theorem\n",
        "P_A = P_BX * P_A_given_BX + P_BY * P_A_given_BY"
      ],
      "execution_count": null,
      "outputs": []
    },
    {
      "cell_type": "code",
      "metadata": {
        "id": "9QiEYf0CGTud",
        "colab": {
          "base_uri": "https://localhost:8080/"
        },
        "outputId": "e4ff769e-38f2-490a-e894-83bc4fe23a5e"
      },
      "source": [
        "P_BX_given_A = P_A_given_BX * P_BX / P_A\n",
        "print('The chance that machine is manufactured by factory X given it work for longer than 5000 hours= ', round(P_BX_given_A*100, 2), '%')"
      ],
      "execution_count": null,
      "outputs": [
        {
          "output_type": "stream",
          "name": "stdout",
          "text": [
            "The chance that machine is manufactured by factory X given it work for longer than 5000 hours=  60.99 %\n"
          ]
        }
      ]
    },
    {
      "cell_type": "markdown",
      "metadata": {
        "id": "zXt6h4EbGTud"
      },
      "source": [
        "### Independence"
      ]
    },
    {
      "cell_type": "markdown",
      "metadata": {
        "id": "tX5VjzrCGTue"
      },
      "source": [
        "Two events are independent if the occurrence of one does not affect the probability of occurrence of the other.\n",
        "Independent random variables- Two random variables X and Y are said to be statistically independent if and only if\n",
        "\n",
        "$ P(X,Y) = P(X)P(Y) $\n",
        "\n",
        "where, $ P(X,Y) $ is the joint probability of X and Y\n",
        "\n",
        "Also, independence is equivalent to saying:  $ P(Y|X) = P(Y)$  or  $ P(X|Y) = P(X) $"
      ]
    },
    {
      "cell_type": "markdown",
      "metadata": {
        "id": "F2uKp-EvGTue"
      },
      "source": [
        "**Exercise 4**: Show that getting number of heads in a coin toss and rolling a die are two independent events or not?\n",
        "\n",
        "Let X, Y denotes the events of getting number of heads in a coin toss and getting an even number in rolling a die respectively.\n",
        "\n",
        "Possible outcomes of X are 1 and 0. Similarly, for Y are 1, 2, 3, 4, 5 and 6.\n",
        "\n",
        "Now if two events occur simultaneously then possible outcomes are (1,1), (1,2),..,(1,6), (0,1), (0,2)..and (0,6)."
      ]
    },
    {
      "cell_type": "code",
      "metadata": {
        "id": "W7AbwgmSGTuf"
      },
      "source": [
        "P_X_Y = 3/12   # P(X=1, Y= an even number)   {(1,2), (1,4), (1,6)}\n",
        "\n",
        "P_X = 1/2   # P(X=1)  \n",
        "P_Y = 3/6   # P(Y= an even number)"
      ],
      "execution_count": null,
      "outputs": []
    },
    {
      "cell_type": "code",
      "metadata": {
        "id": "T6y79AZAGTuf",
        "colab": {
          "base_uri": "https://localhost:8080/"
        },
        "outputId": "b47b4f03-269b-425c-d688-a92b33fbb430"
      },
      "source": [
        "# For independence P(X,Y) = P(X)P(Y)\n",
        "P_X_Y == P_X*P_Y"
      ],
      "execution_count": null,
      "outputs": [
        {
          "output_type": "execute_result",
          "data": {
            "text/plain": [
              "True"
            ]
          },
          "metadata": {},
          "execution_count": 11
        }
      ]
    },
    {
      "cell_type": "markdown",
      "metadata": {
        "id": "sUkRvdCMGTug"
      },
      "source": [
        "In above case X and Y are proved to be independent.\n",
        "Now if a third event is occur, then their dependence can be seen through conditional independence."
      ]
    },
    {
      "cell_type": "markdown",
      "metadata": {
        "id": "WcNr5RjYGTuh"
      },
      "source": [
        "### Conditional independence"
      ]
    },
    {
      "cell_type": "markdown",
      "metadata": {
        "id": "DK5U2GvEGTuh"
      },
      "source": [
        "Two random variables X and Y are said to be independent given Z if and only if:\n",
        "\n",
        "$ P(X,Y|Z) = P(X|Z)P(Y|Z) $\n",
        "\n",
        "where, $ P(X,Y|Z) $ is the joint probability of X and Y given Z has occurred.\n",
        "\n",
        "To know more about conditional independence click [here](https://www.probabilitycourse.com/chapter1/1_4_4_conditional_independence.php)."
      ]
    },
    {
      "cell_type": "markdown",
      "metadata": {
        "id": "_hA9QafXGTui"
      },
      "source": [
        "**Exercise 5**: Show that getting number of heads in a coin toss and rolling a die are two independent events or not, given a king is drawn from a deck of cards?\n",
        "\n",
        "Let X, Y, Z denotes the events of getting number of heads in a coin toss, getting an even number in rolling a die and getting a king from a card deck respectively.\n",
        "\n",
        "Possible outcomes of X are 1 and 0. Similarly, for Y are 1, 2, 3, 4, 5 and 6.\n",
        "\n",
        "Now if two events occur simultaneously then possible outcomes are (1,1), (1,2),..,(1,6), (0,1), (0,2)..and (0,6)."
      ]
    },
    {
      "cell_type": "code",
      "metadata": {
        "id": "Vo7HTky_GTui"
      },
      "source": [
        "# Getting a king from a deck doesn't change the outcomes of coin toss and rolling a die\n",
        "P_X_Y_given_Z = 3/12   # P(X=1, Y= an even number)   {(1,2), (1,4), (1,6)}\n",
        "\n",
        "P_X_given_Z = 1/2   # P(X=1)  \n",
        "P_Y_given_Z = 3/6   # P(Y= an even number)"
      ],
      "execution_count": null,
      "outputs": []
    },
    {
      "cell_type": "code",
      "metadata": {
        "id": "RuDURCJGGTui",
        "colab": {
          "base_uri": "https://localhost:8080/"
        },
        "outputId": "794e6bd8-06e5-48f2-e93a-5b0885c788ff"
      },
      "source": [
        "# For independence P(X,Y) = P(X)P(Y)\n",
        "P_X_Y_given_Z == P_X_given_Z * P_Y_given_Z"
      ],
      "execution_count": null,
      "outputs": [
        {
          "output_type": "execute_result",
          "data": {
            "text/plain": [
              "True"
            ]
          },
          "metadata": {},
          "execution_count": 13
        }
      ]
    },
    {
      "cell_type": "markdown",
      "metadata": {
        "id": "UnKxrHqLGTuj"
      },
      "source": [
        "Therefore, X and Y are independent as well as conditionally independent for Z denoted as getting a king from a deck. "
      ]
    },
    {
      "cell_type": "markdown",
      "metadata": {
        "id": "VHfHdGCP_n6Y"
      },
      "source": [
        "### Please answer the questions below to complete the experiment:\n",
        "\n",
        "\n"
      ]
    },
    {
      "cell_type": "code",
      "metadata": {
        "id": "VgSwVENIPcM6"
      },
      "source": [
        "# @title A spam filter is designed by looking at commonly occurring phrases in spam. Suppose that 90% of email is spam. In 15% of the spam emails, the phrase “free money” is used, whereas this phrase is only used in 5% of non-spam emails. A new email has just arrived, which does mention “free money”. What is the probability that it is spam? { run: \"auto\", form-width: \"500px\", display-mode: \"form\" }\n",
        "Answer = \"\" #@param [\"\",\"0.8765\",\"0.7956\", \"0.9642\"]"
      ],
      "execution_count": null,
      "outputs": []
    },
    {
      "cell_type": "code",
      "metadata": {
        "id": "NMzKSbLIgFzQ"
      },
      "source": [
        "#@title How was the experiment? { run: \"auto\", form-width: \"500px\", display-mode: \"form\" }\n",
        "Complexity = \"\" #@param [\"\",\"Too Simple, I am wasting time\", \"Good, But Not Challenging for me\", \"Good and Challenging for me\", \"Was Tough, but I did it\", \"Too Difficult for me\"]\n"
      ],
      "execution_count": null,
      "outputs": []
    },
    {
      "cell_type": "code",
      "metadata": {
        "id": "DjcH1VWSFI2l"
      },
      "source": [
        "#@title If it was too easy, what more would you have liked to be added? If it was very difficult, what would you have liked to have been removed? { run: \"auto\", display-mode: \"form\" }\n",
        "Additional = \"\" #@param {type:\"string\"}\n"
      ],
      "execution_count": null,
      "outputs": []
    },
    {
      "cell_type": "code",
      "metadata": {
        "id": "4VBk_4VTAxCM"
      },
      "source": [
        "#@title Can you identify the concepts from the lecture which this experiment covered? { run: \"auto\", vertical-output: true, display-mode: \"form\" }\n",
        "Concepts = \"\" #@param [\"\",\"Yes\", \"No\"]\n"
      ],
      "execution_count": null,
      "outputs": []
    },
    {
      "cell_type": "code",
      "metadata": {
        "id": "XH91cL1JWH7m"
      },
      "source": [
        "#@title  Text and image description/explanation and code comments within the experiment: { run: \"auto\", vertical-output: true, display-mode: \"form\" }\n",
        "Comments = \"\" #@param [\"\",\"Very Useful\", \"Somewhat Useful\", \"Not Useful\", \"Didn't use\"]\n"
      ],
      "execution_count": null,
      "outputs": []
    },
    {
      "cell_type": "code",
      "metadata": {
        "id": "z8xLqj7VWIKW"
      },
      "source": [
        "#@title Mentor Support: { run: \"auto\", vertical-output: true, display-mode: \"form\" }\n",
        "Mentor_support = \"\" #@param [\"\",\"Very Useful\", \"Somewhat Useful\", \"Not Useful\", \"Didn't use\"]\n"
      ],
      "execution_count": null,
      "outputs": []
    },
    {
      "cell_type": "code",
      "metadata": {
        "id": "FzAZHt1zw-Y-",
        "cellView": "form",
        "colab": {
          "base_uri": "https://localhost:8080/"
        },
        "outputId": "ac526655-2e64-4ce3-9c34-f24e3428020e"
      },
      "source": [
        "#@title Run this cell to submit your notebook for grading { vertical-output: true }\n",
        "try:\n",
        "  if submission_id:\n",
        "      return_id = submit_notebook()\n",
        "      if return_id : submission_id = return_id\n",
        "  else:\n",
        "      print(\"Please complete the setup first.\")\n",
        "except NameError:\n",
        "  print (\"Please complete the setup first.\")"
      ],
      "execution_count": null,
      "outputs": [
        {
          "output_type": "stream",
          "name": "stdout",
          "text": [
            "Please answer Question\n"
          ]
        }
      ]
    },
    {
      "cell_type": "code",
      "source": [],
      "metadata": {
        "id": "97kdEtTfkb1E"
      },
      "execution_count": null,
      "outputs": []
    }
  ]
}