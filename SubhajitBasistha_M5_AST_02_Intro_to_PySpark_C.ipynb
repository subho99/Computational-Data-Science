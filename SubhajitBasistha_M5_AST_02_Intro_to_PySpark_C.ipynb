{
  "nbformat": 4,
  "nbformat_minor": 0,
  "metadata": {
    "kernelspec": {
      "display_name": "Python 3",
      "name": "python3"
    },
    "language_info": {
      "codemirror_mode": {
        "name": "ipython",
        "version": 3
      },
      "file_extension": ".py",
      "mimetype": "text/x-python",
      "name": "python",
      "nbconvert_exporter": "python",
      "pygments_lexer": "ipython3",
      "version": "3.8.5"
    },
    "colab": {
      "provenance": [],
      "gpuType": "T4",
      "include_colab_link": true
    },
    "accelerator": "GPU"
  },
  "cells": [
    {
      "cell_type": "markdown",
      "metadata": {
        "id": "view-in-github",
        "colab_type": "text"
      },
      "source": [
        "<a href=\"https://colab.research.google.com/github/subho99/Computational-Data-Science/blob/main/SubhajitBasistha_M5_AST_02_Intro_to_PySpark_C.ipynb\" target=\"_parent\"><img src=\"https://colab.research.google.com/assets/colab-badge.svg\" alt=\"Open In Colab\"/></a>"
      ]
    },
    {
      "cell_type": "markdown",
      "metadata": {
        "id": "Nr6L0U0ahbzr"
      },
      "source": [
        "# Advanced Certification Program in Computational Data Science\n",
        "## A program by IISc and TalentSprint\n",
        "### Assignment 2: Intro to PySpark"
      ]
    },
    {
      "cell_type": "markdown",
      "metadata": {
        "id": "hJ-wAYVIhbzu"
      },
      "source": [
        "## Learning Objectives"
      ]
    },
    {
      "cell_type": "markdown",
      "metadata": {
        "id": "vnSM9v-nhbzv"
      },
      "source": [
        "At the end of the experiment, you will be able to\n",
        "\n",
        "* interact with Spark using python\n",
        "* understand Spark dataframes\n",
        "* implement linear regression using PySpark"
      ]
    },
    {
      "cell_type": "markdown",
      "metadata": {
        "id": "O3T1Tj2fhbzw"
      },
      "source": [
        "### Dataset"
      ]
    },
    {
      "cell_type": "markdown",
      "metadata": {
        "id": "m8LVD5gchbzw"
      },
      "source": [
        "The dataset chosen for this assignment is [Ecommerce customers](https://www.kaggle.com/srolka/ecommerce-customers). The dataset is made up of 500 records and 8 columns. It has customer information, such as e-mail, address, and their color avatar. Then it also has numerical value columns.\n",
        "\n",
        "* Avg Session Length: Average session of in-store style advice sessions\n",
        "* Time on App: Average time spent on App in minutes\n",
        "* Time on Website: Average time spent on Website in minutes\n",
        "* Length of Membership: How many years the customer has been a member.\n",
        "* Yearly Amount Spent\n",
        "\n",
        "Here, we will be using the first four features to perform linear regression using spark and predict Yearly Amount Spent by each customer."
      ]
    },
    {
      "cell_type": "markdown",
      "metadata": {
        "id": "jS6X9xQQhbzx"
      },
      "source": [
        "### Information"
      ]
    },
    {
      "cell_type": "markdown",
      "metadata": {
        "id": "FLUYa2jkhbzx"
      },
      "source": [
        "**Why do we need Spark?**\n",
        "\n",
        "Spark is one of the latest technologies being used to quickly and easily handle Big Data. Spark is an open-source distributed computing framework that promises a clean and pleasurable experience similar to that of Pandas, while scaling to large data sets via a distributed architecture under the hood.\n",
        "\n",
        "Apache Spark is a powerful cluster computing engine, therefore it is designed for fast computation of big data. Spark runs on Memory (RAM), and that makes the processing much faster than on Disk. It includes \"MLlib\" library to perform Machine Learning tasks using the Spark framework."
      ]
    },
    {
      "cell_type": "markdown",
      "metadata": {
        "id": "yP0oxBKKhbzx"
      },
      "source": [
        "### Introduction"
      ]
    },
    {
      "cell_type": "markdown",
      "metadata": {
        "id": "b-MIetu-hbzy"
      },
      "source": [
        "Apache Spark is known as a fast, easy to use and general engine for big data processing, with built-in modules for streaming, SQL, machine learning and graph processing. It’s well-known for its speed, ease of use, generality and the ability to run virtually everywhere. And even though Spark is one of the most asked tools for data engineers, also data scientists can benefit from Spark when doing exploratory data analysis, feature extraction, supervised learning and model evaluation.\n",
        "\n",
        "Spark is a platform for cluster computing that lets you spread data and computations over clusters with multiple nodes (think of each node as a separate computer). Splitting up your data makes it easier to work with very large datasets because each node only works with a small amount of data.\n",
        "\n",
        "As each node works on its own subset of the total data, it also carries out a part of the total calculations required, so that both data processing and computation are performed in parallel over the nodes in the cluster. It is a fact that parallel computation can make certain types of programming tasks much faster."
      ]
    },
    {
      "cell_type": "markdown",
      "metadata": {
        "id": "BNLA8HiKxQhc"
      },
      "source": [
        "### Setup Steps:"
      ]
    },
    {
      "cell_type": "code",
      "metadata": {
        "id": "2YzfoPvJDiTX"
      },
      "source": [
        "#@title Please enter your registration id to start: { run: \"auto\", display-mode: \"form\" }\n",
        "Id = \"2236624\" #@param {type:\"string\"}"
      ],
      "execution_count": 1,
      "outputs": []
    },
    {
      "cell_type": "code",
      "metadata": {
        "id": "AjoZJWGErxGf"
      },
      "source": [
        "#@title Please enter your password (your registered phone number) to continue: { run: \"auto\", display-mode: \"form\" }\n",
        "password = \"8240187807\" #@param {type:\"string\"}"
      ],
      "execution_count": 2,
      "outputs": []
    },
    {
      "cell_type": "code",
      "metadata": {
        "id": "WBPPuGmBlDIN",
        "cellView": "form",
        "colab": {
          "base_uri": "https://localhost:8080/",
          "height": 34
        },
        "outputId": "fec7c92c-3318-4c90-fb80-d029ac489ec7"
      },
      "source": [
        "#@title Run this cell to complete the setup for this Notebook\n",
        "from IPython import get_ipython\n",
        "\n",
        "ipython = get_ipython()\n",
        "\n",
        "notebook= \"M5_AST_02_Intro_to_PySpark_C\" #name of the notebook\n",
        "\n",
        "def setup():\n",
        "#  ipython.magic(\"sx pip3 install torch\")\n",
        "    ipython.magic(\"sx wget https://cdn.iisc.talentsprint.com/CDS/Datasets/ecommerce_customers_.csv\")\n",
        "    from IPython.display import HTML, display\n",
        "    display(HTML('<script src=\"https://dashboard.talentsprint.com/aiml/record_ip.html?traineeId={0}&recordId={1}\"></script>'.format(getId(),submission_id)))\n",
        "    print(\"Setup completed successfully\")\n",
        "    return\n",
        "\n",
        "def submit_notebook():\n",
        "    ipython.magic(\"notebook -e \"+ notebook + \".ipynb\")\n",
        "\n",
        "    import requests, json, base64, datetime\n",
        "\n",
        "    url = \"https://dashboard.talentsprint.com/xp/app/save_notebook_attempts\"\n",
        "    if not submission_id:\n",
        "      data = {\"id\" : getId(), \"notebook\" : notebook, \"mobile\" : getPassword()}\n",
        "      r = requests.post(url, data = data)\n",
        "      r = json.loads(r.text)\n",
        "\n",
        "      if r[\"status\"] == \"Success\":\n",
        "          return r[\"record_id\"]\n",
        "      elif \"err\" in r:\n",
        "        print(r[\"err\"])\n",
        "        return None\n",
        "      else:\n",
        "        print (\"Something is wrong, the notebook will not be submitted for grading\")\n",
        "        return None\n",
        "\n",
        "    elif getAnswer() and getComplexity() and getAdditional() and getConcepts() and getComments() and getMentorSupport():\n",
        "      f = open(notebook + \".ipynb\", \"rb\")\n",
        "      file_hash = base64.b64encode(f.read())\n",
        "\n",
        "      data = {\"complexity\" : Complexity, \"additional\" :Additional,\n",
        "              \"concepts\" : Concepts, \"record_id\" : submission_id,\n",
        "              \"answer\" : Answer, \"id\" : Id, \"file_hash\" : file_hash,\n",
        "              \"notebook\" : notebook,\n",
        "              \"feedback_experiments_input\" : Comments,\n",
        "              \"feedback_mentor_support\": Mentor_support}\n",
        "      r = requests.post(url, data = data)\n",
        "      r = json.loads(r.text)\n",
        "      if \"err\" in r:\n",
        "        print(r[\"err\"])\n",
        "        return None\n",
        "      else:\n",
        "        print(\"Your submission is successful.\")\n",
        "        print(\"Ref Id:\", submission_id)\n",
        "        print(\"Date of submission: \", r[\"date\"])\n",
        "        print(\"Time of submission: \", r[\"time\"])\n",
        "        print(\"View your submissions: https://cds.iisc.talentsprint.com/notebook_submissions\")\n",
        "        #print(\"For any queries/discrepancies, please connect with mentors through the chat icon in LMS dashboard.\")\n",
        "        return submission_id\n",
        "    else: submission_id\n",
        "\n",
        "\n",
        "def getAdditional():\n",
        "  try:\n",
        "    if not Additional:\n",
        "      raise NameError\n",
        "    else:\n",
        "      return Additional\n",
        "  except NameError:\n",
        "    print (\"Please answer Additional Question\")\n",
        "    return None\n",
        "\n",
        "def getComplexity():\n",
        "  try:\n",
        "    if not Complexity:\n",
        "      raise NameError\n",
        "    else:\n",
        "      return Complexity\n",
        "  except NameError:\n",
        "    print (\"Please answer Complexity Question\")\n",
        "    return None\n",
        "\n",
        "def getConcepts():\n",
        "  try:\n",
        "    if not Concepts:\n",
        "      raise NameError\n",
        "    else:\n",
        "      return Concepts\n",
        "  except NameError:\n",
        "    print (\"Please answer Concepts Question\")\n",
        "    return None\n",
        "\n",
        "\n",
        "# def getWalkthrough():\n",
        "#   try:\n",
        "#     if not Walkthrough:\n",
        "#       raise NameError\n",
        "#     else:\n",
        "#       return Walkthrough\n",
        "#   except NameError:\n",
        "#     print (\"Please answer Walkthrough Question\")\n",
        "#     return None\n",
        "\n",
        "def getComments():\n",
        "  try:\n",
        "    if not Comments:\n",
        "      raise NameError\n",
        "    else:\n",
        "      return Comments\n",
        "  except NameError:\n",
        "    print (\"Please answer Comments Question\")\n",
        "    return None\n",
        "\n",
        "\n",
        "def getMentorSupport():\n",
        "  try:\n",
        "    if not Mentor_support:\n",
        "      raise NameError\n",
        "    else:\n",
        "      return Mentor_support\n",
        "  except NameError:\n",
        "    print (\"Please answer Mentor support Question\")\n",
        "    return None\n",
        "\n",
        "def getAnswer():\n",
        "  try:\n",
        "    if not Answer:\n",
        "      raise NameError\n",
        "    else:\n",
        "      return Answer\n",
        "  except NameError:\n",
        "    print (\"Please answer Question\")\n",
        "    return None\n",
        "\n",
        "\n",
        "def getId():\n",
        "  try:\n",
        "    return Id if Id else None\n",
        "  except NameError:\n",
        "    return None\n",
        "\n",
        "def getPassword():\n",
        "  try:\n",
        "    return password if password else None\n",
        "  except NameError:\n",
        "    return None\n",
        "\n",
        "submission_id = None\n",
        "### Setup\n",
        "if getPassword() and getId():\n",
        "  submission_id = submit_notebook()\n",
        "  if submission_id:\n",
        "    setup()\n",
        "else:\n",
        "  print (\"Please complete Id and Password cells before running setup\")\n",
        "\n"
      ],
      "execution_count": 3,
      "outputs": [
        {
          "output_type": "display_data",
          "data": {
            "text/plain": [
              "<IPython.core.display.HTML object>"
            ],
            "text/html": [
              "<script src=\"https://dashboard.talentsprint.com/aiml/record_ip.html?traineeId=2236624&recordId=6051\"></script>"
            ]
          },
          "metadata": {}
        },
        {
          "output_type": "stream",
          "name": "stdout",
          "text": [
            "Setup completed successfully\n"
          ]
        }
      ]
    },
    {
      "cell_type": "markdown",
      "metadata": {
        "id": "dxCv5teXYANs"
      },
      "source": [
        "### Importing required packages"
      ]
    },
    {
      "cell_type": "code",
      "metadata": {
        "id": "ZB8vMNkUYANt"
      },
      "source": [
        "import matplotlib.pyplot as plt\n",
        "import seaborn as sns"
      ],
      "execution_count": 4,
      "outputs": []
    },
    {
      "cell_type": "markdown",
      "metadata": {
        "id": "4dwQCqpwhbzy"
      },
      "source": [
        "### PySpark"
      ]
    },
    {
      "cell_type": "markdown",
      "metadata": {
        "id": "GYVoE0nThbzz"
      },
      "source": [
        "PySpark is an interface for Apache Spark in Python. It not only allows you to write Spark applications using Python APIs, but also provides the PySpark shell for interactively analyzing your data in a distributed environment. PySpark supports most of Spark’s features such as Spark SQL, DataFrame, Streaming, MLlib (Machine Learning) and Spark Core.\n",
        "\n",
        "<figure>\n",
        "<img src='https://cdn.iisc.talentsprint.com/CDS/Images/pyspark_components.png' width = 700 px/>\n",
        "</figure>\n",
        "\n",
        "**Spark SQL and DataFrame**\n",
        "\n",
        "Spark SQL is a Spark module for structured data processing. It provides a programming abstraction called DataFrame and can also act as distributed SQL query engine.\n",
        "\n",
        "**Streaming**\n",
        "\n",
        "Running on top of Spark, the streaming feature in Apache Spark enables powerful interactive and analytical applications across both streaming and historical data, while inheriting Spark’s ease of use and fault tolerance characteristics.\n",
        "\n",
        "**MLlib**\n",
        "\n",
        "Built on top of Spark, MLlib is a scalable machine learning library that provides a uniform set of high-level APIs that help users create and tune practical machine learning pipelines.\n",
        "\n",
        "**Spark Core**\n",
        "\n",
        "Spark Core is the underlying general execution engine for the Spark platform that all other functionality is built on top of. It provides an RDD (Resilient Distributed Dataset) and in-memory computing capabilities."
      ]
    },
    {
      "cell_type": "markdown",
      "metadata": {
        "id": "tuVyxDSAhbzz"
      },
      "source": [
        "#### Install PySpark"
      ]
    },
    {
      "cell_type": "code",
      "metadata": {
        "id": "dpbyJFSZhbzz",
        "colab": {
          "base_uri": "https://localhost:8080/"
        },
        "outputId": "20ad7865-43cd-4518-dec6-10c71833e115"
      },
      "source": [
        "!pip install pyspark"
      ],
      "execution_count": 5,
      "outputs": [
        {
          "output_type": "stream",
          "name": "stdout",
          "text": [
            "Collecting pyspark\n",
            "  Downloading pyspark-3.4.1.tar.gz (310.8 MB)\n",
            "\u001b[2K     \u001b[90m━━━━━━━━━━━━━━━━━━━━━━━━━━━━━━━━━━━━━━━\u001b[0m \u001b[32m310.8/310.8 MB\u001b[0m \u001b[31m3.2 MB/s\u001b[0m eta \u001b[36m0:00:00\u001b[0m\n",
            "\u001b[?25h  Preparing metadata (setup.py) ... \u001b[?25l\u001b[?25hdone\n",
            "Requirement already satisfied: py4j==0.10.9.7 in /usr/local/lib/python3.10/dist-packages (from pyspark) (0.10.9.7)\n",
            "Building wheels for collected packages: pyspark\n",
            "  Building wheel for pyspark (setup.py) ... \u001b[?25l\u001b[?25hdone\n",
            "  Created wheel for pyspark: filename=pyspark-3.4.1-py2.py3-none-any.whl size=311285397 sha256=6e200e6d9137ec813f9308318c2b779657987bfe2484ff0b491e0c8a389b068e\n",
            "  Stored in directory: /root/.cache/pip/wheels/0d/77/a3/ff2f74cc9ab41f8f594dabf0579c2a7c6de920d584206e0834\n",
            "Successfully built pyspark\n",
            "Installing collected packages: pyspark\n",
            "Successfully installed pyspark-3.4.1\n"
          ]
        }
      ]
    },
    {
      "cell_type": "markdown",
      "metadata": {
        "id": "1-JqQmojhbz0"
      },
      "source": [
        "#### Start a Spark Session"
      ]
    },
    {
      "cell_type": "markdown",
      "metadata": {
        "id": "Vju8S9ZWhbz0"
      },
      "source": [
        "Spark session is a combined entry point of a Spark application, which came into implementation from Spark 2.0. It provides a way to interact with various spark’s functionality with a lesser number of constructs. Instead of having spark context, hive context, SQL context, now everything is encapsulated in a Spark session."
      ]
    },
    {
      "cell_type": "code",
      "metadata": {
        "id": "bdlUo9HFhbz0",
        "colab": {
          "base_uri": "https://localhost:8080/",
          "height": 219
        },
        "outputId": "9e0ee5fe-cd90-4926-d23b-69ed35856744"
      },
      "source": [
        "# Start spark session\n",
        "from pyspark.sql import SparkSession\n",
        "spark = SparkSession.builder.appName('LinearRegression').getOrCreate()\n",
        "spark"
      ],
      "execution_count": 6,
      "outputs": [
        {
          "output_type": "execute_result",
          "data": {
            "text/plain": [
              "<pyspark.sql.session.SparkSession at 0x79c4d6f240a0>"
            ],
            "text/html": [
              "\n",
              "            <div>\n",
              "                <p><b>SparkSession - in-memory</b></p>\n",
              "                \n",
              "        <div>\n",
              "            <p><b>SparkContext</b></p>\n",
              "\n",
              "            <p><a href=\"http://713c407f42de:4040\">Spark UI</a></p>\n",
              "\n",
              "            <dl>\n",
              "              <dt>Version</dt>\n",
              "                <dd><code>v3.4.1</code></dd>\n",
              "              <dt>Master</dt>\n",
              "                <dd><code>local[*]</code></dd>\n",
              "              <dt>AppName</dt>\n",
              "                <dd><code>LinearRegression</code></dd>\n",
              "            </dl>\n",
              "        </div>\n",
              "        \n",
              "            </div>\n",
              "        "
            ]
          },
          "metadata": {},
          "execution_count": 6
        }
      ]
    },
    {
      "cell_type": "markdown",
      "metadata": {
        "id": "ryDcIBTYhbz1"
      },
      "source": [
        "### Data Processing using Pyspark"
      ]
    },
    {
      "cell_type": "markdown",
      "metadata": {
        "id": "qfm30-_ghbz1"
      },
      "source": [
        "#### Loading data into PySpark"
      ]
    },
    {
      "cell_type": "markdown",
      "metadata": {
        "id": "2YyXV9pthbz1"
      },
      "source": [
        "To load the dataset we will use the `read.csv` module.  The `inferSchema` parameter provided will enable Spark to automatically determine the data type for each column. Also, `header` and `sep` parameters are given as the dataset contains header, and values are separated using vertical bar."
      ]
    },
    {
      "cell_type": "code",
      "metadata": {
        "id": "5g1oX-k0hbz2"
      },
      "source": [
        "df = spark.read.csv(\"ecommerce_customers_.csv\", sep = \"|\", header=True, inferSchema = True)           # creating spark data frame"
      ],
      "execution_count": 7,
      "outputs": []
    },
    {
      "cell_type": "markdown",
      "metadata": {
        "id": "fe2TqI_7hbz3"
      },
      "source": [
        "#### Data exploration with PySpark"
      ]
    },
    {
      "cell_type": "markdown",
      "metadata": {
        "id": "6MOtesQghbz3"
      },
      "source": [
        "* Display data types of dataframe columns"
      ]
    },
    {
      "cell_type": "code",
      "metadata": {
        "id": "z_xCliuMhbz4",
        "colab": {
          "base_uri": "https://localhost:8080/"
        },
        "outputId": "15a4059c-a635-4ab9-81b5-26f081e12eac"
      },
      "source": [
        "# Print the data types\n",
        "df.dtypes"
      ],
      "execution_count": 8,
      "outputs": [
        {
          "output_type": "execute_result",
          "data": {
            "text/plain": [
              "[('Email', 'string'),\n",
              " ('Address', 'string'),\n",
              " ('Avatar', 'string'),\n",
              " ('Avg Session Length', 'double'),\n",
              " ('Time on App', 'double'),\n",
              " ('Time on Website', 'double'),\n",
              " ('Length of Membership', 'double'),\n",
              " ('Yearly Amount Spent', 'double')]"
            ]
          },
          "metadata": {},
          "execution_count": 8
        }
      ]
    },
    {
      "cell_type": "markdown",
      "metadata": {
        "id": "EfpmyItPhbz4"
      },
      "source": [
        "* Display column details"
      ]
    },
    {
      "cell_type": "code",
      "metadata": {
        "id": "KOnGCTXZhbz4",
        "colab": {
          "base_uri": "https://localhost:8080/"
        },
        "outputId": "c89c3582-d51a-468c-e204-adbd4339189f"
      },
      "source": [
        "# Print the Schema of the DataFrame\n",
        "df.printSchema()"
      ],
      "execution_count": 9,
      "outputs": [
        {
          "output_type": "stream",
          "name": "stdout",
          "text": [
            "root\n",
            " |-- Email: string (nullable = true)\n",
            " |-- Address: string (nullable = true)\n",
            " |-- Avatar: string (nullable = true)\n",
            " |-- Avg Session Length: double (nullable = true)\n",
            " |-- Time on App: double (nullable = true)\n",
            " |-- Time on Website: double (nullable = true)\n",
            " |-- Length of Membership: double (nullable = true)\n",
            " |-- Yearly Amount Spent: double (nullable = true)\n",
            "\n"
          ]
        }
      ]
    },
    {
      "cell_type": "markdown",
      "metadata": {
        "id": "nRI0Hi6phbz5"
      },
      "source": [
        "* Display rows"
      ]
    },
    {
      "cell_type": "code",
      "metadata": {
        "id": "B4pNnsfwhbz5",
        "colab": {
          "base_uri": "https://localhost:8080/"
        },
        "outputId": "2eb5acc6-e1da-4254-849a-f7a8de7fb91f"
      },
      "source": [
        "df.show(5)"
      ],
      "execution_count": 10,
      "outputs": [
        {
          "output_type": "stream",
          "name": "stdout",
          "text": [
            "+--------------------+--------------------+----------------+------------------+------------------+------------------+--------------------+-------------------+\n",
            "|               Email|             Address|          Avatar|Avg Session Length|       Time on App|   Time on Website|Length of Membership|Yearly Amount Spent|\n",
            "+--------------------+--------------------+----------------+------------------+------------------+------------------+--------------------+-------------------+\n",
            "|mstephenson@ferna...|835 Frank TunnelW...|          Violet| 34.49726772511229| 12.65565114916675| 39.57766801952616|  4.0826206329529615|  587.9510539684005|\n",
            "|   hduke@hotmail.com|4547 Archer Commo...|       DarkGreen| 31.92627202636016|11.109460728682564|37.268958868297744|    2.66403418213262|  392.2049334443264|\n",
            "|    pallen@yahoo.com|24645 Valerie Uni...|          Bisque|33.000914755642675|11.330278057777512|37.110597442120856|   4.104543202376424| 487.54750486747207|\n",
            "|riverarebecca@gma...|1414 David Throug...|     SaddleBrown| 34.30555662975554|13.717513665142507| 36.72128267790313|   3.120178782748092|  581.8523440352177|\n",
            "|mstephens@davidso...|14023 Rodriguez P...|MediumAquaMarine| 33.33067252364639|12.795188551078114| 37.53665330059473|   4.446308318351434|  599.4060920457634|\n",
            "+--------------------+--------------------+----------------+------------------+------------------+------------------+--------------------+-------------------+\n",
            "only showing top 5 rows\n",
            "\n"
          ]
        }
      ]
    },
    {
      "cell_type": "markdown",
      "metadata": {
        "id": "OicqJUYfhbz5"
      },
      "source": [
        "* Display total number of rows"
      ]
    },
    {
      "cell_type": "code",
      "metadata": {
        "id": "iVMYaotJhbz5",
        "colab": {
          "base_uri": "https://localhost:8080/"
        },
        "outputId": "e2e7ddaa-fc3b-4e1a-e779-cb1d51adce8e"
      },
      "source": [
        "df.count()"
      ],
      "execution_count": 11,
      "outputs": [
        {
          "output_type": "execute_result",
          "data": {
            "text/plain": [
              "500"
            ]
          },
          "metadata": {},
          "execution_count": 11
        }
      ]
    },
    {
      "cell_type": "markdown",
      "metadata": {
        "id": "IJLKs8i3hbz6"
      },
      "source": [
        "* Display column labels"
      ]
    },
    {
      "cell_type": "code",
      "metadata": {
        "id": "0CbPm_VUhbz6",
        "colab": {
          "base_uri": "https://localhost:8080/"
        },
        "outputId": "ee484e2e-9d42-40b3-ea76-96f44d108d04"
      },
      "source": [
        "df.columns"
      ],
      "execution_count": 12,
      "outputs": [
        {
          "output_type": "execute_result",
          "data": {
            "text/plain": [
              "['Email',\n",
              " 'Address',\n",
              " 'Avatar',\n",
              " 'Avg Session Length',\n",
              " 'Time on App',\n",
              " 'Time on Website',\n",
              " 'Length of Membership',\n",
              " 'Yearly Amount Spent']"
            ]
          },
          "metadata": {},
          "execution_count": 12
        }
      ]
    },
    {
      "cell_type": "markdown",
      "metadata": {
        "id": "Tbp-QZ3fhbz6"
      },
      "source": [
        "* Display specific columns"
      ]
    },
    {
      "cell_type": "code",
      "metadata": {
        "id": "uicyXLDAhbz6",
        "colab": {
          "base_uri": "https://localhost:8080/"
        },
        "outputId": "a2f6eec0-4dfe-479b-8252-32d2809d7912"
      },
      "source": [
        "columns = [\"Email\",\"Time on App\",\"Time on Website\"]\n",
        "df.select(columns).show(5)"
      ],
      "execution_count": 13,
      "outputs": [
        {
          "output_type": "stream",
          "name": "stdout",
          "text": [
            "+--------------------+------------------+------------------+\n",
            "|               Email|       Time on App|   Time on Website|\n",
            "+--------------------+------------------+------------------+\n",
            "|mstephenson@ferna...| 12.65565114916675| 39.57766801952616|\n",
            "|   hduke@hotmail.com|11.109460728682564|37.268958868297744|\n",
            "|    pallen@yahoo.com|11.330278057777512|37.110597442120856|\n",
            "|riverarebecca@gma...|13.717513665142507| 36.72128267790313|\n",
            "|mstephens@davidso...|12.795188551078114| 37.53665330059473|\n",
            "+--------------------+------------------+------------------+\n",
            "only showing top 5 rows\n",
            "\n"
          ]
        }
      ]
    },
    {
      "cell_type": "markdown",
      "metadata": {
        "id": "zyJyBM-Chbz6"
      },
      "source": [
        "* Display the statistics of dataframe"
      ]
    },
    {
      "cell_type": "code",
      "metadata": {
        "id": "qEcVV2Achbz7",
        "colab": {
          "base_uri": "https://localhost:8080/"
        },
        "outputId": "021b8f48-e071-452f-8965-70adf0dcebe7"
      },
      "source": [
        "df.describe().show()"
      ],
      "execution_count": 14,
      "outputs": [
        {
          "output_type": "stream",
          "name": "stdout",
          "text": [
            "+-------+-----------------+--------------------+-----------+------------------+------------------+------------------+--------------------+-------------------+\n",
            "|summary|            Email|             Address|     Avatar|Avg Session Length|       Time on App|   Time on Website|Length of Membership|Yearly Amount Spent|\n",
            "+-------+-----------------+--------------------+-----------+------------------+------------------+------------------+--------------------+-------------------+\n",
            "|  count|              500|                 500|        500|               500|               500|               500|                 500|                500|\n",
            "|   mean|             null|                null|       null| 33.05319351819619|12.052487937166134| 37.06044542094859|   3.533461555915055|  499.3140382585909|\n",
            "| stddev|             null|                null|       null|0.9925631110845354|0.9942156084725424|1.0104889067564033|  0.9992775024112585|   79.3147815497068|\n",
            "|    min|aaron04@yahoo.com|0001 Mack MillNor...|  AliceBlue|29.532428967057943| 8.508152176032603| 33.91384724758464|  0.2699010899842742| 256.67058229005585|\n",
            "|    max|zscott@wright.com|Unit 7502 Box 834...|YellowGreen| 36.13966248879052|15.126994288792467|40.005181638101895|   6.922689335035808|  765.5184619388373|\n",
            "+-------+-----------------+--------------------+-----------+------------------+------------------+------------------+--------------------+-------------------+\n",
            "\n"
          ]
        }
      ]
    },
    {
      "cell_type": "markdown",
      "metadata": {
        "id": "S7ncz4X2hbz7"
      },
      "source": [
        "* Display total distinct values in *Avatar* column"
      ]
    },
    {
      "cell_type": "code",
      "metadata": {
        "id": "u3IUdO7Ohbz7",
        "colab": {
          "base_uri": "https://localhost:8080/"
        },
        "outputId": "de6152be-5e33-42a9-cb2f-699e97cb3514"
      },
      "source": [
        "# Distinct value count\n",
        "df.select('Avatar').distinct().count()"
      ],
      "execution_count": 15,
      "outputs": [
        {
          "output_type": "execute_result",
          "data": {
            "text/plain": [
              "138"
            ]
          },
          "metadata": {},
          "execution_count": 15
        }
      ]
    },
    {
      "cell_type": "markdown",
      "metadata": {
        "id": "tDwuxwbfhbz8"
      },
      "source": [
        "* Display count of distinct values in *Avatar* column"
      ]
    },
    {
      "cell_type": "code",
      "metadata": {
        "id": "up-ef7XNhbz8",
        "colab": {
          "base_uri": "https://localhost:8080/"
        },
        "outputId": "8aaf7ec0-e9ed-4e18-cc12-4fa1c1a75749"
      },
      "source": [
        "df.groupby('Avatar').count().show(10)"
      ],
      "execution_count": 16,
      "outputs": [
        {
          "output_type": "stream",
          "name": "stdout",
          "text": [
            "+-----------+-----+\n",
            "|     Avatar|count|\n",
            "+-----------+-----+\n",
            "|ForestGreen|    2|\n",
            "|    DimGray|    4|\n",
            "|   SeaGreen|    4|\n",
            "|       Aqua|    6|\n",
            "|       Teal|    7|\n",
            "| DodgerBlue|    3|\n",
            "|  MintCream|    3|\n",
            "|      Khaki|    2|\n",
            "|  LightGray|    3|\n",
            "|  LightBlue|    2|\n",
            "+-----------+-----+\n",
            "only showing top 10 rows\n",
            "\n"
          ]
        }
      ]
    },
    {
      "cell_type": "markdown",
      "metadata": {
        "id": "W5bUrhKkhbz8"
      },
      "source": [
        "* Plot the count of distinct values in *Avatar* column"
      ]
    },
    {
      "cell_type": "code",
      "metadata": {
        "id": "fY39dnmohbz8",
        "colab": {
          "base_uri": "https://localhost:8080/"
        },
        "outputId": "66ec6b8b-f8c1-4d66-a68b-ecf049443b1c"
      },
      "source": [
        "DF = df.groupby('Avatar').count().sort(\"count\", ascending= False)\n",
        "DF.show(8)"
      ],
      "execution_count": 17,
      "outputs": [
        {
          "output_type": "stream",
          "name": "stdout",
          "text": [
            "+------------+-----+\n",
            "|      Avatar|count|\n",
            "+------------+-----+\n",
            "| GreenYellow|    7|\n",
            "|        Teal|    7|\n",
            "|   SlateBlue|    7|\n",
            "|        Cyan|    7|\n",
            "|   CadetBlue|    7|\n",
            "|   PeachPuff|    6|\n",
            "|LightSkyBlue|    6|\n",
            "|      Purple|    6|\n",
            "+------------+-----+\n",
            "only showing top 8 rows\n",
            "\n"
          ]
        }
      ]
    },
    {
      "cell_type": "code",
      "metadata": {
        "id": "Uy5htH2Rhbz9",
        "colab": {
          "base_uri": "https://localhost:8080/",
          "height": 527
        },
        "outputId": "f2174398-3048-4e6b-dcc1-95cf5c6f9774"
      },
      "source": [
        "plt.figure(figsize= (24,4))\n",
        "x = DF.toPandas()['Avatar']\n",
        "y = DF.toPandas()['count']\n",
        "sns.barplot(x=x, y=y)\n",
        "plt.xticks(rotation= 90)\n",
        "plt.show()"
      ],
      "execution_count": 18,
      "outputs": [
        {
          "output_type": "display_data",
          "data": {
            "text/plain": [
              "<Figure size 2400x400 with 1 Axes>"
            ],
            "image/png": "[encoded data removed]"
          },
          "metadata": {}
        }
      ]
    },
    {
      "cell_type": "markdown",
      "metadata": {
        "id": "WwFMYWqKhbz9"
      },
      "source": [
        "* Display average time spent on app by users having different *Avatar*"
      ]
    },
    {
      "cell_type": "code",
      "metadata": {
        "id": "2Wi64y0Qhbz9",
        "colab": {
          "base_uri": "https://localhost:8080/"
        },
        "outputId": "3273ca0b-3ab2-4ef0-edb1-c695d19f17e1"
      },
      "source": [
        "df.groupby('Avatar').avg().select(['Avatar', 'avg(Time on App)']).show(5)"
      ],
      "execution_count": 36,
      "outputs": [
        {
          "output_type": "stream",
          "name": "stdout",
          "text": [
            "+-----------+------------------+\n",
            "|     Avatar|  avg(Time on App)|\n",
            "+-----------+------------------+\n",
            "|ForestGreen|11.801835104426386|\n",
            "|    DimGray|12.013773141157184|\n",
            "|   SeaGreen|11.352012316138753|\n",
            "|       Aqua|12.207605304482167|\n",
            "|       Teal| 11.77888239909872|\n",
            "+-----------+------------------+\n",
            "only showing top 5 rows\n",
            "\n"
          ]
        }
      ]
    },
    {
      "cell_type": "markdown",
      "metadata": {
        "id": "dcCKpLhYhbz-"
      },
      "source": [
        "* Display the records where average time spent on website by user is greater than 37 minutes"
      ]
    },
    {
      "cell_type": "code",
      "metadata": {
        "id": "nLD3pmpQhbz-",
        "colab": {
          "base_uri": "https://localhost:8080/"
        },
        "outputId": "c895d91a-9026-4ad7-8689-92032b19e7fa"
      },
      "source": [
        "df.filter(df['Time on Website'] > 37).show(5)"
      ],
      "execution_count": 20,
      "outputs": [
        {
          "output_type": "stream",
          "name": "stdout",
          "text": [
            "+--------------------+--------------------+----------------+------------------+------------------+------------------+--------------------+-------------------+\n",
            "|               Email|             Address|          Avatar|Avg Session Length|       Time on App|   Time on Website|Length of Membership|Yearly Amount Spent|\n",
            "+--------------------+--------------------+----------------+------------------+------------------+------------------+--------------------+-------------------+\n",
            "|mstephenson@ferna...|835 Frank TunnelW...|          Violet| 34.49726772511229| 12.65565114916675| 39.57766801952616|  4.0826206329529615|  587.9510539684005|\n",
            "|   hduke@hotmail.com|4547 Archer Commo...|       DarkGreen| 31.92627202636016|11.109460728682564|37.268958868297744|    2.66403418213262|  392.2049334443264|\n",
            "|    pallen@yahoo.com|24645 Valerie Uni...|          Bisque|33.000914755642675|11.330278057777512|37.110597442120856|   4.104543202376424| 487.54750486747207|\n",
            "|mstephens@davidso...|14023 Rodriguez P...|MediumAquaMarine| 33.33067252364639|12.795188551078114| 37.53665330059473|   4.446308318351434|  599.4060920457634|\n",
            "|  awatkins@yahoo.com|Unit 6538 Box 898...|            Aqua|32.739142938380326| 12.35195897300293| 37.37335885854755|  4.4342734348999375|  549.9041461052942|\n",
            "+--------------------+--------------------+----------------+------------------+------------------+------------------+--------------------+-------------------+\n",
            "only showing top 5 rows\n",
            "\n"
          ]
        }
      ]
    },
    {
      "cell_type": "markdown",
      "metadata": {
        "id": "-nB82Y8vhbz-"
      },
      "source": [
        "* Display the minimum Yearly Amount Spent where average time spent on website by user is greater than 39 minutes"
      ]
    },
    {
      "cell_type": "code",
      "metadata": {
        "id": "V7caT8Lvhbz_",
        "colab": {
          "base_uri": "https://localhost:8080/"
        },
        "outputId": "57db8b99-6fab-4af3-a840-aa58a57f45e9"
      },
      "source": [
        "from pyspark.sql.functions import col, min\n",
        "df.filter(col('Time on Website')>39).agg(min('Yearly Amount Spent')).show()"
      ],
      "execution_count": 21,
      "outputs": [
        {
          "output_type": "stream",
          "name": "stdout",
          "text": [
            "+------------------------+\n",
            "|min(Yearly Amount Spent)|\n",
            "+------------------------+\n",
            "|      350.05820016384513|\n",
            "+------------------------+\n",
            "\n"
          ]
        }
      ]
    },
    {
      "cell_type": "markdown",
      "metadata": {
        "id": "S1hUIVRAhbz_"
      },
      "source": [
        "* Display the records where average time spent on app by user is greater than 12 minutes and average time spent on website is smaller than 37 minutes"
      ]
    },
    {
      "cell_type": "code",
      "metadata": {
        "id": "tJ-Hib-Bhbz_",
        "colab": {
          "base_uri": "https://localhost:8080/"
        },
        "outputId": "bf36fdc8-34db-4c4d-e2ef-41f978ec9bb6"
      },
      "source": [
        "from pyspark.sql.functions import col\n",
        "df.filter((col('Time on App')>13)).show(92, truncate=False)"
      ],
      "execution_count": 42,
      "outputs": [
        {
          "output_type": "stream",
          "name": "stdout",
          "text": [
            "+---------------------------------+-------------------------------------------------------------+-----------------+------------------+------------------+------------------+--------------------+-------------------+\n",
            "|Email                            |Address                                                      |Avatar           |Avg Session Length|Time on App       |Time on Website   |Length of Membership|Yearly Amount Spent|\n",
            "+---------------------------------+-------------------------------------------------------------+-----------------+------------------+------------------+------------------+--------------------+-------------------+\n",
            "|riverarebecca@gmail.com          |1414 David ThroughwayPort Jason, OH 22070-1220               |SaddleBrown      |34.30555662975554 |13.717513665142507|36.72128267790313 |3.120178782748092   |581.8523440352177  |\n",
            "|vchurch@walter-martinez.com      |860 Lee KeyWest Debra, SD 97450-0495                         |Salmon           |33.98777289568564 |13.386235275676436|37.534497341555735|3.2734335777477144  |570.2004089636196  |\n",
            "|andrew06@peterson.com            |26104 Alexander GrovesAlexandriaport, WY 28244-9149          |Tomato           |33.992572774953736|13.338975447662113|37.22580613162114 |2.482607770510596   |492.6060127179966  |\n",
            "|taylormason@gmail.com            |7773 Powell Springs Suite 190Samanthaland, ND 44358          |DarkBlue         |32.387975853153876|13.148725692056516|36.61995708279922 |2.494543646659249   |470.4527333009554  |\n",
            "|alejandro75@hotmail.com          |64475 Andre Club Apt. 795Port Dannytown, PW 63227            |Cyan             |32.187812045932155|14.7153875441565  |38.24411459434352 |1.516575580831944   |452.3156754800354  |\n",
            "|samuel46@love-west.net           |544 Alexander Heights Suite 768North Johnview, MT 57912      |LightSeaGreen    |32.61785606282345 |13.989592555825254|37.190503800397956|4.064548550437977   |605.061038804892   |\n",
            "|vstafford@hotmail.com            |PSC 5723, Box 8159APO AA 74738                               |Olive            |31.53160448257291 |13.378562784168984|38.73400628989712 |2.2451477874052825  |436.51560572936256 |\n",
            "|heatherhall@yahoo.com            |8522 Regina Port Suite 782Port Kaitlin, TX 50501-7264        |MediumSlateBlue  |32.33598963740772 |13.007819424388568|37.85177916943607 |2.9963645262685388  |486.83893476506273 |\n",
            "|briancarlson@page-fleming.com    |USCGC GillFPO AA 26496                                       |DarkMagenta      |32.175501237949376|13.387492105579696|35.69417498569782 |4.343062915388998   |588.7126055095755  |\n",
            "|joshuaodom@gmail.com             |5277 Patel BrookEast Audrey, NJ 19075                        |DarkGoldenRod    |32.72836000313375 |13.1045072428758  |38.87804050675985 |2.8200972339734696  |491.07322367951963 |\n",
            "|christopher20@gmail.com          |USNV FullerFPO AE 32122-5711                                 |Snow             |32.04448612744043 |13.414934735851688|36.11243501077792 |2.2586863869468434  |448.22982918655    |\n",
            "|gonzaleskatie@gmail.com          |70129 Darrell SpringThomasmouth, HI 39319-2739               |Moccasin         |34.56455770619167 |13.146551432907062|37.335445894325716|3.8768751769237673  |593.9150029682891  |\n",
            "|william82@gmail.com              |11143 Park SquaresSamanthatown, UT 97073                     |SandyBrown       |33.25633546983111 |13.85806246213124 |37.78026468722867 |5.97676812602       |725.5848140556806  |\n",
            "|gregoryholmes@hotmail.com        |2891 Martin Plain Suite 197Melaniestad, NE 65650-8529        |DarkSalmon       |32.68822929602445 |13.761532847115614|39.252930950406224|2.995761182613056   |520.8987944502368  |\n",
            "|ryan36@gmail.com                 |5379 Rhonda Prairie Apt. 696Brownland, WA 87027              |DarkTurquoise    |32.227299136367215|13.728627177429864|37.99702800956553 |4.802630630523376   |613.5993233689068  |\n",
            "|katie25@gmail.com                |6861 Lopez Fork Apt. 114South Jamiechester, DE 63993         |SpringGreen      |32.77260992960089 |13.276313008175375|36.60077705432864 |3.462298847460372   |540.2634004105403  |\n",
            "|kyang@diaz.org                   |223 Love Trail Suite 831Port Jeffrey, IN 46849               |OliveDrab        |34.374258045247466|15.126994288792467|37.157624094065255|5.377593583586979   |765.5184619388373  |\n",
            "|haydenrebecca@gmail.com          |10022 Wilson Orchard Suite 107Harrisstad, MH 99272           |MintCream        |33.879744967981246|13.5878060830337  |38.26035344266013 |3.2581128828882795  |578.2416050583772  |\n",
            "|ilawson@hotmail.com              |19018 Christopher Neck Apt. 963Mcintoshchester, IA 66908-2456|DarkGoldenRod    |33.50136982210362 |13.898081993497069|37.058912816506904|4.130562809236324   |596.4301726172282  |\n",
            "|audreyjohnson@rosales.com        |USCGC NicholsonFPO AE 43987-0470                             |SlateGray        |33.616018552595435|13.516284296962846|36.77312349371806 |4.125584363255396   |611.0000251040717  |\n",
            "|larrywest@davis.com              |21918 Gail GlensBarbershire, SD 45790-8387                   |MidnightBlue     |33.710653059122684|13.664747875183544|37.72438615760942 |1.3626740800013843  |439.07476674164496 |\n",
            "|middletonrenee@gmail.com         |71757 David Freeway Apt. 851West Carriefurt, NC 27106-3364   |DarkCyan         |32.46121244511541 |13.291143045352884|38.633625651583536|3.871003400176416   |543.340166256701   |\n",
            "|esmith@gmail.com                 |USS JohnsonFPO AE 35617-5384                                 |OldLace          |34.18382052058911 |13.349912944366533|37.827394227862136|4.252006105620936   |614.7153338263417  |\n",
            "|briannasantana@gmail.com         |88978 Noble CrestNorth Rosemouth, FM 53484-6689              |LightPink        |32.49839307472945 |13.410759184940549|35.990488954758504|3.1846186616208865  |518.0645579840107  |\n",
            "|taylor91@hotmail.com             |3132 Willie HarborKaylafurt, FL 01107                        |CadetBlue        |33.46869994900622 |13.085505760060856|35.84582711383271 |2.926940235492512   |497.51368332936767 |\n",
            "|bakerdrew@gmail.com              |39637 Griffin Plain Suite 691New Deborahview, MP 73870-3773  |Chartreuse       |33.35687434475742 |13.452128959435642|38.5030088492416  |3.3188222789308934  |549.0082269346927  |\n",
            "|jared99@yahoo.com                |PSC 0811, Box 7054APO AA 91691                               |GoldenRod        |33.88994100692418 |13.068638584182436|37.540520355122574|3.79872531905254    |571.3074948754644  |\n",
            "|aaron11@luna.com                 |672 Jesus Roads Apt. 443Thompsonland, WY 69228               |LightSkyBlue     |32.44952156114242 |13.45772494051235 |37.23880567308968 |2.941410754428091   |503.9783790525795  |\n",
            "|johnsonpaul@keller-woodard.org   |USCGC DodsonFPO AA 87781-3935                                |LimeGreen        |30.879484344127498|13.280432242922114|36.93615937845674 |3.5851606351613436  |490.2065999848547  |\n",
            "|walkererica@scott.com            |86536 Barnes TrackSouth Kyle, MT 21570-5606                  |MediumAquaMarine |33.644177000440536|13.160020040286033|36.4077474507818  |3.015175298743708   |506.5363931400864  |\n",
            "|gbarnes@gmail.com                |8667 Suzanne Motorway Suite 241Spencechester, KY 74385-4618  |Green            |31.864832548098732|13.443405985146251|36.87831536782346 |2.361086946869883   |439.8912804768137  |\n",
            "|cody68@hotmail.com               |374 Dana JunctionsLangside, WI 36474                         |SpringGreen      |34.48238804881123 |13.28303286832567 |35.907298426852456|4.9687426737281415  |666.125591725772   |\n",
            "|michaelferguson@torres-miles.net |757 Amber Gateway Apt. 787New Stephaniechester, OR 61576-6056|Sienna           |34.142863372870714|13.177774533773801|38.856041708111945|3.2309738432875563  |557.5292736134538  |\n",
            "|kcannon@alvarez-cline.info       |55479 Peters Field Apt. 702North Micheleberg, PR 45063       |Lavender         |32.543459169597696|13.332839284456394|37.964390331775896|3.597459968849926   |537.2150526997326  |\n",
            "|wevans@gmail.com                 |222 Jason ParkDominguezshire, NC 98241                       |Tan              |31.570200829320264|13.378063328893633|36.33780003116479 |4.369366793790984   |545.9454921414049  |\n",
            "|lisagutierrez@johnson-herring.net|89300 Amber Centers Apt. 879Victoriaton, VT 98394            |Peru             |32.407148299996685|13.808798675105963|37.42676891745393 |5.039955263662929   |662.9610878058954  |\n",
            "|jacksonking@mccormick.com        |120 Micheal Fort Apt. 762East Patrickbury, WY 65946          |DarkMagenta      |30.83643267477343 |13.100109538542807|35.907721429679654|3.361612984538193   |467.5019004269896  |\n",
            "|jessica04@christian-riley.com    |338 Graham Loaf Suite 236East Toddton, FM 43566-4238         |LemonChiffon     |34.87849495417028 |13.067895684999526|36.67822227440393 |1.9207154781756468  |504.87043239337237 |\n",
            "|jeffrey54@mcdonald-williams.com  |297 Francis ValleySouth Lindsey, NY 13669-5367               |Gainsboro        |34.96760988717724 |13.91949439608817 |37.95201318688309 |5.066696864020984   |712.3963268096637  |\n",
            "|audreyguerrero@carey.com         |1995 Susan Locks Suite 760East Cheryl, AR 37103-5176         |BlueViolet       |34.33075044367848 |13.722453676229962|35.773116391246816|2.9090084604850786  |558.4272571753238  |\n",
            "|michael00@yahoo.com              |03065 Henry Courts Suite 443Derekstad, VT 88473              |DarkSlateGray    |33.605798998912356|13.685118899623589|34.89198326749108 |2.6852848361090778  |529.0566631985306  |\n",
            "|melinda39@morton.info            |13693 Cox Falls Apt. 693Padillaview, PW 28998-0386           |Moccasin         |31.94801742116136 |13.085356892368793|37.60565280041329 |2.648596770203317   |461.9208768928978  |\n",
            "|lisa94@jackson.com               |40288 Stephens Corner Apt. 221West Stephanie, OK 55617-4332  |CadetBlue        |32.72731919612472 |13.013375627349653|36.65127791701514 |2.3678482243852215  |458.3769106506301  |\n",
            "|apark@walsh-obrien.net           |28942 Bradford CrescentNew Morganfurt, MD 77162-0478         |DarkGreen        |32.35147815076609 |13.105158522307253|35.57484166706179 |3.641497161540088   |532.9352188376637  |\n",
            "|jimmy11@hardin.com               |496 Bush Turnpike Apt. 674Donnabury, OR 32596-0079           |DarkGoldenRod    |32.97518182625784 |13.90991551102909 |37.79223754313028 |4.297686524285517   |630.4227632299235  |\n",
            "|rayvanessa@fischer.com           |2583 Mark SpringsLake Robert, AL 40928                       |White            |34.19705969450868 |13.033566182687187|37.07679515601331 |2.6334199887174443  |493.18021624931    |\n",
            "|christopher66@hotmail.com        |388 Kelly PikeWest Jeffery, DE 44039-7785                    |BurlyWood        |31.625360134830608|13.187910985159366|37.06708996741924 |1.4943108951995074  |376.3369007569242  |\n",
            "|archeremily@baldwin.com          |USCGC HernandezFPO AE 53064                                  |YellowGreen      |31.260646869879523|13.266760352944493|36.971195097457155|2.267251114447051   |421.3266312569514  |\n",
            "|vmartin@yahoo.com                |30242 Rubio ForestPort Kyleland, VA 18339-5779               |Turquoise        |34.40240964824356 |14.220979108167345|37.52319665049046 |4.0777750980104255  |647.6194557251927  |\n",
            "|jmartinez@anderson.org           |14889 Page PrairieDennisville, NV 27982-4210                 |PeachPuff        |31.724202523845182|13.172287495263063|36.199753473916246|3.557813698186695   |503.3878872879605  |\n",
            "|pkline@hotmail.com               |PSC 6338, Box 7637APO AA 22066                               |MediumTurquoise  |33.1366552476793  |13.891313421778493|39.22071295098572 |2.9070949348220267  |524.7976275698038  |\n",
            "|russellbaldwin@ferrell.info      |295 Michael Keys Apt. 706Ericfurt, KS 09476                  |Orange           |33.24726795047748 |14.069382336483994|38.99332245115573 |4.9784757934702615  |660.4251842914138  |\n",
            "|george02@hotmail.com             |3286 Lynch FieldHenrychester, RI 41833-7902                  |LightCoral       |35.039283064909725|14.426491050422625|37.374183504897594|3.9306153266132897  |640.1877400085722  |\n",
            "|swilliams@ball-arroyo.com        |450 Samantha ValleysCollinsborough, KS 37205-9891            |Orchid           |32.55052657442161 |13.041244588162265|36.65520808395947 |3.456233823526301   |514.0098178487357  |\n",
            "|sharper@yahoo.com                |239 Bush Fall Apt. 906Riveraville, KY 88906-3319             |SandyBrown       |34.318927438542204|13.402331896928285|37.29204470528371 |3.6060868889081727  |585.9318442972224  |\n",
            "|jennifer24@hotmail.com           |46954 Melissa CornerNorth Amanda, LA 34844                   |SteelBlue        |34.43642583784763 |13.325469096138633|36.768603091480045|3.37125811322392    |582.4919237338106  |\n",
            "|djohnson@hotmail.com             |5358 Stephen Parkway Suite 894Kimview, MN 17436-4528         |Coral            |32.19249882778649 |13.32541218598226 |36.897294609068695|5.049927474652407   |616.6602860166827  |\n",
            "|kenneth27@smith.com              |721 Robert Viaduct Apt. 052Lake Olivia, MO 93807             |DarkGreen        |32.60790271932764 |13.677245841523792|37.744699695149066|2.871947536151015   |530.3624688854229  |\n",
            "|carrillojacob@perry-larsen.com   |909 Hicks MountainsGabriellaport, MD 33121                   |Aquamarine       |32.271848280874984|13.485008988077054|37.55088041321525 |3.086337272317325   |511.9798599920658  |\n",
            "|denisemorrow@johnson-james.net   |24458 Hudson SquareHallside, PA 68038                        |MediumSpringGreen|31.654809675692764|13.014459152355206|37.789036347034184|3.0102097779609496  |475.2634237275485  |\n",
            "|bhill@pierce-kane.info           |3324 Branch Squares Suite 221Riddleton, OK 34594             |RoyalBlue        |33.708153408093004|14.325654943309248|35.7218273299056  |3.6343402240734415  |626.018672655394   |\n",
            "|phillipscarrie@gmail.com         |625 Andrew LocksMadisonside, AZ 74068                        |FloralWhite      |32.42330472721988 |13.058277927143259|37.26387556144864 |3.3731046739911137  |503.21739311910665 |\n",
            "|javier02@landry.net              |Unit 7029 Box 3429DPO AE 56975                               |CadetBlue        |33.0264203526517  |13.18681287300118 |38.06692960186935 |2.898299577888636   |489.9080530975354  |\n",
            "|lmalone@gmail.com                |USS BeasleyFPO AP 50556-7615                                 |AntiqueWhite     |32.975192902963855|13.394451788942055|37.80697766984659 |3.5690465158585187  |541.9722037582585  |\n",
            "|randyrobinson@hotmail.com        |14548 Hayes Isle Apt. 436Garciaville, IN 65366               |DarkGray         |33.30267220801569 |13.459222289832475|36.33952101023726 |5.56638489205681    |689.7876041747194  |\n",
            "|williammoore@rose.com            |686 Baker Fords Suite 893East John, IL 50171-9547            |Brown            |32.878474365657695|13.032534975943193|37.87095205416159 |4.693732057983858   |610.1280331303979  |\n",
            "|charlesgutierrez@hotmail.com     |363 Kathleen UnderpassAshleyside, PR 98964                   |MistyRose        |33.53186013061325 |13.665769794267847|36.90022076162611 |3.515688256202335   |564.7909690079206  |\n",
            "|codyandrews@hotmail.com          |63010 Reyes Creek Apt. 569West Catherinetown, MN 67491-6816  |Indigo           |33.41906734548329 |13.391120179234008|37.19419104646396 |4.069916618589859   |596.516697973153   |\n",
            "|rogersheather@hamilton-jensen.org|510 Michele PortEast Angela, HI 23618                        |MintCream        |33.785207205733194|13.039511025284968|36.31272657154038 |2.0181946292873114  |447.18764430541853 |\n",
            "|john85@rodriguez.info            |57120 Frank KeysJerryborough, DC 81028-0939                  |Tomato           |31.128090049616628|13.278956228597714|37.38718052656558 |4.626075291951958   |557.2526867470547  |\n",
            "|elizabeth61@berg-braun.com       |649 King ExtensionNorth April, NY 54175                      |Lavender         |32.837893053239185|13.185181167368498|35.92159518889928 |1.823595182991803   |445.06218550892487 |\n",
            "|vancealicia@hotmail.com          |06307 Scott Spurs Suite 161Jessicaburgh, NH 26093-5908       |RoyalBlue        |31.81642833419931 |14.2880145907663  |36.773861369930785|2.9644978762354017  |501.12249150365636 |\n",
            "|hoffmandaniel@yahoo.com          |922 Hampton Path Suite 198Port Jasonmouth, FL 46623          |Orchid           |33.6727578867203  |13.420545742201176|37.763690402803434|4.794312263402833   |640.5840618984408  |\n",
            "|awu@robinson.org                 |0281 Dale Wells Suite 656East Joshua, ME 73389               |Brown            |32.054261851184755|13.149669557991398|37.65040020345744 |4.1956144126751305  |561.874657668983   |\n",
            "|amanda03@yahoo.com               |313 Lisa Loop Apt. 543North Jenniferchester, MN 58819        |Brown            |34.18818406101828 |13.130021664776669|35.42933438847124 |3.7905521368804433  |583.9778019715427  |\n",
            "|michael86@yahoo.com              |87270 Garrett Cliffs Suite 361Brooksberg, MO 26555-2502      |LightYellow      |33.20891970058922 |13.53191346185937 |38.95246252162796 |3.0465406206892376  |550.8133677324173  |\n",
            "|kylemelendez@hotmail.com         |2749 Cunningham Flat Apt. 838Derekberg, OH 45288             |DeepPink         |32.430838579082014|13.887275413385506|38.381955972136154|3.772969024644708   |557.6082620533542  |\n",
            "|john96@chan-anderson.biz         |04290 Barron SquareLaurenmouth, AS 79917-9544                |Snow             |33.17233109074306 |13.078692439536418|37.32981862521235 |5.405406467229509   |663.0748176067602  |\n",
            "|nicolegay@jennings.com           |50718 Timothy LightGarciaport, SC 60266-6696                 |BlueViolet       |33.598913339294036|13.252737094184226|37.30596141998359 |2.9355772737404866  |528.4193296952955  |\n",
            "|rchambers@hotmail.com            |53964 Weaver Brook Suite 861Stevensonshire, NY 18128         |OliveDrab        |33.08529799058909 |13.093537281195056|38.31564796064117 |4.75036007144446    |632.1235881419657  |\n",
            "|jenniferjenkins@jones.com        |USNS JacobsFPO AE 71507-1312                                 |LightSalmon      |33.265444472845786|13.052210385161311|38.775665296116884|4.574287716419565   |608.2718166151668  |\n",
            "|ebutler@rogers-gonzalez.com      |001 Estrada UnionLewismouth, TN 47360                        |Chartreuse       |32.992573196692234|13.004362005673077|36.98504141740091 |4.620416384895068   |589.0264897562791  |\n",
            "|robin80@yahoo.com                |928 Bailey RoadEast Mary, DE 11678-5634                      |Turquoise        |33.89457038870139 |13.300299363336553|36.393683855020775|4.4900020655598345  |630.1567281670505  |\n",
            "|rwilliams@trujillo.biz           |54560 Thompson Creek Apt. 029New Brianville, FL 84430-8588   |BlanchedAlmond   |31.425226880854808|13.271475042524669|37.23984661097634 |4.0221029095289484  |530.7667186547619  |\n",
            "|kevin45@mathews.net              |02393 Baker FallsNew Georgeport, ND 36338-5110               |DodgerBlue       |31.8627411090001  |14.039867262521904|37.022268985912326|3.7382251733253336  |556.2981411740467  |\n",
            "|sanchezamber@scott-patterson.com |257 Hunt ManorsSouth Charlottefort, CT 15033                 |Fuchsia          |32.259973265557015|14.132893457553365|37.0234792364057  |3.7620704427115657  |571.2160048349454  |\n",
            "|gstrong@hotmail.com              |7875 Landry Road Apt. 947Brownshire, NC 10074-7735           |Pink             |34.03416353106073 |13.592512657946296|36.838656786348494|3.605933917733071   |618.8459704239658  |\n",
            "|susanibarra@yahoo.com            |426 Scott Radial Apt. 065Abigailstad, MS 16590-2222          |Thistle          |32.53323998265473 |14.121783839255324|38.406329010114156|5.320093863780987   |689.2356997616951  |\n",
            "|kstafford@estes-nguyen.com       |PSC 4856, Box 1297APO AA 17032-7944                          |YellowGreen      |31.16950679871159 |13.970181074130444|36.673952738564225|1.7851739448879638  |427.3565308022928  |\n",
            "|antonioharris@hotmail.com        |4307 Nicholas Drive Apt. 259Ramirezberg, AS 59832            |MediumBlue       |33.70088553901973 |13.471577671948914|37.071643198252396|2.3790764968915394  |492.55683370047706 |\n",
            "|kellydeborah@chan.biz            |354 Sanchez Wall Suite 884Juliabury, VI 39735                |DarkTurquoise    |33.431097102487136|13.350631684459369|37.96597162275135 |2.768851943263104   |510.661792219672   |\n",
            "|lewisjessica@craig-evans.com     |4483 Jones Motorway Suite 872Lake Jamiefurt, UT 75292        |Tan              |33.23765998436727 |13.566159613087606|36.4179847963968  |3.746572973103466   |573.8474377162278  |\n",
            "+---------------------------------+-------------------------------------------------------------+-----------------+------------------+------------------+------------------+--------------------+-------------------+\n",
            "\n"
          ]
        }
      ]
    },
    {
      "cell_type": "markdown",
      "metadata": {
        "id": "LORVLYUMhb0A"
      },
      "source": [
        "To know more about other `pyspark.sql.functions` operation click [here](https://spark.apache.org/docs/2.4.0/api/python/pyspark.sql.html#module-pyspark.sql.functions)."
      ]
    },
    {
      "cell_type": "markdown",
      "metadata": {
        "id": "qI55eNtchb0A"
      },
      "source": [
        "### Linear Regression Model"
      ]
    },
    {
      "cell_type": "markdown",
      "metadata": {
        "id": "0SQI5Rq3hb0A"
      },
      "source": [
        "Linear Regression model is one of the oldest and widely used machine learning approach which assumes a relationship between dependent and independent variables. It consists of the best fitting line through the scattered points on the graph and this best fitting line is known as the regression line."
      ]
    },
    {
      "cell_type": "markdown",
      "metadata": {
        "id": "Ij78EczBhb0B"
      },
      "source": [
        "#### Setting Up DataFrame for Model"
      ]
    },
    {
      "cell_type": "markdown",
      "metadata": {
        "id": "exKHqPx4hb0B"
      },
      "source": [
        "For Spark to accept the data, it needs to be in the form of two columns (\"labels\", \"features\")\n",
        "\n",
        "* Features are data points of all the attributes to be used for prediction\n",
        "* Labels are output for each data point\n",
        "* We will be predicting Label from Features"
      ]
    },
    {
      "cell_type": "markdown",
      "metadata": {
        "id": "aCZCS-R4hb0B"
      },
      "source": [
        "For the linear regression model, we need to import two modules from Pyspark i.e. Vector Assembler and Linear Regression. Vector Assembler is a transformer that assembles all the features into one vector from multiple columns that contain type double.\n",
        "\n",
        "To know more about vector assembler click [here](https://spark.apache.org/docs/2.1.0/ml-features.html#vectorassembler)."
      ]
    },
    {
      "cell_type": "code",
      "metadata": {
        "id": "3gHmgn46hb0C"
      },
      "source": [
        "from pyspark.ml.feature import VectorAssembler\n",
        "from pyspark.ml.regression import LinearRegression"
      ],
      "execution_count": 23,
      "outputs": []
    },
    {
      "cell_type": "code",
      "metadata": {
        "id": "S26ufGiZhb0C"
      },
      "source": [
        "assembler = VectorAssembler(\n",
        "                            inputCols= [\"Avg Session Length\", \"Time on App\", \"Time on Website\",'Length of Membership'],\n",
        "                            outputCol= \"features\")       # features is the name of output columns which combines all the columns"
      ],
      "execution_count": 24,
      "outputs": []
    },
    {
      "cell_type": "code",
      "metadata": {
        "id": "i9umLjr7hb0C"
      },
      "source": [
        "output = assembler.transform(df)            # A new column 'features' will be created along with the existing columns\n",
        "                                            # features column will include all the values combined in one list"
      ],
      "execution_count": 25,
      "outputs": []
    },
    {
      "cell_type": "code",
      "metadata": {
        "id": "WOxDfY4uhb0D",
        "colab": {
          "base_uri": "https://localhost:8080/"
        },
        "outputId": "253a76df-9d34-4978-bcb5-f86b234c99ee"
      },
      "source": [
        "output.show(10)"
      ],
      "execution_count": 26,
      "outputs": [
        {
          "output_type": "stream",
          "name": "stdout",
          "text": [
            "+--------------------+--------------------+----------------+------------------+------------------+------------------+--------------------+-------------------+--------------------+\n",
            "|               Email|             Address|          Avatar|Avg Session Length|       Time on App|   Time on Website|Length of Membership|Yearly Amount Spent|            features|\n",
            "+--------------------+--------------------+----------------+------------------+------------------+------------------+--------------------+-------------------+--------------------+\n",
            "|mstephenson@ferna...|835 Frank TunnelW...|          Violet| 34.49726772511229| 12.65565114916675| 39.57766801952616|  4.0826206329529615|  587.9510539684005|[34.4972677251122...|\n",
            "|   hduke@hotmail.com|4547 Archer Commo...|       DarkGreen| 31.92627202636016|11.109460728682564|37.268958868297744|    2.66403418213262|  392.2049334443264|[31.9262720263601...|\n",
            "|    pallen@yahoo.com|24645 Valerie Uni...|          Bisque|33.000914755642675|11.330278057777512|37.110597442120856|   4.104543202376424| 487.54750486747207|[33.0009147556426...|\n",
            "|riverarebecca@gma...|1414 David Throug...|     SaddleBrown| 34.30555662975554|13.717513665142507| 36.72128267790313|   3.120178782748092|  581.8523440352177|[34.3055566297555...|\n",
            "|mstephens@davidso...|14023 Rodriguez P...|MediumAquaMarine| 33.33067252364639|12.795188551078114| 37.53665330059473|   4.446308318351434|  599.4060920457634|[33.3306725236463...|\n",
            "|alvareznancy@luca...|645 Martha Park A...|     FloralWhite|33.871037879341976|12.026925339755056| 34.47687762925054|   5.493507201364199|   637.102447915074|[33.8710378793419...|\n",
            "|katherine20@yahoo...|68388 Reyes Light...|   DarkSlateBlue| 32.02159550138701|11.366348309710526| 36.68377615286961|   4.685017246570912|  521.5721747578274|[32.0215955013870...|\n",
            "|  awatkins@yahoo.com|Unit 6538 Box 898...|            Aqua|32.739142938380326| 12.35195897300293| 37.37335885854755|  4.4342734348999375|  549.9041461052942|[32.7391429383803...|\n",
            "|vchurch@walter-ma...|860 Lee KeyWest D...|          Salmon| 33.98777289568564|13.386235275676436|37.534497341555735|  3.2734335777477144|  570.2004089636196|[33.9877728956856...|\n",
            "|    bonnie69@lin.biz|PSC 2734, Box 525...|           Brown|31.936548618448917|11.814128294972196| 37.14516822352819|   3.202806071553459|  427.1993848953282|[31.9365486184489...|\n",
            "+--------------------+--------------------+----------------+------------------+------------------+------------------+--------------------+-------------------+--------------------+\n",
            "only showing top 10 rows\n",
            "\n"
          ]
        }
      ]
    },
    {
      "cell_type": "code",
      "metadata": {
        "id": "5l3IvdYNhb0D",
        "colab": {
          "base_uri": "https://localhost:8080/"
        },
        "outputId": "d05902b4-11f7-4649-d642-b76a3f5adfe9"
      },
      "source": [
        "output.select(\"features\").show(10, truncate= False)          # displays only the features column (which includes all other column values in a list)"
      ],
      "execution_count": 27,
      "outputs": [
        {
          "output_type": "stream",
          "name": "stdout",
          "text": [
            "+----------------------------------------------------------------------------+\n",
            "|features                                                                    |\n",
            "+----------------------------------------------------------------------------+\n",
            "|[34.49726772511229,12.65565114916675,39.57766801952616,4.0826206329529615]  |\n",
            "|[31.92627202636016,11.109460728682564,37.268958868297744,2.66403418213262]  |\n",
            "|[33.000914755642675,11.330278057777512,37.110597442120856,4.104543202376424]|\n",
            "|[34.30555662975554,13.717513665142507,36.72128267790313,3.120178782748092]  |\n",
            "|[33.33067252364639,12.795188551078114,37.53665330059473,4.446308318351434]  |\n",
            "|[33.871037879341976,12.026925339755056,34.47687762925054,5.493507201364199] |\n",
            "|[32.02159550138701,11.366348309710526,36.68377615286961,4.685017246570912]  |\n",
            "|[32.739142938380326,12.35195897300293,37.37335885854755,4.4342734348999375] |\n",
            "|[33.98777289568564,13.386235275676436,37.534497341555735,3.2734335777477144]|\n",
            "|[31.936548618448917,11.814128294972196,37.14516822352819,3.202806071553459] |\n",
            "+----------------------------------------------------------------------------+\n",
            "only showing top 10 rows\n",
            "\n"
          ]
        }
      ]
    },
    {
      "cell_type": "code",
      "metadata": {
        "id": "MsMl8o7Yhb0E"
      },
      "source": [
        "# Complete dataset is represented in 2 columns\n",
        "final_data = output.select(\"features\",'Yearly Amount Spent')"
      ],
      "execution_count": 28,
      "outputs": []
    },
    {
      "cell_type": "markdown",
      "metadata": {
        "id": "8dyT5lLehb0E"
      },
      "source": [
        "#### Splitting the data into Training and Test set"
      ]
    },
    {
      "cell_type": "code",
      "metadata": {
        "id": "cznY4s_Ahb0F"
      },
      "source": [
        "# Splitting the data in Train and Test set(70% training data, 30% testing data)\n",
        "train_data,test_data = final_data.randomSplit([0.7,0.3])"
      ],
      "execution_count": 29,
      "outputs": []
    },
    {
      "cell_type": "code",
      "metadata": {
        "id": "fQzau_Pvhb0F",
        "colab": {
          "base_uri": "https://localhost:8080/"
        },
        "outputId": "f071377f-c5f2-465f-b170-bf330fdb84a7"
      },
      "source": [
        "train_data.describe().show()"
      ],
      "execution_count": 30,
      "outputs": [
        {
          "output_type": "stream",
          "name": "stdout",
          "text": [
            "+-------+-------------------+\n",
            "|summary|Yearly Amount Spent|\n",
            "+-------+-------------------+\n",
            "|  count|                356|\n",
            "|   mean| 502.06993136561283|\n",
            "| stddev|  78.47625560497721|\n",
            "|    min|  275.9184206503857|\n",
            "|    max|  765.5184619388373|\n",
            "+-------+-------------------+\n",
            "\n"
          ]
        }
      ]
    },
    {
      "cell_type": "code",
      "metadata": {
        "id": "FrdTvsmVhb0F",
        "colab": {
          "base_uri": "https://localhost:8080/"
        },
        "outputId": "1ea7639a-5c3f-405f-b042-394d726f46bc"
      },
      "source": [
        "test_data.describe().show()"
      ],
      "execution_count": 31,
      "outputs": [
        {
          "output_type": "stream",
          "name": "stdout",
          "text": [
            "+-------+-------------------+\n",
            "|summary|Yearly Amount Spent|\n",
            "+-------+-------------------+\n",
            "|  count|                144|\n",
            "|   mean| 492.50085807734206|\n",
            "| stddev|  81.22586557646113|\n",
            "|    min| 256.67058229005585|\n",
            "|    max|  725.5848140556806|\n",
            "+-------+-------------------+\n",
            "\n"
          ]
        }
      ]
    },
    {
      "cell_type": "markdown",
      "metadata": {
        "id": "LW62eB6Hhb0G"
      },
      "source": [
        "#### Create a Linear Regression Model object and fit on train data"
      ]
    },
    {
      "cell_type": "code",
      "metadata": {
        "id": "86V5LekMhb0G"
      },
      "source": [
        "regressor = LinearRegression(featuresCol=\"features\", labelCol=\"Yearly Amount Spent\")\n",
        "\n",
        "#Learn to fit the model from training set\n",
        "model = regressor.fit(train_data)"
      ],
      "execution_count": 32,
      "outputs": []
    },
    {
      "cell_type": "markdown",
      "metadata": {
        "id": "YVH4X80nhb0G"
      },
      "source": [
        "#### Predicting the Test set results"
      ]
    },
    {
      "cell_type": "code",
      "metadata": {
        "id": "DCrfunGbhb0G",
        "colab": {
          "base_uri": "https://localhost:8080/"
        },
        "outputId": "1a4ba66a-6073-4880-ca93-8004829b366c"
      },
      "source": [
        "predict = model.transform(test_data)\n",
        "\n",
        "predict.select(predict.columns[:]).show(10)"
      ],
      "execution_count": 33,
      "outputs": [
        {
          "output_type": "stream",
          "name": "stdout",
          "text": [
            "+--------------------+-------------------+------------------+\n",
            "|            features|Yearly Amount Spent|        prediction|\n",
            "+--------------------+-------------------+------------------+\n",
            "|[30.8162006488763...|   266.086340948469|283.40345862553545|\n",
            "|[31.1695067987115...|  427.3565308022928| 418.3303345322204|\n",
            "|[31.2606468698795...|  421.3266312569514| 422.8330782414987|\n",
            "|[31.3091926408918...|  432.7207178399336| 429.9587114589806|\n",
            "|[31.3123495994443...|  463.5914180279406|444.05634263531465|\n",
            "|[31.3584771924370...|  495.1759504494754|  491.527210418094|\n",
            "|[31.3662121671876...|  430.5888825564849| 426.3975310798962|\n",
            "|[31.3895854806643...|  410.0696110599829| 408.8171164167061|\n",
            "|[31.4252268808548...|  530.7667186547619| 534.9976551719524|\n",
            "|[31.5147378578019...|  489.8124879964614| 494.7148411204016|\n",
            "+--------------------+-------------------+------------------+\n",
            "only showing top 10 rows\n",
            "\n"
          ]
        }
      ]
    },
    {
      "cell_type": "markdown",
      "metadata": {
        "id": "VHlcdOtThb0G"
      },
      "source": [
        "#### Evaluating Model Performance"
      ]
    },
    {
      "cell_type": "code",
      "metadata": {
        "id": "41ftFH8Ohb0H",
        "colab": {
          "base_uri": "https://localhost:8080/"
        },
        "outputId": "2f5db8f0-80ad-421a-8162-5b6f28687fe6"
      },
      "source": [
        "metrics = model.evaluate(test_data)                             # Using evaluate method we can verify our model's performance\n",
        "\n",
        "print('Mean absolute error: {}'.format(metrics.meanAbsoluteError))\n",
        "print('Root mean squared error: {}'.format(metrics.rootMeanSquaredError))\n",
        "print('R_squared value: {}'.format(metrics.r2))"
      ],
      "execution_count": 34,
      "outputs": [
        {
          "output_type": "stream",
          "name": "stdout",
          "text": [
            "Mean absolute error: 8.114885305539714\n",
            "Root mean squared error: 9.998987687649343\n",
            "R_squared value: 0.9847401654227026\n"
          ]
        }
      ]
    },
    {
      "cell_type": "markdown",
      "metadata": {
        "id": "VcCSeWV3hb0H"
      },
      "source": [
        "To know more about other operations in pyspark click [here](https://cdn.iisc.talentsprint.com/CDS/cheatSheet_pyspark.pdf)."
      ]
    },
    {
      "cell_type": "markdown",
      "metadata": {
        "id": "VHfHdGCP_n6Y"
      },
      "source": [
        "### Please answer the questions below to complete the experiment:\n",
        "\n",
        "\n"
      ]
    },
    {
      "cell_type": "code",
      "metadata": {
        "id": "VgSwVENIPcM6"
      },
      "source": [
        "# @title In the above given spark dataframe (df), what is the total number of records where average time spent on app by user is greater than 13 minutes? { run: \"auto\", form-width: \"500px\", display-mode: \"form\" }\n",
        "Answer = \"92\" #@param [\"\",\"90\",\"91\", \"92\"]"
      ],
      "execution_count": 43,
      "outputs": []
    },
    {
      "cell_type": "code",
      "metadata": {
        "id": "NMzKSbLIgFzQ"
      },
      "source": [
        "#@title How was the experiment? { run: \"auto\", form-width: \"500px\", display-mode: \"form\" }\n",
        "Complexity = \"Good, But Not Challenging for me\" #@param [\"\",\"Too Simple, I am wasting time\", \"Good, But Not Challenging for me\", \"Good and Challenging for me\", \"Was Tough, but I did it\", \"Too Difficult for me\"]\n"
      ],
      "execution_count": 44,
      "outputs": []
    },
    {
      "cell_type": "code",
      "metadata": {
        "id": "DjcH1VWSFI2l"
      },
      "source": [
        "#@title If it was too easy, what more would you have liked to be added? If it was very difficult, what would you have liked to have been removed? { run: \"auto\", display-mode: \"form\" }\n",
        "Additional = \"Perfect for practice\" #@param {type:\"string\"}\n"
      ],
      "execution_count": 45,
      "outputs": []
    },
    {
      "cell_type": "code",
      "metadata": {
        "id": "4VBk_4VTAxCM"
      },
      "source": [
        "#@title Can you identify the concepts from the lecture which this experiment covered? { run: \"auto\", vertical-output: true, display-mode: \"form\" }\n",
        "Concepts = \"Yes\" #@param [\"\",\"Yes\", \"No\"]\n"
      ],
      "execution_count": 46,
      "outputs": []
    },
    {
      "cell_type": "code",
      "metadata": {
        "id": "XH91cL1JWH7m"
      },
      "source": [
        "#@title  Text and image description/explanation and code comments within the experiment: { run: \"auto\", vertical-output: true, display-mode: \"form\" }\n",
        "Comments = \"Very Useful\" #@param [\"\",\"Very Useful\", \"Somewhat Useful\", \"Not Useful\", \"Didn't use\"]\n"
      ],
      "execution_count": 47,
      "outputs": []
    },
    {
      "cell_type": "code",
      "metadata": {
        "id": "z8xLqj7VWIKW"
      },
      "source": [
        "#@title Mentor Support: { run: \"auto\", vertical-output: true, display-mode: \"form\" }\n",
        "Mentor_support = \"Very Useful\" #@param [\"\",\"Very Useful\", \"Somewhat Useful\", \"Not Useful\", \"Didn't use\"]\n"
      ],
      "execution_count": 48,
      "outputs": []
    },
    {
      "cell_type": "code",
      "metadata": {
        "id": "FzAZHt1zw-Y-",
        "cellView": "form",
        "colab": {
          "base_uri": "https://localhost:8080/"
        },
        "outputId": "d720c3d7-5709-4d11-df6e-b55f45f73239"
      },
      "source": [
        "#@title Run this cell to submit your notebook for grading { vertical-output: true }\n",
        "try:\n",
        "  if submission_id:\n",
        "      return_id = submit_notebook()\n",
        "      if return_id : submission_id = return_id\n",
        "  else:\n",
        "      print(\"Please complete the setup first.\")\n",
        "except NameError:\n",
        "  print (\"Please complete the setup first.\")"
      ],
      "execution_count": 49,
      "outputs": [
        {
          "output_type": "stream",
          "name": "stdout",
          "text": [
            "Your submission is successful.\n",
            "Ref Id: 6051\n",
            "Date of submission:  27 Jul 2023\n",
            "Time of submission:  21:42:12\n",
            "View your submissions: https://cds.iisc.talentsprint.com/notebook_submissions\n"
          ]
        }
      ]
    }
  ]
}