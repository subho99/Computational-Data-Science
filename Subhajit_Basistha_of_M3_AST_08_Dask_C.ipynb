{
  "nbformat": 4,
  "nbformat_minor": 5,
  "metadata": {
    "colab": {
      "provenance": [],
      "include_colab_link": true
    },
    "kernelspec": {
      "display_name": "Python 3",
      "language": "python",
      "name": "python3"
    },
    "language_info": {
      "codemirror_mode": {
        "name": "ipython",
        "version": 3
      },
      "file_extension": ".py",
      "mimetype": "text/x-python",
      "name": "python",
      "nbconvert_exporter": "python",
      "pygments_lexer": "ipython3",
      "version": "3.8.5"
    },
    "accelerator": "TPU"
  },
  "cells": [
    {
      "cell_type": "markdown",
      "metadata": {
        "id": "view-in-github",
        "colab_type": "text"
      },
      "source": [
        "<a href=\"https://colab.research.google.com/github/subho99/Computational-Data-Science/blob/main/Subhajit_Basistha_of_M3_AST_08_Dask_C.ipynb\" target=\"_parent\"><img src=\"https://colab.research.google.com/assets/colab-badge.svg\" alt=\"Open In Colab\"/></a>"
      ]
    },
    {
      "cell_type": "markdown",
      "metadata": {
        "id": "temporal-consequence"
      },
      "source": [
        "# Advanced Certification Program in Computational Data Science\n",
        "## A program by IISc and TalentSprint\n",
        "### Assignment 8: Dask"
      ],
      "id": "temporal-consequence"
    },
    {
      "cell_type": "markdown",
      "metadata": {
        "id": "imported-begin"
      },
      "source": [
        "## Learning Objectives"
      ],
      "id": "imported-begin"
    },
    {
      "cell_type": "markdown",
      "metadata": {
        "id": "solid-upset"
      },
      "source": [
        "At the end of the experiment, you will be able to:\n",
        "\n",
        "* know and implement dask related libraries\n",
        "* understand and visualize parallel processing using dask delayed\n",
        "* implement dask arrays\n",
        "* handle large and complex datasets in dask dataframes\n",
        "* implement list using dask bags\n",
        "* implement Linear Regression using dask-ml"
      ],
      "id": "solid-upset"
    },
    {
      "cell_type": "markdown",
      "metadata": {
        "id": "Mc_TIXSUPf8V"
      },
      "source": [
        "## Information"
      ],
      "id": "Mc_TIXSUPf8V"
    },
    {
      "cell_type": "markdown",
      "metadata": {
        "id": "external-gathering"
      },
      "source": [
        "### Dask\n",
        "\n",
        "Dask was launched in late 2014 by Matthew Rocklin with aims to bring native scalability to the Python Open Data Science  and overcome its single-machine restrictions. Dask consists of several different components and APIs, which can be categorized into three layers: \n",
        "\n",
        "* the scheduler\n",
        "* low-level APIs\n",
        "* high-level APIs"
      ],
      "id": "external-gathering"
    },
    {
      "cell_type": "markdown",
      "metadata": {
        "id": "EKabdQH8PFyP"
      },
      "source": [
        "![Dask_Overview](https://cdn.iisc.talentsprint.com/CDS/Images/Dask_Overview.JPG)"
      ],
      "id": "EKabdQH8PFyP"
    },
    {
      "cell_type": "markdown",
      "metadata": {
        "id": "novel-franchise"
      },
      "source": [
        "Dask is a free and open-source library for parallel computing in Python. It helps you scale your data science and machine learning workflows. It makes it easy to work with Numpy, Pandas, and Scikit-Learn, but that’s just the beginning. Dask exposes low-level APIs to its internal task scheduler to execute advanced computations. This enables building a personalised parallel computing system that uses the same engine that powers Dask’s Arrays, DataFrames, and machine learning algorithms. \n",
        "\n",
        "If you have larger-than-memory data, you can use Dask to scale up your workflow to leverage all the cores of your local workstation or even scale out to the cloud.\n",
        "\n",
        "Dask emphasizes the following virtues:\n",
        "\n",
        "* The ability to work in parallel with  NumPy array and Pandas DataFrame objects\n",
        "* Integration with other projects.\n",
        "* Distributed computing\n",
        "* Faster operation because of its low overhead and minimum serialisation\n",
        "* It runs resiliently on clusters with thousands of cores\n",
        "* Real-time feedback and diagnostics"
      ],
      "id": "novel-franchise"
    },
    {
      "cell_type": "markdown",
      "metadata": {
        "id": "l_JB9kotQaHb"
      },
      "source": [
        "### Parallel Processing\n",
        "\n",
        "Parallel processing refers to executing multiple tasks at the same time, using multiple processors in the same machine.\n",
        "\n",
        "Generally, the code is executed in sequence, one task at a time. However, if you have a complex code that takes a long time to run but has no logic dependency on each other then instead of waiting for the previous task to complete, we compute multiple steps simultaneously. This lets you take advantage of the available processing power, which is the case in most modern computers, thereby reducing the total time taken.\n",
        "\n",
        "To learn more about dask, follow the link [here](https://docs.dask.org/en/latest/).\n"
      ],
      "id": "l_JB9kotQaHb"
    },
    {
      "cell_type": "code",
      "metadata": {
        "id": "8rxxeAgzJJM5",
        "cellView": "form",
        "colab": {
          "base_uri": "https://localhost:8080/"
        },
        "outputId": "61ca56e5-0d7c-48f4-b22d-5b815e91f5d8"
      },
      "source": [
        "# @title Install  the Required Dependensies and Restart the Runtime\n",
        "!pip -qq install dask[complete]\n",
        "!pip -qq install dask distributed\n",
        "!pip -qq install mimesis==7.0.0\n",
        "!pip -qq install dask\n",
        "# Uninstalling Numpy 1.24.3 as 'dask_ml' requires numpy<1.24.0, >=1.18.0\n",
        "!pip -qq uninstall numpy -y\n",
        "# jax>=0.4.8 is necessarry\n",
        "!pip -qq install jax>=0.4.8\n",
        "!pip -qq install numpy==1.23.4\n",
        "!pip -qq install dask-ml"
      ],
      "id": "8rxxeAgzJJM5",
      "execution_count": 1,
      "outputs": [
        {
          "output_type": "stream",
          "name": "stdout",
          "text": [
            "\u001b[2K     \u001b[90m━━━━━━━━━━━━━━━━━━━━━━━━━━━━━━━━━━━━━━━━\u001b[0m \u001b[32m4.4/4.4 MB\u001b[0m \u001b[31m5.0 MB/s\u001b[0m eta \u001b[36m0:00:00\u001b[0m\n",
            "\u001b[?25h\u001b[31mERROR: pip's dependency resolver does not currently take into account all the packages that are installed. This behaviour is the source of the following dependency conflicts.\n",
            "numba 0.56.4 requires numpy<1.24,>=1.18, but you have numpy 1.24.3 which is incompatible.\n",
            "tensorflow 2.12.0 requires numpy<1.24,>=1.22, but you have numpy 1.24.3 which is incompatible.\u001b[0m\u001b[31m\n",
            "\u001b[2K     \u001b[90m━━━━━━━━━━━━━━━━━━━━━━━━━━━━━━━━━━━━━━━━\u001b[0m \u001b[32m17.1/17.1 MB\u001b[0m \u001b[31m66.6 MB/s\u001b[0m eta \u001b[36m0:00:00\u001b[0m\n",
            "\u001b[2K     \u001b[90m━━━━━━━━━━━━━━━━━━━━━━━━━━━━━━━━━━━━━━━\u001b[0m \u001b[32m148.7/148.7 kB\u001b[0m \u001b[31m3.8 MB/s\u001b[0m eta \u001b[36m0:00:00\u001b[0m\n",
            "\u001b[?25h"
          ]
        }
      ]
    },
    {
      "cell_type": "markdown",
      "metadata": {
        "id": "fRUmEMOCv-d2"
      },
      "source": [
        "**Note: After running above cell, we will need to `Restart Runtime` to successfully import dask_ml**"
      ],
      "id": "fRUmEMOCv-d2"
    },
    {
      "cell_type": "markdown",
      "metadata": {
        "id": "b8ZyR1qqtr6_"
      },
      "source": [
        "### Setup Steps:"
      ],
      "id": "b8ZyR1qqtr6_"
    },
    {
      "cell_type": "code",
      "metadata": {
        "id": "qXDbGPh1tyNR"
      },
      "source": [
        "#@title Please enter your registration id to start: { run: \"auto\", display-mode: \"form\" }\n",
        "Id = \"2236624\" #@param {type:\"string\"}"
      ],
      "id": "qXDbGPh1tyNR",
      "execution_count": 1,
      "outputs": []
    },
    {
      "cell_type": "code",
      "metadata": {
        "id": "6SARMN_-t3ny"
      },
      "source": [
        "#@title Please enter your password (your registered phone number) to continue: { run: \"auto\", display-mode: \"form\" }\n",
        "password = \"8240187807\" #@param {type:\"string\"}"
      ],
      "id": "6SARMN_-t3ny",
      "execution_count": 2,
      "outputs": []
    },
    {
      "cell_type": "code",
      "metadata": {
        "id": "Bkw9Am4ht93r",
        "cellView": "form",
        "colab": {
          "base_uri": "https://localhost:8080/",
          "height": 34
        },
        "outputId": "cef1a421-b4c1-41a1-ef65-847163f68099"
      },
      "source": [
        "#@title Run this cell to complete the setup for this Notebook\n",
        "from IPython import get_ipython\n",
        "\n",
        "ipython = get_ipython()\n",
        "  \n",
        "notebook= \"M3_AST_08_Dask_C\" #name of the notebook\n",
        "\n",
        "def setup():\n",
        "#  ipython.magic(\"sx pip3 install torch\")\n",
        "    ipython.magic(\"sx pip -qq install dask[complete]\")\n",
        "    ipython.magic(\"sx pip -qq install dask distributed\")\n",
        "    ipython.magic(\"sx pip -qq install mimesis\")\n",
        "    ipython.magic(\"sx pip -qq install dask\")\n",
        "    #ipython.magic(\"sx wget https://cdn.iisc.talentsprint.com/CDS/MiniProjects/BlackFriday.zip\")\n",
        "    #ipython.magic(\"sx unzip BlackFriday.zip\")\n",
        "    ipython.magic(\"sx wget https://cdn.iisc.talentsprint.com/CDS/Datasets/nycflights.zip\")\n",
        "    ipython.magic(\"sx unzip nycflights.zip\")\n",
        "    from IPython.display import HTML, display\n",
        "    display(HTML('<script src=\"https://dashboard.talentsprint.com/aiml/record_ip.html?traineeId={0}&recordId={1}\"></script>'.format(getId(),submission_id)))\n",
        "    print(\"Setup completed successfully\")\n",
        "    return\n",
        "\n",
        "def submit_notebook():\n",
        "    ipython.magic(\"notebook -e \"+ notebook + \".ipynb\")\n",
        "    \n",
        "    import requests, json, base64, datetime\n",
        "\n",
        "    url = \"https://dashboard.talentsprint.com/xp/app/save_notebook_attempts\"\n",
        "    if not submission_id:\n",
        "      data = {\"id\" : getId(), \"notebook\" : notebook, \"mobile\" : getPassword()}\n",
        "      r = requests.post(url, data = data)\n",
        "      r = json.loads(r.text)\n",
        "\n",
        "      if r[\"status\"] == \"Success\":\n",
        "          return r[\"record_id\"]\n",
        "      elif \"err\" in r:        \n",
        "        print(r[\"err\"])\n",
        "        return None        \n",
        "      else:\n",
        "        print (\"Something is wrong, the notebook will not be submitted for grading\")\n",
        "        return None\n",
        "    \n",
        "    elif getAnswer() and getComplexity() and getAdditional() and getConcepts() and getComments() and getMentorSupport():\n",
        "      f = open(notebook + \".ipynb\", \"rb\")\n",
        "      file_hash = base64.b64encode(f.read())\n",
        "\n",
        "      data = {\"complexity\" : Complexity, \"additional\" :Additional, \n",
        "              \"concepts\" : Concepts, \"record_id\" : submission_id, \n",
        "              \"answer\" : Answer, \"id\" : Id, \"file_hash\" : file_hash,\n",
        "              \"notebook\" : notebook,\n",
        "              \"feedback_experiments_input\" : Comments,\n",
        "              \"feedback_mentor_support\": Mentor_support}\n",
        "      r = requests.post(url, data = data)\n",
        "      r = json.loads(r.text)\n",
        "      if \"err\" in r:        \n",
        "        print(r[\"err\"])\n",
        "        return None   \n",
        "      else:\n",
        "        print(\"Your submission is successful.\")\n",
        "        print(\"Ref Id:\", submission_id)\n",
        "        print(\"Date of submission: \", r[\"date\"])\n",
        "        print(\"Time of submission: \", r[\"time\"])\n",
        "        print(\"View your submissions: https://cds.iisc.talentsprint.com/notebook_submissions\")\n",
        "        #print(\"For any queries/discrepancies, please connect with mentors through the chat icon in LMS dashboard.\")\n",
        "        return submission_id\n",
        "    else: submission_id\n",
        "    \n",
        "\n",
        "def getAdditional():\n",
        "  try:\n",
        "    if not Additional: \n",
        "      raise NameError\n",
        "    else:\n",
        "      return Additional  \n",
        "  except NameError:\n",
        "    print (\"Please answer Additional Question\")\n",
        "    return None\n",
        "\n",
        "def getComplexity():\n",
        "  try:\n",
        "    if not Complexity:\n",
        "      raise NameError\n",
        "    else:\n",
        "      return Complexity\n",
        "  except NameError:\n",
        "    print (\"Please answer Complexity Question\")\n",
        "    return None\n",
        "  \n",
        "def getConcepts():\n",
        "  try:\n",
        "    if not Concepts:\n",
        "      raise NameError\n",
        "    else:\n",
        "      return Concepts\n",
        "  except NameError:\n",
        "    print (\"Please answer Concepts Question\")\n",
        "    return None\n",
        "  \n",
        "  \n",
        "# def getWalkthrough():\n",
        "#   try:\n",
        "#     if not Walkthrough:\n",
        "#       raise NameError\n",
        "#     else:\n",
        "#       return Walkthrough\n",
        "#   except NameError:\n",
        "#     print (\"Please answer Walkthrough Question\")\n",
        "#     return None\n",
        "  \n",
        "def getComments():\n",
        "  try:\n",
        "    if not Comments:\n",
        "      raise NameError\n",
        "    else:\n",
        "      return Comments\n",
        "  except NameError:\n",
        "    print (\"Please answer Comments Question\")\n",
        "    return None\n",
        "  \n",
        "\n",
        "def getMentorSupport():\n",
        "  try:\n",
        "    if not Mentor_support:\n",
        "      raise NameError\n",
        "    else:\n",
        "      return Mentor_support\n",
        "  except NameError:\n",
        "    print (\"Please answer Mentor support Question\")\n",
        "    return None\n",
        "\n",
        "def getAnswer():\n",
        "  try:\n",
        "    if not Answer:\n",
        "      raise NameError \n",
        "    else: \n",
        "      return Answer\n",
        "  except NameError:\n",
        "    print (\"Please answer Question\")\n",
        "    return None\n",
        "  \n",
        "\n",
        "def getId():\n",
        "  try: \n",
        "    return Id if Id else None\n",
        "  except NameError:\n",
        "    return None\n",
        "\n",
        "def getPassword():\n",
        "  try:\n",
        "    return password if password else None\n",
        "  except NameError:\n",
        "    return None\n",
        "\n",
        "submission_id = None\n",
        "### Setup \n",
        "if getPassword() and getId():\n",
        "  submission_id = submit_notebook()\n",
        "  if submission_id:\n",
        "    setup() \n",
        "else:\n",
        "  print (\"Please complete Id and Password cells before running setup\")\n",
        "\n"
      ],
      "id": "Bkw9Am4ht93r",
      "execution_count": 3,
      "outputs": [
        {
          "output_type": "display_data",
          "data": {
            "text/plain": [
              "<IPython.core.display.HTML object>"
            ],
            "text/html": [
              "<script src=\"https://dashboard.talentsprint.com/aiml/record_ip.html?traineeId=2236624&recordId=4891\"></script>"
            ]
          },
          "metadata": {}
        },
        {
          "output_type": "stream",
          "name": "stdout",
          "text": [
            "Setup completed successfully\n"
          ]
        }
      ]
    },
    {
      "cell_type": "markdown",
      "metadata": {
        "id": "amber-breast"
      },
      "source": [
        "#### Importing required packages"
      ],
      "id": "amber-breast"
    },
    {
      "cell_type": "code",
      "metadata": {
        "id": "marked-penny"
      },
      "source": [
        "import os                        # provides interaction with operating system  \n",
        "import dask \n",
        "import dask.array as da          # for handling large arrays \n",
        "from dask import delayed         # import the delayed function of dask\n",
        "import dask.dataframe as dd      # library to import Dask DataFrame\n",
        "import dask.bag as db            # import the bag from dask\n",
        "from dask_ml.linear_model import LinearRegression\n",
        "import json                      # importing JSON files   \n",
        "import numpy as np   \n",
        "import pandas as pd\n",
        "from time import sleep "
      ],
      "id": "marked-penny",
      "execution_count": 4,
      "outputs": []
    },
    {
      "cell_type": "markdown",
      "metadata": {
        "id": "disciplinary-merchant"
      },
      "source": [
        "**Implementation of Parallel Processing with Dask (Basic Idea)**\n",
        "\n",
        "Here, we can compare the normal python function with dask delayed function at the time of execution"
      ],
      "id": "disciplinary-merchant"
    },
    {
      "cell_type": "code",
      "metadata": {
        "id": "interstate-excuse"
      },
      "source": [
        "# define apply_discount function and pass a variable x \n",
        "def apply_discount(x):                    \n",
        "  sleep(1)\n",
        "  # discount of 20 %\n",
        "  x=x-0.2*x                          \n",
        "  return x                   \n",
        "\n",
        "# define two variables a, b and add them\n",
        "def get_total(a,b):                   \n",
        "  sleep(1)\n",
        "  return a+b\n",
        "\n",
        "# define function for total price of items\n",
        "def get_total_price(x,y):            \n",
        "  sleep(1)\n",
        "  a=apply_discount(x)\n",
        "  b=apply_discount(y)\n",
        "  get_total(a,b)"
      ],
      "id": "interstate-excuse",
      "execution_count": 5,
      "outputs": []
    },
    {
      "cell_type": "markdown",
      "metadata": {
        "id": "fifth-lightweight"
      },
      "source": [
        "Given a number, the above code simply applies a 20 percent discount on price and then adds them. Inserted a sleep function explicitly, both the functions take 1 sec to execute."
      ],
      "id": "fifth-lightweight"
    },
    {
      "cell_type": "code",
      "metadata": {
        "id": "polished-mailing",
        "colab": {
          "base_uri": "https://localhost:8080/"
        },
        "outputId": "9acf8c07-8a3a-4471-ade5-bb460ed53727"
      },
      "source": [
        "%%time\n",
        "\n",
        "# apply discount of 20 % on 100\n",
        "x = apply_discount(100)       \n",
        "# apply a discount of 20 % on 200                     \n",
        "y = apply_discount(200)  \n",
        "# add a and b                          \n",
        "z = get_total_price(x,y)                           "
      ],
      "id": "polished-mailing",
      "execution_count": 6,
      "outputs": [
        {
          "output_type": "stream",
          "name": "stdout",
          "text": [
            "CPU times: user 29.5 ms, sys: 2.02 ms, total: 31.5 ms\n",
            "Wall time: 6.01 s\n"
          ]
        }
      ]
    },
    {
      "cell_type": "markdown",
      "metadata": {
        "id": "monthly-chocolate"
      },
      "source": [
        "We have recorded the time taken for this execution using %%time as shown. You can observe that time taken is ~6.01 seconds when it is executed sequentially. Now, let’s see how to use dask.delayed to reduce this time."
      ],
      "id": "monthly-chocolate"
    },
    {
      "cell_type": "markdown",
      "metadata": {
        "id": "hispanic-newport"
      },
      "source": [
        "Now, you can transform the functions apply_discount() and get_total_price(). You can use delayed() function to wrap the function calls that you want to turn into tasks."
      ],
      "id": "hispanic-newport"
    },
    {
      "cell_type": "code",
      "metadata": {
        "id": "moved-deviation",
        "colab": {
          "base_uri": "https://localhost:8080/"
        },
        "outputId": "03f06656-76f3-4930-bb17-0513a07116b1"
      },
      "source": [
        "%%time\n",
        "\n",
        "# Wrapping all the function calls using dask.delayed\n",
        "x = delayed(apply_discount)(100)\n",
        "y = delayed(apply_discount)(200)\n",
        "z = delayed(get_total_price)(x, y)"
      ],
      "id": "moved-deviation",
      "execution_count": 7,
      "outputs": [
        {
          "output_type": "stream",
          "name": "stdout",
          "text": [
            "CPU times: user 567 µs, sys: 0 ns, total: 567 µs\n",
            "Wall time: 576 µs\n"
          ]
        }
      ]
    },
    {
      "cell_type": "markdown",
      "metadata": {
        "id": "heavy-compatibility"
      },
      "source": [
        "**What does dask.delayed do?**\n",
        "\n",
        "The Dask delayed function decorates your functions so that they operate lazily. Rather than executing your function immediately, it will defer execution, placing the function and its arguments into a task graph. It wraps a function or object to produce a Delayed.\n"
      ],
      "id": "heavy-compatibility"
    },
    {
      "cell_type": "code",
      "metadata": {
        "id": "compact-fortune",
        "colab": {
          "base_uri": "https://localhost:8080/",
          "height": 635
        },
        "outputId": "c84f9e29-8f83-465f-bf79-4732533976c4"
      },
      "source": [
        "# visualize in graphical way\n",
        "z.visualize()         "
      ],
      "id": "compact-fortune",
      "execution_count": 8,
      "outputs": [
        {
          "output_type": "execute_result",
          "data": {
            "image/png": "[encoded data removed]",
            "text/plain": [
              "<IPython.core.display.Image object>"
            ]
          },
          "metadata": {},
          "execution_count": 8
        }
      ]
    },
    {
      "cell_type": "markdown",
      "metadata": {
        "id": "serious-message"
      },
      "source": [
        "Clearly, from the above image, you can see there are two instances of apply_discount() function called in parallel. This is an opportunity to save time and processing power by executing them simultaneously.\n",
        "\n",
        "Till now, the task graph is computed. To actually execute it, let’s call the compute() method of z."
      ],
      "id": "serious-message"
    },
    {
      "cell_type": "code",
      "metadata": {
        "id": "loaded-radar",
        "colab": {
          "base_uri": "https://localhost:8080/"
        },
        "outputId": "ca32fd19-7051-43c5-8fcc-4b93161fd76d"
      },
      "source": [
        "%%time\n",
        "\n",
        "# compute() is used to show the result in dask\n",
        "z.compute()         "
      ],
      "id": "loaded-radar",
      "execution_count": 9,
      "outputs": [
        {
          "output_type": "stream",
          "name": "stdout",
          "text": [
            "CPU times: user 22.6 ms, sys: 4.98 ms, total: 27.6 ms\n",
            "Wall time: 5.01 s\n"
          ]
        }
      ]
    },
    {
      "cell_type": "markdown",
      "metadata": {
        "id": "surrounded-vitamin"
      },
      "source": [
        "**Note**: When we create an object, it is just a blueprint until you call `compute()`. That is when the job gets distributed to all the workers, and the actual function gets called, or concrete values are generated. "
      ],
      "id": "surrounded-vitamin"
    },
    {
      "cell_type": "markdown",
      "metadata": {
        "id": "instructional-edinburgh"
      },
      "source": [
        "The total time taken has been reduced. This is the basic concept of parallel computing. Dask makes it very convenient.\n",
        "\n",
        "To know more about delayed function, click [here](https://docs.dask.org/en/latest/delayed.html) "
      ],
      "id": "instructional-edinburgh"
    },
    {
      "cell_type": "markdown",
      "metadata": {
        "id": "XK77RalhRLVX"
      },
      "source": [
        "### Arrays\n",
        "\n",
        "![dask_array](https://cdn.iisc.talentsprint.com/CDS/Images/Dask_array.JPG)\n",
        "\n",
        "Dask array provides a parallel, larger-than-memory, n-dimensional array using blocked algorithms."
      ],
      "id": "XK77RalhRLVX"
    },
    {
      "cell_type": "markdown",
      "metadata": {
        "id": "refined-wisconsin"
      },
      "source": [
        "* Parallel: Uses all of the cores on your computer\n",
        "\n",
        "* Larger-than-memory: Lets you work on datasets that are larger than your available memory by breaking up your array into many small pieces, operating on those pieces in an order that minimizes the memory footprint of your computation, and effectively streaming data from disk.\n",
        "\n",
        "* Blocked Algorithms: Performs large computations by performing many smaller computations\n",
        "\n",
        "\n",
        "In the below example, dask arrays and normal numpy arrays are used and compared based on the time taken for execution.\n",
        "\n",
        "1. Construct a 40000x40000 array of normally distributed random values broken up into 1000x1000 sized chunks\n",
        "\n",
        "2. Take the mean along one axis\n",
        "\n",
        "3. Take every 100th element\n",
        "\n",
        "To know more about dask arrays, click [here](https://docs.dask.org/en/latest/array.html)."
      ],
      "id": "refined-wisconsin"
    },
    {
      "cell_type": "markdown",
      "metadata": {
        "id": "insured-shaft"
      },
      "source": [
        "Creating an array with random normal distribution"
      ],
      "id": "insured-shaft"
    },
    {
      "cell_type": "code",
      "metadata": {
        "id": "antique-strengthening"
      },
      "source": [
        "# creating a random normal dask array with a mean value of 20 and sigma value of 0.2\n",
        "# 1600 million element array with 1000 by 1000 chunks\n",
        "x = da.random.normal(20, 0.2, size=(40000, 40000),   \n",
        "                              chunks=(1000, 1000))   # Cut into 1000x1000 sized chunks\n",
        "# Perform NumPy-style operations to calculate mean along the rows (axis=0)\n",
        "y = x.mean(axis=0)[::100]                            "
      ],
      "id": "antique-strengthening",
      "execution_count": 10,
      "outputs": []
    },
    {
      "cell_type": "markdown",
      "metadata": {
        "id": "original-orbit"
      },
      "source": [
        "Computing the mean of x and capturing the time using the magical command"
      ],
      "id": "original-orbit"
    },
    {
      "cell_type": "code",
      "metadata": {
        "id": "WDn-xXVz9kCq",
        "colab": {
          "base_uri": "https://localhost:8080/"
        },
        "outputId": "ab8fbb0b-27be-45fb-9841-f7f63d5aabff"
      },
      "source": [
        "%%time\n",
        "# computing the mean of x \n",
        "y.compute() "
      ],
      "id": "WDn-xXVz9kCq",
      "execution_count": 11,
      "outputs": [
        {
          "output_type": "stream",
          "name": "stdout",
          "text": [
            "CPU times: user 1min 23s, sys: 180 ms, total: 1min 23s\n",
            "Wall time: 49.4 s\n"
          ]
        },
        {
          "output_type": "execute_result",
          "data": {
            "text/plain": [
              "array([20.00094746, 19.99785347, 19.99809319, 19.9998984 , 19.99969421,\n",
              "       19.99842266, 20.00018116, 20.00106936, 19.9992733 , 20.0005052 ,\n",
              "       19.99951657, 20.00032496, 20.0004534 , 20.00053995, 20.00081092,\n",
              "       20.0023743 , 20.00119148, 20.00059991, 20.00049961, 19.9968679 ,\n",
              "       19.99889371, 19.9978617 , 20.00014546, 20.0017313 , 20.00187914,\n",
              "       19.99906419, 19.99845498, 20.000242  , 20.00101154, 20.0010894 ,\n",
              "       20.00119986, 19.99953608, 19.99876945, 20.00068773, 19.99875343,\n",
              "       19.99969436, 20.00101962, 19.99978291, 19.99905313, 20.00229372,\n",
              "       19.99870726, 19.99834566, 20.00020273, 20.00026596, 19.99991652,\n",
              "       19.99896556, 20.00004423, 20.00052423, 19.99902859, 19.99997988,\n",
              "       20.00000756, 20.00016319, 20.00084371, 20.00033952, 19.99777249,\n",
              "       19.99882275, 20.0001288 , 19.99844633, 20.0008421 , 19.99922941,\n",
              "       19.9980779 , 20.00041909, 19.99915305, 20.00100082, 19.99949679,\n",
              "       19.99833644, 20.00086852, 19.99952338, 19.99955417, 19.99995679,\n",
              "       20.0002327 , 20.00003358, 19.9990733 , 20.00051084, 19.99723755,\n",
              "       19.99883935, 20.00128929, 19.99836829, 20.00064299, 20.00088287,\n",
              "       19.99861423, 20.0009731 , 20.00128882, 19.9991107 , 20.00003039,\n",
              "       20.00075727, 19.99924295, 20.00002158, 20.00007558, 19.99999752,\n",
              "       19.99841675, 19.99927778, 19.99929011, 19.99917837, 20.00097251,\n",
              "       19.99824016, 20.00143243, 20.00051243, 19.99837397, 19.99891771,\n",
              "       19.99873588, 20.0000804 , 20.00055583, 20.00006527, 20.00011921,\n",
              "       20.00083875, 20.00058121, 19.99916224, 20.00002872, 19.9998382 ,\n",
              "       20.00071788, 19.99966716, 19.99895417, 19.99973393, 19.99989081,\n",
              "       19.9988018 , 20.00128389, 20.0017507 , 20.00139329, 20.00062542,\n",
              "       20.00047129, 20.00077653, 19.99949161, 19.99935549, 19.99952113,\n",
              "       20.00260967, 20.00087886, 20.00132326, 20.00012843, 20.0014248 ,\n",
              "       19.99924114, 20.00120028, 19.9995455 , 20.0012294 , 20.00097359,\n",
              "       19.99844404, 19.99967986, 19.99912442, 19.99882888, 19.99903697,\n",
              "       19.99998193, 20.00025203, 19.99956686, 20.00116898, 20.00069975,\n",
              "       19.99859691, 20.00050635, 19.99974615, 19.99972425, 20.00096942,\n",
              "       20.00143374, 19.99934426, 20.00102325, 19.99948914, 20.00146748,\n",
              "       20.00152453, 20.00043952, 19.99985479, 19.99990955, 20.00166163,\n",
              "       20.00018651, 20.00167072, 20.00103136, 19.99742213, 19.99996149,\n",
              "       20.000479  , 19.99965064, 19.99965318, 20.00115651, 20.00237939,\n",
              "       19.99949127, 20.00308932, 20.00174558, 20.00078848, 19.99969566,\n",
              "       19.99908293, 19.99919837, 20.00019509, 19.99750362, 19.99942131,\n",
              "       19.99991458, 20.0010007 , 19.99891069, 20.0002059 , 20.00157895,\n",
              "       19.99922365, 19.99931079, 19.99983251, 19.99998332, 20.00027021,\n",
              "       19.99918236, 20.00061247, 20.00071018, 19.99972261, 19.9995539 ,\n",
              "       19.99922307, 19.9980634 , 19.99963365, 19.99957058, 20.00152021,\n",
              "       19.99952783, 20.00055469, 20.00149301, 20.00097656, 20.00035717,\n",
              "       20.0008846 , 19.9991559 , 20.00050419, 19.9992977 , 19.99900158,\n",
              "       19.99912114, 19.9994384 , 19.99917797, 20.0004917 , 20.00053734,\n",
              "       19.99926681, 20.00155234, 20.00033005, 19.99944835, 20.00050653,\n",
              "       20.00065199, 20.00178955, 20.00067916, 19.99945219, 20.00094625,\n",
              "       20.00009803, 19.99874845, 20.00178932, 19.99982102, 20.00053749,\n",
              "       20.00064594, 19.99954078, 19.99894694, 19.99837726, 19.99805731,\n",
              "       19.99883099, 19.99943586, 19.9980233 , 19.99935003, 19.99835696,\n",
              "       20.00002233, 19.99962353, 19.99853945, 19.99984011, 19.99904524,\n",
              "       19.99971455, 19.99966772, 20.00204996, 19.99740787, 20.00146305,\n",
              "       20.00106102, 19.99916475, 19.99872061, 19.9988373 , 20.00036896,\n",
              "       20.00166273, 19.9972465 , 19.99964948, 20.00023805, 20.00047253,\n",
              "       20.00077927, 20.00063515, 20.00031868, 19.9984656 , 19.99987779,\n",
              "       19.99956909, 20.00112983, 19.99958671, 19.99811519, 20.00075107,\n",
              "       19.99972457, 19.99934252, 20.00035439, 20.00210973, 19.99995028,\n",
              "       19.99908364, 20.00054616, 20.00100127, 20.00100708, 19.99885297,\n",
              "       20.00015646, 20.00100475, 19.99945111, 20.0002191 , 20.00192358,\n",
              "       19.99923363, 20.00022826, 19.99841786, 19.99965778, 19.99989418,\n",
              "       20.00278153, 19.99916055, 19.998963  , 19.99979212, 19.99995837,\n",
              "       20.00054157, 19.99920538, 19.99954552, 20.00003042, 20.0001947 ,\n",
              "       20.00023104, 19.99934798, 19.99973566, 19.99949381, 19.99933152,\n",
              "       20.00095789, 20.00000507, 19.9982009 , 20.00018857, 19.99971739,\n",
              "       19.99973293, 20.00150393, 19.99989911, 20.0001537 , 19.99796466,\n",
              "       20.00054241, 19.99916411, 19.99802019, 19.99951354, 19.99949108,\n",
              "       19.999218  , 20.00220948, 20.00076072, 19.99925441, 19.99872514,\n",
              "       19.99889903, 19.99859968, 20.00018277, 19.99699855, 19.99928039,\n",
              "       19.99880682, 19.99919149, 20.00093663, 20.00082045, 20.00066051,\n",
              "       20.00129282, 20.00048612, 20.00238521, 20.0008214 , 20.0011899 ,\n",
              "       19.99898747, 20.000707  , 19.99951455, 19.99872283, 20.00094787,\n",
              "       20.00033325, 20.00050921, 20.00086781, 19.99863531, 20.00059293,\n",
              "       19.99921301, 20.00180166, 19.99960539, 20.00004569, 20.00045713,\n",
              "       20.00044633, 19.99916607, 20.00019241, 20.00090358, 20.00013191,\n",
              "       20.00072471, 20.00078476, 20.00088803, 19.99998497, 20.00007146,\n",
              "       19.99905253, 19.99949472, 20.00065647, 20.00067125, 20.00026103,\n",
              "       19.99928428, 20.00142047, 19.99976278, 20.00002892, 19.99912291,\n",
              "       19.99964369, 19.99892745, 20.00019672, 19.99966009, 19.99964961,\n",
              "       19.99845016, 19.99969698, 19.99784782, 20.00099081, 20.00112987,\n",
              "       20.00010345, 20.00000035, 19.99881259, 19.99937325, 20.00209629,\n",
              "       20.00006405, 19.99975259, 20.00126098, 20.00036131, 20.00147313,\n",
              "       19.99779473, 20.00196786, 19.99867903, 20.00025393, 20.00049995])"
            ]
          },
          "metadata": {},
          "execution_count": 11
        }
      ]
    },
    {
      "cell_type": "markdown",
      "metadata": {
        "id": "virtual-communications"
      },
      "source": [
        "Dask.array is a NumPy-like library that operates on large datasets that don’t fit into memory. It extends beyond the linear problems to full N-Dimensional algorithms and a decent subset of the NumPy interface.\n",
        "\n",
        "Create ``dask.array`` object\n",
        "\n",
        "We can create a `dask.array` Array object with the `da.from_array` function. This function accepts\n",
        "\n",
        "1. data: Any object that supports NumPy slicing\n",
        "\n",
        "2. [chunks](https://docs.dask.org/en/latest/array-chunks.html): A chunk size defines the size of the numpy arrays\n"
      ],
      "id": "virtual-communications"
    },
    {
      "cell_type": "markdown",
      "metadata": {
        "id": "white-plane"
      },
      "source": [
        "**Manipulate ``dask.array`` object as a numpy array**\n",
        "\n",
        "Now we have an Array and we perform standard numpy-style computations that include arithmetic, mathematics, slicing, reductions, etc.\n",
        "\n",
        "The interface is familiar, but the actual work is different. dask_array.sum() does not do the same thing as numpy_array.sum().\n",
        "\n",
        "**What’s the difference?**\n",
        "\n",
        "dask_array.sum() builds an expression of the computation. It does not do the computation yet. numpy_array.sum() computes the sum immediately.\n",
        "\n",
        "*Why the difference?*\n",
        "\n",
        "Dask arrays are split into chunks. Each chunk must have computations run on that chunk explicitly. If the desired answer comes from a small slice of the entire dataset, running the computation overall data would be wasteful of CPU and memory.\n",
        "\n"
      ],
      "id": "white-plane"
    },
    {
      "cell_type": "markdown",
      "metadata": {
        "id": "precise-barcelona"
      },
      "source": [
        "#### Performance comparison\n",
        "\n",
        "Let's create a random numpy array of normal distribution.\n"
      ],
      "id": "precise-barcelona"
    },
    {
      "cell_type": "code",
      "metadata": {
        "id": "mobile-triple",
        "colab": {
          "base_uri": "https://localhost:8080/"
        },
        "outputId": "97b215de-d3aa-4ba1-a0aa-eaeb523a0d53"
      },
      "source": [
        "%%time\n",
        "# create a normal distribution array with 400 million element using numpy\n",
        "x = np.random.normal(20, 0.2, size=(20000, 20000))   \n",
        "# calculate the mean  \n",
        "y = x.mean(axis=0)[::100]                              \n",
        "y"
      ],
      "id": "mobile-triple",
      "execution_count": 12,
      "outputs": [
        {
          "output_type": "stream",
          "name": "stdout",
          "text": [
            "CPU times: user 15.4 s, sys: 3.06 s, total: 18.4 s\n",
            "Wall time: 18.7 s\n"
          ]
        },
        {
          "output_type": "execute_result",
          "data": {
            "text/plain": [
              "array([19.99951343, 19.99867337, 19.99979035, 19.99722434, 19.99830157,\n",
              "       20.00209041, 19.99884798, 20.00072441, 20.00114336, 20.00122406,\n",
              "       19.99926689, 19.99922199, 19.99878365, 19.99984114, 20.00143835,\n",
              "       19.99846003, 19.99953117, 19.99899038, 19.99872595, 20.00439874,\n",
              "       20.00111329, 20.00091844, 19.99799022, 20.00043092, 20.00153321,\n",
              "       20.00184373, 19.99888375, 20.00135498, 19.9984811 , 19.99901129,\n",
              "       19.99909088, 20.00051781, 20.0005161 , 20.00000172, 19.99936778,\n",
              "       20.00026682, 19.99998928, 20.00064345, 20.00019369, 19.9985683 ,\n",
              "       19.99936641, 19.99794256, 19.9982863 , 20.00016015, 19.99823822,\n",
              "       20.00071401, 19.99755745, 19.99804462, 19.99933093, 20.00037542,\n",
              "       20.00328957, 19.99771856, 20.00037413, 20.00071271, 20.00110011,\n",
              "       19.99755173, 19.99924657, 20.00061306, 20.00089636, 20.00173411,\n",
              "       19.99945454, 20.00140815, 19.99976972, 19.99865609, 20.0004269 ,\n",
              "       19.99938081, 19.9989395 , 20.00206462, 20.00094167, 20.00296613,\n",
              "       19.99944096, 20.00029411, 20.00097516, 20.00063928, 19.99965977,\n",
              "       19.99813905, 20.00239505, 20.0004146 , 19.99971831, 20.00379015,\n",
              "       19.99934651, 19.99893288, 20.00165268, 19.99757529, 19.99907533,\n",
              "       19.99727963, 20.00017455, 20.00085034, 19.99564952, 19.99766096,\n",
              "       19.99919824, 19.99815626, 20.00272849, 20.00008887, 19.99997389,\n",
              "       20.00196653, 20.00186269, 19.99998515, 19.99718612, 19.99874935,\n",
              "       19.99846943, 20.00076342, 19.9982687 , 19.99856278, 20.00036722,\n",
              "       20.0017165 , 19.99961577, 19.99966178, 19.99913898, 20.00008796,\n",
              "       19.99889185, 19.99940876, 19.99893938, 19.99894591, 20.00087245,\n",
              "       19.99680136, 19.99869894, 20.00014971, 19.99857718, 19.99759887,\n",
              "       19.99877473, 20.00149197, 19.99991286, 20.00104101, 19.99990311,\n",
              "       19.99904475, 20.00256908, 20.00153765, 20.00106098, 20.00011109,\n",
              "       20.00102272, 20.00041586, 19.9999343 , 19.99888942, 20.00102924,\n",
              "       20.00016253, 20.00153   , 20.00133528, 20.00058538, 20.000211  ,\n",
              "       20.0002271 , 19.99659795, 19.99986845, 20.00244948, 20.00131118,\n",
              "       20.0023108 , 19.9985535 , 19.99787884, 20.00044644, 20.00179607,\n",
              "       19.99999489, 19.99921967, 20.0004382 , 19.99899017, 19.99921379,\n",
              "       20.00070871, 19.99984828, 19.99980256, 19.9989473 , 20.0012856 ,\n",
              "       20.00251191, 19.99927137, 20.00156241, 20.00185868, 20.00232797,\n",
              "       19.99841786, 19.99954402, 20.00188501, 19.99937006, 20.00094149,\n",
              "       20.00134731, 19.99782105, 19.9953098 , 20.00049563, 19.99914524,\n",
              "       20.00132093, 20.00285703, 20.00207204, 19.99991263, 19.99890885,\n",
              "       19.99972718, 19.99772991, 20.00022328, 19.9994476 , 20.00014497,\n",
              "       19.99923986, 19.9996658 , 19.99929208, 19.99907971, 19.99991185,\n",
              "       20.00003305, 20.00120406, 19.99942129, 19.99965061, 20.00082436,\n",
              "       19.9997288 , 20.00215787, 20.00029266, 20.00091401, 20.00136969])"
            ]
          },
          "metadata": {},
          "execution_count": 12
        }
      ]
    },
    {
      "cell_type": "markdown",
      "metadata": {
        "id": "capital-villa"
      },
      "source": [
        "\n",
        "Now Let's create a random dask array with normal distribution."
      ],
      "id": "capital-villa"
    },
    {
      "cell_type": "code",
      "metadata": {
        "id": "involved-festival",
        "colab": {
          "base_uri": "https://localhost:8080/"
        },
        "outputId": "1b93e22e-9220-4ec1-9d6b-19b4b36a1593"
      },
      "source": [
        "%%time\n",
        "# created the same array as above and made chunks of size 1000x1000\n",
        "x = da.random.normal(20, 0.2, size=(20000, 20000), chunks=(1000, 1000))   \n",
        "# calculate the mean \n",
        "y = x.mean(axis=0)[::100]                                                  \n",
        "y.compute()"
      ],
      "id": "involved-festival",
      "execution_count": 13,
      "outputs": [
        {
          "output_type": "stream",
          "name": "stdout",
          "text": [
            "CPU times: user 20.6 s, sys: 59.7 ms, total: 20.7 s\n",
            "Wall time: 12.4 s\n"
          ]
        },
        {
          "output_type": "execute_result",
          "data": {
            "text/plain": [
              "array([20.00100947, 19.99850573, 20.0014505 , 19.99942043, 20.00039   ,\n",
              "       19.99954578, 19.99978133, 19.99841043, 19.99968622, 20.00150707,\n",
              "       19.99941952, 20.00264536, 19.99807036, 19.99984829, 20.00231749,\n",
              "       19.99985027, 19.9989628 , 19.99764944, 19.9986671 , 19.99982371,\n",
              "       20.00072089, 19.99883435, 19.99920983, 19.9988859 , 20.00102838,\n",
              "       19.9996255 , 19.99960063, 19.99876754, 20.00154893, 19.99795926,\n",
              "       19.99868927, 19.9988194 , 20.00119575, 20.00254542, 20.0004816 ,\n",
              "       19.99633613, 20.00183347, 20.00074025, 20.00120212, 20.00046269,\n",
              "       19.99949783, 19.99900474, 20.0008875 , 20.00092036, 19.99892348,\n",
              "       20.00245774, 20.00170582, 19.99830181, 20.00172827, 19.99792484,\n",
              "       19.99922032, 19.99925898, 20.00261513, 20.00138632, 19.99821587,\n",
              "       19.99886756, 19.99765816, 19.99953967, 20.00224265, 20.00244869,\n",
              "       19.99928331, 20.00003942, 20.00076773, 19.99776907, 19.99886749,\n",
              "       20.0028505 , 20.00146231, 19.99838345, 20.00105763, 19.99766863,\n",
              "       20.00291077, 19.9998984 , 20.00093111, 20.00092343, 20.00334191,\n",
              "       19.99912053, 20.00023978, 20.00025978, 20.0012748 , 20.00145865,\n",
              "       20.00037519, 20.00303581, 20.00040578, 20.00006823, 19.99931213,\n",
              "       19.99798246, 20.00113866, 20.00021601, 19.99804495, 19.99797717,\n",
              "       20.00173469, 20.00006102, 20.00156956, 19.99948115, 20.00137473,\n",
              "       20.00042662, 19.99761835, 19.99701748, 20.00030895, 19.99785466,\n",
              "       20.00077046, 19.99948601, 20.00090052, 19.99998649, 20.00037878,\n",
              "       19.99976207, 20.00031096, 19.99915312, 19.99905254, 20.00277052,\n",
              "       19.99951768, 19.99991563, 20.00053204, 19.99914923, 20.00240287,\n",
              "       20.00039679, 19.99751983, 19.99973804, 19.99923206, 20.00078216,\n",
              "       20.00321414, 20.00066698, 19.99939046, 20.00110367, 20.00162608,\n",
              "       20.00195638, 19.99807449, 19.99813703, 20.00247177, 20.00067333,\n",
              "       20.00025593, 19.99921601, 20.00024305, 20.00210824, 20.00043725,\n",
              "       19.99940194, 20.00018397, 20.00111965, 19.99793194, 19.99937311,\n",
              "       20.00174729, 19.99874164, 19.99914265, 20.00066075, 19.99936845,\n",
              "       19.99903594, 20.00310095, 19.99932747, 19.99807179, 19.99821496,\n",
              "       20.00101923, 19.99971041, 19.99995408, 19.99829852, 19.9993578 ,\n",
              "       19.99916296, 19.99980766, 20.00105716, 19.99885777, 20.00002154,\n",
              "       19.99969217, 19.99906444, 20.00275366, 20.00245329, 20.00173427,\n",
              "       19.99950636, 19.99855201, 19.99853054, 20.00093028, 19.99920023,\n",
              "       19.99852946, 19.9998585 , 20.0007269 , 20.00094622, 19.99760379,\n",
              "       20.00134291, 19.99897182, 20.00346278, 19.99882641, 20.00160824,\n",
              "       19.99995072, 20.00126252, 19.99941642, 20.00169344, 20.00084691,\n",
              "       19.99803045, 20.00345083, 20.00063244, 20.00042671, 19.99910855,\n",
              "       19.99920468, 19.99990964, 19.9990009 , 19.99880442, 19.99979717,\n",
              "       19.99973213, 19.99980668, 19.99987406, 20.00111207, 20.00056259])"
            ]
          },
          "metadata": {},
          "execution_count": 13
        }
      ]
    },
    {
      "cell_type": "markdown",
      "metadata": {
        "id": "found-reporter"
      },
      "source": [
        "Notice that the Dask array computation ran in ~13 seconds but used ~25 seconds of user CPU time. The numpy computation ran in ~19 seconds and used ~18 seconds of user CPU time.\n",
        "\n",
        "Dask finished faster but used more total CPU time because Dask was able to transparently parallelize the computation because of the chunk size."
      ],
      "id": "found-reporter"
    },
    {
      "cell_type": "markdown",
      "metadata": {
        "id": "0aDsiToL_G8b"
      },
      "source": [
        "Let us study another example on dask arrays."
      ],
      "id": "0aDsiToL_G8b"
    },
    {
      "cell_type": "code",
      "metadata": {
        "id": "5XRgC93P-4S_",
        "colab": {
          "base_uri": "https://localhost:8080/"
        },
        "outputId": "53d9cd92-6b50-4463-ff6e-b7a4c3f3c40b"
      },
      "source": [
        "# define the shape of the array\n",
        "shape = (1000, 4000)                      \n",
        "ones_np = np.ones(shape)\n",
        "ones_np"
      ],
      "id": "5XRgC93P-4S_",
      "execution_count": 14,
      "outputs": [
        {
          "output_type": "execute_result",
          "data": {
            "text/plain": [
              "array([[1., 1., 1., ..., 1., 1., 1.],\n",
              "       [1., 1., 1., ..., 1., 1., 1.],\n",
              "       [1., 1., 1., ..., 1., 1., 1.],\n",
              "       ...,\n",
              "       [1., 1., 1., ..., 1., 1., 1.],\n",
              "       [1., 1., 1., ..., 1., 1., 1.],\n",
              "       [1., 1., 1., ..., 1., 1., 1.]])"
            ]
          },
          "metadata": {},
          "execution_count": 14
        }
      ]
    },
    {
      "cell_type": "markdown",
      "metadata": {
        "id": "EwCEJrZH_DnO"
      },
      "source": [
        "This array contains exactly 32 MB of data:"
      ],
      "id": "EwCEJrZH_DnO"
    },
    {
      "cell_type": "code",
      "metadata": {
        "id": "CNcUXl30_XV_",
        "colab": {
          "base_uri": "https://localhost:8080/"
        },
        "outputId": "f77eb3e3-5c16-4e78-f6d8-1934bf3379a1"
      },
      "source": [
        "# print the memory of array created\n",
        "print('%.1f MB' % (ones_np.nbytes / 1e6))                                  "
      ],
      "id": "CNcUXl30_XV_",
      "execution_count": 15,
      "outputs": [
        {
          "output_type": "stream",
          "name": "stdout",
          "text": [
            "32.0 MB\n"
          ]
        }
      ]
    },
    {
      "cell_type": "markdown",
      "metadata": {
        "id": "oHJCX0Jq_ldt"
      },
      "source": [
        "Now let’s create the same array using dask’s array interface.\n",
        "\n",
        "A crucial difference with dask is that we must specify the chunks argument. “Chunks” describes how the array is split up over many sub-arrays."
      ],
      "id": "oHJCX0Jq_ldt"
    },
    {
      "cell_type": "code",
      "metadata": {
        "id": "2vMwTmHo_shW",
        "colab": {
          "base_uri": "https://localhost:8080/",
          "height": 120
        },
        "outputId": "9c6070e3-3b84-4291-e3fe-9555035d3404"
      },
      "source": [
        "# defining chunk in dask array\n",
        "chunk_shape = (1000, 1000)\n",
        "ones = da.ones(shape, chunks=chunk_shape)\n",
        "ones"
      ],
      "id": "2vMwTmHo_shW",
      "execution_count": 16,
      "outputs": [
        {
          "output_type": "execute_result",
          "data": {
            "text/plain": [
              "dask.array<ones_like, shape=(1000, 4000), dtype=float64, chunksize=(1000, 1000), chunktype=numpy.ndarray>"
            ],
            "text/html": [
              "<table>\n",
              "    <tr>\n",
              "        <td>\n",
              "            <table style=\"border-collapse: collapse;\">\n",
              "                <thead>\n",
              "                    <tr>\n",
              "                        <td> </td>\n",
              "                        <th> Array </th>\n",
              "                        <th> Chunk </th>\n",
              "                    </tr>\n",
              "                </thead>\n",
              "                <tbody>\n",
              "                    \n",
              "                    <tr>\n",
              "                        <th> Bytes </th>\n",
              "                        <td> 30.52 MiB </td>\n",
              "                        <td> 7.63 MiB </td>\n",
              "                    </tr>\n",
              "                    \n",
              "                    <tr>\n",
              "                        <th> Shape </th>\n",
              "                        <td> (1000, 4000) </td>\n",
              "                        <td> (1000, 1000) </td>\n",
              "                    </tr>\n",
              "                    <tr>\n",
              "                        <th> Dask graph </th>\n",
              "                        <td colspan=\"2\"> 4 chunks in 1 graph layer </td>\n",
              "                    </tr>\n",
              "                    <tr>\n",
              "                        <th> Data type </th>\n",
              "                        <td colspan=\"2\"> float64 numpy.ndarray </td>\n",
              "                    </tr>\n",
              "                </tbody>\n",
              "            </table>\n",
              "        </td>\n",
              "        <td>\n",
              "        <svg width=\"170\" height=\"92\" style=\"stroke:rgb(0,0,0);stroke-width:1\" >\n",
              "\n",
              "  <!-- Horizontal lines -->\n",
              "  <line x1=\"0\" y1=\"0\" x2=\"120\" y2=\"0\" style=\"stroke-width:2\" />\n",
              "  <line x1=\"0\" y1=\"42\" x2=\"120\" y2=\"42\" style=\"stroke-width:2\" />\n",
              "\n",
              "  <!-- Vertical lines -->\n",
              "  <line x1=\"0\" y1=\"0\" x2=\"0\" y2=\"42\" style=\"stroke-width:2\" />\n",
              "  <line x1=\"30\" y1=\"0\" x2=\"30\" y2=\"42\" />\n",
              "  <line x1=\"60\" y1=\"0\" x2=\"60\" y2=\"42\" />\n",
              "  <line x1=\"90\" y1=\"0\" x2=\"90\" y2=\"42\" />\n",
              "  <line x1=\"120\" y1=\"0\" x2=\"120\" y2=\"42\" style=\"stroke-width:2\" />\n",
              "\n",
              "  <!-- Colored Rectangle -->\n",
              "  <polygon points=\"0.0,0.0 120.0,0.0 120.0,42.89879552186203 0.0,42.89879552186203\" style=\"fill:#ECB172A0;stroke-width:0\"/>\n",
              "\n",
              "  <!-- Text -->\n",
              "  <text x=\"60.000000\" y=\"62.898796\" font-size=\"1.0rem\" font-weight=\"100\" text-anchor=\"middle\" >4000</text>\n",
              "  <text x=\"140.000000\" y=\"21.449398\" font-size=\"1.0rem\" font-weight=\"100\" text-anchor=\"middle\" transform=\"rotate(-90,140.000000,21.449398)\">1000</text>\n",
              "</svg>\n",
              "        </td>\n",
              "    </tr>\n",
              "</table>"
            ]
          },
          "metadata": {},
          "execution_count": 16
        }
      ]
    },
    {
      "cell_type": "markdown",
      "metadata": {
        "id": "JOvkTZkU_-Nr"
      },
      "source": [
        "Notice that we just see a symbolic representation of the array, including its shape, dtype, and chunk size. No data has been generated yet. When we call .compute() on a dask array, the computation is triggered, and the dask array becomes a numpy array."
      ],
      "id": "JOvkTZkU_-Nr"
    },
    {
      "cell_type": "code",
      "metadata": {
        "id": "1Ecr38LuAFfQ",
        "colab": {
          "base_uri": "https://localhost:8080/"
        },
        "outputId": "756246a2-9095-4a75-f279-cf7ca1e764ea"
      },
      "source": [
        "ones.compute()            "
      ],
      "id": "1Ecr38LuAFfQ",
      "execution_count": 17,
      "outputs": [
        {
          "output_type": "execute_result",
          "data": {
            "text/plain": [
              "array([[1., 1., 1., ..., 1., 1., 1.],\n",
              "       [1., 1., 1., ..., 1., 1., 1.],\n",
              "       [1., 1., 1., ..., 1., 1., 1.],\n",
              "       ...,\n",
              "       [1., 1., 1., ..., 1., 1., 1.],\n",
              "       [1., 1., 1., ..., 1., 1., 1.],\n",
              "       [1., 1., 1., ..., 1., 1., 1.]])"
            ]
          },
          "metadata": {},
          "execution_count": 17
        }
      ]
    },
    {
      "cell_type": "markdown",
      "metadata": {
        "id": "DAl1yL0jAHYO"
      },
      "source": [
        "In order to understand what happened when we called .compute(), we can visualize the dask graph, the symbolic operations that make up the array"
      ],
      "id": "DAl1yL0jAHYO"
    },
    {
      "cell_type": "code",
      "metadata": {
        "id": "ABGAp0ohAKtP",
        "colab": {
          "base_uri": "https://localhost:8080/",
          "height": 256
        },
        "outputId": "c1096d2d-9774-4e02-8f76-53adc32a1e4e"
      },
      "source": [
        "ones.visualize(format='svg')"
      ],
      "id": "ABGAp0ohAKtP",
      "execution_count": 18,
      "outputs": [
        {
          "output_type": "execute_result",
          "data": {
            "text/plain": [
              "<IPython.core.display.SVG object>"
            ],
            "image/svg+xml": "<svg xmlns=\"http://www.w3.org/2000/svg\" xmlns:xlink=\"http://www.w3.org/1999/xlink\" width=\"446pt\" height=\"176pt\" viewBox=\"0.00 0.00 446.19 176.19\">\n<g id=\"graph0\" class=\"graph\" transform=\"scale(1 1) rotate(0) translate(4 172.19)\">\n<title>%3</title>\n<polygon fill=\"white\" stroke=\"transparent\" points=\"-4,4 -4,-172.19 442.19,-172.19 442.19,4 -4,4\"/>\n<!-- 7744656202057650257 -->\n<g id=\"node1\" class=\"node\">\n<title>7744656202057650257</title>\n<ellipse fill=\"none\" stroke=\"black\" cx=\"48.1\" cy=\"-48.1\" rx=\"48.19\" ry=\"48.19\"/>\n<text text-anchor=\"middle\" x=\"48.1\" y=\"-44.4\" font-family=\"Helvetica,sans-Serif\" font-size=\"14.00\">ones_like</text>\n</g>\n<!-- 6851821346568376895 -->\n<g id=\"node2\" class=\"node\">\n<title>6851821346568376895</title>\n<polygon fill=\"none\" stroke=\"black\" points=\"75.1,-168.19 21.1,-168.19 21.1,-132.19 75.1,-132.19 75.1,-168.19\"/>\n<text text-anchor=\"middle\" x=\"48.1\" y=\"-146.49\" font-family=\"Helvetica,sans-Serif\" font-size=\"14.00\">(0, 0)</text>\n</g>\n<!-- 7744656202057650257&#45;&gt;6851821346568376895 -->\n<g id=\"edge1\" class=\"edge\">\n<title>7744656202057650257-&gt;6851821346568376895</title>\n<path fill=\"none\" stroke=\"black\" d=\"M48.1,-96.21C48.1,-105 48.1,-113.9 48.1,-121.84\"/>\n<polygon fill=\"black\" stroke=\"black\" points=\"44.6,-121.97 48.1,-131.97 51.6,-121.97 44.6,-121.97\"/>\n</g>\n<!-- 780991721904159344 -->\n<g id=\"node3\" class=\"node\">\n<title>780991721904159344</title>\n<ellipse fill=\"none\" stroke=\"black\" cx=\"162.1\" cy=\"-48.1\" rx=\"48.19\" ry=\"48.19\"/>\n<text text-anchor=\"middle\" x=\"162.1\" y=\"-44.4\" font-family=\"Helvetica,sans-Serif\" font-size=\"14.00\">ones_like</text>\n</g>\n<!-- &#45;5087281971039176296 -->\n<g id=\"node4\" class=\"node\">\n<title>-5087281971039176296</title>\n<polygon fill=\"none\" stroke=\"black\" points=\"189.1,-168.19 135.1,-168.19 135.1,-132.19 189.1,-132.19 189.1,-168.19\"/>\n<text text-anchor=\"middle\" x=\"162.1\" y=\"-146.49\" font-family=\"Helvetica,sans-Serif\" font-size=\"14.00\">(0, 1)</text>\n</g>\n<!-- 780991721904159344&#45;&gt;&#45;5087281971039176296 -->\n<g id=\"edge2\" class=\"edge\">\n<title>780991721904159344-&gt;-5087281971039176296</title>\n<path fill=\"none\" stroke=\"black\" d=\"M162.1,-96.21C162.1,-105 162.1,-113.9 162.1,-121.84\"/>\n<polygon fill=\"black\" stroke=\"black\" points=\"158.6,-121.97 162.1,-131.97 165.6,-121.97 158.6,-121.97\"/>\n</g>\n<!-- &#45;255847690368161299 -->\n<g id=\"node5\" class=\"node\">\n<title>-255847690368161299</title>\n<ellipse fill=\"none\" stroke=\"black\" cx=\"276.1\" cy=\"-48.1\" rx=\"48.19\" ry=\"48.19\"/>\n<text text-anchor=\"middle\" x=\"276.1\" y=\"-44.4\" font-family=\"Helvetica,sans-Serif\" font-size=\"14.00\">ones_like</text>\n</g>\n<!-- 4068030690713310826 -->\n<g id=\"node6\" class=\"node\">\n<title>4068030690713310826</title>\n<polygon fill=\"none\" stroke=\"black\" points=\"303.1,-168.19 249.1,-168.19 249.1,-132.19 303.1,-132.19 303.1,-168.19\"/>\n<text text-anchor=\"middle\" x=\"276.1\" y=\"-146.49\" font-family=\"Helvetica,sans-Serif\" font-size=\"14.00\">(0, 2)</text>\n</g>\n<!-- &#45;255847690368161299&#45;&gt;4068030690713310826 -->\n<g id=\"edge3\" class=\"edge\">\n<title>-255847690368161299-&gt;4068030690713310826</title>\n<path fill=\"none\" stroke=\"black\" d=\"M276.1,-96.21C276.1,-105 276.1,-113.9 276.1,-121.84\"/>\n<polygon fill=\"black\" stroke=\"black\" points=\"272.6,-121.97 276.1,-131.97 279.6,-121.97 272.6,-121.97\"/>\n</g>\n<!-- &#45;8106003884151591166 -->\n<g id=\"node7\" class=\"node\">\n<title>-8106003884151591166</title>\n<ellipse fill=\"none\" stroke=\"black\" cx=\"390.1\" cy=\"-48.1\" rx=\"48.19\" ry=\"48.19\"/>\n<text text-anchor=\"middle\" x=\"390.1\" y=\"-44.4\" font-family=\"Helvetica,sans-Serif\" font-size=\"14.00\">ones_like</text>\n</g>\n<!-- &#45;7871072626894242365 -->\n<g id=\"node8\" class=\"node\">\n<title>-7871072626894242365</title>\n<polygon fill=\"none\" stroke=\"black\" points=\"417.1,-168.19 363.1,-168.19 363.1,-132.19 417.1,-132.19 417.1,-168.19\"/>\n<text text-anchor=\"middle\" x=\"390.1\" y=\"-146.49\" font-family=\"Helvetica,sans-Serif\" font-size=\"14.00\">(0, 3)</text>\n</g>\n<!-- &#45;8106003884151591166&#45;&gt;&#45;7871072626894242365 -->\n<g id=\"edge4\" class=\"edge\">\n<title>-8106003884151591166-&gt;-7871072626894242365</title>\n<path fill=\"none\" stroke=\"black\" d=\"M390.1,-96.21C390.1,-105 390.1,-113.9 390.1,-121.84\"/>\n<polygon fill=\"black\" stroke=\"black\" points=\"386.6,-121.97 390.1,-131.97 393.6,-121.97 386.6,-121.97\"/>\n</g>\n</g>\n</svg>"
          },
          "metadata": {},
          "execution_count": 18
        }
      ]
    },
    {
      "cell_type": "markdown",
      "metadata": {
        "id": "8p-P_I4MAOYA"
      },
      "source": [
        "Our array has four chunks. To generate it, dask calls np.ones four times and then concatenates this together into one array.\n",
        "\n",
        "Rather than immediately loading a dask array (which puts all the data into RAM), it is more common to reduce the data somehow."
      ],
      "id": "8p-P_I4MAOYA"
    },
    {
      "cell_type": "code",
      "metadata": {
        "id": "7wogfk0WASfV",
        "colab": {
          "base_uri": "https://localhost:8080/",
          "height": 1000
        },
        "outputId": "5ff128bd-852f-49ae-cf8e-a46f54333ddf"
      },
      "source": [
        "# calculate the sum of elements of dask array\n",
        "sum_of_ones = ones.sum()   \n",
        "# visualize the sum operation in dask                     \n",
        "sum_of_ones.visualize(format='svg')             "
      ],
      "id": "7wogfk0WASfV",
      "execution_count": 19,
      "outputs": [
        {
          "output_type": "execute_result",
          "data": {
            "text/plain": [
              "<IPython.core.display.SVG object>"
            ],
            "image/svg+xml": "<svg xmlns=\"http://www.w3.org/2000/svg\" xmlns:xlink=\"http://www.w3.org/1999/xlink\" width=\"449pt\" height=\"806pt\" viewBox=\"0.00 0.00 449.19 805.66\">\n<g id=\"graph0\" class=\"graph\" transform=\"scale(1 1) rotate(0) translate(4 801.66)\">\n<title>%3</title>\n<polygon fill=\"white\" stroke=\"transparent\" points=\"-4,4 -4,-801.66 445.19,-801.66 445.19,4 -4,4\"/>\n<!-- 7744656202057650257 -->\n<g id=\"node1\" class=\"node\">\n<title>7744656202057650257</title>\n<ellipse fill=\"none\" stroke=\"black\" cx=\"48.1\" cy=\"-48.1\" rx=\"48.19\" ry=\"48.19\"/>\n<text text-anchor=\"middle\" x=\"48.1\" y=\"-44.4\" font-family=\"Helvetica,sans-Serif\" font-size=\"14.00\">ones_like</text>\n</g>\n<!-- 6851821346568376895 -->\n<g id=\"node2\" class=\"node\">\n<title>6851821346568376895</title>\n<polygon fill=\"none\" stroke=\"black\" points=\"92.1,-168.19 38.1,-168.19 38.1,-132.19 92.1,-132.19 92.1,-168.19\"/>\n<text text-anchor=\"middle\" x=\"65.1\" y=\"-146.49\" font-family=\"Helvetica,sans-Serif\" font-size=\"14.00\">(0, 0)</text>\n</g>\n<!-- 7744656202057650257&#45;&gt;6851821346568376895 -->\n<g id=\"edge1\" class=\"edge\">\n<title>7744656202057650257-&gt;6851821346568376895</title>\n<path fill=\"none\" stroke=\"black\" d=\"M56,-95.63C57.52,-104.57 59.06,-113.67 60.44,-121.76\"/>\n<polygon fill=\"black\" stroke=\"black\" points=\"57.01,-122.46 62.13,-131.73 63.91,-121.29 57.01,-122.46\"/>\n</g>\n<!-- 7663621535995188590 -->\n<g id=\"node9\" class=\"node\">\n<title>7663621535995188590</title>\n<ellipse fill=\"none\" stroke=\"black\" cx=\"74.1\" cy=\"-232.14\" rx=\"27.9\" ry=\"27.9\"/>\n<text text-anchor=\"middle\" x=\"74.1\" y=\"-228.44\" font-family=\"Helvetica,sans-Serif\" font-size=\"14.00\">sum</text>\n</g>\n<!-- 6851821346568376895&#45;&gt;7663621535995188590 -->\n<g id=\"edge6\" class=\"edge\">\n<title>6851821346568376895-&gt;7663621535995188590</title>\n<path fill=\"none\" stroke=\"black\" d=\"M67.05,-168.54C67.89,-176 68.9,-185.03 69.9,-193.88\"/>\n<polygon fill=\"black\" stroke=\"black\" points=\"66.45,-194.53 71.05,-204.08 73.41,-193.75 66.45,-194.53\"/>\n</g>\n<!-- 780991721904159344 -->\n<g id=\"node3\" class=\"node\">\n<title>780991721904159344</title>\n<ellipse fill=\"none\" stroke=\"black\" cx=\"162.1\" cy=\"-48.1\" rx=\"48.19\" ry=\"48.19\"/>\n<text text-anchor=\"middle\" x=\"162.1\" y=\"-44.4\" font-family=\"Helvetica,sans-Serif\" font-size=\"14.00\">ones_like</text>\n</g>\n<!-- &#45;5087281971039176296 -->\n<g id=\"node4\" class=\"node\">\n<title>-5087281971039176296</title>\n<polygon fill=\"none\" stroke=\"black\" points=\"183.1,-168.19 129.1,-168.19 129.1,-132.19 183.1,-132.19 183.1,-168.19\"/>\n<text text-anchor=\"middle\" x=\"156.1\" y=\"-146.49\" font-family=\"Helvetica,sans-Serif\" font-size=\"14.00\">(0, 1)</text>\n</g>\n<!-- 780991721904159344&#45;&gt;&#45;5087281971039176296 -->\n<g id=\"edge2\" class=\"edge\">\n<title>780991721904159344-&gt;-5087281971039176296</title>\n<path fill=\"none\" stroke=\"black\" d=\"M159.27,-96.21C158.74,-105 158.21,-113.9 157.74,-121.84\"/>\n<polygon fill=\"black\" stroke=\"black\" points=\"154.23,-121.78 157.13,-131.97 161.22,-122.19 154.23,-121.78\"/>\n</g>\n<!-- &#45;5856674245055113366 -->\n<g id=\"node11\" class=\"node\">\n<title>-5856674245055113366</title>\n<ellipse fill=\"none\" stroke=\"black\" cx=\"156.1\" cy=\"-232.14\" rx=\"27.9\" ry=\"27.9\"/>\n<text text-anchor=\"middle\" x=\"156.1\" y=\"-228.44\" font-family=\"Helvetica,sans-Serif\" font-size=\"14.00\">sum</text>\n</g>\n<!-- &#45;5087281971039176296&#45;&gt;&#45;5856674245055113366 -->\n<g id=\"edge8\" class=\"edge\">\n<title>-5087281971039176296-&gt;-5856674245055113366</title>\n<path fill=\"none\" stroke=\"black\" d=\"M156.1,-168.54C156.1,-176 156.1,-185.03 156.1,-193.88\"/>\n<polygon fill=\"black\" stroke=\"black\" points=\"152.6,-194.08 156.1,-204.08 159.6,-194.08 152.6,-194.08\"/>\n</g>\n<!-- &#45;255847690368161299 -->\n<g id=\"node5\" class=\"node\">\n<title>-255847690368161299</title>\n<ellipse fill=\"none\" stroke=\"black\" cx=\"279.1\" cy=\"-48.1\" rx=\"48.19\" ry=\"48.19\"/>\n<text text-anchor=\"middle\" x=\"279.1\" y=\"-44.4\" font-family=\"Helvetica,sans-Serif\" font-size=\"14.00\">ones_like</text>\n</g>\n<!-- 4068030690713310826 -->\n<g id=\"node6\" class=\"node\">\n<title>4068030690713310826</title>\n<polygon fill=\"none\" stroke=\"black\" points=\"306.1,-168.19 252.1,-168.19 252.1,-132.19 306.1,-132.19 306.1,-168.19\"/>\n<text text-anchor=\"middle\" x=\"279.1\" y=\"-146.49\" font-family=\"Helvetica,sans-Serif\" font-size=\"14.00\">(0, 2)</text>\n</g>\n<!-- &#45;255847690368161299&#45;&gt;4068030690713310826 -->\n<g id=\"edge3\" class=\"edge\">\n<title>-255847690368161299-&gt;4068030690713310826</title>\n<path fill=\"none\" stroke=\"black\" d=\"M279.1,-96.21C279.1,-105 279.1,-113.9 279.1,-121.84\"/>\n<polygon fill=\"black\" stroke=\"black\" points=\"275.6,-121.97 279.1,-131.97 282.6,-121.97 275.6,-121.97\"/>\n</g>\n<!-- &#45;6015712455600588886 -->\n<g id=\"node13\" class=\"node\">\n<title>-6015712455600588886</title>\n<ellipse fill=\"none\" stroke=\"black\" cx=\"280.1\" cy=\"-232.14\" rx=\"27.9\" ry=\"27.9\"/>\n<text text-anchor=\"middle\" x=\"280.1\" y=\"-228.44\" font-family=\"Helvetica,sans-Serif\" font-size=\"14.00\">sum</text>\n</g>\n<!-- 4068030690713310826&#45;&gt;&#45;6015712455600588886 -->\n<g id=\"edge10\" class=\"edge\">\n<title>4068030690713310826-&gt;-6015712455600588886</title>\n<path fill=\"none\" stroke=\"black\" d=\"M279.31,-168.54C279.41,-176 279.52,-185.03 279.63,-193.88\"/>\n<polygon fill=\"black\" stroke=\"black\" points=\"276.13,-194.12 279.76,-204.08 283.13,-194.03 276.13,-194.12\"/>\n</g>\n<!-- &#45;8106003884151591166 -->\n<g id=\"node7\" class=\"node\">\n<title>-8106003884151591166</title>\n<ellipse fill=\"none\" stroke=\"black\" cx=\"393.1\" cy=\"-48.1\" rx=\"48.19\" ry=\"48.19\"/>\n<text text-anchor=\"middle\" x=\"393.1\" y=\"-44.4\" font-family=\"Helvetica,sans-Serif\" font-size=\"14.00\">ones_like</text>\n</g>\n<!-- &#45;7871072626894242365 -->\n<g id=\"node8\" class=\"node\">\n<title>-7871072626894242365</title>\n<polygon fill=\"none\" stroke=\"black\" points=\"410.1,-168.19 356.1,-168.19 356.1,-132.19 410.1,-132.19 410.1,-168.19\"/>\n<text text-anchor=\"middle\" x=\"383.1\" y=\"-146.49\" font-family=\"Helvetica,sans-Serif\" font-size=\"14.00\">(0, 3)</text>\n</g>\n<!-- &#45;8106003884151591166&#45;&gt;&#45;7871072626894242365 -->\n<g id=\"edge4\" class=\"edge\">\n<title>-8106003884151591166-&gt;-7871072626894242365</title>\n<path fill=\"none\" stroke=\"black\" d=\"M388.39,-96.21C387.51,-105 386.62,-113.9 385.83,-121.84\"/>\n<polygon fill=\"black\" stroke=\"black\" points=\"382.33,-121.67 384.82,-131.97 389.29,-122.36 382.33,-121.67\"/>\n</g>\n<!-- 5467367137955471817 -->\n<g id=\"node15\" class=\"node\">\n<title>5467367137955471817</title>\n<ellipse fill=\"none\" stroke=\"black\" cx=\"373.1\" cy=\"-232.14\" rx=\"27.9\" ry=\"27.9\"/>\n<text text-anchor=\"middle\" x=\"373.1\" y=\"-228.44\" font-family=\"Helvetica,sans-Serif\" font-size=\"14.00\">sum</text>\n</g>\n<!-- &#45;7871072626894242365&#45;&gt;5467367137955471817 -->\n<g id=\"edge12\" class=\"edge\">\n<title>-7871072626894242365-&gt;5467367137955471817</title>\n<path fill=\"none\" stroke=\"black\" d=\"M380.93,-168.54C379.97,-176.15 378.82,-185.38 377.69,-194.4\"/>\n<polygon fill=\"black\" stroke=\"black\" points=\"374.21,-194.03 376.44,-204.39 381.16,-194.9 374.21,-194.03\"/>\n</g>\n<!-- 7968185249550896356 -->\n<g id=\"node10\" class=\"node\">\n<title>7968185249550896356</title>\n<polygon fill=\"none\" stroke=\"black\" points=\"106.1,-332.09 52.1,-332.09 52.1,-296.09 106.1,-296.09 106.1,-332.09\"/>\n<text text-anchor=\"middle\" x=\"79.1\" y=\"-310.39\" font-family=\"Helvetica,sans-Serif\" font-size=\"14.00\">(0, 0)</text>\n</g>\n<!-- 7663621535995188590&#45;&gt;7968185249550896356 -->\n<g id=\"edge5\" class=\"edge\">\n<title>7663621535995188590-&gt;7968185249550896356</title>\n<path fill=\"none\" stroke=\"black\" d=\"M75.79,-260.21C76.3,-268.39 76.86,-277.39 77.38,-285.61\"/>\n<polygon fill=\"black\" stroke=\"black\" points=\"73.9,-286.06 78.02,-295.83 80.89,-285.63 73.9,-286.06\"/>\n</g>\n<!-- &#45;7503617640221806451 -->\n<g id=\"node17\" class=\"node\">\n<title>-7503617640221806451</title>\n<ellipse fill=\"none\" stroke=\"black\" cx=\"154.1\" cy=\"-422.68\" rx=\"54.69\" ry=\"54.69\"/>\n<text text-anchor=\"middle\" x=\"154.1\" y=\"-418.98\" font-family=\"Helvetica,sans-Serif\" font-size=\"14.00\">sum-partial</text>\n</g>\n<!-- 7968185249550896356&#45;&gt;&#45;7503617640221806451 -->\n<g id=\"edge14\" class=\"edge\">\n<title>7968185249550896356-&gt;-7503617640221806451</title>\n<path fill=\"none\" stroke=\"black\" d=\"M91.15,-332.21C98.28,-342.35 107.74,-355.79 117.15,-369.17\"/>\n<polygon fill=\"black\" stroke=\"black\" points=\"114.36,-371.3 122.98,-377.46 120.09,-367.27 114.36,-371.3\"/>\n</g>\n<!-- &#45;3970918068056656835 -->\n<g id=\"node12\" class=\"node\">\n<title>-3970918068056656835</title>\n<polygon fill=\"none\" stroke=\"black\" points=\"182.1,-332.09 128.1,-332.09 128.1,-296.09 182.1,-296.09 182.1,-332.09\"/>\n<text text-anchor=\"middle\" x=\"155.1\" y=\"-310.39\" font-family=\"Helvetica,sans-Serif\" font-size=\"14.00\">(0, 1)</text>\n</g>\n<!-- &#45;5856674245055113366&#45;&gt;&#45;3970918068056656835 -->\n<g id=\"edge7\" class=\"edge\">\n<title>-5856674245055113366-&gt;-3970918068056656835</title>\n<path fill=\"none\" stroke=\"black\" d=\"M155.76,-260.21C155.65,-268.39 155.54,-277.39 155.44,-285.61\"/>\n<polygon fill=\"black\" stroke=\"black\" points=\"151.94,-285.78 155.31,-295.83 158.94,-285.87 151.94,-285.78\"/>\n</g>\n<!-- &#45;3970918068056656835&#45;&gt;&#45;7503617640221806451 -->\n<g id=\"edge15\" class=\"edge\">\n<title>-3970918068056656835-&gt;-7503617640221806451</title>\n<path fill=\"none\" stroke=\"black\" d=\"M154.94,-332.21C154.87,-339.39 154.78,-348.22 154.7,-357.51\"/>\n<polygon fill=\"black\" stroke=\"black\" points=\"151.2,-357.68 154.6,-367.71 158.2,-357.75 151.2,-357.68\"/>\n</g>\n<!-- &#45;8863992097029353201 -->\n<g id=\"node14\" class=\"node\">\n<title>-8863992097029353201</title>\n<polygon fill=\"none\" stroke=\"black\" points=\"307.1,-332.09 253.1,-332.09 253.1,-296.09 307.1,-296.09 307.1,-332.09\"/>\n<text text-anchor=\"middle\" x=\"280.1\" y=\"-310.39\" font-family=\"Helvetica,sans-Serif\" font-size=\"14.00\">(0, 2)</text>\n</g>\n<!-- &#45;6015712455600588886&#45;&gt;&#45;8863992097029353201 -->\n<g id=\"edge9\" class=\"edge\">\n<title>-6015712455600588886-&gt;-8863992097029353201</title>\n<path fill=\"none\" stroke=\"black\" d=\"M280.1,-260.21C280.1,-268.39 280.1,-277.39 280.1,-285.61\"/>\n<polygon fill=\"black\" stroke=\"black\" points=\"276.6,-285.83 280.1,-295.83 283.6,-285.83 276.6,-285.83\"/>\n</g>\n<!-- 4862840943627958872 -->\n<g id=\"node19\" class=\"node\">\n<title>4862840943627958872</title>\n<ellipse fill=\"none\" stroke=\"black\" cx=\"281.1\" cy=\"-422.68\" rx=\"54.69\" ry=\"54.69\"/>\n<text text-anchor=\"middle\" x=\"281.1\" y=\"-418.98\" font-family=\"Helvetica,sans-Serif\" font-size=\"14.00\">sum-partial</text>\n</g>\n<!-- &#45;8863992097029353201&#45;&gt;4862840943627958872 -->\n<g id=\"edge18\" class=\"edge\">\n<title>-8863992097029353201-&gt;4862840943627958872</title>\n<path fill=\"none\" stroke=\"black\" d=\"M280.26,-332.21C280.32,-339.39 280.41,-348.22 280.49,-357.51\"/>\n<polygon fill=\"black\" stroke=\"black\" points=\"277,-357.75 280.59,-367.71 284,-357.68 277,-357.75\"/>\n</g>\n<!-- &#45;2356351340927354776 -->\n<g id=\"node16\" class=\"node\">\n<title>-2356351340927354776</title>\n<polygon fill=\"none\" stroke=\"black\" points=\"389.1,-332.09 335.1,-332.09 335.1,-296.09 389.1,-296.09 389.1,-332.09\"/>\n<text text-anchor=\"middle\" x=\"362.1\" y=\"-310.39\" font-family=\"Helvetica,sans-Serif\" font-size=\"14.00\">(0, 3)</text>\n</g>\n<!-- 5467367137955471817&#45;&gt;&#45;2356351340927354776 -->\n<g id=\"edge11\" class=\"edge\">\n<title>5467367137955471817-&gt;-2356351340927354776</title>\n<path fill=\"none\" stroke=\"black\" d=\"M369.37,-260.21C368.23,-268.49 366.98,-277.6 365.84,-285.89\"/>\n<polygon fill=\"black\" stroke=\"black\" points=\"362.37,-285.44 364.47,-295.83 369.3,-286.4 362.37,-285.44\"/>\n</g>\n<!-- &#45;2356351340927354776&#45;&gt;4862840943627958872 -->\n<g id=\"edge17\" class=\"edge\">\n<title>-2356351340927354776-&gt;4862840943627958872</title>\n<path fill=\"none\" stroke=\"black\" d=\"M349.08,-332.21C341.08,-342.74 330.37,-356.83 319.82,-370.72\"/>\n<polygon fill=\"black\" stroke=\"black\" points=\"316.92,-368.76 313.65,-378.84 322.49,-372.99 316.92,-368.76\"/>\n</g>\n<!-- 7920424360110932246 -->\n<g id=\"node18\" class=\"node\">\n<title>7920424360110932246</title>\n<polygon fill=\"none\" stroke=\"black\" points=\"208.1,-549.28 154.1,-549.28 154.1,-513.28 208.1,-513.28 208.1,-549.28\"/>\n<text text-anchor=\"middle\" x=\"181.1\" y=\"-527.58\" font-family=\"Helvetica,sans-Serif\" font-size=\"14.00\">(0, 0)</text>\n</g>\n<!-- &#45;7503617640221806451&#45;&gt;7920424360110932246 -->\n<g id=\"edge13\" class=\"edge\">\n<title>-7503617640221806451-&gt;7920424360110932246</title>\n<path fill=\"none\" stroke=\"black\" d=\"M167.28,-475.73C169.69,-485.24 172.11,-494.81 174.24,-503.21\"/>\n<polygon fill=\"black\" stroke=\"black\" points=\"170.91,-504.32 176.76,-513.15 177.7,-502.6 170.91,-504.32\"/>\n</g>\n<!-- 8564796276367772861 -->\n<g id=\"node21\" class=\"node\">\n<title>8564796276367772861</title>\n<ellipse fill=\"none\" stroke=\"black\" cx=\"217.1\" cy=\"-655.47\" rx=\"70.39\" ry=\"70.39\"/>\n<text text-anchor=\"middle\" x=\"217.1\" y=\"-651.77\" font-family=\"Helvetica,sans-Serif\" font-size=\"14.00\">sum-aggregate</text>\n</g>\n<!-- 7920424360110932246&#45;&gt;8564796276367772861 -->\n<g id=\"edge20\" class=\"edge\">\n<title>7920424360110932246-&gt;8564796276367772861</title>\n<path fill=\"none\" stroke=\"black\" d=\"M186.18,-549.53C188.53,-557.51 191.51,-567.62 194.68,-578.38\"/>\n<polygon fill=\"black\" stroke=\"black\" points=\"191.32,-579.37 197.5,-587.97 198.04,-577.39 191.32,-579.37\"/>\n</g>\n<!-- &#45;8417036340480989073 -->\n<g id=\"node20\" class=\"node\">\n<title>-8417036340480989073</title>\n<polygon fill=\"none\" stroke=\"black\" points=\"294.1,-549.28 240.1,-549.28 240.1,-513.28 294.1,-513.28 294.1,-549.28\"/>\n<text text-anchor=\"middle\" x=\"267.1\" y=\"-527.58\" font-family=\"Helvetica,sans-Serif\" font-size=\"14.00\">(0, 1)</text>\n</g>\n<!-- 4862840943627958872&#45;&gt;&#45;8417036340480989073 -->\n<g id=\"edge16\" class=\"edge\">\n<title>4862840943627958872-&gt;-8417036340480989073</title>\n<path fill=\"none\" stroke=\"black\" d=\"M274.1,-476.98C272.91,-486 271.73,-495.01 270.68,-503\"/>\n<polygon fill=\"black\" stroke=\"black\" points=\"267.18,-502.78 269.35,-513.15 274.12,-503.69 267.18,-502.78\"/>\n</g>\n<!-- &#45;8417036340480989073&#45;&gt;8564796276367772861 -->\n<g id=\"edge21\" class=\"edge\">\n<title>-8417036340480989073-&gt;8564796276367772861</title>\n<path fill=\"none\" stroke=\"black\" d=\"M260.04,-549.53C256.53,-558.09 252.03,-569.09 247.27,-580.72\"/>\n<polygon fill=\"black\" stroke=\"black\" points=\"243.96,-579.57 243.41,-590.16 250.44,-582.23 243.96,-579.57\"/>\n</g>\n<!-- &#45;7240924540601129322 -->\n<g id=\"node22\" class=\"node\">\n<title>-7240924540601129322</title>\n<polygon fill=\"none\" stroke=\"black\" points=\"244.1,-797.66 190.1,-797.66 190.1,-761.66 244.1,-761.66 244.1,-797.66\"/>\n<text text-anchor=\"middle\" x=\"217.1\" y=\"-775.96\" font-family=\"Helvetica,sans-Serif\" font-size=\"14.00\">()</text>\n</g>\n<!-- 8564796276367772861&#45;&gt;&#45;7240924540601129322 -->\n<g id=\"edge19\" class=\"edge\">\n<title>8564796276367772861-&gt;-7240924540601129322</title>\n<path fill=\"none\" stroke=\"black\" d=\"M217.1,-725.78C217.1,-734.86 217.1,-743.69 217.1,-751.46\"/>\n<polygon fill=\"black\" stroke=\"black\" points=\"213.6,-751.64 217.1,-761.64 220.6,-751.64 213.6,-751.64\"/>\n</g>\n</g>\n</svg>"
          },
          "metadata": {},
          "execution_count": 19
        }
      ]
    },
    {
      "cell_type": "markdown",
      "metadata": {
        "id": "urIQVP-xQ9XO"
      },
      "source": [
        "### DataFrame\n",
        "\n",
        "A Dask DataFrame is a large parallel DataFrame composed of many smaller Pandas DataFrames, split along **with** the index. One Dask DataFrame operation triggers many operations on the constituent Pandas DataFrames.\n",
        "\n",
        "Dask DataFrames coordinate many Pandas DataFrames/Series arranged along the index. A Dask DataFrame is partitioned row-wise, grouping rows by index value for efficiency. \n",
        "\n",
        "![Dask_DF](https://cdn.iisc.talentsprint.com/CDS/Images/Dask_Dataframe.JPG)\n",
        "\n",
        "To study more about Dask dataframe, refer to the link [here](https://docs.dask.org/en/latest/dataframe.html)."
      ],
      "id": "urIQVP-xQ9XO"
    },
    {
      "cell_type": "markdown",
      "metadata": {
        "id": "Zyw-S0i7QQ_U"
      },
      "source": [
        "Create a dataframe with random values"
      ],
      "id": "Zyw-S0i7QQ_U"
    },
    {
      "cell_type": "code",
      "metadata": {
        "id": "H4xmg4gHQdTo"
      },
      "source": [
        "# pandas and numpy is used to create dataframe of random values\n",
        "data = pd.DataFrame()"
      ],
      "id": "H4xmg4gHQdTo",
      "execution_count": 20,
      "outputs": []
    },
    {
      "cell_type": "markdown",
      "metadata": {
        "id": "81SudTyQSD8a"
      },
      "source": [
        "Dataframe is created with two columns, each having 1500 random values."
      ],
      "id": "81SudTyQSD8a"
    },
    {
      "cell_type": "code",
      "metadata": {
        "id": "4iu2Pps_Erfi",
        "colab": {
          "base_uri": "https://localhost:8080/"
        },
        "outputId": "39e71ca0-1ea5-4b44-f836-6939c929bd7e"
      },
      "source": [
        "# create two columns\n",
        "data['col1'] = np.random.normal(size=1500)\n",
        "data['col2'] = np.random.normal(size=1500)\n",
        "print(data)"
      ],
      "id": "4iu2Pps_Erfi",
      "execution_count": 21,
      "outputs": [
        {
          "output_type": "stream",
          "name": "stdout",
          "text": [
            "          col1      col2\n",
            "0    -0.003558 -0.874061\n",
            "1    -0.271311 -1.382329\n",
            "2    -0.294000 -0.276390\n",
            "3    -0.548929 -0.825124\n",
            "4     1.166292  0.629411\n",
            "...        ...       ...\n",
            "1495 -0.003339  0.260750\n",
            "1496 -1.178728  0.026928\n",
            "1497 -0.296497  0.544775\n",
            "1498 -0.556568 -0.977069\n",
            "1499  0.077733 -2.043820\n",
            "\n",
            "[1500 rows x 2 columns]\n"
          ]
        }
      ]
    },
    {
      "cell_type": "markdown",
      "metadata": {
        "id": "8zEcwuXZSM9A"
      },
      "source": [
        "Read the dataframe using dask dataframe"
      ],
      "id": "8zEcwuXZSM9A"
    },
    {
      "cell_type": "code",
      "metadata": {
        "id": "f2LFQep8Q1ga",
        "colab": {
          "base_uri": "https://localhost:8080/"
        },
        "outputId": "cd56f993-235c-4009-c585-edefb8d1cef3"
      },
      "source": [
        "# convert pandas dataframe to dask dataframe\n",
        "ddf = dd.from_pandas(data, npartitions=2)\n",
        "print(ddf.compute()) "
      ],
      "id": "f2LFQep8Q1ga",
      "execution_count": 22,
      "outputs": [
        {
          "output_type": "stream",
          "name": "stdout",
          "text": [
            "          col1      col2\n",
            "0    -0.003558 -0.874061\n",
            "1    -0.271311 -1.382329\n",
            "2    -0.294000 -0.276390\n",
            "3    -0.548929 -0.825124\n",
            "4     1.166292  0.629411\n",
            "...        ...       ...\n",
            "1495 -0.003339  0.260750\n",
            "1496 -1.178728  0.026928\n",
            "1497 -0.296497  0.544775\n",
            "1498 -0.556568 -0.977069\n",
            "1499  0.077733 -2.043820\n",
            "\n",
            "[1500 rows x 2 columns]\n"
          ]
        }
      ]
    },
    {
      "cell_type": "code",
      "metadata": {
        "id": "eqtBj6xsRBla",
        "colab": {
          "base_uri": "https://localhost:8080/"
        },
        "outputId": "e2fdd083-c23d-4576-879b-cbb785751652"
      },
      "source": [
        "# Get a dask DataFrame/Series representing the nth partition\n",
        "part_1= ddf.get_partition(1)\n",
        "print(part_1.head())"
      ],
      "id": "eqtBj6xsRBla",
      "execution_count": 23,
      "outputs": [
        {
          "output_type": "stream",
          "name": "stdout",
          "text": [
            "         col1      col2\n",
            "750 -0.261268  0.013827\n",
            "751 -0.483055 -0.550801\n",
            "752  1.608019 -1.217210\n",
            "753 -1.396573  1.123190\n",
            "754 -1.200771  0.284012\n"
          ]
        }
      ]
    },
    {
      "cell_type": "code",
      "metadata": {
        "id": "5QyY3Hu1RlWR",
        "colab": {
          "base_uri": "https://localhost:8080/"
        },
        "outputId": "1dcb2c05-532f-4b52-ffc0-451d015fd4ef"
      },
      "source": [
        "%time ddf['col1'].value_counts().compute()                 # compute the value counts in column 1 and time of execution of code"
      ],
      "id": "5QyY3Hu1RlWR",
      "execution_count": 24,
      "outputs": [
        {
          "output_type": "stream",
          "name": "stdout",
          "text": [
            "CPU times: user 8.81 ms, sys: 945 µs, total: 9.75 ms\n",
            "Wall time: 20 ms\n"
          ]
        },
        {
          "output_type": "execute_result",
          "data": {
            "text/plain": [
              "-3.228137    1\n",
              " 0.398863    1\n",
              " 0.416011    1\n",
              " 0.414765    1\n",
              " 0.413872    1\n",
              "            ..\n",
              "-0.422730    1\n",
              "-0.427108    1\n",
              "-0.427883    1\n",
              "-0.432110    1\n",
              " 3.214903    1\n",
              "Name: col1, Length: 1500, dtype: int64"
            ]
          },
          "metadata": {},
          "execution_count": 24
        }
      ]
    },
    {
      "cell_type": "markdown",
      "metadata": {
        "id": "PwfxN8zIyZ1V"
      },
      "source": [
        "So, using dask dataframe it is much more time efficient to execute"
      ],
      "id": "PwfxN8zIyZ1V"
    },
    {
      "cell_type": "markdown",
      "metadata": {
        "id": "another-warren"
      },
      "source": [
        "#### Performance of Dask Dataframe and Pandas Dataframe\n",
        "\n",
        "\n",
        "\n",
        "In the below example, we can understand how dask dataframes handle complex and large datasets along with pandas dataframe.\n",
        "\n",
        "We are using 'nycflights' dataset to show how dask differs from pandas. \n",
        "\n",
        "'nycflights' dataset contains 10 separate csv flights for the year 1990 to 1999. "
      ],
      "id": "another-warren"
    },
    {
      "cell_type": "code",
      "metadata": {
        "id": "vkIiWr265y1k"
      },
      "source": [
        "nycflightsPath = os.path.join('nycflights', 'nycflights', '*.csv')"
      ],
      "id": "vkIiWr265y1k",
      "execution_count": 25,
      "outputs": []
    },
    {
      "cell_type": "code",
      "metadata": {
        "id": "TtpYoVlZbaUE",
        "colab": {
          "base_uri": "https://localhost:8080/",
          "height": 35
        },
        "outputId": "8d580003-aec5-49b7-9379-cecb20fe8199"
      },
      "source": [
        "nycflightsPath"
      ],
      "id": "TtpYoVlZbaUE",
      "execution_count": 26,
      "outputs": [
        {
          "output_type": "execute_result",
          "data": {
            "text/plain": [
              "'nycflights/nycflights/*.csv'"
            ],
            "application/vnd.google.colaboratory.intrinsic+json": {
              "type": "string"
            }
          },
          "metadata": {},
          "execution_count": 26
        }
      ]
    },
    {
      "cell_type": "code",
      "metadata": {
        "id": "finished-mouse"
      },
      "source": [
        "# reading all the csv file using dask  \n",
        "df = dd.read_csv(nycflightsPath,\n",
        "                 parse_dates={'Date':[0,1,2]},\n",
        "                 dtype={'CRSElapsedTime': 'float64',\n",
        "                        'TailNum': 'object',\n",
        "                        'Cancelled': 'bool'})                              "
      ],
      "id": "finished-mouse",
      "execution_count": 27,
      "outputs": []
    },
    {
      "cell_type": "markdown",
      "metadata": {
        "id": "weighted-panic"
      },
      "source": [
        "Here, we can see that dask dataframe stores all the csv files simultaneously using *.csv (this code reads all the files inside nycflights dataset)"
      ],
      "id": "weighted-panic"
    },
    {
      "cell_type": "markdown",
      "metadata": {
        "id": "fantastic-orientation"
      },
      "source": [
        "Whereas, when we want to store the files using pandas, it leads to errors. This means pandas is not able to handle and store more than one file simultaneously.\n",
        "\n",
        "Here, in pandas, we need to store different csv files using separate commands."
      ],
      "id": "fantastic-orientation"
    },
    {
      "cell_type": "code",
      "metadata": {
        "id": "collectible-swing",
        "colab": {
          "base_uri": "https://localhost:8080/"
        },
        "outputId": "263c9e42-1c90-421b-efd9-1ffa25e4163f"
      },
      "source": [
        "# this gives an error\n",
        "try:\n",
        "  # using pandas trying to read all csv files\n",
        "  df_pd = pd.read_csv(nycfllightsPath, parse_dates={'Date':[0,1,2]})   \n",
        "except:\n",
        "  print(\"Error Occured!\")"
      ],
      "id": "collectible-swing",
      "execution_count": 28,
      "outputs": [
        {
          "output_type": "stream",
          "name": "stdout",
          "text": [
            "Error Occured!\n"
          ]
        }
      ]
    },
    {
      "cell_type": "markdown",
      "metadata": {
        "id": "5msBx5FO680B"
      },
      "source": [
        "Using pandas we can read one single dataset at a time."
      ],
      "id": "5msBx5FO680B"
    },
    {
      "cell_type": "code",
      "metadata": {
        "id": "Zd9OneVOb3z-",
        "colab": {
          "base_uri": "https://localhost:8080/"
        },
        "outputId": "405bc523-d0d3-4922-f90d-dd73c23ddb73"
      },
      "source": [
        "!head /content/nycflights/nycflights/1990.csv"
      ],
      "id": "Zd9OneVOb3z-",
      "execution_count": 29,
      "outputs": [
        {
          "output_type": "stream",
          "name": "stdout",
          "text": [
            "Year,Month,DayofMonth,DayOfWeek,DepTime,CRSDepTime,ArrTime,CRSArrTime,UniqueCarrier,FlightNum,TailNum,ActualElapsedTime,CRSElapsedTime,AirTime,ArrDelay,DepDelay,Origin,Dest,Distance,TaxiIn,TaxiOut,Cancelled,Diverted\n",
            "1990,1,1,1,1621.0,1540,1747.0,1701,US,33,,86.0,81,,46.0,41.0,EWR,PIT,319.0,,,0,0\n",
            "1990,1,2,2,1547.0,1540,1700.0,1701,US,33,,73.0,81,,-1.0,7.0,EWR,PIT,319.0,,,0,0\n",
            "1990,1,3,3,1546.0,1540,1710.0,1701,US,33,,84.0,81,,9.0,6.0,EWR,PIT,319.0,,,0,0\n",
            "1990,1,4,4,1542.0,1540,1710.0,1701,US,33,,88.0,81,,9.0,2.0,EWR,PIT,319.0,,,0,0\n",
            "1990,1,5,5,1549.0,1540,1706.0,1701,US,33,,77.0,81,,5.0,9.0,EWR,PIT,319.0,,,0,0\n",
            "1990,1,6,6,1539.0,1540,1653.0,1701,US,33,,74.0,81,,-8.0,-1.0,EWR,PIT,319.0,,,0,0\n",
            "1990,1,7,7,1553.0,1540,1713.0,1701,US,33,,80.0,81,,12.0,13.0,EWR,PIT,319.0,,,0,0\n",
            "1990,1,8,1,1543.0,1540,1656.0,1701,US,33,,73.0,81,,-5.0,3.0,EWR,PIT,319.0,,,0,0\n",
            "1990,1,9,2,1540.0,1540,1704.0,1701,US,33,,84.0,81,,3.0,0.0,EWR,PIT,319.0,,,0,0\n"
          ]
        }
      ]
    },
    {
      "cell_type": "code",
      "metadata": {
        "id": "social-harbor"
      },
      "source": [
        "# reading only single csv file\n",
        "nycf_1990 = pd.read_csv('/content/nycflights/nycflights/1990.csv', parse_dates={'Date':[0,1,2]})      "
      ],
      "id": "social-harbor",
      "execution_count": 30,
      "outputs": []
    },
    {
      "cell_type": "markdown",
      "metadata": {
        "id": "conventional-supplement"
      },
      "source": [
        "Dask dataframes object has no data, unlike the pandas data frame. Dask has just read the start of the first file and the column names and dtypes. That's why dask is considered to be lazy in operation.\n",
        "\n",
        "For seeing the data in the dask dataframe we need to execute .head() function."
      ],
      "id": "conventional-supplement"
    },
    {
      "cell_type": "code",
      "metadata": {
        "id": "realistic-palestine",
        "colab": {
          "base_uri": "https://localhost:8080/",
          "height": 236
        },
        "outputId": "7be08938-3ea8-4812-b2ca-dff2f7c221d1"
      },
      "source": [
        "# first five rows of the dataset\n",
        "df.head()                                                          "
      ],
      "id": "realistic-palestine",
      "execution_count": 31,
      "outputs": [
        {
          "output_type": "execute_result",
          "data": {
            "text/plain": [
              "        Date  DayOfWeek  DepTime  CRSDepTime  ArrTime  CRSArrTime  \\\n",
              "0 1990-01-01          1   1621.0        1540   1747.0        1701   \n",
              "1 1990-01-02          2   1547.0        1540   1700.0        1701   \n",
              "2 1990-01-03          3   1546.0        1540   1710.0        1701   \n",
              "3 1990-01-04          4   1542.0        1540   1710.0        1701   \n",
              "4 1990-01-05          5   1549.0        1540   1706.0        1701   \n",
              "\n",
              "  UniqueCarrier  FlightNum TailNum  ActualElapsedTime  ...  AirTime  ArrDelay  \\\n",
              "0            US         33     NaN               86.0  ...      NaN      46.0   \n",
              "1            US         33     NaN               73.0  ...      NaN      -1.0   \n",
              "2            US         33     NaN               84.0  ...      NaN       9.0   \n",
              "3            US         33     NaN               88.0  ...      NaN       9.0   \n",
              "4            US         33     NaN               77.0  ...      NaN       5.0   \n",
              "\n",
              "   DepDelay  Origin Dest Distance  TaxiIn  TaxiOut  Cancelled  Diverted  \n",
              "0      41.0     EWR  PIT    319.0     NaN      NaN      False         0  \n",
              "1       7.0     EWR  PIT    319.0     NaN      NaN      False         0  \n",
              "2       6.0     EWR  PIT    319.0     NaN      NaN      False         0  \n",
              "3       2.0     EWR  PIT    319.0     NaN      NaN      False         0  \n",
              "4       9.0     EWR  PIT    319.0     NaN      NaN      False         0  \n",
              "\n",
              "[5 rows x 21 columns]"
            ],
            "text/html": [
              "\n",
              "  <div id=\"df-e74f4b24-a5b8-4138-98e5-d1a6b8e19570\">\n",
              "    <div class=\"colab-df-container\">\n",
              "      <div>\n",
              "<style scoped>\n",
              "    .dataframe tbody tr th:only-of-type {\n",
              "        vertical-align: middle;\n",
              "    }\n",
              "\n",
              "    .dataframe tbody tr th {\n",
              "        vertical-align: top;\n",
              "    }\n",
              "\n",
              "    .dataframe thead th {\n",
              "        text-align: right;\n",
              "    }\n",
              "</style>\n",
              "<table border=\"1\" class=\"dataframe\">\n",
              "  <thead>\n",
              "    <tr style=\"text-align: right;\">\n",
              "      <th></th>\n",
              "      <th>Date</th>\n",
              "      <th>DayOfWeek</th>\n",
              "      <th>DepTime</th>\n",
              "      <th>CRSDepTime</th>\n",
              "      <th>ArrTime</th>\n",
              "      <th>CRSArrTime</th>\n",
              "      <th>UniqueCarrier</th>\n",
              "      <th>FlightNum</th>\n",
              "      <th>TailNum</th>\n",
              "      <th>ActualElapsedTime</th>\n",
              "      <th>...</th>\n",
              "      <th>AirTime</th>\n",
              "      <th>ArrDelay</th>\n",
              "      <th>DepDelay</th>\n",
              "      <th>Origin</th>\n",
              "      <th>Dest</th>\n",
              "      <th>Distance</th>\n",
              "      <th>TaxiIn</th>\n",
              "      <th>TaxiOut</th>\n",
              "      <th>Cancelled</th>\n",
              "      <th>Diverted</th>\n",
              "    </tr>\n",
              "  </thead>\n",
              "  <tbody>\n",
              "    <tr>\n",
              "      <th>0</th>\n",
              "      <td>1990-01-01</td>\n",
              "      <td>1</td>\n",
              "      <td>1621.0</td>\n",
              "      <td>1540</td>\n",
              "      <td>1747.0</td>\n",
              "      <td>1701</td>\n",
              "      <td>US</td>\n",
              "      <td>33</td>\n",
              "      <td>NaN</td>\n",
              "      <td>86.0</td>\n",
              "      <td>...</td>\n",
              "      <td>NaN</td>\n",
              "      <td>46.0</td>\n",
              "      <td>41.0</td>\n",
              "      <td>EWR</td>\n",
              "      <td>PIT</td>\n",
              "      <td>319.0</td>\n",
              "      <td>NaN</td>\n",
              "      <td>NaN</td>\n",
              "      <td>False</td>\n",
              "      <td>0</td>\n",
              "    </tr>\n",
              "    <tr>\n",
              "      <th>1</th>\n",
              "      <td>1990-01-02</td>\n",
              "      <td>2</td>\n",
              "      <td>1547.0</td>\n",
              "      <td>1540</td>\n",
              "      <td>1700.0</td>\n",
              "      <td>1701</td>\n",
              "      <td>US</td>\n",
              "      <td>33</td>\n",
              "      <td>NaN</td>\n",
              "      <td>73.0</td>\n",
              "      <td>...</td>\n",
              "      <td>NaN</td>\n",
              "      <td>-1.0</td>\n",
              "      <td>7.0</td>\n",
              "      <td>EWR</td>\n",
              "      <td>PIT</td>\n",
              "      <td>319.0</td>\n",
              "      <td>NaN</td>\n",
              "      <td>NaN</td>\n",
              "      <td>False</td>\n",
              "      <td>0</td>\n",
              "    </tr>\n",
              "    <tr>\n",
              "      <th>2</th>\n",
              "      <td>1990-01-03</td>\n",
              "      <td>3</td>\n",
              "      <td>1546.0</td>\n",
              "      <td>1540</td>\n",
              "      <td>1710.0</td>\n",
              "      <td>1701</td>\n",
              "      <td>US</td>\n",
              "      <td>33</td>\n",
              "      <td>NaN</td>\n",
              "      <td>84.0</td>\n",
              "      <td>...</td>\n",
              "      <td>NaN</td>\n",
              "      <td>9.0</td>\n",
              "      <td>6.0</td>\n",
              "      <td>EWR</td>\n",
              "      <td>PIT</td>\n",
              "      <td>319.0</td>\n",
              "      <td>NaN</td>\n",
              "      <td>NaN</td>\n",
              "      <td>False</td>\n",
              "      <td>0</td>\n",
              "    </tr>\n",
              "    <tr>\n",
              "      <th>3</th>\n",
              "      <td>1990-01-04</td>\n",
              "      <td>4</td>\n",
              "      <td>1542.0</td>\n",
              "      <td>1540</td>\n",
              "      <td>1710.0</td>\n",
              "      <td>1701</td>\n",
              "      <td>US</td>\n",
              "      <td>33</td>\n",
              "      <td>NaN</td>\n",
              "      <td>88.0</td>\n",
              "      <td>...</td>\n",
              "      <td>NaN</td>\n",
              "      <td>9.0</td>\n",
              "      <td>2.0</td>\n",
              "      <td>EWR</td>\n",
              "      <td>PIT</td>\n",
              "      <td>319.0</td>\n",
              "      <td>NaN</td>\n",
              "      <td>NaN</td>\n",
              "      <td>False</td>\n",
              "      <td>0</td>\n",
              "    </tr>\n",
              "    <tr>\n",
              "      <th>4</th>\n",
              "      <td>1990-01-05</td>\n",
              "      <td>5</td>\n",
              "      <td>1549.0</td>\n",
              "      <td>1540</td>\n",
              "      <td>1706.0</td>\n",
              "      <td>1701</td>\n",
              "      <td>US</td>\n",
              "      <td>33</td>\n",
              "      <td>NaN</td>\n",
              "      <td>77.0</td>\n",
              "      <td>...</td>\n",
              "      <td>NaN</td>\n",
              "      <td>5.0</td>\n",
              "      <td>9.0</td>\n",
              "      <td>EWR</td>\n",
              "      <td>PIT</td>\n",
              "      <td>319.0</td>\n",
              "      <td>NaN</td>\n",
              "      <td>NaN</td>\n",
              "      <td>False</td>\n",
              "      <td>0</td>\n",
              "    </tr>\n",
              "  </tbody>\n",
              "</table>\n",
              "<p>5 rows × 21 columns</p>\n",
              "</div>\n",
              "      <button class=\"colab-df-convert\" onclick=\"convertToInteractive('df-e74f4b24-a5b8-4138-98e5-d1a6b8e19570')\"\n",
              "              title=\"Convert this dataframe to an interactive table.\"\n",
              "              style=\"display:none;\">\n",
              "        \n",
              "  <svg xmlns=\"http://www.w3.org/2000/svg\" height=\"24px\"viewBox=\"0 0 24 24\"\n",
              "       width=\"24px\">\n",
              "    <path d=\"M0 0h24v24H0V0z\" fill=\"none\"/>\n",
              "    <path d=\"M18.56 5.44l.94 2.06.94-2.06 2.06-.94-2.06-.94-.94-2.06-.94 2.06-2.06.94zm-11 1L8.5 8.5l.94-2.06 2.06-.94-2.06-.94L8.5 2.5l-.94 2.06-2.06.94zm10 10l.94 2.06.94-2.06 2.06-.94-2.06-.94-.94-2.06-.94 2.06-2.06.94z\"/><path d=\"M17.41 7.96l-1.37-1.37c-.4-.4-.92-.59-1.43-.59-.52 0-1.04.2-1.43.59L10.3 9.45l-7.72 7.72c-.78.78-.78 2.05 0 2.83L4 21.41c.39.39.9.59 1.41.59.51 0 1.02-.2 1.41-.59l7.78-7.78 2.81-2.81c.8-.78.8-2.07 0-2.86zM5.41 20L4 18.59l7.72-7.72 1.47 1.35L5.41 20z\"/>\n",
              "  </svg>\n",
              "      </button>\n",
              "      \n",
              "  <style>\n",
              "    .colab-df-container {\n",
              "      display:flex;\n",
              "      flex-wrap:wrap;\n",
              "      gap: 12px;\n",
              "    }\n",
              "\n",
              "    .colab-df-convert {\n",
              "      background-color: #E8F0FE;\n",
              "      border: none;\n",
              "      border-radius: 50%;\n",
              "      cursor: pointer;\n",
              "      display: none;\n",
              "      fill: #1967D2;\n",
              "      height: 32px;\n",
              "      padding: 0 0 0 0;\n",
              "      width: 32px;\n",
              "    }\n",
              "\n",
              "    .colab-df-convert:hover {\n",
              "      background-color: #E2EBFA;\n",
              "      box-shadow: 0px 1px 2px rgba(60, 64, 67, 0.3), 0px 1px 3px 1px rgba(60, 64, 67, 0.15);\n",
              "      fill: #174EA6;\n",
              "    }\n",
              "\n",
              "    [theme=dark] .colab-df-convert {\n",
              "      background-color: #3B4455;\n",
              "      fill: #D2E3FC;\n",
              "    }\n",
              "\n",
              "    [theme=dark] .colab-df-convert:hover {\n",
              "      background-color: #434B5C;\n",
              "      box-shadow: 0px 1px 3px 1px rgba(0, 0, 0, 0.15);\n",
              "      filter: drop-shadow(0px 1px 2px rgba(0, 0, 0, 0.3));\n",
              "      fill: #FFFFFF;\n",
              "    }\n",
              "  </style>\n",
              "\n",
              "      <script>\n",
              "        const buttonEl =\n",
              "          document.querySelector('#df-e74f4b24-a5b8-4138-98e5-d1a6b8e19570 button.colab-df-convert');\n",
              "        buttonEl.style.display =\n",
              "          google.colab.kernel.accessAllowed ? 'block' : 'none';\n",
              "\n",
              "        async function convertToInteractive(key) {\n",
              "          const element = document.querySelector('#df-e74f4b24-a5b8-4138-98e5-d1a6b8e19570');\n",
              "          const dataTable =\n",
              "            await google.colab.kernel.invokeFunction('convertToInteractive',\n",
              "                                                     [key], {});\n",
              "          if (!dataTable) return;\n",
              "\n",
              "          const docLinkHtml = 'Like what you see? Visit the ' +\n",
              "            '<a target=\"_blank\" href=https://colab.research.google.com/notebooks/data_table.ipynb>data table notebook</a>'\n",
              "            + ' to learn more about interactive tables.';\n",
              "          element.innerHTML = '';\n",
              "          dataTable['output_type'] = 'display_data';\n",
              "          await google.colab.output.renderOutput(dataTable, element);\n",
              "          const docLink = document.createElement('div');\n",
              "          docLink.innerHTML = docLinkHtml;\n",
              "          element.appendChild(docLink);\n",
              "        }\n",
              "      </script>\n",
              "    </div>\n",
              "  </div>\n",
              "  "
            ]
          },
          "metadata": {},
          "execution_count": 31
        }
      ]
    },
    {
      "cell_type": "code",
      "metadata": {
        "id": "658CIRFxcLUc",
        "colab": {
          "base_uri": "https://localhost:8080/"
        },
        "outputId": "ea57897c-b120-4a10-cc16-e879c7d73b5c"
      },
      "source": [
        "df.compute().shape"
      ],
      "id": "658CIRFxcLUc",
      "execution_count": 32,
      "outputs": [
        {
          "output_type": "execute_result",
          "data": {
            "text/plain": [
              "(2611892, 21)"
            ]
          },
          "metadata": {},
          "execution_count": 32
        }
      ]
    },
    {
      "cell_type": "markdown",
      "metadata": {
        "id": "parental-framework"
      },
      "source": [
        "#### Computations With Dask Dataframes\n",
        "\n",
        "We want to compute the maximum value of *DepDelay* (the delays occurring in the departure of flights). Now if we are working with simple pandas on this dataset than we need to compute the max. value in each individual data file and concatenate these 10 values together which gives us the required max. value of the whole dataset and this may be put as out of memory.\n",
        "\n",
        "But in dask dataframe we can handle partition more efficiently.\n",
        "\n",
        "dask.dataframe lets us write pandas-like code, that operates on larger than memory datasets.\n"
      ],
      "id": "parental-framework"
    },
    {
      "cell_type": "code",
      "metadata": {
        "id": "complete-overhead",
        "colab": {
          "base_uri": "https://localhost:8080/"
        },
        "outputId": "3e0984fb-6f26-4727-dfd5-c203746981a0"
      },
      "source": [
        "%time df.DepDelay.max().compute()                       # compute() is used in order to get the required value"
      ],
      "id": "complete-overhead",
      "execution_count": 33,
      "outputs": [
        {
          "output_type": "stream",
          "name": "stdout",
          "text": [
            "CPU times: user 8.55 s, sys: 107 ms, total: 8.65 s\n",
            "Wall time: 7.78 s\n"
          ]
        },
        {
          "output_type": "execute_result",
          "data": {
            "text/plain": [
              "1435.0"
            ]
          },
          "metadata": {},
          "execution_count": 33
        }
      ]
    },
    {
      "cell_type": "markdown",
      "metadata": {
        "id": "smoking-little"
      },
      "source": [
        "Above code has gone through approximately 2 million entries.\n",
        "As with Delayed objects, we can go through the underlying graphs using `visualize()` method."
      ],
      "id": "smoking-little"
    },
    {
      "cell_type": "code",
      "metadata": {
        "id": "equipped-concord",
        "colab": {
          "base_uri": "https://localhost:8080/",
          "height": 1000
        },
        "outputId": "c7ac83d1-502f-476b-ff10-e1822c71338d"
      },
      "source": [
        "# visualize the above code using structure diagram\n",
        "df.DepDelay.max().visualize(rankdir='LR', size='15,15!')        "
      ],
      "id": "equipped-concord",
      "execution_count": 34,
      "outputs": [
        {
          "output_type": "execute_result",
          "data": {
            "image/png": "[encoded data removed]",
            "text/plain": [
              "<IPython.core.display.Image object>"
            ]
          },
          "metadata": {},
          "execution_count": 34
        }
      ]
    },
    {
      "cell_type": "markdown",
      "metadata": {
        "id": "dried-catalog"
      },
      "source": [
        "### Dask Bag"
      ],
      "id": "dried-catalog"
    },
    {
      "cell_type": "markdown",
      "metadata": {
        "id": "described-coupon"
      },
      "source": [
        "Dask Bag implements operations like map, filter, fold, and groupby on collections of generic Python objects. It does this in parallel with a small memory footprint using Python iterators. It is similar to a parallel version of PyToolz or a Pythonic version of the PySpark RDD.\n",
        "\n",
        "Dask bags coordinate many Python lists or Iterators, each of which forms a partition of a larger collection."
      ],
      "id": "described-coupon"
    },
    {
      "cell_type": "markdown",
      "metadata": {
        "id": "infrared-accreditation"
      },
      "source": [
        "Execution on bags provide two benefits:\n",
        "\n",
        "1. Parallel: data is split up, allowing multiple cores or machines to execute in parallel\n",
        "2. Iterating: data processes lazily, allowing smooth execution of larger-than-memory data, even on a single machine within a single partition\n",
        "\n",
        "Bag is the mathematical name for an unordered collection allowing repeats. It uses Parallel lists for semi-structured data.\n",
        "\n",
        "DataFrames are limited to only two dimensions (rows and columns), but Arrays can have many more, whereas Bag is helpful dealing with JSON blobs or text data (unstructured data). \n",
        "\n",
        "To study dask bags, refer the link [here](https://docs.dask.org/en/latest/bag.html)."
      ],
      "id": "infrared-accreditation"
    },
    {
      "cell_type": "code",
      "metadata": {
        "id": "uXV24wC5Y2bi",
        "colab": {
          "base_uri": "https://localhost:8080/"
        },
        "outputId": "0c4e6767-af7a-45a4-faad-02fb3e2880ce"
      },
      "source": [
        "# creating a bag\n",
        "bag1 = db.from_sequence(range(1000000), partition_size=1000, npartitions=1000)\n",
        "bag1"
      ],
      "id": "uXV24wC5Y2bi",
      "execution_count": 35,
      "outputs": [
        {
          "output_type": "execute_result",
          "data": {
            "text/plain": [
              "dask.bag<from_sequence, npartitions=1000>"
            ]
          },
          "metadata": {},
          "execution_count": 35
        }
      ]
    },
    {
      "cell_type": "code",
      "metadata": {
        "id": "JRdL0r2qY--y",
        "colab": {
          "base_uri": "https://localhost:8080/"
        },
        "outputId": "43529794-e22e-4f5b-b08d-2a2d27cceb92"
      },
      "source": [
        "final_bag1 = bag1.filter(lambda x: x%100 == 0)\n",
        "\n",
        "len(final_bag1.compute())"
      ],
      "id": "JRdL0r2qY--y",
      "execution_count": 36,
      "outputs": [
        {
          "output_type": "execute_result",
          "data": {
            "text/plain": [
              "10000"
            ]
          },
          "metadata": {},
          "execution_count": 36
        }
      ]
    },
    {
      "cell_type": "markdown",
      "metadata": {
        "id": "X4STVdbkabK4"
      },
      "source": [
        "Advantage of using bags with the help of `groupby`\n",
        "\n",
        "we are looping through a list of values (tuple). We want to take a sum of the second value in tuples where the first value is the same. We have both normal python and dask.bag API version."
      ],
      "id": "X4STVdbkabK4"
    },
    {
      "cell_type": "code",
      "metadata": {
        "id": "fQpzElEsaZkf",
        "colab": {
          "base_uri": "https://localhost:8080/"
        },
        "outputId": "9d0acab5-9067-410e-c9eb-9e5bcf30b667"
      },
      "source": [
        "# Using python\n",
        "x = [(\"a\",100), (\"b\",200), (\"c\",300), (\"d\",400), (\"e\",500), (\"a\",200), (\"e\",300)]\n",
        "\n",
        "# Empty dictionary\n",
        "result = {}\n",
        "\n",
        "# Iterate the list for each item as tuple\n",
        "for key, val in x:\n",
        "    # sum-up the value if key already exist\n",
        "    if key in result:\n",
        "        result[key] += val\n",
        "    # create a key-value pair\n",
        "    else:\n",
        "        result[key] = val\n",
        "\n",
        "list(result.items())"
      ],
      "id": "fQpzElEsaZkf",
      "execution_count": 37,
      "outputs": [
        {
          "output_type": "execute_result",
          "data": {
            "text/plain": [
              "[('a', 300), ('b', 200), ('c', 300), ('d', 400), ('e', 800)]"
            ]
          },
          "metadata": {},
          "execution_count": 37
        }
      ]
    },
    {
      "cell_type": "markdown",
      "metadata": {
        "id": "zEF_UzBAbQ-K"
      },
      "source": [
        "Now let's do the same with bags in a simple way using `groupby`."
      ],
      "id": "zEF_UzBAbQ-K"
    },
    {
      "cell_type": "code",
      "metadata": {
        "id": "Vdh-gNEsa2O6",
        "colab": {
          "base_uri": "https://localhost:8080/"
        },
        "outputId": "3e1caac2-9daa-492b-9056-972a6f238eb3"
      },
      "source": [
        "# using bags API \n",
        "bag1 = db.from_sequence([(\"a\",100), (\"b\",200), (\"c\",300), (\"d\",400), (\"e\",500), (\"a\",200), (\"e\",300)])\n",
        "\n",
        "# using groupby\n",
        "bag1.groupby(lambda x: x[0]).map(lambda x: (x[0], sum([i[1] for i in x[1]]))).compute()"
      ],
      "id": "Vdh-gNEsa2O6",
      "execution_count": 38,
      "outputs": [
        {
          "output_type": "execute_result",
          "data": {
            "text/plain": [
              "[('a', 300), ('e', 800), ('c', 300), ('d', 400), ('b', 200)]"
            ]
          },
          "metadata": {},
          "execution_count": 38
        }
      ]
    },
    {
      "cell_type": "markdown",
      "metadata": {
        "id": "white-hunter"
      },
      "source": [
        "#### Semi-Structured Data\n",
        "\n",
        "We create a random set of record data and store it to disk as many JSON files. This will serve as our data for this notebook."
      ],
      "id": "white-hunter"
    },
    {
      "cell_type": "code",
      "source": [
        "# Create data/ directory\n",
        "os.makedirs('data', exist_ok=True) "
      ],
      "metadata": {
        "id": "81uRKZU7B_4r"
      },
      "id": "81uRKZU7B_4r",
      "execution_count": 39,
      "outputs": []
    },
    {
      "cell_type": "code",
      "source": [
        "# Make records of people\n",
        "y = dask.datasets.make_people()  "
      ],
      "metadata": {
        "id": "kBglmKNjCGUy"
      },
      "id": "kBglmKNjCGUy",
      "execution_count": 40,
      "outputs": []
    },
    {
      "cell_type": "code",
      "metadata": {
        "id": "forbidden-integer",
        "colab": {
          "base_uri": "https://localhost:8080/"
        },
        "outputId": "99800f20-10c6-4d65-950a-64ffa2be0e74"
      },
      "source": [
        "# Encode as JSON, write to disk             \n",
        "y.map(json.dumps).to_textfiles('data/*.json')"
      ],
      "id": "forbidden-integer",
      "execution_count": 41,
      "outputs": [
        {
          "output_type": "execute_result",
          "data": {
            "text/plain": [
              "['/content/data/0.json',\n",
              " '/content/data/1.json',\n",
              " '/content/data/2.json',\n",
              " '/content/data/3.json',\n",
              " '/content/data/4.json',\n",
              " '/content/data/5.json',\n",
              " '/content/data/6.json',\n",
              " '/content/data/7.json',\n",
              " '/content/data/8.json',\n",
              " '/content/data/9.json']"
            ]
          },
          "metadata": {},
          "execution_count": 41
        }
      ]
    },
    {
      "cell_type": "markdown",
      "metadata": {
        "id": "parental-behalf"
      },
      "source": [
        "created and read the JSON files"
      ],
      "id": "parental-behalf"
    },
    {
      "cell_type": "code",
      "metadata": {
        "id": "accessible-nurse",
        "colab": {
          "base_uri": "https://localhost:8080/"
        },
        "outputId": "d2e975f9-61e5-49bd-866c-6c17505f26dc"
      },
      "source": [
        "# read the third row of the dataset\n",
        "y.take(3)"
      ],
      "id": "accessible-nurse",
      "execution_count": 42,
      "outputs": [
        {
          "output_type": "execute_result",
          "data": {
            "text/plain": [
              "({'age': 48,\n",
              "  'name': ('Claude', 'Golden'),\n",
              "  'occupation': 'Lift Engineer',\n",
              "  'telephone': '053.185.7471',\n",
              "  'address': {'address': '1026 Niagara Circle', 'city': 'Horn Lake'},\n",
              "  'credit-card': {'number': '3715 373019 55623', 'expiration-date': '12/19'}},\n",
              " {'age': 60,\n",
              "  'name': ('Jayson', 'Wyatt'),\n",
              "  'occupation': 'Inventor',\n",
              "  'telephone': '(935) 318-6708',\n",
              "  'address': {'address': '465 Rosenkranz Gardens', 'city': 'Akron'},\n",
              "  'credit-card': {'number': '3487 415993 43217', 'expiration-date': '03/21'}},\n",
              " {'age': 34,\n",
              "  'name': ('Britni', 'Byers'),\n",
              "  'occupation': 'Commissioned',\n",
              "  'telephone': '269-187-4921',\n",
              "  'address': {'address': '240 Mahan Manor', 'city': 'Lancaster'},\n",
              "  'credit-card': {'number': '5556 9201 5094 7014',\n",
              "   'expiration-date': '11/17'}})"
            ]
          },
          "metadata": {},
          "execution_count": 42
        }
      ]
    },
    {
      "cell_type": "markdown",
      "metadata": {
        "id": "swedish-raleigh"
      },
      "source": [
        "**Map, Filter on Bag**\n",
        "\n",
        "We can process this data by filtering out only certain records of interest, mapping functions over it to process our data, and aggregating those results to a total value."
      ],
      "id": "swedish-raleigh"
    },
    {
      "cell_type": "markdown",
      "metadata": {
        "id": "english-facing"
      },
      "source": [
        "Select only people over 30"
      ],
      "id": "english-facing"
    },
    {
      "cell_type": "code",
      "metadata": {
        "id": "blocked-centre",
        "colab": {
          "base_uri": "https://localhost:8080/"
        },
        "outputId": "9218869f-3777-4ed0-90ae-6f5b117a4686"
      },
      "source": [
        "# filter the data\n",
        "y.filter(lambda record: record['age'] > 30).take(2)"
      ],
      "id": "blocked-centre",
      "execution_count": 43,
      "outputs": [
        {
          "output_type": "execute_result",
          "data": {
            "text/plain": [
              "({'age': 48,\n",
              "  'name': ('Claude', 'Golden'),\n",
              "  'occupation': 'Lift Engineer',\n",
              "  'telephone': '053.185.7471',\n",
              "  'address': {'address': '1026 Niagara Circle', 'city': 'Horn Lake'},\n",
              "  'credit-card': {'number': '3715 373019 55623', 'expiration-date': '12/19'}},\n",
              " {'age': 60,\n",
              "  'name': ('Jayson', 'Wyatt'),\n",
              "  'occupation': 'Inventor',\n",
              "  'telephone': '(935) 318-6708',\n",
              "  'address': {'address': '465 Rosenkranz Gardens', 'city': 'Akron'},\n",
              "  'credit-card': {'number': '3487 415993 43217', 'expiration-date': '03/21'}})"
            ]
          },
          "metadata": {},
          "execution_count": 43
        }
      ]
    },
    {
      "cell_type": "markdown",
      "metadata": {
        "id": "secure-antibody"
      },
      "source": [
        "Select the occupation field"
      ],
      "id": "secure-antibody"
    },
    {
      "cell_type": "code",
      "metadata": {
        "id": "preliminary-updating",
        "colab": {
          "base_uri": "https://localhost:8080/"
        },
        "outputId": "ee38203a-ed90-4637-8752-b8bba59d0f10"
      },
      "source": [
        "# Selecting particular feature\n",
        "y.map(lambda record: record['occupation']).take(2)            "
      ],
      "id": "preliminary-updating",
      "execution_count": 44,
      "outputs": [
        {
          "output_type": "execute_result",
          "data": {
            "text/plain": [
              "('Lift Engineer', 'Inventor')"
            ]
          },
          "metadata": {},
          "execution_count": 44
        }
      ]
    },
    {
      "cell_type": "markdown",
      "metadata": {
        "id": "DaX9J5q6-jUu"
      },
      "source": [
        " Count the total number of records"
      ],
      "id": "DaX9J5q6-jUu"
    },
    {
      "cell_type": "code",
      "metadata": {
        "id": "experienced-stocks",
        "colab": {
          "base_uri": "https://localhost:8080/"
        },
        "outputId": "f9a9726e-35bb-46ca-a140-f18af5fdd75d"
      },
      "source": [
        "# computing the total number of records in y\n",
        "y.count().compute()                                           "
      ],
      "id": "experienced-stocks",
      "execution_count": 45,
      "outputs": [
        {
          "output_type": "execute_result",
          "data": {
            "text/plain": [
              "10000"
            ]
          },
          "metadata": {},
          "execution_count": 45
        }
      ]
    },
    {
      "cell_type": "markdown",
      "metadata": {
        "id": "ardWCXA6B2v1"
      },
      "source": [
        "### Machine Learning With Dask "
      ],
      "id": "ardWCXA6B2v1"
    },
    {
      "cell_type": "markdown",
      "metadata": {
        "id": "mAfNu9D3QNhj"
      },
      "source": [
        "Dask-ML wants to enable scalable machine learning in Python. It aims to do so by\n",
        "\n",
        "1. Working with existing libraries within the Python ecosystem\n",
        "2. Using the features of Dask to scale computation to larger datasets and larger problems"
      ],
      "id": "mAfNu9D3QNhj"
    },
    {
      "cell_type": "markdown",
      "metadata": {
        "id": "eCSCipNJZWUp"
      },
      "source": [
        "#### Generalized Linear Models\n",
        "\n",
        "Generalized linear models are a broad class of commonly used models. These implementations scale out well to large datasets either on a single machine or distributed cluster. They can be powered by a variety of optimization algorithms and use a variety of regularizers.\n",
        "\n",
        "These follow the scikit-learn estimator API, and so can be dropped into existing routines like grid search and pipelines, but are implemented externally with new, scalable algorithms and so can consume distributed dask arrays and dataframes rather than just single-machine NumPy and Pandas arrays and dataframes."
      ],
      "id": "eCSCipNJZWUp"
    },
    {
      "cell_type": "code",
      "metadata": {
        "id": "hAHK3At99aca"
      },
      "source": [
        "from dask_ml.datasets import make_regression\n",
        "from dask_ml.model_selection import train_test_split\n",
        "\n",
        "X, y = make_regression(n_samples=200000, n_features=100, random_state=0, chunks=10000)\n",
        "\n",
        "X_train, X_test, y_train, y_test = train_test_split(X, y)"
      ],
      "id": "hAHK3At99aca",
      "execution_count": 46,
      "outputs": []
    },
    {
      "cell_type": "code",
      "metadata": {
        "id": "Xfm-6x5u-j2X",
        "colab": {
          "base_uri": "https://localhost:8080/"
        },
        "outputId": "091c69ba-827a-490a-e1e8-3e6048eaaf32"
      },
      "source": [
        "# fit the model\n",
        "\n",
        "lr = LinearRegression()\n",
        "lr.fit(X_train, y_train)\n",
        "lr.score(X_test,y_test)"
      ],
      "id": "Xfm-6x5u-j2X",
      "execution_count": 47,
      "outputs": [
        {
          "output_type": "execute_result",
          "data": {
            "text/plain": [
              "0.9999999876484379"
            ]
          },
          "metadata": {},
          "execution_count": 47
        }
      ]
    },
    {
      "cell_type": "code",
      "metadata": {
        "id": "y6U25XbACagU"
      },
      "source": [
        "#predict on test data \n",
        "pred=lr.predict(X_test)"
      ],
      "id": "y6U25XbACagU",
      "execution_count": 48,
      "outputs": []
    },
    {
      "cell_type": "code",
      "metadata": {
        "id": "CnDOZAAMDWjE",
        "colab": {
          "base_uri": "https://localhost:8080/"
        },
        "outputId": "d4057489-2669-4b63-deb5-acd9011a9602"
      },
      "source": [
        "# predicted values\n",
        "pred.compute()"
      ],
      "id": "CnDOZAAMDWjE",
      "execution_count": 49,
      "outputs": [
        {
          "output_type": "execute_result",
          "data": {
            "text/plain": [
              "array([-185.59546348,  -29.1443123 ,   60.17740119, ...,   84.93402899,\n",
              "        -30.94204594, -138.46576805])"
            ]
          },
          "metadata": {},
          "execution_count": 49
        }
      ]
    },
    {
      "cell_type": "markdown",
      "metadata": {
        "id": "IO9hQhBXZvd2"
      },
      "source": [
        "To know more about dask-ml, click [here](https://ml.dask.org/)."
      ],
      "id": "IO9hQhBXZvd2"
    },
    {
      "cell_type": "markdown",
      "metadata": {
        "id": "CFNLB7O4utb3"
      },
      "source": [
        "### Please answer the questions below to complete the experiment:"
      ],
      "id": "CFNLB7O4utb3"
    },
    {
      "cell_type": "code",
      "metadata": {
        "id": "_38KV9uluveS"
      },
      "source": [
        "# @title Select the FALSE statement: { run: \"auto\", form-width: \"500px\", display-mode: \"form\" }\n",
        "Answer = \"Dask can operate in parallel only on datasets that fit into the main memory\" #@param [\"\",\"Dask can operate in parallel only on datasets that fit into the main memory\",\"Dask provides high level Array Bag and DataFrame collections that mimic NumPy lists and Pandas\",\"Dask provides dynamic task schedulers that execute task graphs in parallel\",\"Dask performs lazy execution by saving the set of inputs and executing only on demand\"]"
      ],
      "id": "_38KV9uluveS",
      "execution_count": 50,
      "outputs": []
    },
    {
      "cell_type": "code",
      "metadata": {
        "id": "IVj6KRihwhPy"
      },
      "source": [
        "#@title How was the experiment? { run: \"auto\", form-width: \"500px\", display-mode: \"form\" }\n",
        "Complexity = \"Good and Challenging for me\" #@param [\"\",\"Too Simple, I am wasting time\", \"Good, But Not Challenging for me\", \"Good and Challenging for me\", \"Was Tough, but I did it\", \"Too Difficult for me\"]\n"
      ],
      "id": "IVj6KRihwhPy",
      "execution_count": 51,
      "outputs": []
    },
    {
      "cell_type": "code",
      "metadata": {
        "id": "G7Wx_ufawlf8"
      },
      "source": [
        "#@title If it was too easy, what more would you have liked to be added? If it was very difficult, what would you have liked to have been removed? { run: \"auto\", display-mode: \"form\" }\n",
        "Additional = \"Perfect for practice\" #@param {type:\"string\"}\n"
      ],
      "id": "G7Wx_ufawlf8",
      "execution_count": 52,
      "outputs": []
    },
    {
      "cell_type": "code",
      "metadata": {
        "id": "2Fbfkz82w5BI"
      },
      "source": [
        "#@title Can you identify the concepts from the lecture which this experiment covered? { run: \"auto\", vertical-output: true, display-mode: \"form\" }\n",
        "Concepts = \"Yes\" #@param [\"\",\"Yes\", \"No\"]\n"
      ],
      "id": "2Fbfkz82w5BI",
      "execution_count": 53,
      "outputs": []
    },
    {
      "cell_type": "code",
      "metadata": {
        "id": "RauzHTwWw8PW"
      },
      "source": [
        "#@title  Text and image description/explanation and code comments within the experiment: { run: \"auto\", vertical-output: true, display-mode: \"form\" }\n",
        "Comments = \"Very Useful\" #@param [\"\",\"Very Useful\", \"Somewhat Useful\", \"Not Useful\", \"Didn't use\"]\n"
      ],
      "id": "RauzHTwWw8PW",
      "execution_count": 54,
      "outputs": []
    },
    {
      "cell_type": "code",
      "metadata": {
        "id": "wHVmS408w_Si"
      },
      "source": [
        "#@title Mentor Support: { run: \"auto\", vertical-output: true, display-mode: \"form\" }\n",
        "Mentor_support = \"Very Useful\" #@param [\"\",\"Very Useful\", \"Somewhat Useful\", \"Not Useful\", \"Didn't use\"]\n"
      ],
      "id": "wHVmS408w_Si",
      "execution_count": 55,
      "outputs": []
    },
    {
      "cell_type": "code",
      "metadata": {
        "cellView": "form",
        "id": "T-LbsTp6xCy3",
        "colab": {
          "base_uri": "https://localhost:8080/"
        },
        "outputId": "8747c15e-f76f-4a65-900f-acc59e3599fd"
      },
      "source": [
        "#@title Run this cell to submit your notebook for grading { vertical-output: true }\n",
        "try:\n",
        "  if submission_id:\n",
        "      return_id = submit_notebook()\n",
        "      if return_id : submission_id = return_id\n",
        "  else:\n",
        "      print(\"Please complete the setup first.\")\n",
        "except NameError:\n",
        "  print (\"Please complete the setup first.\")"
      ],
      "id": "T-LbsTp6xCy3",
      "execution_count": 56,
      "outputs": [
        {
          "output_type": "stream",
          "name": "stdout",
          "text": [
            "Your submission is successful.\n",
            "Ref Id: 4891\n",
            "Date of submission:  18 May 2023\n",
            "Time of submission:  21:35:44\n",
            "View your submissions: https://cds.iisc.talentsprint.com/notebook_submissions\n"
          ]
        }
      ]
    }
  ]
}