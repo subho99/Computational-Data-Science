{
  "nbformat": 4,
  "nbformat_minor": 0,
  "metadata": {
    "colab": {
      "provenance": [],
      "include_colab_link": true
    },
    "kernelspec": {
      "display_name": "Python 3",
      "language": "python",
      "name": "python3"
    },
    "language_info": {
      "codemirror_mode": {
        "name": "ipython",
        "version": 3
      },
      "file_extension": ".py",
      "mimetype": "text/x-python",
      "name": "python",
      "nbconvert_exporter": "python",
      "pygments_lexer": "ipython3",
      "version": "3.7.1"
    }
  },
  "cells": [
    {
      "cell_type": "markdown",
      "metadata": {
        "id": "view-in-github",
        "colab_type": "text"
      },
      "source": [
        "<a href=\"https://colab.research.google.com/github/subho99/Computational-Data-Science/blob/main/Subhajit_Basistha_M1_AST_10_Tensor_Operations_C.ipynb\" target=\"_parent\"><img src=\"https://colab.research.google.com/assets/colab-badge.svg\" alt=\"Open In Colab\"/></a>"
      ]
    },
    {
      "cell_type": "markdown",
      "metadata": {
        "id": "xNe7dVP19Pb8"
      },
      "source": [
        "# Advanced Certification Program in Computational Data Science\n",
        "## A program by IISc and TalentSprint\n",
        "### Assignment 10: Tensor Operations"
      ]
    },
    {
      "cell_type": "markdown",
      "metadata": {
        "id": "jDWUyCYxQRAK"
      },
      "source": [
        "## Learning Objectives"
      ]
    },
    {
      "cell_type": "markdown",
      "metadata": {
        "id": "-vPeurvKNAEz"
      },
      "source": [
        "At the end of the experiment, you will be able to\n",
        "* understand Tensors and their application\n",
        "* define/form Tensors\n",
        "* perform different operations of Tensor using NumPy and Tensorflow library"
      ]
    },
    {
      "cell_type": "markdown",
      "metadata": {
        "id": "nr4zv0uVTA9j"
      },
      "source": [
        "## Information"
      ]
    },
    {
      "cell_type": "markdown",
      "metadata": {
        "id": "fhjkrEeSUIgu"
      },
      "source": [
        "**Tensors**: Tensor, in relation to machine learning, is a generalization of scalars, vectors, and matrices as seen in the table below.\n",
        "\n",
        "![img](https://cdn.iisc.talentsprint.com/CDS/Images/tensors.JPG)"
      ]
    },
    {
      "cell_type": "markdown",
      "metadata": {
        "id": "qQUX9GMPFl2U"
      },
      "source": [
        "* From the above explanation, you might have understood that Tensor operations are nothing but matrix operations.\n",
        "\n",
        "**Tensorflow**:\n",
        "We are introducing Tensorflow here, a widely used library for Machine Learning, specifically deep learning. Tensorflow's name is directly derived from its core framework: Tensor and all the computations carried out involve Tensor and its operations.TensorFlow was developed by the Google Brain team and first released under the Apache License 2.0 in 2015.\n",
        "* In the following sections, we will see few commonly used operations of Tensor using both NumPy and TensorFlow Library."
      ]
    },
    {
      "cell_type": "markdown",
      "metadata": {
        "id": "BNLA8HiKxQhc"
      },
      "source": [
        "### Setup Steps:"
      ]
    },
    {
      "cell_type": "code",
      "metadata": {
        "id": "2YzfoPvJDiTX"
      },
      "source": [
        "#@title Please enter your registration id to start: { run: \"auto\", display-mode: \"form\" }\n",
        "Id = \"2236624\" #@param {type:\"string\"}"
      ],
      "execution_count": 1,
      "outputs": []
    },
    {
      "cell_type": "code",
      "metadata": {
        "id": "AjoZJWGErxGf"
      },
      "source": [
        "#@title Please enter your password (your registered phone number) to continue: { run: \"auto\", display-mode: \"form\" }\n",
        "password = \"8240187807\" #@param {type:\"string\"}"
      ],
      "execution_count": 2,
      "outputs": []
    },
    {
      "cell_type": "code",
      "metadata": {
        "id": "WBPPuGmBlDIN",
        "cellView": "form",
        "colab": {
          "base_uri": "https://localhost:8080/",
          "height": 34
        },
        "outputId": "cfc49590-e199-4a21-b095-f940744ca2d9"
      },
      "source": [
        "#@title Run this cell to complete the setup for this Notebook\n",
        "from IPython import get_ipython\n",
        "\n",
        "ipython = get_ipython()\n",
        "  \n",
        "notebook= \"M1_AST_10_Tensor_Operations_C\" #name of the notebook\n",
        "\n",
        "def setup():\n",
        "#  ipython.magic(\"sx pip3 install torch\")  \n",
        "    from IPython.display import HTML, display\n",
        "    display(HTML('<script src=\"https://dashboard.talentsprint.com/aiml/record_ip.html?traineeId={0}&recordId={1}\"></script>'.format(getId(),submission_id)))\n",
        "    print(\"Setup completed successfully\")\n",
        "    return\n",
        "\n",
        "def submit_notebook():\n",
        "    ipython.magic(\"notebook -e \"+ notebook + \".ipynb\")\n",
        "    \n",
        "    import requests, json, base64, datetime\n",
        "\n",
        "    url = \"https://dashboard.talentsprint.com/xp/app/save_notebook_attempts\"\n",
        "    if not submission_id:\n",
        "      data = {\"id\" : getId(), \"notebook\" : notebook, \"mobile\" : getPassword()}\n",
        "      r = requests.post(url, data = data)\n",
        "      r = json.loads(r.text)\n",
        "\n",
        "      if r[\"status\"] == \"Success\":\n",
        "          return r[\"record_id\"]\n",
        "      elif \"err\" in r:        \n",
        "        print(r[\"err\"])\n",
        "        return None        \n",
        "      else:\n",
        "        print (\"Something is wrong, the notebook will not be submitted for grading\")\n",
        "        return None\n",
        "    \n",
        "    elif getAnswer() and getComplexity() and getAdditional() and getConcepts() and getComments() and getMentorSupport():\n",
        "      f = open(notebook + \".ipynb\", \"rb\")\n",
        "      file_hash = base64.b64encode(f.read())\n",
        "\n",
        "      data = {\"complexity\" : Complexity, \"additional\" :Additional, \n",
        "              \"concepts\" : Concepts, \"record_id\" : submission_id, \n",
        "              \"answer\" : Answer, \"id\" : Id, \"file_hash\" : file_hash,\n",
        "              \"notebook\" : notebook,\n",
        "              \"feedback_experiments_input\" : Comments,\n",
        "              \"feedback_mentor_support\": Mentor_support}\n",
        "      r = requests.post(url, data = data)\n",
        "      r = json.loads(r.text)\n",
        "      if \"err\" in r:        \n",
        "        print(r[\"err\"])\n",
        "        return None   \n",
        "      else:\n",
        "        print(\"Your submission is successful.\")\n",
        "        print(\"Ref Id:\", submission_id)\n",
        "        print(\"Date of submission: \", r[\"date\"])\n",
        "        print(\"Time of submission: \", r[\"time\"])\n",
        "        print(\"View your submissions: https://cds.iisc.talentsprint.com/notebook_submissions\")\n",
        "        #print(\"For any queries/discrepancies, please connect with mentors through the chat icon in LMS dashboard.\")\n",
        "        return submission_id\n",
        "    else: submission_id\n",
        "    \n",
        "\n",
        "def getAdditional():\n",
        "  try:\n",
        "    if not Additional: \n",
        "      raise NameError\n",
        "    else:\n",
        "      return Additional  \n",
        "  except NameError:\n",
        "    print (\"Please answer Additional Question\")\n",
        "    return None\n",
        "\n",
        "def getComplexity():\n",
        "  try:\n",
        "    if not Complexity:\n",
        "      raise NameError\n",
        "    else:\n",
        "      return Complexity\n",
        "  except NameError:\n",
        "    print (\"Please answer Complexity Question\")\n",
        "    return None\n",
        "  \n",
        "def getConcepts():\n",
        "  try:\n",
        "    if not Concepts:\n",
        "      raise NameError\n",
        "    else:\n",
        "      return Concepts\n",
        "  except NameError:\n",
        "    print (\"Please answer Concepts Question\")\n",
        "    return None\n",
        "  \n",
        "  \n",
        "# def getWalkthrough():\n",
        "#   try:\n",
        "#     if not Walkthrough:\n",
        "#       raise NameError\n",
        "#     else:\n",
        "#       return Walkthrough\n",
        "#   except NameError:\n",
        "#     print (\"Please answer Walkthrough Question\")\n",
        "#     return None\n",
        "  \n",
        "def getComments():\n",
        "  try:\n",
        "    if not Comments:\n",
        "      raise NameError\n",
        "    else:\n",
        "      return Comments\n",
        "  except NameError:\n",
        "    print (\"Please answer Comments Question\")\n",
        "    return None\n",
        "  \n",
        "\n",
        "def getMentorSupport():\n",
        "  try:\n",
        "    if not Mentor_support:\n",
        "      raise NameError\n",
        "    else:\n",
        "      return Mentor_support\n",
        "  except NameError:\n",
        "    print (\"Please answer Mentor support Question\")\n",
        "    return None\n",
        "\n",
        "def getAnswer():\n",
        "  try:\n",
        "    if not Answer:\n",
        "      raise NameError \n",
        "    else: \n",
        "      return Answer\n",
        "  except NameError:\n",
        "    print (\"Please answer Question\")\n",
        "    return None\n",
        "  \n",
        "\n",
        "def getId():\n",
        "  try: \n",
        "    return Id if Id else None\n",
        "  except NameError:\n",
        "    return None\n",
        "\n",
        "def getPassword():\n",
        "  try:\n",
        "    return password if password else None\n",
        "  except NameError:\n",
        "    return None\n",
        "\n",
        "submission_id = None\n",
        "### Setup \n",
        "if getPassword() and getId():\n",
        "  submission_id = submit_notebook()\n",
        "  if submission_id:\n",
        "    setup() \n",
        "else:\n",
        "  print (\"Please complete Id and Password cells before running setup\")\n",
        "\n"
      ],
      "execution_count": 3,
      "outputs": [
        {
          "output_type": "display_data",
          "data": {
            "text/plain": [
              "<IPython.core.display.HTML object>"
            ],
            "text/html": [
              "<script src=\"https://dashboard.talentsprint.com/aiml/record_ip.html?traineeId=2236624&recordId=2186\"></script>"
            ]
          },
          "metadata": {}
        },
        {
          "output_type": "stream",
          "name": "stdout",
          "text": [
            "Setup completed successfully\n"
          ]
        }
      ]
    },
    {
      "cell_type": "markdown",
      "metadata": {
        "id": "ynL2MOaMNDrg"
      },
      "source": [
        "#### Importing Required Packages"
      ]
    },
    {
      "cell_type": "code",
      "metadata": {
        "id": "7-9RvK3wugWC"
      },
      "source": [
        "import numpy as np\n",
        "import tensorflow as tf"
      ],
      "execution_count": 4,
      "outputs": []
    },
    {
      "cell_type": "markdown",
      "metadata": {
        "id": "YGkLfp--LidI"
      },
      "source": [
        "### Defining and slicing a 2D/1D-Tensor "
      ]
    },
    {
      "cell_type": "markdown",
      "metadata": {
        "id": "1HrS-aWEhrZV"
      },
      "source": [
        "#### NumPy"
      ]
    },
    {
      "cell_type": "code",
      "metadata": {
        "id": "u9ar1fwPwmf1",
        "colab": {
          "base_uri": "https://localhost:8080/"
        },
        "outputId": "d570b805-ed3c-4617-d242-a0d67f744a12"
      },
      "source": [
        "a=np.array([[1,2],[2,3],[6,7]])             # Defining a 2D array in Numpy\n",
        "print(a)                                    # printing the array\n",
        "print('shape = ',a.shape)                   # shape gives counting of number of rows and columns in the forms of tuple \n",
        "print('dimension = ',a.ndim)                # It gives dimension of array\n",
        "print('size =',np.size(a))                  # size always gives total number of elements in any array\n",
        "print('lengths = ',len(a))                  # In 2D it gives counting of number of rows in an array\n",
        "print('data Structure type : ',type(a))     # It gives the type of data structure\n",
        "a.dtype                                     # it gives type of data stored in array."
      ],
      "execution_count": 5,
      "outputs": [
        {
          "output_type": "stream",
          "name": "stdout",
          "text": [
            "[[1 2]\n",
            " [2 3]\n",
            " [6 7]]\n",
            "shape =  (3, 2)\n",
            "dimension =  2\n",
            "size = 6\n",
            "lengths =  3\n",
            "data Structure type :  <class 'numpy.ndarray'>\n"
          ]
        },
        {
          "output_type": "execute_result",
          "data": {
            "text/plain": [
              "dtype('int64')"
            ]
          },
          "metadata": {},
          "execution_count": 5
        }
      ]
    },
    {
      "cell_type": "markdown",
      "metadata": {
        "id": "NWwnaFk7YA9H"
      },
      "source": [
        "##### Slicing: We are going to define a 2D Matrix as given in the image below and apply the slicing operations.\n",
        "\n",
        "![2Dimg](https://cdn.iisc.talentsprint.com/CDS/Images/2D_array_slicing.JPG)"
      ]
    },
    {
      "cell_type": "code",
      "metadata": {
        "id": "PNFzlFt2QfoI",
        "colab": {
          "base_uri": "https://localhost:8080/"
        },
        "outputId": "9d37145f-eb94-484d-e412-1426e92cddb9"
      },
      "source": [
        "## Creating a 2D array\n",
        "a2d = np.array([[1, 2, 3, 4], [4, 5, 6, 7], [7, 8, 9, 10]]) \n",
        "a2d "
      ],
      "execution_count": 6,
      "outputs": [
        {
          "output_type": "execute_result",
          "data": {
            "text/plain": [
              "array([[ 1,  2,  3,  4],\n",
              "       [ 4,  5,  6,  7],\n",
              "       [ 7,  8,  9, 10]])"
            ]
          },
          "metadata": {},
          "execution_count": 6
        }
      ]
    },
    {
      "cell_type": "code",
      "metadata": {
        "id": "8hiI6vCpQryb",
        "colab": {
          "base_uri": "https://localhost:8080/"
        },
        "outputId": "4a7481f9-2cc4-4535-a01d-460f1a8bcc55"
      },
      "source": [
        "# slicing the 2nd index row\n",
        "a2d[2]"
      ],
      "execution_count": 7,
      "outputs": [
        {
          "output_type": "execute_result",
          "data": {
            "text/plain": [
              "array([ 7,  8,  9, 10])"
            ]
          },
          "metadata": {},
          "execution_count": 7
        }
      ]
    },
    {
      "cell_type": "code",
      "metadata": {
        "id": "2tGDuWBbQvBn",
        "colab": {
          "base_uri": "https://localhost:8080/"
        },
        "outputId": "ef7f7bc0-93e3-4739-e9c3-e09063630f55"
      },
      "source": [
        "# zeroth row\n",
        "a2d[0] "
      ],
      "execution_count": 8,
      "outputs": [
        {
          "output_type": "execute_result",
          "data": {
            "text/plain": [
              "array([1, 2, 3, 4])"
            ]
          },
          "metadata": {},
          "execution_count": 8
        }
      ]
    },
    {
      "cell_type": "code",
      "metadata": {
        "id": "rKtiyYnBQzbH",
        "colab": {
          "base_uri": "https://localhost:8080/"
        },
        "outputId": "ed327406-ca74-446f-c3b9-44259ffd0dc9"
      },
      "source": [
        "# The first value before coma is for row index and the second value after coma is for column index.\n",
        "a2d[1,3]  "
      ],
      "execution_count": 9,
      "outputs": [
        {
          "output_type": "execute_result",
          "data": {
            "text/plain": [
              "7"
            ]
          },
          "metadata": {},
          "execution_count": 9
        }
      ]
    },
    {
      "cell_type": "code",
      "metadata": {
        "id": "Db2mLx6mQ354",
        "colab": {
          "base_uri": "https://localhost:8080/"
        },
        "outputId": "d2a22a8f-6634-443b-d186-292b133268c5"
      },
      "source": [
        "# This can also used.\n",
        "a2d[1][3]  "
      ],
      "execution_count": 10,
      "outputs": [
        {
          "output_type": "execute_result",
          "data": {
            "text/plain": [
              "7"
            ]
          },
          "metadata": {},
          "execution_count": 10
        }
      ]
    },
    {
      "cell_type": "code",
      "metadata": {
        "id": "rNWmrrTGQ9Gx",
        "colab": {
          "base_uri": "https://localhost:8080/"
        },
        "outputId": "4d924426-4f28-4278-90cb-727a1cc009db"
      },
      "source": [
        "# Using negative index\n",
        "a2d[-2,-3] "
      ],
      "execution_count": 11,
      "outputs": [
        {
          "output_type": "execute_result",
          "data": {
            "text/plain": [
              "5"
            ]
          },
          "metadata": {},
          "execution_count": 11
        }
      ]
    },
    {
      "cell_type": "code",
      "metadata": {
        "id": "L3ZmrbauRETu",
        "colab": {
          "base_uri": "https://localhost:8080/"
        },
        "outputId": "ac9c1d7c-4f85-4691-e438-00b92ba2cd75"
      },
      "source": [
        "# from the very beginning to -2 indexed row (i.e -3 and -2 indexed row) and -3,-4 indexed columns are sliced\n",
        "a2d[:-1,:-2] "
      ],
      "execution_count": 12,
      "outputs": [
        {
          "output_type": "execute_result",
          "data": {
            "text/plain": [
              "array([[1, 2],\n",
              "       [4, 5]])"
            ]
          },
          "metadata": {},
          "execution_count": 12
        }
      ]
    },
    {
      "cell_type": "code",
      "metadata": {
        "id": "WL3-HuniRJWl",
        "colab": {
          "base_uri": "https://localhost:8080/"
        },
        "outputId": "4f31a442-d07c-49ae-b988-44eb7dcc4f8d"
      },
      "source": [
        "# from the very beginning to 1 indexed row, i.e 0 and 1 index row sliced. 2 is not included.\n",
        "a2d[:2] "
      ],
      "execution_count": 13,
      "outputs": [
        {
          "output_type": "execute_result",
          "data": {
            "text/plain": [
              "array([[1, 2, 3, 4],\n",
              "       [4, 5, 6, 7]])"
            ]
          },
          "metadata": {},
          "execution_count": 13
        }
      ]
    },
    {
      "cell_type": "code",
      "metadata": {
        "id": "IuirfsDkRRXB",
        "colab": {
          "base_uri": "https://localhost:8080/"
        },
        "outputId": "815b08df-5ae1-4fcb-a777-791c9125fd50"
      },
      "source": [
        "# ( 0 ,1 ) indexed rows and 2 to last indexed columns are sliced.\n",
        "a2d[:2, 2:] "
      ],
      "execution_count": 14,
      "outputs": [
        {
          "output_type": "execute_result",
          "data": {
            "text/plain": [
              "array([[3, 4],\n",
              "       [6, 7]])"
            ]
          },
          "metadata": {},
          "execution_count": 14
        }
      ]
    },
    {
      "cell_type": "code",
      "metadata": {
        "id": "OAaf6o7VRbFq",
        "colab": {
          "base_uri": "https://localhost:8080/"
        },
        "outputId": "6b0374e7-4963-4746-a805-16f6ae81ed51"
      },
      "source": [
        "# 1 indexed row and (0,1) indexed columns are sliced .\n",
        "a2d[1, :2] "
      ],
      "execution_count": 15,
      "outputs": [
        {
          "output_type": "execute_result",
          "data": {
            "text/plain": [
              "array([4, 5])"
            ]
          },
          "metadata": {},
          "execution_count": 15
        }
      ]
    },
    {
      "cell_type": "code",
      "metadata": {
        "id": "P9toXdxKRYG-",
        "colab": {
          "base_uri": "https://localhost:8080/"
        },
        "outputId": "69835a75-7547-4b25-c2ae-4d16fdb04944"
      },
      "source": [
        "# Explain yourself?\n",
        "a2d[:2, 2] "
      ],
      "execution_count": 16,
      "outputs": [
        {
          "output_type": "execute_result",
          "data": {
            "text/plain": [
              "array([3, 6])"
            ]
          },
          "metadata": {},
          "execution_count": 16
        }
      ]
    },
    {
      "cell_type": "code",
      "metadata": {
        "id": "WGBZjVkSRfe1",
        "colab": {
          "base_uri": "https://localhost:8080/"
        },
        "outputId": "a2a21483-fb46-49f5-d011-f5269c213e2a"
      },
      "source": [
        "# All rows and 0 column ( from the very beginning, but 1 not included i.e. zeroth column ) sliced.\n",
        "a2d[:, :1] "
      ],
      "execution_count": 17,
      "outputs": [
        {
          "output_type": "execute_result",
          "data": {
            "text/plain": [
              "array([[1],\n",
              "       [4],\n",
              "       [7]])"
            ]
          },
          "metadata": {},
          "execution_count": 17
        }
      ]
    },
    {
      "cell_type": "code",
      "metadata": {
        "id": "tMemWat8Rklm",
        "colab": {
          "base_uri": "https://localhost:8080/"
        },
        "outputId": "6bda071d-8052-4994-9cc0-a5dd8678af4e"
      },
      "source": [
        "print('Initial Matrix = ',a2d)\n",
        "# This is an assignment operation, a2d  itself gets changed.\n",
        "a2d[:2, 1:] = 0 \n",
        "print('Matrix after above assigned operations = ',a2d)"
      ],
      "execution_count": 18,
      "outputs": [
        {
          "output_type": "stream",
          "name": "stdout",
          "text": [
            "Initial Matrix =  [[ 1  2  3  4]\n",
            " [ 4  5  6  7]\n",
            " [ 7  8  9 10]]\n",
            "Matrix after above assigned operations =  [[ 1  0  0  0]\n",
            " [ 4  0  0  0]\n",
            " [ 7  8  9 10]]\n"
          ]
        }
      ]
    },
    {
      "cell_type": "markdown",
      "metadata": {
        "id": "ftyZwvizMjaP"
      },
      "source": [
        "#### TensorFlow\n",
        "**tf.Variable**: There are multiple ways of defining/forming a Tensor in Tensorflow, tf.Variable is one of those. A tf.Variable represents a tensor whose value can be changed by running operations on it. Specific operations allow you to read and modify the values of this tensor. Higher-level libraries like tf.keras use tf.Variable to store model parameters that keep changing/updating with subsequent learning steps.\n",
        "\n",
        "**tf.Constant**: This is another way of creating a Tensor but the tensor made through this cannot be updated but can be called multiple times with only 1 copy in the memory, used in section 10."
      ]
    },
    {
      "cell_type": "code",
      "metadata": {
        "id": "G_pY-WC8J5rH",
        "colab": {
          "base_uri": "https://localhost:8080/"
        },
        "outputId": "09ca5e11-86b8-49cb-ed26-82243b9fded4"
      },
      "source": [
        "a_tf = tf.Variable([[1,2],[2,3],[6,7]])\n",
        "print(a_tf)\n",
        "print(tf.shape(a_tf))\n",
        "print(tf.rank(a_tf))\n",
        "# print(a_tf.ndim) -->  This operation is not valid for tf.variable object.\n",
        "print(tf.size(a_tf))"
      ],
      "execution_count": 19,
      "outputs": [
        {
          "output_type": "stream",
          "name": "stdout",
          "text": [
            "<tf.Variable 'Variable:0' shape=(3, 2) dtype=int32, numpy=\n",
            "array([[1, 2],\n",
            "       [2, 3],\n",
            "       [6, 7]], dtype=int32)>\n",
            "tf.Tensor([3 2], shape=(2,), dtype=int32)\n",
            "tf.Tensor(2, shape=(), dtype=int32)\n",
            "tf.Tensor(6, shape=(), dtype=int32)\n"
          ]
        }
      ]
    },
    {
      "cell_type": "markdown",
      "metadata": {
        "id": "FQMtT9VYOdI-"
      },
      "source": [
        "##### Slicing: Similar to Numpy array slicing."
      ]
    },
    {
      "cell_type": "code",
      "metadata": {
        "id": "QSJ1nBOQ9Z1s",
        "colab": {
          "base_uri": "https://localhost:8080/"
        },
        "outputId": "eae657a8-4451-4fb4-9479-778ab33a3842"
      },
      "source": [
        "a_tf[:,1]"
      ],
      "execution_count": 20,
      "outputs": [
        {
          "output_type": "execute_result",
          "data": {
            "text/plain": [
              "<tf.Tensor: shape=(3,), dtype=int32, numpy=array([2, 3, 7], dtype=int32)>"
            ]
          },
          "metadata": {},
          "execution_count": 20
        }
      ]
    },
    {
      "cell_type": "markdown",
      "metadata": {
        "id": "r-kOKgPcgK6V"
      },
      "source": [
        "#### Note the difference between 1D tensor, 2D row tensor, and 2D column tensor, explained with an example below."
      ]
    },
    {
      "cell_type": "markdown",
      "metadata": {
        "id": "Rh-ROINnhl5A"
      },
      "source": [
        "##### NumPy"
      ]
    },
    {
      "cell_type": "code",
      "metadata": {
        "id": "eCmq5aI0gm_6",
        "colab": {
          "base_uri": "https://localhost:8080/"
        },
        "outputId": "efd8ac83-6404-4f23-f094-bd74eef4d9ab"
      },
      "source": [
        "# This is a 1D tensor\n",
        "V1 = np.array([1,2,3]) \n",
        "print(V1,'\\n')\n",
        "print(V1.shape)"
      ],
      "execution_count": 21,
      "outputs": [
        {
          "output_type": "stream",
          "name": "stdout",
          "text": [
            "[1 2 3] \n",
            "\n",
            "(3,)\n"
          ]
        }
      ]
    },
    {
      "cell_type": "code",
      "metadata": {
        "id": "p06yVFCShM50",
        "colab": {
          "base_uri": "https://localhost:8080/"
        },
        "outputId": "40829db7-98b5-4594-f4bf-f892d8447609"
      },
      "source": [
        "# This is a 2D tensor having 1 row and 3 columns, i.e. 2D row tensor as it contains only one row.\n",
        "V2 = np.array([[1,2,3]])\n",
        "print(V2,'\\n')\n",
        "print(V2.shape)"
      ],
      "execution_count": 22,
      "outputs": [
        {
          "output_type": "stream",
          "name": "stdout",
          "text": [
            "[[1 2 3]] \n",
            "\n",
            "(1, 3)\n"
          ]
        }
      ]
    },
    {
      "cell_type": "code",
      "metadata": {
        "id": "U19HA23rgnPN",
        "colab": {
          "base_uri": "https://localhost:8080/"
        },
        "outputId": "be643eb3-c0fe-46c8-c84a-81a28cf79185"
      },
      "source": [
        "# This is a 2D tensor having 3 rows and 1 column, ie. a 2D column tensor as it contains only one column.\n",
        "V3 = np.array([[1],[2],[3]])  \n",
        "print(V3,'\\n')\n",
        "print(V3.shape)"
      ],
      "execution_count": 23,
      "outputs": [
        {
          "output_type": "stream",
          "name": "stdout",
          "text": [
            "[[1]\n",
            " [2]\n",
            " [3]] \n",
            "\n",
            "(3, 1)\n"
          ]
        }
      ]
    },
    {
      "cell_type": "markdown",
      "metadata": {
        "id": "c24mn429h452"
      },
      "source": [
        "##### TensorFlow"
      ]
    },
    {
      "cell_type": "code",
      "metadata": {
        "id": "Fgpl2e6Nh_Hy",
        "colab": {
          "base_uri": "https://localhost:8080/"
        },
        "outputId": "4394da1c-d4ce-497d-db09-30a9340bf709"
      },
      "source": [
        "V1_tf = tf.Variable([1,2,3])\n",
        "print(V1_tf)"
      ],
      "execution_count": 24,
      "outputs": [
        {
          "output_type": "stream",
          "name": "stdout",
          "text": [
            "<tf.Variable 'Variable:0' shape=(3,) dtype=int32, numpy=array([1, 2, 3], dtype=int32)>\n"
          ]
        }
      ]
    },
    {
      "cell_type": "code",
      "metadata": {
        "id": "2eMy_zz-iL2J",
        "colab": {
          "base_uri": "https://localhost:8080/"
        },
        "outputId": "165ba1e3-b04e-4635-93cc-83e87425b44c"
      },
      "source": [
        "V2_tf = tf.Variable([[1,2,3]])\n",
        "print(V2_tf)"
      ],
      "execution_count": 25,
      "outputs": [
        {
          "output_type": "stream",
          "name": "stdout",
          "text": [
            "<tf.Variable 'Variable:0' shape=(1, 3) dtype=int32, numpy=array([[1, 2, 3]], dtype=int32)>\n"
          ]
        }
      ]
    },
    {
      "cell_type": "code",
      "metadata": {
        "id": "G8a5oDGuiaLG",
        "colab": {
          "base_uri": "https://localhost:8080/"
        },
        "outputId": "cf823609-1cdd-4fde-aacb-1f1d77765bd0"
      },
      "source": [
        "V3_tf = tf.Variable([[1],[2],[3]])\n",
        "print(V3_tf)"
      ],
      "execution_count": 26,
      "outputs": [
        {
          "output_type": "stream",
          "name": "stdout",
          "text": [
            "<tf.Variable 'Variable:0' shape=(3, 1) dtype=int32, numpy=\n",
            "array([[1],\n",
            "       [2],\n",
            "       [3]], dtype=int32)>\n"
          ]
        }
      ]
    },
    {
      "cell_type": "markdown",
      "metadata": {
        "id": "qrF7byEzdr4p"
      },
      "source": [
        "### Transpose\n",
        "The new matrix obtained by interchanging the rows and columns of the original matrix is referred to as the transpose of the matrix."
      ]
    },
    {
      "cell_type": "markdown",
      "metadata": {
        "id": "xCrBefyBivx1"
      },
      "source": [
        "#### NumPy"
      ]
    },
    {
      "cell_type": "code",
      "metadata": {
        "id": "a9wOlq2nduLQ",
        "colab": {
          "base_uri": "https://localhost:8080/"
        },
        "outputId": "df4cef16-bf25-4a32-9c09-a144e163801b"
      },
      "source": [
        "print(a2d,'\\n')\n",
        "print(a2d.T)"
      ],
      "execution_count": 27,
      "outputs": [
        {
          "output_type": "stream",
          "name": "stdout",
          "text": [
            "[[ 1  0  0  0]\n",
            " [ 4  0  0  0]\n",
            " [ 7  8  9 10]] \n",
            "\n",
            "[[ 1  4  7]\n",
            " [ 0  0  8]\n",
            " [ 0  0  9]\n",
            " [ 0  0 10]]\n"
          ]
        }
      ]
    },
    {
      "cell_type": "markdown",
      "metadata": {
        "id": "k_rdmqffeeJQ"
      },
      "source": [
        "#### TensorFlow"
      ]
    },
    {
      "cell_type": "code",
      "metadata": {
        "id": "8HXArIhveA7e",
        "colab": {
          "base_uri": "https://localhost:8080/"
        },
        "outputId": "c74c5d79-dae1-4642-e77d-aecc283f69ac"
      },
      "source": [
        "# Creating a 2D tensor\n",
        "a2d_tf = tf.Variable([[1, 2, 3, 4], [4, 5, 6, 7], [7, 8, 9, 10]]) \n",
        "print(a2d_tf)\n",
        "tf.transpose(a2d_tf)"
      ],
      "execution_count": 28,
      "outputs": [
        {
          "output_type": "stream",
          "name": "stdout",
          "text": [
            "<tf.Variable 'Variable:0' shape=(3, 4) dtype=int32, numpy=\n",
            "array([[ 1,  2,  3,  4],\n",
            "       [ 4,  5,  6,  7],\n",
            "       [ 7,  8,  9, 10]], dtype=int32)>\n"
          ]
        },
        {
          "output_type": "execute_result",
          "data": {
            "text/plain": [
              "<tf.Tensor: shape=(4, 3), dtype=int32, numpy=\n",
              "array([[ 1,  4,  7],\n",
              "       [ 2,  5,  8],\n",
              "       [ 3,  6,  9],\n",
              "       [ 4,  7, 10]], dtype=int32)>"
            ]
          },
          "metadata": {},
          "execution_count": 28
        }
      ]
    },
    {
      "cell_type": "markdown",
      "metadata": {
        "id": "ivm4y0dGpgei"
      },
      "source": [
        "### Scalar Addition and Multiplication\n",
        "Addition or Multiplication of any higher-order tensor with a scalar quantity(zero-order tensor)."
      ]
    },
    {
      "cell_type": "markdown",
      "metadata": {
        "id": "I8j5Izfyh9AI"
      },
      "source": [
        "#### NumPy"
      ]
    },
    {
      "cell_type": "code",
      "metadata": {
        "id": "rLPFRvaf4Xu8",
        "colab": {
          "base_uri": "https://localhost:8080/"
        },
        "outputId": "e086e0c7-75e6-40ba-b6ac-93921ce9a20d"
      },
      "source": [
        "print(a)\n",
        "a+2 # 2 is added to each element of the initial matrix a."
      ],
      "execution_count": 29,
      "outputs": [
        {
          "output_type": "stream",
          "name": "stdout",
          "text": [
            "[[1 2]\n",
            " [2 3]\n",
            " [6 7]]\n"
          ]
        },
        {
          "output_type": "execute_result",
          "data": {
            "text/plain": [
              "array([[3, 4],\n",
              "       [4, 5],\n",
              "       [8, 9]])"
            ]
          },
          "metadata": {},
          "execution_count": 29
        }
      ]
    },
    {
      "cell_type": "code",
      "metadata": {
        "id": "JY1H890u4jqH",
        "colab": {
          "base_uri": "https://localhost:8080/"
        },
        "outputId": "bc788e1c-c94b-4dbf-c52f-490bb522911e"
      },
      "source": [
        "a*2 # Each element of the initial matrix is multiplied by 2."
      ],
      "execution_count": 30,
      "outputs": [
        {
          "output_type": "execute_result",
          "data": {
            "text/plain": [
              "array([[ 2,  4],\n",
              "       [ 4,  6],\n",
              "       [12, 14]])"
            ]
          },
          "metadata": {},
          "execution_count": 30
        }
      ]
    },
    {
      "cell_type": "markdown",
      "metadata": {
        "id": "kIRD0ZLF5PNI"
      },
      "source": [
        "#### TensorFlow"
      ]
    },
    {
      "cell_type": "code",
      "metadata": {
        "id": "zRqRXSLl4YH7",
        "colab": {
          "base_uri": "https://localhost:8080/"
        },
        "outputId": "0069b29b-abe9-4615-cc8b-82a6cdd99cdf"
      },
      "source": [
        "print(a_tf)\n",
        "tf.add(a_tf,2)"
      ],
      "execution_count": 31,
      "outputs": [
        {
          "output_type": "stream",
          "name": "stdout",
          "text": [
            "<tf.Variable 'Variable:0' shape=(3, 2) dtype=int32, numpy=\n",
            "array([[1, 2],\n",
            "       [2, 3],\n",
            "       [6, 7]], dtype=int32)>\n"
          ]
        },
        {
          "output_type": "execute_result",
          "data": {
            "text/plain": [
              "<tf.Tensor: shape=(3, 2), dtype=int32, numpy=\n",
              "array([[3, 4],\n",
              "       [4, 5],\n",
              "       [8, 9]], dtype=int32)>"
            ]
          },
          "metadata": {},
          "execution_count": 31
        }
      ]
    },
    {
      "cell_type": "code",
      "metadata": {
        "id": "4dPKvGka4YTg",
        "colab": {
          "base_uri": "https://localhost:8080/"
        },
        "outputId": "3a3381fe-773c-49e0-9b4b-76e02b8aea72"
      },
      "source": [
        "tf.multiply(a_tf,2)"
      ],
      "execution_count": 32,
      "outputs": [
        {
          "output_type": "execute_result",
          "data": {
            "text/plain": [
              "<tf.Tensor: shape=(3, 2), dtype=int32, numpy=\n",
              "array([[ 2,  4],\n",
              "       [ 4,  6],\n",
              "       [12, 14]], dtype=int32)>"
            ]
          },
          "metadata": {},
          "execution_count": 32
        }
      ]
    },
    {
      "cell_type": "markdown",
      "metadata": {
        "id": "AP_xsfdfiy3a"
      },
      "source": [
        "### Addition and Subtraction between tensors\n",
        "When shape matches, simply element-wise addition and subtraction is carried out."
      ]
    },
    {
      "cell_type": "markdown",
      "metadata": {
        "id": "oPhAW5R6iBfi"
      },
      "source": [
        "#### NumPy"
      ]
    },
    {
      "cell_type": "code",
      "metadata": {
        "id": "g3eOutTlbSJr",
        "colab": {
          "base_uri": "https://localhost:8080/"
        },
        "outputId": "cb4e2de5-5ca9-48d0-bebe-21dec8b94704"
      },
      "source": [
        "b = np.array([[1,2],[2,3]])\n",
        "c = np.array([[3,4],[5,6]])\n",
        "print('b = ','\\n',b,'\\n','c = ','\\n',c)"
      ],
      "execution_count": 33,
      "outputs": [
        {
          "output_type": "stream",
          "name": "stdout",
          "text": [
            "b =  \n",
            " [[1 2]\n",
            " [2 3]] \n",
            " c =  \n",
            " [[3 4]\n",
            " [5 6]]\n"
          ]
        }
      ]
    },
    {
      "cell_type": "code",
      "metadata": {
        "id": "JHePyXEFbSX-",
        "colab": {
          "base_uri": "https://localhost:8080/"
        },
        "outputId": "ac844c4e-6659-4c40-950a-60f1980a4f20"
      },
      "source": [
        "print(b+c,'\\n')\n",
        "print(b-c)"
      ],
      "execution_count": 34,
      "outputs": [
        {
          "output_type": "stream",
          "name": "stdout",
          "text": [
            "[[4 6]\n",
            " [7 9]] \n",
            "\n",
            "[[-2 -2]\n",
            " [-3 -3]]\n"
          ]
        }
      ]
    },
    {
      "cell_type": "markdown",
      "metadata": {
        "id": "jDej96KvbRRb"
      },
      "source": [
        "#### TensorFlow"
      ]
    },
    {
      "cell_type": "code",
      "metadata": {
        "id": "kpNgf3rvZa2Z",
        "colab": {
          "base_uri": "https://localhost:8080/"
        },
        "outputId": "34b44edb-8c51-4840-c738-138139825761"
      },
      "source": [
        "b_tf = tf.Variable([[1,2],[2,3]])\n",
        "c_tf = tf.Variable([[3,4],[5,6]])\n",
        "print(b_tf,'\\n',c_tf)\n"
      ],
      "execution_count": 35,
      "outputs": [
        {
          "output_type": "stream",
          "name": "stdout",
          "text": [
            "<tf.Variable 'Variable:0' shape=(2, 2) dtype=int32, numpy=\n",
            "array([[1, 2],\n",
            "       [2, 3]], dtype=int32)> \n",
            " <tf.Variable 'Variable:0' shape=(2, 2) dtype=int32, numpy=\n",
            "array([[3, 4],\n",
            "       [5, 6]], dtype=int32)>\n"
          ]
        }
      ]
    },
    {
      "cell_type": "code",
      "metadata": {
        "id": "tywFTUvUZbME",
        "colab": {
          "base_uri": "https://localhost:8080/"
        },
        "outputId": "a1f5e78a-8518-4da0-828b-26e821a3becb"
      },
      "source": [
        "tf.add(b_tf,c_tf) # Addition"
      ],
      "execution_count": 36,
      "outputs": [
        {
          "output_type": "execute_result",
          "data": {
            "text/plain": [
              "<tf.Tensor: shape=(2, 2), dtype=int32, numpy=\n",
              "array([[4, 6],\n",
              "       [7, 9]], dtype=int32)>"
            ]
          },
          "metadata": {},
          "execution_count": 36
        }
      ]
    },
    {
      "cell_type": "code",
      "metadata": {
        "id": "Z-qhr0OPabAS",
        "colab": {
          "base_uri": "https://localhost:8080/"
        },
        "outputId": "fcce4f7a-ac10-4830-cbc1-aab892c75ae3"
      },
      "source": [
        "tf.subtract(b_tf,c_tf) # subtraction"
      ],
      "execution_count": 37,
      "outputs": [
        {
          "output_type": "execute_result",
          "data": {
            "text/plain": [
              "<tf.Tensor: shape=(2, 2), dtype=int32, numpy=\n",
              "array([[-2, -2],\n",
              "       [-3, -3]], dtype=int32)>"
            ]
          },
          "metadata": {},
          "execution_count": 37
        }
      ]
    },
    {
      "cell_type": "markdown",
      "metadata": {
        "id": "GQ3iD_93hBgB"
      },
      "source": [
        "### Concept of Broadcasting\n",
        "\n",
        "Understand by going through the examples given below."
      ]
    },
    {
      "cell_type": "markdown",
      "metadata": {
        "id": "91xEYRpZnWtB"
      },
      "source": [
        "#### NumPy\n",
        "\n",
        "To know more about broadcasting click [here](https://numpy.org/devdocs/user/theory.broadcasting.html)."
      ]
    },
    {
      "cell_type": "code",
      "metadata": {
        "id": "ttoVSau6kQUg",
        "colab": {
          "base_uri": "https://localhost:8080/"
        },
        "outputId": "3bae2c8b-1251-42b3-e2fb-c3d220e6e163"
      },
      "source": [
        "M1 = np.array([[1,2,3],[4,5,6]])\n",
        "print(M1)\n",
        "M1.shape"
      ],
      "execution_count": 46,
      "outputs": [
        {
          "output_type": "stream",
          "name": "stdout",
          "text": [
            "[[1 2 3]\n",
            " [4 5 6]]\n"
          ]
        },
        {
          "output_type": "execute_result",
          "data": {
            "text/plain": [
              "(2, 3)"
            ]
          },
          "metadata": {},
          "execution_count": 46
        }
      ]
    },
    {
      "cell_type": "code",
      "metadata": {
        "id": "J7FGP8DxkQj4",
        "colab": {
          "base_uri": "https://localhost:8080/"
        },
        "outputId": "2abe2ec2-8ec4-4b44-ee7d-783957640324"
      },
      "source": [
        "M2 = np.array([[8],[9]])\n",
        "print(M2)\n",
        "M2.shape"
      ],
      "execution_count": 47,
      "outputs": [
        {
          "output_type": "stream",
          "name": "stdout",
          "text": [
            "[[8]\n",
            " [9]]\n"
          ]
        },
        {
          "output_type": "execute_result",
          "data": {
            "text/plain": [
              "(2, 1)"
            ]
          },
          "metadata": {},
          "execution_count": 47
        }
      ]
    },
    {
      "cell_type": "markdown",
      "metadata": {
        "id": "xDi6j-RhniBt"
      },
      "source": [
        "Mathematically M1 and M2 cannot be added as the shape doesn't match, but in NumPy, they can be added. M2 has the same number of rows as that of M1. Its column gets replicated so that its shape becomes equal to M1, and then, both are added. This process of replication is broadcasting. M2 gets broadcasted in the direction of the column of M1. We will see the result after replication and sum operation. Broadcasted M2 is not visible, it is a hidden step. See the result below:"
      ]
    },
    {
      "cell_type": "code",
      "metadata": {
        "id": "1XflAQ3qkQwx",
        "colab": {
          "base_uri": "https://localhost:8080/"
        },
        "outputId": "e5bd26c6-4949-4299-8dfc-d79f09d90caa"
      },
      "source": [
        "M1+M2"
      ],
      "execution_count": 48,
      "outputs": [
        {
          "output_type": "execute_result",
          "data": {
            "text/plain": [
              "array([[ 9, 10, 11],\n",
              "       [13, 14, 15]])"
            ]
          },
          "metadata": {},
          "execution_count": 48
        }
      ]
    },
    {
      "cell_type": "code",
      "metadata": {
        "id": "ubKLjJ09oMGI",
        "colab": {
          "base_uri": "https://localhost:8080/"
        },
        "outputId": "7e15c99b-5656-4489-c29b-be2f8e413e82"
      },
      "source": [
        "# Making another array M3\n",
        "M3 = np.array([[10,20,30]])\n",
        "print(M3)\n",
        "M3.shape"
      ],
      "execution_count": 49,
      "outputs": [
        {
          "output_type": "stream",
          "name": "stdout",
          "text": [
            "[[10 20 30]]\n"
          ]
        },
        {
          "output_type": "execute_result",
          "data": {
            "text/plain": [
              "(1, 3)"
            ]
          },
          "metadata": {},
          "execution_count": 49
        }
      ]
    },
    {
      "cell_type": "markdown",
      "metadata": {
        "id": "anTMwjQQoNa1"
      },
      "source": [
        "Mathematically M1 and M3 can not be added as the shape doesn't match, but in NumPy, they can be added. M3 has the same number of columns as that of M1. Its rows get replicated so that its shape becomes equal to M1, and then, both are added. This process of replication is broadcasting. M3 gets broadcasted in the direction of the rows of M1. We will see the result after replication and sum operation. Broadcasted M3 is not visible, it is a hidden step. See the result below:"
      ]
    },
    {
      "cell_type": "code",
      "metadata": {
        "id": "4pQOgvvxoglK",
        "colab": {
          "base_uri": "https://localhost:8080/"
        },
        "outputId": "3abdb220-2384-4be6-f957-c01306e6bf6a"
      },
      "source": [
        "M1+M3"
      ],
      "execution_count": 43,
      "outputs": [
        {
          "output_type": "execute_result",
          "data": {
            "text/plain": [
              "array([[11, 22, 33],\n",
              "       [14, 25, 36]])"
            ]
          },
          "metadata": {},
          "execution_count": 43
        }
      ]
    },
    {
      "cell_type": "markdown",
      "metadata": {
        "id": "L-wXIU9zcdxr"
      },
      "source": [
        "#### TensorFlow\n",
        " Similar to NumPy."
      ]
    },
    {
      "cell_type": "code",
      "metadata": {
        "id": "n19AdpclcnFg",
        "colab": {
          "base_uri": "https://localhost:8080/"
        },
        "outputId": "abf7e064-43e7-4fa7-f63e-781fbfeb1530"
      },
      "source": [
        "M1_tf = tf.Variable([[1,2,3],[4,5,6]])\n",
        "print(M1_tf,'\\n')\n",
        "M2_tf = tf.Variable([[8],[9]])\n",
        "print(M2_tf)"
      ],
      "execution_count": 44,
      "outputs": [
        {
          "output_type": "stream",
          "name": "stdout",
          "text": [
            "<tf.Variable 'Variable:0' shape=(2, 3) dtype=int32, numpy=\n",
            "array([[1, 2, 3],\n",
            "       [4, 5, 6]], dtype=int32)> \n",
            "\n",
            "<tf.Variable 'Variable:0' shape=(2, 1) dtype=int32, numpy=\n",
            "array([[8],\n",
            "       [9]], dtype=int32)>\n"
          ]
        }
      ]
    },
    {
      "cell_type": "code",
      "metadata": {
        "id": "HOUYvim9dFnO",
        "colab": {
          "base_uri": "https://localhost:8080/"
        },
        "outputId": "2003220c-6dfa-4599-df53-d173662efcdd"
      },
      "source": [
        "tf.add(M1_tf,M2_tf)"
      ],
      "execution_count": 45,
      "outputs": [
        {
          "output_type": "execute_result",
          "data": {
            "text/plain": [
              "<tf.Tensor: shape=(2, 3), dtype=int32, numpy=\n",
              "array([[ 9, 10, 11],\n",
              "       [13, 14, 15]], dtype=int32)>"
            ]
          },
          "metadata": {},
          "execution_count": 45
        }
      ]
    },
    {
      "cell_type": "markdown",
      "metadata": {
        "id": "RreRdEds5oJ_"
      },
      "source": [
        "### Hadamard Product or Element-wise Multiplication\n",
        "If the two Tensors have the same size, operations are carried out elementwise by default."
      ]
    },
    {
      "cell_type": "markdown",
      "metadata": {
        "id": "aNq-VJpqhF4V"
      },
      "source": [
        "#### NumPy"
      ]
    },
    {
      "cell_type": "code",
      "metadata": {
        "id": "5hhcBj8x6Kfv",
        "colab": {
          "base_uri": "https://localhost:8080/"
        },
        "outputId": "68091520-2719-4afd-891e-c0fe26a001ad"
      },
      "source": [
        "# Using previously defined matrix a by using  Numpy\n",
        "a"
      ],
      "execution_count": 50,
      "outputs": [
        {
          "output_type": "execute_result",
          "data": {
            "text/plain": [
              "array([[1, 2],\n",
              "       [2, 3],\n",
              "       [6, 7]])"
            ]
          },
          "metadata": {},
          "execution_count": 50
        }
      ]
    },
    {
      "cell_type": "code",
      "metadata": {
        "id": "lUO_-LgF7r7u",
        "colab": {
          "base_uri": "https://localhost:8080/"
        },
        "outputId": "59a09d91-2fbd-45a8-928a-05695edab399"
      },
      "source": [
        "# Defining another matrix b\n",
        "b = np.array([[2,3],[1,2],[4,5]])\n",
        "b"
      ],
      "execution_count": 51,
      "outputs": [
        {
          "output_type": "execute_result",
          "data": {
            "text/plain": [
              "array([[2, 3],\n",
              "       [1, 2],\n",
              "       [4, 5]])"
            ]
          },
          "metadata": {},
          "execution_count": 51
        }
      ]
    },
    {
      "cell_type": "code",
      "metadata": {
        "id": "aiwerU6u7_uJ",
        "colab": {
          "base_uri": "https://localhost:8080/"
        },
        "outputId": "ba8e34c1-6453-4524-f9fd-4111571b2405"
      },
      "source": [
        "# Here the shape of a  and b matches thus default product is Hadamard multiplication. Note: This is not matrix multiplication.\n",
        "a*b"
      ],
      "execution_count": 52,
      "outputs": [
        {
          "output_type": "execute_result",
          "data": {
            "text/plain": [
              "array([[ 2,  6],\n",
              "       [ 2,  6],\n",
              "       [24, 35]])"
            ]
          },
          "metadata": {},
          "execution_count": 52
        }
      ]
    },
    {
      "cell_type": "markdown",
      "metadata": {
        "id": "GfEjgkI68RKU"
      },
      "source": [
        "#### TensorFlow"
      ]
    },
    {
      "cell_type": "code",
      "metadata": {
        "id": "jZJenXZc8XHU",
        "colab": {
          "base_uri": "https://localhost:8080/"
        },
        "outputId": "a7be1da6-bfbd-44a2-d67f-b8f74475fad9"
      },
      "source": [
        "a_tf"
      ],
      "execution_count": 53,
      "outputs": [
        {
          "output_type": "execute_result",
          "data": {
            "text/plain": [
              "<tf.Variable 'Variable:0' shape=(3, 2) dtype=int32, numpy=\n",
              "array([[1, 2],\n",
              "       [2, 3],\n",
              "       [6, 7]], dtype=int32)>"
            ]
          },
          "metadata": {},
          "execution_count": 53
        }
      ]
    },
    {
      "cell_type": "code",
      "metadata": {
        "id": "SWu0-Wzm8XyA",
        "colab": {
          "base_uri": "https://localhost:8080/"
        },
        "outputId": "927f6e1b-22e6-486c-da1f-5a0d5b094635"
      },
      "source": [
        "b_tf = tf.Variable([[2,3],[1,2],[4,5]])\n",
        "b_tf"
      ],
      "execution_count": 54,
      "outputs": [
        {
          "output_type": "execute_result",
          "data": {
            "text/plain": [
              "<tf.Variable 'Variable:0' shape=(3, 2) dtype=int32, numpy=\n",
              "array([[2, 3],\n",
              "       [1, 2],\n",
              "       [4, 5]], dtype=int32)>"
            ]
          },
          "metadata": {},
          "execution_count": 54
        }
      ]
    },
    {
      "cell_type": "code",
      "metadata": {
        "id": "TwYRQO2I8nQM",
        "colab": {
          "base_uri": "https://localhost:8080/"
        },
        "outputId": "db048a56-b8a1-465d-ff1d-5417f22c0ea2"
      },
      "source": [
        "a_tf * b_tf # Hadamard Multiplication\n",
        "# OR tf.multiply(a_tf,b_tf)"
      ],
      "execution_count": 55,
      "outputs": [
        {
          "output_type": "execute_result",
          "data": {
            "text/plain": [
              "<tf.Tensor: shape=(3, 2), dtype=int32, numpy=\n",
              "array([[ 2,  6],\n",
              "       [ 2,  6],\n",
              "       [24, 35]], dtype=int32)>"
            ]
          },
          "metadata": {},
          "execution_count": 55
        }
      ]
    },
    {
      "cell_type": "markdown",
      "metadata": {
        "id": "TVpqaHzr5jtl"
      },
      "source": [
        "### Matrix Multiplication\n",
        "* For multiplying matrix a and matrix b, the number of columns of matrix a and the number of rows of matrix b must match.\n",
        "* Note: Matrix Multiplication is not commutative (i.e.AB != BA) "
      ]
    },
    {
      "cell_type": "markdown",
      "metadata": {
        "id": "94hv851SXRR5"
      },
      "source": [
        "The Image below shows the Matrix multiplication process\n",
        "![img](https://cdn.iisc.talentsprint.com/CDS/Images/Tensor_matmul.JPG)"
      ]
    },
    {
      "cell_type": "markdown",
      "metadata": {
        "id": "5rKaS_tBZ8b5"
      },
      "source": [
        "#### NumPy"
      ]
    },
    {
      "cell_type": "code",
      "metadata": {
        "id": "srzIkcio_dIg",
        "colab": {
          "base_uri": "https://localhost:8080/"
        },
        "outputId": "c520db91-f064-4d42-c0ea-0a191f98a588"
      },
      "source": [
        "a1 = np.array([[1,2,3],[4,5,6]])\n",
        "print(a1,'\\n','Shape = ',a1.shape)\n",
        "b1 = np.array([[2,1],[3,2],[4,3]])\n",
        "print(b1,'\\n','Shape = ',b1.shape)"
      ],
      "execution_count": 56,
      "outputs": [
        {
          "output_type": "stream",
          "name": "stdout",
          "text": [
            "[[1 2 3]\n",
            " [4 5 6]] \n",
            " Shape =  (2, 3)\n",
            "[[2 1]\n",
            " [3 2]\n",
            " [4 3]] \n",
            " Shape =  (3, 2)\n"
          ]
        }
      ]
    },
    {
      "cell_type": "code",
      "metadata": {
        "id": "8reX_9Xr_dZK",
        "colab": {
          "base_uri": "https://localhost:8080/"
        },
        "outputId": "c2b5c033-ba66-4a38-885a-a499798bdbc6"
      },
      "source": [
        "# Matrix multiplication between a1 and b1 is possible as shape matches.\n",
        "np.dot(a1,b1) # OR\n",
        "a1.dot(b1)"
      ],
      "execution_count": 57,
      "outputs": [
        {
          "output_type": "execute_result",
          "data": {
            "text/plain": [
              "array([[20, 14],\n",
              "       [47, 32]])"
            ]
          },
          "metadata": {},
          "execution_count": 57
        }
      ]
    },
    {
      "cell_type": "markdown",
      "metadata": {
        "id": "kJO9YLfsaAMW"
      },
      "source": [
        "#### TensorFlow"
      ]
    },
    {
      "cell_type": "code",
      "metadata": {
        "id": "GW14bfECaFHp",
        "colab": {
          "base_uri": "https://localhost:8080/"
        },
        "outputId": "cf0f0a65-1dcf-4b94-90b9-d09f001a2557"
      },
      "source": [
        "a1_tf = tf.Variable([[1,2,3],[4,5,6]])\n",
        "print(a1_tf,'\\n')\n",
        "b1_tf = tf.Variable([[2,1],[3,2],[4,3]])\n",
        "print(b1_tf)"
      ],
      "execution_count": 58,
      "outputs": [
        {
          "output_type": "stream",
          "name": "stdout",
          "text": [
            "<tf.Variable 'Variable:0' shape=(2, 3) dtype=int32, numpy=\n",
            "array([[1, 2, 3],\n",
            "       [4, 5, 6]], dtype=int32)> \n",
            "\n",
            "<tf.Variable 'Variable:0' shape=(3, 2) dtype=int32, numpy=\n",
            "array([[2, 1],\n",
            "       [3, 2],\n",
            "       [4, 3]], dtype=int32)>\n"
          ]
        }
      ]
    },
    {
      "cell_type": "code",
      "metadata": {
        "id": "MDHyEVavbGWJ",
        "colab": {
          "base_uri": "https://localhost:8080/"
        },
        "outputId": "867b7de2-4173-4247-f8ba-ac4932cbb7f1"
      },
      "source": [
        "tf.linalg.matmul(a1_tf,b1_tf)"
      ],
      "execution_count": 59,
      "outputs": [
        {
          "output_type": "execute_result",
          "data": {
            "text/plain": [
              "<tf.Tensor: shape=(2, 2), dtype=int32, numpy=\n",
              "array([[20, 14],\n",
              "       [47, 32]], dtype=int32)>"
            ]
          },
          "metadata": {},
          "execution_count": 59
        }
      ]
    },
    {
      "cell_type": "markdown",
      "metadata": {
        "id": "XGOqVzIUthCA"
      },
      "source": [
        "### Tensordot or Tensor Contraction\n",
        "Tensordot operation is carried out between input arrays based on the respective axes ( passed as an arg.) along which the sum-reductions are intended.\n",
        "The axes that take part in sum-reduction are removed in the output, and all of the remaining axes from the input arrays are spread out as different axes in the output, keeping the order in which the input arrays are fed.\n",
        "\n",
        "#### NumPy\n",
        "\n",
        "Go through the examples given below and visit the reference to comprehend it properly.\n",
        "\n",
        "To know more tensordot in numpy, refer the [link](https://numpy.org/doc/stable/reference/generated/numpy.tensordot.html)"
      ]
    },
    {
      "cell_type": "code",
      "metadata": {
        "id": "e3GpfJ0FtmSC",
        "colab": {
          "base_uri": "https://localhost:8080/"
        },
        "outputId": "46fd5aff-fde4-4817-a738-16500600f05f"
      },
      "source": [
        "# Defining tensors\n",
        "a1 = np.array([[1,2,3],[2,3,1]])\n",
        "a2 = np.array([[1,2],[3,4],[2,3]])\n",
        "print(\"Tensor1 is: \\n \", a1)\n",
        "print(\"Tensor2 is: \\n\", a2)\n",
        "\n",
        "# Calculating tensordot\n",
        "r1 = np.tensordot(a1, a2, axes=([0,1])) # Same when axes are passed as -->  axes=([0],[1])  OR   axes=([[0],[1]])\n",
        "print(\"Tensordot of these tensors is:\\n\", r1)\n",
        "print(\"Shape : \", r1.shape)"
      ],
      "execution_count": 60,
      "outputs": [
        {
          "output_type": "stream",
          "name": "stdout",
          "text": [
            "Tensor1 is: \n",
            "  [[1 2 3]\n",
            " [2 3 1]]\n",
            "Tensor2 is: \n",
            " [[1 2]\n",
            " [3 4]\n",
            " [2 3]]\n",
            "Tensordot of these tensors is:\n",
            " [[ 5 11  8]\n",
            " [ 8 18 13]\n",
            " [ 5 13  9]]\n",
            "Shape :  (3, 3)\n"
          ]
        }
      ]
    },
    {
      "cell_type": "markdown",
      "metadata": {
        "id": "58g7_DCqtrLm"
      },
      "source": [
        "* When a and b are matrices (order 2), the case axes = 1 is equivalent to matrix multiplication.\n",
        "* When a and b are matrices (order 2), the case axes = [[1], [0]] is equivalent to matrix multiplication."
      ]
    },
    {
      "cell_type": "code",
      "metadata": {
        "id": "Nmi1DVR4ttgu",
        "colab": {
          "base_uri": "https://localhost:8080/"
        },
        "outputId": "c0105141-e0a8-4503-fc55-7dfc6b9c577c"
      },
      "source": [
        "r1 = np.tensordot(a1, a2,axes=1)\n",
        "r1"
      ],
      "execution_count": 61,
      "outputs": [
        {
          "output_type": "execute_result",
          "data": {
            "text/plain": [
              "array([[13, 19],\n",
              "       [13, 19]])"
            ]
          },
          "metadata": {},
          "execution_count": 61
        }
      ]
    },
    {
      "cell_type": "code",
      "metadata": {
        "id": "7XH6udkVtvrC",
        "colab": {
          "base_uri": "https://localhost:8080/"
        },
        "outputId": "59680390-1281-45a5-fb27-4f2ce91bb1a9"
      },
      "source": [
        "r1 = np.tensordot(a1, a2,axes=([1,0]))  # Same when axes are passed as -->  axes=([1],[0])  OR   axes=([[1],[0]])\n",
        "r1"
      ],
      "execution_count": 62,
      "outputs": [
        {
          "output_type": "execute_result",
          "data": {
            "text/plain": [
              "array([[13, 19],\n",
              "       [13, 19]])"
            ]
          },
          "metadata": {},
          "execution_count": 62
        }
      ]
    },
    {
      "cell_type": "markdown",
      "metadata": {
        "id": "4OQ84P9UtylH"
      },
      "source": [
        "* When a and b are matrices (order 2), the case axes=0 gives the outer product, a tensor of order 4."
      ]
    },
    {
      "cell_type": "code",
      "metadata": {
        "id": "owAqXOjDt1kT",
        "colab": {
          "base_uri": "https://localhost:8080/"
        },
        "outputId": "785869d2-a897-47a3-a66d-4cf84ca9abce"
      },
      "source": [
        "r1 = np.tensordot(a1, a2,axes=0)       # Outer Product\n",
        "print(\"Resulting Tensor : \\n\", r1)\n",
        "r1.shape"
      ],
      "execution_count": 63,
      "outputs": [
        {
          "output_type": "stream",
          "name": "stdout",
          "text": [
            "Resulting Tensor : \n",
            " [[[[ 1  2]\n",
            "   [ 3  4]\n",
            "   [ 2  3]]\n",
            "\n",
            "  [[ 2  4]\n",
            "   [ 6  8]\n",
            "   [ 4  6]]\n",
            "\n",
            "  [[ 3  6]\n",
            "   [ 9 12]\n",
            "   [ 6  9]]]\n",
            "\n",
            "\n",
            " [[[ 2  4]\n",
            "   [ 6  8]\n",
            "   [ 4  6]]\n",
            "\n",
            "  [[ 3  6]\n",
            "   [ 9 12]\n",
            "   [ 6  9]]\n",
            "\n",
            "  [[ 1  2]\n",
            "   [ 3  4]\n",
            "   [ 2  3]]]]\n"
          ]
        },
        {
          "output_type": "execute_result",
          "data": {
            "text/plain": [
              "(2, 3, 3, 2)"
            ]
          },
          "metadata": {},
          "execution_count": 63
        }
      ]
    },
    {
      "cell_type": "markdown",
      "metadata": {
        "id": "w_H9RBJ_t7QT"
      },
      "source": [
        "#### TensorFlow\n",
        "\n",
        "Similar as NumPy.\n",
        "\n",
        "To know more about tensordot, refer the [link](https://www.tensorflow.org/api_docs/python/tf/tensordot)"
      ]
    },
    {
      "cell_type": "code",
      "metadata": {
        "id": "jhV65XRTt-HJ",
        "colab": {
          "base_uri": "https://localhost:8080/"
        },
        "outputId": "eaa691cd-800b-4d08-d978-7f17f815a70e"
      },
      "source": [
        "# Defining tensors\n",
        "a1_tf = tf.Variable([[1,2,3],[2,3,1]])\n",
        "a2_tf = tf.Variable([[1,2],[3,4],[2,3]])\n",
        "print(\"Tensor1 is: \\n \", a1_tf)\n",
        "print(\"Tensor2 is: \\n\", a2_tf)\n",
        "\n",
        "# Calculating tensordot\n",
        "r1_tf = tf.tensordot(a1_tf, a2_tf, axes=([0,1]))  # Same when axes are passed as -->  axes=([0],[1])  OR   axes=([[0],[1]])\n",
        "print(\"Tensordot of these tensors is:\\n\", r1_tf)\n",
        "print(\"Shape : \", tf.shape(r1_tf))"
      ],
      "execution_count": 64,
      "outputs": [
        {
          "output_type": "stream",
          "name": "stdout",
          "text": [
            "Tensor1 is: \n",
            "  <tf.Variable 'Variable:0' shape=(2, 3) dtype=int32, numpy=\n",
            "array([[1, 2, 3],\n",
            "       [2, 3, 1]], dtype=int32)>\n",
            "Tensor2 is: \n",
            " <tf.Variable 'Variable:0' shape=(3, 2) dtype=int32, numpy=\n",
            "array([[1, 2],\n",
            "       [3, 4],\n",
            "       [2, 3]], dtype=int32)>\n",
            "Tensordot of these tensors is:\n",
            " tf.Tensor(\n",
            "[[ 5 11  8]\n",
            " [ 8 18 13]\n",
            " [ 5 13  9]], shape=(3, 3), dtype=int32)\n",
            "Shape :  tf.Tensor([3 3], shape=(2,), dtype=int32)\n"
          ]
        }
      ]
    },
    {
      "cell_type": "code",
      "metadata": {
        "id": "v07hqXWIuBlQ",
        "colab": {
          "base_uri": "https://localhost:8080/"
        },
        "outputId": "a10076b7-7b68-4621-c4d8-56339a5091cc"
      },
      "source": [
        "r1_tf = tf.tensordot(a1_tf, a2_tf,axes=0)  # Outer Product\n",
        "print(\"Resulting Tensor : \\n\", r1_tf)\n",
        "tf.shape(r1_tf)"
      ],
      "execution_count": 65,
      "outputs": [
        {
          "output_type": "stream",
          "name": "stdout",
          "text": [
            "Resulting Tensor : \n",
            " tf.Tensor(\n",
            "[[[[ 1  2]\n",
            "   [ 3  4]\n",
            "   [ 2  3]]\n",
            "\n",
            "  [[ 2  4]\n",
            "   [ 6  8]\n",
            "   [ 4  6]]\n",
            "\n",
            "  [[ 3  6]\n",
            "   [ 9 12]\n",
            "   [ 6  9]]]\n",
            "\n",
            "\n",
            " [[[ 2  4]\n",
            "   [ 6  8]\n",
            "   [ 4  6]]\n",
            "\n",
            "  [[ 3  6]\n",
            "   [ 9 12]\n",
            "   [ 6  9]]\n",
            "\n",
            "  [[ 1  2]\n",
            "   [ 3  4]\n",
            "   [ 2  3]]]], shape=(2, 3, 3, 2), dtype=int32)\n"
          ]
        },
        {
          "output_type": "execute_result",
          "data": {
            "text/plain": [
              "<tf.Tensor: shape=(4,), dtype=int32, numpy=array([2, 3, 3, 2], dtype=int32)>"
            ]
          },
          "metadata": {},
          "execution_count": 65
        }
      ]
    },
    {
      "cell_type": "markdown",
      "metadata": {
        "id": "7wDe_I_4uFY9"
      },
      "source": [
        "**Note:** we have illustrated only 2nd order Tensordot operation. For operations on higher-order Tensors visit the reference mentioned above."
      ]
    },
    {
      "cell_type": "markdown",
      "metadata": {
        "id": "FCc93fa64WSA"
      },
      "source": [
        "### Reduction:\n",
        "Calculating the sum across all elements of a tensor along with any one or multiple dimensions."
      ]
    },
    {
      "cell_type": "markdown",
      "metadata": {
        "id": "Kwo8ZhF6hPRa"
      },
      "source": [
        "#### NumPy"
      ]
    },
    {
      "cell_type": "code",
      "metadata": {
        "id": "GfcsaOqtmyT4",
        "colab": {
          "base_uri": "https://localhost:8080/"
        },
        "outputId": "199ac0f7-3982-4ee1-d9a1-3a91fc7411d9"
      },
      "source": [
        "a   # Using the matrix/tensor defined above using Numpy"
      ],
      "execution_count": 66,
      "outputs": [
        {
          "output_type": "execute_result",
          "data": {
            "text/plain": [
              "array([[1, 2],\n",
              "       [2, 3],\n",
              "       [6, 7]])"
            ]
          },
          "metadata": {},
          "execution_count": 66
        }
      ]
    },
    {
      "cell_type": "code",
      "metadata": {
        "id": "uu7riudtmybD",
        "colab": {
          "base_uri": "https://localhost:8080/"
        },
        "outputId": "6d30bf37-1e91-4260-f7f5-13fb1d748309"
      },
      "source": [
        "print(a.sum())  # OR\n",
        "print(np.sum(a))"
      ],
      "execution_count": 67,
      "outputs": [
        {
          "output_type": "stream",
          "name": "stdout",
          "text": [
            "21\n",
            "21\n"
          ]
        }
      ]
    },
    {
      "cell_type": "markdown",
      "metadata": {
        "id": "rfeANjHNraXN"
      },
      "source": [
        "* Summation along any one dimension: Here axis=0 means down the rows and axis=1 means along the columns."
      ]
    },
    {
      "cell_type": "code",
      "metadata": {
        "id": "hSnGy0-MrRNg"
      },
      "source": [
        "print(a.sum(axis=0))  # OR\n",
        "print(np.sum(a,axis=0))"
      ],
      "execution_count": null,
      "outputs": []
    },
    {
      "cell_type": "code",
      "metadata": {
        "id": "_NSRx4JtrVIr",
        "colab": {
          "base_uri": "https://localhost:8080/"
        },
        "outputId": "73238b7f-18fd-4d37-f2b5-f90ee46e714c"
      },
      "source": [
        "print(a.sum(axis=1))  # OR\n",
        "print(np.sum(a,axis=1))"
      ],
      "execution_count": 68,
      "outputs": [
        {
          "output_type": "stream",
          "name": "stdout",
          "text": [
            "[ 3  5 13]\n",
            "[ 3  5 13]\n"
          ]
        }
      ]
    },
    {
      "cell_type": "markdown",
      "metadata": {
        "id": "kj2qsYVdsGjg"
      },
      "source": [
        "**Notice the code below and find the difference between the above and below operations.**"
      ]
    },
    {
      "cell_type": "code",
      "metadata": {
        "id": "s4RSKkf2r9kO",
        "colab": {
          "base_uri": "https://localhost:8080/"
        },
        "outputId": "ae077af9-a5b6-4efb-e7cb-21daf6f99bdc"
      },
      "source": [
        "print(a.sum(axis=1,keepdims=True))  # OR\n",
        "print(np.sum(a,axis=1,keepdims=True))"
      ],
      "execution_count": 69,
      "outputs": [
        {
          "output_type": "stream",
          "name": "stdout",
          "text": [
            "[[ 3]\n",
            " [ 5]\n",
            " [13]]\n",
            "[[ 3]\n",
            " [ 5]\n",
            " [13]]\n"
          ]
        }
      ]
    },
    {
      "cell_type": "markdown",
      "metadata": {
        "id": "jacCEzGirHNQ"
      },
      "source": [
        "#### TensorFlow"
      ]
    },
    {
      "cell_type": "code",
      "metadata": {
        "id": "Qmd9pOnjmyjT",
        "colab": {
          "base_uri": "https://localhost:8080/"
        },
        "outputId": "678bf025-073c-4928-c365-f6286fc33491"
      },
      "source": [
        "a_tf    # Using the tensor a_tf defined using Tensorflow"
      ],
      "execution_count": 70,
      "outputs": [
        {
          "output_type": "execute_result",
          "data": {
            "text/plain": [
              "<tf.Variable 'Variable:0' shape=(3, 2) dtype=int32, numpy=\n",
              "array([[1, 2],\n",
              "       [2, 3],\n",
              "       [6, 7]], dtype=int32)>"
            ]
          },
          "metadata": {},
          "execution_count": 70
        }
      ]
    },
    {
      "cell_type": "code",
      "metadata": {
        "id": "U7RBXWZ_s1-S",
        "colab": {
          "base_uri": "https://localhost:8080/"
        },
        "outputId": "353cae59-6769-47e5-c4aa-fb6f216d9eb8"
      },
      "source": [
        "tf.reduce_sum(a_tf)"
      ],
      "execution_count": 71,
      "outputs": [
        {
          "output_type": "execute_result",
          "data": {
            "text/plain": [
              "<tf.Tensor: shape=(), dtype=int32, numpy=21>"
            ]
          },
          "metadata": {},
          "execution_count": 71
        }
      ]
    },
    {
      "cell_type": "code",
      "metadata": {
        "id": "g0cnA5fus2MC",
        "colab": {
          "base_uri": "https://localhost:8080/"
        },
        "outputId": "53b50c83-5d07-4d54-c45b-6f7c99ebd7b2"
      },
      "source": [
        "tf.reduce_sum(a_tf,0)  # down the rows"
      ],
      "execution_count": 72,
      "outputs": [
        {
          "output_type": "execute_result",
          "data": {
            "text/plain": [
              "<tf.Tensor: shape=(2,), dtype=int32, numpy=array([ 9, 12], dtype=int32)>"
            ]
          },
          "metadata": {},
          "execution_count": 72
        }
      ]
    },
    {
      "cell_type": "code",
      "metadata": {
        "id": "G420vLmzs2XK",
        "colab": {
          "base_uri": "https://localhost:8080/"
        },
        "outputId": "4ae0a3d0-77b5-4214-ac85-c623fc2a728d"
      },
      "source": [
        "tf.reduce_sum(a_tf,1) # along the columns"
      ],
      "execution_count": 73,
      "outputs": [
        {
          "output_type": "execute_result",
          "data": {
            "text/plain": [
              "<tf.Tensor: shape=(3,), dtype=int32, numpy=array([ 3,  5, 13], dtype=int32)>"
            ]
          },
          "metadata": {},
          "execution_count": 73
        }
      ]
    },
    {
      "cell_type": "markdown",
      "metadata": {
        "id": "mrNWUO_HveDC"
      },
      "source": [
        "### Tensor/Matrix Determinant & Inversion\n",
        "* The matrix inversion is only valid for non-singular matrix i.e. matrix with non zero determinants. All columns of the matrix must be linearly independent.\n",
        "* Inversion is only calculated for the square matrix."
      ]
    },
    {
      "cell_type": "markdown",
      "metadata": {
        "id": "XVgSUCPAg5N0"
      },
      "source": [
        "#### NumPy"
      ]
    },
    {
      "cell_type": "code",
      "metadata": {
        "id": "0_vBuCpBtZf5",
        "colab": {
          "base_uri": "https://localhost:8080/"
        },
        "outputId": "e02c2977-831b-464a-f319-197364db8d28"
      },
      "source": [
        "X = np.array([[2,3],[5,9]])\n",
        "X"
      ],
      "execution_count": 74,
      "outputs": [
        {
          "output_type": "execute_result",
          "data": {
            "text/plain": [
              "array([[2, 3],\n",
              "       [5, 9]])"
            ]
          },
          "metadata": {},
          "execution_count": 74
        }
      ]
    },
    {
      "cell_type": "code",
      "metadata": {
        "id": "0IM4Kf6QtZyI",
        "colab": {
          "base_uri": "https://localhost:8080/"
        },
        "outputId": "11efb599-f69b-4faa-c458-6097869ecc2e"
      },
      "source": [
        "np.linalg.det(X) # Determinant calculation"
      ],
      "execution_count": 75,
      "outputs": [
        {
          "output_type": "execute_result",
          "data": {
            "text/plain": [
              "3.0000000000000004"
            ]
          },
          "metadata": {},
          "execution_count": 75
        }
      ]
    },
    {
      "cell_type": "code",
      "metadata": {
        "id": "ffr898zyxdd3",
        "colab": {
          "base_uri": "https://localhost:8080/"
        },
        "outputId": "2461dfe0-34b3-483b-aa68-5db33ad04a1d"
      },
      "source": [
        "X_inv = np.linalg.inv(X)\n",
        "X_inv"
      ],
      "execution_count": 76,
      "outputs": [
        {
          "output_type": "execute_result",
          "data": {
            "text/plain": [
              "array([[ 3.        , -1.        ],\n",
              "       [-1.66666667,  0.66666667]])"
            ]
          },
          "metadata": {},
          "execution_count": 76
        }
      ]
    },
    {
      "cell_type": "code",
      "metadata": {
        "id": "7DryrhzGxlC_",
        "colab": {
          "base_uri": "https://localhost:8080/"
        },
        "outputId": "0c09d553-f18a-4454-a467-cc245c198137"
      },
      "source": [
        "np.dot(X,X_inv)"
      ],
      "execution_count": 77,
      "outputs": [
        {
          "output_type": "execute_result",
          "data": {
            "text/plain": [
              "array([[ 1.00000000e+00, -1.11022302e-16],\n",
              "       [ 1.33226763e-15,  1.00000000e+00]])"
            ]
          },
          "metadata": {},
          "execution_count": 77
        }
      ]
    },
    {
      "cell_type": "markdown",
      "metadata": {
        "id": "CYQy5bDgxyRK"
      },
      "source": [
        "#### TensorFlow"
      ]
    },
    {
      "cell_type": "code",
      "metadata": {
        "id": "W0Cjj6Aax0lC",
        "colab": {
          "base_uri": "https://localhost:8080/"
        },
        "outputId": "de220d3a-4647-44bb-95dd-366e2062e17b"
      },
      "source": [
        "# To get inverse, make sure that  tensor has entries as float\n",
        "X_tf = tf.Variable([[2.,3.],[5.,9.]]) \n",
        "X_tf"
      ],
      "execution_count": 78,
      "outputs": [
        {
          "output_type": "execute_result",
          "data": {
            "text/plain": [
              "<tf.Variable 'Variable:0' shape=(2, 2) dtype=float32, numpy=\n",
              "array([[2., 3.],\n",
              "       [5., 9.]], dtype=float32)>"
            ]
          },
          "metadata": {},
          "execution_count": 78
        }
      ]
    },
    {
      "cell_type": "code",
      "metadata": {
        "id": "6k5tmZEUyqx9",
        "colab": {
          "base_uri": "https://localhost:8080/"
        },
        "outputId": "2bd18751-b973-4061-85ad-19710f0e981c"
      },
      "source": [
        "# Determinant Calculation\n",
        "tf.linalg.det(X_tf)    "
      ],
      "execution_count": 79,
      "outputs": [
        {
          "output_type": "execute_result",
          "data": {
            "text/plain": [
              "<tf.Tensor: shape=(), dtype=float32, numpy=3.0000007>"
            ]
          },
          "metadata": {},
          "execution_count": 79
        }
      ]
    },
    {
      "cell_type": "code",
      "metadata": {
        "id": "kzmfqXYN0WXN",
        "colab": {
          "base_uri": "https://localhost:8080/"
        },
        "outputId": "4e73c1c6-0578-4d84-ea5e-99cb8ff45dc3"
      },
      "source": [
        "## To get only the final result, add --> .numpy() at the end as given below. Valid everywhere.\n",
        "tf.linalg.det(X_tf).numpy()"
      ],
      "execution_count": 80,
      "outputs": [
        {
          "output_type": "execute_result",
          "data": {
            "text/plain": [
              "3.0000007"
            ]
          },
          "metadata": {},
          "execution_count": 80
        }
      ]
    },
    {
      "cell_type": "code",
      "metadata": {
        "id": "zPnSRvrbx03Q",
        "colab": {
          "base_uri": "https://localhost:8080/"
        },
        "outputId": "d46ceb52-ae9c-4f97-bff4-1cd84cc3b142"
      },
      "source": [
        "X_tf_inv = tf.linalg.inv(X_tf)\n",
        "X_tf_inv"
      ],
      "execution_count": 81,
      "outputs": [
        {
          "output_type": "execute_result",
          "data": {
            "text/plain": [
              "<tf.Tensor: shape=(2, 2), dtype=float32, numpy=\n",
              "array([[ 2.9999993, -0.9999997],\n",
              "       [-1.6666663,  0.6666665]], dtype=float32)>"
            ]
          },
          "metadata": {},
          "execution_count": 81
        }
      ]
    },
    {
      "cell_type": "code",
      "metadata": {
        "id": "jD__pHJxy2Ze",
        "colab": {
          "base_uri": "https://localhost:8080/"
        },
        "outputId": "f9981b71-3346-4c1b-d6d0-265f082fcfb4"
      },
      "source": [
        "tf.matmul(X_tf,X_tf_inv)"
      ],
      "execution_count": 82,
      "outputs": [
        {
          "output_type": "execute_result",
          "data": {
            "text/plain": [
              "<tf.Tensor: shape=(2, 2), dtype=float32, numpy=\n",
              "array([[9.9999952e-01, 1.1920929e-07],\n",
              "       [0.0000000e+00, 1.0000000e+00]], dtype=float32)>"
            ]
          },
          "metadata": {},
          "execution_count": 82
        }
      ]
    },
    {
      "cell_type": "markdown",
      "metadata": {
        "id": "9wUj5bkbXoJV"
      },
      "source": [
        "### Higher-order tensor\n",
        "A colored image consists of three channels of pixels one for Red color, one for Green color, and one for Blue color. Each channel is a 2D matrix. That means, any colored image is represented by a 3-tensor of pixels composed of three 2D matrices stacked one after another and each 2D matrix is called a channel. Say we have an image of 32 megapixels then the shape of the tensor representation of this image is (32,32,3),i.e. three 32X32 matrices are stacked one after another. So this is a tensor of order/rank 3 and it is used for the representation of an image.\n",
        "\n",
        "![img1](https://cdn.iisc.talentsprint.com/CDS/Images/RGB_Channel.JPG)"
      ]
    },
    {
      "cell_type": "markdown",
      "metadata": {
        "id": "Cqo8QwnSk-AI"
      },
      "source": [
        "Now, say there are 100 such images, then the tensor will be of 4th order and the shape will be (100,32,32,3). So the tensor contains information of 100 images each consists of RGB  channels of 32 by 32 megapixel.\n",
        "#### NumPy"
      ]
    },
    {
      "cell_type": "code",
      "metadata": {
        "id": "Yp4GwRO_kkWQ",
        "colab": {
          "base_uri": "https://localhost:8080/"
        },
        "outputId": "99732696-5115-42e6-fb26-365124196f1f"
      },
      "source": [
        "# Making a 3 rank/order tensor filled with zeros\n",
        "np.zeros([3,2,3]) "
      ],
      "execution_count": 83,
      "outputs": [
        {
          "output_type": "execute_result",
          "data": {
            "text/plain": [
              "array([[[0., 0., 0.],\n",
              "        [0., 0., 0.]],\n",
              "\n",
              "       [[0., 0., 0.],\n",
              "        [0., 0., 0.]],\n",
              "\n",
              "       [[0., 0., 0.],\n",
              "        [0., 0., 0.]]])"
            ]
          },
          "metadata": {},
          "execution_count": 83
        }
      ]
    },
    {
      "cell_type": "code",
      "metadata": {
        "id": "yd4eXWN2obzr",
        "colab": {
          "base_uri": "https://localhost:8080/"
        },
        "outputId": "3ea650ee-37b4-4a84-8e3b-29ac9e4caecc"
      },
      "source": [
        "# Making a 4 rank/order tensor filled with zeros\n",
        "np.zeros([2,3,2,3]) "
      ],
      "execution_count": 84,
      "outputs": [
        {
          "output_type": "execute_result",
          "data": {
            "text/plain": [
              "array([[[[0., 0., 0.],\n",
              "         [0., 0., 0.]],\n",
              "\n",
              "        [[0., 0., 0.],\n",
              "         [0., 0., 0.]],\n",
              "\n",
              "        [[0., 0., 0.],\n",
              "         [0., 0., 0.]]],\n",
              "\n",
              "\n",
              "       [[[0., 0., 0.],\n",
              "         [0., 0., 0.]],\n",
              "\n",
              "        [[0., 0., 0.],\n",
              "         [0., 0., 0.]],\n",
              "\n",
              "        [[0., 0., 0.],\n",
              "         [0., 0., 0.]]]])"
            ]
          },
          "metadata": {},
          "execution_count": 84
        }
      ]
    },
    {
      "cell_type": "markdown",
      "metadata": {
        "id": "HHQmSvGFqajN"
      },
      "source": [
        "#### TensorFlow"
      ]
    },
    {
      "cell_type": "code",
      "metadata": {
        "id": "tTxz6fZZnkQD",
        "colab": {
          "base_uri": "https://localhost:8080/"
        },
        "outputId": "87ccc15b-ce96-4596-ee46-bdc7c3870585"
      },
      "source": [
        "tf.zeros([3,2,3])"
      ],
      "execution_count": 85,
      "outputs": [
        {
          "output_type": "execute_result",
          "data": {
            "text/plain": [
              "<tf.Tensor: shape=(3, 2, 3), dtype=float32, numpy=\n",
              "array([[[0., 0., 0.],\n",
              "        [0., 0., 0.]],\n",
              "\n",
              "       [[0., 0., 0.],\n",
              "        [0., 0., 0.]],\n",
              "\n",
              "       [[0., 0., 0.],\n",
              "        [0., 0., 0.]]], dtype=float32)>"
            ]
          },
          "metadata": {},
          "execution_count": 85
        }
      ]
    },
    {
      "cell_type": "code",
      "metadata": {
        "id": "EDcCe5RakZkw",
        "colab": {
          "base_uri": "https://localhost:8080/"
        },
        "outputId": "62bfba28-5d72-4700-bf6b-ebcd9d089474"
      },
      "source": [
        "tf.zeros([2,3,2,3])"
      ],
      "execution_count": 86,
      "outputs": [
        {
          "output_type": "execute_result",
          "data": {
            "text/plain": [
              "<tf.Tensor: shape=(2, 3, 2, 3), dtype=float32, numpy=\n",
              "array([[[[0., 0., 0.],\n",
              "         [0., 0., 0.]],\n",
              "\n",
              "        [[0., 0., 0.],\n",
              "         [0., 0., 0.]],\n",
              "\n",
              "        [[0., 0., 0.],\n",
              "         [0., 0., 0.]]],\n",
              "\n",
              "\n",
              "       [[[0., 0., 0.],\n",
              "         [0., 0., 0.]],\n",
              "\n",
              "        [[0., 0., 0.],\n",
              "         [0., 0., 0.]],\n",
              "\n",
              "        [[0., 0., 0.],\n",
              "         [0., 0., 0.]]]], dtype=float32)>"
            ]
          },
          "metadata": {},
          "execution_count": 86
        }
      ]
    },
    {
      "cell_type": "markdown",
      "metadata": {
        "id": "W263Lyklop8B"
      },
      "source": [
        "### Converting NumPy Tensor into TensorFlow Tensor and vice-versa :"
      ]
    },
    {
      "cell_type": "code",
      "metadata": {
        "id": "4qzVJJoeo4FJ",
        "colab": {
          "base_uri": "https://localhost:8080/"
        },
        "outputId": "30b8aa96-eceb-4fe3-c901-f3c289fb2128"
      },
      "source": [
        "x = tf.constant([[1, 2, 3], [4, 5, 6]])\n",
        "x"
      ],
      "execution_count": 87,
      "outputs": [
        {
          "output_type": "execute_result",
          "data": {
            "text/plain": [
              "<tf.Tensor: shape=(2, 3), dtype=int32, numpy=\n",
              "array([[1, 2, 3],\n",
              "       [4, 5, 6]], dtype=int32)>"
            ]
          },
          "metadata": {},
          "execution_count": 87
        }
      ]
    },
    {
      "cell_type": "code",
      "metadata": {
        "id": "LxF0-D75pD8z",
        "colab": {
          "base_uri": "https://localhost:8080/"
        },
        "outputId": "13a48f76-cbc0-4168-d037-39818af06650"
      },
      "source": [
        "x_np = x.numpy()\n",
        "x_np"
      ],
      "execution_count": 88,
      "outputs": [
        {
          "output_type": "execute_result",
          "data": {
            "text/plain": [
              "array([[1, 2, 3],\n",
              "       [4, 5, 6]], dtype=int32)"
            ]
          },
          "metadata": {},
          "execution_count": 88
        }
      ]
    },
    {
      "cell_type": "code",
      "metadata": {
        "id": "I_3gsLeQpXdT",
        "colab": {
          "base_uri": "https://localhost:8080/"
        },
        "outputId": "942fdbf6-0e85-4309-9c88-8b442c50b478"
      },
      "source": [
        "x_tf = tf.convert_to_tensor(x_np)\n",
        "x_tf"
      ],
      "execution_count": 89,
      "outputs": [
        {
          "output_type": "execute_result",
          "data": {
            "text/plain": [
              "<tf.Tensor: shape=(2, 3), dtype=int32, numpy=\n",
              "array([[1, 2, 3],\n",
              "       [4, 5, 6]], dtype=int32)>"
            ]
          },
          "metadata": {},
          "execution_count": 89
        }
      ]
    },
    {
      "cell_type": "markdown",
      "metadata": {
        "id": "oQ0n9U2DQRCb"
      },
      "source": [
        "**Comparison** Tensor in NumPy and TensorFlow: We have carried out different operations of Tensor using both NumPy and TensorFlow libraries. In general, the Tensors defined in NumPy are called Nd-Arrays whereas in TensorFlow they are called Tensors.\n",
        "* Do NumPy arrays differ from Tensors?\n",
        "\n",
        "There is no difference between Tensors defined through both the libraries apart from the syntactical difference (that we have seen in the above operations) but a Tensor is a more suitable choice if we are going to use GPUs/TPUs as it can reside in accelerators memory. This is the main reasoning behind the application of TensorFlow in deep learning."
      ]
    },
    {
      "cell_type": "markdown",
      "metadata": {
        "id": "O1kyY1mt6vdv"
      },
      "source": [
        "To explore more about other operations click [here](https://www.tensorflow.org/guide/tensor)."
      ]
    },
    {
      "cell_type": "markdown",
      "metadata": {
        "id": "GvdJCvc_Quyu"
      },
      "source": [
        "**Ungraded practice problems**"
      ]
    },
    {
      "cell_type": "markdown",
      "metadata": {
        "id": "vlhK-Gx6QRCd"
      },
      "source": [
        "**Q.1. Two tensors having different shapes**\n",
        "\n",
        "a) can not be added.\n",
        "\n",
        "b) can be added mathematically.\n",
        "\n",
        "c) can be added in NumPy but not in TensorFlow.\n",
        "\n",
        "d) can be added in both NumPy and TensorFlow.\n",
        "\n",
        "Answer : d)"
      ]
    },
    {
      "cell_type": "markdown",
      "metadata": {
        "id": "1Z-OmWwTQRCe"
      },
      "source": [
        "**Q.2. Which of the following are not true about matrix multiplication?**\n",
        "\n",
        "a) Hadamard and Matrix Multiplication are the same operations.\n",
        "\n",
        "b) Matrix Multiplication can only be done between matrices of the same shape.\n",
        "\n",
        "c) Element-wise multiplication is the same as that of Matrix Multiplication.\n",
        "\n",
        "d) Number of columns of the first matrix and number of rows of the second matrix must match for matrix multiplication.\n",
        "\n",
        "Answer: a),b) and c)"
      ]
    },
    {
      "cell_type": "markdown",
      "metadata": {
        "id": "s-aEdMM0QRCe"
      },
      "source": [
        "**Q.3. The concept of broadcasting is related to**\n",
        "\n",
        "a) Inverse of a matrix.\n",
        "\n",
        "b) Multiplication of matrix.\n",
        "\n",
        "c) Addition of matrix.\n",
        "\n",
        "d) Subtraction of Matrix.\n",
        "\n",
        "Answer: Both c) and d)"
      ]
    },
    {
      "cell_type": "markdown",
      "metadata": {
        "id": "VHfHdGCP_n6Y"
      },
      "source": [
        "### Please answer the questions below to complete the experiment:\n",
        "\n",
        "\n"
      ]
    },
    {
      "cell_type": "code",
      "metadata": {
        "id": "VgSwVENIPcM6"
      },
      "source": [
        "# @title Which of the following may be the shape of a tensor representing 10 color images of size 64 X 64? { run: \"auto\", form-width: \"500px\", display-mode: \"form\" }\n",
        "Answer = \"10 x 3 x 64 x 64\" #@param [\"\",\"10 x 3 x 64 x 64\",\"10 x 64 x 3\", \"64 x 10 x 3 x 64\", \"4 x 64 x 10 x 3\"]"
      ],
      "execution_count": 90,
      "outputs": []
    },
    {
      "cell_type": "code",
      "metadata": {
        "id": "NMzKSbLIgFzQ"
      },
      "source": [
        "#@title How was the experiment? { run: \"auto\", form-width: \"500px\", display-mode: \"form\" }\n",
        "Complexity = \"Good and Challenging for me\" #@param [\"\",\"Too Simple, I am wasting time\", \"Good, But Not Challenging for me\", \"Good and Challenging for me\", \"Was Tough, but I did it\", \"Too Difficult for me\"]\n"
      ],
      "execution_count": 91,
      "outputs": []
    },
    {
      "cell_type": "code",
      "metadata": {
        "id": "DjcH1VWSFI2l"
      },
      "source": [
        "#@title If it was too easy, what more would you have liked to be added? If it was very difficult, what would you have liked to have been removed? { run: \"auto\", display-mode: \"form\" }\n",
        "Additional = \"This was a perfect assignment for testing knowledge\" #@param {type:\"string\"}\n"
      ],
      "execution_count": 92,
      "outputs": []
    },
    {
      "cell_type": "code",
      "metadata": {
        "id": "4VBk_4VTAxCM"
      },
      "source": [
        "#@title Can you identify the concepts from the lecture which this experiment covered? { run: \"auto\", vertical-output: true, display-mode: \"form\" }\n",
        "Concepts = \"Yes\" #@param [\"\",\"Yes\", \"No\"]\n"
      ],
      "execution_count": 93,
      "outputs": []
    },
    {
      "cell_type": "code",
      "metadata": {
        "id": "XH91cL1JWH7m"
      },
      "source": [
        "#@title  Text and image description/explanation and code comments within the experiment: { run: \"auto\", vertical-output: true, display-mode: \"form\" }\n",
        "Comments = \"Very Useful\" #@param [\"\",\"Very Useful\", \"Somewhat Useful\", \"Not Useful\", \"Didn't use\"]\n"
      ],
      "execution_count": 94,
      "outputs": []
    },
    {
      "cell_type": "code",
      "metadata": {
        "id": "z8xLqj7VWIKW"
      },
      "source": [
        "#@title Mentor Support: { run: \"auto\", vertical-output: true, display-mode: \"form\" }\n",
        "Mentor_support = \"Very Useful\" #@param [\"\",\"Very Useful\", \"Somewhat Useful\", \"Not Useful\", \"Didn't use\"]\n"
      ],
      "execution_count": 95,
      "outputs": []
    },
    {
      "cell_type": "code",
      "metadata": {
        "id": "FzAZHt1zw-Y-",
        "cellView": "form",
        "colab": {
          "base_uri": "https://localhost:8080/"
        },
        "outputId": "6e2988dc-c0d6-4fa3-9236-e61724b9d5a6"
      },
      "source": [
        "#@title Run this cell to submit your notebook for grading { vertical-output: true }\n",
        "try:\n",
        "  if submission_id:\n",
        "      return_id = submit_notebook()\n",
        "      if return_id : submission_id = return_id\n",
        "  else:\n",
        "      print(\"Please complete the setup first.\")\n",
        "except NameError:\n",
        "  print (\"Please complete the setup first.\")"
      ],
      "execution_count": 96,
      "outputs": [
        {
          "output_type": "stream",
          "name": "stdout",
          "text": [
            "Your submission is successful.\n",
            "Ref Id: 2186\n",
            "Date of submission:  21 Jan 2023\n",
            "Time of submission:  18:44:28\n",
            "View your submissions: https://cds.iisc.talentsprint.com/notebook_submissions\n"
          ]
        }
      ]
    }
  ]
}