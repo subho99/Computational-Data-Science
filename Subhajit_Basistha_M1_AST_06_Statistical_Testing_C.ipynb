{
  "nbformat": 4,
  "nbformat_minor": 5,
  "metadata": {
    "kernelspec": {
      "display_name": "Python 3",
      "language": "python",
      "name": "python3"
    },
    "language_info": {
      "codemirror_mode": {
        "name": "ipython",
        "version": 3
      },
      "file_extension": ".py",
      "mimetype": "text/x-python",
      "name": "python",
      "nbconvert_exporter": "python",
      "pygments_lexer": "ipython3",
      "version": "3.6.7rc1"
    },
    "colab": {
      "provenance": [],
      "include_colab_link": true
    }
  },
  "cells": [
    {
      "cell_type": "markdown",
      "metadata": {
        "id": "view-in-github",
        "colab_type": "text"
      },
      "source": [
        "<a href=\"https://colab.research.google.com/github/subho99/Computational-Data-Science/blob/main/Subhajit_Basistha_M1_AST_06_Statistical_Testing_C.ipynb\" target=\"_parent\"><img src=\"https://colab.research.google.com/assets/colab-badge.svg\" alt=\"Open In Colab\"/></a>"
      ]
    },
    {
      "cell_type": "markdown",
      "metadata": {
        "id": "alive-yukon"
      },
      "source": [
        "# Advanced Certification Program in Computational Data Science\n",
        "## A program by IISc and TalentSprint\n",
        "### Assignment 6: Statistical Testing"
      ],
      "id": "alive-yukon"
    },
    {
      "cell_type": "markdown",
      "metadata": {
        "id": "alternative-maldives"
      },
      "source": [
        "## Learning Objectives"
      ],
      "id": "alternative-maldives"
    },
    {
      "cell_type": "markdown",
      "metadata": {
        "id": "interpreted-mainland"
      },
      "source": [
        "At the end of the experiment, you will be able to\n",
        "\n",
        "* understand the different viewpoints of the frequentist and Bayesian approaches\n",
        "* understand the basic idea behind statistical hypothesis testing\n",
        "* perform one-sample z-test for mean\n",
        "* perform two-sample z-test for mean\n",
        "* perform paired z-test \n",
        "* perform two-sample t-test for mean "
      ],
      "id": "interpreted-mainland"
    },
    {
      "cell_type": "markdown",
      "metadata": {
        "id": "political-relay"
      },
      "source": [
        "## Information"
      ],
      "id": "political-relay"
    },
    {
      "cell_type": "markdown",
      "metadata": {
        "id": "coastal-development"
      },
      "source": [
        "**Frequentist inference** is a collection of error probabilistic methods which allows us to learn from data about the true state of nature in the presence of uncertainty by using model-based inference. Its core goal involves providing error control in the face of uncertainty. It was developed in the early 20-th century by Fisher, Neyman & Pearson, and others, largely replacing the present approaches to statistical inference, among them Bayesian inference.\n",
        "\n",
        "**Confidence Interval** estimate a parameter by specifying a range of possible values. Such an interval is associated with a confidence level, which is the probability that the procedure used to generate the interval will produce an interval containing the true parameter.\n",
        "\n",
        "To know more about confidence interval, click [here](https://www.statology.org/confidence-intervals-python/)."
      ],
      "id": "coastal-development"
    },
    {
      "cell_type": "markdown",
      "metadata": {
        "id": "BNLA8HiKxQhc"
      },
      "source": [
        "### Setup Steps:"
      ],
      "id": "BNLA8HiKxQhc"
    },
    {
      "cell_type": "code",
      "metadata": {
        "id": "2YzfoPvJDiTX"
      },
      "source": [
        "#@title Please enter your registration id to start: { run: \"auto\", display-mode: \"form\" }\n",
        "Id = \"2236624\" #@param {type:\"string\"}"
      ],
      "id": "2YzfoPvJDiTX",
      "execution_count": 1,
      "outputs": []
    },
    {
      "cell_type": "code",
      "metadata": {
        "id": "AjoZJWGErxGf"
      },
      "source": [
        "#@title Please enter your password (your registered phone number) to continue: { run: \"auto\", display-mode: \"form\" }\n",
        "password = \"8240187807\" #@param {type:\"string\"}"
      ],
      "id": "AjoZJWGErxGf",
      "execution_count": 2,
      "outputs": []
    },
    {
      "cell_type": "code",
      "metadata": {
        "id": "WBPPuGmBlDIN",
        "cellView": "form",
        "colab": {
          "base_uri": "https://localhost:8080/",
          "height": 34
        },
        "outputId": "81f899ce-d602-4205-c3bb-0aaedd498a26"
      },
      "source": [
        "#@title Run this cell to complete the setup for this Notebook\n",
        "from IPython import get_ipython\n",
        "\n",
        "ipython = get_ipython()\n",
        "  \n",
        "notebook= \"M1_AST_06_Statistical_Testing_C\" #name of the notebook\n",
        "\n",
        "def setup():\n",
        "#  ipython.magic(\"sx pip3 install torch\")  \n",
        "    ipython.magic(\"sx wget https://cdn.iisc.talentsprint.com/CDS/Datasets/2019_Data_Professional_Salary_Survey_Responses.xlsx\")\n",
        "    from IPython.display import HTML, display\n",
        "    display(HTML('<script src=\"https://dashboard.talentsprint.com/aiml/record_ip.html?traineeId={0}&recordId={1}\"></script>'.format(getId(),submission_id)))\n",
        "    print(\"Setup completed successfully\")\n",
        "    return\n",
        "\n",
        "def submit_notebook():\n",
        "    ipython.magic(\"notebook -e \"+ notebook + \".ipynb\")\n",
        "    \n",
        "    import requests, json, base64, datetime\n",
        "\n",
        "    url = \"https://dashboard.talentsprint.com/xp/app/save_notebook_attempts\"\n",
        "    if not submission_id:\n",
        "      data = {\"id\" : getId(), \"notebook\" : notebook, \"mobile\" : getPassword()}\n",
        "      r = requests.post(url, data = data)\n",
        "      r = json.loads(r.text)\n",
        "\n",
        "      if r[\"status\"] == \"Success\":\n",
        "          return r[\"record_id\"]\n",
        "      elif \"err\" in r:        \n",
        "        print(r[\"err\"])\n",
        "        return None        \n",
        "      else:\n",
        "        print (\"Something is wrong, the notebook will not be submitted for grading\")\n",
        "        return None\n",
        "    \n",
        "    elif getAnswer() and getComplexity() and getAdditional() and getConcepts() and getComments() and getMentorSupport():\n",
        "      f = open(notebook + \".ipynb\", \"rb\")\n",
        "      file_hash = base64.b64encode(f.read())\n",
        "\n",
        "      data = {\"complexity\" : Complexity, \"additional\" :Additional, \n",
        "              \"concepts\" : Concepts, \"record_id\" : submission_id, \n",
        "              \"answer\" : Answer, \"id\" : Id, \"file_hash\" : file_hash,\n",
        "              \"notebook\" : notebook,\n",
        "              \"feedback_experiments_input\" : Comments,\n",
        "              \"feedback_mentor_support\": Mentor_support}\n",
        "      r = requests.post(url, data = data)\n",
        "      r = json.loads(r.text)\n",
        "      if \"err\" in r:        \n",
        "        print(r[\"err\"])\n",
        "        return None   \n",
        "      else:\n",
        "        print(\"Your submission is successful.\")\n",
        "        print(\"Ref Id:\", submission_id)\n",
        "        print(\"Date of submission: \", r[\"date\"])\n",
        "        print(\"Time of submission: \", r[\"time\"])\n",
        "        print(\"View your submissions: https://cds.iisc.talentsprint.com/notebook_submissions\")\n",
        "        #print(\"For any queries/discrepancies, please connect with mentors through the chat icon in LMS dashboard.\")\n",
        "        return submission_id\n",
        "    else: submission_id\n",
        "    \n",
        "\n",
        "def getAdditional():\n",
        "  try:\n",
        "    if not Additional: \n",
        "      raise NameError\n",
        "    else:\n",
        "      return Additional  \n",
        "  except NameError:\n",
        "    print (\"Please answer Additional Question\")\n",
        "    return None\n",
        "\n",
        "def getComplexity():\n",
        "  try:\n",
        "    if not Complexity:\n",
        "      raise NameError\n",
        "    else:\n",
        "      return Complexity\n",
        "  except NameError:\n",
        "    print (\"Please answer Complexity Question\")\n",
        "    return None\n",
        "  \n",
        "def getConcepts():\n",
        "  try:\n",
        "    if not Concepts:\n",
        "      raise NameError\n",
        "    else:\n",
        "      return Concepts\n",
        "  except NameError:\n",
        "    print (\"Please answer Concepts Question\")\n",
        "    return None\n",
        "  \n",
        "  \n",
        "# def getWalkthrough():\n",
        "#   try:\n",
        "#     if not Walkthrough:\n",
        "#       raise NameError\n",
        "#     else:\n",
        "#       return Walkthrough\n",
        "#   except NameError:\n",
        "#     print (\"Please answer Walkthrough Question\")\n",
        "#     return None\n",
        "  \n",
        "def getComments():\n",
        "  try:\n",
        "    if not Comments:\n",
        "      raise NameError\n",
        "    else:\n",
        "      return Comments\n",
        "  except NameError:\n",
        "    print (\"Please answer Comments Question\")\n",
        "    return None\n",
        "  \n",
        "\n",
        "def getMentorSupport():\n",
        "  try:\n",
        "    if not Mentor_support:\n",
        "      raise NameError\n",
        "    else:\n",
        "      return Mentor_support\n",
        "  except NameError:\n",
        "    print (\"Please answer Mentor support Question\")\n",
        "    return None\n",
        "\n",
        "def getAnswer():\n",
        "  try:\n",
        "    if not Answer:\n",
        "      raise NameError \n",
        "    else: \n",
        "      return Answer\n",
        "  except NameError:\n",
        "    print (\"Please answer Question\")\n",
        "    return None\n",
        "  \n",
        "\n",
        "def getId():\n",
        "  try: \n",
        "    return Id if Id else None\n",
        "  except NameError:\n",
        "    return None\n",
        "\n",
        "def getPassword():\n",
        "  try:\n",
        "    return password if password else None\n",
        "  except NameError:\n",
        "    return None\n",
        "\n",
        "submission_id = None\n",
        "### Setup \n",
        "if getPassword() and getId():\n",
        "  submission_id = submit_notebook()\n",
        "  if submission_id:\n",
        "    setup() \n",
        "else:\n",
        "  print (\"Please complete Id and Password cells before running setup\")\n",
        "\n"
      ],
      "id": "WBPPuGmBlDIN",
      "execution_count": 3,
      "outputs": [
        {
          "output_type": "display_data",
          "data": {
            "text/plain": [
              "<IPython.core.display.HTML object>"
            ],
            "text/html": [
              "<script src=\"https://dashboard.talentsprint.com/aiml/record_ip.html?traineeId=2236624&recordId=1476\"></script>"
            ]
          },
          "metadata": {}
        },
        {
          "output_type": "stream",
          "name": "stdout",
          "text": [
            "Setup completed successfully\n"
          ]
        }
      ]
    },
    {
      "cell_type": "markdown",
      "metadata": {
        "id": "foster-entity"
      },
      "source": [
        "#### Importing required packages"
      ],
      "id": "foster-entity"
    },
    {
      "cell_type": "code",
      "metadata": {
        "id": "tough-brooklyn"
      },
      "source": [
        "import statsmodels.api as sm\n",
        "import pandas as pd\n",
        "import numpy as np\n",
        "import matplotlib.pyplot as plt\n",
        "from scipy.stats import norm                             # A normal continuous random variable\n",
        "from numpy.random import seed                            # set the randomness\n",
        "from scipy import stats                                  # statistical operations\n",
        "import warnings\n",
        "warnings.simplefilter(\"ignore\")"
      ],
      "id": "tough-brooklyn",
      "execution_count": 4,
      "outputs": []
    },
    {
      "cell_type": "markdown",
      "metadata": {
        "id": "bibliographic-center"
      },
      "source": [
        "## Hypothesis Testing"
      ],
      "id": "bibliographic-center"
    },
    {
      "cell_type": "markdown",
      "metadata": {
        "id": "corporate-anthony"
      },
      "source": [
        "**Hypothesis testing** is a statistical method for testing a claim or hypothesis  about a parameter in a population, using data measured in a sample. It is basically an assumption that we make about the population parameter.\n",
        "Based on this, we define the \n",
        "\n",
        "* null hypothesis: $H_0$\n",
        "  \n",
        "  - the null hypothesis is a general statement or default position that there is no relationship between two measured phenomena, i.e. no association among groups\n",
        "* alternative hypothesis: $H_A$ or $H_1$\n",
        "\n",
        "  - The alternative hypothesis is contrary to the null hypothesis. It is usually taken to be that the observations are the result of a real effect (with some amount of chance variation superposed)\n",
        "\n",
        "**Significance level** (alpha ($\\alpha$)) is the probability that you will make the mistake of rejecting the null hypothesis when in fact it is true. \n",
        "\n",
        "$$\\alpha = P(Rejecting\\ a\\ null\\ hypothesis\\ |\\ null\\ hypothesis\\ is\\ true)$$\n",
        "<br>\n",
        "\n",
        "The **p-value** measures the probability of getting a more extreme value than the one you got from the experiment. \n",
        "\n",
        "$$p - value = P(Observing\\ test\\ statistics\\ value\\ |\\ null\\ hypothesis\\ is\\ true)$$\n",
        "<br>\n",
        "\n",
        "|Criteria| | Decision|\n",
        "|--------|----|---------|\n",
        "|p-value $\\le$ α | | Reject the null hypothesis|\n",
        "|p-value $\\gt$ α| | Retain (or fail to reject) the null hypothesis|  \n",
        "\n",
        "<br>\n",
        "\n",
        "**Z-test and t-test** are two widely known hypothesis testing types.\n",
        "\n",
        "<br>\n",
        "\n",
        "|Basis for Comparison |  |\tZ-Test |  |\tt-Test |\n",
        "|--------|----|----|---|---------|\n",
        "|Meaning |  |\tZ-test implies a hypothesis test which  |  | T-test refers to a type of parametric test that is|\n",
        "|       |  |ascertains if the means of two datasets are different  |  | applied to identify, how the means of two sets of data |\n",
        "|       |  | from each other when variance is given. |  |\t  differ from one another when variance is not given.|\n",
        "| Based on |  |\tNormal distribution |  |\tStudent-t distribution |\n",
        "| Population variance |  |\tKnown |  |\tUnknown |\n",
        "| Sample Size |  |\tLarge |  |\tSmall |\n",
        "  ."
      ],
      "id": "corporate-anthony"
    },
    {
      "cell_type": "markdown",
      "metadata": {
        "id": "worse-aircraft"
      },
      "source": [
        "### One-Sample Z-Test for Mean\n",
        "\n",
        "The One-Sample Z-test is used to know if the difference between the sample mean and the mean of a population is large enough to be statistically significant (i.e. unlikely to have occurred by mere chance). \n",
        "\n",
        "Assumptions\n",
        "1.       Mean and variance of the population are known.\n",
        "\n",
        "2.       The test statistic follows normal distribution. \n",
        "\n",
        "The test statistics for Z-test is given by\n",
        "\n",
        "$$Z- statistic = \\frac{\\bar{X} - \\mu}{\\sigma / \\sqrt{n}}$$\n",
        "\n",
        "where\n",
        "- $\\bar{X}$: sample mean\n",
        "- $\\mu$: population mean\n",
        "- $\\sigma$: population standard deviation\n",
        "- $n$: sample size\n",
        "\n"
      ],
      "id": "worse-aircraft"
    },
    {
      "cell_type": "markdown",
      "metadata": {
        "id": "LWcTFg0kko3h"
      },
      "source": [
        "**Example 1:** Let's create some dummy age data for the population of voters in the entire country and a sample of voters in `North_Carolina` and test whether the average age of voters in `North_Carolina` differs from the entire country population."
      ],
      "id": "LWcTFg0kko3h"
    },
    {
      "cell_type": "code",
      "metadata": {
        "id": "jrBG7nGZJ8af",
        "colab": {
          "base_uri": "https://localhost:8080/"
        },
        "outputId": "a64bc061-7a59-4633-bab9-34cf5a0ac87b"
      },
      "source": [
        "np.random.seed(6)\n",
        "\n",
        "# Generate Population ages data, see this https://docs.scipy.org/doc/scipy/reference/generated/scipy.stats.norm.html\n",
        "# .rvs provides random samples; scale = std. deviation, loc = mean, size = no. of samples\n",
        "\n",
        "population_ages1 = stats.norm.rvs(scale=18, loc=45, size=150000)                  \n",
        "population_ages2 = stats.norm.rvs(scale=18, loc=20, size=100000) \n",
        "population_ages = np.concatenate((population_ages1, population_ages2))\n",
        "\n",
        "# Generate North Carolina sample ages data\n",
        "\n",
        "North_Carolina_ages1 = stats.norm.rvs(scale=18, loc=40, size=30)\n",
        "North_Carolina_ages2 = stats.norm.rvs(scale=18, loc=20, size=25)\n",
        "North_Carolina_ages = np.concatenate((North_Carolina_ages1, North_Carolina_ages2))\n",
        "\n",
        "print(\"Mean age of population of voters in the entire country: \", population_ages.mean())\n",
        "print(\"Mean age of North Carolina population: \", North_Carolina_ages.mean())"
      ],
      "id": "jrBG7nGZJ8af",
      "execution_count": 5,
      "outputs": [
        {
          "output_type": "stream",
          "name": "stdout",
          "text": [
            "Mean age of population of voters in the entire country:  34.97043368335889\n",
            "Mean age of North Carolina population:  28.52661116077034\n"
          ]
        }
      ]
    },
    {
      "cell_type": "markdown",
      "metadata": {
        "id": "complex-conditioning"
      },
      "source": [
        "Notice that we used a slightly different combination of distributions to generate the sample data for `North_Carolina`, so we know that the two means are different. Let's conduct a z-test at a 95% confidence level and see if it correctly rejects the null hypothesis that the sample comes from the same distribution as the population. To conduct a one-sample z-test, we can use the `stats.ztest()` function by passing argument `alternative = 'smaller'`.\n",
        "\n",
        "Some of the parameters of `stats.ztest()` function are:\n",
        "- **x1**: first of the two independent samples\n",
        "- **x2**: second of the two independent samples\n",
        "- **value**: \n",
        "    - In the one-sample case, value is the mean of x1 under the Null hypothesis. \n",
        "    - In the two-sample case, value is the difference between mean of x1 and mean of x2 under the Null hypothesis.\n",
        "- **alternative**: The alternative hypothesis, H1, has to be one of the following\n",
        "    - 'two-sided': H1: difference in means not equal to value (default)\n",
        "    - 'larger': H1: difference in means larger than value \n",
        "    - 'smaller': H1: difference in means smaller than value"
      ],
      "id": "complex-conditioning"
    },
    {
      "cell_type": "code",
      "metadata": {
        "id": "hawaiian-canyon",
        "colab": {
          "base_uri": "https://localhost:8080/"
        },
        "outputId": "c435781e-2002-456f-e1ba-211fe1480728"
      },
      "source": [
        "# Perform Z-test for mean\n",
        "one_sample_ztest = sm.stats.ztest(x1= North_Carolina_ages, x2=None, value= population_ages.mean(), alternative='smaller') \n",
        "\n",
        "print(\"test-statistic (z-score): \", one_sample_ztest[0])\n",
        "print(\"p-value: \", one_sample_ztest[1])"
      ],
      "id": "hawaiian-canyon",
      "execution_count": 6,
      "outputs": [
        {
          "output_type": "stream",
          "name": "stdout",
          "text": [
            "test-statistic (z-score):  -2.2814904209459996\n",
            "p-value:  0.011259721451099942\n"
          ]
        }
      ]
    },
    {
      "cell_type": "markdown",
      "metadata": {
        "id": "southwest-division"
      },
      "source": [
        "The z-score tells us how many standard deviations from the mean our score is. In this example, our score is -2.28 [standard deviations below the mean](https://cdn.iisc.talentsprint.com/CDS/Images/ZScores.jpg). Also,  we can reject the null hypothesis that the mean of samples is equal to the population mean (i.e. 28.52) as we can see that the p-value is less than 0.05 (i.e. 0.011). This indicates that the difference between the sample mean and population mean is statistically significant."
      ],
      "id": "southwest-division"
    },
    {
      "cell_type": "markdown",
      "metadata": {
        "id": "electrical-tunnel"
      },
      "source": [
        "### Two-Sample Z-Test for Mean\n",
        "\n",
        "The Two-Sample Z-test is used to compare the means of two samples to see if it is feasible that they come from the same population. The null hypothesis is: the population means are equal. The **Z-test is preferred to the t-test for large samples (N > 30)  or when the variance is known**, otherwise, the sample standard deviation is a more biased estimate of a population standard deviance than is allowable, and using a two-sample t-test should be considered.\n",
        "\n",
        "Assume that $\\mu_1$ and $\\mu_2$ are the population means. Our interest is to check a hypothesis on difference between $\\mu_1$ and $\\mu_2$, that is ($\\mu_1$ - $\\mu_2$). If $\\bar{X_1}$ and $\\bar{X_2}$ are the estimated mean values from two samples, the statistic ($\\bar{X_1} - \\bar{X_2}$) follows a standard normal distribution with mean ($\\mu_1$ - $\\mu_2$) and standard deviation\n",
        "$\\sqrt{\\frac{\\sigma_1^2}{n_1} + \\frac{\\sigma_2^2}{n_2}}$, where $n_1$\n",
        " and $n_2$ are the sample sizes of two samples. \n",
        " \n",
        "The corresponding Z-statistic is given by\n",
        "\n",
        "$$Z = \\frac{(\\bar{X_1} - \\bar{X_2}) - (\\mu_1 - \\mu_2)}{\\sqrt{\\frac{\\sigma_1^2}{n_1} + \\frac{\\sigma_2^2}{n_2}}}$$"
      ],
      "id": "electrical-tunnel"
    },
    {
      "cell_type": "markdown",
      "metadata": {
        "id": "k-cMM9UWqcmV"
      },
      "source": [
        "**Example 2:** Let's create a sample of voters in `South_Carolina` and test whether the average age of voters in `North_Carolina` differs from the average age of voters in `South_Carolina`."
      ],
      "id": "k-cMM9UWqcmV"
    },
    {
      "cell_type": "code",
      "metadata": {
        "id": "rotary-pixel",
        "colab": {
          "base_uri": "https://localhost:8080/"
        },
        "outputId": "fc9b4285-5b37-4668-fa1e-db32269b771e"
      },
      "source": [
        "np.random.seed(12)\n",
        "\n",
        "# Generate South Carolina sample ages data\n",
        "South_Carolina_ages1 = stats.norm.rvs(scale=15, loc=33, size=30)\n",
        "South_Carolina_ages2 = stats.norm.rvs(scale=15, loc=20, size=25)\n",
        "South_Carolina_ages = np.concatenate((South_Carolina_ages1, South_Carolina_ages2))\n",
        "\n",
        "print(\"Mean age of South Carolina population: \", South_Carolina_ages.mean())"
      ],
      "id": "rotary-pixel",
      "execution_count": 7,
      "outputs": [
        {
          "output_type": "stream",
          "name": "stdout",
          "text": [
            "Mean age of South Carolina population:  24.970648445336874\n"
          ]
        }
      ]
    },
    {
      "cell_type": "code",
      "metadata": {
        "id": "dying-credits",
        "colab": {
          "base_uri": "https://localhost:8080/"
        },
        "outputId": "af522331-c805-44ca-e7fe-7c7b0a617bee"
      },
      "source": [
        "# Perform Two sample Z-test for Mean\n",
        "two_sample_ztest = sm.stats.ztest(x1 = North_Carolina_ages,\n",
        "                                  x2 = South_Carolina_ages,\n",
        "                                  value = 0,\n",
        "                                  alternative = 'two-sided')    # Assume samples have equal variance\n",
        "print(\"test-statistic (z-score): \", two_sample_ztest[0])\n",
        "print(\"p-value: \", two_sample_ztest[1])"
      ],
      "id": "dying-credits",
      "execution_count": 8,
      "outputs": [
        {
          "output_type": "stream",
          "name": "stdout",
          "text": [
            "test-statistic (z-score):  0.9604812179337472\n",
            "p-value:  0.3368130793371993\n"
          ]
        }
      ]
    },
    {
      "cell_type": "markdown",
      "metadata": {
        "id": "agricultural-protocol"
      },
      "source": [
        "The test yields a p-value of 0.336, which means there is a 33.6% chance we'd see the difference in the means of the two sample data are not equal to value (here, it is 0 as here we calculate the difference of the two sample means), if these two groups tested are actually identical. If we were using a 95% confidence level we would fail to reject the null hypothesis, since the p-value is greater than the corresponding significance level of 5%."
      ],
      "id": "agricultural-protocol"
    },
    {
      "cell_type": "markdown",
      "metadata": {
        "id": "chronic-father"
      },
      "source": [
        "### Paired Z-Test for Mean\n",
        "\n",
        "The paired z-test is used to test whether the mean difference of two populations is greater than, less than, or not equal to 0. \n",
        "\n",
        "The objective is to check whether the difference in the parameter values is statistically significant before and after the intervention or between two different types of interventions."
      ],
      "id": "chronic-father"
    },
    {
      "cell_type": "markdown",
      "metadata": {
        "id": "Tgvie7S6qfsH"
      },
      "source": [
        "**Example 3:** Consider the weights of a group of patients before and after an exercise program.\n",
        "\n",
        "  - Observation 1: The weight of a group of patients was evaluated at baseline.\n",
        "  - Observation 2: This same group of patients was evaluated after an 8-week exercise program.\n",
        "  - Variable of interest: Body weight.\n",
        "\n",
        "In this example, we have one group with two observations, meaning that the data are paired. In this example, we know the population variance of body weights of each patient from previous studies.\n",
        "\n",
        "The null hypothesis is that there will be no difference in weights measured before and after the exercise program. After observing that our data meet the assumptions of a paired samples z-test (the variable of interest is continuous, it has only two groups i.e. two measurements from a single group, it has  paired samples, it has a normal variable of interest and the population variance is known), we proceed with the analysis.\n",
        "\n",
        "When we run the analysis, we get a test statistic (in this case a Z-statistic) and a p-value.\n",
        "\n",
        "  - The test statistic is a measure of how different the group is on our body weight variable of interest across the two observations. \n",
        "  - The p-value is the chance of seeing our results assuming the exercise program actually doesn’t do anything. A p-value less than or equal to 0.05 means that our result is statistically significant and we can trust that the difference is not due to chance alone.\n",
        "\n"
      ],
      "id": "Tgvie7S6qfsH"
    },
    {
      "cell_type": "code",
      "metadata": {
        "id": "VqhIJxps4vdD",
        "colab": {
          "base_uri": "https://localhost:8080/",
          "height": 206
        },
        "outputId": "2f677ae9-664a-4590-c5b1-41daa30f3148"
      },
      "source": [
        "np.random.seed(11)\n",
        "\n",
        "# Generate Weights of population before exercise program\n",
        "before= stats.norm.rvs(scale=10, loc=50, size=100)\n",
        "\n",
        "# Generate Weights of population after exercise program\n",
        "after = before + stats.norm.rvs(scale=5, loc=-3.5, size=100)\n",
        "\n",
        "# Create dataframe\n",
        "weight_df = pd.DataFrame({\"weight_before\":before,\n",
        "                          \"weight_after\":after,\n",
        "                          \"weight_change\":after-before})\n",
        "\n",
        "weight_df.head()"
      ],
      "id": "VqhIJxps4vdD",
      "execution_count": 9,
      "outputs": [
        {
          "output_type": "execute_result",
          "data": {
            "text/plain": [
              "   weight_before  weight_after  weight_change\n",
              "0      67.494547     68.365911       0.871364\n",
              "1      47.139270     43.997531      -3.141739\n",
              "2      45.154349     33.459091     -11.695258\n",
              "3      23.466814     16.730301      -6.736513\n",
              "4      49.917154     50.506002       0.588848"
            ],
            "text/html": [
              "\n",
              "  <div id=\"df-613f27d4-13de-4cdc-bc5b-7ab9ac632c70\">\n",
              "    <div class=\"colab-df-container\">\n",
              "      <div>\n",
              "<style scoped>\n",
              "    .dataframe tbody tr th:only-of-type {\n",
              "        vertical-align: middle;\n",
              "    }\n",
              "\n",
              "    .dataframe tbody tr th {\n",
              "        vertical-align: top;\n",
              "    }\n",
              "\n",
              "    .dataframe thead th {\n",
              "        text-align: right;\n",
              "    }\n",
              "</style>\n",
              "<table border=\"1\" class=\"dataframe\">\n",
              "  <thead>\n",
              "    <tr style=\"text-align: right;\">\n",
              "      <th></th>\n",
              "      <th>weight_before</th>\n",
              "      <th>weight_after</th>\n",
              "      <th>weight_change</th>\n",
              "    </tr>\n",
              "  </thead>\n",
              "  <tbody>\n",
              "    <tr>\n",
              "      <th>0</th>\n",
              "      <td>67.494547</td>\n",
              "      <td>68.365911</td>\n",
              "      <td>0.871364</td>\n",
              "    </tr>\n",
              "    <tr>\n",
              "      <th>1</th>\n",
              "      <td>47.139270</td>\n",
              "      <td>43.997531</td>\n",
              "      <td>-3.141739</td>\n",
              "    </tr>\n",
              "    <tr>\n",
              "      <th>2</th>\n",
              "      <td>45.154349</td>\n",
              "      <td>33.459091</td>\n",
              "      <td>-11.695258</td>\n",
              "    </tr>\n",
              "    <tr>\n",
              "      <th>3</th>\n",
              "      <td>23.466814</td>\n",
              "      <td>16.730301</td>\n",
              "      <td>-6.736513</td>\n",
              "    </tr>\n",
              "    <tr>\n",
              "      <th>4</th>\n",
              "      <td>49.917154</td>\n",
              "      <td>50.506002</td>\n",
              "      <td>0.588848</td>\n",
              "    </tr>\n",
              "  </tbody>\n",
              "</table>\n",
              "</div>\n",
              "      <button class=\"colab-df-convert\" onclick=\"convertToInteractive('df-613f27d4-13de-4cdc-bc5b-7ab9ac632c70')\"\n",
              "              title=\"Convert this dataframe to an interactive table.\"\n",
              "              style=\"display:none;\">\n",
              "        \n",
              "  <svg xmlns=\"http://www.w3.org/2000/svg\" height=\"24px\"viewBox=\"0 0 24 24\"\n",
              "       width=\"24px\">\n",
              "    <path d=\"M0 0h24v24H0V0z\" fill=\"none\"/>\n",
              "    <path d=\"M18.56 5.44l.94 2.06.94-2.06 2.06-.94-2.06-.94-.94-2.06-.94 2.06-2.06.94zm-11 1L8.5 8.5l.94-2.06 2.06-.94-2.06-.94L8.5 2.5l-.94 2.06-2.06.94zm10 10l.94 2.06.94-2.06 2.06-.94-2.06-.94-.94-2.06-.94 2.06-2.06.94z\"/><path d=\"M17.41 7.96l-1.37-1.37c-.4-.4-.92-.59-1.43-.59-.52 0-1.04.2-1.43.59L10.3 9.45l-7.72 7.72c-.78.78-.78 2.05 0 2.83L4 21.41c.39.39.9.59 1.41.59.51 0 1.02-.2 1.41-.59l7.78-7.78 2.81-2.81c.8-.78.8-2.07 0-2.86zM5.41 20L4 18.59l7.72-7.72 1.47 1.35L5.41 20z\"/>\n",
              "  </svg>\n",
              "      </button>\n",
              "      \n",
              "  <style>\n",
              "    .colab-df-container {\n",
              "      display:flex;\n",
              "      flex-wrap:wrap;\n",
              "      gap: 12px;\n",
              "    }\n",
              "\n",
              "    .colab-df-convert {\n",
              "      background-color: #E8F0FE;\n",
              "      border: none;\n",
              "      border-radius: 50%;\n",
              "      cursor: pointer;\n",
              "      display: none;\n",
              "      fill: #1967D2;\n",
              "      height: 32px;\n",
              "      padding: 0 0 0 0;\n",
              "      width: 32px;\n",
              "    }\n",
              "\n",
              "    .colab-df-convert:hover {\n",
              "      background-color: #E2EBFA;\n",
              "      box-shadow: 0px 1px 2px rgba(60, 64, 67, 0.3), 0px 1px 3px 1px rgba(60, 64, 67, 0.15);\n",
              "      fill: #174EA6;\n",
              "    }\n",
              "\n",
              "    [theme=dark] .colab-df-convert {\n",
              "      background-color: #3B4455;\n",
              "      fill: #D2E3FC;\n",
              "    }\n",
              "\n",
              "    [theme=dark] .colab-df-convert:hover {\n",
              "      background-color: #434B5C;\n",
              "      box-shadow: 0px 1px 3px 1px rgba(0, 0, 0, 0.15);\n",
              "      filter: drop-shadow(0px 1px 2px rgba(0, 0, 0, 0.3));\n",
              "      fill: #FFFFFF;\n",
              "    }\n",
              "  </style>\n",
              "\n",
              "      <script>\n",
              "        const buttonEl =\n",
              "          document.querySelector('#df-613f27d4-13de-4cdc-bc5b-7ab9ac632c70 button.colab-df-convert');\n",
              "        buttonEl.style.display =\n",
              "          google.colab.kernel.accessAllowed ? 'block' : 'none';\n",
              "\n",
              "        async function convertToInteractive(key) {\n",
              "          const element = document.querySelector('#df-613f27d4-13de-4cdc-bc5b-7ab9ac632c70');\n",
              "          const dataTable =\n",
              "            await google.colab.kernel.invokeFunction('convertToInteractive',\n",
              "                                                     [key], {});\n",
              "          if (!dataTable) return;\n",
              "\n",
              "          const docLinkHtml = 'Like what you see? Visit the ' +\n",
              "            '<a target=\"_blank\" href=https://colab.research.google.com/notebooks/data_table.ipynb>data table notebook</a>'\n",
              "            + ' to learn more about interactive tables.';\n",
              "          element.innerHTML = '';\n",
              "          dataTable['output_type'] = 'display_data';\n",
              "          await google.colab.output.renderOutput(dataTable, element);\n",
              "          const docLink = document.createElement('div');\n",
              "          docLink.innerHTML = docLinkHtml;\n",
              "          element.appendChild(docLink);\n",
              "        }\n",
              "      </script>\n",
              "    </div>\n",
              "  </div>\n",
              "  "
            ]
          },
          "metadata": {},
          "execution_count": 9
        }
      ]
    },
    {
      "cell_type": "code",
      "metadata": {
        "id": "arabic-bachelor",
        "colab": {
          "base_uri": "https://localhost:8080/",
          "height": 300
        },
        "outputId": "9e3da715-6927-4bb3-faea-4c6182d739b1"
      },
      "source": [
        "# Check summary of the data\n",
        "weight_df.describe()             "
      ],
      "id": "arabic-bachelor",
      "execution_count": 10,
      "outputs": [
        {
          "output_type": "execute_result",
          "data": {
            "text/plain": [
              "       weight_before  weight_after  weight_change\n",
              "count     100.000000    100.000000     100.000000\n",
              "mean       50.115182     46.634807      -3.480375\n",
              "std         9.377513     10.423714       4.783696\n",
              "min        23.466814     16.730301     -13.745286\n",
              "25%        43.473681     39.362388      -6.296211\n",
              "50%        50.276935     47.179677      -3.663463\n",
              "75%        56.879048     53.765628      -0.511327\n",
              "max        71.566744     71.336869       7.509282"
            ],
            "text/html": [
              "\n",
              "  <div id=\"df-0f31b1f7-2dfc-4918-adea-7881d2cd5910\">\n",
              "    <div class=\"colab-df-container\">\n",
              "      <div>\n",
              "<style scoped>\n",
              "    .dataframe tbody tr th:only-of-type {\n",
              "        vertical-align: middle;\n",
              "    }\n",
              "\n",
              "    .dataframe tbody tr th {\n",
              "        vertical-align: top;\n",
              "    }\n",
              "\n",
              "    .dataframe thead th {\n",
              "        text-align: right;\n",
              "    }\n",
              "</style>\n",
              "<table border=\"1\" class=\"dataframe\">\n",
              "  <thead>\n",
              "    <tr style=\"text-align: right;\">\n",
              "      <th></th>\n",
              "      <th>weight_before</th>\n",
              "      <th>weight_after</th>\n",
              "      <th>weight_change</th>\n",
              "    </tr>\n",
              "  </thead>\n",
              "  <tbody>\n",
              "    <tr>\n",
              "      <th>count</th>\n",
              "      <td>100.000000</td>\n",
              "      <td>100.000000</td>\n",
              "      <td>100.000000</td>\n",
              "    </tr>\n",
              "    <tr>\n",
              "      <th>mean</th>\n",
              "      <td>50.115182</td>\n",
              "      <td>46.634807</td>\n",
              "      <td>-3.480375</td>\n",
              "    </tr>\n",
              "    <tr>\n",
              "      <th>std</th>\n",
              "      <td>9.377513</td>\n",
              "      <td>10.423714</td>\n",
              "      <td>4.783696</td>\n",
              "    </tr>\n",
              "    <tr>\n",
              "      <th>min</th>\n",
              "      <td>23.466814</td>\n",
              "      <td>16.730301</td>\n",
              "      <td>-13.745286</td>\n",
              "    </tr>\n",
              "    <tr>\n",
              "      <th>25%</th>\n",
              "      <td>43.473681</td>\n",
              "      <td>39.362388</td>\n",
              "      <td>-6.296211</td>\n",
              "    </tr>\n",
              "    <tr>\n",
              "      <th>50%</th>\n",
              "      <td>50.276935</td>\n",
              "      <td>47.179677</td>\n",
              "      <td>-3.663463</td>\n",
              "    </tr>\n",
              "    <tr>\n",
              "      <th>75%</th>\n",
              "      <td>56.879048</td>\n",
              "      <td>53.765628</td>\n",
              "      <td>-0.511327</td>\n",
              "    </tr>\n",
              "    <tr>\n",
              "      <th>max</th>\n",
              "      <td>71.566744</td>\n",
              "      <td>71.336869</td>\n",
              "      <td>7.509282</td>\n",
              "    </tr>\n",
              "  </tbody>\n",
              "</table>\n",
              "</div>\n",
              "      <button class=\"colab-df-convert\" onclick=\"convertToInteractive('df-0f31b1f7-2dfc-4918-adea-7881d2cd5910')\"\n",
              "              title=\"Convert this dataframe to an interactive table.\"\n",
              "              style=\"display:none;\">\n",
              "        \n",
              "  <svg xmlns=\"http://www.w3.org/2000/svg\" height=\"24px\"viewBox=\"0 0 24 24\"\n",
              "       width=\"24px\">\n",
              "    <path d=\"M0 0h24v24H0V0z\" fill=\"none\"/>\n",
              "    <path d=\"M18.56 5.44l.94 2.06.94-2.06 2.06-.94-2.06-.94-.94-2.06-.94 2.06-2.06.94zm-11 1L8.5 8.5l.94-2.06 2.06-.94-2.06-.94L8.5 2.5l-.94 2.06-2.06.94zm10 10l.94 2.06.94-2.06 2.06-.94-2.06-.94-.94-2.06-.94 2.06-2.06.94z\"/><path d=\"M17.41 7.96l-1.37-1.37c-.4-.4-.92-.59-1.43-.59-.52 0-1.04.2-1.43.59L10.3 9.45l-7.72 7.72c-.78.78-.78 2.05 0 2.83L4 21.41c.39.39.9.59 1.41.59.51 0 1.02-.2 1.41-.59l7.78-7.78 2.81-2.81c.8-.78.8-2.07 0-2.86zM5.41 20L4 18.59l7.72-7.72 1.47 1.35L5.41 20z\"/>\n",
              "  </svg>\n",
              "      </button>\n",
              "      \n",
              "  <style>\n",
              "    .colab-df-container {\n",
              "      display:flex;\n",
              "      flex-wrap:wrap;\n",
              "      gap: 12px;\n",
              "    }\n",
              "\n",
              "    .colab-df-convert {\n",
              "      background-color: #E8F0FE;\n",
              "      border: none;\n",
              "      border-radius: 50%;\n",
              "      cursor: pointer;\n",
              "      display: none;\n",
              "      fill: #1967D2;\n",
              "      height: 32px;\n",
              "      padding: 0 0 0 0;\n",
              "      width: 32px;\n",
              "    }\n",
              "\n",
              "    .colab-df-convert:hover {\n",
              "      background-color: #E2EBFA;\n",
              "      box-shadow: 0px 1px 2px rgba(60, 64, 67, 0.3), 0px 1px 3px 1px rgba(60, 64, 67, 0.15);\n",
              "      fill: #174EA6;\n",
              "    }\n",
              "\n",
              "    [theme=dark] .colab-df-convert {\n",
              "      background-color: #3B4455;\n",
              "      fill: #D2E3FC;\n",
              "    }\n",
              "\n",
              "    [theme=dark] .colab-df-convert:hover {\n",
              "      background-color: #434B5C;\n",
              "      box-shadow: 0px 1px 3px 1px rgba(0, 0, 0, 0.15);\n",
              "      filter: drop-shadow(0px 1px 2px rgba(0, 0, 0, 0.3));\n",
              "      fill: #FFFFFF;\n",
              "    }\n",
              "  </style>\n",
              "\n",
              "      <script>\n",
              "        const buttonEl =\n",
              "          document.querySelector('#df-0f31b1f7-2dfc-4918-adea-7881d2cd5910 button.colab-df-convert');\n",
              "        buttonEl.style.display =\n",
              "          google.colab.kernel.accessAllowed ? 'block' : 'none';\n",
              "\n",
              "        async function convertToInteractive(key) {\n",
              "          const element = document.querySelector('#df-0f31b1f7-2dfc-4918-adea-7881d2cd5910');\n",
              "          const dataTable =\n",
              "            await google.colab.kernel.invokeFunction('convertToInteractive',\n",
              "                                                     [key], {});\n",
              "          if (!dataTable) return;\n",
              "\n",
              "          const docLinkHtml = 'Like what you see? Visit the ' +\n",
              "            '<a target=\"_blank\" href=https://colab.research.google.com/notebooks/data_table.ipynb>data table notebook</a>'\n",
              "            + ' to learn more about interactive tables.';\n",
              "          element.innerHTML = '';\n",
              "          dataTable['output_type'] = 'display_data';\n",
              "          await google.colab.output.renderOutput(dataTable, element);\n",
              "          const docLink = document.createElement('div');\n",
              "          docLink.innerHTML = docLinkHtml;\n",
              "          element.appendChild(docLink);\n",
              "        }\n",
              "      </script>\n",
              "    </div>\n",
              "  </div>\n",
              "  "
            ]
          },
          "metadata": {},
          "execution_count": 10
        }
      ]
    },
    {
      "cell_type": "markdown",
      "metadata": {
        "id": "involved-elite"
      },
      "source": [
        "The summary shows that patients lost about 3.48 pounds on average after the exercise program. Let's conduct a paired z-test to see whether this difference is significant at a 95% confidence level"
      ],
      "id": "involved-elite"
    },
    {
      "cell_type": "code",
      "metadata": {
        "id": "educational-silver",
        "colab": {
          "base_uri": "https://localhost:8080/"
        },
        "outputId": "ec48d541-53cb-474b-d8e8-abdc2830be45"
      },
      "source": [
        "# Perform paired Z-test\n",
        "pair_ztest = sm.stats.ztest(x1 = before, x2 = after, value = 0, alternative='two-sided')\n",
        "print(\"test-statistic: \", pair_ztest[0])\n",
        "print(\"p-value: \", pair_ztest[1])"
      ],
      "id": "educational-silver",
      "execution_count": 11,
      "outputs": [
        {
          "output_type": "stream",
          "name": "stdout",
          "text": [
            "test-statistic:  2.48223901119329\n",
            "p-value:  0.013055966969698763\n"
          ]
        }
      ]
    },
    {
      "cell_type": "markdown",
      "metadata": {
        "id": "second-headline"
      },
      "source": [
        "Here the null-hypothesis was that in the population (from which the samples are drawn) the difference between similarly paired observations is 0 (as indicated by `value = 0`). The p-value in the test output shows that the probability that the difference in means is not equal to the value (0) is 1.3%, i.e. < 5%, so the null hypothesis is rejected. The differences in means of the weight measurements before and after the exercise program is statistically significant."
      ],
      "id": "second-headline"
    },
    {
      "cell_type": "markdown",
      "metadata": {
        "id": "TDXMf6mO9kAW"
      },
      "source": [
        "### Two Sample T-test for Mean\n",
        "\n",
        "Let's see the hypothesis test for difference in two population means when the **standard deviations of the populations are unknown**. Hence we need to estimate them from the samples drawn from these two populations. An additional assumption we make here is that the standard deviation of two populations are equal (however, unknown). Then the sampling distribution of the difference in estimated means $(\\bar{X_1} - \\bar{X_2})$ follows a t-distribution with ($n_1\n",
        " + n_2  – 2$) degrees of freedom with mean ($\\mu_1 – \\mu_2$) and standard deviation \n",
        "$\\sqrt{S_P^2 \\big( \\frac{1}{n_1} + \\frac{1}{n_2} \\big)}$\n",
        "\n",
        "where $S_P^2$ is the pooled variance of two samples and is given by\n",
        "$S_P^2 = \\frac{(n_1 - 1)S_1^2 + (n_2 - 1)S_2^2}{(n_1 + n_2 - 2)}$\n",
        "\n",
        "The corresponding *t-statistic* is\n",
        "$$t = \\frac{(\\bar{X_1} - \\bar{X_2}) - (\\mu_1 - \\mu_2)}{\\sqrt{S_P^2 \\big( \\frac{1}{n_1} + \\frac{1}{n_2} \\big)}}$$\n",
        "\n",
        "where \n",
        "- $\\bar{X_1}$: sample mean for first population\n",
        "- $\\bar{X_2}$: sample mean for second population\n",
        "- $n_1$: sample size for first population\n",
        "- $n_2$: sample size for second population"
      ],
      "id": "TDXMf6mO9kAW"
    },
    {
      "cell_type": "markdown",
      "metadata": {
        "id": "suBpmyVh-v2_"
      },
      "source": [
        "**Example 4:** Consider the Professional Salary Survey Results dataset. \n",
        "At $\\alpha$ = 0.05, test whether the salary means for both male and female employees for the year 2019 who belong to the United States, are equal.\n",
        "\n",
        "The corresponding null hypothesis and alternate hypothesis are as follows:\n",
        "\n",
        "- $H_0$: both salary means( male and female) are equal\n",
        "- $H_A$: both means are not equal\n",
        "\n",
        "Now, we will carry out the two-sample t-test with the `stats.ttest_ind()` function."
      ],
      "id": "suBpmyVh-v2_"
    },
    {
      "cell_type": "markdown",
      "metadata": {
        "id": "spectacular-arena"
      },
      "source": [
        "#### Dataset Description\n",
        "\n",
        "Dataset chosen here is [Professional Salary Survey Results dataset](https://data.world/finance/data-professional-salary-survey). The dataset is made up of 6893 records and 29 columns. It includes important attributes of the employments. Some of the features are\n",
        "\n",
        "- Survey Year\n",
        "- SalaryUSD: salary in US dollars\n",
        "- Country\n",
        "- Education\n",
        "- EmploymentSector\n",
        "- LookingForAnotherJob\n",
        "- Gender\n",
        "\n",
        "Here we will only be considering the United States employees' Salary for the year 2019."
      ],
      "id": "spectacular-arena"
    },
    {
      "cell_type": "code",
      "metadata": {
        "id": "K68JNPfRC_Dj",
        "colab": {
          "base_uri": "https://localhost:8080/",
          "height": 0
        },
        "outputId": "2f259c75-cea4-4db6-abca-5cd075e06fa4"
      },
      "source": [
        "# Read data\n",
        "raw_data = pd.read_excel('2019_Data_Professional_Salary_Survey_Responses.xlsx', header = 3)\n",
        "raw_data.head()"
      ],
      "id": "K68JNPfRC_Dj",
      "execution_count": 12,
      "outputs": [
        {
          "output_type": "execute_result",
          "data": {
            "text/plain": [
              "   Survey Year               Timestamp SalaryUSD         Country PostalCode  \\\n",
              "0         2017 2017-01-05 05:10:20.451    200000   United States  Not Asked   \n",
              "1         2017 2017-01-05 05:26:23.388     61515  United Kingdom  Not Asked   \n",
              "2         2017 2017-01-05 05:32:57.367     95000         Germany  Not Asked   \n",
              "3         2017 2017-01-05 05:33:03.316     56000  United Kingdom  Not Asked   \n",
              "4         2017 2017-01-05 05:34:33.866     35000          France  Not Asked   \n",
              "\n",
              "        PrimaryDatabase  YearsWithThisDatabase  \\\n",
              "0  Microsoft SQL Server                     10   \n",
              "1  Microsoft SQL Server                     15   \n",
              "2  Microsoft SQL Server                      5   \n",
              "3  Microsoft SQL Server                      6   \n",
              "4  Microsoft SQL Server                     10   \n",
              "\n",
              "                    OtherDatabases  \\\n",
              "0                    MySQL/MariaDB   \n",
              "1               Oracle, PostgreSQL   \n",
              "2  Oracle, MySQL/MariaDB, Informix   \n",
              "3                              NaN   \n",
              "4                           Oracle   \n",
              "\n",
              "                                    EmploymentStatus JobTitle  ...  \\\n",
              "0                                 Full time employee      DBA  ...   \n",
              "1                                 Full time employee      DBA  ...   \n",
              "2                                 Full time employee    Other  ...   \n",
              "3                                 Full time employee      DBA  ...   \n",
              "4  Full time employee of a consulting/contracting...      DBA  ...   \n",
              "\n",
              "  HoursWorkedPerWeek             TelecommuteDaysPerWeek  \\\n",
              "0                 45                                  1   \n",
              "1                 35                                  2   \n",
              "2                 45  None, or less than 1 day per week   \n",
              "3                 40                                  1   \n",
              "4                 40  None, or less than 1 day per week   \n",
              "\n",
              "  PopulationOfLargestCityWithin20Miles  EmploymentSector  \\\n",
              "0                            Not Asked  Private business   \n",
              "1                            Not Asked  Private business   \n",
              "2                            Not Asked  Private business   \n",
              "3                            Not Asked  Private business   \n",
              "4                            Not Asked  Private business   \n",
              "\n",
              "                     LookingForAnotherJob  CareerPlansThisYear     Gender  \\\n",
              "0  Yes, but only passively (just curious)            Not Asked  Not Asked   \n",
              "1                                      No            Not Asked  Not Asked   \n",
              "2  Yes, but only passively (just curious)            Not Asked  Not Asked   \n",
              "3  Yes, but only passively (just curious)            Not Asked  Not Asked   \n",
              "4  Yes, but only passively (just curious)            Not Asked  Not Asked   \n",
              "\n",
              "  OtherJobDuties KindsOfTasksPerformed  Counter  \n",
              "0      Not Asked             Not Asked        1  \n",
              "1      Not Asked             Not Asked        1  \n",
              "2      Not Asked             Not Asked        1  \n",
              "3      Not Asked             Not Asked        1  \n",
              "4      Not Asked             Not Asked        1  \n",
              "\n",
              "[5 rows x 29 columns]"
            ],
            "text/html": [
              "\n",
              "  <div id=\"df-5527ebe1-66e0-4934-983e-1890a36fbd0a\">\n",
              "    <div class=\"colab-df-container\">\n",
              "      <div>\n",
              "<style scoped>\n",
              "    .dataframe tbody tr th:only-of-type {\n",
              "        vertical-align: middle;\n",
              "    }\n",
              "\n",
              "    .dataframe tbody tr th {\n",
              "        vertical-align: top;\n",
              "    }\n",
              "\n",
              "    .dataframe thead th {\n",
              "        text-align: right;\n",
              "    }\n",
              "</style>\n",
              "<table border=\"1\" class=\"dataframe\">\n",
              "  <thead>\n",
              "    <tr style=\"text-align: right;\">\n",
              "      <th></th>\n",
              "      <th>Survey Year</th>\n",
              "      <th>Timestamp</th>\n",
              "      <th>SalaryUSD</th>\n",
              "      <th>Country</th>\n",
              "      <th>PostalCode</th>\n",
              "      <th>PrimaryDatabase</th>\n",
              "      <th>YearsWithThisDatabase</th>\n",
              "      <th>OtherDatabases</th>\n",
              "      <th>EmploymentStatus</th>\n",
              "      <th>JobTitle</th>\n",
              "      <th>...</th>\n",
              "      <th>HoursWorkedPerWeek</th>\n",
              "      <th>TelecommuteDaysPerWeek</th>\n",
              "      <th>PopulationOfLargestCityWithin20Miles</th>\n",
              "      <th>EmploymentSector</th>\n",
              "      <th>LookingForAnotherJob</th>\n",
              "      <th>CareerPlansThisYear</th>\n",
              "      <th>Gender</th>\n",
              "      <th>OtherJobDuties</th>\n",
              "      <th>KindsOfTasksPerformed</th>\n",
              "      <th>Counter</th>\n",
              "    </tr>\n",
              "  </thead>\n",
              "  <tbody>\n",
              "    <tr>\n",
              "      <th>0</th>\n",
              "      <td>2017</td>\n",
              "      <td>2017-01-05 05:10:20.451</td>\n",
              "      <td>200000</td>\n",
              "      <td>United States</td>\n",
              "      <td>Not Asked</td>\n",
              "      <td>Microsoft SQL Server</td>\n",
              "      <td>10</td>\n",
              "      <td>MySQL/MariaDB</td>\n",
              "      <td>Full time employee</td>\n",
              "      <td>DBA</td>\n",
              "      <td>...</td>\n",
              "      <td>45</td>\n",
              "      <td>1</td>\n",
              "      <td>Not Asked</td>\n",
              "      <td>Private business</td>\n",
              "      <td>Yes, but only passively (just curious)</td>\n",
              "      <td>Not Asked</td>\n",
              "      <td>Not Asked</td>\n",
              "      <td>Not Asked</td>\n",
              "      <td>Not Asked</td>\n",
              "      <td>1</td>\n",
              "    </tr>\n",
              "    <tr>\n",
              "      <th>1</th>\n",
              "      <td>2017</td>\n",
              "      <td>2017-01-05 05:26:23.388</td>\n",
              "      <td>61515</td>\n",
              "      <td>United Kingdom</td>\n",
              "      <td>Not Asked</td>\n",
              "      <td>Microsoft SQL Server</td>\n",
              "      <td>15</td>\n",
              "      <td>Oracle, PostgreSQL</td>\n",
              "      <td>Full time employee</td>\n",
              "      <td>DBA</td>\n",
              "      <td>...</td>\n",
              "      <td>35</td>\n",
              "      <td>2</td>\n",
              "      <td>Not Asked</td>\n",
              "      <td>Private business</td>\n",
              "      <td>No</td>\n",
              "      <td>Not Asked</td>\n",
              "      <td>Not Asked</td>\n",
              "      <td>Not Asked</td>\n",
              "      <td>Not Asked</td>\n",
              "      <td>1</td>\n",
              "    </tr>\n",
              "    <tr>\n",
              "      <th>2</th>\n",
              "      <td>2017</td>\n",
              "      <td>2017-01-05 05:32:57.367</td>\n",
              "      <td>95000</td>\n",
              "      <td>Germany</td>\n",
              "      <td>Not Asked</td>\n",
              "      <td>Microsoft SQL Server</td>\n",
              "      <td>5</td>\n",
              "      <td>Oracle, MySQL/MariaDB, Informix</td>\n",
              "      <td>Full time employee</td>\n",
              "      <td>Other</td>\n",
              "      <td>...</td>\n",
              "      <td>45</td>\n",
              "      <td>None, or less than 1 day per week</td>\n",
              "      <td>Not Asked</td>\n",
              "      <td>Private business</td>\n",
              "      <td>Yes, but only passively (just curious)</td>\n",
              "      <td>Not Asked</td>\n",
              "      <td>Not Asked</td>\n",
              "      <td>Not Asked</td>\n",
              "      <td>Not Asked</td>\n",
              "      <td>1</td>\n",
              "    </tr>\n",
              "    <tr>\n",
              "      <th>3</th>\n",
              "      <td>2017</td>\n",
              "      <td>2017-01-05 05:33:03.316</td>\n",
              "      <td>56000</td>\n",
              "      <td>United Kingdom</td>\n",
              "      <td>Not Asked</td>\n",
              "      <td>Microsoft SQL Server</td>\n",
              "      <td>6</td>\n",
              "      <td>NaN</td>\n",
              "      <td>Full time employee</td>\n",
              "      <td>DBA</td>\n",
              "      <td>...</td>\n",
              "      <td>40</td>\n",
              "      <td>1</td>\n",
              "      <td>Not Asked</td>\n",
              "      <td>Private business</td>\n",
              "      <td>Yes, but only passively (just curious)</td>\n",
              "      <td>Not Asked</td>\n",
              "      <td>Not Asked</td>\n",
              "      <td>Not Asked</td>\n",
              "      <td>Not Asked</td>\n",
              "      <td>1</td>\n",
              "    </tr>\n",
              "    <tr>\n",
              "      <th>4</th>\n",
              "      <td>2017</td>\n",
              "      <td>2017-01-05 05:34:33.866</td>\n",
              "      <td>35000</td>\n",
              "      <td>France</td>\n",
              "      <td>Not Asked</td>\n",
              "      <td>Microsoft SQL Server</td>\n",
              "      <td>10</td>\n",
              "      <td>Oracle</td>\n",
              "      <td>Full time employee of a consulting/contracting...</td>\n",
              "      <td>DBA</td>\n",
              "      <td>...</td>\n",
              "      <td>40</td>\n",
              "      <td>None, or less than 1 day per week</td>\n",
              "      <td>Not Asked</td>\n",
              "      <td>Private business</td>\n",
              "      <td>Yes, but only passively (just curious)</td>\n",
              "      <td>Not Asked</td>\n",
              "      <td>Not Asked</td>\n",
              "      <td>Not Asked</td>\n",
              "      <td>Not Asked</td>\n",
              "      <td>1</td>\n",
              "    </tr>\n",
              "  </tbody>\n",
              "</table>\n",
              "<p>5 rows × 29 columns</p>\n",
              "</div>\n",
              "      <button class=\"colab-df-convert\" onclick=\"convertToInteractive('df-5527ebe1-66e0-4934-983e-1890a36fbd0a')\"\n",
              "              title=\"Convert this dataframe to an interactive table.\"\n",
              "              style=\"display:none;\">\n",
              "        \n",
              "  <svg xmlns=\"http://www.w3.org/2000/svg\" height=\"24px\"viewBox=\"0 0 24 24\"\n",
              "       width=\"24px\">\n",
              "    <path d=\"M0 0h24v24H0V0z\" fill=\"none\"/>\n",
              "    <path d=\"M18.56 5.44l.94 2.06.94-2.06 2.06-.94-2.06-.94-.94-2.06-.94 2.06-2.06.94zm-11 1L8.5 8.5l.94-2.06 2.06-.94-2.06-.94L8.5 2.5l-.94 2.06-2.06.94zm10 10l.94 2.06.94-2.06 2.06-.94-2.06-.94-.94-2.06-.94 2.06-2.06.94z\"/><path d=\"M17.41 7.96l-1.37-1.37c-.4-.4-.92-.59-1.43-.59-.52 0-1.04.2-1.43.59L10.3 9.45l-7.72 7.72c-.78.78-.78 2.05 0 2.83L4 21.41c.39.39.9.59 1.41.59.51 0 1.02-.2 1.41-.59l7.78-7.78 2.81-2.81c.8-.78.8-2.07 0-2.86zM5.41 20L4 18.59l7.72-7.72 1.47 1.35L5.41 20z\"/>\n",
              "  </svg>\n",
              "      </button>\n",
              "      \n",
              "  <style>\n",
              "    .colab-df-container {\n",
              "      display:flex;\n",
              "      flex-wrap:wrap;\n",
              "      gap: 12px;\n",
              "    }\n",
              "\n",
              "    .colab-df-convert {\n",
              "      background-color: #E8F0FE;\n",
              "      border: none;\n",
              "      border-radius: 50%;\n",
              "      cursor: pointer;\n",
              "      display: none;\n",
              "      fill: #1967D2;\n",
              "      height: 32px;\n",
              "      padding: 0 0 0 0;\n",
              "      width: 32px;\n",
              "    }\n",
              "\n",
              "    .colab-df-convert:hover {\n",
              "      background-color: #E2EBFA;\n",
              "      box-shadow: 0px 1px 2px rgba(60, 64, 67, 0.3), 0px 1px 3px 1px rgba(60, 64, 67, 0.15);\n",
              "      fill: #174EA6;\n",
              "    }\n",
              "\n",
              "    [theme=dark] .colab-df-convert {\n",
              "      background-color: #3B4455;\n",
              "      fill: #D2E3FC;\n",
              "    }\n",
              "\n",
              "    [theme=dark] .colab-df-convert:hover {\n",
              "      background-color: #434B5C;\n",
              "      box-shadow: 0px 1px 3px 1px rgba(0, 0, 0, 0.15);\n",
              "      filter: drop-shadow(0px 1px 2px rgba(0, 0, 0, 0.3));\n",
              "      fill: #FFFFFF;\n",
              "    }\n",
              "  </style>\n",
              "\n",
              "      <script>\n",
              "        const buttonEl =\n",
              "          document.querySelector('#df-5527ebe1-66e0-4934-983e-1890a36fbd0a button.colab-df-convert');\n",
              "        buttonEl.style.display =\n",
              "          google.colab.kernel.accessAllowed ? 'block' : 'none';\n",
              "\n",
              "        async function convertToInteractive(key) {\n",
              "          const element = document.querySelector('#df-5527ebe1-66e0-4934-983e-1890a36fbd0a');\n",
              "          const dataTable =\n",
              "            await google.colab.kernel.invokeFunction('convertToInteractive',\n",
              "                                                     [key], {});\n",
              "          if (!dataTable) return;\n",
              "\n",
              "          const docLinkHtml = 'Like what you see? Visit the ' +\n",
              "            '<a target=\"_blank\" href=https://colab.research.google.com/notebooks/data_table.ipynb>data table notebook</a>'\n",
              "            + ' to learn more about interactive tables.';\n",
              "          element.innerHTML = '';\n",
              "          dataTable['output_type'] = 'display_data';\n",
              "          await google.colab.output.renderOutput(dataTable, element);\n",
              "          const docLink = document.createElement('div');\n",
              "          docLink.innerHTML = docLinkHtml;\n",
              "          element.appendChild(docLink);\n",
              "        }\n",
              "      </script>\n",
              "    </div>\n",
              "  </div>\n",
              "  "
            ]
          },
          "metadata": {},
          "execution_count": 12
        }
      ]
    },
    {
      "cell_type": "code",
      "metadata": {
        "id": "M5gUyqQkqcsT",
        "colab": {
          "base_uri": "https://localhost:8080/"
        },
        "outputId": "a810f229-d388-490e-b09d-38bf769b93f5"
      },
      "source": [
        "# Shape of data\n",
        "raw_data.shape"
      ],
      "id": "M5gUyqQkqcsT",
      "execution_count": 13,
      "outputs": [
        {
          "output_type": "execute_result",
          "data": {
            "text/plain": [
              "(6893, 29)"
            ]
          },
          "metadata": {},
          "execution_count": 13
        }
      ]
    },
    {
      "cell_type": "code",
      "source": [
        "len(raw_data)"
      ],
      "metadata": {
        "colab": {
          "base_uri": "https://localhost:8080/"
        },
        "id": "kKEsCR_ufRuC",
        "outputId": "5b58f3d2-26dd-475e-b8cc-48bb9ad1e0a5"
      },
      "id": "kKEsCR_ufRuC",
      "execution_count": 14,
      "outputs": [
        {
          "output_type": "execute_result",
          "data": {
            "text/plain": [
              "6893"
            ]
          },
          "metadata": {},
          "execution_count": 14
        }
      ]
    },
    {
      "cell_type": "code",
      "source": [
        "# Check for missing values\n",
        "raw_data.isna().sum()"
      ],
      "metadata": {
        "colab": {
          "base_uri": "https://localhost:8080/"
        },
        "id": "IWCPviDXfO_B",
        "outputId": "66ebb2d3-c7d8-4efb-c9ab-1dad0559ef88"
      },
      "id": "IWCPviDXfO_B",
      "execution_count": 15,
      "outputs": [
        {
          "output_type": "execute_result",
          "data": {
            "text/plain": [
              "Survey Year                                0\n",
              "Timestamp                                  0\n",
              "SalaryUSD                                  0\n",
              "Country                                    0\n",
              "PostalCode                               959\n",
              "PrimaryDatabase                            0\n",
              "YearsWithThisDatabase                      0\n",
              "OtherDatabases                          1373\n",
              "EmploymentStatus                           0\n",
              "JobTitle                                   0\n",
              "ManageStaff                                0\n",
              "YearsWithThisTypeOfJob                     0\n",
              "HowManyCompanies                           0\n",
              "OtherPeopleOnYourTeam                      0\n",
              "CompanyEmployeesOverall                    0\n",
              "DatabaseServers                            0\n",
              "Education                                  0\n",
              "EducationIsComputerRelated              1216\n",
              "Certifications                             0\n",
              "HoursWorkedPerWeek                         0\n",
              "TelecommuteDaysPerWeek                     0\n",
              "PopulationOfLargestCityWithin20Miles       0\n",
              "EmploymentSector                           0\n",
              "LookingForAnotherJob                       0\n",
              "CareerPlansThisYear                        0\n",
              "Gender                                     0\n",
              "OtherJobDuties                           620\n",
              "KindsOfTasksPerformed                    207\n",
              "Counter                                    0\n",
              "dtype: int64"
            ]
          },
          "metadata": {},
          "execution_count": 15
        }
      ]
    },
    {
      "cell_type": "code",
      "metadata": {
        "id": "LUt__M5iqSRA",
        "colab": {
          "base_uri": "https://localhost:8080/"
        },
        "outputId": "c784ce92-a433-4b66-c4ba-db017fc7fd21"
      },
      "source": [
        "# Check for missing values\n",
        "raw_data.isna().sum() / len(raw_data)"
      ],
      "id": "LUt__M5iqSRA",
      "execution_count": 16,
      "outputs": [
        {
          "output_type": "execute_result",
          "data": {
            "text/plain": [
              "Survey Year                             0.000000\n",
              "Timestamp                               0.000000\n",
              "SalaryUSD                               0.000000\n",
              "Country                                 0.000000\n",
              "PostalCode                              0.139127\n",
              "PrimaryDatabase                         0.000000\n",
              "YearsWithThisDatabase                   0.000000\n",
              "OtherDatabases                          0.199188\n",
              "EmploymentStatus                        0.000000\n",
              "JobTitle                                0.000000\n",
              "ManageStaff                             0.000000\n",
              "YearsWithThisTypeOfJob                  0.000000\n",
              "HowManyCompanies                        0.000000\n",
              "OtherPeopleOnYourTeam                   0.000000\n",
              "CompanyEmployeesOverall                 0.000000\n",
              "DatabaseServers                         0.000000\n",
              "Education                               0.000000\n",
              "EducationIsComputerRelated              0.176411\n",
              "Certifications                          0.000000\n",
              "HoursWorkedPerWeek                      0.000000\n",
              "TelecommuteDaysPerWeek                  0.000000\n",
              "PopulationOfLargestCityWithin20Miles    0.000000\n",
              "EmploymentSector                        0.000000\n",
              "LookingForAnotherJob                    0.000000\n",
              "CareerPlansThisYear                     0.000000\n",
              "Gender                                  0.000000\n",
              "OtherJobDuties                          0.089946\n",
              "KindsOfTasksPerformed                   0.030030\n",
              "Counter                                 0.000000\n",
              "dtype: float64"
            ]
          },
          "metadata": {},
          "execution_count": 16
        }
      ]
    },
    {
      "cell_type": "code",
      "metadata": {
        "id": "MKvptLY5rgfZ",
        "colab": {
          "base_uri": "https://localhost:8080/"
        },
        "outputId": "69e24ea2-bc3c-4796-b84c-162c9c3be0ee"
      },
      "source": [
        "# Remove missing values\n",
        "raw_data.dropna(inplace= True)\n",
        "raw_data.reset_index(drop= True, inplace= True)\n",
        "raw_data.isna().sum()"
      ],
      "id": "MKvptLY5rgfZ",
      "execution_count": 17,
      "outputs": [
        {
          "output_type": "execute_result",
          "data": {
            "text/plain": [
              "Survey Year                             0\n",
              "Timestamp                               0\n",
              "SalaryUSD                               0\n",
              "Country                                 0\n",
              "PostalCode                              0\n",
              "PrimaryDatabase                         0\n",
              "YearsWithThisDatabase                   0\n",
              "OtherDatabases                          0\n",
              "EmploymentStatus                        0\n",
              "JobTitle                                0\n",
              "ManageStaff                             0\n",
              "YearsWithThisTypeOfJob                  0\n",
              "HowManyCompanies                        0\n",
              "OtherPeopleOnYourTeam                   0\n",
              "CompanyEmployeesOverall                 0\n",
              "DatabaseServers                         0\n",
              "Education                               0\n",
              "EducationIsComputerRelated              0\n",
              "Certifications                          0\n",
              "HoursWorkedPerWeek                      0\n",
              "TelecommuteDaysPerWeek                  0\n",
              "PopulationOfLargestCityWithin20Miles    0\n",
              "EmploymentSector                        0\n",
              "LookingForAnotherJob                    0\n",
              "CareerPlansThisYear                     0\n",
              "Gender                                  0\n",
              "OtherJobDuties                          0\n",
              "KindsOfTasksPerformed                   0\n",
              "Counter                                 0\n",
              "dtype: int64"
            ]
          },
          "metadata": {},
          "execution_count": 17
        }
      ]
    },
    {
      "cell_type": "code",
      "metadata": {
        "id": "tcw1jxS6xEuz",
        "colab": {
          "base_uri": "https://localhost:8080/"
        },
        "outputId": "8205e8cd-c4a9-4105-af1d-585228fe9971"
      },
      "source": [
        "# Data type of SalaryUSD column\n",
        "raw_data['SalaryUSD'].dtype"
      ],
      "id": "tcw1jxS6xEuz",
      "execution_count": 18,
      "outputs": [
        {
          "output_type": "execute_result",
          "data": {
            "text/plain": [
              "dtype('O')"
            ]
          },
          "metadata": {},
          "execution_count": 18
        }
      ]
    },
    {
      "cell_type": "code",
      "metadata": {
        "id": "TaFRIcg_yPHS",
        "colab": {
          "base_uri": "https://localhost:8080/"
        },
        "outputId": "b0dd2a06-f2f7-4f42-fc90-2c58fce439f8"
      },
      "source": [
        "# Unique values of SalaryUSD column\n",
        "raw_data['SalaryUSD'].unique()"
      ],
      "id": "TaFRIcg_yPHS",
      "execution_count": 19,
      "outputs": [
        {
          "output_type": "execute_result",
          "data": {
            "text/plain": [
              "array([200000, 95000, 35000, 47000, 41000, 51652, 60000, 63000, 85000,\n",
              "       96000, 45000, 78000, 123000, 100800, 113000, 80000, 133500, 102000,\n",
              "       107690, 84000, 133000, 67000, 120000, 145000, 77600, 46000, 140000,\n",
              "       23000, 138000, 40000, 72800, 99000, 50000, 55000, 90000, 175000,\n",
              "       113400, 97500, 17621, 105000, 104000, 98000, 70760, 67770, 82000,\n",
              "       98517, 107000, 72000, 125000, 129000, 66000, 141000, 58000, 121000,\n",
              "       10000, 15000, 130000, 300000, 64000, 93000, 87000, 88000, 70000,\n",
              "       35900, 42000, 61606, 91000, 27000, 116000, 50400, 270000, 48000,\n",
              "       117832, 160000, 115000, 7968, 100000, 65000, 138500, 63500, 62000,\n",
              "       111000, 134000, 95500, 122000, 26000, 103110, 92000, 14000, 112500,\n",
              "       12000, 12300, 12900, 118000, 110000, 53000, 8300, 91800, 225000,\n",
              "       94000, 120792, 112000, 133900, 93800, 89035, 158000, 93500, 52970,\n",
              "       108000, 135000, 117000, 118500, 113300, 165000, 81000, 73000,\n",
              "       142000, 147000, 109000, 124800, 71594, 70400, 155000, 47240,\n",
              "       153000, 108250, 103900, 84826, 149000, 75000, 76000, 57500, 39000,\n",
              "       142500, 64500, 98600, 62666, 20000, 146000, 57512, 148000, 115544,\n",
              "       103000, 98800, 77000, 119000, 97000, 69725, 91520, 104500, 56000,\n",
              "       89500, 112350, 55670, 106000, 137000, 59000, 150000, 53343, 170000,\n",
              "       53500, 87100, 74424, 156000, 86735, 98670, 67418, 171000, 99220,\n",
              "       127500, 190000, 77850, 87491, 40100, 56140, 102500, 83000, 145493,\n",
              "       16000, 137500, 124000, 86000, 127000, 76800, 134400, 36000, 272000,\n",
              "       76650, 90756, 62391, 69000, 25000, 3900, 43000, 30000, 71500,\n",
              "       125250, 89000, 130750, 68310, 97325, 114700, 139000, 147500, 94500,\n",
              "       47500, 78852, 135900, 114000, 143000, 136000, 92600, 8400, 105750,\n",
              "       77250, 29148, 131000, 68081, 80751, 36400, 103250, 60438, 108500,\n",
              "       151000, 26300, 74000, 71000, 49900, 101000, 124600, 70800, 75720,\n",
              "       77500, 78760, 163000, 1450000, 68000, 80080, 49000, 67902, 132000,\n",
              "       196000, 57800, 107540, 69508, 195000, 74104, 169000, 22000, 61000,\n",
              "       11300, 30500, 4420, 54500, 253000, 5500, 176000, 117600, 51500,\n",
              "       79000, 11000, 18000, 44000, 1600, 1250, 29000, 6200, 25500, 11119,\n",
              "       22941, 41333, 12600, 60300, 89167, 79240, 37166, 24000, 66400,\n",
              "       19000, 63176, 31000, 7650, 20484, 21350, 34375, 57000, 35577,\n",
              "       38940, 31650, 27280, 4118, 545, 15500, 8200, 48119, 65500, 60477,\n",
              "       130271, 84500, 27260, 42400, 54000, 17647, 55399, 180000, 74351,\n",
              "       115600, 38000, 59009, 104300, 126500, 72500, 185000, 87400, 55300,\n",
              "       55700, 13455, 61475, 37000, 71300, 39566, 76500, 13000, 174000,\n",
              "       95138, 32000, 8500, 37400, 51000, 11500, 165227, 5000, 62250,\n",
              "       85600, 74500, 430, 66999, 42150, 14500, 37500, 62109, 52382, 58430,\n",
              "       85232, 133615, 37619, 53300, 40300, 54786, 51101, 98304, 785000,\n",
              "       43800, 162000, 111500, 121500, 91484, 100400, 73757, 28000, 3000,\n",
              "       98750, 82500, 92950, 126000, 368900, 144000, 64480, 27880, 250000,\n",
              "       128000, 88500, 75600, 33500, 123200, 73014, 1000000, 18500, 120250,\n",
              "       113097, 215250, 63400, 92500, 29500, 64300, 87500, 73800, 64280,\n",
              "       43758, 49500, 325000, 45408, 87890, 154000, 100318, 178000, 95185,\n",
              "       35357, 400000, 64460, 117500, 60500, 52000, 81723, 36675, 95800,\n",
              "       94200, 106700, 78245, 92100, 69882, 26500, 91500, 72170, 172000,\n",
              "       210000, 36850, 11029, 1467, 41200, 58500, 44636, 103276, 290000,\n",
              "       52270, 2000, 20500, 79500, 87992, 76200, 24265, 77800, 52500,\n",
              "       10256, 575000, 61575, 96500, 10900, 21244, 72730, 113842, 10073,\n",
              "       81100, 51284, 8000, 36899, 65400, 23300, 56173, 143200, 11745,\n",
              "       121807, 20290, 42204, 58560, 110154, 114300, 31017, 67275, 92822,\n",
              "       86700, 32800, 100646, 35800, 21000, 63600, 121368, 44.806, 96600,\n",
              "       67789, 64186, 84154, 111300, 97088, 65995, 46950, 106500, 122800,\n",
              "       68475, 85488, 110724, 85850, 50085, 52490, 160750, 91400, 116400,\n",
              "       81518.85, 114500, 74200, 108819, 97335, 184000, 113900, 135500,\n",
              "       34300, 108564, 49230, 115700, 55500, 77575, 220000, 95200, 69500,\n",
              "       133800, 118560, 577, 5214, 35407, 29260, 126, 102456, 48125, 89139,\n",
              "       148986, 155500, 16700, 128593, 102494, 57300, 76108.95, 67164,\n",
              "       109300, 34000, 2246, 92750, 116500, 192000, 99800, 75100, 54600,\n",
              "       117770, 115500, 61500, 58750, 41404, 111250, 53040, 193000, 125900,\n",
              "       90937, 78500, 90875, 161449, 56800, 52823, 94188, 240000, 122400,\n",
              "       159000, 94994, 27600, 22735, 57200, 37100, 31893, 70828, 47219.2,\n",
              "       56, 75110, 89750, 80200, 87600, 7500, 235000, 73574, 83234,\n",
              "       1375000, 81500, 486000, 100500, 61562, 56900, 10650, 67060, 46500,\n",
              "       54952, 52050, 86500, 113650, 98500, 135300, 80100, 61200, 65700,\n",
              "       55742, 128800, 137443, 92747, 152000, 164000, 75524, 75200, 107900,\n",
              "       66152, 45500, 83500, 68367, 69092, 122500, 132131, 36312, 101725,\n",
              "       128500, 187000, 80300, 59500, 260000, 80500, 10962, 60112, 41124,\n",
              "       5800, 87.83, 37538, 33437, 144700, 112700, 110700, 95207, 54577,\n",
              "       103520, 90900, 110040, 217000, 194000, 18181, 47573.49, 112, 73500,\n",
              "       87227, 107500, 205000, 15600, 56315, 117031, 116340, 133817,\n",
              "       157000, 133010, 60332, 109500, 140394, 345000, 158200, 52256, 9360,\n",
              "       53460, 73840, 10095, 188000, 70879, 6260, 74422, 66500, 46750,\n",
              "       67700, 90500, 102900, 198000, 142600, 151400, 65543, 46350, 81645,\n",
              "       109200, 63800, 110240, 124500, 69086, 79860, 56700, 500000, 99600,\n",
              "       102104, 119500, '110, 000', 158500, 89814, 70180, 26400, 85654,\n",
              "       133700, 129800, 78052, 11800, 82970, 45170, 50140, 65180, 9100,\n",
              "       35169, 130090, 80104, 123585, 61903, 78600, 54772, 69600, 151500,\n",
              "       2400, 131500, 59850, 3300, 11100, 77700, 35362, 135600, 67500,\n",
              "       79800, 53860, 83200, 116965, 77374, 41300, 275000, 69610, 61400,\n",
              "       60750, 85200, 211000, 29200, 127750, 104495, 71400, 115200, 113100,\n",
              "       189000], dtype=object)"
            ]
          },
          "metadata": {},
          "execution_count": 19
        }
      ]
    },
    {
      "cell_type": "code",
      "metadata": {
        "id": "WpNELRVR1yk4",
        "colab": {
          "base_uri": "https://localhost:8080/"
        },
        "outputId": "8f54baf6-9980-4461-f980-2ed7ddb603aa"
      },
      "source": [
        "# Processing Salary column\n",
        "\n",
        "def process_salary(salary):\n",
        "    sep = '.'\n",
        "    salary = str(salary)\n",
        "    # Replace characters and take the cents out of our data\n",
        "    salary = salary.replace(\" \",\"\").replace(\"$\",\"\").replace(\",\",\"\").split(sep)[0]\n",
        "    \n",
        "    return float(salary)\n",
        "\n",
        "# Replace spaces(“ “) in columns name with underscore (“_”)\n",
        "raw_data.columns = raw_data.columns.str.replace(\" \",\"_\")\n",
        "\n",
        "# Apply process_salary function\n",
        "raw_data['SalaryUSD'] = raw_data['SalaryUSD'].apply(process_salary)\n",
        "raw_data['SalaryUSD'].head()"
      ],
      "id": "WpNELRVR1yk4",
      "execution_count": 20,
      "outputs": [
        {
          "output_type": "execute_result",
          "data": {
            "text/plain": [
              "0    200000.0\n",
              "1     95000.0\n",
              "2     35000.0\n",
              "3     47000.0\n",
              "4     41000.0\n",
              "Name: SalaryUSD, dtype: float64"
            ]
          },
          "metadata": {},
          "execution_count": 20
        }
      ]
    },
    {
      "cell_type": "markdown",
      "metadata": {
        "id": "Umo6ZOH72p8o"
      },
      "source": [
        "In order to analyze only 2019 United States data, we will filter the DataFrame by year and country."
      ],
      "id": "Umo6ZOH72p8o"
    },
    {
      "cell_type": "code",
      "metadata": {
        "id": "e0r7Boil2xG1",
        "colab": {
          "base_uri": "https://localhost:8080/",
          "height": 0
        },
        "outputId": "9e85f254-60ec-4fdc-ecec-123fbf4844b1"
      },
      "source": [
        "# Filter dataframe by year\n",
        "df = raw_data[raw_data.Survey_Year == 2019]\n",
        "df.head()"
      ],
      "id": "e0r7Boil2xG1",
      "execution_count": 21,
      "outputs": [
        {
          "output_type": "execute_result",
          "data": {
            "text/plain": [
              "      Survey_Year               Timestamp  SalaryUSD         Country  \\\n",
              "3200         2019 2018-12-06 13:58:01.557   128500.0   United States   \n",
              "3201         2019 2018-12-11 06:24:30.227   110000.0   United States   \n",
              "3202         2019 2018-12-11 06:30:47.023   116500.0   United States   \n",
              "3203         2019 2018-12-11 06:31:42.083    67000.0  United Kingdom   \n",
              "3204         2019 2018-12-11 06:33:56.358   124000.0   United States   \n",
              "\n",
              "     PostalCode       PrimaryDatabase  YearsWithThisDatabase  \\\n",
              "3200        442  Microsoft SQL Server                     15   \n",
              "3201      43016  Microsoft SQL Server                     18   \n",
              "3202        605  Microsoft SQL Server                     12   \n",
              "3203        LE2  Microsoft SQL Server                      3   \n",
              "3204      92105  Microsoft SQL Server                     18   \n",
              "\n",
              "                                         OtherDatabases  \\\n",
              "3200                       Microsoft SQL Server, Oracle   \n",
              "3201                                       Azure SQL DB   \n",
              "3202                  PostgreSQL, MongoDB, Azure SQL DB   \n",
              "3203  Microsoft SQL Server, Microsoft Access, Azure ...   \n",
              "3204                                             Oracle   \n",
              "\n",
              "                                       EmploymentStatus  \\\n",
              "3200                                 Full time employee   \n",
              "3201                                 Full time employee   \n",
              "3202  Full time employee of a consulting/contracting...   \n",
              "3203  Independent consultant, contractor, freelancer...   \n",
              "3204                                 Full time employee   \n",
              "\n",
              "                                               JobTitle  ...  \\\n",
              "3200                                          Architect  ...   \n",
              "3201  DBA (Development Focus - tunes queries, indexe...  ...   \n",
              "3202                                          Architect  ...   \n",
              "3203                  Developer: App code (C#, JS, etc)  ...   \n",
              "3204  DBA (General - splits time evenly between writ...  ...   \n",
              "\n",
              "     HoursWorkedPerWeek             TelecommuteDaysPerWeek  \\\n",
              "3200                 40  None, or less than 1 day per week   \n",
              "3201                 44  None, or less than 1 day per week   \n",
              "3202                 30                          5 or more   \n",
              "3203                 37  None, or less than 1 day per week   \n",
              "3204                 40                                  4   \n",
              "\n",
              "     PopulationOfLargestCityWithin20Miles  EmploymentSector  \\\n",
              "3200                 300K-1M (large city)  Private business   \n",
              "3201                     1M+ (metropolis)  Private business   \n",
              "3202                     1M+ (metropolis)  Private business   \n",
              "3203                 300K-1M (large city)  Private business   \n",
              "3204                     1M+ (metropolis)  Private business   \n",
              "\n",
              "                          LookingForAnotherJob  \\\n",
              "3200                                        No   \n",
              "3201                                        No   \n",
              "3202    Yes, but only passively (just curious)   \n",
              "3203                                        No   \n",
              "3204  Yes, actively looking for something else   \n",
              "\n",
              "                                CareerPlansThisYear Gender  \\\n",
              "3200         Stay with the same employer, same role   Male   \n",
              "3201         Stay with the same employer, same role   Male   \n",
              "3202                              Prefer not to say   Male   \n",
              "3203         Stay with the same employer, same role   Male   \n",
              "3204  Stay with the same role, but change employers   Male   \n",
              "\n",
              "                                         OtherJobDuties  \\\n",
              "3200  DBA (Development Focus - tunes queries, indexe...   \n",
              "3201  DBA (Production Focus - build & troubleshoot s...   \n",
              "3202  DBA (General - splits time evenly between writ...   \n",
              "3203  DBA (Development Focus - tunes queries, indexe...   \n",
              "3204  DBA (Development Focus - tunes queries, indexe...   \n",
              "\n",
              "                                  KindsOfTasksPerformed  Counter  \n",
              "3200      Manual tasks, Meetings & management, Projects        1  \n",
              "3201  Build scripts & automation tools, Manual tasks...        1  \n",
              "3202  Build scripts & automation tools, Manual tasks...        1  \n",
              "3203  Build scripts & automation tools, Manual tasks...        1  \n",
              "3204                        Manual tasks, Projects, R&D        1  \n",
              "\n",
              "[5 rows x 29 columns]"
            ],
            "text/html": [
              "\n",
              "  <div id=\"df-6a8e5f9b-44a9-420e-a87a-9e363fed96e5\">\n",
              "    <div class=\"colab-df-container\">\n",
              "      <div>\n",
              "<style scoped>\n",
              "    .dataframe tbody tr th:only-of-type {\n",
              "        vertical-align: middle;\n",
              "    }\n",
              "\n",
              "    .dataframe tbody tr th {\n",
              "        vertical-align: top;\n",
              "    }\n",
              "\n",
              "    .dataframe thead th {\n",
              "        text-align: right;\n",
              "    }\n",
              "</style>\n",
              "<table border=\"1\" class=\"dataframe\">\n",
              "  <thead>\n",
              "    <tr style=\"text-align: right;\">\n",
              "      <th></th>\n",
              "      <th>Survey_Year</th>\n",
              "      <th>Timestamp</th>\n",
              "      <th>SalaryUSD</th>\n",
              "      <th>Country</th>\n",
              "      <th>PostalCode</th>\n",
              "      <th>PrimaryDatabase</th>\n",
              "      <th>YearsWithThisDatabase</th>\n",
              "      <th>OtherDatabases</th>\n",
              "      <th>EmploymentStatus</th>\n",
              "      <th>JobTitle</th>\n",
              "      <th>...</th>\n",
              "      <th>HoursWorkedPerWeek</th>\n",
              "      <th>TelecommuteDaysPerWeek</th>\n",
              "      <th>PopulationOfLargestCityWithin20Miles</th>\n",
              "      <th>EmploymentSector</th>\n",
              "      <th>LookingForAnotherJob</th>\n",
              "      <th>CareerPlansThisYear</th>\n",
              "      <th>Gender</th>\n",
              "      <th>OtherJobDuties</th>\n",
              "      <th>KindsOfTasksPerformed</th>\n",
              "      <th>Counter</th>\n",
              "    </tr>\n",
              "  </thead>\n",
              "  <tbody>\n",
              "    <tr>\n",
              "      <th>3200</th>\n",
              "      <td>2019</td>\n",
              "      <td>2018-12-06 13:58:01.557</td>\n",
              "      <td>128500.0</td>\n",
              "      <td>United States</td>\n",
              "      <td>442</td>\n",
              "      <td>Microsoft SQL Server</td>\n",
              "      <td>15</td>\n",
              "      <td>Microsoft SQL Server, Oracle</td>\n",
              "      <td>Full time employee</td>\n",
              "      <td>Architect</td>\n",
              "      <td>...</td>\n",
              "      <td>40</td>\n",
              "      <td>None, or less than 1 day per week</td>\n",
              "      <td>300K-1M (large city)</td>\n",
              "      <td>Private business</td>\n",
              "      <td>No</td>\n",
              "      <td>Stay with the same employer, same role</td>\n",
              "      <td>Male</td>\n",
              "      <td>DBA (Development Focus - tunes queries, indexe...</td>\n",
              "      <td>Manual tasks, Meetings &amp; management, Projects</td>\n",
              "      <td>1</td>\n",
              "    </tr>\n",
              "    <tr>\n",
              "      <th>3201</th>\n",
              "      <td>2019</td>\n",
              "      <td>2018-12-11 06:24:30.227</td>\n",
              "      <td>110000.0</td>\n",
              "      <td>United States</td>\n",
              "      <td>43016</td>\n",
              "      <td>Microsoft SQL Server</td>\n",
              "      <td>18</td>\n",
              "      <td>Azure SQL DB</td>\n",
              "      <td>Full time employee</td>\n",
              "      <td>DBA (Development Focus - tunes queries, indexe...</td>\n",
              "      <td>...</td>\n",
              "      <td>44</td>\n",
              "      <td>None, or less than 1 day per week</td>\n",
              "      <td>1M+ (metropolis)</td>\n",
              "      <td>Private business</td>\n",
              "      <td>No</td>\n",
              "      <td>Stay with the same employer, same role</td>\n",
              "      <td>Male</td>\n",
              "      <td>DBA (Production Focus - build &amp; troubleshoot s...</td>\n",
              "      <td>Build scripts &amp; automation tools, Manual tasks...</td>\n",
              "      <td>1</td>\n",
              "    </tr>\n",
              "    <tr>\n",
              "      <th>3202</th>\n",
              "      <td>2019</td>\n",
              "      <td>2018-12-11 06:30:47.023</td>\n",
              "      <td>116500.0</td>\n",
              "      <td>United States</td>\n",
              "      <td>605</td>\n",
              "      <td>Microsoft SQL Server</td>\n",
              "      <td>12</td>\n",
              "      <td>PostgreSQL, MongoDB, Azure SQL DB</td>\n",
              "      <td>Full time employee of a consulting/contracting...</td>\n",
              "      <td>Architect</td>\n",
              "      <td>...</td>\n",
              "      <td>30</td>\n",
              "      <td>5 or more</td>\n",
              "      <td>1M+ (metropolis)</td>\n",
              "      <td>Private business</td>\n",
              "      <td>Yes, but only passively (just curious)</td>\n",
              "      <td>Prefer not to say</td>\n",
              "      <td>Male</td>\n",
              "      <td>DBA (General - splits time evenly between writ...</td>\n",
              "      <td>Build scripts &amp; automation tools, Manual tasks...</td>\n",
              "      <td>1</td>\n",
              "    </tr>\n",
              "    <tr>\n",
              "      <th>3203</th>\n",
              "      <td>2019</td>\n",
              "      <td>2018-12-11 06:31:42.083</td>\n",
              "      <td>67000.0</td>\n",
              "      <td>United Kingdom</td>\n",
              "      <td>LE2</td>\n",
              "      <td>Microsoft SQL Server</td>\n",
              "      <td>3</td>\n",
              "      <td>Microsoft SQL Server, Microsoft Access, Azure ...</td>\n",
              "      <td>Independent consultant, contractor, freelancer...</td>\n",
              "      <td>Developer: App code (C#, JS, etc)</td>\n",
              "      <td>...</td>\n",
              "      <td>37</td>\n",
              "      <td>None, or less than 1 day per week</td>\n",
              "      <td>300K-1M (large city)</td>\n",
              "      <td>Private business</td>\n",
              "      <td>No</td>\n",
              "      <td>Stay with the same employer, same role</td>\n",
              "      <td>Male</td>\n",
              "      <td>DBA (Development Focus - tunes queries, indexe...</td>\n",
              "      <td>Build scripts &amp; automation tools, Manual tasks...</td>\n",
              "      <td>1</td>\n",
              "    </tr>\n",
              "    <tr>\n",
              "      <th>3204</th>\n",
              "      <td>2019</td>\n",
              "      <td>2018-12-11 06:33:56.358</td>\n",
              "      <td>124000.0</td>\n",
              "      <td>United States</td>\n",
              "      <td>92105</td>\n",
              "      <td>Microsoft SQL Server</td>\n",
              "      <td>18</td>\n",
              "      <td>Oracle</td>\n",
              "      <td>Full time employee</td>\n",
              "      <td>DBA (General - splits time evenly between writ...</td>\n",
              "      <td>...</td>\n",
              "      <td>40</td>\n",
              "      <td>4</td>\n",
              "      <td>1M+ (metropolis)</td>\n",
              "      <td>Private business</td>\n",
              "      <td>Yes, actively looking for something else</td>\n",
              "      <td>Stay with the same role, but change employers</td>\n",
              "      <td>Male</td>\n",
              "      <td>DBA (Development Focus - tunes queries, indexe...</td>\n",
              "      <td>Manual tasks, Projects, R&amp;D</td>\n",
              "      <td>1</td>\n",
              "    </tr>\n",
              "  </tbody>\n",
              "</table>\n",
              "<p>5 rows × 29 columns</p>\n",
              "</div>\n",
              "      <button class=\"colab-df-convert\" onclick=\"convertToInteractive('df-6a8e5f9b-44a9-420e-a87a-9e363fed96e5')\"\n",
              "              title=\"Convert this dataframe to an interactive table.\"\n",
              "              style=\"display:none;\">\n",
              "        \n",
              "  <svg xmlns=\"http://www.w3.org/2000/svg\" height=\"24px\"viewBox=\"0 0 24 24\"\n",
              "       width=\"24px\">\n",
              "    <path d=\"M0 0h24v24H0V0z\" fill=\"none\"/>\n",
              "    <path d=\"M18.56 5.44l.94 2.06.94-2.06 2.06-.94-2.06-.94-.94-2.06-.94 2.06-2.06.94zm-11 1L8.5 8.5l.94-2.06 2.06-.94-2.06-.94L8.5 2.5l-.94 2.06-2.06.94zm10 10l.94 2.06.94-2.06 2.06-.94-2.06-.94-.94-2.06-.94 2.06-2.06.94z\"/><path d=\"M17.41 7.96l-1.37-1.37c-.4-.4-.92-.59-1.43-.59-.52 0-1.04.2-1.43.59L10.3 9.45l-7.72 7.72c-.78.78-.78 2.05 0 2.83L4 21.41c.39.39.9.59 1.41.59.51 0 1.02-.2 1.41-.59l7.78-7.78 2.81-2.81c.8-.78.8-2.07 0-2.86zM5.41 20L4 18.59l7.72-7.72 1.47 1.35L5.41 20z\"/>\n",
              "  </svg>\n",
              "      </button>\n",
              "      \n",
              "  <style>\n",
              "    .colab-df-container {\n",
              "      display:flex;\n",
              "      flex-wrap:wrap;\n",
              "      gap: 12px;\n",
              "    }\n",
              "\n",
              "    .colab-df-convert {\n",
              "      background-color: #E8F0FE;\n",
              "      border: none;\n",
              "      border-radius: 50%;\n",
              "      cursor: pointer;\n",
              "      display: none;\n",
              "      fill: #1967D2;\n",
              "      height: 32px;\n",
              "      padding: 0 0 0 0;\n",
              "      width: 32px;\n",
              "    }\n",
              "\n",
              "    .colab-df-convert:hover {\n",
              "      background-color: #E2EBFA;\n",
              "      box-shadow: 0px 1px 2px rgba(60, 64, 67, 0.3), 0px 1px 3px 1px rgba(60, 64, 67, 0.15);\n",
              "      fill: #174EA6;\n",
              "    }\n",
              "\n",
              "    [theme=dark] .colab-df-convert {\n",
              "      background-color: #3B4455;\n",
              "      fill: #D2E3FC;\n",
              "    }\n",
              "\n",
              "    [theme=dark] .colab-df-convert:hover {\n",
              "      background-color: #434B5C;\n",
              "      box-shadow: 0px 1px 3px 1px rgba(0, 0, 0, 0.15);\n",
              "      filter: drop-shadow(0px 1px 2px rgba(0, 0, 0, 0.3));\n",
              "      fill: #FFFFFF;\n",
              "    }\n",
              "  </style>\n",
              "\n",
              "      <script>\n",
              "        const buttonEl =\n",
              "          document.querySelector('#df-6a8e5f9b-44a9-420e-a87a-9e363fed96e5 button.colab-df-convert');\n",
              "        buttonEl.style.display =\n",
              "          google.colab.kernel.accessAllowed ? 'block' : 'none';\n",
              "\n",
              "        async function convertToInteractive(key) {\n",
              "          const element = document.querySelector('#df-6a8e5f9b-44a9-420e-a87a-9e363fed96e5');\n",
              "          const dataTable =\n",
              "            await google.colab.kernel.invokeFunction('convertToInteractive',\n",
              "                                                     [key], {});\n",
              "          if (!dataTable) return;\n",
              "\n",
              "          const docLinkHtml = 'Like what you see? Visit the ' +\n",
              "            '<a target=\"_blank\" href=https://colab.research.google.com/notebooks/data_table.ipynb>data table notebook</a>'\n",
              "            + ' to learn more about interactive tables.';\n",
              "          element.innerHTML = '';\n",
              "          dataTable['output_type'] = 'display_data';\n",
              "          await google.colab.output.renderOutput(dataTable, element);\n",
              "          const docLink = document.createElement('div');\n",
              "          docLink.innerHTML = docLinkHtml;\n",
              "          element.appendChild(docLink);\n",
              "        }\n",
              "      </script>\n",
              "    </div>\n",
              "  </div>\n",
              "  "
            ]
          },
          "metadata": {},
          "execution_count": 21
        }
      ]
    },
    {
      "cell_type": "code",
      "metadata": {
        "id": "1ci6Nhn94H3E",
        "colab": {
          "base_uri": "https://localhost:8080/",
          "height": 0
        },
        "outputId": "60a38f6b-76ae-4b97-d5ee-b379ce852d89"
      },
      "source": [
        "# Filter dataframe by country\n",
        "US_2019 = df.loc[df.Country == 'United States', :]\n",
        "US_2019.head(3)"
      ],
      "id": "1ci6Nhn94H3E",
      "execution_count": 22,
      "outputs": [
        {
          "output_type": "execute_result",
          "data": {
            "text/plain": [
              "      Survey_Year               Timestamp  SalaryUSD        Country  \\\n",
              "3200         2019 2018-12-06 13:58:01.557   128500.0  United States   \n",
              "3201         2019 2018-12-11 06:24:30.227   110000.0  United States   \n",
              "3202         2019 2018-12-11 06:30:47.023   116500.0  United States   \n",
              "\n",
              "     PostalCode       PrimaryDatabase  YearsWithThisDatabase  \\\n",
              "3200        442  Microsoft SQL Server                     15   \n",
              "3201      43016  Microsoft SQL Server                     18   \n",
              "3202        605  Microsoft SQL Server                     12   \n",
              "\n",
              "                         OtherDatabases  \\\n",
              "3200       Microsoft SQL Server, Oracle   \n",
              "3201                       Azure SQL DB   \n",
              "3202  PostgreSQL, MongoDB, Azure SQL DB   \n",
              "\n",
              "                                       EmploymentStatus  \\\n",
              "3200                                 Full time employee   \n",
              "3201                                 Full time employee   \n",
              "3202  Full time employee of a consulting/contracting...   \n",
              "\n",
              "                                               JobTitle  ...  \\\n",
              "3200                                          Architect  ...   \n",
              "3201  DBA (Development Focus - tunes queries, indexe...  ...   \n",
              "3202                                          Architect  ...   \n",
              "\n",
              "     HoursWorkedPerWeek             TelecommuteDaysPerWeek  \\\n",
              "3200                 40  None, or less than 1 day per week   \n",
              "3201                 44  None, or less than 1 day per week   \n",
              "3202                 30                          5 or more   \n",
              "\n",
              "     PopulationOfLargestCityWithin20Miles  EmploymentSector  \\\n",
              "3200                 300K-1M (large city)  Private business   \n",
              "3201                     1M+ (metropolis)  Private business   \n",
              "3202                     1M+ (metropolis)  Private business   \n",
              "\n",
              "                        LookingForAnotherJob  \\\n",
              "3200                                      No   \n",
              "3201                                      No   \n",
              "3202  Yes, but only passively (just curious)   \n",
              "\n",
              "                         CareerPlansThisYear Gender  \\\n",
              "3200  Stay with the same employer, same role   Male   \n",
              "3201  Stay with the same employer, same role   Male   \n",
              "3202                       Prefer not to say   Male   \n",
              "\n",
              "                                         OtherJobDuties  \\\n",
              "3200  DBA (Development Focus - tunes queries, indexe...   \n",
              "3201  DBA (Production Focus - build & troubleshoot s...   \n",
              "3202  DBA (General - splits time evenly between writ...   \n",
              "\n",
              "                                  KindsOfTasksPerformed  Counter  \n",
              "3200      Manual tasks, Meetings & management, Projects        1  \n",
              "3201  Build scripts & automation tools, Manual tasks...        1  \n",
              "3202  Build scripts & automation tools, Manual tasks...        1  \n",
              "\n",
              "[3 rows x 29 columns]"
            ],
            "text/html": [
              "\n",
              "  <div id=\"df-7c93dc1f-10fb-41c5-8dcd-8762fae7c553\">\n",
              "    <div class=\"colab-df-container\">\n",
              "      <div>\n",
              "<style scoped>\n",
              "    .dataframe tbody tr th:only-of-type {\n",
              "        vertical-align: middle;\n",
              "    }\n",
              "\n",
              "    .dataframe tbody tr th {\n",
              "        vertical-align: top;\n",
              "    }\n",
              "\n",
              "    .dataframe thead th {\n",
              "        text-align: right;\n",
              "    }\n",
              "</style>\n",
              "<table border=\"1\" class=\"dataframe\">\n",
              "  <thead>\n",
              "    <tr style=\"text-align: right;\">\n",
              "      <th></th>\n",
              "      <th>Survey_Year</th>\n",
              "      <th>Timestamp</th>\n",
              "      <th>SalaryUSD</th>\n",
              "      <th>Country</th>\n",
              "      <th>PostalCode</th>\n",
              "      <th>PrimaryDatabase</th>\n",
              "      <th>YearsWithThisDatabase</th>\n",
              "      <th>OtherDatabases</th>\n",
              "      <th>EmploymentStatus</th>\n",
              "      <th>JobTitle</th>\n",
              "      <th>...</th>\n",
              "      <th>HoursWorkedPerWeek</th>\n",
              "      <th>TelecommuteDaysPerWeek</th>\n",
              "      <th>PopulationOfLargestCityWithin20Miles</th>\n",
              "      <th>EmploymentSector</th>\n",
              "      <th>LookingForAnotherJob</th>\n",
              "      <th>CareerPlansThisYear</th>\n",
              "      <th>Gender</th>\n",
              "      <th>OtherJobDuties</th>\n",
              "      <th>KindsOfTasksPerformed</th>\n",
              "      <th>Counter</th>\n",
              "    </tr>\n",
              "  </thead>\n",
              "  <tbody>\n",
              "    <tr>\n",
              "      <th>3200</th>\n",
              "      <td>2019</td>\n",
              "      <td>2018-12-06 13:58:01.557</td>\n",
              "      <td>128500.0</td>\n",
              "      <td>United States</td>\n",
              "      <td>442</td>\n",
              "      <td>Microsoft SQL Server</td>\n",
              "      <td>15</td>\n",
              "      <td>Microsoft SQL Server, Oracle</td>\n",
              "      <td>Full time employee</td>\n",
              "      <td>Architect</td>\n",
              "      <td>...</td>\n",
              "      <td>40</td>\n",
              "      <td>None, or less than 1 day per week</td>\n",
              "      <td>300K-1M (large city)</td>\n",
              "      <td>Private business</td>\n",
              "      <td>No</td>\n",
              "      <td>Stay with the same employer, same role</td>\n",
              "      <td>Male</td>\n",
              "      <td>DBA (Development Focus - tunes queries, indexe...</td>\n",
              "      <td>Manual tasks, Meetings &amp; management, Projects</td>\n",
              "      <td>1</td>\n",
              "    </tr>\n",
              "    <tr>\n",
              "      <th>3201</th>\n",
              "      <td>2019</td>\n",
              "      <td>2018-12-11 06:24:30.227</td>\n",
              "      <td>110000.0</td>\n",
              "      <td>United States</td>\n",
              "      <td>43016</td>\n",
              "      <td>Microsoft SQL Server</td>\n",
              "      <td>18</td>\n",
              "      <td>Azure SQL DB</td>\n",
              "      <td>Full time employee</td>\n",
              "      <td>DBA (Development Focus - tunes queries, indexe...</td>\n",
              "      <td>...</td>\n",
              "      <td>44</td>\n",
              "      <td>None, or less than 1 day per week</td>\n",
              "      <td>1M+ (metropolis)</td>\n",
              "      <td>Private business</td>\n",
              "      <td>No</td>\n",
              "      <td>Stay with the same employer, same role</td>\n",
              "      <td>Male</td>\n",
              "      <td>DBA (Production Focus - build &amp; troubleshoot s...</td>\n",
              "      <td>Build scripts &amp; automation tools, Manual tasks...</td>\n",
              "      <td>1</td>\n",
              "    </tr>\n",
              "    <tr>\n",
              "      <th>3202</th>\n",
              "      <td>2019</td>\n",
              "      <td>2018-12-11 06:30:47.023</td>\n",
              "      <td>116500.0</td>\n",
              "      <td>United States</td>\n",
              "      <td>605</td>\n",
              "      <td>Microsoft SQL Server</td>\n",
              "      <td>12</td>\n",
              "      <td>PostgreSQL, MongoDB, Azure SQL DB</td>\n",
              "      <td>Full time employee of a consulting/contracting...</td>\n",
              "      <td>Architect</td>\n",
              "      <td>...</td>\n",
              "      <td>30</td>\n",
              "      <td>5 or more</td>\n",
              "      <td>1M+ (metropolis)</td>\n",
              "      <td>Private business</td>\n",
              "      <td>Yes, but only passively (just curious)</td>\n",
              "      <td>Prefer not to say</td>\n",
              "      <td>Male</td>\n",
              "      <td>DBA (General - splits time evenly between writ...</td>\n",
              "      <td>Build scripts &amp; automation tools, Manual tasks...</td>\n",
              "      <td>1</td>\n",
              "    </tr>\n",
              "  </tbody>\n",
              "</table>\n",
              "<p>3 rows × 29 columns</p>\n",
              "</div>\n",
              "      <button class=\"colab-df-convert\" onclick=\"convertToInteractive('df-7c93dc1f-10fb-41c5-8dcd-8762fae7c553')\"\n",
              "              title=\"Convert this dataframe to an interactive table.\"\n",
              "              style=\"display:none;\">\n",
              "        \n",
              "  <svg xmlns=\"http://www.w3.org/2000/svg\" height=\"24px\"viewBox=\"0 0 24 24\"\n",
              "       width=\"24px\">\n",
              "    <path d=\"M0 0h24v24H0V0z\" fill=\"none\"/>\n",
              "    <path d=\"M18.56 5.44l.94 2.06.94-2.06 2.06-.94-2.06-.94-.94-2.06-.94 2.06-2.06.94zm-11 1L8.5 8.5l.94-2.06 2.06-.94-2.06-.94L8.5 2.5l-.94 2.06-2.06.94zm10 10l.94 2.06.94-2.06 2.06-.94-2.06-.94-.94-2.06-.94 2.06-2.06.94z\"/><path d=\"M17.41 7.96l-1.37-1.37c-.4-.4-.92-.59-1.43-.59-.52 0-1.04.2-1.43.59L10.3 9.45l-7.72 7.72c-.78.78-.78 2.05 0 2.83L4 21.41c.39.39.9.59 1.41.59.51 0 1.02-.2 1.41-.59l7.78-7.78 2.81-2.81c.8-.78.8-2.07 0-2.86zM5.41 20L4 18.59l7.72-7.72 1.47 1.35L5.41 20z\"/>\n",
              "  </svg>\n",
              "      </button>\n",
              "      \n",
              "  <style>\n",
              "    .colab-df-container {\n",
              "      display:flex;\n",
              "      flex-wrap:wrap;\n",
              "      gap: 12px;\n",
              "    }\n",
              "\n",
              "    .colab-df-convert {\n",
              "      background-color: #E8F0FE;\n",
              "      border: none;\n",
              "      border-radius: 50%;\n",
              "      cursor: pointer;\n",
              "      display: none;\n",
              "      fill: #1967D2;\n",
              "      height: 32px;\n",
              "      padding: 0 0 0 0;\n",
              "      width: 32px;\n",
              "    }\n",
              "\n",
              "    .colab-df-convert:hover {\n",
              "      background-color: #E2EBFA;\n",
              "      box-shadow: 0px 1px 2px rgba(60, 64, 67, 0.3), 0px 1px 3px 1px rgba(60, 64, 67, 0.15);\n",
              "      fill: #174EA6;\n",
              "    }\n",
              "\n",
              "    [theme=dark] .colab-df-convert {\n",
              "      background-color: #3B4455;\n",
              "      fill: #D2E3FC;\n",
              "    }\n",
              "\n",
              "    [theme=dark] .colab-df-convert:hover {\n",
              "      background-color: #434B5C;\n",
              "      box-shadow: 0px 1px 3px 1px rgba(0, 0, 0, 0.15);\n",
              "      filter: drop-shadow(0px 1px 2px rgba(0, 0, 0, 0.3));\n",
              "      fill: #FFFFFF;\n",
              "    }\n",
              "  </style>\n",
              "\n",
              "      <script>\n",
              "        const buttonEl =\n",
              "          document.querySelector('#df-7c93dc1f-10fb-41c5-8dcd-8762fae7c553 button.colab-df-convert');\n",
              "        buttonEl.style.display =\n",
              "          google.colab.kernel.accessAllowed ? 'block' : 'none';\n",
              "\n",
              "        async function convertToInteractive(key) {\n",
              "          const element = document.querySelector('#df-7c93dc1f-10fb-41c5-8dcd-8762fae7c553');\n",
              "          const dataTable =\n",
              "            await google.colab.kernel.invokeFunction('convertToInteractive',\n",
              "                                                     [key], {});\n",
              "          if (!dataTable) return;\n",
              "\n",
              "          const docLinkHtml = 'Like what you see? Visit the ' +\n",
              "            '<a target=\"_blank\" href=https://colab.research.google.com/notebooks/data_table.ipynb>data table notebook</a>'\n",
              "            + ' to learn more about interactive tables.';\n",
              "          element.innerHTML = '';\n",
              "          dataTable['output_type'] = 'display_data';\n",
              "          await google.colab.output.renderOutput(dataTable, element);\n",
              "          const docLink = document.createElement('div');\n",
              "          docLink.innerHTML = docLinkHtml;\n",
              "          element.appendChild(docLink);\n",
              "        }\n",
              "      </script>\n",
              "    </div>\n",
              "  </div>\n",
              "  "
            ]
          },
          "metadata": {},
          "execution_count": 22
        }
      ]
    },
    {
      "cell_type": "code",
      "metadata": {
        "id": "575w3-O54TAL",
        "colab": {
          "base_uri": "https://localhost:8080/"
        },
        "outputId": "db782026-4630-42ec-aa85-0bf3c50db6ce"
      },
      "source": [
        "# Number of employees by their genders \n",
        "US_2019.Gender.value_counts()"
      ],
      "id": "575w3-O54TAL",
      "execution_count": 23,
      "outputs": [
        {
          "output_type": "execute_result",
          "data": {
            "text/plain": [
              "Male      274\n",
              "Female     26\n",
              "Name: Gender, dtype: int64"
            ]
          },
          "metadata": {},
          "execution_count": 23
        }
      ]
    },
    {
      "cell_type": "code",
      "metadata": {
        "id": "6e460y2Iwggy",
        "colab": {
          "base_uri": "https://localhost:8080/"
        },
        "outputId": "bf5a50a9-a071-4f12-b98d-f839254ff2e8"
      },
      "source": [
        "# Filter salary by gender\n",
        "Male_salary = US_2019[US_2019.Gender == 'Male']['SalaryUSD']\n",
        "Female_salary = US_2019[US_2019.Gender == 'Female']['SalaryUSD']\n",
        "\n",
        "print(\"Mean salary for male employees: \", Male_salary.mean())\n",
        "print(\"Mean salary for female employees: \", Female_salary.mean())"
      ],
      "id": "6e460y2Iwggy",
      "execution_count": 24,
      "outputs": [
        {
          "output_type": "stream",
          "name": "stdout",
          "text": [
            "Mean salary for male employees:  110565.50729927007\n",
            "Mean salary for female employees:  95569.38461538461\n"
          ]
        }
      ]
    },
    {
      "cell_type": "code",
      "metadata": {
        "id": "hSFeDigM6MhZ",
        "colab": {
          "base_uri": "https://localhost:8080/"
        },
        "outputId": "bda151dd-f469-487e-a558-940b9c889861"
      },
      "source": [
        "# Perform t-test on data\n",
        "ttest = stats.ttest_ind(a = Female_salary, b = Male_salary, equal_var= False)\n",
        "ttest"
      ],
      "id": "hSFeDigM6MhZ",
      "execution_count": 25,
      "outputs": [
        {
          "output_type": "execute_result",
          "data": {
            "text/plain": [
              "Ttest_indResult(statistic=-2.3294080652649156, pvalue=0.025597245279444746)"
            ]
          },
          "metadata": {},
          "execution_count": 25
        }
      ]
    },
    {
      "cell_type": "markdown",
      "metadata": {
        "id": "XYlvzSQ36jAF"
      },
      "source": [
        "From the above results, we can see that the p-value is 0.02 which is lower than the level of significance (0.05). So, this suggests that there is indeed a difference between male and female salaries in the United States for the year 2019."
      ],
      "id": "XYlvzSQ36jAF"
    },
    {
      "cell_type": "markdown",
      "metadata": {
        "id": "DLBMDixSOmfX"
      },
      "source": [
        "### References for further reading:\n",
        "\n",
        "[Hypothesis testing in machine learning](https://towardsdatascience.com/hypothesis-testing-in-machine-learning-using-python-a0dc89e169ce)\n",
        "\n",
        "[How to use z-table](https://www.statology.org/how-to-use-z-table/)\n"
      ],
      "id": "DLBMDixSOmfX"
    },
    {
      "cell_type": "markdown",
      "metadata": {
        "id": "VHfHdGCP_n6Y"
      },
      "source": [
        "### Please answer the questions below to complete the experiment:\n",
        "\n",
        "\n"
      ],
      "id": "VHfHdGCP_n6Y"
    },
    {
      "cell_type": "code",
      "metadata": {
        "id": "wOMum_TNTvO4"
      },
      "source": [
        "# @title Select the correct option below, based on the following statement: The p-value is defined as the smallest value of alpha for which the null hypothesis can be rejected. { run: \"auto\", form-width: \"500px\", display-mode: \"form\" }\n",
        "Answer = \"\" #@param [\"\",\"If the p-value is less than or equal to alpha, we reject the null hypothesis\",\"If the p-value is greater than alpha, we do not reject the null hypothesis\",\"Both of the above\", \"None of the above\"]"
      ],
      "id": "wOMum_TNTvO4",
      "execution_count": null,
      "outputs": []
    },
    {
      "cell_type": "code",
      "metadata": {
        "id": "NMzKSbLIgFzQ"
      },
      "source": [
        "#@title How was the experiment? { run: \"auto\", form-width: \"500px\", display-mode: \"form\" }\n",
        "Complexity = \"\" #@param [\"\",\"Too Simple, I am wasting time\", \"Good, But Not Challenging for me\", \"Good and Challenging for me\", \"Was Tough, but I did it\", \"Too Difficult for me\"]\n"
      ],
      "id": "NMzKSbLIgFzQ",
      "execution_count": null,
      "outputs": []
    },
    {
      "cell_type": "code",
      "metadata": {
        "id": "DjcH1VWSFI2l"
      },
      "source": [
        "#@title If it was too easy, what more would you have liked to be added? If it was very difficult, what would you have liked to have been removed? { run: \"auto\", display-mode: \"form\" }\n",
        "Additional = \"\" #@param {type:\"string\"}\n"
      ],
      "id": "DjcH1VWSFI2l",
      "execution_count": null,
      "outputs": []
    },
    {
      "cell_type": "code",
      "metadata": {
        "id": "4VBk_4VTAxCM"
      },
      "source": [
        "#@title Can you identify the concepts from the lecture which this experiment covered? { run: \"auto\", vertical-output: true, display-mode: \"form\" }\n",
        "Concepts = \"\" #@param [\"\",\"Yes\", \"No\"]\n"
      ],
      "id": "4VBk_4VTAxCM",
      "execution_count": null,
      "outputs": []
    },
    {
      "cell_type": "code",
      "metadata": {
        "id": "XH91cL1JWH7m"
      },
      "source": [
        "#@title  Text and image description/explanation and code comments within the experiment: { run: \"auto\", vertical-output: true, display-mode: \"form\" }\n",
        "Comments = \"\" #@param [\"\",\"Very Useful\", \"Somewhat Useful\", \"Not Useful\", \"Didn't use\"]\n"
      ],
      "id": "XH91cL1JWH7m",
      "execution_count": null,
      "outputs": []
    },
    {
      "cell_type": "code",
      "metadata": {
        "id": "z8xLqj7VWIKW"
      },
      "source": [
        "#@title Mentor Support: { run: \"auto\", vertical-output: true, display-mode: \"form\" }\n",
        "Mentor_support = \"\" #@param [\"\",\"Very Useful\", \"Somewhat Useful\", \"Not Useful\", \"Didn't use\"]\n"
      ],
      "id": "z8xLqj7VWIKW",
      "execution_count": null,
      "outputs": []
    },
    {
      "cell_type": "code",
      "metadata": {
        "id": "FzAZHt1zw-Y-",
        "cellView": "form",
        "colab": {
          "base_uri": "https://localhost:8080/"
        },
        "outputId": "c13f2227-53e9-4430-a0e8-9106d1233d9e"
      },
      "source": [
        "#@title Run this cell to submit your notebook for grading { vertical-output: true }\n",
        "try:\n",
        "  if submission_id:\n",
        "      return_id = submit_notebook()\n",
        "      if return_id : submission_id = return_id\n",
        "  else:\n",
        "      print(\"Please complete the setup first.\")\n",
        "except NameError:\n",
        "  print (\"Please complete the setup first.\")"
      ],
      "id": "FzAZHt1zw-Y-",
      "execution_count": null,
      "outputs": [
        {
          "output_type": "stream",
          "name": "stdout",
          "text": [
            "Please answer Question\n"
          ]
        }
      ]
    }
  ]
}