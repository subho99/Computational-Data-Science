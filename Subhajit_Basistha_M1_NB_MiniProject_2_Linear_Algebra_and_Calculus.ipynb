{
  "nbformat": 4,
  "nbformat_minor": 0,
  "metadata": {
    "colab": {
      "provenance": [],
      "include_colab_link": true
    },
    "kernelspec": {
      "display_name": "Python 3",
      "language": "python",
      "name": "python3"
    },
    "language_info": {
      "codemirror_mode": {
        "name": "ipython",
        "version": 3
      },
      "file_extension": ".py",
      "mimetype": "text/x-python",
      "name": "python",
      "nbconvert_exporter": "python",
      "pygments_lexer": "ipython3",
      "version": "3.8.5"
    }
  },
  "cells": [
    {
      "cell_type": "markdown",
      "metadata": {
        "id": "view-in-github",
        "colab_type": "text"
      },
      "source": [
        "<a href=\"https://colab.research.google.com/github/subho99/Computational-Data-Science/blob/main/Subhajit_Basistha_M1_NB_MiniProject_2_Linear_Algebra_and_Calculus.ipynb\" target=\"_parent\"><img src=\"https://colab.research.google.com/assets/colab-badge.svg\" alt=\"Open In Colab\"/></a>"
      ]
    },
    {
      "cell_type": "markdown",
      "metadata": {
        "id": "Vf7UdufgUVRm"
      },
      "source": [
        "# Advanced Certification Program in Computational Data Science\n",
        "## A program by IISc and TalentSprint\n",
        "### Mini Project Notebook: Linear Algebra and Calculus"
      ]
    },
    {
      "cell_type": "markdown",
      "metadata": {
        "id": "TnGEuHJusOup"
      },
      "source": [
        "## Problem Statement"
      ]
    },
    {
      "cell_type": "markdown",
      "metadata": {
        "id": "xlkm2qM2sQ-T"
      },
      "source": [
        " The task is to advise a petroleum company on how to meet the demands of their customers for motor oil, diesel oil and gasoline."
      ]
    },
    {
      "cell_type": "markdown",
      "metadata": {
        "id": "cs0B3ScgUVRv"
      },
      "source": [
        "## Learning Objectives"
      ]
    },
    {
      "cell_type": "markdown",
      "metadata": {
        "id": "Sq5piVQRUVRw"
      },
      "source": [
        "At the end of the experiment, you will be able to\n",
        "\n",
        "* create arrays and matrices in python\n",
        "* understand the concepts of linear equations\n",
        "* solve the system of linear equations"
      ]
    },
    {
      "cell_type": "markdown",
      "metadata": {
        "id": "IvKa0MVttqXf"
      },
      "source": [
        "### Data"
      ]
    },
    {
      "cell_type": "markdown",
      "metadata": {
        "id": "dRrGFyZOtsAj"
      },
      "source": [
        "From a barrel of crude oil, in one day, factory $A$ can produce \n",
        "* 20 gallons of motor oil, \n",
        "* 10 gallons of diesel oil, and \n",
        "* 5 gallons of gasoline \n",
        "\n",
        "Similarly, factory $B$ can produce \n",
        "* 4 gallons of motor oil, \n",
        "* 14 gallons of diesel oil, and \n",
        "* 5 gallons of gasoline\n",
        " \n",
        "while factory $C$ can produce \n",
        "* 4 gallons of motor oil,\n",
        "* 5 gallons of diesel oil, and \n",
        "* 12 gallons of gasoline \n",
        "\n",
        "There is also waste in the form of paraffin, among other things. Factory $A$ has 3 gallons of paraffin to dispose of per barrel of crude, factory $B$ 5 gallons, and factory $C$ 2 gallons."
      ]
    },
    {
      "cell_type": "markdown",
      "metadata": {
        "id": "UK_englE4HnA"
      },
      "source": [
        "**Note:** Your conclusion should include a discussion of the nature of the terms *unique*, *no solution*, *overdetermined* and *underdetermined* as they apply in the context of the oil plants."
      ]
    },
    {
      "cell_type": "markdown",
      "metadata": {
        "id": "operating-latter"
      },
      "source": [
        "## Grading = 10 Points"
      ]
    },
    {
      "cell_type": "markdown",
      "metadata": {
        "id": "zAitCztdraex"
      },
      "source": [
        "### Create an array \n",
        "\n",
        "Create an array of size 2x3 with arbitrary values."
      ]
    },
    {
      "cell_type": "code",
      "metadata": {
        "id": "owKFXLLzrqVb",
        "colab": {
          "base_uri": "https://localhost:8080/"
        },
        "outputId": "80e85096-2b44-4b4f-914b-6e27462529a7"
      },
      "source": [
        "# YOUR CODE HERE\n",
        "import numpy as np\n",
        "Arb_matrix = np.array([[17, 15, 32], \n",
        "              [100, 500, 494]])\n",
        "print(\"2x3 arbitrary matrix:\\n\",Arb_matrix)\n"
      ],
      "execution_count": 1,
      "outputs": [
        {
          "output_type": "stream",
          "name": "stdout",
          "text": [
            "2x3 arbitrary matrix:\n",
            " [[ 17  15  32]\n",
            " [100 500 494]]\n"
          ]
        }
      ]
    },
    {
      "cell_type": "markdown",
      "metadata": {
        "id": "K_7EztnGvzDK"
      },
      "source": [
        "### Create the system of Linear Equations"
      ]
    },
    {
      "cell_type": "markdown",
      "metadata": {
        "id": "zL9M9kmrv_ZA"
      },
      "source": [
        "Suppose the current daily demand from distributors is 6600 gallons of motor oil, 5100 gallons of diesel oil and 3100 of gasoline.\n",
        "\n",
        "Set up the system of equations which describes the above situation. Please include the units as well."
      ]
    },
    {
      "cell_type": "markdown",
      "metadata": {
        "id": "nbOcii0EZpUI"
      },
      "source": [
        "Let the number of barrels used by factory $A$, $B$ and $C$ are $x$, $y$ and $z$ respectively.\n",
        "\n",
        "Then the system of linear equations will be\n",
        "\n",
        "$$Motor\\ oil:\\ \\ \\ 20x + 4y + 4z = 6600$$\n",
        "\n",
        "$$Diesel\\ oil:\\ \\ \\ 10x + 14y + 5z = 5100$$\n",
        "\n",
        "$$Gasoline:\\ \\ \\ 5x + 5y + 12z = 3100$$"
      ]
    },
    {
      "cell_type": "markdown",
      "metadata": {
        "id": "1qLF2LvG2I8Y"
      },
      "source": [
        "### Solve the system of Linear Equation (2 points)"
      ]
    },
    {
      "cell_type": "markdown",
      "metadata": {
        "id": "FzjOkaq21_8L"
      },
      "source": [
        "How many barrels of crude oil each plant should get in order to meet the demand as a group. Remember that we can only provide each plant with an integral number of barrels."
      ]
    },
    {
      "cell_type": "markdown",
      "source": [
        "**Factory A: Production coefficients**\n",
        "\n",
        "           Motor oil: 20 Gallons/barrel\n",
        "           Diesel oil: 10 Gallons/barrel \n",
        "           Gasoline: 5 Gallons/barrel\n",
        "\n",
        "**Factory B: Production coefficients**\n",
        "\n",
        "           Motor oil: 4 Gallons/barrel\n",
        "           Diesel oil: 14 Gallons/barrel \n",
        "           Gasoline: 5 Gallons/barrel\n",
        "\n",
        "**Factory C: Production coefficients**\n",
        "\n",
        "           Motor oil: 4 Gallons/barrel\n",
        "           Diesel oil: 5 Gallons/barrel \n",
        "           Gasoline: 12 Gallons/barrel"
      ],
      "metadata": {
        "id": "Gl5XVZNXa0_k"
      }
    },
    {
      "cell_type": "code",
      "metadata": {
        "id": "Plx-kStlcGOW",
        "colab": {
          "base_uri": "https://localhost:8080/"
        },
        "outputId": "d0f02348-98fb-4af1-f7a1-6dfeb2914573"
      },
      "source": [
        "# YOUR CODE HERE\n",
        "# We need to solve the linear system equation Ax = b\n",
        "from scipy.linalg import solve\n",
        "A = np.array([[20, 4, 4], \n",
        "              [10, 14, 5], \n",
        "              [5, 5, 12]])\n",
        "b = np.array([6600, 5100, 3100])\n",
        "X1 = solve(A,b)\n",
        "X1_ceil=np.ceil(X1)\n",
        "X1_ceil_int = X1_ceil.astype('int32') # As no. of barrels should be in integer\n",
        "print(\"No. of barrels required to get in Factory A: \",X1_ceil_int[0])\n",
        "print(\"No. of barrels required to get in Factory B: \",X1_ceil_int[1])\n",
        "print(\"No. of barrels required to get in Factory C: \",X1_ceil_int[2])\n"
      ],
      "execution_count": 2,
      "outputs": [
        {
          "output_type": "stream",
          "name": "stdout",
          "text": [
            "No. of barrels required to get in Factory A:  288\n",
            "No. of barrels required to get in Factory B:  129\n",
            "No. of barrels required to get in Factory C:  85\n"
          ]
        }
      ]
    },
    {
      "cell_type": "markdown",
      "metadata": {
        "id": "nY-rFiKAbVl3"
      },
      "source": [
        "Suppose the total demand for all products **doubled**. What would the solution now be? How does it compare to the original solution? Why, mathematically, should this have been expected?"
      ]
    },
    {
      "cell_type": "markdown",
      "source": [
        "The total demand for all products doubled.\n",
        "\n",
        "Then the system of linear equations will be revised as per the following\n",
        "\n",
        "$$Motor\\ oil:\\ \\ \\ 20x + 4y + 4z = 13200$$\n",
        "\n",
        "$$Diesel\\ oil:\\ \\ \\ 10x + 14y + 5z = 10200$$\n",
        "\n",
        "$$Gasoline:\\ \\ \\ 5x + 5y + 12z = 6200$$"
      ],
      "metadata": {
        "id": "X1Qz9Vh6fZmq"
      }
    },
    {
      "cell_type": "code",
      "metadata": {
        "id": "OODSS2bFcjKV",
        "colab": {
          "base_uri": "https://localhost:8080/"
        },
        "outputId": "912bd1f2-d59e-4aa0-ea96-b956c9909fc3"
      },
      "source": [
        "# YOUR CODE HERE\n",
        "# We need to solve the linear system equation Ax = b\n",
        "A = np.array([[20, 4, 4], \n",
        "              [10, 14, 5], \n",
        "              [5, 5, 12]])\n",
        "#b = np.array([6600 * 2, 5100 * 2, 3100 * 2])\n",
        "b= np. array([13200,10200,6200])\n",
        "X2 = solve(A,b)\n",
        "X2_ceil=np.ceil(X2)\n",
        "X2_ceil_int = X2_ceil.astype('int32') # As no. of barrels should be in integer\n",
        "print(\"After demand doubled, No. of barrels required to get in Factory A: \",X2_ceil_int[0])\n",
        "print(\"After demand doubled, No. of barrels required to get in Factory B: \",X2_ceil_int[1])\n",
        "print(\"After demand doubled, No. of barrels required to get in Factory C: \",X2_ceil_int[2])"
      ],
      "execution_count": 3,
      "outputs": [
        {
          "output_type": "stream",
          "name": "stdout",
          "text": [
            "After demand doubled, No. of barrels required to get in Factory A:  575\n",
            "After demand doubled, No. of barrels required to get in Factory B:  258\n",
            "After demand doubled, No. of barrels required to get in Factory C:  170\n"
          ]
        }
      ]
    },
    {
      "cell_type": "markdown",
      "source": [
        "Comparison with the original solution:\n",
        "\n",
        "**It's observed from the above solution that as the demand of all products get doubled, hence the no. of barrels required in each of the factories also gets doubled**"
      ],
      "metadata": {
        "id": "BRfPKTH_hFp6"
      }
    },
    {
      "cell_type": "markdown",
      "source": [
        "Mathematically, it's expected. We are dealing with the following linear system equation:\n",
        "\n",
        "**Ax = b**\n",
        "\n",
        "As for all the 3 factories, the Production co-efficients matrix **A** remains unchanged, but the RHS i.e., the demand **'b'** gets doubled, so only way to multiply **'x'** by a factor of 2 to balance the linear system equation \n",
        "**Ax = b**"
      ],
      "metadata": {
        "id": "-NbrWq3mij2x"
      }
    },
    {
      "cell_type": "markdown",
      "metadata": {
        "id": "p_1a-z0Gds6D"
      },
      "source": [
        "Suppose that the company acquires another group of distributors and that the daily demand of this group is 2000 gallons of motor oil, 4000 gallons of gasoline, and 4000 gallons of diesel oil. How would you set up production of just this supply? Are there any options (more than one way)?"
      ]
    },
    {
      "cell_type": "markdown",
      "source": [
        "After acquiring 2nd group of distributors, demand for all products changes.\n",
        "\n",
        "Then the system of linear equations will be revised as per the following\n",
        "\n",
        "$$Motor\\ oil:\\ \\ \\ 20x + 4y + 4z = 2000$$\n",
        "\n",
        "$$Diesel\\ oil:\\ \\ \\ 10x + 14y + 5z = 4000$$\n",
        "\n",
        "$$Gasoline:\\ \\ \\ 5x + 5y + 12z = 4000$$"
      ],
      "metadata": {
        "id": "btaru5dill2g"
      }
    },
    {
      "cell_type": "code",
      "metadata": {
        "id": "gWaeKh6eQe2W",
        "colab": {
          "base_uri": "https://localhost:8080/"
        },
        "outputId": "c3e89e17-346f-443c-c2e2-61119787ab6f"
      },
      "source": [
        "# YOUR CODE HERE\n",
        "# We need to solve the linear system equation Ax = b\n",
        "A = np.array([[20, 4, 4], \n",
        "              [10, 14, 5], \n",
        "              [5, 5, 12]])\n",
        "b = np.array([2000, 4000, 4000])\n",
        "X3 = solve(A,b)\n",
        "X3_ceil=np.ceil(X3)\n",
        "X3_ceil_int = X3_ceil.astype('int32') # As no. of barrels should be in integer\n",
        "print(\"After acquiring 2nd group of distributors, No. of barrels required to get in Factory A: \",X3_ceil_int[0])\n",
        "print(\"After acquiring 2nd group of distributors, No. of barrels required to get in Factory B: \",X3_ceil_int[1])\n",
        "print(\"After acquiring 2nd group of distributors, No. of barrels required to get in Factory C: \",X3_ceil_int[2])"
      ],
      "execution_count": 4,
      "outputs": [
        {
          "output_type": "stream",
          "name": "stdout",
          "text": [
            "After acquiring 2nd group of distributors, No. of barrels required to get in Factory A:  13\n",
            "After acquiring 2nd group of distributors, No. of barrels required to get in Factory B:  188\n",
            "After acquiring 2nd group of distributors, No. of barrels required to get in Factory C:  250\n"
          ]
        }
      ]
    },
    {
      "cell_type": "code",
      "source": [
        "# Checking whether Ax = b does have unique solution or not\n",
        "from sympy import *\n",
        "augmented_A = Matrix([[20, 4, 4, 2000],\n",
        "                      [10, 14, 5, 4000],\n",
        "                      [5, 5, 12, 4000]])\n",
        "augmented_A.rref()[0]"
      ],
      "metadata": {
        "colab": {
          "base_uri": "https://localhost:8080/",
          "height": 78
        },
        "id": "XbaAlaG4R7Em",
        "outputId": "55e33eab-9e8a-4424-8414-1d93d2c0146f"
      },
      "execution_count": 5,
      "outputs": [
        {
          "output_type": "execute_result",
          "data": {
            "text/plain": [
              "Matrix([\n",
              "[1, 0, 0,  25/2],\n",
              "[0, 1, 0, 375/2],\n",
              "[0, 0, 1,   250]])"
            ],
            "text/latex": "$\\displaystyle \\left[\\begin{matrix}1 & 0 & 0 & \\frac{25}{2}\\\\0 & 1 & 0 & \\frac{375}{2}\\\\0 & 0 & 1 & 250\\end{matrix}\\right]$"
          },
          "metadata": {},
          "execution_count": 5
        }
      ]
    },
    {
      "cell_type": "markdown",
      "source": [
        "**As after Row Reduced Echelon Method,**\n",
        "\n",
        "**(1) We get an identity matrix corresponding to the co-efficient matrix A**\n",
        "\n",
        "**(2) The last column of the row reduced echelon form contains unique value**\n",
        "\n",
        "So, the linear system equation **Ax = b** has an unique solution. Hence, the above solution is the only way to fulfill the demand. In this case, there can't be more than one way."
      ],
      "metadata": {
        "id": "Zxpd6bTuX-2g"
      }
    },
    {
      "cell_type": "code",
      "source": [
        "# Visualization of the solution vector in 3D space\n",
        "import numpy as np\n",
        "from scipy.linalg import lstsq\n",
        "import matplotlib.pyplot as plt\n",
        "from mpl_toolkits import mplot3d\n",
        "from mpl_toolkits.mplot3d import Axes3D\n",
        "\n",
        "p, res, rnk, s = lstsq(A, b)\n",
        "print (\"Rank of matrix A: \",rnk)\n",
        "p=np.ceil(p)\n",
        "p = p.astype('int32') # As no. of barrels should be in integer\n",
        "print (\"Least squares solutions: \",p)\n",
        "\n",
        "fig = plt.figure()\n",
        "ax = plt.axes(projection ='3d')\n",
        "ax = Axes3D(fig)\n",
        "\n",
        "x = [0,p[0]]\n",
        "y = [0,p[1]]\n",
        "z = [0,p[2]]\n",
        "\n",
        "ax.set_xlim3d(0, 15)\n",
        "ax.set_ylim3d(0, 190)\n",
        "ax.set_zlim3d(0, 252)\n",
        "ax.plot3D(x, y, z, 'green')\n",
        "ax.set_title('Barrels requirement')\n",
        "ax.set_xlabel(\"Barrels in Factory A\")\n",
        "ax.set_ylabel(\"Barrels in Factory B\")\n",
        "ax.set_zlabel(\"Barrels in Factory C\")\n",
        "plt.grid(alpha=0.25)\n",
        "plt.show()"
      ],
      "metadata": {
        "colab": {
          "base_uri": "https://localhost:8080/",
          "height": 354
        },
        "id": "Nu3dPTg9TBF0",
        "outputId": "687b4ece-3df7-433b-d2ed-8f09339a05cd"
      },
      "execution_count": 6,
      "outputs": [
        {
          "output_type": "stream",
          "name": "stdout",
          "text": [
            "Rank of matrix A:  3\n",
            "Least squares solutions:  [ 13 188 250]\n"
          ]
        },
        {
          "output_type": "display_data",
          "data": {
            "text/plain": [
              "<Figure size 432x288 with 2 Axes>"
            ],
            "image/png": "[encoded data removed]"
          },
          "metadata": {
            "needs_background": "light"
          }
        }
      ]
    },
    {
      "cell_type": "markdown",
      "metadata": {
        "id": "H4sayZf1etbN"
      },
      "source": [
        "Next, calculate the needs of each factory (in barrels of crude, as usual) to meet the total demand of both groups of distributors. When you have done this, compare your answer to results already obtained. What mathematical conclusion can you draw?"
      ]
    },
    {
      "cell_type": "markdown",
      "source": [
        "To meet the total demand of both groups of distributors, the combined demand for all products need to be set in the linear system equations.\n",
        "\n",
        "Then the system of linear equations will be revised as per the following\n",
        "\n",
        "$$Motor\\ oil:\\ \\ \\ 20x + 4y + 4z = 6600 + 2000 = 8600$$\n",
        "\n",
        "$$Diesel\\ oil:\\ \\ \\ 10x + 14y + 5z = 5100 + 4000 = 9100$$\n",
        "\n",
        "$$Gasoline:\\ \\ \\ 5x + 5y + 12z = 3100 + 4000 = 7100$$"
      ],
      "metadata": {
        "id": "lLfeJAeHKKEQ"
      }
    },
    {
      "cell_type": "code",
      "metadata": {
        "id": "Hjm5kcawewgT",
        "colab": {
          "base_uri": "https://localhost:8080/"
        },
        "outputId": "83691ed1-2194-47a3-f2ea-c179ba005d41"
      },
      "source": [
        "# YOUR CODE HERE\n",
        "# We need to solve the linear system equation Ax = b\n",
        "import numpy as np\n",
        "from scipy.linalg import solve\n",
        "A = np.array([[20, 4, 4], \n",
        "              [10, 14, 5], \n",
        "              [5, 5, 12]])\n",
        "b = np.array([6600 + 2000, 5100 + 4000, 3100 + 4000])\n",
        "X4 = solve(A,b)\n",
        "X4_ceil=np.ceil(X4)\n",
        "X4_ceil_int = X4_ceil.astype('int32') # As no. of barrels should be in integer\n",
        "print(\"To meet the combined demands of both group of distributors, No. of barrels required to get in Factory A: \",X4_ceil_int[0])\n",
        "print(\"To meet the combined demands of both group of distributors, No. of barrels required to get in Factory B: \",X4_ceil_int[1])\n",
        "print(\"To meet the combined demands of both group of distributors, No. of barrels required to get in Factory C: \",X4_ceil_int[2])"
      ],
      "execution_count": 7,
      "outputs": [
        {
          "output_type": "stream",
          "name": "stdout",
          "text": [
            "To meet the combined demands of both group of distributors, No. of barrels required to get in Factory A:  300\n",
            "To meet the combined demands of both group of distributors, No. of barrels required to get in Factory B:  317\n",
            "To meet the combined demands of both group of distributors, No. of barrels required to get in Factory C:  335\n"
          ]
        }
      ]
    },
    {
      "cell_type": "code",
      "source": [
        "# Checking the combined no. of Barrels\n",
        "# X1 = No. of Barrels required for all 3 factories to meet the demand of 1st group of distributors\n",
        "# X3 = No. of Barrels required for all 3 factories to meet the demand of 2nd group of distributors\n",
        "# X4 = No. of Barrels required for all 3 factories to meet the combined demand of both group of distributors\n",
        "print(\"Comparison with earlier result:\")\n",
        "print(X1 + X3 == X4)\n",
        "\n",
        "if (X1 + X3 == X4)[0] and (X1 + X3 == X4)[1] and (X1 + X3 == X4)[2]:\n",
        "    print(True)\n",
        "    print(\"Mathematical conclusion:\")\n",
        "    print(\"Total No. of Barrels requirement in each of the factories to meet the combined demand of both distributors = \")\n",
        "    print(\"Summation of No. of Barrels requirement in each of the factories to meet the individual demand of each distributor\")\n",
        "else:\n",
        "    print(False)"
      ],
      "metadata": {
        "colab": {
          "base_uri": "https://localhost:8080/"
        },
        "id": "DsW26gV9WeP8",
        "outputId": "b2bc99b9-a1cc-4efb-9816-a1d5e9a7d5b8"
      },
      "execution_count": 8,
      "outputs": [
        {
          "output_type": "stream",
          "name": "stdout",
          "text": [
            "Comparison with earlier result:\n",
            "[ True  True  True]\n",
            "True\n",
            "Mathematical conclusion:\n",
            "Total No. of Barrels requirement in each of the factories to meet the combined demand of both distributors = \n",
            "Summation of No. of Barrels requirement in each of the factories to meet the individual demand of each distributor\n"
          ]
        }
      ]
    },
    {
      "cell_type": "markdown",
      "metadata": {
        "id": "ov7RWVpSpzhw"
      },
      "source": [
        "### Sensitivity and Robustness (1 point)"
      ]
    },
    {
      "cell_type": "markdown",
      "metadata": {
        "id": "G1MVw0x_fQMC"
      },
      "source": [
        "In real life applications, constants are rarely ever exactly equal to their stated value; certain amounts of uncertainty are always present. This is part of the reason for the science of statistics. In the above model, the daily productions for the plants would be averages over a period of time. Explore what effect small changes in the parameters have on the output.\n",
        "\n",
        "To do this, pick any 3 coefficients, one at a time, and increase or decrease them by 3%. For each case , note what effect this has on the solution, as a percentage change. Can you draw any overall conclusion?"
      ]
    },
    {
      "cell_type": "code",
      "metadata": {
        "id": "ObBZDKvYfqie",
        "colab": {
          "base_uri": "https://localhost:8080/"
        },
        "outputId": "75281c29-488d-4c8e-fe0c-1618f04d7b8e"
      },
      "source": [
        "# YOUR CODE HERE\n",
        "# Increasing the production coefficient values for factory A by 3%\n",
        "# Factory A Motor oil: Increased production coefficient value = 20 + 20*0.03 = 20*1.03\n",
        "# Factory A Diesel oil: Increased production coefficient value = 10 + 10*0.03 = 10*1.03\n",
        "# Factory A Gasoline: Increased production coefficient value = 5 + 5*0.03 = 5*1.03\n",
        "A = np.array([[20 * 1.03, 4, 4], \n",
        "              [10 * 1.03, 14, 5], \n",
        "              [5 * 1.03, 5, 12]])\n",
        "\n",
        "b = np.array([6600, 5100, 3100])\n",
        "X5 = solve(A,b)\n",
        "X5_ceil=np.ceil(X5)\n",
        "X5_ceil_int = X5_ceil.astype('int32') # As no. of barrels should be in integer\n",
        "print(\"Factory A: Change in No. of Barrels requirement: \",((X5_ceil_int[0] - X1_ceil_int[0]) / X1_ceil_int[0])*100,\"%\")\n",
        "print(\"Factory B: Change in No. of Barrels requirement: \",((X5_ceil_int[1] - X1_ceil_int[1]) / X1_ceil_int[1])*100,\"%\")\n",
        "print(\"Factory C: Change in No. of Barrels requirement: \",((X5_ceil_int[2] - X1_ceil_int[2]) / X1_ceil_int[2])*100,\"%\")\n",
        "X5_ceil_int[0]"
      ],
      "execution_count": 9,
      "outputs": [
        {
          "output_type": "stream",
          "name": "stdout",
          "text": [
            "Factory A: Change in No. of Barrels requirement:  -3.125 %\n",
            "Factory B: Change in No. of Barrels requirement:  0.0 %\n",
            "Factory C: Change in No. of Barrels requirement:  0.0 %\n"
          ]
        },
        {
          "output_type": "execute_result",
          "data": {
            "text/plain": [
              "279"
            ]
          },
          "metadata": {},
          "execution_count": 9
        }
      ]
    },
    {
      "cell_type": "markdown",
      "source": [
        "**Conclusion:**\n",
        "**It's observed from the above that as the production coefficient values for Factory A have been increased by 3%, hence to meet the same demand, the no. of Barrels requirement in Factory A has been decreased by around 3%.**\n",
        "**As there are no changes in production coefficients of Factory B & C, hence, there are 0% changes in no. of Barrels requirement in case of Factory B & C. For Factory B & C, the no. of Barrels requirement remains constant**  "
      ],
      "metadata": {
        "id": "QMrVTAFruWJg"
      }
    },
    {
      "cell_type": "code",
      "source": [
        "# YOUR CODE HERE\n",
        "# Decreasing the production coefficient values for factory A by 3%\n",
        "# Factory A Motor oil: Decreased production coefficient value = 20 - 20*0.03 = 20*0.97\n",
        "# Factory A Diesel oil: Increased production coefficient value = 10 - 10*0.03 = 10*0.97\n",
        "# Factory A Gasoline: Increased production coefficient value = 5 - 5*0.03 = 5*0.97\n",
        "A = np.array([[20 * 0.97, 4, 4], \n",
        "              [10 * 0.97, 14, 5], \n",
        "              [5 * 0.97, 5, 12]])\n",
        "\n",
        "b = np.array([6600, 5100, 3100])\n",
        "X6 = solve(A,b)\n",
        "X6_ceil=np.ceil(X6)\n",
        "X6_ceil_int = X6_ceil.astype('int32') # As no. of barrels should be in integer\n",
        "print(\"Factory A: Change in No. of Barrels requirement: \",((X6_ceil_int[0] - X1_ceil_int[0]) / X1_ceil_int[0])*100,\"%\")\n",
        "print(\"Factory B: Change in No. of Barrels requirement: \",((X6_ceil_int[1] - X1_ceil_int[1]) / X1_ceil_int[1])*100,\"%\")\n",
        "print(\"Factory C: Change in No. of Barrels requirement: \",((X6_ceil_int[2] - X1_ceil_int[2]) / X1_ceil_int[2])*100,\"%\")"
      ],
      "metadata": {
        "colab": {
          "base_uri": "https://localhost:8080/"
        },
        "id": "6dH0IvvdvKN-",
        "outputId": "32263497-aa87-456e-f29b-1ac1f964cb53"
      },
      "execution_count": 10,
      "outputs": [
        {
          "output_type": "stream",
          "name": "stdout",
          "text": [
            "Factory A: Change in No. of Barrels requirement:  3.125 %\n",
            "Factory B: Change in No. of Barrels requirement:  0.0 %\n",
            "Factory C: Change in No. of Barrels requirement:  0.0 %\n"
          ]
        }
      ]
    },
    {
      "cell_type": "markdown",
      "source": [
        "**Conclusion:**\n",
        "**It's observed from the above that as the production coefficient values for Factory A have been decreased by 3%, hence to meet the same demand, the no. of Barrels requirement in Factory A has been increased by around 3%.**\n",
        "**As there are no changes in production coefficients of Factory B & C, hence, there are 0% changes in no. of Barrels requirement in case of Factory B & C. For Factory B & C, the no. of Barrels requirement remains constant** "
      ],
      "metadata": {
        "id": "wB-xOcAfwXC8"
      }
    },
    {
      "cell_type": "code",
      "source": [
        "# YOUR CODE HERE\n",
        "# Increasing the production coefficient values for factory B by 3%\n",
        "# Factory B Motor oil: Increased production coefficient value = 4 + 4*0.03 = 4*1.03\n",
        "# Factory B Diesel oil: Increased production coefficient value = 14 + 14*0.03 = 14*1.03\n",
        "# Factory B Gasoline: Increased production coefficient value = 5 + 5*0.03 = 5*1.03\n",
        "A = np.array([[20, 4*1.03, 4], \n",
        "              [10, 14*1.03, 5], \n",
        "              [5, 5*1.03, 12]])\n",
        "\n",
        "b = np.array([6600, 5100, 3100])\n",
        "X7 = solve(A,b)\n",
        "X7_ceil=np.ceil(X7)\n",
        "X7_ceil_int = X7_ceil.astype('int32') # As no. of barrels should be in integer\n",
        "print(\"Factory A: Change in No. of Barrels requirement: \",((X7_ceil_int[0] - X1_ceil_int[0]) / X1_ceil_int[0])*100,\"%\")\n",
        "print(\"Factory B: Change in No. of Barrels requirement: \",((X7_ceil_int[1] - X1_ceil_int[1]) / X1_ceil_int[1])*100,\"%\")\n",
        "print(\"Factory C: Change in No. of Barrels requirement: \",((X7_ceil_int[2] - X1_ceil_int[2]) / X1_ceil_int[2])*100,\"%\")"
      ],
      "metadata": {
        "colab": {
          "base_uri": "https://localhost:8080/"
        },
        "id": "_xRlSZ8eyQXS",
        "outputId": "b2f79b39-f9f9-4e5a-ab68-d183e8fc434b"
      },
      "execution_count": 11,
      "outputs": [
        {
          "output_type": "stream",
          "name": "stdout",
          "text": [
            "Factory A: Change in No. of Barrels requirement:  0.0 %\n",
            "Factory B: Change in No. of Barrels requirement:  -3.10077519379845 %\n",
            "Factory C: Change in No. of Barrels requirement:  0.0 %\n"
          ]
        }
      ]
    },
    {
      "cell_type": "markdown",
      "source": [
        "**Conclusion:**\n",
        "**It's observed from the above that as the production coefficient values for Factory B have been increased by 3%, hence to meet the same demand, the no. of Barrels requirement in Factory B has been decreased by around 3%.**\n",
        "**As there are no changes in production coefficients of Factory A & C, hence, there are 0% changes in no. of Barrels requirement in case of Factory A & C. For Factory A & C, the no. of Barrels requirement remains constant**  "
      ],
      "metadata": {
        "id": "nqc6HfMKzWNc"
      }
    },
    {
      "cell_type": "code",
      "source": [
        "# YOUR CODE HERE\n",
        "# Decreasing the production coefficient values for factory B by 3%\n",
        "# Factory B Motor oil: Increased production coefficient value = 4 - 4*0.03 = 4*0.97\n",
        "# Factory B Diesel oil: Increased production coefficient value = 14 - 14*0.03 = 14*0.97\n",
        "# Factory B Gasoline: Increased production coefficient value = 5 - 5*0.03 = 5*0.97\n",
        "A = np.array([[20, 4*0.97, 4], \n",
        "              [10, 14*0.97, 5], \n",
        "              [5, 5*0.97, 12]])\n",
        "\n",
        "b = np.array([6600, 5100, 3100])\n",
        "X8 = solve(A,b)\n",
        "X8_ceil=np.ceil(X8)\n",
        "X8_ceil_int = X8_ceil.astype('int32') # As no. of barrels should be in integer\n",
        "print(\"Factory A: Change in No. of Barrels requirement: \",((X8_ceil_int[0] - X1_ceil_int[0]) / X1_ceil_int[0])*100,\"%\")\n",
        "print(\"Factory B: Change in No. of Barrels requirement: \",((X8_ceil_int[1] - X1_ceil_int[1]) / X1_ceil_int[1])*100,\"%\")\n",
        "print(\"Factory C: Change in No. of Barrels requirement: \",((X8_ceil_int[2] - X1_ceil_int[2]) / X1_ceil_int[2])*100,\"%\")"
      ],
      "metadata": {
        "colab": {
          "base_uri": "https://localhost:8080/"
        },
        "id": "xHd8wzRMzmJl",
        "outputId": "5ff8185a-f842-4cb1-94ff-82a88b7ddaaf"
      },
      "execution_count": 12,
      "outputs": [
        {
          "output_type": "stream",
          "name": "stdout",
          "text": [
            "Factory A: Change in No. of Barrels requirement:  0.0 %\n",
            "Factory B: Change in No. of Barrels requirement:  3.10077519379845 %\n",
            "Factory C: Change in No. of Barrels requirement:  0.0 %\n"
          ]
        }
      ]
    },
    {
      "cell_type": "markdown",
      "source": [
        "**Conclusion:**\n",
        "**It's observed from the above that as the production coefficient values for Factory B have been decreased by 3%, hence to meet the same demand, the no. of Barrels requirement in Factory B has been increased by around 3%.**\n",
        "**As there are no changes in production coefficients of Factory A & C, hence, there are 0% changes in no. of Barrels requirement in case of Factory A & C. For Factory A & C, the no. of Barrels requirement remains constant** "
      ],
      "metadata": {
        "id": "NAh5IE5x0OXV"
      }
    },
    {
      "cell_type": "markdown",
      "source": [
        "**If the production coefficient in any plant is increased by p% then the no. of Barrels requirement in that plant will be decreased by around p% and vice-versa**"
      ],
      "metadata": {
        "id": "7wppc1qK08lx"
      }
    },
    {
      "cell_type": "markdown",
      "metadata": {
        "id": "JOj5wcxQpzhx"
      },
      "source": [
        "### A Plant Off-Line (1 point)"
      ]
    },
    {
      "cell_type": "markdown",
      "metadata": {
        "id": "Dbm0HcJ7frNz"
      },
      "source": [
        "Suppose factory $C$ is shut down by the EPA (Environmental Protection Agency) temporarily for excessive emissions into the atmosphere. If your demand is as it was originally (6600, 5100, 3100), what would you now say about the companies ability to meet it? What do you recommend they schedule for production now?"
      ]
    },
    {
      "cell_type": "markdown",
      "source": [
        "As Factory C is shut down, hence the production coefficient values for all products in Factory C have to be made 0.\\\n",
        "Hence, the no. of barrels requirement will be only valid for Factory A and Factory B.\\\n",
        "Let's consider $x$ is the no. of Barrels used by Factory $A$ and $y$ is the no. of Barrels used by Factory $B$.\n",
        "\n",
        "Then the linear system equations will be revised as per the following\n",
        "\n",
        "$$Motor\\ oil:\\ \\ \\ 20x + 4y = 6600$$\n",
        "\n",
        "$$Diesel\\ oil:\\ \\ \\ 10x + 14y = 5100$$\n",
        "\n",
        "$$Gasoline:\\ \\ \\ 5x + 5y = 3100$$\n",
        "\n"
      ],
      "metadata": {
        "id": "PnNbC-jL3OFj"
      }
    },
    {
      "cell_type": "code",
      "metadata": {
        "id": "gpbtzvrVAST3",
        "colab": {
          "base_uri": "https://localhost:8080/"
        },
        "outputId": "564b0709-703b-436d-de60-f0a844e4bebe"
      },
      "source": [
        "# YOUR CODE HERE\n",
        "# For the above linear system of 3 equations, we try to solve Ax = b\n",
        "A = np.array([[20, 4], [10, 14], [5, 5]]) # Gallons/Barrel\n",
        "b = np.array([6600, 5100, 3100]) # Gallons\n",
        "try:\n",
        "    X9 = solve(A,b)\n",
        "except:\n",
        "    print(\"Input matrix A needs to be a square matrix.\")\n",
        "    print(\"The linear system has 3 linearly independent equations but 2 unknown variables x and y. Hence, it's an overdetermined system.\")\n",
        "    print(\"We need to find the solution by taking 2 equations at a time\")"
      ],
      "execution_count": 13,
      "outputs": [
        {
          "output_type": "stream",
          "name": "stdout",
          "text": [
            "Input matrix A needs to be a square matrix.\n",
            "The linear system has 3 linearly independent equations but 2 unknown variables x and y. Hence, it's an overdetermined system.\n",
            "We need to find the solution by taking 2 equations at a time\n"
          ]
        }
      ]
    },
    {
      "cell_type": "code",
      "source": [
        "# By taking 1st and 2nd equations, we try to solve Ax = b\n",
        "A = np.array([[20, 4], [10, 14]])\n",
        "b = np.array([6600, 5100])\n",
        "try:\n",
        "    X9 = solve(A,b)\n",
        "except:\n",
        "    print(\"Input matrix A needs to be a square matrix.\")\n",
        "    print(\"The linear system has 3 linearly independent equations but 2 unknown variables x and y. Hence, it's an overdetermined system.\")\n",
        "    print(\"We need to find the solution by taking 2 equations at a time\")\n",
        "X9_ceil=np.ceil(X9)\n",
        "X9_ceil_int = X9_ceil.astype('int32') # As no. of barrels should be in integer\n",
        "print(\"Solution-1:\")\n",
        "print(\"No. of Barrels required to get in Factory A: \",X9_ceil_int[0])\n",
        "print(\"No. of Barrels required to get in Factory B: \",X9_ceil_int[1])"
      ],
      "metadata": {
        "colab": {
          "base_uri": "https://localhost:8080/"
        },
        "id": "kFYceTYA-YjH",
        "outputId": "a3634433-c2bb-4d1d-a15c-01df90bc22df"
      },
      "execution_count": 14,
      "outputs": [
        {
          "output_type": "stream",
          "name": "stdout",
          "text": [
            "Solution-1:\n",
            "No. of Barrels required to get in Factory A:  300\n",
            "No. of Barrels required to get in Factory B:  150\n"
          ]
        }
      ]
    },
    {
      "cell_type": "code",
      "source": [
        "# By taking 1st and 3rd equations, we try to solve Ax = b\n",
        "A = np.array([[20, 4], [5, 5]])\n",
        "b = np.array([6600, 3100])\n",
        "try:\n",
        "    X10 = solve(A,b)\n",
        "except:\n",
        "    print(\"Input matrix A needs to be a square matrix.\")\n",
        "    print(\"The linear system has 3 linearly independent equations but 2 unknown variables x and y. Hence, it's an overdetermined system.\")\n",
        "    print(\"We need to find the solution by taking 2 equations at a time\")\n",
        "X10_ceil=np.ceil(X10)\n",
        "X10_ceil_int = X10_ceil.astype('int32') # As no. of barrels should be in integer\n",
        "print(\"Solution-2:\")\n",
        "print(\"No. of Barrels required to get in Factory A: \",X10_ceil_int[0])\n",
        "print(\"No. of Barrels required to get in Factory B: \",X10_ceil_int[1])"
      ],
      "metadata": {
        "colab": {
          "base_uri": "https://localhost:8080/"
        },
        "id": "JIbFyzXQEeHy",
        "outputId": "fb636901-4770-4cc9-d86c-4f3271af892e"
      },
      "execution_count": 15,
      "outputs": [
        {
          "output_type": "stream",
          "name": "stdout",
          "text": [
            "Solution-2:\n",
            "No. of Barrels required to get in Factory A:  258\n",
            "No. of Barrels required to get in Factory B:  363\n"
          ]
        }
      ]
    },
    {
      "cell_type": "code",
      "source": [
        "# By taking 2nd and 3rd equations, we try to solve Ax = b\n",
        "A = np.array([[10, 14], [5, 5]])\n",
        "b = np.array([5100, 3100])\n",
        "try:\n",
        "    X11 = solve(A,b)\n",
        "except:\n",
        "    print(\"Input matrix A needs to be a square matrix.\")\n",
        "    print(\"The linear system has 3 linearly independent equations but 2 unknown variables x and y. Hence, it's an overdetermined system.\")\n",
        "    print(\"We need to find the solution by taking 2 equations at a time\")\n",
        "X11_ceil=np.ceil(X11)\n",
        "X11_ceil_int = X11_ceil.astype('int32') # As no. of barrels should be in integer\n",
        "print(\"Solution-3:\")\n",
        "print(\"No. of Barrels required to get in Factory A: \",X11_ceil_int[0])\n",
        "print(\"No. of Barrels required to get in Factory B: \",X11_ceil_int[1])"
      ],
      "metadata": {
        "colab": {
          "base_uri": "https://localhost:8080/"
        },
        "id": "9ivzozl1AEWY",
        "outputId": "387146ca-1d88-4253-f205-49df78e720f4"
      },
      "execution_count": 16,
      "outputs": [
        {
          "output_type": "stream",
          "name": "stdout",
          "text": [
            "Solution-3:\n",
            "No. of Barrels required to get in Factory A:  895\n",
            "No. of Barrels required to get in Factory B:  -275\n"
          ]
        }
      ]
    },
    {
      "cell_type": "markdown",
      "source": [
        "**We observe No. of Barrels required to get in Factory B is a negative entity. But, the No. of Barrels can't be negative. Hence, the Solution-3 is not the valid one if we consider 2nd and 3rd equations**"
      ],
      "metadata": {
        "id": "YumKnttNAycG"
      }
    },
    {
      "cell_type": "markdown",
      "source": [
        "**Considering all the 3 solutions (i.e., Solution-1, 2 & 3), we see that there is no unique solution of (x & y) which can simultaneously be satisfying all the 3 linear system equations**"
      ],
      "metadata": {
        "id": "xRZGFb1RFMOH"
      }
    },
    {
      "cell_type": "code",
      "source": [
        "# Prove: Checking whether Ax = b does have unique solution or not\n",
        "from sympy import *\n",
        "A_aug = Matrix([[20, 4, 6600], [10, 14, 5100], [5, 5, 3100]])\n",
        "A_aug.rref()"
      ],
      "metadata": {
        "colab": {
          "base_uri": "https://localhost:8080/"
        },
        "id": "vVNCPUbPFnec",
        "outputId": "fb0d7a40-63be-419d-ec02-b6492e24136b"
      },
      "execution_count": 17,
      "outputs": [
        {
          "output_type": "execute_result",
          "data": {
            "text/plain": [
              "(Matrix([\n",
              " [1, 0, 0],\n",
              " [0, 1, 0],\n",
              " [0, 0, 1]]), (0, 1, 2))"
            ]
          },
          "metadata": {},
          "execution_count": 17
        }
      ]
    },
    {
      "cell_type": "markdown",
      "source": [
        "**From the above row reduced echelon form, the last row shows 0 = 1 which is never possible. Hence this system of linear equations has no unique solution.**"
      ],
      "metadata": {
        "id": "G2410upKHzS7"
      }
    },
    {
      "cell_type": "markdown",
      "metadata": {
        "id": "tZpzEVmEpzhx"
      },
      "source": [
        "### Buying another plant"
      ]
    },
    {
      "cell_type": "markdown",
      "metadata": {
        "id": "X0ghbS-s3Mel"
      },
      "source": [
        "####(Note the following given information. You will see questions in continuation to this, in the subsequent sections) \n",
        "\n",
        "This situation has caused enough concern that the CEO is considering buying another plant, identical to the third, and using it permanently. Assuming that all 4 plants are on line, what production do you recommend to meet the current demand (5000, 8500, 10000)? In general, what can you say about any increased flexibility that the 4th plant might provide?"
      ]
    },
    {
      "cell_type": "markdown",
      "metadata": {
        "id": "IcbiTq8zpzhx"
      },
      "source": [
        "Let the number of barrels used by factory $A$, $B$, $C$ and $D$ are $x$, $y$, $z$ and $w$ respectively.\n",
        "\n",
        "Then the system of linear equations will be\n",
        "\n",
        "$$20x + 4y + 4z + 4w = 5000$$\n",
        "\n",
        "$$10x + 14y + 5z + 5w = 8500$$\n",
        "\n",
        "$$5x + 5y + 12z + 12w = 10000$$\n",
        "\n",
        "The above system of linear equation has fewer equations than variables, hence it is *underdetermined* and cannot have a unique solution. In this case, there are either infinitely many solutions or no exact solution. We can solve it by keeping $w$ as constant and using [rref](http://linear.ups.edu/html/section-RREF.html) form to solve the system of linear equation.\n",
        "\n",
        "To know about rref implementation in python refer [here](https://docs.sympy.org/latest/tutorial/matrices.html#rref)."
      ]
    },
    {
      "cell_type": "code",
      "metadata": {
        "colab": {
          "base_uri": "https://localhost:8080/"
        },
        "id": "DnCYG65tB8gp",
        "outputId": "318c8cc7-bf69-401a-dc3c-f20ec4ed33de"
      },
      "source": [
        "import sympy as sy\n",
        "\n",
        "# create symbol 'w'\n",
        "w = sy.Symbol(\"w\")            \n",
        "A_aug = sy.Matrix([[20, 4, 4, 5000-4*w], \n",
        "                   [10, 14, 5, 8500-5*w], \n",
        "                   [5, 5, 12, 10000-12*w]])\n",
        "# show rref form\n",
        "A_aug.rref()                  "
      ],
      "execution_count": 18,
      "outputs": [
        {
          "output_type": "execute_result",
          "data": {
            "text/plain": [
              "(Matrix([\n",
              " [1, 0, 0,   195/4],\n",
              " [0, 1, 0,  1325/4],\n",
              " [0, 0, 1, 675 - w]]), (0, 1, 2))"
            ]
          },
          "metadata": {},
          "execution_count": 18
        }
      ]
    },
    {
      "cell_type": "markdown",
      "metadata": {
        "id": "1lcEL3n5pzhz"
      },
      "source": [
        "From the above result, it can be seen that 4th plant will share the number of barrels required by the 3rd plant only, while the requirement of 1st and 2nd plant will remain unaffected."
      ]
    },
    {
      "cell_type": "markdown",
      "metadata": {
        "id": "yE9hCfAMpzhz"
      },
      "source": [
        "### Calculate the amount of Paraffin supplied (1 point)"
      ]
    },
    {
      "cell_type": "markdown",
      "metadata": {
        "id": "u9HSGUeZquXD"
      },
      "source": [
        "The company has just found a candle company that will buy its paraffin. Under the current conditions (i.e, after buying another plant) for demand (5000, 8500, 10000), how much can be supplied to them per day?"
      ]
    },
    {
      "cell_type": "markdown",
      "metadata": {
        "id": "ilEui1GHA3Oh"
      },
      "source": [
        "According to the problem statement, factory $A$ has 3 gallons of paraffin to dispose of per barrel of crude oil, factory $B$ 5 gallons, and factory $C$ 2 gallons."
      ]
    },
    {
      "cell_type": "code",
      "metadata": {
        "id": "gJnUalG2_r0i",
        "colab": {
          "base_uri": "https://localhost:8080/"
        },
        "outputId": "adc7972d-66c0-4fbb-b537-9aa090ac57a8"
      },
      "source": [
        "# YOUR CODE HERE\n",
        "import sympy as sy\n",
        "\n",
        "# create symbol 'w'\n",
        "w = sy.Symbol(\"w\")          \n",
        "A_aug = sy.Matrix([[20, 4, 4, 5000-4*w], \n",
        "                   [10, 14, 5, 8500-5*w], \n",
        "                   [5, 5, 12, 10000-12*w]])\n",
        "# show rref form\n",
        "A_aug.rref()                "
      ],
      "execution_count": 19,
      "outputs": [
        {
          "output_type": "execute_result",
          "data": {
            "text/plain": [
              "(Matrix([\n",
              " [1, 0, 0,   195/4],\n",
              " [0, 1, 0,  1325/4],\n",
              " [0, 0, 1, 675 - w]]), (0, 1, 2))"
            ]
          },
          "metadata": {},
          "execution_count": 19
        }
      ]
    },
    {
      "cell_type": "markdown",
      "source": [
        "From the above row reduced echelon form, it's observed\\\n",
        "x = 195/4\n",
        "\n",
        "y = 1325/4\n",
        "\n",
        "z = 675 - w\n",
        "\n",
        "or, z + w = 675\n",
        "\n",
        "**It does imply that z and w together share the no. of Barrels = 675**\\\n",
        "**That means Factory C and D together require no. of Barrels = 675**\\\n",
        "**The requirement of no. of Barrels in Factory A = np.ceil(195/4) = 49**\\\n",
        "**The requirement of no. of Barrels in Factory B = np.ceil(1325/4) = 332**\n"
      ],
      "metadata": {
        "id": "kIseTeipsrE_"
      }
    },
    {
      "cell_type": "code",
      "source": [
        "RREF_coeff_matrix = A_aug.rref()[0]\n",
        "x_solution = RREF_coeff_matrix[0,3]\n",
        "y_solution = RREF_coeff_matrix[1,3]\n",
        "z_solution = RREF_coeff_matrix[2,3]\n",
        "z_plus_w_solution = z_solution + w\n",
        "Paraffin_disposal_Factory_A = np.ceil(x_solution) * 3\n",
        "Paraffin_disposal_Factory_B = np.ceil(y_solution) * 5\n",
        "Paraffin_disposal_Factory_C_and_D = np.ceil(z_plus_w_solution) * 2\n",
        "Paraffin_delivery_per_day = Paraffin_disposal_Factory_A + Paraffin_disposal_Factory_B + Paraffin_disposal_Factory_C_and_D\n",
        "print(\"Paraffin delivery per day to the candle company= \",Paraffin_delivery_per_day,\"Gallons\")"
      ],
      "metadata": {
        "colab": {
          "base_uri": "https://localhost:8080/"
        },
        "id": "BnzvjovGOnhu",
        "outputId": "b6ab4412-2672-474f-ab62-f95148dfd043"
      },
      "execution_count": 20,
      "outputs": [
        {
          "output_type": "stream",
          "name": "stdout",
          "text": [
            "Paraffin delivery per day to the candle company=  3157 Gallons\n"
          ]
        }
      ]
    },
    {
      "cell_type": "markdown",
      "metadata": {
        "id": "sSpnIH4Ypzh0"
      },
      "source": [
        "### Selling the first plant (1 point)"
      ]
    },
    {
      "cell_type": "markdown",
      "metadata": {
        "id": "8l3c1GN14EDp"
      },
      "source": [
        "The management is also considering selling the first plant due to aging equipment and high workman's compensation costs for the state it is located in. They would like to know what this would do to their production capability. Specifically, they would like an example of a demand they could not meet with only plants 2 and 3, and also what effect having plant 4 has (recall it is identical to plant 3). They would also like an example of a demand that they could meet with just plants 2 and 3. Any general statements you could make here would be helpful."
      ]
    },
    {
      "cell_type": "markdown",
      "metadata": {
        "id": "qYz46wb2GTo7"
      },
      "source": [
        "Let the number of barrels used by factory $B$, $C$ and $D$ are $y$, $z$ and $w$ respectively.\n",
        "\n",
        "When considering only plants 2 and 3, and demand (5000, 8500, 10000) then we have\n",
        "\n",
        "$$4y + 4z = 5000$$\n",
        "\n",
        "$$14y + 5z = 8500$$\n",
        "\n",
        "$$5y + 12z = 10000$$"
      ]
    },
    {
      "cell_type": "code",
      "metadata": {
        "id": "Ru-prbsHGwH_",
        "colab": {
          "base_uri": "https://localhost:8080/"
        },
        "outputId": "ed68f04b-c434-4cdb-975c-afb5eff6ffc6"
      },
      "source": [
        "# YOUR CODE HERE\n",
        "# For the above linear system of 3 equations, we try to solve Ax = b\n",
        "A = np.array([[4, 4], [14, 5], [5, 12]])\n",
        "b = np.array([5000, 8500, 10000])\n",
        "try:\n",
        "    X12 = solve(A,b)\n",
        "except:\n",
        "    print(\"Input matrix A needs to be a square matrix.\")\n",
        "    print(\"The linear system has 3 linearly independent equations but 2 unknown variables y and z. Hence, it's an overdetermined system.\")\n",
        "    print(\"We need to find the solution by taking 2 equations at a time\")"
      ],
      "execution_count": 21,
      "outputs": [
        {
          "output_type": "stream",
          "name": "stdout",
          "text": [
            "Input matrix A needs to be a square matrix.\n",
            "The linear system has 3 linearly independent equations but 2 unknown variables y and z. Hence, it's an overdetermined system.\n",
            "We need to find the solution by taking 2 equations at a time\n"
          ]
        }
      ]
    },
    {
      "cell_type": "code",
      "source": [
        "# By taking 1st and 2nd equations, we try to solve Ax = b\n",
        "from scipy.linalg import solve\n",
        "A = np.array([[4, 4], [14, 5]])\n",
        "b = np.array([5000, 8500])\n",
        "try:\n",
        "    X12 = solve(A,b)\n",
        "except:\n",
        "    print(\"Input matrix A needs to be a square matrix.\")\n",
        "    print(\"The linear system has 3 linearly independent equations but 2 unknown variables y and z. Hence, it's an overdetermined system.\")\n",
        "    print(\"We need to find the solution by taking 2 equations at a time\")\n",
        "X12_ceil=np.ceil(X12)\n",
        "X12_ceil_int = X12_ceil.astype('int32') # As no. of barrels should be in integer\n",
        "print(\"Solution-1:\")\n",
        "print(\"No. of Barrels required to get in Factory B: \",X12_ceil_int[0])\n",
        "print(\"No. of Barrels required to get in Factory C: \",X12_ceil_int[1])"
      ],
      "metadata": {
        "colab": {
          "base_uri": "https://localhost:8080/"
        },
        "id": "Ds0m2kHld5Of",
        "outputId": "65f6cccc-32b9-496e-b318-b2c384c53f41"
      },
      "execution_count": 22,
      "outputs": [
        {
          "output_type": "stream",
          "name": "stdout",
          "text": [
            "Solution-1:\n",
            "No. of Barrels required to get in Factory B:  250\n",
            "No. of Barrels required to get in Factory C:  1000\n"
          ]
        }
      ]
    },
    {
      "cell_type": "code",
      "source": [
        "# By taking 1st and 3rd equations, we try to solve Ax = b\n",
        "A = np.array([[4, 4], [5, 12]])\n",
        "b = np.array([5000, 10000])\n",
        "try:\n",
        "    X13 = solve(A,b)\n",
        "except:\n",
        "    print(\"Input matrix A needs to be a square matrix.\")\n",
        "    print(\"The linear system has 3 linearly independent equations but 2 unknown variables y and z. Hence, it's an overdetermined system.\")\n",
        "    print(\"We need to find the solution by taking 2 equations at a time\")\n",
        "X13_ceil=np.ceil(X13)\n",
        "X13_ceil_int = X13_ceil.astype('int32') # As no. of barrels should be in integer\n",
        "print(\"Solution-2:\")\n",
        "print(\"No. of Barrels required to get in Factory B: \",X13_ceil_int[0])\n",
        "print(\"No. of Barrels required to get in Factory C: \",X13_ceil_int[1])"
      ],
      "metadata": {
        "colab": {
          "base_uri": "https://localhost:8080/"
        },
        "id": "RQ9lAhGDg6bw",
        "outputId": "ac6f9af1-b482-4c51-83a7-8ad056fa7248"
      },
      "execution_count": 23,
      "outputs": [
        {
          "output_type": "stream",
          "name": "stdout",
          "text": [
            "Solution-2:\n",
            "No. of Barrels required to get in Factory B:  715\n",
            "No. of Barrels required to get in Factory C:  536\n"
          ]
        }
      ]
    },
    {
      "cell_type": "code",
      "source": [
        "# By taking 2nd and 3rd equations, we try to solve Ax = b\n",
        "A = np.array([[14, 5], [5, 12]])\n",
        "b = np.array([8500, 10000])\n",
        "try:\n",
        "    X14 = solve(A,b)\n",
        "except:\n",
        "    print(\"Input matrix A needs to be a square matrix.\")\n",
        "    print(\"The linear system has 3 linearly independent equations but 2 unknown variables y and z. Hence, it's an overdetermined system.\")\n",
        "    print(\"We need to find the solution by taking 2 equations at a time\")\n",
        "X14_ceil=np.ceil(X14)\n",
        "X14_ceil_int = X14_ceil.astype('int32') # As no. of barrels should be in integer\n",
        "print(\"Solution-3:\")\n",
        "print(\"No. of Barrels required to get in Factory B: \",X14_ceil_int[0])\n",
        "print(\"No. of Barrels required to get in Factory C: \",X14_ceil_int[1])"
      ],
      "metadata": {
        "colab": {
          "base_uri": "https://localhost:8080/"
        },
        "id": "gW3hUenahcuH",
        "outputId": "b2ebbc27-6986-4ac2-bb98-cd1bb85229d2"
      },
      "execution_count": 24,
      "outputs": [
        {
          "output_type": "stream",
          "name": "stdout",
          "text": [
            "Solution-3:\n",
            "No. of Barrels required to get in Factory B:  364\n",
            "No. of Barrels required to get in Factory C:  682\n"
          ]
        }
      ]
    },
    {
      "cell_type": "markdown",
      "source": [
        "**It's observed that for each pair of linearly independent equations, there exists one solution.\\\n",
        "Solution-1: (250, 1000)\\\n",
        "Solution-2: (715, 536)\\\n",
        "Solution-3: (364, 682)\\\n",
        "Hence, there is no unique solution that can simultaneously satisfy all 3 linearly independent equations.**"
      ],
      "metadata": {
        "id": "21A-9GrwilPH"
      }
    },
    {
      "cell_type": "markdown",
      "metadata": {
        "id": "bLsK1-zNEP0T"
      },
      "source": [
        "Taking 4th plant into consideration.\n",
        "Let the number of barrels used by factory $B$, $C$ and $D$ are $y$, $z$ and $w$ respectively.\n",
        "\n",
        "Then for demand (5000, 8500, 10000) the system of linear equations will be\n",
        "\n",
        "$$4y + 4z + 4w = 5000$$\n",
        "\n",
        "$$14y + 5z + 5w = 8500$$\n",
        "\n",
        "$$5y + 12z + 12w = 10000$$\n",
        "\n",
        "Solve it using rref form."
      ]
    },
    {
      "cell_type": "code",
      "metadata": {
        "id": "5lqPcpJ9F9xx",
        "colab": {
          "base_uri": "https://localhost:8080/"
        },
        "outputId": "660d4e43-5be5-4f8a-9205-62d56d68540c"
      },
      "source": [
        "# YOUR CODE HERE\n",
        "import sympy as sy\n",
        "A_aug = sy.Matrix([[4, 4, 4, 5000], \n",
        "                   [14, 5, 5, 8500], \n",
        "                   [5, 12, 12, 10000]])\n",
        "A_aug.rref()"
      ],
      "execution_count": 25,
      "outputs": [
        {
          "output_type": "execute_result",
          "data": {
            "text/plain": [
              "(Matrix([\n",
              " [1, 0, 0, 0],\n",
              " [0, 1, 1, 0],\n",
              " [0, 0, 0, 1]]), (0, 1, 3))"
            ]
          },
          "metadata": {},
          "execution_count": 25
        }
      ]
    },
    {
      "cell_type": "markdown",
      "source": [
        "**From the above row reduced echelon form, the last row shows 0 = 1 which is never possible. Hence this system of linear equations has no unique solution.**"
      ],
      "metadata": {
        "id": "_blimTeouW8O"
      }
    },
    {
      "cell_type": "markdown",
      "metadata": {
        "id": "u7SDjgFkP5fj"
      },
      "source": [
        "Now, changing demand to (6600, 5100, 3100) and solving the system of equation using rref form."
      ]
    },
    {
      "cell_type": "code",
      "metadata": {
        "id": "nwSpgbqAGlON",
        "colab": {
          "base_uri": "https://localhost:8080/"
        },
        "outputId": "64cc5fc4-a52d-4ce1-d41e-6db6547deaf0"
      },
      "source": [
        "# YOUR CODE HERE\n",
        "import sympy as sy\n",
        "A_aug = sy.Matrix([[4, 4, 4, 6600], \n",
        "                   [14, 5, 5, 5100], \n",
        "                   [5, 12, 12, 3100]])\n",
        "A_aug.rref()"
      ],
      "execution_count": 26,
      "outputs": [
        {
          "output_type": "execute_result",
          "data": {
            "text/plain": [
              "(Matrix([\n",
              " [1, 0, 0, 0],\n",
              " [0, 1, 1, 0],\n",
              " [0, 0, 0, 1]]), (0, 1, 3))"
            ]
          },
          "metadata": {},
          "execution_count": 26
        }
      ]
    },
    {
      "cell_type": "markdown",
      "source": [
        "**From the above row reduced echelon form, the last row shows 0 = 1 which is never possible. Hence, the conclusion is even if we change the demands, but still this system of linear equations has no unique solution.**"
      ],
      "metadata": {
        "id": "SUOGTZ5AuyzI"
      }
    },
    {
      "cell_type": "markdown",
      "metadata": {
        "id": "fngUPMK_pzh1"
      },
      "source": [
        "### Set rates for Products (1 point)"
      ]
    },
    {
      "cell_type": "markdown",
      "metadata": {
        "id": "8Go0tQYtpzh1"
      },
      "source": [
        "Company wants to set the rates of motor oil, diesel oil, and gasoline. For this purpose they have few suggestions given as follows: \n",
        "\n",
        "* 100, 66, 102 Rupees per gallon,\n",
        "\n",
        "* 104, 64, 100 Rupees per gallon,\n",
        "\n",
        "* 102, 68, 98 Rupees per gallon, and\n",
        "\n",
        "* 96, 68, 100 Rupees per gallon \n",
        "\n",
        "for motor oil, diesel oil, and gasoline respectively.\n",
        "\n",
        "Using matrix multiplication, find the rates which result in maximum total price."
      ]
    },
    {
      "cell_type": "markdown",
      "metadata": {
        "id": "9yRue5zIpzh1"
      },
      "source": [
        "Let $M$ denote the matrix such that rows represents different plants (A, B and C), columns represents different products (motor oil, diesel oil and gasoline) and each value represents production of that product from one barrel of crude oil for that plant.\n",
        "\n",
        "$$M = \\begin{bmatrix}\n",
        "20 & 10 & 5 \\\\ \n",
        "4 & 14 & 5  \\\\ \n",
        " 4 & 5 & 12  \n",
        "\\end{bmatrix}$$\n",
        "\n",
        "Also, $R$ is a matrix having different rates as its columns.\n",
        "\n",
        "$$R = \\begin{bmatrix}\n",
        "100 & 104 & 102 & 96 \\\\ \n",
        "66 & 64 & 68 & 68  \\\\ \n",
        "102 & 100 & 98 & 100  \n",
        "\\end{bmatrix}$$"
      ]
    },
    {
      "cell_type": "code",
      "metadata": {
        "id": "Sz5Bef3npzh1",
        "colab": {
          "base_uri": "https://localhost:8080/"
        },
        "outputId": "0a660de3-dba2-4146-ec19-579ef4bd37c4"
      },
      "source": [
        "# YOUR CODE HERE\n",
        "# Doing matrix multiplication \n",
        "# Matrix multiplication\n",
        "# Gallons/Barrel matrix (Rows: Products, Columns: Factories)\n",
        "M = np.array([[20, 10, 5], \n",
        "              [4, 14, 5], \n",
        "              [4, 5, 12]])\n",
        "# To put another Pandas dataframe\n",
        "# Rupees/Gallon matrix (Rows: Products, Columns: Factories)\n",
        "R = np.array([[100, 104, 102, 96], \n",
        "              [66, 64, 68, 68], \n",
        "              [102, 100, 98, 100]])\n",
        "# To put another Pandas dataframe\n",
        "Rupees_per_Barrel_matrix = M @ R # [3 x 3].[3 x 4] = [3 x 4]\n",
        "print(\"We get the following matrix which contains the cost (Rs.) per Barrel\")\n",
        "Rupees_per_Barrel_matrix # [3 x 4]"
      ],
      "execution_count": 27,
      "outputs": [
        {
          "output_type": "stream",
          "name": "stdout",
          "text": [
            "We get the following matrix which contains the cost (Rs.) per Barrel\n"
          ]
        },
        {
          "output_type": "execute_result",
          "data": {
            "text/plain": [
              "array([[3170, 3220, 3210, 3100],\n",
              "       [1834, 1812, 1850, 1836],\n",
              "       [1954, 1936, 1924, 1924]])"
            ]
          },
          "metadata": {},
          "execution_count": 27
        }
      ]
    },
    {
      "cell_type": "code",
      "source": [
        "import numpy as np\n",
        "import pandas as pd\n",
        "# converting Gallons/Barrel matrix to pandas dataframe for visualization\n",
        "Gallons_per_Barrel_matrix = M\n",
        "df_M = pd.DataFrame(data = Gallons_per_Barrel_matrix, index =[\"Motor oil (Gallons/Barrel)\", \"Diesel oil (Gallons/Barrel)\", \"Gasoline (Gallons/Barrel)\"], \n",
        "                  columns =[\"Factory A\", \"Factory B\", \"Factory C\"])\n",
        "  \n",
        "print(\"\\nPandas DataFrame to visualize factory with production co-efficients: \")\n",
        "df_M"
      ],
      "metadata": {
        "colab": {
          "base_uri": "https://localhost:8080/",
          "height": 178
        },
        "id": "tZzhbAn6iIE3",
        "outputId": "7ff0d2c6-4c48-4d54-a0fe-4806494dbb2b"
      },
      "execution_count": 28,
      "outputs": [
        {
          "output_type": "stream",
          "name": "stdout",
          "text": [
            "\n",
            "Pandas DataFrame to visualize factory with production co-efficients: \n"
          ]
        },
        {
          "output_type": "execute_result",
          "data": {
            "text/plain": [
              "                             Factory A  Factory B  Factory C\n",
              "Motor oil (Gallons/Barrel)          20         10          5\n",
              "Diesel oil (Gallons/Barrel)          4         14          5\n",
              "Gasoline (Gallons/Barrel)            4          5         12"
            ],
            "text/html": [
              "\n",
              "  <div id=\"df-4a5c21f7-6e93-44e0-b67c-50047eb566ce\">\n",
              "    <div class=\"colab-df-container\">\n",
              "      <div>\n",
              "<style scoped>\n",
              "    .dataframe tbody tr th:only-of-type {\n",
              "        vertical-align: middle;\n",
              "    }\n",
              "\n",
              "    .dataframe tbody tr th {\n",
              "        vertical-align: top;\n",
              "    }\n",
              "\n",
              "    .dataframe thead th {\n",
              "        text-align: right;\n",
              "    }\n",
              "</style>\n",
              "<table border=\"1\" class=\"dataframe\">\n",
              "  <thead>\n",
              "    <tr style=\"text-align: right;\">\n",
              "      <th></th>\n",
              "      <th>Factory A</th>\n",
              "      <th>Factory B</th>\n",
              "      <th>Factory C</th>\n",
              "    </tr>\n",
              "  </thead>\n",
              "  <tbody>\n",
              "    <tr>\n",
              "      <th>Motor oil (Gallons/Barrel)</th>\n",
              "      <td>20</td>\n",
              "      <td>10</td>\n",
              "      <td>5</td>\n",
              "    </tr>\n",
              "    <tr>\n",
              "      <th>Diesel oil (Gallons/Barrel)</th>\n",
              "      <td>4</td>\n",
              "      <td>14</td>\n",
              "      <td>5</td>\n",
              "    </tr>\n",
              "    <tr>\n",
              "      <th>Gasoline (Gallons/Barrel)</th>\n",
              "      <td>4</td>\n",
              "      <td>5</td>\n",
              "      <td>12</td>\n",
              "    </tr>\n",
              "  </tbody>\n",
              "</table>\n",
              "</div>\n",
              "      <button class=\"colab-df-convert\" onclick=\"convertToInteractive('df-4a5c21f7-6e93-44e0-b67c-50047eb566ce')\"\n",
              "              title=\"Convert this dataframe to an interactive table.\"\n",
              "              style=\"display:none;\">\n",
              "        \n",
              "  <svg xmlns=\"http://www.w3.org/2000/svg\" height=\"24px\"viewBox=\"0 0 24 24\"\n",
              "       width=\"24px\">\n",
              "    <path d=\"M0 0h24v24H0V0z\" fill=\"none\"/>\n",
              "    <path d=\"M18.56 5.44l.94 2.06.94-2.06 2.06-.94-2.06-.94-.94-2.06-.94 2.06-2.06.94zm-11 1L8.5 8.5l.94-2.06 2.06-.94-2.06-.94L8.5 2.5l-.94 2.06-2.06.94zm10 10l.94 2.06.94-2.06 2.06-.94-2.06-.94-.94-2.06-.94 2.06-2.06.94z\"/><path d=\"M17.41 7.96l-1.37-1.37c-.4-.4-.92-.59-1.43-.59-.52 0-1.04.2-1.43.59L10.3 9.45l-7.72 7.72c-.78.78-.78 2.05 0 2.83L4 21.41c.39.39.9.59 1.41.59.51 0 1.02-.2 1.41-.59l7.78-7.78 2.81-2.81c.8-.78.8-2.07 0-2.86zM5.41 20L4 18.59l7.72-7.72 1.47 1.35L5.41 20z\"/>\n",
              "  </svg>\n",
              "      </button>\n",
              "      \n",
              "  <style>\n",
              "    .colab-df-container {\n",
              "      display:flex;\n",
              "      flex-wrap:wrap;\n",
              "      gap: 12px;\n",
              "    }\n",
              "\n",
              "    .colab-df-convert {\n",
              "      background-color: #E8F0FE;\n",
              "      border: none;\n",
              "      border-radius: 50%;\n",
              "      cursor: pointer;\n",
              "      display: none;\n",
              "      fill: #1967D2;\n",
              "      height: 32px;\n",
              "      padding: 0 0 0 0;\n",
              "      width: 32px;\n",
              "    }\n",
              "\n",
              "    .colab-df-convert:hover {\n",
              "      background-color: #E2EBFA;\n",
              "      box-shadow: 0px 1px 2px rgba(60, 64, 67, 0.3), 0px 1px 3px 1px rgba(60, 64, 67, 0.15);\n",
              "      fill: #174EA6;\n",
              "    }\n",
              "\n",
              "    [theme=dark] .colab-df-convert {\n",
              "      background-color: #3B4455;\n",
              "      fill: #D2E3FC;\n",
              "    }\n",
              "\n",
              "    [theme=dark] .colab-df-convert:hover {\n",
              "      background-color: #434B5C;\n",
              "      box-shadow: 0px 1px 3px 1px rgba(0, 0, 0, 0.15);\n",
              "      filter: drop-shadow(0px 1px 2px rgba(0, 0, 0, 0.3));\n",
              "      fill: #FFFFFF;\n",
              "    }\n",
              "  </style>\n",
              "\n",
              "      <script>\n",
              "        const buttonEl =\n",
              "          document.querySelector('#df-4a5c21f7-6e93-44e0-b67c-50047eb566ce button.colab-df-convert');\n",
              "        buttonEl.style.display =\n",
              "          google.colab.kernel.accessAllowed ? 'block' : 'none';\n",
              "\n",
              "        async function convertToInteractive(key) {\n",
              "          const element = document.querySelector('#df-4a5c21f7-6e93-44e0-b67c-50047eb566ce');\n",
              "          const dataTable =\n",
              "            await google.colab.kernel.invokeFunction('convertToInteractive',\n",
              "                                                     [key], {});\n",
              "          if (!dataTable) return;\n",
              "\n",
              "          const docLinkHtml = 'Like what you see? Visit the ' +\n",
              "            '<a target=\"_blank\" href=https://colab.research.google.com/notebooks/data_table.ipynb>data table notebook</a>'\n",
              "            + ' to learn more about interactive tables.';\n",
              "          element.innerHTML = '';\n",
              "          dataTable['output_type'] = 'display_data';\n",
              "          await google.colab.output.renderOutput(dataTable, element);\n",
              "          const docLink = document.createElement('div');\n",
              "          docLink.innerHTML = docLinkHtml;\n",
              "          element.appendChild(docLink);\n",
              "        }\n",
              "      </script>\n",
              "    </div>\n",
              "  </div>\n",
              "  "
            ]
          },
          "metadata": {},
          "execution_count": 28
        }
      ]
    },
    {
      "cell_type": "code",
      "source": [
        "import numpy as np\n",
        "import pandas as pd\n",
        "# converting Gallons/Barrel matrix to pandas dataframe for visualization\n",
        "Rupees_per_Gallon_matrix = R\n",
        "df_R = pd.DataFrame(data = Rupees_per_Gallon_matrix, index =[\"Motor oil (Rs./Gallon)\", \"Diesel oil (Rs./Gallon)\", \"Gasoline (Rs./Gallon)\"], \n",
        "                  columns =[\"Factory A\", \"Factory B\", \"Factory C\", \"Factory D\"])\n",
        "  \n",
        "print(\"\\nPandas DataFrame to visualize factory wise rate for all products: \")\n",
        "df_R"
      ],
      "metadata": {
        "colab": {
          "base_uri": "https://localhost:8080/",
          "height": 178
        },
        "id": "yO6ABOHIjhU-",
        "outputId": "cea051a4-6c3a-4db8-b142-6b07a94e0066"
      },
      "execution_count": 29,
      "outputs": [
        {
          "output_type": "stream",
          "name": "stdout",
          "text": [
            "\n",
            "Pandas DataFrame to visualize factory wise rate for all products: \n"
          ]
        },
        {
          "output_type": "execute_result",
          "data": {
            "text/plain": [
              "                         Factory A  Factory B  Factory C  Factory D\n",
              "Motor oil (Rs./Gallon)         100        104        102         96\n",
              "Diesel oil (Rs./Gallon)         66         64         68         68\n",
              "Gasoline (Rs./Gallon)          102        100         98        100"
            ],
            "text/html": [
              "\n",
              "  <div id=\"df-783d95cb-2c6b-4865-a3e7-bb7c7cb167f1\">\n",
              "    <div class=\"colab-df-container\">\n",
              "      <div>\n",
              "<style scoped>\n",
              "    .dataframe tbody tr th:only-of-type {\n",
              "        vertical-align: middle;\n",
              "    }\n",
              "\n",
              "    .dataframe tbody tr th {\n",
              "        vertical-align: top;\n",
              "    }\n",
              "\n",
              "    .dataframe thead th {\n",
              "        text-align: right;\n",
              "    }\n",
              "</style>\n",
              "<table border=\"1\" class=\"dataframe\">\n",
              "  <thead>\n",
              "    <tr style=\"text-align: right;\">\n",
              "      <th></th>\n",
              "      <th>Factory A</th>\n",
              "      <th>Factory B</th>\n",
              "      <th>Factory C</th>\n",
              "      <th>Factory D</th>\n",
              "    </tr>\n",
              "  </thead>\n",
              "  <tbody>\n",
              "    <tr>\n",
              "      <th>Motor oil (Rs./Gallon)</th>\n",
              "      <td>100</td>\n",
              "      <td>104</td>\n",
              "      <td>102</td>\n",
              "      <td>96</td>\n",
              "    </tr>\n",
              "    <tr>\n",
              "      <th>Diesel oil (Rs./Gallon)</th>\n",
              "      <td>66</td>\n",
              "      <td>64</td>\n",
              "      <td>68</td>\n",
              "      <td>68</td>\n",
              "    </tr>\n",
              "    <tr>\n",
              "      <th>Gasoline (Rs./Gallon)</th>\n",
              "      <td>102</td>\n",
              "      <td>100</td>\n",
              "      <td>98</td>\n",
              "      <td>100</td>\n",
              "    </tr>\n",
              "  </tbody>\n",
              "</table>\n",
              "</div>\n",
              "      <button class=\"colab-df-convert\" onclick=\"convertToInteractive('df-783d95cb-2c6b-4865-a3e7-bb7c7cb167f1')\"\n",
              "              title=\"Convert this dataframe to an interactive table.\"\n",
              "              style=\"display:none;\">\n",
              "        \n",
              "  <svg xmlns=\"http://www.w3.org/2000/svg\" height=\"24px\"viewBox=\"0 0 24 24\"\n",
              "       width=\"24px\">\n",
              "    <path d=\"M0 0h24v24H0V0z\" fill=\"none\"/>\n",
              "    <path d=\"M18.56 5.44l.94 2.06.94-2.06 2.06-.94-2.06-.94-.94-2.06-.94 2.06-2.06.94zm-11 1L8.5 8.5l.94-2.06 2.06-.94-2.06-.94L8.5 2.5l-.94 2.06-2.06.94zm10 10l.94 2.06.94-2.06 2.06-.94-2.06-.94-.94-2.06-.94 2.06-2.06.94z\"/><path d=\"M17.41 7.96l-1.37-1.37c-.4-.4-.92-.59-1.43-.59-.52 0-1.04.2-1.43.59L10.3 9.45l-7.72 7.72c-.78.78-.78 2.05 0 2.83L4 21.41c.39.39.9.59 1.41.59.51 0 1.02-.2 1.41-.59l7.78-7.78 2.81-2.81c.8-.78.8-2.07 0-2.86zM5.41 20L4 18.59l7.72-7.72 1.47 1.35L5.41 20z\"/>\n",
              "  </svg>\n",
              "      </button>\n",
              "      \n",
              "  <style>\n",
              "    .colab-df-container {\n",
              "      display:flex;\n",
              "      flex-wrap:wrap;\n",
              "      gap: 12px;\n",
              "    }\n",
              "\n",
              "    .colab-df-convert {\n",
              "      background-color: #E8F0FE;\n",
              "      border: none;\n",
              "      border-radius: 50%;\n",
              "      cursor: pointer;\n",
              "      display: none;\n",
              "      fill: #1967D2;\n",
              "      height: 32px;\n",
              "      padding: 0 0 0 0;\n",
              "      width: 32px;\n",
              "    }\n",
              "\n",
              "    .colab-df-convert:hover {\n",
              "      background-color: #E2EBFA;\n",
              "      box-shadow: 0px 1px 2px rgba(60, 64, 67, 0.3), 0px 1px 3px 1px rgba(60, 64, 67, 0.15);\n",
              "      fill: #174EA6;\n",
              "    }\n",
              "\n",
              "    [theme=dark] .colab-df-convert {\n",
              "      background-color: #3B4455;\n",
              "      fill: #D2E3FC;\n",
              "    }\n",
              "\n",
              "    [theme=dark] .colab-df-convert:hover {\n",
              "      background-color: #434B5C;\n",
              "      box-shadow: 0px 1px 3px 1px rgba(0, 0, 0, 0.15);\n",
              "      filter: drop-shadow(0px 1px 2px rgba(0, 0, 0, 0.3));\n",
              "      fill: #FFFFFF;\n",
              "    }\n",
              "  </style>\n",
              "\n",
              "      <script>\n",
              "        const buttonEl =\n",
              "          document.querySelector('#df-783d95cb-2c6b-4865-a3e7-bb7c7cb167f1 button.colab-df-convert');\n",
              "        buttonEl.style.display =\n",
              "          google.colab.kernel.accessAllowed ? 'block' : 'none';\n",
              "\n",
              "        async function convertToInteractive(key) {\n",
              "          const element = document.querySelector('#df-783d95cb-2c6b-4865-a3e7-bb7c7cb167f1');\n",
              "          const dataTable =\n",
              "            await google.colab.kernel.invokeFunction('convertToInteractive',\n",
              "                                                     [key], {});\n",
              "          if (!dataTable) return;\n",
              "\n",
              "          const docLinkHtml = 'Like what you see? Visit the ' +\n",
              "            '<a target=\"_blank\" href=https://colab.research.google.com/notebooks/data_table.ipynb>data table notebook</a>'\n",
              "            + ' to learn more about interactive tables.';\n",
              "          element.innerHTML = '';\n",
              "          dataTable['output_type'] = 'display_data';\n",
              "          await google.colab.output.renderOutput(dataTable, element);\n",
              "          const docLink = document.createElement('div');\n",
              "          docLink.innerHTML = docLinkHtml;\n",
              "          element.appendChild(docLink);\n",
              "        }\n",
              "      </script>\n",
              "    </div>\n",
              "  </div>\n",
              "  "
            ]
          },
          "metadata": {},
          "execution_count": 29
        }
      ]
    },
    {
      "cell_type": "code",
      "source": [
        "import numpy as np\n",
        "import pandas as pd\n",
        "# converting Rs./Barrel matrix to pandas dataframe for visualization\n",
        "df = pd.DataFrame(data = Rupees_per_Barrel_matrix, index =[\"Motor oil (Rs./Barrel)\", \"Diesel oil (Rs./Barrel)\", \"Gasoline (Rs./Barrel)\"], \n",
        "                  columns =[\"Factory A\", \"Factory B\", \"Factory C\", \"Factory D\"])\n",
        "  \n",
        "print(\"\\nPandas DataFrame to visualize factory with production wise intaking per barrel cost: \")\n",
        "df"
      ],
      "metadata": {
        "colab": {
          "base_uri": "https://localhost:8080/",
          "height": 178
        },
        "id": "ZaHrWsapZ48N",
        "outputId": "9a1ac02a-8dba-4113-f7f1-6e886fe72640"
      },
      "execution_count": 30,
      "outputs": [
        {
          "output_type": "stream",
          "name": "stdout",
          "text": [
            "\n",
            "Pandas DataFrame to visualize factory with production wise intaking per barrel cost: \n"
          ]
        },
        {
          "output_type": "execute_result",
          "data": {
            "text/plain": [
              "                         Factory A  Factory B  Factory C  Factory D\n",
              "Motor oil (Rs./Barrel)        3170       3220       3210       3100\n",
              "Diesel oil (Rs./Barrel)       1834       1812       1850       1836\n",
              "Gasoline (Rs./Barrel)         1954       1936       1924       1924"
            ],
            "text/html": [
              "\n",
              "  <div id=\"df-a7bb0411-7f9f-483e-bef9-769c37fc8588\">\n",
              "    <div class=\"colab-df-container\">\n",
              "      <div>\n",
              "<style scoped>\n",
              "    .dataframe tbody tr th:only-of-type {\n",
              "        vertical-align: middle;\n",
              "    }\n",
              "\n",
              "    .dataframe tbody tr th {\n",
              "        vertical-align: top;\n",
              "    }\n",
              "\n",
              "    .dataframe thead th {\n",
              "        text-align: right;\n",
              "    }\n",
              "</style>\n",
              "<table border=\"1\" class=\"dataframe\">\n",
              "  <thead>\n",
              "    <tr style=\"text-align: right;\">\n",
              "      <th></th>\n",
              "      <th>Factory A</th>\n",
              "      <th>Factory B</th>\n",
              "      <th>Factory C</th>\n",
              "      <th>Factory D</th>\n",
              "    </tr>\n",
              "  </thead>\n",
              "  <tbody>\n",
              "    <tr>\n",
              "      <th>Motor oil (Rs./Barrel)</th>\n",
              "      <td>3170</td>\n",
              "      <td>3220</td>\n",
              "      <td>3210</td>\n",
              "      <td>3100</td>\n",
              "    </tr>\n",
              "    <tr>\n",
              "      <th>Diesel oil (Rs./Barrel)</th>\n",
              "      <td>1834</td>\n",
              "      <td>1812</td>\n",
              "      <td>1850</td>\n",
              "      <td>1836</td>\n",
              "    </tr>\n",
              "    <tr>\n",
              "      <th>Gasoline (Rs./Barrel)</th>\n",
              "      <td>1954</td>\n",
              "      <td>1936</td>\n",
              "      <td>1924</td>\n",
              "      <td>1924</td>\n",
              "    </tr>\n",
              "  </tbody>\n",
              "</table>\n",
              "</div>\n",
              "      <button class=\"colab-df-convert\" onclick=\"convertToInteractive('df-a7bb0411-7f9f-483e-bef9-769c37fc8588')\"\n",
              "              title=\"Convert this dataframe to an interactive table.\"\n",
              "              style=\"display:none;\">\n",
              "        \n",
              "  <svg xmlns=\"http://www.w3.org/2000/svg\" height=\"24px\"viewBox=\"0 0 24 24\"\n",
              "       width=\"24px\">\n",
              "    <path d=\"M0 0h24v24H0V0z\" fill=\"none\"/>\n",
              "    <path d=\"M18.56 5.44l.94 2.06.94-2.06 2.06-.94-2.06-.94-.94-2.06-.94 2.06-2.06.94zm-11 1L8.5 8.5l.94-2.06 2.06-.94-2.06-.94L8.5 2.5l-.94 2.06-2.06.94zm10 10l.94 2.06.94-2.06 2.06-.94-2.06-.94-.94-2.06-.94 2.06-2.06.94z\"/><path d=\"M17.41 7.96l-1.37-1.37c-.4-.4-.92-.59-1.43-.59-.52 0-1.04.2-1.43.59L10.3 9.45l-7.72 7.72c-.78.78-.78 2.05 0 2.83L4 21.41c.39.39.9.59 1.41.59.51 0 1.02-.2 1.41-.59l7.78-7.78 2.81-2.81c.8-.78.8-2.07 0-2.86zM5.41 20L4 18.59l7.72-7.72 1.47 1.35L5.41 20z\"/>\n",
              "  </svg>\n",
              "      </button>\n",
              "      \n",
              "  <style>\n",
              "    .colab-df-container {\n",
              "      display:flex;\n",
              "      flex-wrap:wrap;\n",
              "      gap: 12px;\n",
              "    }\n",
              "\n",
              "    .colab-df-convert {\n",
              "      background-color: #E8F0FE;\n",
              "      border: none;\n",
              "      border-radius: 50%;\n",
              "      cursor: pointer;\n",
              "      display: none;\n",
              "      fill: #1967D2;\n",
              "      height: 32px;\n",
              "      padding: 0 0 0 0;\n",
              "      width: 32px;\n",
              "    }\n",
              "\n",
              "    .colab-df-convert:hover {\n",
              "      background-color: #E2EBFA;\n",
              "      box-shadow: 0px 1px 2px rgba(60, 64, 67, 0.3), 0px 1px 3px 1px rgba(60, 64, 67, 0.15);\n",
              "      fill: #174EA6;\n",
              "    }\n",
              "\n",
              "    [theme=dark] .colab-df-convert {\n",
              "      background-color: #3B4455;\n",
              "      fill: #D2E3FC;\n",
              "    }\n",
              "\n",
              "    [theme=dark] .colab-df-convert:hover {\n",
              "      background-color: #434B5C;\n",
              "      box-shadow: 0px 1px 3px 1px rgba(0, 0, 0, 0.15);\n",
              "      filter: drop-shadow(0px 1px 2px rgba(0, 0, 0, 0.3));\n",
              "      fill: #FFFFFF;\n",
              "    }\n",
              "  </style>\n",
              "\n",
              "      <script>\n",
              "        const buttonEl =\n",
              "          document.querySelector('#df-a7bb0411-7f9f-483e-bef9-769c37fc8588 button.colab-df-convert');\n",
              "        buttonEl.style.display =\n",
              "          google.colab.kernel.accessAllowed ? 'block' : 'none';\n",
              "\n",
              "        async function convertToInteractive(key) {\n",
              "          const element = document.querySelector('#df-a7bb0411-7f9f-483e-bef9-769c37fc8588');\n",
              "          const dataTable =\n",
              "            await google.colab.kernel.invokeFunction('convertToInteractive',\n",
              "                                                     [key], {});\n",
              "          if (!dataTable) return;\n",
              "\n",
              "          const docLinkHtml = 'Like what you see? Visit the ' +\n",
              "            '<a target=\"_blank\" href=https://colab.research.google.com/notebooks/data_table.ipynb>data table notebook</a>'\n",
              "            + ' to learn more about interactive tables.';\n",
              "          element.innerHTML = '';\n",
              "          dataTable['output_type'] = 'display_data';\n",
              "          await google.colab.output.renderOutput(dataTable, element);\n",
              "          const docLink = document.createElement('div');\n",
              "          docLink.innerHTML = docLinkHtml;\n",
              "          element.appendChild(docLink);\n",
              "        }\n",
              "      </script>\n",
              "    </div>\n",
              "  </div>\n",
              "  "
            ]
          },
          "metadata": {},
          "execution_count": 30
        }
      ]
    },
    {
      "cell_type": "markdown",
      "source": [
        "**The pandas dataframe (i.e., M*R) contains total prices/Barrel for each product per factory wise, by considering different rates as provided in R matrix.**\n",
        "\n",
        "**We will sum up each column of the pandas dataframe to get the total price per barrel (including all products) for each factory and then we would need to find out those rates for which the total price per Barrel is maximum.**\n",
        "\n"
      ],
      "metadata": {
        "id": "zq8SnBcNXUfG"
      }
    },
    {
      "cell_type": "code",
      "source": [
        "df1 = pd.DataFrame(df.sum(axis=0))\n",
        "df1 = df1.T\n",
        "df1.index = ['Total Price (Rs./Barrel)']\n",
        "df1\n",
        "df2 = pd.concat([df,df1])\n",
        "df2"
      ],
      "metadata": {
        "colab": {
          "base_uri": "https://localhost:8080/",
          "height": 175
        },
        "id": "9rxe7GFUf40-",
        "outputId": "efc9f077-b1c4-432f-dd1d-c2e16a81fe62"
      },
      "execution_count": 31,
      "outputs": [
        {
          "output_type": "execute_result",
          "data": {
            "text/plain": [
              "                          Factory A  Factory B  Factory C  Factory D\n",
              "Motor oil (Rs./Barrel)         3170       3220       3210       3100\n",
              "Diesel oil (Rs./Barrel)        1834       1812       1850       1836\n",
              "Gasoline (Rs./Barrel)          1954       1936       1924       1924\n",
              "Total Price (Rs./Barrel)       6958       6968       6984       6860"
            ],
            "text/html": [
              "\n",
              "  <div id=\"df-562e8704-c4e6-4aa6-84b0-5b157e55d9ca\">\n",
              "    <div class=\"colab-df-container\">\n",
              "      <div>\n",
              "<style scoped>\n",
              "    .dataframe tbody tr th:only-of-type {\n",
              "        vertical-align: middle;\n",
              "    }\n",
              "\n",
              "    .dataframe tbody tr th {\n",
              "        vertical-align: top;\n",
              "    }\n",
              "\n",
              "    .dataframe thead th {\n",
              "        text-align: right;\n",
              "    }\n",
              "</style>\n",
              "<table border=\"1\" class=\"dataframe\">\n",
              "  <thead>\n",
              "    <tr style=\"text-align: right;\">\n",
              "      <th></th>\n",
              "      <th>Factory A</th>\n",
              "      <th>Factory B</th>\n",
              "      <th>Factory C</th>\n",
              "      <th>Factory D</th>\n",
              "    </tr>\n",
              "  </thead>\n",
              "  <tbody>\n",
              "    <tr>\n",
              "      <th>Motor oil (Rs./Barrel)</th>\n",
              "      <td>3170</td>\n",
              "      <td>3220</td>\n",
              "      <td>3210</td>\n",
              "      <td>3100</td>\n",
              "    </tr>\n",
              "    <tr>\n",
              "      <th>Diesel oil (Rs./Barrel)</th>\n",
              "      <td>1834</td>\n",
              "      <td>1812</td>\n",
              "      <td>1850</td>\n",
              "      <td>1836</td>\n",
              "    </tr>\n",
              "    <tr>\n",
              "      <th>Gasoline (Rs./Barrel)</th>\n",
              "      <td>1954</td>\n",
              "      <td>1936</td>\n",
              "      <td>1924</td>\n",
              "      <td>1924</td>\n",
              "    </tr>\n",
              "    <tr>\n",
              "      <th>Total Price (Rs./Barrel)</th>\n",
              "      <td>6958</td>\n",
              "      <td>6968</td>\n",
              "      <td>6984</td>\n",
              "      <td>6860</td>\n",
              "    </tr>\n",
              "  </tbody>\n",
              "</table>\n",
              "</div>\n",
              "      <button class=\"colab-df-convert\" onclick=\"convertToInteractive('df-562e8704-c4e6-4aa6-84b0-5b157e55d9ca')\"\n",
              "              title=\"Convert this dataframe to an interactive table.\"\n",
              "              style=\"display:none;\">\n",
              "        \n",
              "  <svg xmlns=\"http://www.w3.org/2000/svg\" height=\"24px\"viewBox=\"0 0 24 24\"\n",
              "       width=\"24px\">\n",
              "    <path d=\"M0 0h24v24H0V0z\" fill=\"none\"/>\n",
              "    <path d=\"M18.56 5.44l.94 2.06.94-2.06 2.06-.94-2.06-.94-.94-2.06-.94 2.06-2.06.94zm-11 1L8.5 8.5l.94-2.06 2.06-.94-2.06-.94L8.5 2.5l-.94 2.06-2.06.94zm10 10l.94 2.06.94-2.06 2.06-.94-2.06-.94-.94-2.06-.94 2.06-2.06.94z\"/><path d=\"M17.41 7.96l-1.37-1.37c-.4-.4-.92-.59-1.43-.59-.52 0-1.04.2-1.43.59L10.3 9.45l-7.72 7.72c-.78.78-.78 2.05 0 2.83L4 21.41c.39.39.9.59 1.41.59.51 0 1.02-.2 1.41-.59l7.78-7.78 2.81-2.81c.8-.78.8-2.07 0-2.86zM5.41 20L4 18.59l7.72-7.72 1.47 1.35L5.41 20z\"/>\n",
              "  </svg>\n",
              "      </button>\n",
              "      \n",
              "  <style>\n",
              "    .colab-df-container {\n",
              "      display:flex;\n",
              "      flex-wrap:wrap;\n",
              "      gap: 12px;\n",
              "    }\n",
              "\n",
              "    .colab-df-convert {\n",
              "      background-color: #E8F0FE;\n",
              "      border: none;\n",
              "      border-radius: 50%;\n",
              "      cursor: pointer;\n",
              "      display: none;\n",
              "      fill: #1967D2;\n",
              "      height: 32px;\n",
              "      padding: 0 0 0 0;\n",
              "      width: 32px;\n",
              "    }\n",
              "\n",
              "    .colab-df-convert:hover {\n",
              "      background-color: #E2EBFA;\n",
              "      box-shadow: 0px 1px 2px rgba(60, 64, 67, 0.3), 0px 1px 3px 1px rgba(60, 64, 67, 0.15);\n",
              "      fill: #174EA6;\n",
              "    }\n",
              "\n",
              "    [theme=dark] .colab-df-convert {\n",
              "      background-color: #3B4455;\n",
              "      fill: #D2E3FC;\n",
              "    }\n",
              "\n",
              "    [theme=dark] .colab-df-convert:hover {\n",
              "      background-color: #434B5C;\n",
              "      box-shadow: 0px 1px 3px 1px rgba(0, 0, 0, 0.15);\n",
              "      filter: drop-shadow(0px 1px 2px rgba(0, 0, 0, 0.3));\n",
              "      fill: #FFFFFF;\n",
              "    }\n",
              "  </style>\n",
              "\n",
              "      <script>\n",
              "        const buttonEl =\n",
              "          document.querySelector('#df-562e8704-c4e6-4aa6-84b0-5b157e55d9ca button.colab-df-convert');\n",
              "        buttonEl.style.display =\n",
              "          google.colab.kernel.accessAllowed ? 'block' : 'none';\n",
              "\n",
              "        async function convertToInteractive(key) {\n",
              "          const element = document.querySelector('#df-562e8704-c4e6-4aa6-84b0-5b157e55d9ca');\n",
              "          const dataTable =\n",
              "            await google.colab.kernel.invokeFunction('convertToInteractive',\n",
              "                                                     [key], {});\n",
              "          if (!dataTable) return;\n",
              "\n",
              "          const docLinkHtml = 'Like what you see? Visit the ' +\n",
              "            '<a target=\"_blank\" href=https://colab.research.google.com/notebooks/data_table.ipynb>data table notebook</a>'\n",
              "            + ' to learn more about interactive tables.';\n",
              "          element.innerHTML = '';\n",
              "          dataTable['output_type'] = 'display_data';\n",
              "          await google.colab.output.renderOutput(dataTable, element);\n",
              "          const docLink = document.createElement('div');\n",
              "          docLink.innerHTML = docLinkHtml;\n",
              "          element.appendChild(docLink);\n",
              "        }\n",
              "      </script>\n",
              "    </div>\n",
              "  </div>\n",
              "  "
            ]
          },
          "metadata": {},
          "execution_count": 31
        }
      ]
    },
    {
      "cell_type": "code",
      "source": [
        "highest_cost_factory = df2.iloc[3,:].idxmax(axis=0, skipna=False)\n",
        "print(\"The maximum cost of barrels is borne by '\",highest_cost_factory,\"'\")\n",
        "\n",
        "maxValue = max(df2.max(skipna=False))\n",
        "print(\"The maximum cost of barrels (Rs./Barrel)= \",maxValue)\n",
        "\n",
        "column_index_highest_cost_factory = df2.columns.get_loc(highest_cost_factory)\n",
        "print(\"Column index of the factory bearing maximum price: \",column_index_highest_cost_factory)\n",
        "\n",
        "# Determining the rates which results in maximum total price\n",
        "Highest_rates = R[:,column_index_highest_cost_factory]\n",
        "print(\"\\nHence, the Rates which results in maximum total price are as per the following\")\n",
        "print(\"Motor oil (Rs./Gallon):\",Highest_rates[0])\n",
        "print(\"Diesel oil (Rs./Gallon):\",Highest_rates[1])\n",
        "print(\"Gasoline (Rs./Gallon):\",Highest_rates[2])"
      ],
      "metadata": {
        "colab": {
          "base_uri": "https://localhost:8080/"
        },
        "id": "Gt3Uaaqp2n3K",
        "outputId": "41d96783-4db4-4d10-dfee-7e46f1a15929"
      },
      "execution_count": 32,
      "outputs": [
        {
          "output_type": "stream",
          "name": "stdout",
          "text": [
            "The maximum cost of barrels is borne by ' Factory C '\n",
            "The maximum cost of barrels (Rs./Barrel)=  6984\n",
            "Column index of the factory bearing maximum price:  2\n",
            "\n",
            "Hence, the Rates which results in maximum total price are as per the following\n",
            "Motor oil (Rs./Gallon): 102\n",
            "Diesel oil (Rs./Gallon): 68\n",
            "Gasoline (Rs./Gallon): 98\n"
          ]
        }
      ]
    },
    {
      "cell_type": "markdown",
      "metadata": {
        "id": "cga8JrkApzh1"
      },
      "source": [
        "### Marginal Cost (1 point)"
      ]
    },
    {
      "cell_type": "markdown",
      "metadata": {
        "id": "8nN5V5NXpzh2"
      },
      "source": [
        "The total cost $C(x)$ in Rupees, associated with the production of $x$ gallons of gasoline is given by \n",
        "\n",
        "$$C(x) = 0.005 x^3 – 0.02 x^2 + 30x + 5000$$\n",
        "\n",
        "Find the marginal cost when $22$ gallons are produced, where, marginal cost means the instantaneous rate of change of total cost at any level of output."
      ]
    },
    {
      "cell_type": "markdown",
      "source": [
        "Instantaneous rate of change of total cost = derivative of C(x) w.r.t 'x'\n",
        "\n",
        "And also it's given that marginal = derivative of C(x) w.r.t 'x'\n",
        "\n",
        "Hence, we need to calculate the derivative of C(x) w.r.t 'x'\n",
        "\n",
        "**Marginal cost** \n",
        "\n",
        "$$\\frac{dC(x)}{dx} = 0.005(3 x^2) - 0.02(2 x) + 30$$\n",
        "\n",
        "We need to find the marginal cost when 22 Gallons are produced\\\n",
        "Hence, $x = 22$, $$Marginalcost(Rs.) = 0.015(22^2) - 0.04(22) + 30$$\n",
        "\n",
        "$$= 7.26 – 0.88 + 30$$ \n",
        "$$= 36.38$$\n",
        "\n",
        "So, when 22 Gallons are produced, the required marginal cost  = Rs. 36.38\n",
        "\n",
        "**The following is the python method of calculating derivative at a certain value of x using `scipy` package.**"
      ],
      "metadata": {
        "id": "LuIrGd8H325z"
      }
    },
    {
      "cell_type": "code",
      "metadata": {
        "id": "rO-HMED3pzh2",
        "colab": {
          "base_uri": "https://localhost:8080/"
        },
        "outputId": "dcb84163-ccd4-44bf-bd16-cf6077637b11"
      },
      "source": [
        "# YOUR CODE HERE\n",
        "from scipy.misc import derivative\n",
        "def C(x):\n",
        "    return (0.005)*x**3 - (0.02)*x**2 + 30*x + 5000\n",
        "x = 22\n",
        "Marginal_cost = derivative(C, x, dx=1.0, n=1, args=(), order=3)\n",
        "print(\"When 22 Gallons are produced, then the Marginal cost= Rs.\",Marginal_cost)"
      ],
      "execution_count": 33,
      "outputs": [
        {
          "output_type": "stream",
          "name": "stdout",
          "text": [
            "When 22 Gallons are produced, then the Marginal cost= Rs. 36.38500000000022\n"
          ]
        }
      ]
    },
    {
      "cell_type": "markdown",
      "metadata": {
        "id": "qOMlrDEhpzh2"
      },
      "source": [
        "### Marginal Revenue (1 point)"
      ]
    },
    {
      "cell_type": "markdown",
      "metadata": {
        "id": "bfS88lmWpzh2"
      },
      "source": [
        "The total revenue in Rupees received from the sale of $x$ gallons of a motor oil is given by $$R(x) = 3x^2 + 36x + 5.$$ \n",
        "\n",
        "Find the marginal revenue, when $x = 28$, where, marginal revenue means the rate of change of total revenue with respect to the number of items sold at an instant."
      ]
    },
    {
      "cell_type": "markdown",
      "source": [
        "Rate of change of total revenue = derivative of R(x) w.r.t 'x'\n",
        "\n",
        "And also it's given that marginal revenue = derivative of R(x) w.r.t 'x'\n",
        "\n",
        "Hence, we need to calculate the derivative of R(x) w.r.t 'x'\n",
        "\n",
        "**Marginal Revenue** \n",
        "\n",
        "$$\\frac{dR(x)}{dx} = 6x + 36$$\n",
        "\n",
        "We need to find the marginal revenue when 28 Gallons of a motor oil are sold\\\n",
        "Hence, $x = 28$, $$MarginalRevenue(Rs.) = 6(28) + 36$$\n",
        "\n",
        "$$= 168 + 36$$ \n",
        "$$= 204$$\n",
        "\n",
        "So, when 28 Gallons of a motor oil are sold, the marginal revenue  = Rs. 204\n",
        "\n",
        "**The following is the python method of calculating derivative at a certain value of x using `scipy` package.**"
      ],
      "metadata": {
        "id": "44mQZsZyRtJ7"
      }
    },
    {
      "cell_type": "code",
      "metadata": {
        "id": "rb0h6p49pzh2",
        "colab": {
          "base_uri": "https://localhost:8080/"
        },
        "outputId": "af886e3d-6d55-48cc-ce75-1b1ca0cf32af"
      },
      "source": [
        "# YOUR CODE HERE\n",
        "from scipy.misc import derivative\n",
        "def R(x):\n",
        "    return (3)*x**2 + (36)*x + 5\n",
        "x = 28\n",
        "Marginal_Revenue = derivative(R,x)\n",
        "print(\"When 28 Gallons of motor oil are sold, then the Marginal Revenue= Rs.\",Marginal_Revenue)"
      ],
      "execution_count": 34,
      "outputs": [
        {
          "output_type": "stream",
          "name": "stdout",
          "text": [
            "When 28 Gallons of motor oil are sold, then the Marginal Revenue= Rs. 204.0\n"
          ]
        }
      ]
    },
    {
      "cell_type": "markdown",
      "metadata": {
        "id": "ZKb5VuM_pzh2"
      },
      "source": [
        "### Pouring crude oil in tank (1 point)"
      ]
    },
    {
      "cell_type": "markdown",
      "metadata": {
        "id": "TD9zv5jPpzh2"
      },
      "source": [
        "In a cylindrical tank of radius 10 meter, crude oil is being poured at the rate of 314 cubic meter per hour. Then find\n",
        "\n",
        "* the rate at which the height of crude oil is increasing in the tank, and\n",
        "* the height of crude oil in tank after 2 hours."
      ]
    },
    {
      "cell_type": "markdown",
      "source": [
        "Crude oil is being poured at the rate of 314 cubic meter per hour.\n",
        "\n",
        "Hence let's denote this rate **= R**\n",
        "\n",
        "and the radius of the cyllindrical tank **= r meter**\n",
        "\n",
        "**Let, the instantaneous volume of the crude oil in the tank = V(t)**\n",
        "\n",
        "Hence,\n",
        "$$R = \\frac{dV(t)}{dt}$$ \n",
        "As the height **h** of the crude oil is increasing w.r.t time **t**,\n",
        "Hence, Let's assume the instantaneous height of the crude oil inside the cylindrical tank **= h(t) meter**\n",
        "\n",
        "**The instantaneous Volume of the crude oil in the tank:**\n",
        "\n",
        "$$V(t) = \\pi r^2 h(t)$$\n",
        "**Let's assume the rate at which the height of the crude oil is increasing** \n",
        "\n",
        "**= q meter/hr.**\n",
        "\n",
        "**Hence, after a time 't' hours, the height of crude oil inside the tank:** \n",
        "\n",
        "$$h(t) = q \\times t$$\n",
        "\n",
        "So, we can write,\n",
        "\n",
        "$$V(t) = \\pi r^2 q t$$\n",
        "\n",
        "Hence, we take the derivative of V(t) w.r.t time 't'\n",
        "\n",
        "**We get the rate of change of volume as per the following** \n",
        "\n",
        "$$\\frac{dV(t)}{dt} = \\pi r^2 q$$\n",
        "**Given,**\n",
        "$$\\pi r^2 q = 314$$\n",
        "**Hence,**\n",
        "$$q = \\frac{1}{\\pi r^2} \\times 314$$\n",
        "\n",
        "**and at t = 2 hrs.,**\n",
        "\n",
        "$$h(2) = \\frac{1}{\\pi r^2} \\times 314 \\times 2$$"
      ],
      "metadata": {
        "id": "ACmIMAE0cZFM"
      }
    },
    {
      "cell_type": "code",
      "metadata": {
        "id": "g6ntcdNypzh2",
        "colab": {
          "base_uri": "https://localhost:8080/",
          "height": 52
        },
        "outputId": "7435a906-ce02-4303-bd01-0ec8823c9bff"
      },
      "source": [
        "# YOUR CODE HERE\n",
        "import numpy as np\n",
        "import sympy as sym\n",
        "\n",
        "# Given radius r = 10 meter\n",
        "r = sym.Symbol('r')\n",
        "r = 10\n",
        "\n",
        "# Creating the time symbol\n",
        "t = sym.Symbol('t')\n",
        "\n",
        "# Creating the symbol for the rate at which the height of the crude oil is increasing \n",
        "q = sym.Symbol('q')\n",
        "\n",
        "# The instantaneous height h(t) of the crude oil inside the tank\n",
        "h = sym.Symbol('h')\n",
        "h = q * t\n",
        "\n",
        "# The instantaneous volume of the crude oil in the cyllindrical tank\n",
        "V = sym.Symbol('V')\n",
        "V = np.pi * r**2 * h\n",
        "\n",
        "# We can re-write V as per the following\n",
        "V = np.pi * r**2 * q * t\n",
        "\n",
        "# Now, We take the derivative(V,t) to get the rate of change of volume of the crude oil as per the following\n",
        "dV_dt_symbolic = sym.Derivative(V, t)\n",
        "dV_dt_symbolic"
      ],
      "execution_count": 35,
      "outputs": [
        {
          "output_type": "execute_result",
          "data": {
            "text/plain": [
              "Derivative(314.159265358979*q*t, t)"
            ],
            "text/latex": "$\\displaystyle \\frac{\\partial}{\\partial t} 314.159265358979 q t$"
          },
          "metadata": {},
          "execution_count": 35
        }
      ]
    },
    {
      "cell_type": "code",
      "source": [
        "# Now expressing the derivative in terms of 'q'\n",
        "dV_dt = dV_dt_symbolic.doit()\n",
        "dV_dt"
      ],
      "metadata": {
        "colab": {
          "base_uri": "https://localhost:8080/",
          "height": 38
        },
        "id": "9B9zbSat5rAN",
        "outputId": "9a56dcc9-f44b-45c4-c354-2baf70dde53e"
      },
      "execution_count": 36,
      "outputs": [
        {
          "output_type": "execute_result",
          "data": {
            "text/plain": [
              "314.159265358979*q"
            ],
            "text/latex": "$\\displaystyle 314.159265358979 q$"
          },
          "metadata": {},
          "execution_count": 36
        }
      ]
    },
    {
      "cell_type": "markdown",
      "source": [
        "**Given,**\n",
        "$$\\frac{dV(t)}{dt} = 314$$\n",
        "**From the above result, we can write the following,**\n",
        "\n",
        "**314.159265358979q = 314**\n",
        "\n",
        "**This is in the form of a linear system equation: Ax = b**\n",
        "\n",
        "**where, A = 314.159265358979; x = q; b = 314**\n",
        "\n",
        "So, we can solve it by using solve() under scipy.linalg"
      ],
      "metadata": {
        "id": "2XkgjR7N6Nqk"
      }
    },
    {
      "cell_type": "code",
      "source": [
        "q = solve(314.159265358979, 314) # As A & b are invidual scalar over here, so we are not using square bracket numpy array notation\n",
        "print(\"The rate at which the height of crude oil is increasing in the tank: \", q, \"meter/hour\")"
      ],
      "metadata": {
        "colab": {
          "base_uri": "https://localhost:8080/"
        },
        "id": "BuLt1DAq789O",
        "outputId": "58c559aa-6fcf-42a8-99da-67ea7981ada4"
      },
      "execution_count": 38,
      "outputs": [
        {
          "output_type": "stream",
          "name": "stdout",
          "text": [
            "The rate at which the height of crude oil is increasing in the tank:  [0.99949304] meter/hour\n"
          ]
        }
      ]
    },
    {
      "cell_type": "markdown",
      "source": [
        "**Now calculating the height of the crude oil in the tank after t = 2 hours**"
      ],
      "metadata": {
        "id": "K3IQkDv39cDi"
      }
    },
    {
      "cell_type": "code",
      "source": [
        "# We already know the following\n",
        "# The instantaneous height h(t) of the crude oil inside the tank\n",
        "h = sym.Symbol('h')\n",
        "h = q * t\n",
        "# So, putting t = 2 hours, we get\n",
        "t = 2 # Hours\n",
        "height_after_2hours = q * t\n",
        "print(\"Height of the crude oil in tank after 2 hours: \",height_after_2hours, \"meter\")"
      ],
      "metadata": {
        "colab": {
          "base_uri": "https://localhost:8080/"
        },
        "id": "0Rif02Ai9pnw",
        "outputId": "d4a85c6e-b8c1-45bc-9bd0-49c2a304c56a"
      },
      "execution_count": 39,
      "outputs": [
        {
          "output_type": "stream",
          "name": "stdout",
          "text": [
            "Height of the crude oil in tank after 2 hours:  [1.99898609] meter\n"
          ]
        }
      ]
    }
  ]
}