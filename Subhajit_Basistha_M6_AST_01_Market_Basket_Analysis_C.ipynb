{
  "nbformat": 4,
  "nbformat_minor": 5,
  "metadata": {
    "kernelspec": {
      "display_name": "Python 3",
      "language": "python",
      "name": "python3"
    },
    "language_info": {
      "codemirror_mode": {
        "name": "ipython",
        "version": 3
      },
      "file_extension": ".py",
      "mimetype": "text/x-python",
      "name": "python",
      "nbconvert_exporter": "python",
      "pygments_lexer": "ipython3",
      "version": "3.6.7rc1"
    },
    "colab": {
      "provenance": [],
      "include_colab_link": true
    }
  },
  "cells": [
    {
      "cell_type": "markdown",
      "metadata": {
        "id": "view-in-github",
        "colab_type": "text"
      },
      "source": [
        "<a href=\"https://colab.research.google.com/github/subho99/Computational-Data-Science/blob/main/Subhajit_Basistha_M6_AST_01_Market_Basket_Analysis_C.ipynb\" target=\"_parent\"><img src=\"https://colab.research.google.com/assets/colab-badge.svg\" alt=\"Open In Colab\"/></a>"
      ]
    },
    {
      "cell_type": "markdown",
      "metadata": {
        "id": "pointed-baptist"
      },
      "source": [
        "# Advanced Certification Program in Computational Data Science\n",
        "\n",
        "##  A program by IISc and TalentSprint\n",
        "\n",
        "### Assignment 1: Market_Basket_Analysis"
      ],
      "id": "pointed-baptist"
    },
    {
      "cell_type": "markdown",
      "metadata": {
        "id": "sound-cement"
      },
      "source": [
        "## Learning Objectives"
      ],
      "id": "sound-cement"
    },
    {
      "cell_type": "markdown",
      "metadata": {
        "id": "congressional-confusion"
      },
      "source": [
        "At the end of the experiment, you will be able to :\n",
        "\n",
        "* identify segments based on the overall buying behaviour\n",
        "\n",
        "* identify the association rules for the items purchased\n",
        "\n",
        "* implement the apriori algorithm from scratch"
      ],
      "id": "congressional-confusion"
    },
    {
      "cell_type": "markdown",
      "metadata": {
        "id": "statistical-gregory"
      },
      "source": [
        "## Dataset"
      ],
      "id": "statistical-gregory"
    },
    {
      "cell_type": "markdown",
      "metadata": {
        "id": "exclusive-hotel"
      },
      "source": [
        "The dataset chosen for this assignment is 'Grocery Store Dataset'. The dataset contains 20 transactions of general items from a supermarket. For example, one transaction looks like 'BREAD, MILK, BISCUIT, CORNFLAKES'"
      ],
      "id": "exclusive-hotel"
    },
    {
      "cell_type": "markdown",
      "metadata": {
        "id": "southwest-active"
      },
      "source": [
        "## Information"
      ],
      "id": "southwest-active"
    },
    {
      "cell_type": "markdown",
      "metadata": {
        "id": "olympic-picture"
      },
      "source": [
        "The Apriori algorithm is an influential algorithm for searching a series of frequent sets of items in the dataset or database. It is mainly used for Association Rule mining. So, what exactly is Association Rule mining?\n",
        "\n",
        "Alex goes to buy a chips from the bakery. He grabs a Pepsi as well. The shop manager analyses that, not only Alex but people in general, often tend to buy chips and Pepsi together. After finding out the pattern, the shop manager arranges these items together and notices an increase in sales. This process of identifying the relationship between items is called association rule mining.\n",
        "\n",
        "The key concept in the Apriori algorithm is that it assumes\n",
        "\n",
        "- All subsets of a frequent itemset must be frequent\n",
        "- If an itemset is infrequent, all its supersets will be infrequent.\n",
        "\n",
        "**Important Definitions**\n",
        "\n",
        "**Itemset:** A set of items is referred as itemset and an itemset containing n items is called n-itemset.\n",
        "\n",
        "**SupportCount:** Number of transactions in  which the itemset appears.\n",
        "\n",
        "**MinimumSupportCount:** The minimum frequency of itemset in the dataset or database.\n",
        "\n",
        "**Frequent Itemset:** If an itemset satisfies minimum support, then it is a frequent itemset.\n",
        "\n",
        "**Support:** An indication of how frequently the itemset appears in the dataset..\n",
        "\n",
        "To know more about apriori algorithm click [here](https://hackr.io/blog/what-is-apriori-algorithm)"
      ],
      "id": "olympic-picture"
    },
    {
      "cell_type": "markdown",
      "metadata": {
        "id": "modular-volunteer"
      },
      "source": [
        "### Overview"
      ],
      "id": "modular-volunteer"
    },
    {
      "cell_type": "markdown",
      "metadata": {
        "id": "forty-craps"
      },
      "source": [
        "![Overview](https://cdn.iisc.talentsprint.com/CDS/Apriori_Overview.JPG)"
      ],
      "id": "forty-craps"
    },
    {
      "cell_type": "markdown",
      "metadata": {
        "id": "documented-spiritual"
      },
      "source": [
        "We will be using below helper functions to implement the apriori algorithm:\n",
        "\n",
        "* **get_support(transactions, item_set):** This function calculates the support value for the given item_set from the provided list of transactions.\n",
        "\n",
        "* **self_join(frequent_item_sets_per_level, level):** This function performs self join in the given list of frequent itemsets of previous level, and generates the candidate itemsets for the current level.\n",
        "\n",
        "* **get_single_drop_subsets(item_set):** This function returns the subsets of the given item_set with one item less.\n",
        "\n",
        "* **is_valid_set(item_set, prev_level_sets):** This checks if the given item_set is valid, i.e., has all its subsets with support value greater than the minimum support value. It relies on the fact that prev_level_sets contains only those item_sets which are frequent, i.e., have support value greater than the minimum support value.\n",
        "\n",
        "* **pruning(frequent_item_sets_per_level, level, candidate_set):** This function performs the pruning step of the Apriori Algorithm. It takes a list candidate_set of all the candidate itemsets for the current level, and for each candidate itemset checks if all its subsets are frequent itemsets. If not, it prunes it, If yes, it adds it to the list of post_pruning_set.\n",
        "\n",
        "* **apriori(min_support):** This is the main function which uses all the above described Utility functions to implement the Apriori Algorithm and generate the list of frequent itemsets for each level for the provided transactions and min_support value.\n",
        "\n",
        "* **association_rules(min_confidence, support_dict):** This function generates the association rules in accordance with the given minimum confidence value and the provided dictionary of itemsets against their support values. It takes min_confidence and support_dict as a parameter, and returns rules as a list."
      ],
      "id": "documented-spiritual"
    },
    {
      "cell_type": "markdown",
      "metadata": {
        "id": "BNLA8HiKxQhc"
      },
      "source": [
        "### Setup Steps:"
      ],
      "id": "BNLA8HiKxQhc"
    },
    {
      "cell_type": "code",
      "metadata": {
        "id": "2YzfoPvJDiTX"
      },
      "source": [
        "#@title Please enter your registration id to start: { run: \"auto\", display-mode: \"form\" }\n",
        "Id = \"2236624\" #@param {type:\"string\"}"
      ],
      "id": "2YzfoPvJDiTX",
      "execution_count": 1,
      "outputs": []
    },
    {
      "cell_type": "code",
      "metadata": {
        "id": "rEzlYL4CDrmE"
      },
      "source": [
        "#@title Please enter your password (normally your phone number) to continue: { run: \"auto\", display-mode: \"form\" }\n",
        "password = \"8240187807\" #@param {type:\"string\"}"
      ],
      "id": "rEzlYL4CDrmE",
      "execution_count": 2,
      "outputs": []
    },
    {
      "cell_type": "code",
      "metadata": {
        "id": "9KsExYLbEM3O",
        "cellView": "form",
        "colab": {
          "base_uri": "https://localhost:8080/",
          "height": 34
        },
        "outputId": "00b94f71-a21d-44cc-c06f-6b0a00854efd"
      },
      "source": [
        "#@title Run this cell to complete the setup for this Notebook\n",
        "from IPython import get_ipython\n",
        "\n",
        "ipython = get_ipython()\n",
        "\n",
        "notebook= \"M6_AST_01_Market_Basket_Analysis_C\" #name of the notebook\n",
        "\n",
        "def setup():\n",
        "#  ipython.magic(\"sx pip3 install torch\")\n",
        "    ipython.magic(\"sx wget https://cdn.iisc.talentsprint.com/CDS/Datasets/GroceryStoreDataSet.csv\")\n",
        "    from IPython.display import HTML, display\n",
        "    display(HTML('<script src=\"https://dashboard.talentsprint.com/aiml/record_ip.html?traineeId={0}&recordId={1}\"></script>'.format(getId(),submission_id)))\n",
        "    print(\"Setup completed successfully\")\n",
        "    return\n",
        "\n",
        "def submit_notebook():\n",
        "    ipython.magic(\"notebook -e \"+ notebook + \".ipynb\")\n",
        "\n",
        "    import requests, json, base64, datetime\n",
        "\n",
        "    url = \"https://dashboard.talentsprint.com/xp/app/save_notebook_attempts\"\n",
        "    if not submission_id:\n",
        "      data = {\"id\" : getId(), \"notebook\" : notebook, \"mobile\" : getPassword()}\n",
        "      r = requests.post(url, data = data)\n",
        "      r = json.loads(r.text)\n",
        "\n",
        "      if r[\"status\"] == \"Success\":\n",
        "          return r[\"record_id\"]\n",
        "      elif \"err\" in r:\n",
        "        print(r[\"err\"])\n",
        "        return None\n",
        "      else:\n",
        "        print (\"Something is wrong, the notebook will not be submitted for grading\")\n",
        "        return None\n",
        "\n",
        "    elif getAnswer() and getComplexity() and getAdditional() and getConcepts() and getComments() and getMentorSupport():\n",
        "      f = open(notebook + \".ipynb\", \"rb\")\n",
        "      file_hash = base64.b64encode(f.read())\n",
        "\n",
        "      data = {\"complexity\" : Complexity, \"additional\" :Additional,\n",
        "              \"concepts\" : Concepts, \"record_id\" : submission_id,\n",
        "              \"answer\" : Answer, \"id\" : Id, \"file_hash\" : file_hash,\n",
        "              \"notebook\" : notebook,\n",
        "              \"feedback_experiments_input\" : Comments,\n",
        "              \"feedback_mentor_support\": Mentor_support}\n",
        "      r = requests.post(url, data = data)\n",
        "      r = json.loads(r.text)\n",
        "      if \"err\" in r:\n",
        "        print(r[\"err\"])\n",
        "        return None\n",
        "      else:\n",
        "        print(\"Your submission is successful.\")\n",
        "        print(\"Ref Id:\", submission_id)\n",
        "        print(\"Date of submission: \", r[\"date\"])\n",
        "        print(\"Time of submission: \", r[\"time\"])\n",
        "        print(\"View your submissions: https://cds.iisc.talentsprint.com/notebook_submissions\")\n",
        "        #print(\"For any queries/discrepancies, please connect with mentors through the chat icon in LMS dashboard.\")\n",
        "        return submission_id\n",
        "    else: submission_id\n",
        "\n",
        "\n",
        "def getAdditional():\n",
        "  try:\n",
        "    if not Additional:\n",
        "      raise NameError\n",
        "    else:\n",
        "      return Additional\n",
        "  except NameError:\n",
        "    print (\"Please answer Additional Question\")\n",
        "    return None\n",
        "\n",
        "def getComplexity():\n",
        "  try:\n",
        "    if not Complexity:\n",
        "      raise NameError\n",
        "    else:\n",
        "      return Complexity\n",
        "  except NameError:\n",
        "    print (\"Please answer Complexity Question\")\n",
        "    return None\n",
        "\n",
        "def getConcepts():\n",
        "  try:\n",
        "    if not Concepts:\n",
        "      raise NameError\n",
        "    else:\n",
        "      return Concepts\n",
        "  except NameError:\n",
        "    print (\"Please answer Concepts Question\")\n",
        "    return None\n",
        "\n",
        "\n",
        "# def getWalkthrough():\n",
        "#   try:\n",
        "#     if not Walkthrough:\n",
        "#       raise NameError\n",
        "#     else:\n",
        "#       return Walkthrough\n",
        "#   except NameError:\n",
        "#     print (\"Please answer Walkthrough Question\")\n",
        "#     return None\n",
        "\n",
        "def getComments():\n",
        "  try:\n",
        "    if not Comments:\n",
        "      raise NameError\n",
        "    else:\n",
        "      return Comments\n",
        "  except NameError:\n",
        "    print (\"Please answer Comments Question\")\n",
        "    return None\n",
        "\n",
        "\n",
        "def getMentorSupport():\n",
        "  try:\n",
        "    if not Mentor_support:\n",
        "      raise NameError\n",
        "    else:\n",
        "      return Mentor_support\n",
        "  except NameError:\n",
        "    print (\"Please answer Mentor support Question\")\n",
        "    return None\n",
        "\n",
        "def getAnswer():\n",
        "  try:\n",
        "    if not Answer:\n",
        "      raise NameError\n",
        "    else:\n",
        "      return Answer\n",
        "  except NameError:\n",
        "    print (\"Please answer Question\")\n",
        "    return None\n",
        "\n",
        "\n",
        "def getId():\n",
        "  try:\n",
        "    return Id if Id else None\n",
        "  except NameError:\n",
        "    return None\n",
        "\n",
        "def getPassword():\n",
        "  try:\n",
        "    return password if password else None\n",
        "  except NameError:\n",
        "    return None\n",
        "\n",
        "submission_id = None\n",
        "### Setup\n",
        "if getPassword() and getId():\n",
        "  submission_id = submit_notebook()\n",
        "  if submission_id:\n",
        "    setup()\n",
        "else:\n",
        "  print (\"Please complete Id and Password cells before running setup\")\n",
        "\n"
      ],
      "id": "9KsExYLbEM3O",
      "execution_count": 3,
      "outputs": [
        {
          "output_type": "display_data",
          "data": {
            "text/plain": [
              "<IPython.core.display.HTML object>"
            ],
            "text/html": [
              "<script src=\"https://dashboard.talentsprint.com/aiml/record_ip.html?traineeId=2236624&recordId=6823\"></script>"
            ]
          },
          "metadata": {}
        },
        {
          "output_type": "stream",
          "name": "stdout",
          "text": [
            "Setup completed successfully\n"
          ]
        }
      ]
    },
    {
      "cell_type": "markdown",
      "metadata": {
        "id": "trying-chemistry"
      },
      "source": [
        "#### Import required packages"
      ],
      "id": "trying-chemistry"
    },
    {
      "cell_type": "code",
      "metadata": {
        "id": "continent-cliff"
      },
      "source": [
        "import pandas as pd\n",
        "import numpy as np\n",
        "from collections import defaultdict\n",
        "from itertools import combinations"
      ],
      "id": "continent-cliff",
      "execution_count": 4,
      "outputs": []
    },
    {
      "cell_type": "markdown",
      "metadata": {
        "id": "controversial-tampa"
      },
      "source": [
        "\n",
        "To know about collection package click [here](https://docs.python.org/3/library/collections.html)\n",
        "\n",
        "To know about itertools package click [here](https://docs.python.org/3/library/itertools.html)"
      ],
      "id": "controversial-tampa"
    },
    {
      "cell_type": "markdown",
      "metadata": {
        "id": "vertical-spirituality"
      },
      "source": [
        "## Data Wrangling"
      ],
      "id": "vertical-spirituality"
    },
    {
      "cell_type": "markdown",
      "metadata": {
        "id": "burning-discretion"
      },
      "source": [
        "### Load the data"
      ],
      "id": "burning-discretion"
    },
    {
      "cell_type": "code",
      "metadata": {
        "id": "exterior-positive",
        "colab": {
          "base_uri": "https://localhost:8080/",
          "height": 206
        },
        "outputId": "dd6606ca-edbc-4e75-c721-993471dba9e5"
      },
      "source": [
        "store_data = pd.read_csv('/content/GroceryStoreDataSet.csv',names=['Items'])\n",
        "store_data.head()"
      ],
      "id": "exterior-positive",
      "execution_count": 5,
      "outputs": [
        {
          "output_type": "execute_result",
          "data": {
            "text/plain": [
              "                           Items\n",
              "0             MILK,BREAD,BISCUIT\n",
              "1  BREAD,MILK,BISCUIT,CORNFLAKES\n",
              "2            BREAD,TEA,BOURNVITA\n",
              "3           JAM,MAGGI,BREAD,MILK\n",
              "4              MAGGI,TEA,BISCUIT"
            ],
            "text/html": [
              "\n",
              "  <div id=\"df-1584e463-1f88-480a-a9f7-afaa874aec05\" class=\"colab-df-container\">\n",
              "    <div>\n",
              "<style scoped>\n",
              "    .dataframe tbody tr th:only-of-type {\n",
              "        vertical-align: middle;\n",
              "    }\n",
              "\n",
              "    .dataframe tbody tr th {\n",
              "        vertical-align: top;\n",
              "    }\n",
              "\n",
              "    .dataframe thead th {\n",
              "        text-align: right;\n",
              "    }\n",
              "</style>\n",
              "<table border=\"1\" class=\"dataframe\">\n",
              "  <thead>\n",
              "    <tr style=\"text-align: right;\">\n",
              "      <th></th>\n",
              "      <th>Items</th>\n",
              "    </tr>\n",
              "  </thead>\n",
              "  <tbody>\n",
              "    <tr>\n",
              "      <th>0</th>\n",
              "      <td>MILK,BREAD,BISCUIT</td>\n",
              "    </tr>\n",
              "    <tr>\n",
              "      <th>1</th>\n",
              "      <td>BREAD,MILK,BISCUIT,CORNFLAKES</td>\n",
              "    </tr>\n",
              "    <tr>\n",
              "      <th>2</th>\n",
              "      <td>BREAD,TEA,BOURNVITA</td>\n",
              "    </tr>\n",
              "    <tr>\n",
              "      <th>3</th>\n",
              "      <td>JAM,MAGGI,BREAD,MILK</td>\n",
              "    </tr>\n",
              "    <tr>\n",
              "      <th>4</th>\n",
              "      <td>MAGGI,TEA,BISCUIT</td>\n",
              "    </tr>\n",
              "  </tbody>\n",
              "</table>\n",
              "</div>\n",
              "    <div class=\"colab-df-buttons\">\n",
              "\n",
              "  <div class=\"colab-df-container\">\n",
              "    <button class=\"colab-df-convert\" onclick=\"convertToInteractive('df-1584e463-1f88-480a-a9f7-afaa874aec05')\"\n",
              "            title=\"Convert this dataframe to an interactive table.\"\n",
              "            style=\"display:none;\">\n",
              "\n",
              "  <svg xmlns=\"http://www.w3.org/2000/svg\" height=\"24px\" viewBox=\"0 -960 960 960\">\n",
              "    <path d=\"M120-120v-720h720v720H120Zm60-500h600v-160H180v160Zm220 220h160v-160H400v160Zm0 220h160v-160H400v160ZM180-400h160v-160H180v160Zm440 0h160v-160H620v160ZM180-180h160v-160H180v160Zm440 0h160v-160H620v160Z\"/>\n",
              "  </svg>\n",
              "    </button>\n",
              "\n",
              "  <style>\n",
              "    .colab-df-container {\n",
              "      display:flex;\n",
              "      gap: 12px;\n",
              "    }\n",
              "\n",
              "    .colab-df-convert {\n",
              "      background-color: #E8F0FE;\n",
              "      border: none;\n",
              "      border-radius: 50%;\n",
              "      cursor: pointer;\n",
              "      display: none;\n",
              "      fill: #1967D2;\n",
              "      height: 32px;\n",
              "      padding: 0 0 0 0;\n",
              "      width: 32px;\n",
              "    }\n",
              "\n",
              "    .colab-df-convert:hover {\n",
              "      background-color: #E2EBFA;\n",
              "      box-shadow: 0px 1px 2px rgba(60, 64, 67, 0.3), 0px 1px 3px 1px rgba(60, 64, 67, 0.15);\n",
              "      fill: #174EA6;\n",
              "    }\n",
              "\n",
              "    .colab-df-buttons div {\n",
              "      margin-bottom: 4px;\n",
              "    }\n",
              "\n",
              "    [theme=dark] .colab-df-convert {\n",
              "      background-color: #3B4455;\n",
              "      fill: #D2E3FC;\n",
              "    }\n",
              "\n",
              "    [theme=dark] .colab-df-convert:hover {\n",
              "      background-color: #434B5C;\n",
              "      box-shadow: 0px 1px 3px 1px rgba(0, 0, 0, 0.15);\n",
              "      filter: drop-shadow(0px 1px 2px rgba(0, 0, 0, 0.3));\n",
              "      fill: #FFFFFF;\n",
              "    }\n",
              "  </style>\n",
              "\n",
              "    <script>\n",
              "      const buttonEl =\n",
              "        document.querySelector('#df-1584e463-1f88-480a-a9f7-afaa874aec05 button.colab-df-convert');\n",
              "      buttonEl.style.display =\n",
              "        google.colab.kernel.accessAllowed ? 'block' : 'none';\n",
              "\n",
              "      async function convertToInteractive(key) {\n",
              "        const element = document.querySelector('#df-1584e463-1f88-480a-a9f7-afaa874aec05');\n",
              "        const dataTable =\n",
              "          await google.colab.kernel.invokeFunction('convertToInteractive',\n",
              "                                                    [key], {});\n",
              "        if (!dataTable) return;\n",
              "\n",
              "        const docLinkHtml = 'Like what you see? Visit the ' +\n",
              "          '<a target=\"_blank\" href=https://colab.research.google.com/notebooks/data_table.ipynb>data table notebook</a>'\n",
              "          + ' to learn more about interactive tables.';\n",
              "        element.innerHTML = '';\n",
              "        dataTable['output_type'] = 'display_data';\n",
              "        await google.colab.output.renderOutput(dataTable, element);\n",
              "        const docLink = document.createElement('div');\n",
              "        docLink.innerHTML = docLinkHtml;\n",
              "        element.appendChild(docLink);\n",
              "      }\n",
              "    </script>\n",
              "  </div>\n",
              "\n",
              "\n",
              "<div id=\"df-87ed07f7-17ea-452b-a5bc-55d86a630a0c\">\n",
              "  <button class=\"colab-df-quickchart\" onclick=\"quickchart('df-87ed07f7-17ea-452b-a5bc-55d86a630a0c')\"\n",
              "            title=\"Suggest charts.\"\n",
              "            style=\"display:none;\">\n",
              "\n",
              "<svg xmlns=\"http://www.w3.org/2000/svg\" height=\"24px\"viewBox=\"0 0 24 24\"\n",
              "     width=\"24px\">\n",
              "    <g>\n",
              "        <path d=\"M19 3H5c-1.1 0-2 .9-2 2v14c0 1.1.9 2 2 2h14c1.1 0 2-.9 2-2V5c0-1.1-.9-2-2-2zM9 17H7v-7h2v7zm4 0h-2V7h2v10zm4 0h-2v-4h2v4z\"/>\n",
              "    </g>\n",
              "</svg>\n",
              "  </button>\n",
              "\n",
              "<style>\n",
              "  .colab-df-quickchart {\n",
              "      --bg-color: #E8F0FE;\n",
              "      --fill-color: #1967D2;\n",
              "      --hover-bg-color: #E2EBFA;\n",
              "      --hover-fill-color: #174EA6;\n",
              "      --disabled-fill-color: #AAA;\n",
              "      --disabled-bg-color: #DDD;\n",
              "  }\n",
              "\n",
              "  [theme=dark] .colab-df-quickchart {\n",
              "      --bg-color: #3B4455;\n",
              "      --fill-color: #D2E3FC;\n",
              "      --hover-bg-color: #434B5C;\n",
              "      --hover-fill-color: #FFFFFF;\n",
              "      --disabled-bg-color: #3B4455;\n",
              "      --disabled-fill-color: #666;\n",
              "  }\n",
              "\n",
              "  .colab-df-quickchart {\n",
              "    background-color: var(--bg-color);\n",
              "    border: none;\n",
              "    border-radius: 50%;\n",
              "    cursor: pointer;\n",
              "    display: none;\n",
              "    fill: var(--fill-color);\n",
              "    height: 32px;\n",
              "    padding: 0;\n",
              "    width: 32px;\n",
              "  }\n",
              "\n",
              "  .colab-df-quickchart:hover {\n",
              "    background-color: var(--hover-bg-color);\n",
              "    box-shadow: 0 1px 2px rgba(60, 64, 67, 0.3), 0 1px 3px 1px rgba(60, 64, 67, 0.15);\n",
              "    fill: var(--button-hover-fill-color);\n",
              "  }\n",
              "\n",
              "  .colab-df-quickchart-complete:disabled,\n",
              "  .colab-df-quickchart-complete:disabled:hover {\n",
              "    background-color: var(--disabled-bg-color);\n",
              "    fill: var(--disabled-fill-color);\n",
              "    box-shadow: none;\n",
              "  }\n",
              "\n",
              "  .colab-df-spinner {\n",
              "    border: 2px solid var(--fill-color);\n",
              "    border-color: transparent;\n",
              "    border-bottom-color: var(--fill-color);\n",
              "    animation:\n",
              "      spin 1s steps(1) infinite;\n",
              "  }\n",
              "\n",
              "  @keyframes spin {\n",
              "    0% {\n",
              "      border-color: transparent;\n",
              "      border-bottom-color: var(--fill-color);\n",
              "      border-left-color: var(--fill-color);\n",
              "    }\n",
              "    20% {\n",
              "      border-color: transparent;\n",
              "      border-left-color: var(--fill-color);\n",
              "      border-top-color: var(--fill-color);\n",
              "    }\n",
              "    30% {\n",
              "      border-color: transparent;\n",
              "      border-left-color: var(--fill-color);\n",
              "      border-top-color: var(--fill-color);\n",
              "      border-right-color: var(--fill-color);\n",
              "    }\n",
              "    40% {\n",
              "      border-color: transparent;\n",
              "      border-right-color: var(--fill-color);\n",
              "      border-top-color: var(--fill-color);\n",
              "    }\n",
              "    60% {\n",
              "      border-color: transparent;\n",
              "      border-right-color: var(--fill-color);\n",
              "    }\n",
              "    80% {\n",
              "      border-color: transparent;\n",
              "      border-right-color: var(--fill-color);\n",
              "      border-bottom-color: var(--fill-color);\n",
              "    }\n",
              "    90% {\n",
              "      border-color: transparent;\n",
              "      border-bottom-color: var(--fill-color);\n",
              "    }\n",
              "  }\n",
              "</style>\n",
              "\n",
              "  <script>\n",
              "    async function quickchart(key) {\n",
              "      const quickchartButtonEl =\n",
              "        document.querySelector('#' + key + ' button');\n",
              "      quickchartButtonEl.disabled = true;  // To prevent multiple clicks.\n",
              "      quickchartButtonEl.classList.add('colab-df-spinner');\n",
              "      try {\n",
              "        const charts = await google.colab.kernel.invokeFunction(\n",
              "            'suggestCharts', [key], {});\n",
              "      } catch (error) {\n",
              "        console.error('Error during call to suggestCharts:', error);\n",
              "      }\n",
              "      quickchartButtonEl.classList.remove('colab-df-spinner');\n",
              "      quickchartButtonEl.classList.add('colab-df-quickchart-complete');\n",
              "    }\n",
              "    (() => {\n",
              "      let quickchartButtonEl =\n",
              "        document.querySelector('#df-87ed07f7-17ea-452b-a5bc-55d86a630a0c button');\n",
              "      quickchartButtonEl.style.display =\n",
              "        google.colab.kernel.accessAllowed ? 'block' : 'none';\n",
              "    })();\n",
              "  </script>\n",
              "</div>\n",
              "    </div>\n",
              "  </div>\n"
            ]
          },
          "metadata": {},
          "execution_count": 5
        }
      ]
    },
    {
      "cell_type": "markdown",
      "metadata": {
        "id": "corrected-radical"
      },
      "source": [
        "A common strategy adopted by many association rule mining algorithms is to decompose the problem into two major subtasks:\n",
        "\n",
        "- Frequent Itemset Generation, whose objective is to find all the itemsets that satisfy the minimum support threshold. These itemsets are called frequent itemsets.\n",
        "- Rule Generation, whose objective is to extract all the high-confidence rules from the frequent itemsets found in the previous step.\n"
      ],
      "id": "corrected-radical"
    },
    {
      "cell_type": "markdown",
      "metadata": {
        "id": "indian-uruguay"
      },
      "source": [
        "#### Frequent Itemset Generation\n",
        "\n",
        "Create the basket with transactions\n",
        "\n",
        "To know more about lambda function click [here](https://realpython.com/python-lambda/)"
      ],
      "id": "indian-uruguay"
    },
    {
      "cell_type": "code",
      "metadata": {
        "id": "light-liechtenstein",
        "colab": {
          "base_uri": "https://localhost:8080/",
          "height": 677
        },
        "outputId": "348d40b7-e368-4875-be56-eb726611887d"
      },
      "source": [
        "# Creating a list of items for each order by splitting with ','\n",
        "store_data['Items'] = store_data['Items'].apply(lambda x: x.split(','))\n",
        "store_data"
      ],
      "id": "light-liechtenstein",
      "execution_count": 6,
      "outputs": [
        {
          "output_type": "execute_result",
          "data": {
            "text/plain": [
              "                                  Items\n",
              "0                [MILK, BREAD, BISCUIT]\n",
              "1    [BREAD, MILK, BISCUIT, CORNFLAKES]\n",
              "2               [BREAD, TEA, BOURNVITA]\n",
              "3             [JAM, MAGGI, BREAD, MILK]\n",
              "4                 [MAGGI, TEA, BISCUIT]\n",
              "5               [BREAD, TEA, BOURNVITA]\n",
              "6              [MAGGI, TEA, CORNFLAKES]\n",
              "7          [MAGGI, BREAD, TEA, BISCUIT]\n",
              "8              [JAM, MAGGI, BREAD, TEA]\n",
              "9                         [BREAD, MILK]\n",
              "10  [COFFEE, COCK, BISCUIT, CORNFLAKES]\n",
              "11  [COFFEE, COCK, BISCUIT, CORNFLAKES]\n",
              "12           [COFFEE, SUGER, BOURNVITA]\n",
              "13                [BREAD, COFFEE, COCK]\n",
              "14              [BREAD, SUGER, BISCUIT]\n",
              "15          [COFFEE, SUGER, CORNFLAKES]\n",
              "16            [BREAD, SUGER, BOURNVITA]\n",
              "17               [BREAD, COFFEE, SUGER]\n",
              "18               [BREAD, COFFEE, SUGER]\n",
              "19      [TEA, MILK, COFFEE, CORNFLAKES]"
            ],
            "text/html": [
              "\n",
              "  <div id=\"df-7a42849f-7750-4402-8fc3-c8d129c17dab\" class=\"colab-df-container\">\n",
              "    <div>\n",
              "<style scoped>\n",
              "    .dataframe tbody tr th:only-of-type {\n",
              "        vertical-align: middle;\n",
              "    }\n",
              "\n",
              "    .dataframe tbody tr th {\n",
              "        vertical-align: top;\n",
              "    }\n",
              "\n",
              "    .dataframe thead th {\n",
              "        text-align: right;\n",
              "    }\n",
              "</style>\n",
              "<table border=\"1\" class=\"dataframe\">\n",
              "  <thead>\n",
              "    <tr style=\"text-align: right;\">\n",
              "      <th></th>\n",
              "      <th>Items</th>\n",
              "    </tr>\n",
              "  </thead>\n",
              "  <tbody>\n",
              "    <tr>\n",
              "      <th>0</th>\n",
              "      <td>[MILK, BREAD, BISCUIT]</td>\n",
              "    </tr>\n",
              "    <tr>\n",
              "      <th>1</th>\n",
              "      <td>[BREAD, MILK, BISCUIT, CORNFLAKES]</td>\n",
              "    </tr>\n",
              "    <tr>\n",
              "      <th>2</th>\n",
              "      <td>[BREAD, TEA, BOURNVITA]</td>\n",
              "    </tr>\n",
              "    <tr>\n",
              "      <th>3</th>\n",
              "      <td>[JAM, MAGGI, BREAD, MILK]</td>\n",
              "    </tr>\n",
              "    <tr>\n",
              "      <th>4</th>\n",
              "      <td>[MAGGI, TEA, BISCUIT]</td>\n",
              "    </tr>\n",
              "    <tr>\n",
              "      <th>5</th>\n",
              "      <td>[BREAD, TEA, BOURNVITA]</td>\n",
              "    </tr>\n",
              "    <tr>\n",
              "      <th>6</th>\n",
              "      <td>[MAGGI, TEA, CORNFLAKES]</td>\n",
              "    </tr>\n",
              "    <tr>\n",
              "      <th>7</th>\n",
              "      <td>[MAGGI, BREAD, TEA, BISCUIT]</td>\n",
              "    </tr>\n",
              "    <tr>\n",
              "      <th>8</th>\n",
              "      <td>[JAM, MAGGI, BREAD, TEA]</td>\n",
              "    </tr>\n",
              "    <tr>\n",
              "      <th>9</th>\n",
              "      <td>[BREAD, MILK]</td>\n",
              "    </tr>\n",
              "    <tr>\n",
              "      <th>10</th>\n",
              "      <td>[COFFEE, COCK, BISCUIT, CORNFLAKES]</td>\n",
              "    </tr>\n",
              "    <tr>\n",
              "      <th>11</th>\n",
              "      <td>[COFFEE, COCK, BISCUIT, CORNFLAKES]</td>\n",
              "    </tr>\n",
              "    <tr>\n",
              "      <th>12</th>\n",
              "      <td>[COFFEE, SUGER, BOURNVITA]</td>\n",
              "    </tr>\n",
              "    <tr>\n",
              "      <th>13</th>\n",
              "      <td>[BREAD, COFFEE, COCK]</td>\n",
              "    </tr>\n",
              "    <tr>\n",
              "      <th>14</th>\n",
              "      <td>[BREAD, SUGER, BISCUIT]</td>\n",
              "    </tr>\n",
              "    <tr>\n",
              "      <th>15</th>\n",
              "      <td>[COFFEE, SUGER, CORNFLAKES]</td>\n",
              "    </tr>\n",
              "    <tr>\n",
              "      <th>16</th>\n",
              "      <td>[BREAD, SUGER, BOURNVITA]</td>\n",
              "    </tr>\n",
              "    <tr>\n",
              "      <th>17</th>\n",
              "      <td>[BREAD, COFFEE, SUGER]</td>\n",
              "    </tr>\n",
              "    <tr>\n",
              "      <th>18</th>\n",
              "      <td>[BREAD, COFFEE, SUGER]</td>\n",
              "    </tr>\n",
              "    <tr>\n",
              "      <th>19</th>\n",
              "      <td>[TEA, MILK, COFFEE, CORNFLAKES]</td>\n",
              "    </tr>\n",
              "  </tbody>\n",
              "</table>\n",
              "</div>\n",
              "    <div class=\"colab-df-buttons\">\n",
              "\n",
              "  <div class=\"colab-df-container\">\n",
              "    <button class=\"colab-df-convert\" onclick=\"convertToInteractive('df-7a42849f-7750-4402-8fc3-c8d129c17dab')\"\n",
              "            title=\"Convert this dataframe to an interactive table.\"\n",
              "            style=\"display:none;\">\n",
              "\n",
              "  <svg xmlns=\"http://www.w3.org/2000/svg\" height=\"24px\" viewBox=\"0 -960 960 960\">\n",
              "    <path d=\"M120-120v-720h720v720H120Zm60-500h600v-160H180v160Zm220 220h160v-160H400v160Zm0 220h160v-160H400v160ZM180-400h160v-160H180v160Zm440 0h160v-160H620v160ZM180-180h160v-160H180v160Zm440 0h160v-160H620v160Z\"/>\n",
              "  </svg>\n",
              "    </button>\n",
              "\n",
              "  <style>\n",
              "    .colab-df-container {\n",
              "      display:flex;\n",
              "      gap: 12px;\n",
              "    }\n",
              "\n",
              "    .colab-df-convert {\n",
              "      background-color: #E8F0FE;\n",
              "      border: none;\n",
              "      border-radius: 50%;\n",
              "      cursor: pointer;\n",
              "      display: none;\n",
              "      fill: #1967D2;\n",
              "      height: 32px;\n",
              "      padding: 0 0 0 0;\n",
              "      width: 32px;\n",
              "    }\n",
              "\n",
              "    .colab-df-convert:hover {\n",
              "      background-color: #E2EBFA;\n",
              "      box-shadow: 0px 1px 2px rgba(60, 64, 67, 0.3), 0px 1px 3px 1px rgba(60, 64, 67, 0.15);\n",
              "      fill: #174EA6;\n",
              "    }\n",
              "\n",
              "    .colab-df-buttons div {\n",
              "      margin-bottom: 4px;\n",
              "    }\n",
              "\n",
              "    [theme=dark] .colab-df-convert {\n",
              "      background-color: #3B4455;\n",
              "      fill: #D2E3FC;\n",
              "    }\n",
              "\n",
              "    [theme=dark] .colab-df-convert:hover {\n",
              "      background-color: #434B5C;\n",
              "      box-shadow: 0px 1px 3px 1px rgba(0, 0, 0, 0.15);\n",
              "      filter: drop-shadow(0px 1px 2px rgba(0, 0, 0, 0.3));\n",
              "      fill: #FFFFFF;\n",
              "    }\n",
              "  </style>\n",
              "\n",
              "    <script>\n",
              "      const buttonEl =\n",
              "        document.querySelector('#df-7a42849f-7750-4402-8fc3-c8d129c17dab button.colab-df-convert');\n",
              "      buttonEl.style.display =\n",
              "        google.colab.kernel.accessAllowed ? 'block' : 'none';\n",
              "\n",
              "      async function convertToInteractive(key) {\n",
              "        const element = document.querySelector('#df-7a42849f-7750-4402-8fc3-c8d129c17dab');\n",
              "        const dataTable =\n",
              "          await google.colab.kernel.invokeFunction('convertToInteractive',\n",
              "                                                    [key], {});\n",
              "        if (!dataTable) return;\n",
              "\n",
              "        const docLinkHtml = 'Like what you see? Visit the ' +\n",
              "          '<a target=\"_blank\" href=https://colab.research.google.com/notebooks/data_table.ipynb>data table notebook</a>'\n",
              "          + ' to learn more about interactive tables.';\n",
              "        element.innerHTML = '';\n",
              "        dataTable['output_type'] = 'display_data';\n",
              "        await google.colab.output.renderOutput(dataTable, element);\n",
              "        const docLink = document.createElement('div');\n",
              "        docLink.innerHTML = docLinkHtml;\n",
              "        element.appendChild(docLink);\n",
              "      }\n",
              "    </script>\n",
              "  </div>\n",
              "\n",
              "\n",
              "<div id=\"df-8db71d9d-bc7b-4c87-8cc8-bfde4a2dcf72\">\n",
              "  <button class=\"colab-df-quickchart\" onclick=\"quickchart('df-8db71d9d-bc7b-4c87-8cc8-bfde4a2dcf72')\"\n",
              "            title=\"Suggest charts.\"\n",
              "            style=\"display:none;\">\n",
              "\n",
              "<svg xmlns=\"http://www.w3.org/2000/svg\" height=\"24px\"viewBox=\"0 0 24 24\"\n",
              "     width=\"24px\">\n",
              "    <g>\n",
              "        <path d=\"M19 3H5c-1.1 0-2 .9-2 2v14c0 1.1.9 2 2 2h14c1.1 0 2-.9 2-2V5c0-1.1-.9-2-2-2zM9 17H7v-7h2v7zm4 0h-2V7h2v10zm4 0h-2v-4h2v4z\"/>\n",
              "    </g>\n",
              "</svg>\n",
              "  </button>\n",
              "\n",
              "<style>\n",
              "  .colab-df-quickchart {\n",
              "      --bg-color: #E8F0FE;\n",
              "      --fill-color: #1967D2;\n",
              "      --hover-bg-color: #E2EBFA;\n",
              "      --hover-fill-color: #174EA6;\n",
              "      --disabled-fill-color: #AAA;\n",
              "      --disabled-bg-color: #DDD;\n",
              "  }\n",
              "\n",
              "  [theme=dark] .colab-df-quickchart {\n",
              "      --bg-color: #3B4455;\n",
              "      --fill-color: #D2E3FC;\n",
              "      --hover-bg-color: #434B5C;\n",
              "      --hover-fill-color: #FFFFFF;\n",
              "      --disabled-bg-color: #3B4455;\n",
              "      --disabled-fill-color: #666;\n",
              "  }\n",
              "\n",
              "  .colab-df-quickchart {\n",
              "    background-color: var(--bg-color);\n",
              "    border: none;\n",
              "    border-radius: 50%;\n",
              "    cursor: pointer;\n",
              "    display: none;\n",
              "    fill: var(--fill-color);\n",
              "    height: 32px;\n",
              "    padding: 0;\n",
              "    width: 32px;\n",
              "  }\n",
              "\n",
              "  .colab-df-quickchart:hover {\n",
              "    background-color: var(--hover-bg-color);\n",
              "    box-shadow: 0 1px 2px rgba(60, 64, 67, 0.3), 0 1px 3px 1px rgba(60, 64, 67, 0.15);\n",
              "    fill: var(--button-hover-fill-color);\n",
              "  }\n",
              "\n",
              "  .colab-df-quickchart-complete:disabled,\n",
              "  .colab-df-quickchart-complete:disabled:hover {\n",
              "    background-color: var(--disabled-bg-color);\n",
              "    fill: var(--disabled-fill-color);\n",
              "    box-shadow: none;\n",
              "  }\n",
              "\n",
              "  .colab-df-spinner {\n",
              "    border: 2px solid var(--fill-color);\n",
              "    border-color: transparent;\n",
              "    border-bottom-color: var(--fill-color);\n",
              "    animation:\n",
              "      spin 1s steps(1) infinite;\n",
              "  }\n",
              "\n",
              "  @keyframes spin {\n",
              "    0% {\n",
              "      border-color: transparent;\n",
              "      border-bottom-color: var(--fill-color);\n",
              "      border-left-color: var(--fill-color);\n",
              "    }\n",
              "    20% {\n",
              "      border-color: transparent;\n",
              "      border-left-color: var(--fill-color);\n",
              "      border-top-color: var(--fill-color);\n",
              "    }\n",
              "    30% {\n",
              "      border-color: transparent;\n",
              "      border-left-color: var(--fill-color);\n",
              "      border-top-color: var(--fill-color);\n",
              "      border-right-color: var(--fill-color);\n",
              "    }\n",
              "    40% {\n",
              "      border-color: transparent;\n",
              "      border-right-color: var(--fill-color);\n",
              "      border-top-color: var(--fill-color);\n",
              "    }\n",
              "    60% {\n",
              "      border-color: transparent;\n",
              "      border-right-color: var(--fill-color);\n",
              "    }\n",
              "    80% {\n",
              "      border-color: transparent;\n",
              "      border-right-color: var(--fill-color);\n",
              "      border-bottom-color: var(--fill-color);\n",
              "    }\n",
              "    90% {\n",
              "      border-color: transparent;\n",
              "      border-bottom-color: var(--fill-color);\n",
              "    }\n",
              "  }\n",
              "</style>\n",
              "\n",
              "  <script>\n",
              "    async function quickchart(key) {\n",
              "      const quickchartButtonEl =\n",
              "        document.querySelector('#' + key + ' button');\n",
              "      quickchartButtonEl.disabled = true;  // To prevent multiple clicks.\n",
              "      quickchartButtonEl.classList.add('colab-df-spinner');\n",
              "      try {\n",
              "        const charts = await google.colab.kernel.invokeFunction(\n",
              "            'suggestCharts', [key], {});\n",
              "      } catch (error) {\n",
              "        console.error('Error during call to suggestCharts:', error);\n",
              "      }\n",
              "      quickchartButtonEl.classList.remove('colab-df-spinner');\n",
              "      quickchartButtonEl.classList.add('colab-df-quickchart-complete');\n",
              "    }\n",
              "    (() => {\n",
              "      let quickchartButtonEl =\n",
              "        document.querySelector('#df-8db71d9d-bc7b-4c87-8cc8-bfde4a2dcf72 button');\n",
              "      quickchartButtonEl.style.display =\n",
              "        google.colab.kernel.accessAllowed ? 'block' : 'none';\n",
              "    })();\n",
              "  </script>\n",
              "</div>\n",
              "    </div>\n",
              "  </div>\n"
            ]
          },
          "metadata": {},
          "execution_count": 6
        }
      ]
    },
    {
      "cell_type": "code",
      "metadata": {
        "id": "cubic-shepherd",
        "colab": {
          "base_uri": "https://localhost:8080/"
        },
        "outputId": "d226762a-ccc7-4809-e139-9f6d9b29d7ab"
      },
      "source": [
        "# Finding the unique items from all the orders\n",
        "\n",
        "unique_items = [] # defining a empty list\n",
        "\n",
        "# Iterating over records in the dataset\n",
        "for i in store_data['Items']:\n",
        "    unique_items.extend(i) # extending the\n",
        "\n",
        "# extracting the unique items from the list by converting the list into the set\n",
        "unique_items = set(unique_items)\n",
        "unique_items"
      ],
      "id": "cubic-shepherd",
      "execution_count": 7,
      "outputs": [
        {
          "output_type": "execute_result",
          "data": {
            "text/plain": [
              "{'BISCUIT',\n",
              " 'BOURNVITA',\n",
              " 'BREAD',\n",
              " 'COCK',\n",
              " 'COFFEE',\n",
              " 'CORNFLAKES',\n",
              " 'JAM',\n",
              " 'MAGGI',\n",
              " 'MILK',\n",
              " 'SUGER',\n",
              " 'TEA'}"
            ]
          },
          "metadata": {},
          "execution_count": 7
        }
      ]
    },
    {
      "cell_type": "markdown",
      "metadata": {
        "id": "rough-flight"
      },
      "source": [
        "To know about extend click [here](https://www.techbeamers.com/python-list-extend/)"
      ],
      "id": "rough-flight"
    },
    {
      "cell_type": "code",
      "metadata": {
        "id": "usual-appeal",
        "colab": {
          "base_uri": "https://localhost:8080/",
          "height": 677
        },
        "outputId": "a66fc7f3-cb4e-4a38-9bfa-e478838e18bd"
      },
      "source": [
        "# Initializing an empty dictionary\n",
        "collections = dict()\n",
        "\n",
        "# Iterating over the unique items and indexing in each item\n",
        "for item in unique_items:\n",
        "    # creating a dictionary where item is the key and occurence of the item in the record is the value\n",
        "    collections[item] = [1 if item in row else 0 for row in store_data['Items'] ]\n",
        "orders = pd.DataFrame(collections)\n",
        "orders"
      ],
      "id": "usual-appeal",
      "execution_count": 8,
      "outputs": [
        {
          "output_type": "execute_result",
          "data": {
            "text/plain": [
              "    COCK  JAM  BOURNVITA  BISCUIT  CORNFLAKES  MILK  BREAD  MAGGI  SUGER  TEA  \\\n",
              "0      0    0          0        1           0     1      1      0      0    0   \n",
              "1      0    0          0        1           1     1      1      0      0    0   \n",
              "2      0    0          1        0           0     0      1      0      0    1   \n",
              "3      0    1          0        0           0     1      1      1      0    0   \n",
              "4      0    0          0        1           0     0      0      1      0    1   \n",
              "5      0    0          1        0           0     0      1      0      0    1   \n",
              "6      0    0          0        0           1     0      0      1      0    1   \n",
              "7      0    0          0        1           0     0      1      1      0    1   \n",
              "8      0    1          0        0           0     0      1      1      0    1   \n",
              "9      0    0          0        0           0     1      1      0      0    0   \n",
              "10     1    0          0        1           1     0      0      0      0    0   \n",
              "11     1    0          0        1           1     0      0      0      0    0   \n",
              "12     0    0          1        0           0     0      0      0      1    0   \n",
              "13     1    0          0        0           0     0      1      0      0    0   \n",
              "14     0    0          0        1           0     0      1      0      1    0   \n",
              "15     0    0          0        0           1     0      0      0      1    0   \n",
              "16     0    0          1        0           0     0      1      0      1    0   \n",
              "17     0    0          0        0           0     0      1      0      1    0   \n",
              "18     0    0          0        0           0     0      1      0      1    0   \n",
              "19     0    0          0        0           1     1      0      0      0    1   \n",
              "\n",
              "    COFFEE  \n",
              "0        0  \n",
              "1        0  \n",
              "2        0  \n",
              "3        0  \n",
              "4        0  \n",
              "5        0  \n",
              "6        0  \n",
              "7        0  \n",
              "8        0  \n",
              "9        0  \n",
              "10       1  \n",
              "11       1  \n",
              "12       1  \n",
              "13       1  \n",
              "14       0  \n",
              "15       1  \n",
              "16       0  \n",
              "17       1  \n",
              "18       1  \n",
              "19       1  "
            ],
            "text/html": [
              "\n",
              "  <div id=\"df-6765812e-e8d1-4086-afac-ed8c43766748\" class=\"colab-df-container\">\n",
              "    <div>\n",
              "<style scoped>\n",
              "    .dataframe tbody tr th:only-of-type {\n",
              "        vertical-align: middle;\n",
              "    }\n",
              "\n",
              "    .dataframe tbody tr th {\n",
              "        vertical-align: top;\n",
              "    }\n",
              "\n",
              "    .dataframe thead th {\n",
              "        text-align: right;\n",
              "    }\n",
              "</style>\n",
              "<table border=\"1\" class=\"dataframe\">\n",
              "  <thead>\n",
              "    <tr style=\"text-align: right;\">\n",
              "      <th></th>\n",
              "      <th>COCK</th>\n",
              "      <th>JAM</th>\n",
              "      <th>BOURNVITA</th>\n",
              "      <th>BISCUIT</th>\n",
              "      <th>CORNFLAKES</th>\n",
              "      <th>MILK</th>\n",
              "      <th>BREAD</th>\n",
              "      <th>MAGGI</th>\n",
              "      <th>SUGER</th>\n",
              "      <th>TEA</th>\n",
              "      <th>COFFEE</th>\n",
              "    </tr>\n",
              "  </thead>\n",
              "  <tbody>\n",
              "    <tr>\n",
              "      <th>0</th>\n",
              "      <td>0</td>\n",
              "      <td>0</td>\n",
              "      <td>0</td>\n",
              "      <td>1</td>\n",
              "      <td>0</td>\n",
              "      <td>1</td>\n",
              "      <td>1</td>\n",
              "      <td>0</td>\n",
              "      <td>0</td>\n",
              "      <td>0</td>\n",
              "      <td>0</td>\n",
              "    </tr>\n",
              "    <tr>\n",
              "      <th>1</th>\n",
              "      <td>0</td>\n",
              "      <td>0</td>\n",
              "      <td>0</td>\n",
              "      <td>1</td>\n",
              "      <td>1</td>\n",
              "      <td>1</td>\n",
              "      <td>1</td>\n",
              "      <td>0</td>\n",
              "      <td>0</td>\n",
              "      <td>0</td>\n",
              "      <td>0</td>\n",
              "    </tr>\n",
              "    <tr>\n",
              "      <th>2</th>\n",
              "      <td>0</td>\n",
              "      <td>0</td>\n",
              "      <td>1</td>\n",
              "      <td>0</td>\n",
              "      <td>0</td>\n",
              "      <td>0</td>\n",
              "      <td>1</td>\n",
              "      <td>0</td>\n",
              "      <td>0</td>\n",
              "      <td>1</td>\n",
              "      <td>0</td>\n",
              "    </tr>\n",
              "    <tr>\n",
              "      <th>3</th>\n",
              "      <td>0</td>\n",
              "      <td>1</td>\n",
              "      <td>0</td>\n",
              "      <td>0</td>\n",
              "      <td>0</td>\n",
              "      <td>1</td>\n",
              "      <td>1</td>\n",
              "      <td>1</td>\n",
              "      <td>0</td>\n",
              "      <td>0</td>\n",
              "      <td>0</td>\n",
              "    </tr>\n",
              "    <tr>\n",
              "      <th>4</th>\n",
              "      <td>0</td>\n",
              "      <td>0</td>\n",
              "      <td>0</td>\n",
              "      <td>1</td>\n",
              "      <td>0</td>\n",
              "      <td>0</td>\n",
              "      <td>0</td>\n",
              "      <td>1</td>\n",
              "      <td>0</td>\n",
              "      <td>1</td>\n",
              "      <td>0</td>\n",
              "    </tr>\n",
              "    <tr>\n",
              "      <th>5</th>\n",
              "      <td>0</td>\n",
              "      <td>0</td>\n",
              "      <td>1</td>\n",
              "      <td>0</td>\n",
              "      <td>0</td>\n",
              "      <td>0</td>\n",
              "      <td>1</td>\n",
              "      <td>0</td>\n",
              "      <td>0</td>\n",
              "      <td>1</td>\n",
              "      <td>0</td>\n",
              "    </tr>\n",
              "    <tr>\n",
              "      <th>6</th>\n",
              "      <td>0</td>\n",
              "      <td>0</td>\n",
              "      <td>0</td>\n",
              "      <td>0</td>\n",
              "      <td>1</td>\n",
              "      <td>0</td>\n",
              "      <td>0</td>\n",
              "      <td>1</td>\n",
              "      <td>0</td>\n",
              "      <td>1</td>\n",
              "      <td>0</td>\n",
              "    </tr>\n",
              "    <tr>\n",
              "      <th>7</th>\n",
              "      <td>0</td>\n",
              "      <td>0</td>\n",
              "      <td>0</td>\n",
              "      <td>1</td>\n",
              "      <td>0</td>\n",
              "      <td>0</td>\n",
              "      <td>1</td>\n",
              "      <td>1</td>\n",
              "      <td>0</td>\n",
              "      <td>1</td>\n",
              "      <td>0</td>\n",
              "    </tr>\n",
              "    <tr>\n",
              "      <th>8</th>\n",
              "      <td>0</td>\n",
              "      <td>1</td>\n",
              "      <td>0</td>\n",
              "      <td>0</td>\n",
              "      <td>0</td>\n",
              "      <td>0</td>\n",
              "      <td>1</td>\n",
              "      <td>1</td>\n",
              "      <td>0</td>\n",
              "      <td>1</td>\n",
              "      <td>0</td>\n",
              "    </tr>\n",
              "    <tr>\n",
              "      <th>9</th>\n",
              "      <td>0</td>\n",
              "      <td>0</td>\n",
              "      <td>0</td>\n",
              "      <td>0</td>\n",
              "      <td>0</td>\n",
              "      <td>1</td>\n",
              "      <td>1</td>\n",
              "      <td>0</td>\n",
              "      <td>0</td>\n",
              "      <td>0</td>\n",
              "      <td>0</td>\n",
              "    </tr>\n",
              "    <tr>\n",
              "      <th>10</th>\n",
              "      <td>1</td>\n",
              "      <td>0</td>\n",
              "      <td>0</td>\n",
              "      <td>1</td>\n",
              "      <td>1</td>\n",
              "      <td>0</td>\n",
              "      <td>0</td>\n",
              "      <td>0</td>\n",
              "      <td>0</td>\n",
              "      <td>0</td>\n",
              "      <td>1</td>\n",
              "    </tr>\n",
              "    <tr>\n",
              "      <th>11</th>\n",
              "      <td>1</td>\n",
              "      <td>0</td>\n",
              "      <td>0</td>\n",
              "      <td>1</td>\n",
              "      <td>1</td>\n",
              "      <td>0</td>\n",
              "      <td>0</td>\n",
              "      <td>0</td>\n",
              "      <td>0</td>\n",
              "      <td>0</td>\n",
              "      <td>1</td>\n",
              "    </tr>\n",
              "    <tr>\n",
              "      <th>12</th>\n",
              "      <td>0</td>\n",
              "      <td>0</td>\n",
              "      <td>1</td>\n",
              "      <td>0</td>\n",
              "      <td>0</td>\n",
              "      <td>0</td>\n",
              "      <td>0</td>\n",
              "      <td>0</td>\n",
              "      <td>1</td>\n",
              "      <td>0</td>\n",
              "      <td>1</td>\n",
              "    </tr>\n",
              "    <tr>\n",
              "      <th>13</th>\n",
              "      <td>1</td>\n",
              "      <td>0</td>\n",
              "      <td>0</td>\n",
              "      <td>0</td>\n",
              "      <td>0</td>\n",
              "      <td>0</td>\n",
              "      <td>1</td>\n",
              "      <td>0</td>\n",
              "      <td>0</td>\n",
              "      <td>0</td>\n",
              "      <td>1</td>\n",
              "    </tr>\n",
              "    <tr>\n",
              "      <th>14</th>\n",
              "      <td>0</td>\n",
              "      <td>0</td>\n",
              "      <td>0</td>\n",
              "      <td>1</td>\n",
              "      <td>0</td>\n",
              "      <td>0</td>\n",
              "      <td>1</td>\n",
              "      <td>0</td>\n",
              "      <td>1</td>\n",
              "      <td>0</td>\n",
              "      <td>0</td>\n",
              "    </tr>\n",
              "    <tr>\n",
              "      <th>15</th>\n",
              "      <td>0</td>\n",
              "      <td>0</td>\n",
              "      <td>0</td>\n",
              "      <td>0</td>\n",
              "      <td>1</td>\n",
              "      <td>0</td>\n",
              "      <td>0</td>\n",
              "      <td>0</td>\n",
              "      <td>1</td>\n",
              "      <td>0</td>\n",
              "      <td>1</td>\n",
              "    </tr>\n",
              "    <tr>\n",
              "      <th>16</th>\n",
              "      <td>0</td>\n",
              "      <td>0</td>\n",
              "      <td>1</td>\n",
              "      <td>0</td>\n",
              "      <td>0</td>\n",
              "      <td>0</td>\n",
              "      <td>1</td>\n",
              "      <td>0</td>\n",
              "      <td>1</td>\n",
              "      <td>0</td>\n",
              "      <td>0</td>\n",
              "    </tr>\n",
              "    <tr>\n",
              "      <th>17</th>\n",
              "      <td>0</td>\n",
              "      <td>0</td>\n",
              "      <td>0</td>\n",
              "      <td>0</td>\n",
              "      <td>0</td>\n",
              "      <td>0</td>\n",
              "      <td>1</td>\n",
              "      <td>0</td>\n",
              "      <td>1</td>\n",
              "      <td>0</td>\n",
              "      <td>1</td>\n",
              "    </tr>\n",
              "    <tr>\n",
              "      <th>18</th>\n",
              "      <td>0</td>\n",
              "      <td>0</td>\n",
              "      <td>0</td>\n",
              "      <td>0</td>\n",
              "      <td>0</td>\n",
              "      <td>0</td>\n",
              "      <td>1</td>\n",
              "      <td>0</td>\n",
              "      <td>1</td>\n",
              "      <td>0</td>\n",
              "      <td>1</td>\n",
              "    </tr>\n",
              "    <tr>\n",
              "      <th>19</th>\n",
              "      <td>0</td>\n",
              "      <td>0</td>\n",
              "      <td>0</td>\n",
              "      <td>0</td>\n",
              "      <td>1</td>\n",
              "      <td>1</td>\n",
              "      <td>0</td>\n",
              "      <td>0</td>\n",
              "      <td>0</td>\n",
              "      <td>1</td>\n",
              "      <td>1</td>\n",
              "    </tr>\n",
              "  </tbody>\n",
              "</table>\n",
              "</div>\n",
              "    <div class=\"colab-df-buttons\">\n",
              "\n",
              "  <div class=\"colab-df-container\">\n",
              "    <button class=\"colab-df-convert\" onclick=\"convertToInteractive('df-6765812e-e8d1-4086-afac-ed8c43766748')\"\n",
              "            title=\"Convert this dataframe to an interactive table.\"\n",
              "            style=\"display:none;\">\n",
              "\n",
              "  <svg xmlns=\"http://www.w3.org/2000/svg\" height=\"24px\" viewBox=\"0 -960 960 960\">\n",
              "    <path d=\"M120-120v-720h720v720H120Zm60-500h600v-160H180v160Zm220 220h160v-160H400v160Zm0 220h160v-160H400v160ZM180-400h160v-160H180v160Zm440 0h160v-160H620v160ZM180-180h160v-160H180v160Zm440 0h160v-160H620v160Z\"/>\n",
              "  </svg>\n",
              "    </button>\n",
              "\n",
              "  <style>\n",
              "    .colab-df-container {\n",
              "      display:flex;\n",
              "      gap: 12px;\n",
              "    }\n",
              "\n",
              "    .colab-df-convert {\n",
              "      background-color: #E8F0FE;\n",
              "      border: none;\n",
              "      border-radius: 50%;\n",
              "      cursor: pointer;\n",
              "      display: none;\n",
              "      fill: #1967D2;\n",
              "      height: 32px;\n",
              "      padding: 0 0 0 0;\n",
              "      width: 32px;\n",
              "    }\n",
              "\n",
              "    .colab-df-convert:hover {\n",
              "      background-color: #E2EBFA;\n",
              "      box-shadow: 0px 1px 2px rgba(60, 64, 67, 0.3), 0px 1px 3px 1px rgba(60, 64, 67, 0.15);\n",
              "      fill: #174EA6;\n",
              "    }\n",
              "\n",
              "    .colab-df-buttons div {\n",
              "      margin-bottom: 4px;\n",
              "    }\n",
              "\n",
              "    [theme=dark] .colab-df-convert {\n",
              "      background-color: #3B4455;\n",
              "      fill: #D2E3FC;\n",
              "    }\n",
              "\n",
              "    [theme=dark] .colab-df-convert:hover {\n",
              "      background-color: #434B5C;\n",
              "      box-shadow: 0px 1px 3px 1px rgba(0, 0, 0, 0.15);\n",
              "      filter: drop-shadow(0px 1px 2px rgba(0, 0, 0, 0.3));\n",
              "      fill: #FFFFFF;\n",
              "    }\n",
              "  </style>\n",
              "\n",
              "    <script>\n",
              "      const buttonEl =\n",
              "        document.querySelector('#df-6765812e-e8d1-4086-afac-ed8c43766748 button.colab-df-convert');\n",
              "      buttonEl.style.display =\n",
              "        google.colab.kernel.accessAllowed ? 'block' : 'none';\n",
              "\n",
              "      async function convertToInteractive(key) {\n",
              "        const element = document.querySelector('#df-6765812e-e8d1-4086-afac-ed8c43766748');\n",
              "        const dataTable =\n",
              "          await google.colab.kernel.invokeFunction('convertToInteractive',\n",
              "                                                    [key], {});\n",
              "        if (!dataTable) return;\n",
              "\n",
              "        const docLinkHtml = 'Like what you see? Visit the ' +\n",
              "          '<a target=\"_blank\" href=https://colab.research.google.com/notebooks/data_table.ipynb>data table notebook</a>'\n",
              "          + ' to learn more about interactive tables.';\n",
              "        element.innerHTML = '';\n",
              "        dataTable['output_type'] = 'display_data';\n",
              "        await google.colab.output.renderOutput(dataTable, element);\n",
              "        const docLink = document.createElement('div');\n",
              "        docLink.innerHTML = docLinkHtml;\n",
              "        element.appendChild(docLink);\n",
              "      }\n",
              "    </script>\n",
              "  </div>\n",
              "\n",
              "\n",
              "<div id=\"df-f6a392b7-1ac9-46b3-a64b-9666e4aafa80\">\n",
              "  <button class=\"colab-df-quickchart\" onclick=\"quickchart('df-f6a392b7-1ac9-46b3-a64b-9666e4aafa80')\"\n",
              "            title=\"Suggest charts.\"\n",
              "            style=\"display:none;\">\n",
              "\n",
              "<svg xmlns=\"http://www.w3.org/2000/svg\" height=\"24px\"viewBox=\"0 0 24 24\"\n",
              "     width=\"24px\">\n",
              "    <g>\n",
              "        <path d=\"M19 3H5c-1.1 0-2 .9-2 2v14c0 1.1.9 2 2 2h14c1.1 0 2-.9 2-2V5c0-1.1-.9-2-2-2zM9 17H7v-7h2v7zm4 0h-2V7h2v10zm4 0h-2v-4h2v4z\"/>\n",
              "    </g>\n",
              "</svg>\n",
              "  </button>\n",
              "\n",
              "<style>\n",
              "  .colab-df-quickchart {\n",
              "      --bg-color: #E8F0FE;\n",
              "      --fill-color: #1967D2;\n",
              "      --hover-bg-color: #E2EBFA;\n",
              "      --hover-fill-color: #174EA6;\n",
              "      --disabled-fill-color: #AAA;\n",
              "      --disabled-bg-color: #DDD;\n",
              "  }\n",
              "\n",
              "  [theme=dark] .colab-df-quickchart {\n",
              "      --bg-color: #3B4455;\n",
              "      --fill-color: #D2E3FC;\n",
              "      --hover-bg-color: #434B5C;\n",
              "      --hover-fill-color: #FFFFFF;\n",
              "      --disabled-bg-color: #3B4455;\n",
              "      --disabled-fill-color: #666;\n",
              "  }\n",
              "\n",
              "  .colab-df-quickchart {\n",
              "    background-color: var(--bg-color);\n",
              "    border: none;\n",
              "    border-radius: 50%;\n",
              "    cursor: pointer;\n",
              "    display: none;\n",
              "    fill: var(--fill-color);\n",
              "    height: 32px;\n",
              "    padding: 0;\n",
              "    width: 32px;\n",
              "  }\n",
              "\n",
              "  .colab-df-quickchart:hover {\n",
              "    background-color: var(--hover-bg-color);\n",
              "    box-shadow: 0 1px 2px rgba(60, 64, 67, 0.3), 0 1px 3px 1px rgba(60, 64, 67, 0.15);\n",
              "    fill: var(--button-hover-fill-color);\n",
              "  }\n",
              "\n",
              "  .colab-df-quickchart-complete:disabled,\n",
              "  .colab-df-quickchart-complete:disabled:hover {\n",
              "    background-color: var(--disabled-bg-color);\n",
              "    fill: var(--disabled-fill-color);\n",
              "    box-shadow: none;\n",
              "  }\n",
              "\n",
              "  .colab-df-spinner {\n",
              "    border: 2px solid var(--fill-color);\n",
              "    border-color: transparent;\n",
              "    border-bottom-color: var(--fill-color);\n",
              "    animation:\n",
              "      spin 1s steps(1) infinite;\n",
              "  }\n",
              "\n",
              "  @keyframes spin {\n",
              "    0% {\n",
              "      border-color: transparent;\n",
              "      border-bottom-color: var(--fill-color);\n",
              "      border-left-color: var(--fill-color);\n",
              "    }\n",
              "    20% {\n",
              "      border-color: transparent;\n",
              "      border-left-color: var(--fill-color);\n",
              "      border-top-color: var(--fill-color);\n",
              "    }\n",
              "    30% {\n",
              "      border-color: transparent;\n",
              "      border-left-color: var(--fill-color);\n",
              "      border-top-color: var(--fill-color);\n",
              "      border-right-color: var(--fill-color);\n",
              "    }\n",
              "    40% {\n",
              "      border-color: transparent;\n",
              "      border-right-color: var(--fill-color);\n",
              "      border-top-color: var(--fill-color);\n",
              "    }\n",
              "    60% {\n",
              "      border-color: transparent;\n",
              "      border-right-color: var(--fill-color);\n",
              "    }\n",
              "    80% {\n",
              "      border-color: transparent;\n",
              "      border-right-color: var(--fill-color);\n",
              "      border-bottom-color: var(--fill-color);\n",
              "    }\n",
              "    90% {\n",
              "      border-color: transparent;\n",
              "      border-bottom-color: var(--fill-color);\n",
              "    }\n",
              "  }\n",
              "</style>\n",
              "\n",
              "  <script>\n",
              "    async function quickchart(key) {\n",
              "      const quickchartButtonEl =\n",
              "        document.querySelector('#' + key + ' button');\n",
              "      quickchartButtonEl.disabled = true;  // To prevent multiple clicks.\n",
              "      quickchartButtonEl.classList.add('colab-df-spinner');\n",
              "      try {\n",
              "        const charts = await google.colab.kernel.invokeFunction(\n",
              "            'suggestCharts', [key], {});\n",
              "      } catch (error) {\n",
              "        console.error('Error during call to suggestCharts:', error);\n",
              "      }\n",
              "      quickchartButtonEl.classList.remove('colab-df-spinner');\n",
              "      quickchartButtonEl.classList.add('colab-df-quickchart-complete');\n",
              "    }\n",
              "    (() => {\n",
              "      let quickchartButtonEl =\n",
              "        document.querySelector('#df-f6a392b7-1ac9-46b3-a64b-9666e4aafa80 button');\n",
              "      quickchartButtonEl.style.display =\n",
              "        google.colab.kernel.accessAllowed ? 'block' : 'none';\n",
              "    })();\n",
              "  </script>\n",
              "</div>\n",
              "    </div>\n",
              "  </div>\n"
            ]
          },
          "metadata": {},
          "execution_count": 8
        }
      ]
    },
    {
      "cell_type": "markdown",
      "metadata": {
        "id": "vMksHOuJR0Ir"
      },
      "source": [
        "### Giving an index to each item to represent it with a number in each transaction"
      ],
      "id": "vMksHOuJR0Ir"
    },
    {
      "cell_type": "code",
      "metadata": {
        "id": "YgCfDnPSHi4k",
        "colab": {
          "base_uri": "https://localhost:8080/"
        },
        "outputId": "307900fe-892b-4ab8-900a-adc3f5a08a5e"
      },
      "source": [
        "item_dict = dict(zip(unique_items, range(1, len(unique_items))))\n",
        "item_dict"
      ],
      "id": "YgCfDnPSHi4k",
      "execution_count": 9,
      "outputs": [
        {
          "output_type": "execute_result",
          "data": {
            "text/plain": [
              "{'COCK': 1,\n",
              " 'JAM': 2,\n",
              " 'BOURNVITA': 3,\n",
              " 'BISCUIT': 4,\n",
              " 'CORNFLAKES': 5,\n",
              " 'MILK': 6,\n",
              " 'BREAD': 7,\n",
              " 'MAGGI': 8,\n",
              " 'SUGER': 9,\n",
              " 'TEA': 10}"
            ]
          },
          "metadata": {},
          "execution_count": 9
        }
      ]
    },
    {
      "cell_type": "code",
      "metadata": {
        "id": "rental-detector",
        "colab": {
          "base_uri": "https://localhost:8080/"
        },
        "outputId": "2ebac606-9720-4a00-83cc-eaa0db1b8b16"
      },
      "source": [
        "item_list = list(orders.columns)\n",
        "item_dict = dict()\n",
        "\n",
        "# Iterating the item list\n",
        "for i, item in enumerate(item_list):\n",
        "    # Assigning index to item name to represent with a number\n",
        "    item_dict[item] = i + 1\n",
        "\n",
        "item_dict"
      ],
      "id": "rental-detector",
      "execution_count": 10,
      "outputs": [
        {
          "output_type": "execute_result",
          "data": {
            "text/plain": [
              "{'COCK': 1,\n",
              " 'JAM': 2,\n",
              " 'BOURNVITA': 3,\n",
              " 'BISCUIT': 4,\n",
              " 'CORNFLAKES': 5,\n",
              " 'MILK': 6,\n",
              " 'BREAD': 7,\n",
              " 'MAGGI': 8,\n",
              " 'SUGER': 9,\n",
              " 'TEA': 10,\n",
              " 'COFFEE': 11}"
            ]
          },
          "metadata": {},
          "execution_count": 10
        }
      ]
    },
    {
      "cell_type": "markdown",
      "metadata": {
        "id": "successful-boards"
      },
      "source": [
        "### Identifying the pattern of the items purchased in each order"
      ],
      "id": "successful-boards"
    },
    {
      "cell_type": "code",
      "metadata": {
        "id": "atomic-gender",
        "colab": {
          "base_uri": "https://localhost:8080/"
        },
        "outputId": "386963ef-c001-48b9-d114-987773d04485"
      },
      "source": [
        "transactions = list()\n",
        "\n",
        "for i, row in orders.iterrows():\n",
        "    transaction = set()\n",
        "\n",
        "    for item in item_dict:\n",
        "        if row[item] != 0:\n",
        "            transaction.add(item_dict[item])\n",
        "    transactions.append(transaction)\n",
        "\n",
        "transactions"
      ],
      "id": "atomic-gender",
      "execution_count": 11,
      "outputs": [
        {
          "output_type": "execute_result",
          "data": {
            "text/plain": [
              "[{4, 6, 7},\n",
              " {4, 5, 6, 7},\n",
              " {3, 7, 10},\n",
              " {2, 6, 7, 8},\n",
              " {4, 8, 10},\n",
              " {3, 7, 10},\n",
              " {5, 8, 10},\n",
              " {4, 7, 8, 10},\n",
              " {2, 7, 8, 10},\n",
              " {6, 7},\n",
              " {1, 4, 5, 11},\n",
              " {1, 4, 5, 11},\n",
              " {3, 9, 11},\n",
              " {1, 7, 11},\n",
              " {4, 7, 9},\n",
              " {5, 9, 11},\n",
              " {3, 7, 9},\n",
              " {7, 9, 11},\n",
              " {7, 9, 11},\n",
              " {5, 6, 10, 11}]"
            ]
          },
          "metadata": {},
          "execution_count": 11
        }
      ]
    },
    {
      "cell_type": "markdown",
      "metadata": {
        "id": "sharp-electric"
      },
      "source": [
        "#### Helper functions"
      ],
      "id": "sharp-electric"
    },
    {
      "cell_type": "markdown",
      "metadata": {
        "id": "unusual-cooler"
      },
      "source": [
        "Let's create a function that return the support value for the given item_set from the provided list of transactions."
      ],
      "id": "unusual-cooler"
    },
    {
      "cell_type": "code",
      "metadata": {
        "id": "tested-invite"
      },
      "source": [
        "def get_support(transactions, item_set):\n",
        "    match_count = 0 # initializing a variable to store the number of transactions where the given item_set is found.\n",
        "\n",
        "    # Iterating through the the list of transactions\n",
        "    for transaction in transactions:\n",
        "        if item_set.issubset(transaction): # checking whether the given item_set is a subset of the transaction or not\n",
        "            match_count += 1 # incrementing the count when the above condition is met\n",
        "    # support value calculated by dividing the match_count by total number of transactions is returned\n",
        "    return float(match_count/len(transactions))"
      ],
      "id": "tested-invite",
      "execution_count": 12,
      "outputs": []
    },
    {
      "cell_type": "markdown",
      "metadata": {
        "id": "infinite-newark"
      },
      "source": [
        "\n",
        "Let us create another helper function which performs self join in the given list of frequent itemsets of previous level and generates the candidate itemsets for the current level."
      ],
      "id": "infinite-newark"
    },
    {
      "cell_type": "code",
      "metadata": {
        "id": "proud-pressing"
      },
      "source": [
        "# this function takes 2 arguments as input. the 1st argument is map of level to the list of itemsets found\n",
        "# to be frequent for that level, 2nd argument is the current level number.\n",
        "def self_join(frequent_item_sets_per_level, level):\n",
        "    # initializing an empty list to store the current level candidates\n",
        "    current_level_candidates = list()\n",
        "    # Storing the list of frequent itemsets from the previous level\n",
        "    last_level_items = frequent_item_sets_per_level[level - 1]\n",
        "\n",
        "    # If there are no frequent itemsets from the previous level, it returns an empty list for current_level_candidates.\n",
        "    # Otherwise, it iterates through each itemset in last_level_items starting from 0 for index i,\n",
        "    # and for each itemset in last_level_items starting from 1 for index j.\n",
        "    if len(last_level_items) == 0:\n",
        "        return current_level_candidates\n",
        "\n",
        "    for i in range(len(last_level_items)):\n",
        "        for j in range(i+1, len(last_level_items)):\n",
        "            itemset_i = last_level_items[i][0]\n",
        "            itemset_j = last_level_items[j][0]\n",
        "            # union of itemsets at indices i and j\n",
        "            union_set = itemset_i.union(itemset_j)\n",
        "\n",
        "            #If this union_set is not already present in current_level_candidates and the\n",
        "            # number of elements in the union_set is equal to the level number,\n",
        "            # then this union_set is appended into current_level_candidates.\n",
        "            if union_set not in current_level_candidates and len(union_set) == level:\n",
        "                current_level_candidates.append(union_set)\n",
        "\n",
        "    return current_level_candidates"
      ],
      "id": "proud-pressing",
      "execution_count": 13,
      "outputs": []
    },
    {
      "cell_type": "markdown",
      "metadata": {
        "id": "still-compound"
      },
      "source": [
        "\n",
        "We have a check for the number of elements in union_set to ensure that the current_level_candidates contain only the sets of fixed length. This is a requirement for Apriori Algorithm"
      ],
      "id": "still-compound"
    },
    {
      "cell_type": "markdown",
      "metadata": {
        "id": "recognized-investigation"
      },
      "source": [
        "Let's create another function that returns the subsets of the given items with one item less."
      ],
      "id": "recognized-investigation"
    },
    {
      "cell_type": "code",
      "metadata": {
        "id": "sensitive-incentive"
      },
      "source": [
        "def get_single_drop_subsets(item_set):\n",
        "    # initializing an empty list\n",
        "    single_drop_subsets = list()\n",
        "\n",
        "    # Iterating over each item in the item set\n",
        "    for item in item_set:\n",
        "        # creating a temporary copy of the item_set given\n",
        "        temp = item_set.copy()\n",
        "        # removing this item from the temporary item set (a subset of length one less than the length of the item_set)\n",
        "        temp.remove(item)\n",
        "        # append this temporary set to the single_drop_subsets\n",
        "        single_drop_subsets.append(temp)\n",
        "\n",
        "    return single_drop_subsets"
      ],
      "id": "sensitive-incentive",
      "execution_count": 14,
      "outputs": []
    },
    {
      "cell_type": "markdown",
      "metadata": {
        "id": "lesser-agenda"
      },
      "source": [
        "**is_valid_set()** checks if the given item_set is valid, i.e., has all its subsets with support value greater than the minimum support value. It relies on the fact that prev_level_sets contains only those item_sets which are frequent, i.e., have support value greater than the minimum support value."
      ],
      "id": "lesser-agenda"
    },
    {
      "cell_type": "markdown",
      "metadata": {
        "id": "moving-acrobat"
      },
      "source": [
        "Now Let's create another function that checks if the given item_set is valid, i.e., has all its subsets with support value greater than the minimum support value. It relies on the fact that prev_level_sets contains only those item_sets which are frequent, i.e., have support value greater than the minimum support value."
      ],
      "id": "moving-acrobat"
    },
    {
      "cell_type": "code",
      "metadata": {
        "id": "distinct-unknown"
      },
      "source": [
        "\n",
        "def is_valid_set(item_set, prev_level_sets):\n",
        "    # generating all the subsets of the given item_set with length one less than the length of the original item_set.\n",
        "    # This is done using the above described function get_single_drop_subsets()\n",
        "    single_drop_subsets = get_single_drop_subsets(item_set)\n",
        "\n",
        "    # iterating through the single_drop_subsets list.\n",
        "    for single_drop_set in single_drop_subsets:\n",
        "        # checks if it was present in the prev_level_sets. If it wasn’t it means the given\n",
        "        # item_set is a superset of a non-frequent item_set. Thus, it returns False\n",
        "        # If all the single_drop_subsets are frequent itemsets, and are present in the prev_level_sets, it returns True\n",
        "        if single_drop_set not in prev_level_sets:\n",
        "            return False\n",
        "    return True"
      ],
      "id": "distinct-unknown",
      "execution_count": 15,
      "outputs": []
    },
    {
      "cell_type": "markdown",
      "metadata": {
        "id": "interior-tunisia"
      },
      "source": [
        "Now let's perform the pruning step of the Apriori Algorithm. It takes a list candidate_set of all the candidate itemsets for the current level, and for each candidate itemset checks if all its subsets are frequent itemsets. If not, it prunes it, If yes, it adds it to the list of post_pruning_set."
      ],
      "id": "interior-tunisia"
    },
    {
      "cell_type": "code",
      "metadata": {
        "id": "textile-oklahoma"
      },
      "source": [
        "def pruning(frequent_item_sets_per_level, level, candidate_set):\n",
        "    # Initializing empty list to store the list of frequent itemsets for the current level\n",
        "    # after performing pruning operation on the given list of candidate sets.\n",
        "    post_pruning_set = list()\n",
        "    # If there are no candidate_set, it returns an empty list.\n",
        "    # Otherwise, it first creates a list of frequent itemsets from the previous level and stores it in prev_level_sets.\n",
        "    if len(candidate_set) == 0:\n",
        "        return post_pruning_set\n",
        "\n",
        "    prev_level_sets = list()\n",
        "    for item_set, _ in frequent_item_sets_per_level[level - 1]:\n",
        "        prev_level_sets.append(item_set)\n",
        "\n",
        "    # Iterating over each item_set in candidate_set list\n",
        "    for item_set in candidate_set:\n",
        "        # checking whether it is a valid itemset or not\n",
        "        if is_valid_set(item_set, prev_level_sets):\n",
        "            # If this item_set is valid, it is appended to the list of post_pruning_set.\n",
        "            post_pruning_set.append(item_set)\n",
        "\n",
        "    return post_pruning_set"
      ],
      "id": "textile-oklahoma",
      "execution_count": 16,
      "outputs": []
    },
    {
      "cell_type": "markdown",
      "metadata": {
        "id": "powerful-cannon"
      },
      "source": [
        "### Apriori algorithm\n",
        "\n",
        "Now let us use all the above defined helper functions to implement the Apriori Algorithm and generate the list of frequent itemsets for each level for the provided transactions and min_support value."
      ],
      "id": "powerful-cannon"
    },
    {
      "cell_type": "code",
      "metadata": {
        "id": "joint-zimbabwe"
      },
      "source": [
        "def apriori(min_support):\n",
        "    # creating a default empty dictionary which maps level numbers to the list of frequent itemsets for that level\n",
        "    frequent_item_sets_per_level = defaultdict(list)\n",
        "    print(\"level : 1\", end = \" \")\n",
        "\n",
        "    # iterating through the list of all items item_list\n",
        "    for item in range(1, len(item_list) + 1):\n",
        "        # calculate the support value of each item using the helper function get_support().\n",
        "        # If this support value is greater than or equal to the provided min_support value,\n",
        "        # this item_set is added to the list of frequent itemsets for this level.\n",
        "        support = get_support(transactions, {item})\n",
        "        if support >= min_support:\n",
        "            # every itemset is stored as a pair of 2 values: item, support\n",
        "            frequent_item_sets_per_level[1].append(({item}, support))\n",
        "\n",
        "    # For each level greater than 1, generate the current_level_candidates itemsets\n",
        "    # by performing self_join() on the frequent itemsets of the previous level.\n",
        "    for level in range(2, len(item_list) + 1):\n",
        "        print(level, end = \" \")\n",
        "        current_level_candidates = self_join(frequent_item_sets_per_level, level)\n",
        "\n",
        "        # perform the pruning operation on these current_level_candidates using the pruning()\n",
        "        # helper function defined above, and obtain the results in post_pruning_candidates\n",
        "        post_pruning_candidates = pruning(frequent_item_sets_per_level, level, current_level_candidates)\n",
        "\n",
        "        # if there is no itemset left after pruning, we break the loop.\n",
        "        # It means there is no point in processing for further levels.\n",
        "        # Otherwise, for each item_set in post_pruning_candidates,\n",
        "        # we calculate the support value using the get_support() helper function.\n",
        "        if len(post_pruning_candidates) == 0:\n",
        "            break\n",
        "\n",
        "        for item_set in post_pruning_candidates:\n",
        "            support = get_support(transactions, item_set)\n",
        "            # If this support value is greater than or equal to the given min_support,\n",
        "            # we append this item_set into the list of frequent itemsets for this level.\n",
        "            if support >= min_support:\n",
        "                frequent_item_sets_per_level[level].append((item_set, support))\n",
        "\n",
        "    return frequent_item_sets_per_level"
      ],
      "id": "joint-zimbabwe",
      "execution_count": 17,
      "outputs": []
    },
    {
      "cell_type": "code",
      "metadata": {
        "id": "rocky-illness",
        "colab": {
          "base_uri": "https://localhost:8080/"
        },
        "outputId": "fac8ce63-f8d3-4d6b-fc9f-57e742766c3d"
      },
      "source": [
        "# defining the minimum support value as 0.005\n",
        "min_support = 0.005\n",
        "frequent_item_sets_per_level = apriori(min_support)"
      ],
      "id": "rocky-illness",
      "execution_count": 18,
      "outputs": [
        {
          "output_type": "stream",
          "name": "stdout",
          "text": [
            "level : 1 2 3 4 5 "
          ]
        }
      ]
    },
    {
      "cell_type": "code",
      "metadata": {
        "id": "alleged-coalition",
        "colab": {
          "base_uri": "https://localhost:8080/"
        },
        "outputId": "c74926d8-0fcb-4af1-cb7f-81a9c9930c3a"
      },
      "source": [
        "for level in frequent_item_sets_per_level:\n",
        "    print(len(frequent_item_sets_per_level[level]))"
      ],
      "id": "alleged-coalition",
      "execution_count": 19,
      "outputs": [
        {
          "output_type": "stream",
          "name": "stdout",
          "text": [
            "11\n",
            "36\n",
            "30\n",
            "6\n"
          ]
        }
      ]
    },
    {
      "cell_type": "code",
      "metadata": {
        "id": "dress-assist",
        "colab": {
          "base_uri": "https://localhost:8080/"
        },
        "outputId": "d606caca-2c32-4957-8fba-7516e15ad927"
      },
      "source": [
        "for level in frequent_item_sets_per_level:\n",
        "    print(frequent_item_sets_per_level[level])"
      ],
      "id": "dress-assist",
      "execution_count": 20,
      "outputs": [
        {
          "output_type": "stream",
          "name": "stdout",
          "text": [
            "[({1}, 0.15), ({2}, 0.1), ({3}, 0.2), ({4}, 0.35), ({5}, 0.3), ({6}, 0.25), ({7}, 0.65), ({8}, 0.25), ({9}, 0.3), ({10}, 0.35), ({11}, 0.4)]\n",
            "[({1, 4}, 0.1), ({1, 5}, 0.1), ({1, 7}, 0.05), ({1, 11}, 0.15), ({2, 6}, 0.05), ({2, 7}, 0.1), ({8, 2}, 0.1), ({2, 10}, 0.05), ({3, 7}, 0.15), ({9, 3}, 0.1), ({10, 3}, 0.1), ({11, 3}, 0.05), ({4, 5}, 0.15), ({4, 6}, 0.1), ({4, 7}, 0.2), ({8, 4}, 0.1), ({9, 4}, 0.05), ({10, 4}, 0.1), ({11, 4}, 0.1), ({5, 6}, 0.1), ({5, 7}, 0.05), ({8, 5}, 0.05), ({9, 5}, 0.05), ({10, 5}, 0.1), ({11, 5}, 0.2), ({6, 7}, 0.2), ({8, 6}, 0.05), ({10, 6}, 0.05), ({11, 6}, 0.05), ({8, 7}, 0.15), ({9, 7}, 0.2), ({10, 7}, 0.2), ({11, 7}, 0.15), ({8, 10}, 0.2), ({9, 11}, 0.2), ({10, 11}, 0.05)]\n",
            "[({1, 4, 5}, 0.1), ({1, 11, 4}, 0.1), ({1, 11, 5}, 0.1), ({1, 11, 7}, 0.05), ({2, 6, 7}, 0.05), ({8, 2, 6}, 0.05), ({8, 2, 7}, 0.1), ({2, 10, 7}, 0.05), ({8, 2, 10}, 0.05), ({9, 3, 7}, 0.05), ({10, 3, 7}, 0.1), ({11, 9, 3}, 0.05), ({4, 5, 6}, 0.05), ({4, 5, 7}, 0.05), ({11, 4, 5}, 0.1), ({4, 6, 7}, 0.1), ({8, 4, 7}, 0.05), ({9, 4, 7}, 0.05), ({10, 4, 7}, 0.05), ({8, 10, 4}, 0.1), ({5, 6, 7}, 0.05), ({10, 5, 6}, 0.05), ({11, 5, 6}, 0.05), ({8, 10, 5}, 0.05), ({9, 11, 5}, 0.05), ({10, 11, 5}, 0.05), ({8, 6, 7}, 0.05), ({10, 11, 6}, 0.05), ({8, 10, 7}, 0.1), ({9, 11, 7}, 0.1)]\n",
            "[({1, 4, 5, 11}, 0.1), ({2, 6, 7, 8}, 0.05), ({2, 7, 8, 10}, 0.05), ({4, 5, 6, 7}, 0.05), ({4, 7, 8, 10}, 0.05), ({5, 6, 10, 11}, 0.05)]\n"
          ]
        }
      ]
    },
    {
      "cell_type": "code",
      "metadata": {
        "id": "nutritional-subcommittee"
      },
      "source": [
        "# Creating a dictionary that maps items to their support values.\n",
        "item_support_dict = dict()\n",
        "item_list = list() # to store the name of items corresponding to item_dict values retrieved from frequent_item_sets_per_level\n",
        "\n",
        "# Keys and values are retrieved from the item_dict and stored in separate variables\n",
        "key_list = list(item_dict.keys())\n",
        "val_list = list(item_dict.values())\n",
        "\n",
        "# For each level in frequent_item_sets_per_level, for each item-support pair, name of the item retrieved from the key_list\n",
        "# that corresponds to the number in set_support_pair, and names are added to the item_list.\n",
        "for level in frequent_item_sets_per_level:\n",
        "    for set_support_pair in frequent_item_sets_per_level[level]:\n",
        "        for i in set_support_pair[0]:\n",
        "            item_list.append(key_list[val_list.index(i)])\n",
        "        # Items names and their support values are mapped in the item_support_dict as a frozenset-float number pair.\n",
        "        item_support_dict[frozenset(item_list)] = set_support_pair[1]\n",
        "        item_list = list()"
      ],
      "id": "nutritional-subcommittee",
      "execution_count": 21,
      "outputs": []
    },
    {
      "cell_type": "code",
      "metadata": {
        "id": "considerable-editing",
        "colab": {
          "base_uri": "https://localhost:8080/"
        },
        "outputId": "8bf07ef8-bfb6-4d27-e4ca-89291041e55d"
      },
      "source": [
        "item_support_dict"
      ],
      "id": "considerable-editing",
      "execution_count": 22,
      "outputs": [
        {
          "output_type": "execute_result",
          "data": {
            "text/plain": [
              "{frozenset({'COCK'}): 0.15,\n",
              " frozenset({'JAM'}): 0.1,\n",
              " frozenset({'BOURNVITA'}): 0.2,\n",
              " frozenset({'BISCUIT'}): 0.35,\n",
              " frozenset({'CORNFLAKES'}): 0.3,\n",
              " frozenset({'MILK'}): 0.25,\n",
              " frozenset({'BREAD'}): 0.65,\n",
              " frozenset({'MAGGI'}): 0.25,\n",
              " frozenset({'SUGER'}): 0.3,\n",
              " frozenset({'TEA'}): 0.35,\n",
              " frozenset({'COFFEE'}): 0.4,\n",
              " frozenset({'BISCUIT', 'COCK'}): 0.1,\n",
              " frozenset({'COCK', 'CORNFLAKES'}): 0.1,\n",
              " frozenset({'BREAD', 'COCK'}): 0.05,\n",
              " frozenset({'COCK', 'COFFEE'}): 0.15,\n",
              " frozenset({'JAM', 'MILK'}): 0.05,\n",
              " frozenset({'BREAD', 'JAM'}): 0.1,\n",
              " frozenset({'JAM', 'MAGGI'}): 0.1,\n",
              " frozenset({'JAM', 'TEA'}): 0.05,\n",
              " frozenset({'BOURNVITA', 'BREAD'}): 0.15,\n",
              " frozenset({'BOURNVITA', 'SUGER'}): 0.1,\n",
              " frozenset({'BOURNVITA', 'TEA'}): 0.1,\n",
              " frozenset({'BOURNVITA', 'COFFEE'}): 0.05,\n",
              " frozenset({'BISCUIT', 'CORNFLAKES'}): 0.15,\n",
              " frozenset({'BISCUIT', 'MILK'}): 0.1,\n",
              " frozenset({'BISCUIT', 'BREAD'}): 0.2,\n",
              " frozenset({'BISCUIT', 'MAGGI'}): 0.1,\n",
              " frozenset({'BISCUIT', 'SUGER'}): 0.05,\n",
              " frozenset({'BISCUIT', 'TEA'}): 0.1,\n",
              " frozenset({'BISCUIT', 'COFFEE'}): 0.1,\n",
              " frozenset({'CORNFLAKES', 'MILK'}): 0.1,\n",
              " frozenset({'BREAD', 'CORNFLAKES'}): 0.05,\n",
              " frozenset({'CORNFLAKES', 'MAGGI'}): 0.05,\n",
              " frozenset({'CORNFLAKES', 'SUGER'}): 0.05,\n",
              " frozenset({'CORNFLAKES', 'TEA'}): 0.1,\n",
              " frozenset({'COFFEE', 'CORNFLAKES'}): 0.2,\n",
              " frozenset({'BREAD', 'MILK'}): 0.2,\n",
              " frozenset({'MAGGI', 'MILK'}): 0.05,\n",
              " frozenset({'MILK', 'TEA'}): 0.05,\n",
              " frozenset({'COFFEE', 'MILK'}): 0.05,\n",
              " frozenset({'BREAD', 'MAGGI'}): 0.15,\n",
              " frozenset({'BREAD', 'SUGER'}): 0.2,\n",
              " frozenset({'BREAD', 'TEA'}): 0.2,\n",
              " frozenset({'BREAD', 'COFFEE'}): 0.15,\n",
              " frozenset({'MAGGI', 'TEA'}): 0.2,\n",
              " frozenset({'COFFEE', 'SUGER'}): 0.2,\n",
              " frozenset({'COFFEE', 'TEA'}): 0.05,\n",
              " frozenset({'BISCUIT', 'COCK', 'CORNFLAKES'}): 0.1,\n",
              " frozenset({'BISCUIT', 'COCK', 'COFFEE'}): 0.1,\n",
              " frozenset({'COCK', 'COFFEE', 'CORNFLAKES'}): 0.1,\n",
              " frozenset({'BREAD', 'COCK', 'COFFEE'}): 0.05,\n",
              " frozenset({'BREAD', 'JAM', 'MILK'}): 0.05,\n",
              " frozenset({'JAM', 'MAGGI', 'MILK'}): 0.05,\n",
              " frozenset({'BREAD', 'JAM', 'MAGGI'}): 0.1,\n",
              " frozenset({'BREAD', 'JAM', 'TEA'}): 0.05,\n",
              " frozenset({'JAM', 'MAGGI', 'TEA'}): 0.05,\n",
              " frozenset({'BOURNVITA', 'BREAD', 'SUGER'}): 0.05,\n",
              " frozenset({'BOURNVITA', 'BREAD', 'TEA'}): 0.1,\n",
              " frozenset({'BOURNVITA', 'COFFEE', 'SUGER'}): 0.05,\n",
              " frozenset({'BISCUIT', 'CORNFLAKES', 'MILK'}): 0.05,\n",
              " frozenset({'BISCUIT', 'BREAD', 'CORNFLAKES'}): 0.05,\n",
              " frozenset({'BISCUIT', 'COFFEE', 'CORNFLAKES'}): 0.1,\n",
              " frozenset({'BISCUIT', 'BREAD', 'MILK'}): 0.1,\n",
              " frozenset({'BISCUIT', 'BREAD', 'MAGGI'}): 0.05,\n",
              " frozenset({'BISCUIT', 'BREAD', 'SUGER'}): 0.05,\n",
              " frozenset({'BISCUIT', 'BREAD', 'TEA'}): 0.05,\n",
              " frozenset({'BISCUIT', 'MAGGI', 'TEA'}): 0.1,\n",
              " frozenset({'BREAD', 'CORNFLAKES', 'MILK'}): 0.05,\n",
              " frozenset({'CORNFLAKES', 'MILK', 'TEA'}): 0.05,\n",
              " frozenset({'COFFEE', 'CORNFLAKES', 'MILK'}): 0.05,\n",
              " frozenset({'CORNFLAKES', 'MAGGI', 'TEA'}): 0.05,\n",
              " frozenset({'COFFEE', 'CORNFLAKES', 'SUGER'}): 0.05,\n",
              " frozenset({'COFFEE', 'CORNFLAKES', 'TEA'}): 0.05,\n",
              " frozenset({'BREAD', 'MAGGI', 'MILK'}): 0.05,\n",
              " frozenset({'COFFEE', 'MILK', 'TEA'}): 0.05,\n",
              " frozenset({'BREAD', 'MAGGI', 'TEA'}): 0.1,\n",
              " frozenset({'BREAD', 'COFFEE', 'SUGER'}): 0.1,\n",
              " frozenset({'BISCUIT', 'COCK', 'COFFEE', 'CORNFLAKES'}): 0.1,\n",
              " frozenset({'BREAD', 'JAM', 'MAGGI', 'MILK'}): 0.05,\n",
              " frozenset({'BREAD', 'JAM', 'MAGGI', 'TEA'}): 0.05,\n",
              " frozenset({'BISCUIT', 'BREAD', 'CORNFLAKES', 'MILK'}): 0.05,\n",
              " frozenset({'BISCUIT', 'BREAD', 'MAGGI', 'TEA'}): 0.05,\n",
              " frozenset({'COFFEE', 'CORNFLAKES', 'MILK', 'TEA'}): 0.05}"
            ]
          },
          "metadata": {},
          "execution_count": 22
        }
      ]
    },
    {
      "cell_type": "markdown",
      "metadata": {
        "id": "super-morocco"
      },
      "source": [
        "**find_possible_subsets()** takes each item from the item_support_dict and its length item_length as parameter, and returns all possible combinations of elements inside the items."
      ],
      "id": "super-morocco"
    },
    {
      "cell_type": "code",
      "metadata": {
        "id": "rapid-birthday"
      },
      "source": [
        "def find_possible_subsets(item, item_length):\n",
        "    # creating empty list to store a list of combinations.\n",
        "    combs = []\n",
        "\n",
        "    # Iterating over the items\n",
        "    for i in range(1, item_length + 1):\n",
        "        # appending a list of all possible combinations of items to the combs array.\n",
        "        combs.append(list(combinations(item, i)))\n",
        "\n",
        "    # Creating a subset array\n",
        "    subsets = []\n",
        "    for comb in combs:\n",
        "        for elt in comb:\n",
        "            subsets.append(elt)\n",
        "\n",
        "    return subsets"
      ],
      "id": "rapid-birthday",
      "execution_count": 23,
      "outputs": []
    },
    {
      "cell_type": "markdown",
      "metadata": {
        "id": "national-alexandria"
      },
      "source": [
        "### Generate the Association rules"
      ],
      "id": "national-alexandria"
    },
    {
      "cell_type": "code",
      "metadata": {
        "id": "oFrvVH0iHG_V",
        "colab": {
          "base_uri": "https://localhost:8080/"
        },
        "outputId": "bcd647e6-c15c-466b-8ef1-b6dbcbcb80dc"
      },
      "source": [
        "item = {1,2,3}\n",
        "b = item.difference({1,2,3})\n",
        "if b:\n",
        "  print(\"Do something\")\n",
        "item | b"
      ],
      "id": "oFrvVH0iHG_V",
      "execution_count": 24,
      "outputs": [
        {
          "output_type": "execute_result",
          "data": {
            "text/plain": [
              "{1, 2, 3}"
            ]
          },
          "metadata": {},
          "execution_count": 24
        }
      ]
    },
    {
      "cell_type": "code",
      "metadata": {
        "id": "commercial-volume"
      },
      "source": [
        "def association_rules(min_confidence, support_dict):\n",
        "    rules = list()\n",
        "    \"\"\"For itemsets of more than one element, it first finds all their subsets calling the find_subset(item, item_length)\n",
        "        For every subset A, it calculates the set B = itemset-A.\n",
        "        If B is not empty, the confidence of B is calculated.\n",
        "        If this value is more than minimum confidence value, the rule A->B is added to the list rules with the corresponding confidence value of B.\"\"\"\n",
        "    for item, support in support_dict.items():\n",
        "        item_length = len(item)\n",
        "\n",
        "        if item_length > 1:\n",
        "            subsets = find_possible_subsets(item, item_length)\n",
        "\n",
        "            for A in subsets:\n",
        "                B = item.difference(A)\n",
        "                if B:\n",
        "                    A = frozenset(A)\n",
        "\n",
        "                    AB = A | B\n",
        "\n",
        "                    confidence = support_dict[AB] / support_dict[A]\n",
        "                    if confidence >= min_confidence:\n",
        "                        rules.append((A, B, confidence))\n",
        "\n",
        "    return rules"
      ],
      "id": "commercial-volume",
      "execution_count": 25,
      "outputs": []
    },
    {
      "cell_type": "code",
      "metadata": {
        "id": "formal-empty"
      },
      "source": [
        "association_rules = association_rules(min_confidence = 0.6, support_dict = item_support_dict)"
      ],
      "id": "formal-empty",
      "execution_count": 26,
      "outputs": []
    },
    {
      "cell_type": "code",
      "metadata": {
        "id": "suburban-trout",
        "colab": {
          "base_uri": "https://localhost:8080/"
        },
        "outputId": "907f8d7d-6e2f-4d55-e7fd-2bd423b3f7b0"
      },
      "source": [
        "print(\"Number of rules: \", len(association_rules), \"\\n\")\n",
        "\n",
        "for rule in association_rules:\n",
        "    print('{0} -> {1} <confidence: {2}>'.format(set(rule[0]), set(rule[1]), rule[2]))"
      ],
      "id": "suburban-trout",
      "execution_count": 27,
      "outputs": [
        {
          "output_type": "stream",
          "name": "stdout",
          "text": [
            "Number of rules:  86 \n",
            "\n",
            "{'COCK'} -> {'BISCUIT'} <confidence: 0.6666666666666667>\n",
            "{'COCK'} -> {'CORNFLAKES'} <confidence: 0.6666666666666667>\n",
            "{'COCK'} -> {'COFFEE'} <confidence: 1.0>\n",
            "{'JAM'} -> {'BREAD'} <confidence: 1.0>\n",
            "{'JAM'} -> {'MAGGI'} <confidence: 1.0>\n",
            "{'BOURNVITA'} -> {'BREAD'} <confidence: 0.7499999999999999>\n",
            "{'CORNFLAKES'} -> {'COFFEE'} <confidence: 0.6666666666666667>\n",
            "{'MILK'} -> {'BREAD'} <confidence: 0.8>\n",
            "{'MAGGI'} -> {'BREAD'} <confidence: 0.6>\n",
            "{'SUGER'} -> {'BREAD'} <confidence: 0.6666666666666667>\n",
            "{'MAGGI'} -> {'TEA'} <confidence: 0.8>\n",
            "{'SUGER'} -> {'COFFEE'} <confidence: 0.6666666666666667>\n",
            "{'COCK'} -> {'CORNFLAKES', 'BISCUIT'} <confidence: 0.6666666666666667>\n",
            "{'COCK', 'CORNFLAKES'} -> {'BISCUIT'} <confidence: 1.0>\n",
            "{'COCK', 'BISCUIT'} -> {'CORNFLAKES'} <confidence: 1.0>\n",
            "{'CORNFLAKES', 'BISCUIT'} -> {'COCK'} <confidence: 0.6666666666666667>\n",
            "{'COCK'} -> {'COFFEE', 'BISCUIT'} <confidence: 0.6666666666666667>\n",
            "{'COCK', 'BISCUIT'} -> {'COFFEE'} <confidence: 1.0>\n",
            "{'COCK', 'COFFEE'} -> {'BISCUIT'} <confidence: 0.6666666666666667>\n",
            "{'COFFEE', 'BISCUIT'} -> {'COCK'} <confidence: 1.0>\n",
            "{'COCK'} -> {'CORNFLAKES', 'COFFEE'} <confidence: 0.6666666666666667>\n",
            "{'COCK', 'CORNFLAKES'} -> {'COFFEE'} <confidence: 1.0>\n",
            "{'COCK', 'COFFEE'} -> {'CORNFLAKES'} <confidence: 0.6666666666666667>\n",
            "{'COCK', 'BREAD'} -> {'COFFEE'} <confidence: 1.0>\n",
            "{'JAM', 'MILK'} -> {'BREAD'} <confidence: 1.0>\n",
            "{'JAM', 'MILK'} -> {'MAGGI'} <confidence: 1.0>\n",
            "{'MILK', 'MAGGI'} -> {'JAM'} <confidence: 1.0>\n",
            "{'JAM'} -> {'BREAD', 'MAGGI'} <confidence: 1.0>\n",
            "{'JAM', 'BREAD'} -> {'MAGGI'} <confidence: 1.0>\n",
            "{'JAM', 'MAGGI'} -> {'BREAD'} <confidence: 1.0>\n",
            "{'BREAD', 'MAGGI'} -> {'JAM'} <confidence: 0.6666666666666667>\n",
            "{'JAM', 'TEA'} -> {'BREAD'} <confidence: 1.0>\n",
            "{'JAM', 'TEA'} -> {'MAGGI'} <confidence: 1.0>\n",
            "{'BOURNVITA', 'BREAD'} -> {'TEA'} <confidence: 0.6666666666666667>\n",
            "{'BOURNVITA', 'TEA'} -> {'BREAD'} <confidence: 1.0>\n",
            "{'BOURNVITA', 'COFFEE'} -> {'SUGER'} <confidence: 1.0>\n",
            "{'CORNFLAKES', 'BREAD'} -> {'BISCUIT'} <confidence: 1.0>\n",
            "{'CORNFLAKES', 'BISCUIT'} -> {'COFFEE'} <confidence: 0.6666666666666667>\n",
            "{'COFFEE', 'BISCUIT'} -> {'CORNFLAKES'} <confidence: 1.0>\n",
            "{'MILK', 'BISCUIT'} -> {'BREAD'} <confidence: 1.0>\n",
            "{'SUGER', 'BISCUIT'} -> {'BREAD'} <confidence: 1.0>\n",
            "{'MAGGI', 'BISCUIT'} -> {'TEA'} <confidence: 1.0>\n",
            "{'TEA', 'BISCUIT'} -> {'MAGGI'} <confidence: 1.0>\n",
            "{'CORNFLAKES', 'BREAD'} -> {'MILK'} <confidence: 1.0>\n",
            "{'MILK', 'TEA'} -> {'CORNFLAKES'} <confidence: 1.0>\n",
            "{'MILK', 'COFFEE'} -> {'CORNFLAKES'} <confidence: 1.0>\n",
            "{'CORNFLAKES', 'MAGGI'} -> {'TEA'} <confidence: 1.0>\n",
            "{'CORNFLAKES', 'SUGER'} -> {'COFFEE'} <confidence: 1.0>\n",
            "{'TEA', 'COFFEE'} -> {'CORNFLAKES'} <confidence: 1.0>\n",
            "{'MILK', 'MAGGI'} -> {'BREAD'} <confidence: 1.0>\n",
            "{'MILK', 'TEA'} -> {'COFFEE'} <confidence: 1.0>\n",
            "{'MILK', 'COFFEE'} -> {'TEA'} <confidence: 1.0>\n",
            "{'TEA', 'COFFEE'} -> {'MILK'} <confidence: 1.0>\n",
            "{'BREAD', 'MAGGI'} -> {'TEA'} <confidence: 0.6666666666666667>\n",
            "{'BREAD', 'COFFEE'} -> {'SUGER'} <confidence: 0.6666666666666667>\n",
            "{'COCK'} -> {'CORNFLAKES', 'BISCUIT', 'COFFEE'} <confidence: 0.6666666666666667>\n",
            "{'COCK', 'CORNFLAKES'} -> {'COFFEE', 'BISCUIT'} <confidence: 1.0>\n",
            "{'COCK', 'COFFEE'} -> {'CORNFLAKES', 'BISCUIT'} <confidence: 0.6666666666666667>\n",
            "{'COCK', 'BISCUIT'} -> {'CORNFLAKES', 'COFFEE'} <confidence: 1.0>\n",
            "{'CORNFLAKES', 'BISCUIT'} -> {'COCK', 'COFFEE'} <confidence: 0.6666666666666667>\n",
            "{'BISCUIT', 'COFFEE'} -> {'COCK', 'CORNFLAKES'} <confidence: 1.0>\n",
            "{'COCK', 'CORNFLAKES', 'COFFEE'} -> {'BISCUIT'} <confidence: 1.0>\n",
            "{'COCK', 'CORNFLAKES', 'BISCUIT'} -> {'COFFEE'} <confidence: 1.0>\n",
            "{'COCK', 'BISCUIT', 'COFFEE'} -> {'CORNFLAKES'} <confidence: 1.0>\n",
            "{'CORNFLAKES', 'BISCUIT', 'COFFEE'} -> {'COCK'} <confidence: 1.0>\n",
            "{'MILK', 'MAGGI'} -> {'JAM', 'BREAD'} <confidence: 1.0>\n",
            "{'JAM', 'MILK'} -> {'BREAD', 'MAGGI'} <confidence: 1.0>\n",
            "{'JAM', 'MILK', 'MAGGI'} -> {'BREAD'} <confidence: 1.0>\n",
            "{'MILK', 'MAGGI', 'BREAD'} -> {'JAM'} <confidence: 1.0>\n",
            "{'JAM', 'MILK', 'BREAD'} -> {'MAGGI'} <confidence: 1.0>\n",
            "{'JAM', 'TEA'} -> {'BREAD', 'MAGGI'} <confidence: 1.0>\n",
            "{'JAM', 'BREAD', 'TEA'} -> {'MAGGI'} <confidence: 1.0>\n",
            "{'JAM', 'MAGGI', 'TEA'} -> {'BREAD'} <confidence: 1.0>\n",
            "{'CORNFLAKES', 'BREAD'} -> {'MILK', 'BISCUIT'} <confidence: 1.0>\n",
            "{'CORNFLAKES', 'MILK', 'BREAD'} -> {'BISCUIT'} <confidence: 1.0>\n",
            "{'CORNFLAKES', 'MILK', 'BISCUIT'} -> {'BREAD'} <confidence: 1.0>\n",
            "{'CORNFLAKES', 'BREAD', 'BISCUIT'} -> {'MILK'} <confidence: 1.0>\n",
            "{'BREAD', 'MAGGI', 'BISCUIT'} -> {'TEA'} <confidence: 1.0>\n",
            "{'BREAD', 'TEA', 'BISCUIT'} -> {'MAGGI'} <confidence: 1.0>\n",
            "{'MILK', 'TEA'} -> {'CORNFLAKES', 'COFFEE'} <confidence: 1.0>\n",
            "{'MILK', 'COFFEE'} -> {'CORNFLAKES', 'TEA'} <confidence: 1.0>\n",
            "{'TEA', 'COFFEE'} -> {'CORNFLAKES', 'MILK'} <confidence: 1.0>\n",
            "{'CORNFLAKES', 'MILK', 'TEA'} -> {'COFFEE'} <confidence: 1.0>\n",
            "{'CORNFLAKES', 'MILK', 'COFFEE'} -> {'TEA'} <confidence: 1.0>\n",
            "{'CORNFLAKES', 'TEA', 'COFFEE'} -> {'MILK'} <confidence: 1.0>\n",
            "{'MILK', 'TEA', 'COFFEE'} -> {'CORNFLAKES'} <confidence: 1.0>\n"
          ]
        }
      ]
    },
    {
      "cell_type": "markdown",
      "metadata": {
        "id": "VHfHdGCP_n6Y"
      },
      "source": [
        "### Please answer the questions below to complete the experiment:\n",
        "\n",
        "\n"
      ],
      "id": "VHfHdGCP_n6Y"
    },
    {
      "cell_type": "code",
      "metadata": {
        "id": "5JLbUm8wPHba"
      },
      "source": [
        "#@title Mark the following statement as True or False: The pairs (Biscuit, Coffee) and (Biscuit, Coke) do not meet the minimum support and hence are not frequent. However, any larger set containing (Biscuit, Coffee) or (Biscuit, Coke) can still be frequent { run: \"auto\", form-width: \"500px\", display-mode: \"form\" }\n",
        "Answer = \"False\" #@param [\"\",\"True\", \"False\"]\n"
      ],
      "id": "5JLbUm8wPHba",
      "execution_count": 28,
      "outputs": []
    },
    {
      "cell_type": "code",
      "metadata": {
        "id": "NMzKSbLIgFzQ"
      },
      "source": [
        "#@title How was the experiment? { run: \"auto\", form-width: \"500px\", display-mode: \"form\" }\n",
        "Complexity = \"Good and Challenging for me\" #@param [\"\",\"Too Simple, I am wasting time\", \"Good, But Not Challenging for me\", \"Good and Challenging for me\", \"Was Tough, but I did it\", \"Too Difficult for me\"]\n"
      ],
      "id": "NMzKSbLIgFzQ",
      "execution_count": 29,
      "outputs": []
    },
    {
      "cell_type": "code",
      "metadata": {
        "id": "DjcH1VWSFI2l"
      },
      "source": [
        "#@title If it was too easy, what more would you have liked to be added? If it was very difficult, what would you have liked to have been removed? { run: \"auto\", display-mode: \"form\" }\n",
        "Additional = \"Good for practice\" #@param {type:\"string\"}\n"
      ],
      "id": "DjcH1VWSFI2l",
      "execution_count": 30,
      "outputs": []
    },
    {
      "cell_type": "code",
      "metadata": {
        "id": "4VBk_4VTAxCM"
      },
      "source": [
        "#@title Can you identify the concepts from the lecture which this experiment covered? { run: \"auto\", vertical-output: true, display-mode: \"form\" }\n",
        "Concepts = \"Yes\" #@param [\"\",\"Yes\", \"No\"]\n"
      ],
      "id": "4VBk_4VTAxCM",
      "execution_count": 31,
      "outputs": []
    },
    {
      "cell_type": "code",
      "metadata": {
        "id": "XH91cL1JWH7m"
      },
      "source": [
        "#@title  Text and image description/explanation and code comments within the experiment: { run: \"auto\", vertical-output: true, display-mode: \"form\" }\n",
        "Comments = \"Very Useful\" #@param [\"\",\"Very Useful\", \"Somewhat Useful\", \"Not Useful\", \"Didn't use\"]\n"
      ],
      "id": "XH91cL1JWH7m",
      "execution_count": 32,
      "outputs": []
    },
    {
      "cell_type": "code",
      "metadata": {
        "id": "z8xLqj7VWIKW"
      },
      "source": [
        "#@title Mentor Support: { run: \"auto\", vertical-output: true, display-mode: \"form\" }\n",
        "Mentor_support = \"Very Useful\" #@param [\"\",\"Very Useful\", \"Somewhat Useful\", \"Not Useful\", \"Didn't use\"]\n"
      ],
      "id": "z8xLqj7VWIKW",
      "execution_count": 33,
      "outputs": []
    },
    {
      "cell_type": "code",
      "metadata": {
        "id": "FzAZHt1zw-Y-",
        "cellView": "form",
        "colab": {
          "base_uri": "https://localhost:8080/"
        },
        "outputId": "324012fc-b52f-429a-bc72-05af6015deed"
      },
      "source": [
        "#@title Run this cell to submit your notebook for grading { vertical-output: true }\n",
        "try:\n",
        "  if submission_id:\n",
        "      return_id = submit_notebook()\n",
        "      if return_id : submission_id = return_id\n",
        "  else:\n",
        "      print(\"Please complete the setup first.\")\n",
        "except NameError:\n",
        "  print (\"Please complete the setup first.\")"
      ],
      "id": "FzAZHt1zw-Y-",
      "execution_count": 34,
      "outputs": [
        {
          "output_type": "stream",
          "name": "stdout",
          "text": [
            "Your submission is successful.\n",
            "Ref Id: 6823\n",
            "Date of submission:  02 Sep 2023\n",
            "Time of submission:  22:07:56\n",
            "View your submissions: https://cds.iisc.talentsprint.com/notebook_submissions\n"
          ]
        }
      ]
    }
  ]
}