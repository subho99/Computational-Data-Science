{
  "nbformat": 4,
  "nbformat_minor": 5,
  "metadata": {
    "kernelspec": {
      "display_name": "Python 3",
      "language": "python",
      "name": "python3"
    },
    "language_info": {
      "codemirror_mode": {
        "name": "ipython",
        "version": 3
      },
      "file_extension": ".py",
      "mimetype": "text/x-python",
      "name": "python",
      "nbconvert_exporter": "python",
      "pygments_lexer": "ipython3",
      "version": "3.5.2"
    },
    "colab": {
      "provenance": [],
      "collapsed_sections": [
        "confident-hacker"
      ],
      "include_colab_link": true
    }
  },
  "cells": [
    {
      "cell_type": "markdown",
      "metadata": {
        "id": "view-in-github",
        "colab_type": "text"
      },
      "source": [
        "<a href=\"https://colab.research.google.com/github/subho99/Computational-Data-Science/blob/main/Subhajit_Basistha_M3_AST_07_Numba_C.ipynb\" target=\"_parent\"><img src=\"https://colab.research.google.com/assets/colab-badge.svg\" alt=\"Open In Colab\"/></a>"
      ]
    },
    {
      "cell_type": "markdown",
      "metadata": {
        "id": "spare-audio"
      },
      "source": [
        "# Advanced Certification Program in Computational Data Science\n",
        "## A program by IISc and TalentSprint\n",
        "### Assignment 7: Introduction to Numba"
      ],
      "id": "spare-audio"
    },
    {
      "cell_type": "markdown",
      "metadata": {
        "id": "packed-devices"
      },
      "source": [
        "## Learning Objectives"
      ],
      "id": "packed-devices"
    },
    {
      "cell_type": "markdown",
      "metadata": {
        "id": "driven-masters"
      },
      "source": [
        "At the end of the experiment, you will be able to:\n",
        "\n",
        "* use the jit decorator to improve the performance\n",
        "* understand the difference between Numba’s compilation modes\n",
        "* understand limitations of Numba with examples\n",
        "* vectorize code for use as a ufunc"
      ],
      "id": "driven-masters"
    },
    {
      "cell_type": "markdown",
      "metadata": {
        "id": "compatible-daniel"
      },
      "source": [
        "## Information"
      ],
      "id": "compatible-daniel"
    },
    {
      "cell_type": "markdown",
      "metadata": {
        "id": "integrated-wallace"
      },
      "source": [
        "#### Numba in a Nutshell\n",
        "\n",
        "Numba is a Python module which translates a subset of Python and NumPy code into high-speed machine code. Numba allows the compilation of selected portions of pure Python code to native code, and generates optimized machine code using the LLVM (Low Level Virtual Machine) compiler infrastructure.\n",
        "\n",
        "With a few simple annotations, array-oriented and math-heavy Python code can be just-in-time (JIT) optimized to achieve performance similar to C, C++ and Fortran, without having to switch languages or Python interpreters.\n",
        "\n",
        "**High-Level architecture of Numba**\n",
        "\n",
        "The Numba translation process can be translated in a set of important steps ranging from the Bytecode analysis to the final machine code generation. The picture bellow illustrates this process, where the green boxes correspond to the frontend of the Numba compiler and the blue boxes belong to the backend.\n",
        "\n",
        "![Image](https://cdn.iisc.talentsprint.com/CDS/Images/numba.png)\n",
        "\n",
        "To know more about Numba click [here](https://towardsdatascience.com/speed-up-your-algorithms-part-2-numba-293e554c5cc1)\n"
      ],
      "id": "integrated-wallace"
    },
    {
      "cell_type": "code",
      "source": [
        "# Upgrade numba\n",
        "!pip install numba --upgrade"
      ],
      "metadata": {
        "id": "jRKxGGqMfP8a",
        "colab": {
          "base_uri": "https://localhost:8080/"
        },
        "outputId": "bead5fbd-0394-46f8-d347-da9b8a916c1a"
      },
      "id": "jRKxGGqMfP8a",
      "execution_count": 1,
      "outputs": [
        {
          "output_type": "stream",
          "name": "stdout",
          "text": [
            "Looking in indexes: https://pypi.org/simple, https://us-python.pkg.dev/colab-wheels/public/simple/\n",
            "Requirement already satisfied: numba in /usr/local/lib/python3.10/dist-packages (0.56.4)\n",
            "Collecting numba\n",
            "  Downloading numba-0.57.0-cp310-cp310-manylinux2014_x86_64.manylinux_2_17_x86_64.whl (3.6 MB)\n",
            "\u001b[2K     \u001b[90m━━━━━━━━━━━━━━━━━━━━━━━━━━━━━━━━━━━━━━━━\u001b[0m \u001b[32m3.6/3.6 MB\u001b[0m \u001b[31m40.9 MB/s\u001b[0m eta \u001b[36m0:00:00\u001b[0m\n",
            "\u001b[?25hCollecting llvmlite<0.41,>=0.40.0dev0 (from numba)\n",
            "  Downloading llvmlite-0.40.0-cp310-cp310-manylinux_2_17_x86_64.manylinux2014_x86_64.whl (42.1 MB)\n",
            "\u001b[2K     \u001b[90m━━━━━━━━━━━━━━━━━━━━━━━━━━━━━━━━━━━━━━━━\u001b[0m \u001b[32m42.1/42.1 MB\u001b[0m \u001b[31m12.7 MB/s\u001b[0m eta \u001b[36m0:00:00\u001b[0m\n",
            "\u001b[?25hRequirement already satisfied: numpy<1.25,>=1.21 in /usr/local/lib/python3.10/dist-packages (from numba) (1.22.4)\n",
            "Installing collected packages: llvmlite, numba\n",
            "  Attempting uninstall: llvmlite\n",
            "    Found existing installation: llvmlite 0.39.1\n",
            "    Uninstalling llvmlite-0.39.1:\n",
            "      Successfully uninstalled llvmlite-0.39.1\n",
            "  Attempting uninstall: numba\n",
            "    Found existing installation: numba 0.56.4\n",
            "    Uninstalling numba-0.56.4:\n",
            "      Successfully uninstalled numba-0.56.4\n",
            "Successfully installed llvmlite-0.40.0 numba-0.57.0\n"
          ]
        }
      ]
    },
    {
      "cell_type": "markdown",
      "metadata": {
        "id": "BNLA8HiKxQhc"
      },
      "source": [
        "### Setup Steps:"
      ],
      "id": "BNLA8HiKxQhc"
    },
    {
      "cell_type": "code",
      "metadata": {
        "id": "2YzfoPvJDiTX"
      },
      "source": [
        "#@title Please enter your registration id to start: { run: \"auto\", display-mode: \"form\" }\n",
        "Id = \"2236624\" #@param {type:\"string\"}"
      ],
      "id": "2YzfoPvJDiTX",
      "execution_count": 2,
      "outputs": []
    },
    {
      "cell_type": "code",
      "metadata": {
        "id": "AjoZJWGErxGf"
      },
      "source": [
        "#@title Please enter your password (your registered phone number) to continue: { run: \"auto\", display-mode: \"form\" }\n",
        "password = \"8240187807\" #@param {type:\"string\"}"
      ],
      "id": "AjoZJWGErxGf",
      "execution_count": 3,
      "outputs": []
    },
    {
      "cell_type": "code",
      "metadata": {
        "id": "WBPPuGmBlDIN",
        "cellView": "form",
        "colab": {
          "base_uri": "https://localhost:8080/",
          "height": 34
        },
        "outputId": "77bd4b88-53df-4cc8-f680-30454dac9ec8"
      },
      "source": [
        "#@title Run this cell to complete the setup for this Notebook\n",
        "from IPython import get_ipython\n",
        "\n",
        "ipython = get_ipython()\n",
        "  \n",
        "notebook= \"M3_AST_07_Numba_C\" #name of the notebook\n",
        "\n",
        "def setup():\n",
        "#  ipython.magic(\"sx pip3 install torch\")\n",
        "    from IPython.display import HTML, display\n",
        "    display(HTML('<script src=\"https://dashboard.talentsprint.com/aiml/record_ip.html?traineeId={0}&recordId={1}\"></script>'.format(getId(),submission_id)))\n",
        "    print(\"Setup completed successfully\")\n",
        "    return\n",
        "\n",
        "def submit_notebook():\n",
        "    ipython.magic(\"notebook -e \"+ notebook + \".ipynb\")\n",
        "    \n",
        "    import requests, json, base64, datetime\n",
        "\n",
        "    url = \"https://dashboard.talentsprint.com/xp/app/save_notebook_attempts\"\n",
        "    if not submission_id:\n",
        "      data = {\"id\" : getId(), \"notebook\" : notebook, \"mobile\" : getPassword()}\n",
        "      r = requests.post(url, data = data)\n",
        "      r = json.loads(r.text)\n",
        "\n",
        "      if r[\"status\"] == \"Success\":\n",
        "          return r[\"record_id\"]\n",
        "      elif \"err\" in r:        \n",
        "        print(r[\"err\"])\n",
        "        return None        \n",
        "      else:\n",
        "        print (\"Something is wrong, the notebook will not be submitted for grading\")\n",
        "        return None\n",
        "    \n",
        "    elif getAnswer() and getComplexity() and getAdditional() and getConcepts() and getComments() and getMentorSupport():\n",
        "      f = open(notebook + \".ipynb\", \"rb\")\n",
        "      file_hash = base64.b64encode(f.read())\n",
        "\n",
        "      data = {\"complexity\" : Complexity, \"additional\" :Additional, \n",
        "              \"concepts\" : Concepts, \"record_id\" : submission_id, \n",
        "              \"answer\" : Answer, \"id\" : Id, \"file_hash\" : file_hash,\n",
        "              \"notebook\" : notebook,\n",
        "              \"feedback_experiments_input\" : Comments,\n",
        "              \"feedback_mentor_support\": Mentor_support}\n",
        "      r = requests.post(url, data = data)\n",
        "      r = json.loads(r.text)\n",
        "      if \"err\" in r:        \n",
        "        print(r[\"err\"])\n",
        "        return None   \n",
        "      else:\n",
        "        print(\"Your submission is successful.\")\n",
        "        print(\"Ref Id:\", submission_id)\n",
        "        print(\"Date of submission: \", r[\"date\"])\n",
        "        print(\"Time of submission: \", r[\"time\"])\n",
        "        print(\"View your submissions: https://cds.iisc.talentsprint.com/notebook_submissions\")\n",
        "        #print(\"For any queries/discrepancies, please connect with mentors through the chat icon in LMS dashboard.\")\n",
        "        return submission_id\n",
        "    else: submission_id\n",
        "    \n",
        "\n",
        "def getAdditional():\n",
        "  try:\n",
        "    if not Additional: \n",
        "      raise NameError\n",
        "    else:\n",
        "      return Additional  \n",
        "  except NameError:\n",
        "    print (\"Please answer Additional Question\")\n",
        "    return None\n",
        "\n",
        "def getComplexity():\n",
        "  try:\n",
        "    if not Complexity:\n",
        "      raise NameError\n",
        "    else:\n",
        "      return Complexity\n",
        "  except NameError:\n",
        "    print (\"Please answer Complexity Question\")\n",
        "    return None\n",
        "  \n",
        "def getConcepts():\n",
        "  try:\n",
        "    if not Concepts:\n",
        "      raise NameError\n",
        "    else:\n",
        "      return Concepts\n",
        "  except NameError:\n",
        "    print (\"Please answer Concepts Question\")\n",
        "    return None\n",
        "  \n",
        "  \n",
        "# def getWalkthrough():\n",
        "#   try:\n",
        "#     if not Walkthrough:\n",
        "#       raise NameError\n",
        "#     else:\n",
        "#       return Walkthrough\n",
        "#   except NameError:\n",
        "#     print (\"Please answer Walkthrough Question\")\n",
        "#     return None\n",
        "  \n",
        "def getComments():\n",
        "  try:\n",
        "    if not Comments:\n",
        "      raise NameError\n",
        "    else:\n",
        "      return Comments\n",
        "  except NameError:\n",
        "    print (\"Please answer Comments Question\")\n",
        "    return None\n",
        "  \n",
        "\n",
        "def getMentorSupport():\n",
        "  try:\n",
        "    if not Mentor_support:\n",
        "      raise NameError\n",
        "    else:\n",
        "      return Mentor_support\n",
        "  except NameError:\n",
        "    print (\"Please answer Mentor support Question\")\n",
        "    return None\n",
        "\n",
        "def getAnswer():\n",
        "  try:\n",
        "    if not Answer:\n",
        "      raise NameError \n",
        "    else: \n",
        "      return Answer\n",
        "  except NameError:\n",
        "    print (\"Please answer Question\")\n",
        "    return None\n",
        "  \n",
        "\n",
        "def getId():\n",
        "  try: \n",
        "    return Id if Id else None\n",
        "  except NameError:\n",
        "    return None\n",
        "\n",
        "def getPassword():\n",
        "  try:\n",
        "    return password if password else None\n",
        "  except NameError:\n",
        "    return None\n",
        "\n",
        "submission_id = None\n",
        "### Setup \n",
        "if getPassword() and getId():\n",
        "  submission_id = submit_notebook()\n",
        "  if submission_id:\n",
        "    setup() \n",
        "else:\n",
        "  print (\"Please complete Id and Password cells before running setup\")\n",
        "\n"
      ],
      "id": "WBPPuGmBlDIN",
      "execution_count": 4,
      "outputs": [
        {
          "output_type": "display_data",
          "data": {
            "text/plain": [
              "<IPython.core.display.HTML object>"
            ],
            "text/html": [
              "<script src=\"https://dashboard.talentsprint.com/aiml/record_ip.html?traineeId=2236624&recordId=4890\"></script>"
            ]
          },
          "metadata": {}
        },
        {
          "output_type": "stream",
          "name": "stdout",
          "text": [
            "Setup completed successfully\n"
          ]
        }
      ]
    },
    {
      "cell_type": "markdown",
      "metadata": {
        "id": "brazilian-cotton"
      },
      "source": [
        "Importing necessary packages"
      ],
      "id": "brazilian-cotton"
    },
    {
      "cell_type": "code",
      "metadata": {
        "id": "desirable-gabriel"
      },
      "source": [
        "from numba import * # Importing all the functions present in numba package\n",
        "import numpy as np # Importing numpy package under a name np"
      ],
      "id": "desirable-gabriel",
      "execution_count": 5,
      "outputs": []
    },
    {
      "cell_type": "markdown",
      "metadata": {
        "id": "active-pathology"
      },
      "source": [
        "Let us first write a small python code to find the sums of all the elements of a given array and then understand its implementation using numba."
      ],
      "id": "active-pathology"
    },
    {
      "cell_type": "code",
      "metadata": {
        "id": "signed-seminar"
      },
      "source": [
        "# Python version code\n",
        "# Defining a function\n",
        "def ArraySum(array):\n",
        "    m, n = array.shape # shape of a array\n",
        "    # This is a bad idea of calculating sum of elements in array(Not Pythonic style)\n",
        "    total = 0 # Defining a variable\n",
        "    for j in range(m): # iterating over rows\n",
        "        for i in range(n): # iterating over columns\n",
        "            total += array[j, i] # calculating the sum         \n",
        "    return total # returning the sum of elements of an array"
      ],
      "id": "signed-seminar",
      "execution_count": 6,
      "outputs": []
    },
    {
      "cell_type": "code",
      "metadata": {
        "id": "interpreted-moses",
        "colab": {
          "base_uri": "https://localhost:8080/"
        },
        "outputId": "09f723b6-3202-41ca-fa05-743ef52ac5be"
      },
      "source": [
        "A = np.random.random((200,200)) # Generating a numpy array\n",
        "ArraySum(A) # Calling the ArraySum function"
      ],
      "id": "interpreted-moses",
      "execution_count": 7,
      "outputs": [
        {
          "output_type": "execute_result",
          "data": {
            "text/plain": [
              "19961.9789641158"
            ]
          },
          "metadata": {},
          "execution_count": 7
        }
      ]
    },
    {
      "cell_type": "markdown",
      "metadata": {
        "id": "adult-portland"
      },
      "source": [
        "Now let us time the execution of ArraySum function while calculating the sum of elements in array 'A'"
      ],
      "id": "adult-portland"
    },
    {
      "cell_type": "code",
      "metadata": {
        "id": "committed-shelter",
        "colab": {
          "base_uri": "https://localhost:8080/"
        },
        "outputId": "57341964-c45d-4ffc-d95c-cf913f1083d1"
      },
      "source": [
        "# timing the execution\n",
        "%timeit ArraySum(A)"
      ],
      "id": "committed-shelter",
      "execution_count": 8,
      "outputs": [
        {
          "output_type": "stream",
          "name": "stdout",
          "text": [
            "8.43 ms ± 1.43 ms per loop (mean ± std. dev. of 7 runs, 100 loops each)\n"
          ]
        }
      ]
    },
    {
      "cell_type": "markdown",
      "metadata": {
        "id": "adapted-douglas"
      },
      "source": [
        "To know more about the timeit function click [here](https://docs.python.org/3/library/timeit.html)\n",
        "\n",
        "Now let us see how to speed up execution of ArraySum function while calculating the sum of elements in array 'A' using numba"
      ],
      "id": "adapted-douglas"
    },
    {
      "cell_type": "markdown",
      "metadata": {
        "id": "extended-fight"
      },
      "source": [
        "**Jit as function call**"
      ],
      "id": "extended-fight"
    },
    {
      "cell_type": "code",
      "metadata": {
        "id": "mighty-premium",
        "colab": {
          "base_uri": "https://localhost:8080/"
        },
        "outputId": "1fb11b5c-7f05-4410-c1a9-c3332ea0e55b"
      },
      "source": [
        "sum_array_numba = jit()(ArraySum) # Calling the jit compiler "
      ],
      "id": "mighty-premium",
      "execution_count": 9,
      "outputs": [
        {
          "output_type": "stream",
          "name": "stderr",
          "text": [
            "<ipython-input-9-e8c9a9f6cd08>:1: NumbaDeprecationWarning: The 'nopython' keyword argument was not supplied to the 'numba.jit' decorator. The implicit default value for this argument is currently False, but it will be changed to True in Numba 0.59.0. See https://numba.readthedocs.io/en/stable/reference/deprecation.html#deprecation-of-object-mode-fall-back-behaviour-when-using-jit for details.\n",
            "  sum_array_numba = jit()(ArraySum) # Calling the jit compiler\n"
          ]
        }
      ]
    },
    {
      "cell_type": "markdown",
      "metadata": {
        "id": "democratic-farming"
      },
      "source": [
        "The function **sum_array_numba** is a version of **ArraySum** that is “targeted” for JIT-compilation."
      ],
      "id": "democratic-farming"
    },
    {
      "cell_type": "code",
      "metadata": {
        "id": "interracial-breakdown",
        "colab": {
          "base_uri": "https://localhost:8080/"
        },
        "outputId": "0a56b8e2-86b4-4aaa-9f3e-14752d58ec41"
      },
      "source": [
        "# Timing the excution of sum_array_numba function \n",
        "\n",
        "%timeit sum_array_numba(A)"
      ],
      "id": "interracial-breakdown",
      "execution_count": 10,
      "outputs": [
        {
          "output_type": "stream",
          "name": "stdout",
          "text": [
            "62.4 µs ± 6.13 µs per loop (mean ± std. dev. of 7 runs, 1 loop each)\n"
          ]
        }
      ]
    },
    {
      "cell_type": "markdown",
      "metadata": {
        "id": "backed-detector"
      },
      "source": [
        "From the above codes, we can see that execution of the code gets faster using JIT Compiler. Now let us write numpy version of the code to calculate the sum of elements in an array and timeit"
      ],
      "id": "backed-detector"
    },
    {
      "cell_type": "code",
      "metadata": {
        "id": "addressed-corruption",
        "colab": {
          "base_uri": "https://localhost:8080/"
        },
        "outputId": "2d527e49-0a8a-4847-b537-93a33ae8e251"
      },
      "source": [
        "A.sum() #using in-built sum function to find sum of elements in an array (Its better idea; Pythonic style)"
      ],
      "id": "addressed-corruption",
      "execution_count": 11,
      "outputs": [
        {
          "output_type": "execute_result",
          "data": {
            "text/plain": [
              "19961.978964115733"
            ]
          },
          "metadata": {},
          "execution_count": 11
        }
      ]
    },
    {
      "cell_type": "code",
      "metadata": {
        "id": "manual-scholar",
        "colab": {
          "base_uri": "https://localhost:8080/"
        },
        "outputId": "7d2a0d66-7e75-4663-a8bd-3e8d000fffce"
      },
      "source": [
        "# Timing the code\n",
        "%timeit A.sum()"
      ],
      "id": "manual-scholar",
      "execution_count": 12,
      "outputs": [
        {
          "output_type": "stream",
          "name": "stdout",
          "text": [
            "26.5 µs ± 990 ns per loop (mean ± std. dev. of 7 runs, 10000 loops each)\n"
          ]
        }
      ]
    },
    {
      "cell_type": "markdown",
      "metadata": {
        "id": "exact-sheffield"
      },
      "source": [
        "To know more about the sum function click [here](https://docs.python.org/3/library/functions.html#sum)"
      ],
      "id": "exact-sheffield"
    },
    {
      "cell_type": "markdown",
      "metadata": {
        "id": "utility-canal"
      },
      "source": [
        "In the above code, we have created a JIT compiled version **ArraySum** of via the call **jit()(ArraySum)**. In practice this would typically be done using an alternative **decorator** syntax.\n",
        "\n",
        "To know more about Python decorators click [here](https://link.medium.com/rixEI1907db)"
      ],
      "id": "utility-canal"
    },
    {
      "cell_type": "markdown",
      "metadata": {
        "id": "another-radar"
      },
      "source": [
        "**Decorator Notation**"
      ],
      "id": "another-radar"
    },
    {
      "cell_type": "markdown",
      "metadata": {
        "id": "basic-concord"
      },
      "source": [
        " To target a function for JIT compilation we will put **@jit** before the ArraySum function definition."
      ],
      "id": "basic-concord"
    },
    {
      "cell_type": "code",
      "metadata": {
        "id": "resistant-safety",
        "colab": {
          "base_uri": "https://localhost:8080/"
        },
        "outputId": "ed657daf-de73-4a3d-f9e2-7522c025a662"
      },
      "source": [
        "@jit\n",
        "# Defining a function\n",
        "def ArraySum(array):\n",
        "    m, n = array.shape # shape of a array\n",
        "    # This is a bad idea of calculating sum of elements in array(Not  Pythonic style)\n",
        "    total = 0 # Defining a variable\n",
        "    for j in range(m): # iterating over rows\n",
        "        for i in range(n): # iterating over columns\n",
        "            total += array[j, i] # calculating the sum         \n",
        "    return total # returning the sum of elements of an array"
      ],
      "id": "resistant-safety",
      "execution_count": 13,
      "outputs": [
        {
          "output_type": "stream",
          "name": "stderr",
          "text": [
            "<ipython-input-13-75c42a977f09>:3: NumbaDeprecationWarning: The 'nopython' keyword argument was not supplied to the 'numba.jit' decorator. The implicit default value for this argument is currently False, but it will be changed to True in Numba 0.59.0. See https://numba.readthedocs.io/en/stable/reference/deprecation.html#deprecation-of-object-mode-fall-back-behaviour-when-using-jit for details.\n",
            "  def ArraySum(array):\n"
          ]
        }
      ]
    },
    {
      "cell_type": "code",
      "metadata": {
        "id": "injured-stockholm",
        "colab": {
          "base_uri": "https://localhost:8080/"
        },
        "outputId": "69673369-39d0-4cc0-dff4-752a8189a32b"
      },
      "source": [
        "# Timing the execution\n",
        "%timeit ArraySum(A)"
      ],
      "id": "injured-stockholm",
      "execution_count": 14,
      "outputs": [
        {
          "output_type": "stream",
          "name": "stdout",
          "text": [
            "62.8 µs ± 1.06 µs per loop (mean ± std. dev. of 7 runs, 10000 loops each)\n"
          ]
        }
      ]
    },
    {
      "cell_type": "markdown",
      "metadata": {
        "id": "equal-bronze"
      },
      "source": [
        "#### Think for a While!! \n",
        "\n",
        "- How does Numba get the code to run quickly?"
      ],
      "id": "equal-bronze"
    },
    {
      "cell_type": "markdown",
      "metadata": {
        "id": "under-cabin"
      },
      "source": [
        "Numba examines Python bytecode and then translates this into an 'intermediate representation'. We can view this using inspect_types method."
      ],
      "id": "under-cabin"
    },
    {
      "cell_type": "code",
      "metadata": {
        "id": "material-librarian",
        "colab": {
          "base_uri": "https://localhost:8080/"
        },
        "outputId": "bcc63564-2d72-480e-f544-c0ffad630d82"
      },
      "source": [
        "ArraySum.inspect_types() # Inspecting the types"
      ],
      "id": "material-librarian",
      "execution_count": 15,
      "outputs": [
        {
          "output_type": "stream",
          "name": "stdout",
          "text": [
            "ArraySum (Array(float64, 2, 'C', False, aligned=True),)\n",
            "--------------------------------------------------------------------------------\n",
            "# File: <ipython-input-13-75c42a977f09>\n",
            "# --- LINE 1 --- \n",
            "# label 0\n",
            "#   array = arg(0, name=array)  :: array(float64, 2d, C)\n",
            "\n",
            "@jit\n",
            "\n",
            "# --- LINE 2 --- \n",
            "\n",
            "# Defining a function\n",
            "\n",
            "# --- LINE 3 --- \n",
            "\n",
            "def ArraySum(array):\n",
            "\n",
            "    # --- LINE 4 --- \n",
            "    #   $4load_attr.1 = getattr(value=array, attr=shape)  :: UniTuple(int64 x 2)\n",
            "    #   $6unpack_sequence.4 = exhaust_iter(value=$4load_attr.1, count=2)  :: UniTuple(int64 x 2)\n",
            "    #   del $4load_attr.1\n",
            "    #   $6unpack_sequence.2 = static_getitem(value=$6unpack_sequence.4, index=0, index_var=None, fn=<built-in function getitem>)  :: int64\n",
            "    #   $6unpack_sequence.3 = static_getitem(value=$6unpack_sequence.4, index=1, index_var=None, fn=<built-in function getitem>)  :: int64\n",
            "    #   del $6unpack_sequence.4\n",
            "    #   m = $6unpack_sequence.2  :: int64\n",
            "    #   del $6unpack_sequence.2\n",
            "    #   n = $6unpack_sequence.3  :: int64\n",
            "    #   del $6unpack_sequence.3\n",
            "\n",
            "    m, n = array.shape # shape of a array\n",
            "\n",
            "    # --- LINE 5 --- \n",
            "\n",
            "    # This is a bad idea of calculating sum of elements in array(Not  Pythonic style)\n",
            "\n",
            "    # --- LINE 6 --- \n",
            "    #   total = const(int, 0)  :: Literal[int](0)\n",
            "    #   total.3 = total  :: float64\n",
            "    #   del total\n",
            "\n",
            "    total = 0 # Defining a variable\n",
            "\n",
            "    # --- LINE 7 --- \n",
            "    #   $16load_global.6 = global(range: <class 'range'>)  :: Function(<class 'range'>)\n",
            "    #   $20call_function.8 = call $16load_global.6(m, func=$16load_global.6, args=[Var(m, <ipython-input-13-75c42a977f09>:4)], kws=(), vararg=None, varkwarg=None, target=None)  :: (int64,) -> range_state_int64\n",
            "    #   del m\n",
            "    #   del $16load_global.6\n",
            "    #   $22get_iter.9 = getiter(value=$20call_function.8)  :: range_iter_int64\n",
            "    #   del $20call_function.8\n",
            "    #   $phi24.0 = $22get_iter.9  :: range_iter_int64\n",
            "    #   del $22get_iter.9\n",
            "    #   jump 24\n",
            "    # label 24\n",
            "    #   $24for_iter.1 = iternext(value=$phi24.0)  :: pair<int64, bool>\n",
            "    #   $24for_iter.2 = pair_first(value=$24for_iter.1)  :: int64\n",
            "    #   $24for_iter.3 = pair_second(value=$24for_iter.1)  :: bool\n",
            "    #   del $24for_iter.1\n",
            "    #   $phi26.1 = $24for_iter.2  :: int64\n",
            "    #   del $24for_iter.2\n",
            "    #   branch $24for_iter.3, 26, 60\n",
            "    # label 26\n",
            "    #   j = $phi26.1  :: int64\n",
            "    #   del $phi26.1\n",
            "\n",
            "    for j in range(m): # iterating over rows\n",
            "\n",
            "        # --- LINE 8 --- \n",
            "        #   del $24for_iter.3\n",
            "        #   total.2 = total.3  :: float64\n",
            "        #   del total.3\n",
            "        #   $28load_global.2 = global(range: <class 'range'>)  :: Function(<class 'range'>)\n",
            "        #   $32call_function.4 = call $28load_global.2(n, func=$28load_global.2, args=[Var(n, <ipython-input-13-75c42a977f09>:4)], kws=(), vararg=None, varkwarg=None, target=None)  :: (int64,) -> range_state_int64\n",
            "        #   del $28load_global.2\n",
            "        #   $34get_iter.5 = getiter(value=$32call_function.4)  :: range_iter_int64\n",
            "        #   del $32call_function.4\n",
            "        #   $phi36.1 = $34get_iter.5  :: range_iter_int64\n",
            "        #   del $34get_iter.5\n",
            "        #   jump 36\n",
            "        # label 36\n",
            "        #   $36for_iter.2 = iternext(value=$phi36.1)  :: pair<int64, bool>\n",
            "        #   $36for_iter.3 = pair_first(value=$36for_iter.2)  :: int64\n",
            "        #   $36for_iter.4 = pair_second(value=$36for_iter.2)  :: bool\n",
            "        #   del $36for_iter.2\n",
            "        #   $phi38.2 = $36for_iter.3  :: int64\n",
            "        #   del $36for_iter.3\n",
            "        #   branch $36for_iter.4, 38, 58\n",
            "        # label 38\n",
            "        #   del $36for_iter.4\n",
            "        #   i = $phi38.2  :: int64\n",
            "        #   del $phi38.2\n",
            "        # label 58\n",
            "        #   del j\n",
            "        #   del $phi38.2\n",
            "        #   del $phi36.1\n",
            "        #   del $36for_iter.4\n",
            "        #   total.3 = total.2  :: float64\n",
            "        #   del total.2\n",
            "        #   jump 24\n",
            "\n",
            "        for i in range(n): # iterating over columns\n",
            "\n",
            "            # --- LINE 9 --- \n",
            "            #   $48build_tuple.7 = build_tuple(items=[Var(j, <ipython-input-13-75c42a977f09>:7), Var(i, <ipython-input-13-75c42a977f09>:8)])  :: UniTuple(int64 x 2)\n",
            "            #   del i\n",
            "            #   $50binary_subscr.8 = getitem(value=array, index=$48build_tuple.7, fn=<built-in function getitem>)  :: float64\n",
            "            #   del $48build_tuple.7\n",
            "            #   $52inplace_add.9 = inplace_binop(fn=<built-in function iadd>, immutable_fn=<built-in function add>, lhs=total.2, rhs=$50binary_subscr.8, static_lhs=Undefined, static_rhs=Undefined)  :: float64\n",
            "            #   del $50binary_subscr.8\n",
            "            #   total.1 = $52inplace_add.9  :: float64\n",
            "            #   del $52inplace_add.9\n",
            "            #   total.2 = total.1  :: float64\n",
            "            #   del total.1\n",
            "            #   jump 36\n",
            "\n",
            "            total += array[j, i] # calculating the sum\n",
            "\n",
            "    # --- LINE 10 --- \n",
            "    # label 60\n",
            "    #   del n\n",
            "    #   del array\n",
            "    #   del $phi26.1\n",
            "    #   del $phi24.0\n",
            "    #   del $24for_iter.3\n",
            "    #   $62return_value.1 = cast(value=total.3)  :: float64\n",
            "    #   del total.3\n",
            "    #   return $62return_value.1\n",
            "\n",
            "    return total # returning the sum of elements of an array\n",
            "\n",
            "\n",
            "================================================================================\n"
          ]
        }
      ]
    },
    {
      "cell_type": "markdown",
      "metadata": {
        "id": "liquid-ethiopia"
      },
      "source": [
        "From the above results, we can infer that \n",
        "- every line of Python code is preceded by several lines of Numba IR(Intermediate Representations) code that gives a glimpse into what Numba is doing to the Python code behind the scenes. \n",
        "- at the end of most lines there are type annotations that show how Numba is treating variables and function calls."
      ],
      "id": "liquid-ethiopia"
    },
    {
      "cell_type": "markdown",
      "metadata": {
        "id": "alone-probability"
      },
      "source": [
        "### Compilation modes\n",
        "\n",
        "There are two important modes: nopython and object. The nopython completely avoids the python interpreter and translates the full code to native instructions that can be run without the help of Python . However, if for some reason, that mode is not available (for example, when using unsupported Python features or external libraries) the compilation will fall back to the object mode, where it uses the Python interpreter when it is unable to compile some code . Naturally, the nopython mode is the one which offers the best performance gains."
      ],
      "id": "alone-probability"
    },
    {
      "cell_type": "markdown",
      "metadata": {
        "id": "resistant-large"
      },
      "source": [
        "**nopython mode**"
      ],
      "id": "resistant-large"
    },
    {
      "cell_type": "code",
      "metadata": {
        "id": "welcome-manhattan"
      },
      "source": [
        "@jit(nopython=True)\n",
        "# Defining a function\n",
        "def ArraySum(array):\n",
        "    m, n = array.shape # shape of a array\n",
        "    # This is a bad idea of calculating sum of elements in array(Not  Pythonic style)\n",
        "    total = 0 # Defining a variable\n",
        "    for j in range(m): # iterating over rows\n",
        "        for i in range(n): # iterating over columns\n",
        "            total += array[j, i] # calculating the sum         \n",
        "    return total # returning the sum of elements of an array"
      ],
      "id": "welcome-manhattan",
      "execution_count": 16,
      "outputs": []
    },
    {
      "cell_type": "code",
      "metadata": {
        "id": "furnished-cartoon",
        "colab": {
          "base_uri": "https://localhost:8080/"
        },
        "outputId": "bd28ed35-2824-4b86-ff09-e17e1f054062"
      },
      "source": [
        "# Calling the above defined function and timing it\n",
        "%timeit ArraySum(A)"
      ],
      "id": "furnished-cartoon",
      "execution_count": 17,
      "outputs": [
        {
          "output_type": "stream",
          "name": "stdout",
          "text": [
            "61.5 µs ± 462 ns per loop (mean ± std. dev. of 7 runs, 10000 loops each)\n"
          ]
        }
      ]
    },
    {
      "cell_type": "markdown",
      "metadata": {
        "id": "single-tactics"
      },
      "source": [
        "#### Compilation flags for jit\n",
        "\n",
        "There are two other main compilation flags for @jit\n",
        "\n",
        "**a. cache mode**\n",
        "\n",
        "if we don't always want to be caught up in compile time for each run, we could use cache mode. This will actually save the compiled function into something like a pyc file in your \\__pycache\\__ directory, so even between sessions we should have fast performance of the function / code."
      ],
      "id": "single-tactics"
    },
    {
      "cell_type": "code",
      "metadata": {
        "id": "persistent-alliance",
        "colab": {
          "base_uri": "https://localhost:8080/"
        },
        "outputId": "4ac2fe74-983c-4c09-ebeb-9fdacf30235f"
      },
      "source": [
        "@jit(cache=True)\n",
        "# Defining a function\n",
        "def ArraySum(array):\n",
        "    m, n = array.shape # shape of a array\n",
        "    # This is a bad idea of calculating sum of elements in array(Not  Pythonic style)\n",
        "    total = 0 # Defining a variable\n",
        "    for j in range(m): # iterating over rows\n",
        "        for i in range(n): # iterating over columns\n",
        "            total += array[j, i] # calculating the sum         \n",
        "    return total # returning the sum of elements of an array"
      ],
      "id": "persistent-alliance",
      "execution_count": 18,
      "outputs": [
        {
          "output_type": "stream",
          "name": "stderr",
          "text": [
            "<ipython-input-18-bb455c3263f5>:1: NumbaDeprecationWarning: The 'nopython' keyword argument was not supplied to the 'numba.jit' decorator. The implicit default value for this argument is currently False, but it will be changed to True in Numba 0.59.0. See https://numba.readthedocs.io/en/stable/reference/deprecation.html#deprecation-of-object-mode-fall-back-behaviour-when-using-jit for details.\n",
            "  @jit(cache=True)\n"
          ]
        }
      ]
    },
    {
      "cell_type": "code",
      "metadata": {
        "id": "identified-shooting",
        "colab": {
          "base_uri": "https://localhost:8080/"
        },
        "outputId": "1bc9f4f9-25ff-460c-86b4-dee187018c58"
      },
      "source": [
        "# Calling the above defined function and timing it\n",
        "%timeit ArraySum(A)"
      ],
      "id": "identified-shooting",
      "execution_count": 19,
      "outputs": [
        {
          "output_type": "stream",
          "name": "stdout",
          "text": [
            "64.8 µs ± 6.86 µs per loop (mean ± std. dev. of 7 runs, 10000 loops each)\n"
          ]
        }
      ]
    },
    {
      "cell_type": "markdown",
      "metadata": {
        "id": "furnished-mongolia"
      },
      "source": [
        "**b. nogil mode**\n",
        "\n",
        "Whenever Numba optimizes Python code to native code that only works on native types and variables (rather than Python objects), it is not necessary anymore to hold Python’s global interpreter lock (GIL). Numba will release the GIL when entering such a compiled function if you passed nogil=True.\n",
        "\n",
        "To know more about nogil mode click [here](https://docs.python.org/3/glossary.html#term-global-interpreter-lock)"
      ],
      "id": "furnished-mongolia"
    },
    {
      "cell_type": "code",
      "metadata": {
        "id": "headed-prime",
        "colab": {
          "base_uri": "https://localhost:8080/"
        },
        "outputId": "f9c84ea2-b327-4b82-f117-f639480e89cf"
      },
      "source": [
        "# Performing multi-threading using nogil \n",
        "@jit(nogil=True) # Option to release the gil\n",
        "# Defining a function\n",
        "def ArraySum(array):\n",
        "    m, n = array.shape # shape of a array\n",
        "    # This is a bad idea\n",
        "    total = 0 # Defining a variable\n",
        "    for j in range(m): # iterating over rows\n",
        "        for i in range(n): # iterating over columns\n",
        "            total += array[j, i] # calculating the sum         \n",
        "    return total # returning the sum of elements of an array"
      ],
      "id": "headed-prime",
      "execution_count": 20,
      "outputs": [
        {
          "output_type": "stream",
          "name": "stderr",
          "text": [
            "<ipython-input-20-474aae04a604>:2: NumbaDeprecationWarning: The 'nopython' keyword argument was not supplied to the 'numba.jit' decorator. The implicit default value for this argument is currently False, but it will be changed to True in Numba 0.59.0. See https://numba.readthedocs.io/en/stable/reference/deprecation.html#deprecation-of-object-mode-fall-back-behaviour-when-using-jit for details.\n",
            "  @jit(nogil=True) # Option to release the gil\n"
          ]
        }
      ]
    },
    {
      "cell_type": "code",
      "metadata": {
        "id": "velvet-belief",
        "colab": {
          "base_uri": "https://localhost:8080/"
        },
        "outputId": "1268d423-8588-4d28-d066-3fcc6323d64c"
      },
      "source": [
        "# Calling the above defined function and timing it\n",
        "%timeit ArraySum(A)"
      ],
      "id": "velvet-belief",
      "execution_count": 21,
      "outputs": [
        {
          "output_type": "stream",
          "name": "stdout",
          "text": [
            "62.1 µs ± 1.7 µs per loop (mean ± std. dev. of 7 runs, 10000 loops each)\n"
          ]
        }
      ]
    },
    {
      "cell_type": "markdown",
      "metadata": {
        "id": "improving-blade"
      },
      "source": [
        "Now let us add Add fastmath=True to trade accuracy for speed in some computations and time it"
      ],
      "id": "improving-blade"
    },
    {
      "cell_type": "code",
      "metadata": {
        "id": "arbitrary-lambda",
        "colab": {
          "base_uri": "https://localhost:8080/"
        },
        "outputId": "f1f146fa-2a50-4c6e-bcb2-9d2e0d698b43"
      },
      "source": [
        "@jit(fastmath=True)\n",
        "# Defining a function\n",
        "def ArraySum(array):\n",
        "    m, n = array.shape # shape of a array\n",
        "    # This is a bad idea of calculating sum of elements in array(Not  Pythonic style)\n",
        "    total = 0 # Defining a variable\n",
        "    for j in range(m): # iterating over rows\n",
        "        for i in range(n): # iterating over columns\n",
        "            total += array[j, i] # calculating the sum         \n",
        "    return total # returning the sum of elements of an array"
      ],
      "id": "arbitrary-lambda",
      "execution_count": 22,
      "outputs": [
        {
          "output_type": "stream",
          "name": "stderr",
          "text": [
            "<ipython-input-22-bfc14464034d>:1: NumbaDeprecationWarning: The 'nopython' keyword argument was not supplied to the 'numba.jit' decorator. The implicit default value for this argument is currently False, but it will be changed to True in Numba 0.59.0. See https://numba.readthedocs.io/en/stable/reference/deprecation.html#deprecation-of-object-mode-fall-back-behaviour-when-using-jit for details.\n",
            "  @jit(fastmath=True)\n"
          ]
        }
      ]
    },
    {
      "cell_type": "code",
      "metadata": {
        "id": "soviet-reach",
        "colab": {
          "base_uri": "https://localhost:8080/"
        },
        "outputId": "1ef6fe93-702c-4b4f-ea1c-023455167d95"
      },
      "source": [
        "# Calling the above defined function and timing it\n",
        "%timeit ArraySum(A)"
      ],
      "id": "soviet-reach",
      "execution_count": 23,
      "outputs": [
        {
          "output_type": "stream",
          "name": "stdout",
          "text": [
            "8.65 µs ± 452 ns per loop (mean ± std. dev. of 7 runs, 100000 loops each)\n"
          ]
        }
      ]
    },
    {
      "cell_type": "markdown",
      "metadata": {
        "id": "deadly-queen"
      },
      "source": [
        "#### ParallelAccelerator\n",
        "\n",
        "- ParallelAccelerator is a special compiler pass contributed by Intel Labs\n",
        "    - Todd A. Anderson, Ehsan Totoni, Paul Liu\n",
        "    - Based on similar contribution to Julia \n",
        "- Automatically generates mulithreaded code in a Numba compiled-function:\n",
        "    - Array expressions and reductions\n",
        "    - Random functions\n",
        "    - Dot products\n",
        "    - Reductions\n",
        "    - Explicit loops indicated with prange() call\n",
        "    \n",
        "To know more about Parallel Accelerator click [here](https://numba.pydata.org/numba-doc/dev/user/parallel.html)\n"
      ],
      "id": "deadly-queen"
    },
    {
      "cell_type": "markdown",
      "metadata": {
        "id": "broad-batman"
      },
      "source": [
        "Now let us add Parallel = True tag in the @jil to use multi-core CPU via threading and to perform automatic parallelization"
      ],
      "id": "broad-batman"
    },
    {
      "cell_type": "code",
      "metadata": {
        "id": "deluxe-status",
        "colab": {
          "base_uri": "https://localhost:8080/"
        },
        "outputId": "3d85e089-2f9f-4916-a55e-cc9961aac497"
      },
      "source": [
        "# without using parallel tag\n",
        "\n",
        "@jit\n",
        "def f(x): # Defining a function\n",
        "    return np.cos(x) ** 2 + np.sin(x) ** 2 # calculating the value"
      ],
      "id": "deluxe-status",
      "execution_count": 24,
      "outputs": [
        {
          "output_type": "stream",
          "name": "stderr",
          "text": [
            "<ipython-input-24-dbb67db4c37a>:4: NumbaDeprecationWarning: The 'nopython' keyword argument was not supplied to the 'numba.jit' decorator. The implicit default value for this argument is currently False, but it will be changed to True in Numba 0.59.0. See https://numba.readthedocs.io/en/stable/reference/deprecation.html#deprecation-of-object-mode-fall-back-behaviour-when-using-jit for details.\n",
            "  def f(x): # Defining a function\n"
          ]
        }
      ]
    },
    {
      "cell_type": "code",
      "metadata": {
        "id": "cultural-bunny"
      },
      "source": [
        "data = np.random.random((10000000))"
      ],
      "id": "cultural-bunny",
      "execution_count": 25,
      "outputs": []
    },
    {
      "cell_type": "code",
      "metadata": {
        "id": "major-alabama",
        "colab": {
          "base_uri": "https://localhost:8080/"
        },
        "outputId": "2bfcc3bb-567f-49eb-d93a-ac4b2fd899c5"
      },
      "source": [
        "%timeit f(data)"
      ],
      "id": "major-alabama",
      "execution_count": 26,
      "outputs": [
        {
          "output_type": "stream",
          "name": "stdout",
          "text": [
            "247 ms ± 2.78 ms per loop (mean ± std. dev. of 7 runs, 1 loop each)\n"
          ]
        }
      ]
    },
    {
      "cell_type": "code",
      "metadata": {
        "id": "accurate-efficiency",
        "colab": {
          "base_uri": "https://localhost:8080/"
        },
        "outputId": "42daa159-c43c-4e3d-8b30-a4cd84345d0e"
      },
      "source": [
        "# Using parallel tag\n",
        "@jit(parallel=True)\n",
        "def f(x):\n",
        "    return np.cos(x) ** 2 + np.sin(x) ** 2"
      ],
      "id": "accurate-efficiency",
      "execution_count": 27,
      "outputs": [
        {
          "output_type": "stream",
          "name": "stderr",
          "text": [
            "<ipython-input-27-762a927625d4>:2: NumbaDeprecationWarning: The 'nopython' keyword argument was not supplied to the 'numba.jit' decorator. The implicit default value for this argument is currently False, but it will be changed to True in Numba 0.59.0. See https://numba.readthedocs.io/en/stable/reference/deprecation.html#deprecation-of-object-mode-fall-back-behaviour-when-using-jit for details.\n",
            "  @jit(parallel=True)\n"
          ]
        }
      ]
    },
    {
      "cell_type": "code",
      "metadata": {
        "id": "meaningful-finding",
        "colab": {
          "base_uri": "https://localhost:8080/"
        },
        "outputId": "e292daad-4365-41ca-e7be-718509c11df2"
      },
      "source": [
        "%timeit f(data)"
      ],
      "id": "meaningful-finding",
      "execution_count": 28,
      "outputs": [
        {
          "output_type": "stream",
          "name": "stdout",
          "text": [
            "216 ms ± 7.52 ms per loop (mean ± std. dev. of 7 runs, 1 loop each)\n"
          ]
        }
      ]
    },
    {
      "cell_type": "markdown",
      "metadata": {
        "id": "featured-voluntary"
      },
      "source": [
        "Before we drive deep into Numba, let us try to understand few limitations of Numba"
      ],
      "id": "featured-voluntary"
    },
    {
      "cell_type": "code",
      "metadata": {
        "id": "forbidden-contemporary",
        "colab": {
          "base_uri": "https://localhost:8080/"
        },
        "outputId": "07f771a7-c18f-497f-b22c-1ec02739b390"
      },
      "source": [
        "# Example 1\n",
        "@jit\n",
        "def hello(n):\n",
        "    return [\"hell0\", 44] * 4"
      ],
      "id": "forbidden-contemporary",
      "execution_count": 29,
      "outputs": [
        {
          "output_type": "stream",
          "name": "stderr",
          "text": [
            "<ipython-input-29-364a2ba326fc>:3: NumbaDeprecationWarning: The 'nopython' keyword argument was not supplied to the 'numba.jit' decorator. The implicit default value for this argument is currently False, but it will be changed to True in Numba 0.59.0. See https://numba.readthedocs.io/en/stable/reference/deprecation.html#deprecation-of-object-mode-fall-back-behaviour-when-using-jit for details.\n",
            "  def hello(n):\n"
          ]
        }
      ]
    },
    {
      "cell_type": "code",
      "metadata": {
        "id": "anm-I3kBTgIB",
        "colab": {
          "base_uri": "https://localhost:8080/"
        },
        "outputId": "c90ba9e1-31c2-465e-dc3d-46ad741d97d4"
      },
      "source": [
        "%timeit hello(1)"
      ],
      "id": "anm-I3kBTgIB",
      "execution_count": 30,
      "outputs": [
        {
          "output_type": "stream",
          "name": "stderr",
          "text": [
            "<ipython-input-29-364a2ba326fc>:2: NumbaWarning: \n",
            "Compilation is falling back to object mode WITH looplifting enabled because Function \"hello\" failed type inference due to: No implementation of function Function(<built-in function mul>) found for signature:\n",
            " \n",
            " >>> mul(LiteralList((Literal[str](hell0), Literal[int](44))), Literal[int](4))\n",
            " \n",
            "There are 14 candidate implementations:\n",
            "  - Of which 7 did not match due to:\n",
            "  Overload in function 'MulList.generic': File: numba/core/typing/listdecl.py: Line 114.\n",
            "    With argument(s): '(Poison<LiteralList((Literal[str](hell0), Literal[int](44)))>, int64)':\n",
            "   Rejected as the implementation raised a specific error:\n",
            "     TypingError: Poison type used in arguments; got Poison<LiteralList((Literal[str](hell0), Literal[int](44)))>\n",
            "  raised from /usr/local/lib/python3.10/dist-packages/numba/core/types/functions.py:236\n",
            "  - Of which 6 did not match due to:\n",
            "  Overload of function 'mul': File: <numerous>: Line N/A.\n",
            "    With argument(s): '(LiteralList((Literal[str](hell0), Literal[int](44))), Literal[int](4))':\n",
            "   No match.\n",
            "  - Of which 1 did not match due to:\n",
            "  Operator Overload in function 'mul': File: unknown: Line unknown.\n",
            "    With argument(s): '(LiteralList((Literal[str](hell0), Literal[int](44))), Literal[int](4))':\n",
            "   No match for registered cases:\n",
            "    * (int64, int64) -> int64\n",
            "    * (int64, uint64) -> int64\n",
            "    * (uint64, int64) -> int64\n",
            "    * (uint64, uint64) -> uint64\n",
            "    * (float32, float32) -> float32\n",
            "    * (float64, float64) -> float64\n",
            "    * (complex64, complex64) -> complex64\n",
            "    * (complex128, complex128) -> complex128\n",
            "\n",
            "During: typing of intrinsic-call at <ipython-input-29-364a2ba326fc> (4)\n",
            "\n",
            "File \"<ipython-input-29-364a2ba326fc>\", line 4:\n",
            "def hello(n):\n",
            "    return [\"hell0\", 44] * 4\n",
            "    ^\n",
            "\n",
            "  @jit\n",
            "/usr/local/lib/python3.10/dist-packages/numba/core/object_mode_passes.py:151: NumbaWarning: Function \"hello\" was compiled in object mode without forceobj=True.\n",
            "\n",
            "File \"<ipython-input-29-364a2ba326fc>\", line 3:\n",
            "@jit\n",
            "def hello(n):\n",
            "^\n",
            "\n",
            "  warnings.warn(errors.NumbaWarning(warn_msg,\n",
            "/usr/local/lib/python3.10/dist-packages/numba/core/object_mode_passes.py:161: NumbaDeprecationWarning: \n",
            "Fall-back from the nopython compilation path to the object mode compilation path has been detected. This is deprecated behaviour that will be removed in Numba 0.59.0.\n",
            "\n",
            "For more information visit https://numba.readthedocs.io/en/stable/reference/deprecation.html#deprecation-of-object-mode-fall-back-behaviour-when-using-jit\n",
            "\n",
            "File \"<ipython-input-29-364a2ba326fc>\", line 3:\n",
            "@jit\n",
            "def hello(n):\n",
            "^\n",
            "\n",
            "  warnings.warn(errors.NumbaDeprecationWarning(msg,\n"
          ]
        },
        {
          "output_type": "stream",
          "name": "stdout",
          "text": [
            "587 ns ± 127 ns per loop (mean ± std. dev. of 7 runs, 1000000 loops each)\n"
          ]
        }
      ]
    },
    {
      "cell_type": "markdown",
      "metadata": {
        "id": "overall-environment"
      },
      "source": [
        "After the above code, we will get the desired output but with a warning as Compilation is falling back to object mode. Now let us run the above code in nopython mode to see the limitation."
      ],
      "id": "overall-environment"
    },
    {
      "cell_type": "code",
      "metadata": {
        "id": "broadband-tuning"
      },
      "source": [
        "# Example 1\n",
        "@jit(nopython=True)\n",
        "def hello(n):\n",
        "    return [\"hell0\", 44] "
      ],
      "id": "broadband-tuning",
      "execution_count": 31,
      "outputs": []
    },
    {
      "cell_type": "code",
      "metadata": {
        "id": "understood-cutting"
      },
      "source": [
        "# Example 2\n",
        "@jit(nopython=True)\n",
        "def display():\n",
        "    data = {\"numbers\":[1, 3, 4], \"evens\":[2, 4, 6]}\n",
        "    return data[\"numbers\"]"
      ],
      "id": "understood-cutting",
      "execution_count": 32,
      "outputs": []
    },
    {
      "cell_type": "markdown",
      "metadata": {
        "id": "special-offense"
      },
      "source": [
        "To know more about limitations of Numba click [here](https://www.oreilly.com/library/view/python-high-performance/9781787282896/6e5cc5c4-ad53-4657-b502-6630dd9efced.xhtml)"
      ],
      "id": "special-offense"
    },
    {
      "cell_type": "markdown",
      "metadata": {
        "id": "sporting-charter"
      },
      "source": [
        "#### Universal Functions (Ufuncs)"
      ],
      "id": "sporting-charter"
    },
    {
      "cell_type": "markdown",
      "metadata": {
        "id": "extra-survival"
      },
      "source": [
        "- Ufuncs are a core concept in NumPy for array-oriented computing.\n",
        "- A function with scalar inputs is broadcast across the elements of the input arrays:\n",
        "    - np.add([1, 2, 3], 5) = [6, 7, 8]\n",
        "- Parallelism is present, by construction. Numba will generate loops and can automatically multi-thread if requested.\n",
        "\n",
        "To know more about Numpy Ufuncs click [here](https://numpy.org/doc/stable/reference/ufuncs.html)"
      ],
      "id": "extra-survival"
    },
    {
      "cell_type": "code",
      "metadata": {
        "id": "stunning-length",
        "colab": {
          "base_uri": "https://localhost:8080/"
        },
        "outputId": "b3fdefb3-f709-4358-e985-216bf4ec9dcb"
      },
      "source": [
        "# Numpy ufuncs\n",
        "print(np.add(4, 5)) # Adding two numbers\n",
        "print(np.add([1, 4, 5], 6)) # Adding 6 to the elements in the list\n",
        "print(np.add(1, [3, 4])) # Adding 1 to the elements in the list\n",
        "print(np.add.accumulate([4, 5, 7, 2, 4])) # Accumulate the result of applying the operator to all elements."
      ],
      "id": "stunning-length",
      "execution_count": 33,
      "outputs": [
        {
          "output_type": "stream",
          "name": "stdout",
          "text": [
            "9\n",
            "[ 7 10 11]\n",
            "[4 5]\n",
            "[ 4  9 16 18 22]\n"
          ]
        }
      ]
    },
    {
      "cell_type": "code",
      "metadata": {
        "id": "destroyed-merit"
      },
      "source": [
        "# Numba ufuncs\n",
        "# Function to add two values\n",
        "@vectorize(\"(int64, int64)\")\n",
        "def add(x, y):\n",
        "    # adding the values\n",
        "    return x + y"
      ],
      "id": "destroyed-merit",
      "execution_count": 34,
      "outputs": []
    },
    {
      "cell_type": "code",
      "metadata": {
        "id": "fitting-founder",
        "colab": {
          "base_uri": "https://localhost:8080/"
        },
        "outputId": "cfe26ddb-8e7e-4046-c652-a57d9d4abcb7"
      },
      "source": [
        "print(add(4, 5)) # Adding two numbers\n",
        "print(add([1, 4, 5], 6)) # Adding 6 to the elements in the list\n",
        "print(add(1, [3, 4])) # Adding 1 to the elements in the list\n",
        "print(add.accumulate([4, 5, 7, 2, 4])) # Accumulate the result of applying the operator to all elements."
      ],
      "id": "fitting-founder",
      "execution_count": 35,
      "outputs": [
        {
          "output_type": "stream",
          "name": "stdout",
          "text": [
            "9\n",
            "[ 7 10 11]\n",
            "[4 5]\n",
            "[ 4  9 16 18 22]\n"
          ]
        }
      ]
    },
    {
      "cell_type": "markdown",
      "metadata": {
        "id": "previous-indie"
      },
      "source": [
        "To know more about vectorize decorator click [here](https://numba.pydata.org/numba-doc/dev/user/vectorize.html)"
      ],
      "id": "previous-indie"
    },
    {
      "cell_type": "markdown",
      "metadata": {
        "id": "confident-hacker"
      },
      "source": [
        "#### Research Question\n",
        "\n",
        "1. Write a code to approximate $\\pi$ by Monte Carlo and, compare speed with and without Numba when the sample size is large.\n",
        "\n",
        "    To know about $\\pi$ by Monte Carlo click [here](https://medium.com/cantors-paradise/estimating-%CF%80-using-monte-carlo-simulations-3459a84b5ef9)"
      ],
      "id": "confident-hacker"
    },
    {
      "cell_type": "markdown",
      "metadata": {
        "id": "VHfHdGCP_n6Y"
      },
      "source": [
        "### Please answer the questions below to complete the experiment:\n",
        "\n",
        "\n"
      ],
      "id": "VHfHdGCP_n6Y"
    },
    {
      "cell_type": "code",
      "metadata": {
        "id": "VgSwVENIPcM6"
      },
      "source": [
        "# @title Select the FALSE statement below: { run: \"auto\", form-width: \"500px\", display-mode: \"form\" }\n",
        "Answer = \"nopython=True compiles the decorated function so that it will run entirely with the involvement of the Python interpreter\" #@param [\"\",\"Just-in-time (JIT) compilation means compilation of a function at execution time, as opposed to compilation of a function in a separate step before running the program code\", \"nopython=True compiles the decorated function so that it will run entirely with the involvement of the Python interpreter\", \"Numba is a library that performs JIT compilation that translates pure python code to optimized machine code at runtime using the LLVM industry standard compiler\"]"
      ],
      "id": "VgSwVENIPcM6",
      "execution_count": 36,
      "outputs": []
    },
    {
      "cell_type": "code",
      "metadata": {
        "id": "NMzKSbLIgFzQ"
      },
      "source": [
        "#@title How was the experiment? { run: \"auto\", form-width: \"500px\", display-mode: \"form\" }\n",
        "Complexity = \"Good and Challenging for me\" #@param [\"\",\"Too Simple, I am wasting time\", \"Good, But Not Challenging for me\", \"Good and Challenging for me\", \"Was Tough, but I did it\", \"Too Difficult for me\"]\n"
      ],
      "id": "NMzKSbLIgFzQ",
      "execution_count": 37,
      "outputs": []
    },
    {
      "cell_type": "code",
      "metadata": {
        "id": "DjcH1VWSFI2l"
      },
      "source": [
        "#@title If it was too easy, what more would you have liked to be added? If it was very difficult, what would you have liked to have been removed? { run: \"auto\", display-mode: \"form\" }\n",
        "Additional = \"perfect exercise for practice\" #@param {type:\"string\"}\n"
      ],
      "id": "DjcH1VWSFI2l",
      "execution_count": 38,
      "outputs": []
    },
    {
      "cell_type": "code",
      "metadata": {
        "id": "4VBk_4VTAxCM"
      },
      "source": [
        "#@title Can you identify the concepts from the lecture which this experiment covered? { run: \"auto\", vertical-output: true, display-mode: \"form\" }\n",
        "Concepts = \"Yes\" #@param [\"\",\"Yes\", \"No\"]\n"
      ],
      "id": "4VBk_4VTAxCM",
      "execution_count": 39,
      "outputs": []
    },
    {
      "cell_type": "code",
      "metadata": {
        "id": "XH91cL1JWH7m"
      },
      "source": [
        "#@title  Text and image description/explanation and code comments within the experiment: { run: \"auto\", vertical-output: true, display-mode: \"form\" }\n",
        "Comments = \"Very Useful\" #@param [\"\",\"Very Useful\", \"Somewhat Useful\", \"Not Useful\", \"Didn't use\"]\n"
      ],
      "id": "XH91cL1JWH7m",
      "execution_count": 40,
      "outputs": []
    },
    {
      "cell_type": "code",
      "metadata": {
        "id": "z8xLqj7VWIKW"
      },
      "source": [
        "#@title Mentor Support: { run: \"auto\", vertical-output: true, display-mode: \"form\" }\n",
        "Mentor_support = \"Very Useful\" #@param [\"\",\"Very Useful\", \"Somewhat Useful\", \"Not Useful\", \"Didn't use\"]\n"
      ],
      "id": "z8xLqj7VWIKW",
      "execution_count": 41,
      "outputs": []
    },
    {
      "cell_type": "code",
      "metadata": {
        "id": "FzAZHt1zw-Y-",
        "cellView": "form",
        "colab": {
          "base_uri": "https://localhost:8080/"
        },
        "outputId": "65660a79-9bdb-46ab-e10b-b8218b50335d"
      },
      "source": [
        "#@title Run this cell to submit your notebook for grading { vertical-output: true }\n",
        "try:\n",
        "  if submission_id:\n",
        "      return_id = submit_notebook()\n",
        "      if return_id : submission_id = return_id\n",
        "  else:\n",
        "      print(\"Please complete the setup first.\")\n",
        "except NameError:\n",
        "  print (\"Please complete the setup first.\")"
      ],
      "id": "FzAZHt1zw-Y-",
      "execution_count": 42,
      "outputs": [
        {
          "output_type": "stream",
          "name": "stdout",
          "text": [
            "Your submission is successful.\n",
            "Ref Id: 4890\n",
            "Date of submission:  18 May 2023\n",
            "Time of submission:  21:10:04\n",
            "View your submissions: https://cds.iisc.talentsprint.com/notebook_submissions\n"
          ]
        }
      ]
    }
  ]
}